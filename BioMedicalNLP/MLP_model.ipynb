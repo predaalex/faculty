{
 "cells": [
  {
   "cell_type": "code",
   "id": "initial_id",
   "metadata": {
    "collapsed": true,
    "ExecuteTime": {
     "end_time": "2024-06-24T07:38:00.801819Z",
     "start_time": "2024-06-24T07:37:58.920248Z"
    }
   },
   "source": [
    "import pandas as pd\n",
    "import torch\n",
    "import re\n",
    "\n",
    "import tqdm\n",
    "from matplotlib import pyplot as plt\n",
    "from sklearn.metrics import classification_report, precision_recall_fscore_support, accuracy_score\n",
    "from torch import nn, device\n",
    "from torch.nn.utils.rnn import pad_sequence\n",
    "from torch.utils.data import Dataset, DataLoader"
   ],
   "outputs": [],
   "execution_count": 1
  },
  {
   "metadata": {
    "ExecuteTime": {
     "end_time": "2024-06-24T07:38:00.832206Z",
     "start_time": "2024-06-24T07:38:00.803339Z"
    }
   },
   "cell_type": "code",
   "source": "device = torch.device('cuda' if torch.cuda.is_available() else 'cpu')",
   "id": "51ed59b22ff6790a",
   "outputs": [],
   "execution_count": 2
  },
  {
   "metadata": {},
   "cell_type": "markdown",
   "source": "# Read + Preprocessing data",
   "id": "36d9f72ac4ade87"
  },
  {
   "metadata": {
    "ExecuteTime": {
     "end_time": "2024-06-24T07:38:00.894084Z",
     "start_time": "2024-06-24T07:38:00.833721Z"
    }
   },
   "cell_type": "code",
   "source": [
    "train_df = pd.read_csv(\"./dataset/train_health_content.csv\")\n",
    "test_df = pd.read_csv(\"./dataset/test_health_content.csv\")"
   ],
   "id": "e1c882aed03fe099",
   "outputs": [],
   "execution_count": 3
  },
  {
   "metadata": {
    "ExecuteTime": {
     "end_time": "2024-06-24T07:38:00.909327Z",
     "start_time": "2024-06-24T07:38:00.895124Z"
    }
   },
   "cell_type": "code",
   "source": "train_df",
   "id": "ac7a691cae38474",
   "outputs": [
    {
     "data": {
      "text/plain": [
       "                       id                                              title  \\\n",
       "0     story_reviews_01118  Acupuncture May Help Ease Hot Flashes Tied to ...   \n",
       "1     story_reviews_01350             Aspirin May Cut Prostate Cancer Deaths   \n",
       "2     story_reviews_00749  Folic acid in pregnancy tied to lower autism risk   \n",
       "3     story_reviews_01065  Sleeptime Head-Cooling Cap Eases Insomnia, Stu...   \n",
       "4      news_reviews_00469  Chrono Therapeutics' Smoking Cessation Technol...   \n",
       "...                   ...                                                ...   \n",
       "1337  story_reviews_00175  Immune-Focused Drug May Be New Weapon Against ...   \n",
       "1338  story_reviews_00467  The Benefits of Intensive Cardiac Rehabilitati...   \n",
       "1339  story_reviews_01529  Experimental flu treatment may help related virus   \n",
       "1340  story_reviews_00892    Bypass Surgery Edges Stents For Heart Treatment   \n",
       "1341  story_reviews_00023  Migraine patients can now try three new drugs ...   \n",
       "\n",
       "                                                   text  rating  label  \n",
       "0     En Español\\n\\nMONDAY, April 25, 2011 (HealthDa...       3      0  \n",
       "1     The findings were released at a news briefing ...       3      0  \n",
       "2     NEW YORK (Reuters Health) - Women who took ext...       4      0  \n",
       "3     By Jenifer Goodwin\\n\\nHealthDay Reporter\\n\\nTU...       4      0  \n",
       "4     CHICAGO, March 4, 2016 /PRNewswire/ -- Chrono ...       2      1  \n",
       "...                                                 ...     ...    ...  \n",
       "1337  En Español\\n\\nMONDAY, Sept. 11, 2017 (HealthDa...       4      0  \n",
       "1338  Despite considerable progress in prevention an...       3      0  \n",
       "1339  WASHINGTON (Reuters) - An experimental drug be...       3      0  \n",
       "1340  Bypass Surgery Edges Stents For Heart Treatmen...       4      0  \n",
       "1341  \"They have a lot of promise and are potentiall...       3      0  \n",
       "\n",
       "[1342 rows x 5 columns]"
      ],
      "text/html": [
       "<div>\n",
       "<style scoped>\n",
       "    .dataframe tbody tr th:only-of-type {\n",
       "        vertical-align: middle;\n",
       "    }\n",
       "\n",
       "    .dataframe tbody tr th {\n",
       "        vertical-align: top;\n",
       "    }\n",
       "\n",
       "    .dataframe thead th {\n",
       "        text-align: right;\n",
       "    }\n",
       "</style>\n",
       "<table border=\"1\" class=\"dataframe\">\n",
       "  <thead>\n",
       "    <tr style=\"text-align: right;\">\n",
       "      <th></th>\n",
       "      <th>id</th>\n",
       "      <th>title</th>\n",
       "      <th>text</th>\n",
       "      <th>rating</th>\n",
       "      <th>label</th>\n",
       "    </tr>\n",
       "  </thead>\n",
       "  <tbody>\n",
       "    <tr>\n",
       "      <th>0</th>\n",
       "      <td>story_reviews_01118</td>\n",
       "      <td>Acupuncture May Help Ease Hot Flashes Tied to ...</td>\n",
       "      <td>En Español\\n\\nMONDAY, April 25, 2011 (HealthDa...</td>\n",
       "      <td>3</td>\n",
       "      <td>0</td>\n",
       "    </tr>\n",
       "    <tr>\n",
       "      <th>1</th>\n",
       "      <td>story_reviews_01350</td>\n",
       "      <td>Aspirin May Cut Prostate Cancer Deaths</td>\n",
       "      <td>The findings were released at a news briefing ...</td>\n",
       "      <td>3</td>\n",
       "      <td>0</td>\n",
       "    </tr>\n",
       "    <tr>\n",
       "      <th>2</th>\n",
       "      <td>story_reviews_00749</td>\n",
       "      <td>Folic acid in pregnancy tied to lower autism risk</td>\n",
       "      <td>NEW YORK (Reuters Health) - Women who took ext...</td>\n",
       "      <td>4</td>\n",
       "      <td>0</td>\n",
       "    </tr>\n",
       "    <tr>\n",
       "      <th>3</th>\n",
       "      <td>story_reviews_01065</td>\n",
       "      <td>Sleeptime Head-Cooling Cap Eases Insomnia, Stu...</td>\n",
       "      <td>By Jenifer Goodwin\\n\\nHealthDay Reporter\\n\\nTU...</td>\n",
       "      <td>4</td>\n",
       "      <td>0</td>\n",
       "    </tr>\n",
       "    <tr>\n",
       "      <th>4</th>\n",
       "      <td>news_reviews_00469</td>\n",
       "      <td>Chrono Therapeutics' Smoking Cessation Technol...</td>\n",
       "      <td>CHICAGO, March 4, 2016 /PRNewswire/ -- Chrono ...</td>\n",
       "      <td>2</td>\n",
       "      <td>1</td>\n",
       "    </tr>\n",
       "    <tr>\n",
       "      <th>...</th>\n",
       "      <td>...</td>\n",
       "      <td>...</td>\n",
       "      <td>...</td>\n",
       "      <td>...</td>\n",
       "      <td>...</td>\n",
       "    </tr>\n",
       "    <tr>\n",
       "      <th>1337</th>\n",
       "      <td>story_reviews_00175</td>\n",
       "      <td>Immune-Focused Drug May Be New Weapon Against ...</td>\n",
       "      <td>En Español\\n\\nMONDAY, Sept. 11, 2017 (HealthDa...</td>\n",
       "      <td>4</td>\n",
       "      <td>0</td>\n",
       "    </tr>\n",
       "    <tr>\n",
       "      <th>1338</th>\n",
       "      <td>story_reviews_00467</td>\n",
       "      <td>The Benefits of Intensive Cardiac Rehabilitati...</td>\n",
       "      <td>Despite considerable progress in prevention an...</td>\n",
       "      <td>3</td>\n",
       "      <td>0</td>\n",
       "    </tr>\n",
       "    <tr>\n",
       "      <th>1339</th>\n",
       "      <td>story_reviews_01529</td>\n",
       "      <td>Experimental flu treatment may help related virus</td>\n",
       "      <td>WASHINGTON (Reuters) - An experimental drug be...</td>\n",
       "      <td>3</td>\n",
       "      <td>0</td>\n",
       "    </tr>\n",
       "    <tr>\n",
       "      <th>1340</th>\n",
       "      <td>story_reviews_00892</td>\n",
       "      <td>Bypass Surgery Edges Stents For Heart Treatment</td>\n",
       "      <td>Bypass Surgery Edges Stents For Heart Treatmen...</td>\n",
       "      <td>4</td>\n",
       "      <td>0</td>\n",
       "    </tr>\n",
       "    <tr>\n",
       "      <th>1341</th>\n",
       "      <td>story_reviews_00023</td>\n",
       "      <td>Migraine patients can now try three new drugs ...</td>\n",
       "      <td>\"They have a lot of promise and are potentiall...</td>\n",
       "      <td>3</td>\n",
       "      <td>0</td>\n",
       "    </tr>\n",
       "  </tbody>\n",
       "</table>\n",
       "<p>1342 rows × 5 columns</p>\n",
       "</div>"
      ]
     },
     "execution_count": 4,
     "metadata": {},
     "output_type": "execute_result"
    }
   ],
   "execution_count": 4
  },
  {
   "metadata": {
    "ExecuteTime": {
     "end_time": "2024-06-24T07:38:00.924595Z",
     "start_time": "2024-06-24T07:38:00.910378Z"
    }
   },
   "cell_type": "code",
   "source": [
    "train_df['input_text'] = train_df['title'] + \" \" + train_df['text']\n",
    "test_df['input_text'] = test_df['title'] + \" \" + test_df['text']"
   ],
   "id": "8803e438b865ab56",
   "outputs": [],
   "execution_count": 5
  },
  {
   "metadata": {
    "ExecuteTime": {
     "end_time": "2024-06-24T07:38:00.940295Z",
     "start_time": "2024-06-24T07:38:00.925601Z"
    }
   },
   "cell_type": "code",
   "source": [
    "def clean_text(text):\n",
    "    text = str(text)\n",
    "    text = text.lower()\n",
    "    text = re.sub(r'\\s+', ' ', text)  # Replace multiple spaces with a single space\n",
    "    text = re.sub(r'\\W', ' ', text)   # Remove special characters\n",
    "    text = re.sub(r'\\d+', '', text)   # Remove digits\n",
    "    text = text.strip()\n",
    "    return text"
   ],
   "id": "ccc33cdee0a8a253",
   "outputs": [],
   "execution_count": 6
  },
  {
   "metadata": {
    "ExecuteTime": {
     "end_time": "2024-06-24T07:38:01.540861Z",
     "start_time": "2024-06-24T07:38:00.941343Z"
    }
   },
   "cell_type": "code",
   "source": [
    "train_df['input_text'] = train_df['input_text'].apply(clean_text)\n",
    "test_df['input_text'] = test_df['input_text'].apply(clean_text)"
   ],
   "id": "2321c58266994435",
   "outputs": [],
   "execution_count": 7
  },
  {
   "metadata": {},
   "cell_type": "markdown",
   "source": "# Build vocab",
   "id": "28683a41fe185338"
  },
  {
   "metadata": {
    "ExecuteTime": {
     "end_time": "2024-06-24T07:38:01.665058Z",
     "start_time": "2024-06-24T07:38:01.542315Z"
    }
   },
   "cell_type": "code",
   "source": [
    "unique_train_labels = train_df['label'].unique()\n",
    "class_to_int =  {label: i for i, label in enumerate(unique_train_labels)}\n",
    "int_to_class = {i: label for label, i in class_to_int.items()}\n",
    "train_tokens_to_indices_vocab = {\"<pad>\": 0, \"<ukn>\": 1}\n",
    "\n",
    "idx = 2\n",
    "for text, label in zip(train_df['input_text'], train_df['label']):\n",
    "    tokenized_text = text.split(\" \")\n",
    "    for token in tokenized_text:\n",
    "        if token not in train_tokens_to_indices_vocab:\n",
    "            train_tokens_to_indices_vocab[token] = idx\n",
    "            idx += 1\n",
    "\n",
    "train_indices_to_tokens_vocab = {idx: token for token, idx in train_tokens_to_indices_vocab.items()}\n",
    "print(len(train_tokens_to_indices_vocab))\n",
    "print(list(train_tokens_to_indices_vocab.items())[:10])"
   ],
   "id": "44a000fc5556bc73",
   "outputs": [
    {
     "name": "stdout",
     "output_type": "stream",
     "text": [
      "26683\n",
      "[('<pad>', 0), ('<ukn>', 1), ('acupuncture', 2), ('may', 3), ('help', 4), ('ease', 5), ('hot', 6), ('flashes', 7), ('tied', 8), ('to', 9)]\n"
     ]
    }
   ],
   "execution_count": 8
  },
  {
   "metadata": {
    "ExecuteTime": {
     "end_time": "2024-06-24T07:38:01.680292Z",
     "start_time": "2024-06-24T07:38:01.666096Z"
    }
   },
   "cell_type": "code",
   "source": [
    "class InputTextDataset(Dataset):\n",
    "    def __init__(self, dataframe):\n",
    "        self.X = dataframe['input_text']\n",
    "        self.y = dataframe['label']\n",
    "    \n",
    "    def __len__(self):\n",
    "        return len(self.X)\n",
    "    \n",
    "    def __getitem__(self, idx):\n",
    "        return self.X[idx], self.y[idx]"
   ],
   "id": "f0910d9c3bd11321",
   "outputs": [],
   "execution_count": 9
  },
  {
   "metadata": {
    "ExecuteTime": {
     "end_time": "2024-06-24T07:38:01.696021Z",
     "start_time": "2024-06-24T07:38:01.681336Z"
    }
   },
   "cell_type": "code",
   "source": [
    "def collate_fn_with_dict(token_vocab, label_vocab, unique_train_labels):\n",
    "    def collate_fn(batch):\n",
    "        inputs, labels = zip(*batch)\n",
    "        \n",
    "        tokens_indices = []\n",
    "        labels_indices = []\n",
    "        for tokens, label in zip(inputs, labels):\n",
    "            if label not in unique_train_labels:\n",
    "                continue\n",
    "            label_indice = label_vocab[label]\n",
    "            \n",
    "            tokens_indices_aux = []\n",
    "            \n",
    "            for token in tokens:\n",
    "                if token in token_vocab:\n",
    "                    tokens_indices_aux.append(token_vocab[token])\n",
    "                else:\n",
    "                    tokens_indices_aux.append(token_vocab['<ukn>'])\n",
    "            \n",
    "            indices = torch.tensor(tokens_indices_aux, dtype=torch.long)\n",
    "            \n",
    "            tokens_indices.append(indices)\n",
    "            labels_indices.append(label_indice)\n",
    "            \n",
    "        tokens_indices = pad_sequence(tokens_indices, batch_first=True, padding_value=token_vocab['<pad>'])\n",
    "        labels_indices = torch.tensor(labels_indices)\n",
    "        \n",
    "        return tokens_indices, labels_indices\n",
    "    return collate_fn\n",
    "\n",
    "collate_fn = collate_fn_with_dict(train_tokens_to_indices_vocab, class_to_int, unique_train_labels)"
   ],
   "id": "30fde4f402472689",
   "outputs": [],
   "execution_count": 10
  },
  {
   "metadata": {
    "ExecuteTime": {
     "end_time": "2024-06-24T07:38:01.711260Z",
     "start_time": "2024-06-24T07:38:01.697057Z"
    }
   },
   "cell_type": "code",
   "source": [
    "train_dataset = InputTextDataset(train_df)\n",
    "train_dataloader = DataLoader(train_dataset, batch_size=8, shuffle=True, collate_fn=collate_fn)\n",
    "\n",
    "test_dataset = InputTextDataset(test_df)\n",
    "test_dataloader = DataLoader(test_dataset, batch_size=8, collate_fn=collate_fn)"
   ],
   "id": "b1f08c5a227a116d",
   "outputs": [],
   "execution_count": 11
  },
  {
   "metadata": {
    "ExecuteTime": {
     "end_time": "2024-06-24T07:38:01.726982Z",
     "start_time": "2024-06-24T07:38:01.712321Z"
    }
   },
   "cell_type": "code",
   "source": [
    "print(f\"Train dataset size: {train_dataset.X.shape}\")\n",
    "print(f\"Test dataset size: {test_dataset.X.shape}\")"
   ],
   "id": "9777e457099c348f",
   "outputs": [
    {
     "name": "stdout",
     "output_type": "stream",
     "text": [
      "Train dataset size: (1342,)\n",
      "Test dataset size: (448,)\n"
     ]
    }
   ],
   "execution_count": 12
  },
  {
   "metadata": {},
   "cell_type": "markdown",
   "source": "# Model Arhitecture:  MLP (embedding + 2 linear layares)",
   "id": "27256d40f6e187b7"
  },
  {
   "metadata": {
    "ExecuteTime": {
     "end_time": "2024-06-24T07:38:01.742312Z",
     "start_time": "2024-06-24T07:38:01.728023Z"
    }
   },
   "cell_type": "code",
   "source": [
    "class Model(nn.Module):\n",
    "    def __init__(self, vocab_size, embedding_dim, hidden_dim, output_dim):\n",
    "        super(Model, self).__init__()\n",
    "        self.embedding = nn.Embedding(vocab_size, embedding_dim, padding_idx=train_tokens_to_indices_vocab['<pad>'])\n",
    "        self.fc1 = nn.Linear(embedding_dim, hidden_dim, bias=True)\n",
    "        self.relu = nn.ReLU()\n",
    "        self.fc2 = nn.Linear(hidden_dim, output_dim, bias=True)\n",
    "    \n",
    "    def forward(self, x):\n",
    "        embedding = self.embedding(x)\n",
    "        embedding = torch.sum(embedding, dim=1)\n",
    "        output = self.fc1(embedding)\n",
    "        output = self.relu(output)\n",
    "        output = self.fc2(output)\n",
    "        return output"
   ],
   "id": "908947636897afa7",
   "outputs": [],
   "execution_count": 13
  },
  {
   "metadata": {
    "ExecuteTime": {
     "end_time": "2024-06-24T07:38:01.757499Z",
     "start_time": "2024-06-24T07:38:01.744330Z"
    }
   },
   "cell_type": "code",
   "source": [
    "def test(model, test_loader, criterior, test_fn=False):\n",
    "    model.eval()\n",
    "    running_loss = 0.0\n",
    "    \n",
    "    all_labels = []\n",
    "    all_preds = []\n",
    "    \n",
    "    with torch.no_grad():\n",
    "        for inputs, labels in test_loader:\n",
    "            inputs, labels = inputs.to(device), labels.to(device)\n",
    "            \n",
    "            outputs = model(inputs)\n",
    "            loss = criterior(outputs, labels)\n",
    "            running_loss += loss.item()\n",
    "            \n",
    "            _, predicted = torch.max(outputs, 1)\n",
    "            \n",
    "            all_labels.extend(labels.cpu().numpy())\n",
    "            all_preds.extend(predicted.cpu().numpy())\n",
    "            \n",
    "    test_loss = running_loss / len(test_loader)\n",
    "    \n",
    "    if test_fn:\n",
    "        print(classification_report(all_labels, all_preds, zero_division=0))\n",
    "        test_accuracy = accuracy_score(all_labels, all_preds)\n",
    "        test_precision, test_recall, test_f1, _ = precision_recall_fscore_support(all_labels, all_preds, average='binary')\n",
    "\n",
    "        print(f\"Test Accuracy: {test_accuracy}\")\n",
    "        print(f\"Test Precision: {test_precision}\")\n",
    "        print(f\"Test Recall: {test_recall}\")\n",
    "        print(f\"Test F1: {test_f1}\")\n",
    "    \n",
    "    return test_loss"
   ],
   "id": "eddf761e40aba669",
   "outputs": [],
   "execution_count": 14
  },
  {
   "metadata": {
    "ExecuteTime": {
     "end_time": "2024-06-24T07:38:01.773303Z",
     "start_time": "2024-06-24T07:38:01.758551Z"
    }
   },
   "cell_type": "code",
   "source": [
    "def train(model, train_dataloader, test_dataloader, criterion, optimizer, num_epochs):\n",
    "    best_train_loss = float(\"inf\")\n",
    "    best_model = model\n",
    "    for epoch in tqdm.tqdm(range(num_epochs)):\n",
    "        model.train()\n",
    "        running_loss = 0.0\n",
    "        \n",
    "        for inputs, labels in train_dataloader:\n",
    "            inputs, labels = inputs.to(device), labels.to(device)\n",
    "            \n",
    "            optimizer.zero_grad()\n",
    "            outputs = model(inputs)\n",
    "            loss = criterion(outputs, labels)\n",
    "            loss.backward()\n",
    "            optimizer.step()\n",
    "            running_loss += loss.item()\n",
    "        \n",
    "        train_loss = running_loss / len(train_dataloader)\n",
    "        test_loss = test(model, test_dataloader, criterion)\n",
    "        \n",
    "        train_losses.append(train_loss)\n",
    "        test_losses.append(test_loss)\n",
    "        \n",
    "        print(f\"Epoch {epoch + 1}/{num_epochs},\"\n",
    "              f\"train_loss {train_loss:.4f},\"\n",
    "              f\"test_loss {test_loss:.4f}\")\n",
    "        \n",
    "        if train_loss < best_train_loss:\n",
    "            best_train_loss = train_loss\n",
    "            best_model = model\n",
    "            torch.save(best_model.state_dict(), \"./models/best_MLP_model.pt\")\n",
    "            print(\"Best model saved\")\n",
    "            \n",
    "    print(\"Training finished\")"
   ],
   "id": "2e4d1d75263f5e75",
   "outputs": [],
   "execution_count": 15
  },
  {
   "metadata": {
    "ExecuteTime": {
     "end_time": "2024-06-24T06:57:04.374095Z",
     "start_time": "2024-06-24T06:57:04.344295Z"
    }
   },
   "cell_type": "code",
   "source": [
    "train_losses = []\n",
    "test_losses = []\n",
    "\n",
    "nr_classes = len(class_to_int)\n",
    "vocab_size = len(train_tokens_to_indices_vocab)\n",
    "embedding_dim = 128\n",
    "hidden_dim = 64\n",
    "output_dim = nr_classes\n",
    "\n",
    "model = Model(vocab_size, embedding_dim, hidden_dim, output_dim)\n",
    "criterion = nn.CrossEntropyLoss()\n",
    "optimizer = torch.optim.Adam(model.parameters(), lr=5e-5)\n",
    "\n",
    "model.to(device)"
   ],
   "id": "ce5bd6d1b95b02da",
   "outputs": [
    {
     "data": {
      "text/plain": [
       "Model(\n",
       "  (embedding): Embedding(26683, 128, padding_idx=0)\n",
       "  (fc1): Linear(in_features=128, out_features=64, bias=True)\n",
       "  (relu): ReLU()\n",
       "  (fc2): Linear(in_features=64, out_features=2, bias=True)\n",
       ")"
      ]
     },
     "execution_count": 198,
     "metadata": {},
     "output_type": "execute_result"
    }
   ],
   "execution_count": 198
  },
  {
   "metadata": {
    "ExecuteTime": {
     "end_time": "2024-06-24T06:58:08.540054Z",
     "start_time": "2024-06-24T06:57:04.375126Z"
    }
   },
   "cell_type": "code",
   "source": "train(model, train_dataloader, test_dataloader, criterion, optimizer, num_epochs=50)",
   "id": "4c8c381097d34dff",
   "outputs": [
    {
     "name": "stderr",
     "output_type": "stream",
     "text": [
      "  2%|▏         | 1/50 [00:01<01:05,  1.33s/it]"
     ]
    },
    {
     "name": "stdout",
     "output_type": "stream",
     "text": [
      "Epoch 1/50,train_loss 44.5149,test_loss 10.8078\n",
      "Best model saved\n"
     ]
    },
    {
     "name": "stderr",
     "output_type": "stream",
     "text": [
      "  4%|▍         | 2/50 [00:02<01:02,  1.30s/it]"
     ]
    },
    {
     "name": "stdout",
     "output_type": "stream",
     "text": [
      "Epoch 2/50,train_loss 11.6344,test_loss 9.3375\n",
      "Best model saved\n"
     ]
    },
    {
     "name": "stderr",
     "output_type": "stream",
     "text": [
      "  6%|▌         | 3/50 [00:03<01:00,  1.28s/it]"
     ]
    },
    {
     "name": "stdout",
     "output_type": "stream",
     "text": [
      "Epoch 3/50,train_loss 10.1703,test_loss 8.2548\n",
      "Best model saved\n"
     ]
    },
    {
     "name": "stderr",
     "output_type": "stream",
     "text": [
      "  8%|▊         | 4/50 [00:05<00:59,  1.29s/it]"
     ]
    },
    {
     "name": "stdout",
     "output_type": "stream",
     "text": [
      "Epoch 4/50,train_loss 8.8958,test_loss 7.8339\n",
      "Best model saved\n"
     ]
    },
    {
     "name": "stderr",
     "output_type": "stream",
     "text": [
      " 10%|█         | 5/50 [00:06<00:57,  1.28s/it]"
     ]
    },
    {
     "name": "stdout",
     "output_type": "stream",
     "text": [
      "Epoch 5/50,train_loss 8.1918,test_loss 8.5480\n",
      "Best model saved\n"
     ]
    },
    {
     "name": "stderr",
     "output_type": "stream",
     "text": [
      " 12%|█▏        | 6/50 [00:07<00:56,  1.28s/it]"
     ]
    },
    {
     "name": "stdout",
     "output_type": "stream",
     "text": [
      "Epoch 6/50,train_loss 7.9636,test_loss 6.2183\n",
      "Best model saved\n"
     ]
    },
    {
     "name": "stderr",
     "output_type": "stream",
     "text": [
      " 14%|█▍        | 7/50 [00:08<00:54,  1.28s/it]"
     ]
    },
    {
     "name": "stdout",
     "output_type": "stream",
     "text": [
      "Epoch 7/50,train_loss 7.0025,test_loss 6.1030\n",
      "Best model saved\n"
     ]
    },
    {
     "name": "stderr",
     "output_type": "stream",
     "text": [
      " 16%|█▌        | 8/50 [00:10<00:53,  1.27s/it]"
     ]
    },
    {
     "name": "stdout",
     "output_type": "stream",
     "text": [
      "Epoch 8/50,train_loss 6.8379,test_loss 5.1137\n",
      "Best model saved\n"
     ]
    },
    {
     "name": "stderr",
     "output_type": "stream",
     "text": [
      " 18%|█▊        | 9/50 [00:11<00:52,  1.27s/it]"
     ]
    },
    {
     "name": "stdout",
     "output_type": "stream",
     "text": [
      "Epoch 9/50,train_loss 5.7970,test_loss 6.5984\n",
      "Best model saved\n"
     ]
    },
    {
     "name": "stderr",
     "output_type": "stream",
     "text": [
      " 20%|██        | 10/50 [00:12<00:50,  1.27s/it]"
     ]
    },
    {
     "name": "stdout",
     "output_type": "stream",
     "text": [
      "Epoch 10/50,train_loss 6.0715,test_loss 5.6072\n"
     ]
    },
    {
     "name": "stderr",
     "output_type": "stream",
     "text": [
      " 22%|██▏       | 11/50 [00:14<00:49,  1.28s/it]"
     ]
    },
    {
     "name": "stdout",
     "output_type": "stream",
     "text": [
      "Epoch 11/50,train_loss 5.7285,test_loss 4.1223\n",
      "Best model saved\n"
     ]
    },
    {
     "name": "stderr",
     "output_type": "stream",
     "text": [
      " 24%|██▍       | 12/50 [00:15<00:48,  1.28s/it]"
     ]
    },
    {
     "name": "stdout",
     "output_type": "stream",
     "text": [
      "Epoch 12/50,train_loss 5.2701,test_loss 3.8760\n",
      "Best model saved\n"
     ]
    },
    {
     "name": "stderr",
     "output_type": "stream",
     "text": [
      " 26%|██▌       | 13/50 [00:16<00:47,  1.27s/it]"
     ]
    },
    {
     "name": "stdout",
     "output_type": "stream",
     "text": [
      "Epoch 13/50,train_loss 5.5749,test_loss 3.3699\n"
     ]
    },
    {
     "name": "stderr",
     "output_type": "stream",
     "text": [
      " 28%|██▊       | 14/50 [00:17<00:45,  1.27s/it]"
     ]
    },
    {
     "name": "stdout",
     "output_type": "stream",
     "text": [
      "Epoch 14/50,train_loss 4.9221,test_loss 4.5837\n",
      "Best model saved\n"
     ]
    },
    {
     "name": "stderr",
     "output_type": "stream",
     "text": [
      " 30%|███       | 15/50 [00:19<00:44,  1.28s/it]"
     ]
    },
    {
     "name": "stdout",
     "output_type": "stream",
     "text": [
      "Epoch 15/50,train_loss 5.0283,test_loss 2.7377\n"
     ]
    },
    {
     "name": "stderr",
     "output_type": "stream",
     "text": [
      " 32%|███▏      | 16/50 [00:20<00:43,  1.28s/it]"
     ]
    },
    {
     "name": "stdout",
     "output_type": "stream",
     "text": [
      "Epoch 16/50,train_loss 3.6086,test_loss 6.8764\n",
      "Best model saved\n"
     ]
    },
    {
     "name": "stderr",
     "output_type": "stream",
     "text": [
      " 34%|███▍      | 17/50 [00:21<00:42,  1.27s/it]"
     ]
    },
    {
     "name": "stdout",
     "output_type": "stream",
     "text": [
      "Epoch 17/50,train_loss 4.9069,test_loss 3.2882\n"
     ]
    },
    {
     "name": "stderr",
     "output_type": "stream",
     "text": [
      " 36%|███▌      | 18/50 [00:23<00:41,  1.28s/it]"
     ]
    },
    {
     "name": "stdout",
     "output_type": "stream",
     "text": [
      "Epoch 18/50,train_loss 3.2087,test_loss 4.4787\n",
      "Best model saved\n"
     ]
    },
    {
     "name": "stderr",
     "output_type": "stream",
     "text": [
      " 38%|███▊      | 19/50 [00:24<00:39,  1.29s/it]"
     ]
    },
    {
     "name": "stdout",
     "output_type": "stream",
     "text": [
      "Epoch 19/50,train_loss 3.0138,test_loss 4.4773\n",
      "Best model saved\n"
     ]
    },
    {
     "name": "stderr",
     "output_type": "stream",
     "text": [
      " 40%|████      | 20/50 [00:25<00:38,  1.28s/it]"
     ]
    },
    {
     "name": "stdout",
     "output_type": "stream",
     "text": [
      "Epoch 20/50,train_loss 3.2168,test_loss 2.9066\n"
     ]
    },
    {
     "name": "stderr",
     "output_type": "stream",
     "text": [
      " 42%|████▏     | 21/50 [00:26<00:36,  1.27s/it]"
     ]
    },
    {
     "name": "stdout",
     "output_type": "stream",
     "text": [
      "Epoch 21/50,train_loss 2.2507,test_loss 3.1394\n",
      "Best model saved\n"
     ]
    },
    {
     "name": "stderr",
     "output_type": "stream",
     "text": [
      " 44%|████▍     | 22/50 [00:28<00:35,  1.27s/it]"
     ]
    },
    {
     "name": "stdout",
     "output_type": "stream",
     "text": [
      "Epoch 22/50,train_loss 2.5089,test_loss 7.8724\n"
     ]
    },
    {
     "name": "stderr",
     "output_type": "stream",
     "text": [
      " 46%|████▌     | 23/50 [00:29<00:34,  1.26s/it]"
     ]
    },
    {
     "name": "stdout",
     "output_type": "stream",
     "text": [
      "Epoch 23/50,train_loss 2.9721,test_loss 2.2594\n"
     ]
    },
    {
     "name": "stderr",
     "output_type": "stream",
     "text": [
      " 48%|████▊     | 24/50 [00:30<00:32,  1.27s/it]"
     ]
    },
    {
     "name": "stdout",
     "output_type": "stream",
     "text": [
      "Epoch 24/50,train_loss 2.5334,test_loss 4.6464\n"
     ]
    },
    {
     "name": "stderr",
     "output_type": "stream",
     "text": [
      " 50%|█████     | 25/50 [00:31<00:31,  1.26s/it]"
     ]
    },
    {
     "name": "stdout",
     "output_type": "stream",
     "text": [
      "Epoch 25/50,train_loss 2.0776,test_loss 1.6629\n",
      "Best model saved\n"
     ]
    },
    {
     "name": "stderr",
     "output_type": "stream",
     "text": [
      " 52%|█████▏    | 26/50 [00:33<00:30,  1.28s/it]"
     ]
    },
    {
     "name": "stdout",
     "output_type": "stream",
     "text": [
      "Epoch 26/50,train_loss 2.7249,test_loss 1.9881\n"
     ]
    },
    {
     "name": "stderr",
     "output_type": "stream",
     "text": [
      " 54%|█████▍    | 27/50 [00:34<00:29,  1.27s/it]"
     ]
    },
    {
     "name": "stdout",
     "output_type": "stream",
     "text": [
      "Epoch 27/50,train_loss 1.8369,test_loss 1.5772\n",
      "Best model saved\n"
     ]
    },
    {
     "name": "stderr",
     "output_type": "stream",
     "text": [
      " 56%|█████▌    | 28/50 [00:35<00:27,  1.27s/it]"
     ]
    },
    {
     "name": "stdout",
     "output_type": "stream",
     "text": [
      "Epoch 28/50,train_loss 1.6135,test_loss 2.2084\n",
      "Best model saved\n"
     ]
    },
    {
     "name": "stderr",
     "output_type": "stream",
     "text": [
      " 58%|█████▊    | 29/50 [00:37<00:28,  1.35s/it]"
     ]
    },
    {
     "name": "stdout",
     "output_type": "stream",
     "text": [
      "Epoch 29/50,train_loss 2.2558,test_loss 4.2363\n"
     ]
    },
    {
     "name": "stderr",
     "output_type": "stream",
     "text": [
      " 60%|██████    | 30/50 [00:38<00:26,  1.33s/it]"
     ]
    },
    {
     "name": "stdout",
     "output_type": "stream",
     "text": [
      "Epoch 30/50,train_loss 2.4832,test_loss 4.2341\n"
     ]
    },
    {
     "name": "stderr",
     "output_type": "stream",
     "text": [
      " 62%|██████▏   | 31/50 [00:39<00:24,  1.30s/it]"
     ]
    },
    {
     "name": "stdout",
     "output_type": "stream",
     "text": [
      "Epoch 31/50,train_loss 2.1567,test_loss 2.3580\n"
     ]
    },
    {
     "name": "stderr",
     "output_type": "stream",
     "text": [
      " 64%|██████▍   | 32/50 [00:41<00:23,  1.28s/it]"
     ]
    },
    {
     "name": "stdout",
     "output_type": "stream",
     "text": [
      "Epoch 32/50,train_loss 1.9581,test_loss 1.5191\n"
     ]
    },
    {
     "name": "stderr",
     "output_type": "stream",
     "text": [
      " 66%|██████▌   | 33/50 [00:42<00:21,  1.27s/it]"
     ]
    },
    {
     "name": "stdout",
     "output_type": "stream",
     "text": [
      "Epoch 33/50,train_loss 1.6634,test_loss 3.1889\n"
     ]
    },
    {
     "name": "stderr",
     "output_type": "stream",
     "text": [
      " 68%|██████▊   | 34/50 [00:43<00:20,  1.27s/it]"
     ]
    },
    {
     "name": "stdout",
     "output_type": "stream",
     "text": [
      "Epoch 34/50,train_loss 2.1171,test_loss 1.0823\n"
     ]
    },
    {
     "name": "stderr",
     "output_type": "stream",
     "text": [
      " 70%|███████   | 35/50 [00:44<00:18,  1.26s/it]"
     ]
    },
    {
     "name": "stdout",
     "output_type": "stream",
     "text": [
      "Epoch 35/50,train_loss 1.7114,test_loss 1.9478\n"
     ]
    },
    {
     "name": "stderr",
     "output_type": "stream",
     "text": [
      " 72%|███████▏  | 36/50 [00:45<00:17,  1.24s/it]"
     ]
    },
    {
     "name": "stdout",
     "output_type": "stream",
     "text": [
      "Epoch 36/50,train_loss 2.0531,test_loss 1.1667\n"
     ]
    },
    {
     "name": "stderr",
     "output_type": "stream",
     "text": [
      " 74%|███████▍  | 37/50 [00:47<00:16,  1.26s/it]"
     ]
    },
    {
     "name": "stdout",
     "output_type": "stream",
     "text": [
      "Epoch 37/50,train_loss 1.5607,test_loss 1.0537\n",
      "Best model saved\n"
     ]
    },
    {
     "name": "stderr",
     "output_type": "stream",
     "text": [
      " 76%|███████▌  | 38/50 [00:48<00:15,  1.27s/it]"
     ]
    },
    {
     "name": "stdout",
     "output_type": "stream",
     "text": [
      "Epoch 38/50,train_loss 1.6578,test_loss 1.0095\n"
     ]
    },
    {
     "name": "stderr",
     "output_type": "stream",
     "text": [
      " 78%|███████▊  | 39/50 [00:49<00:13,  1.27s/it]"
     ]
    },
    {
     "name": "stdout",
     "output_type": "stream",
     "text": [
      "Epoch 39/50,train_loss 1.7829,test_loss 1.6147\n"
     ]
    },
    {
     "name": "stderr",
     "output_type": "stream",
     "text": [
      " 80%|████████  | 40/50 [00:51<00:12,  1.27s/it]"
     ]
    },
    {
     "name": "stdout",
     "output_type": "stream",
     "text": [
      "Epoch 40/50,train_loss 2.1938,test_loss 5.1060\n"
     ]
    },
    {
     "name": "stderr",
     "output_type": "stream",
     "text": [
      " 82%|████████▏ | 41/50 [00:52<00:11,  1.28s/it]"
     ]
    },
    {
     "name": "stdout",
     "output_type": "stream",
     "text": [
      "Epoch 41/50,train_loss 2.0409,test_loss 1.2291\n"
     ]
    },
    {
     "name": "stderr",
     "output_type": "stream",
     "text": [
      " 84%|████████▍ | 42/50 [00:53<00:10,  1.27s/it]"
     ]
    },
    {
     "name": "stdout",
     "output_type": "stream",
     "text": [
      "Epoch 42/50,train_loss 2.1600,test_loss 1.4967\n"
     ]
    },
    {
     "name": "stderr",
     "output_type": "stream",
     "text": [
      " 86%|████████▌ | 43/50 [00:54<00:09,  1.29s/it]"
     ]
    },
    {
     "name": "stdout",
     "output_type": "stream",
     "text": [
      "Epoch 43/50,train_loss 2.2649,test_loss 3.6287\n"
     ]
    },
    {
     "name": "stderr",
     "output_type": "stream",
     "text": [
      " 88%|████████▊ | 44/50 [00:56<00:07,  1.30s/it]"
     ]
    },
    {
     "name": "stdout",
     "output_type": "stream",
     "text": [
      "Epoch 44/50,train_loss 1.4511,test_loss 1.6872\n",
      "Best model saved\n"
     ]
    },
    {
     "name": "stderr",
     "output_type": "stream",
     "text": [
      " 90%|█████████ | 45/50 [00:57<00:06,  1.32s/it]"
     ]
    },
    {
     "name": "stdout",
     "output_type": "stream",
     "text": [
      "Epoch 45/50,train_loss 1.5440,test_loss 2.8068\n"
     ]
    },
    {
     "name": "stderr",
     "output_type": "stream",
     "text": [
      " 92%|█████████▏| 46/50 [00:58<00:05,  1.32s/it]"
     ]
    },
    {
     "name": "stdout",
     "output_type": "stream",
     "text": [
      "Epoch 46/50,train_loss 2.1705,test_loss 0.9253\n"
     ]
    },
    {
     "name": "stderr",
     "output_type": "stream",
     "text": [
      " 94%|█████████▍| 47/50 [01:00<00:03,  1.32s/it]"
     ]
    },
    {
     "name": "stdout",
     "output_type": "stream",
     "text": [
      "Epoch 47/50,train_loss 1.7373,test_loss 3.3536\n"
     ]
    },
    {
     "name": "stderr",
     "output_type": "stream",
     "text": [
      " 96%|█████████▌| 48/50 [01:01<00:02,  1.31s/it]"
     ]
    },
    {
     "name": "stdout",
     "output_type": "stream",
     "text": [
      "Epoch 48/50,train_loss 2.1025,test_loss 2.2900\n"
     ]
    },
    {
     "name": "stderr",
     "output_type": "stream",
     "text": [
      " 98%|█████████▊| 49/50 [01:02<00:01,  1.30s/it]"
     ]
    },
    {
     "name": "stdout",
     "output_type": "stream",
     "text": [
      "Epoch 49/50,train_loss 1.5772,test_loss 1.4558\n"
     ]
    },
    {
     "name": "stderr",
     "output_type": "stream",
     "text": [
      "100%|██████████| 50/50 [01:04<00:00,  1.28s/it]"
     ]
    },
    {
     "name": "stdout",
     "output_type": "stream",
     "text": [
      "Epoch 50/50,train_loss 1.2368,test_loss 1.0064\n",
      "Best model saved\n",
      "Training finished\n"
     ]
    },
    {
     "name": "stderr",
     "output_type": "stream",
     "text": [
      "\n"
     ]
    }
   ],
   "execution_count": 199
  },
  {
   "metadata": {
    "ExecuteTime": {
     "end_time": "2024-06-24T06:58:54.421827Z",
     "start_time": "2024-06-24T06:58:54.124286Z"
    }
   },
   "cell_type": "code",
   "source": "test(model, test_dataloader, criterion, test_fn=True)",
   "id": "49a07c7dab61af6b",
   "outputs": [
    {
     "name": "stdout",
     "output_type": "stream",
     "text": [
      "              precision    recall  f1-score   support\n",
      "\n",
      "           0       0.68      0.91      0.78       299\n",
      "           1       0.46      0.15      0.22       149\n",
      "\n",
      "    accuracy                           0.66       448\n",
      "   macro avg       0.57      0.53      0.50       448\n",
      "weighted avg       0.61      0.66      0.60       448\n",
      "\n",
      "Test Accuracy: 0.6584821428571429\n",
      "Test Precision: 0.4583333333333333\n",
      "Test Recall: 0.1476510067114094\n",
      "Test F1: 0.2233502538071066\n"
     ]
    },
    {
     "data": {
      "text/plain": [
       "1.0064231898369533"
      ]
     },
     "execution_count": 202,
     "metadata": {},
     "output_type": "execute_result"
    }
   ],
   "execution_count": 202
  },
  {
   "metadata": {
    "ExecuteTime": {
     "end_time": "2024-06-24T07:01:48.926168Z",
     "start_time": "2024-06-24T07:01:48.810671Z"
    }
   },
   "cell_type": "code",
   "source": [
    "def plot_losses(train_losses, test_losses):\n",
    "    epochs = range(1, len(train_losses) + 1)\n",
    "    plt.plot(epochs, train_losses, label='Training Loss', color='Red')\n",
    "    plt.plot(epochs, test_losses, label='Testing Loss', color='Blue')\n",
    "    plt.xlabel(\"Epochs\")\n",
    "    plt.ylabel(\"Loss\")\n",
    "    plt.title(\"Training and testing loss over epochs\")\n",
    "    plt.legend()\n",
    "    plt.grid()\n",
    "    plt.show()\n",
    "\n",
    "\n",
    "plot_losses(train_losses, test_losses)"
   ],
   "id": "b7dda9775c69c883",
   "outputs": [
    {
     "data": {
      "text/plain": [
       "<Figure size 640x480 with 1 Axes>"
      ],
      "image/png": "[encoded data removed]"
     },
     "metadata": {},
     "output_type": "display_data"
    }
   ],
   "execution_count": 204
  }
 ],
 "metadata": {
  "kernelspec": {
   "display_name": "Python 3",
   "language": "python",
   "name": "python3"
  },
  "language_info": {
   "codemirror_mode": {
    "name": "ipython",
    "version": 2
   },
   "file_extension": ".py",
   "mimetype": "text/x-python",
   "name": "python",
   "nbconvert_exporter": "python",
   "pygments_lexer": "ipython2",
   "version": "2.7.6"
  }
 },
 "nbformat": 4,
 "nbformat_minor": 5
}
