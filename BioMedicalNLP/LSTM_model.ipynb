{
 "cells": [
  {
   "cell_type": "code",
   "id": "initial_id",
   "metadata": {
    "collapsed": true,
    "ExecuteTime": {
     "end_time": "2024-06-25T11:35:20.321847Z",
     "start_time": "2024-06-25T11:35:20.314794Z"
    }
   },
   "source": [
    "import pandas as pd\n",
    "import torch\n",
    "import re\n",
    "\n",
    "import tqdm\n",
    "from matplotlib import pyplot as plt\n",
    "from sklearn.metrics import classification_report, precision_recall_fscore_support, accuracy_score\n",
    "from torch import nn, device\n",
    "from torch.nn.utils.rnn import pad_sequence\n",
    "from torch.utils.data import Dataset, DataLoader"
   ],
   "outputs": [],
   "execution_count": 26
  },
  {
   "metadata": {
    "ExecuteTime": {
     "end_time": "2024-06-25T11:35:20.352715Z",
     "start_time": "2024-06-25T11:35:20.341601Z"
    }
   },
   "cell_type": "code",
   "source": "device = torch.device('cuda' if torch.cuda.is_available() else 'cpu')",
   "id": "51ed59b22ff6790a",
   "outputs": [],
   "execution_count": 27
  },
  {
   "metadata": {},
   "cell_type": "markdown",
   "source": "# Read + Preprocessing data",
   "id": "36d9f72ac4ade87"
  },
  {
   "metadata": {
    "ExecuteTime": {
     "end_time": "2024-06-25T11:35:20.444015Z",
     "start_time": "2024-06-25T11:35:20.379089Z"
    }
   },
   "cell_type": "code",
   "source": [
    "train_df = pd.read_csv(\"./dataset/train_health_content.csv\")\n",
    "test_df = pd.read_csv(\"./dataset/test_health_content.csv\")"
   ],
   "id": "e1c882aed03fe099",
   "outputs": [],
   "execution_count": 28
  },
  {
   "metadata": {
    "ExecuteTime": {
     "end_time": "2024-06-25T11:35:20.459193Z",
     "start_time": "2024-06-25T11:35:20.445017Z"
    }
   },
   "cell_type": "code",
   "source": "train_df",
   "id": "ac7a691cae38474",
   "outputs": [
    {
     "data": {
      "text/plain": [
       "                       id                                              title  \\\n",
       "0     story_reviews_01118  Acupuncture May Help Ease Hot Flashes Tied to ...   \n",
       "1     story_reviews_01350             Aspirin May Cut Prostate Cancer Deaths   \n",
       "2     story_reviews_00749  Folic acid in pregnancy tied to lower autism risk   \n",
       "3     story_reviews_01065  Sleeptime Head-Cooling Cap Eases Insomnia, Stu...   \n",
       "4      news_reviews_00469  Chrono Therapeutics' Smoking Cessation Technol...   \n",
       "...                   ...                                                ...   \n",
       "1337  story_reviews_00175  Immune-Focused Drug May Be New Weapon Against ...   \n",
       "1338  story_reviews_00467  The Benefits of Intensive Cardiac Rehabilitati...   \n",
       "1339  story_reviews_01529  Experimental flu treatment may help related virus   \n",
       "1340  story_reviews_00892    Bypass Surgery Edges Stents For Heart Treatment   \n",
       "1341  story_reviews_00023  Migraine patients can now try three new drugs ...   \n",
       "\n",
       "                                                   text  rating  label  \n",
       "0     En Español\\n\\nMONDAY, April 25, 2011 (HealthDa...       3      0  \n",
       "1     The findings were released at a news briefing ...       3      0  \n",
       "2     NEW YORK (Reuters Health) - Women who took ext...       4      0  \n",
       "3     By Jenifer Goodwin\\n\\nHealthDay Reporter\\n\\nTU...       4      0  \n",
       "4     CHICAGO, March 4, 2016 /PRNewswire/ -- Chrono ...       2      1  \n",
       "...                                                 ...     ...    ...  \n",
       "1337  En Español\\n\\nMONDAY, Sept. 11, 2017 (HealthDa...       4      0  \n",
       "1338  Despite considerable progress in prevention an...       3      0  \n",
       "1339  WASHINGTON (Reuters) - An experimental drug be...       3      0  \n",
       "1340  Bypass Surgery Edges Stents For Heart Treatmen...       4      0  \n",
       "1341  \"They have a lot of promise and are potentiall...       3      0  \n",
       "\n",
       "[1342 rows x 5 columns]"
      ],
      "text/html": [
       "<div>\n",
       "<style scoped>\n",
       "    .dataframe tbody tr th:only-of-type {\n",
       "        vertical-align: middle;\n",
       "    }\n",
       "\n",
       "    .dataframe tbody tr th {\n",
       "        vertical-align: top;\n",
       "    }\n",
       "\n",
       "    .dataframe thead th {\n",
       "        text-align: right;\n",
       "    }\n",
       "</style>\n",
       "<table border=\"1\" class=\"dataframe\">\n",
       "  <thead>\n",
       "    <tr style=\"text-align: right;\">\n",
       "      <th></th>\n",
       "      <th>id</th>\n",
       "      <th>title</th>\n",
       "      <th>text</th>\n",
       "      <th>rating</th>\n",
       "      <th>label</th>\n",
       "    </tr>\n",
       "  </thead>\n",
       "  <tbody>\n",
       "    <tr>\n",
       "      <th>0</th>\n",
       "      <td>story_reviews_01118</td>\n",
       "      <td>Acupuncture May Help Ease Hot Flashes Tied to ...</td>\n",
       "      <td>En Español\\n\\nMONDAY, April 25, 2011 (HealthDa...</td>\n",
       "      <td>3</td>\n",
       "      <td>0</td>\n",
       "    </tr>\n",
       "    <tr>\n",
       "      <th>1</th>\n",
       "      <td>story_reviews_01350</td>\n",
       "      <td>Aspirin May Cut Prostate Cancer Deaths</td>\n",
       "      <td>The findings were released at a news briefing ...</td>\n",
       "      <td>3</td>\n",
       "      <td>0</td>\n",
       "    </tr>\n",
       "    <tr>\n",
       "      <th>2</th>\n",
       "      <td>story_reviews_00749</td>\n",
       "      <td>Folic acid in pregnancy tied to lower autism risk</td>\n",
       "      <td>NEW YORK (Reuters Health) - Women who took ext...</td>\n",
       "      <td>4</td>\n",
       "      <td>0</td>\n",
       "    </tr>\n",
       "    <tr>\n",
       "      <th>3</th>\n",
       "      <td>story_reviews_01065</td>\n",
       "      <td>Sleeptime Head-Cooling Cap Eases Insomnia, Stu...</td>\n",
       "      <td>By Jenifer Goodwin\\n\\nHealthDay Reporter\\n\\nTU...</td>\n",
       "      <td>4</td>\n",
       "      <td>0</td>\n",
       "    </tr>\n",
       "    <tr>\n",
       "      <th>4</th>\n",
       "      <td>news_reviews_00469</td>\n",
       "      <td>Chrono Therapeutics' Smoking Cessation Technol...</td>\n",
       "      <td>CHICAGO, March 4, 2016 /PRNewswire/ -- Chrono ...</td>\n",
       "      <td>2</td>\n",
       "      <td>1</td>\n",
       "    </tr>\n",
       "    <tr>\n",
       "      <th>...</th>\n",
       "      <td>...</td>\n",
       "      <td>...</td>\n",
       "      <td>...</td>\n",
       "      <td>...</td>\n",
       "      <td>...</td>\n",
       "    </tr>\n",
       "    <tr>\n",
       "      <th>1337</th>\n",
       "      <td>story_reviews_00175</td>\n",
       "      <td>Immune-Focused Drug May Be New Weapon Against ...</td>\n",
       "      <td>En Español\\n\\nMONDAY, Sept. 11, 2017 (HealthDa...</td>\n",
       "      <td>4</td>\n",
       "      <td>0</td>\n",
       "    </tr>\n",
       "    <tr>\n",
       "      <th>1338</th>\n",
       "      <td>story_reviews_00467</td>\n",
       "      <td>The Benefits of Intensive Cardiac Rehabilitati...</td>\n",
       "      <td>Despite considerable progress in prevention an...</td>\n",
       "      <td>3</td>\n",
       "      <td>0</td>\n",
       "    </tr>\n",
       "    <tr>\n",
       "      <th>1339</th>\n",
       "      <td>story_reviews_01529</td>\n",
       "      <td>Experimental flu treatment may help related virus</td>\n",
       "      <td>WASHINGTON (Reuters) - An experimental drug be...</td>\n",
       "      <td>3</td>\n",
       "      <td>0</td>\n",
       "    </tr>\n",
       "    <tr>\n",
       "      <th>1340</th>\n",
       "      <td>story_reviews_00892</td>\n",
       "      <td>Bypass Surgery Edges Stents For Heart Treatment</td>\n",
       "      <td>Bypass Surgery Edges Stents For Heart Treatmen...</td>\n",
       "      <td>4</td>\n",
       "      <td>0</td>\n",
       "    </tr>\n",
       "    <tr>\n",
       "      <th>1341</th>\n",
       "      <td>story_reviews_00023</td>\n",
       "      <td>Migraine patients can now try three new drugs ...</td>\n",
       "      <td>\"They have a lot of promise and are potentiall...</td>\n",
       "      <td>3</td>\n",
       "      <td>0</td>\n",
       "    </tr>\n",
       "  </tbody>\n",
       "</table>\n",
       "<p>1342 rows × 5 columns</p>\n",
       "</div>"
      ]
     },
     "execution_count": 29,
     "metadata": {},
     "output_type": "execute_result"
    }
   ],
   "execution_count": 29
  },
  {
   "metadata": {
    "ExecuteTime": {
     "end_time": "2024-06-25T11:35:20.474517Z",
     "start_time": "2024-06-25T11:35:20.460222Z"
    }
   },
   "cell_type": "code",
   "source": [
    "train_df['input_text'] = train_df['title'] + \" \" + train_df['text']\n",
    "test_df['input_text'] = test_df['title'] + \" \" + test_df['text']"
   ],
   "id": "8803e438b865ab56",
   "outputs": [],
   "execution_count": 30
  },
  {
   "metadata": {
    "ExecuteTime": {
     "end_time": "2024-06-25T11:35:20.489657Z",
     "start_time": "2024-06-25T11:35:20.475521Z"
    }
   },
   "cell_type": "code",
   "source": [
    "def clean_text(text):\n",
    "    text = str(text)\n",
    "    text = text.lower()\n",
    "    text = re.sub(r'\\s+', ' ', text)  # Replace multiple spaces with a single space\n",
    "    text = re.sub(r'\\W', ' ', text)   # Remove special characters\n",
    "    text = re.sub(r'\\d+', '', text)   # Remove digits\n",
    "    text = text.strip()\n",
    "    return text"
   ],
   "id": "ccc33cdee0a8a253",
   "outputs": [],
   "execution_count": 31
  },
  {
   "metadata": {
    "ExecuteTime": {
     "end_time": "2024-06-25T11:35:21.042634Z",
     "start_time": "2024-06-25T11:35:20.490699Z"
    }
   },
   "cell_type": "code",
   "source": [
    "train_df['input_text'] = train_df['input_text'].apply(clean_text)\n",
    "test_df['input_text'] = test_df['input_text'].apply(clean_text)"
   ],
   "id": "2321c58266994435",
   "outputs": [],
   "execution_count": 32
  },
  {
   "metadata": {},
   "cell_type": "markdown",
   "source": "# Build vocab",
   "id": "28683a41fe185338"
  },
  {
   "metadata": {
    "ExecuteTime": {
     "end_time": "2024-06-25T11:35:21.149433Z",
     "start_time": "2024-06-25T11:35:21.043685Z"
    }
   },
   "cell_type": "code",
   "source": [
    "unique_train_labels = train_df['label'].unique()\n",
    "class_to_int =  {label: i for i, label in enumerate(unique_train_labels)}\n",
    "int_to_class = {i: label for label, i in class_to_int.items()}\n",
    "train_tokens_to_indices_vocab = {\"<pad>\": 0, \"<ukn>\": 1}\n",
    "\n",
    "idx = 2\n",
    "for text, label in zip(train_df['input_text'], train_df['label']):\n",
    "    tokenized_text = text.split(\" \")\n",
    "    for token in tokenized_text:\n",
    "        if token not in train_tokens_to_indices_vocab:\n",
    "            train_tokens_to_indices_vocab[token] = idx\n",
    "            idx += 1\n",
    "\n",
    "train_indices_to_tokens_vocab = {idx: token for token, idx in train_tokens_to_indices_vocab.items()}\n",
    "print(len(train_tokens_to_indices_vocab))\n",
    "print(list(train_tokens_to_indices_vocab.items())[:10])"
   ],
   "id": "44a000fc5556bc73",
   "outputs": [
    {
     "name": "stdout",
     "output_type": "stream",
     "text": [
      "26683\n",
      "[('<pad>', 0), ('<ukn>', 1), ('acupuncture', 2), ('may', 3), ('help', 4), ('ease', 5), ('hot', 6), ('flashes', 7), ('tied', 8), ('to', 9)]\n"
     ]
    }
   ],
   "execution_count": 33
  },
  {
   "metadata": {
    "ExecuteTime": {
     "end_time": "2024-06-25T11:35:21.165231Z",
     "start_time": "2024-06-25T11:35:21.150483Z"
    }
   },
   "cell_type": "code",
   "source": [
    "class InputTextDataset(Dataset):\n",
    "    def __init__(self, dataframe):\n",
    "        self.X = dataframe['input_text']\n",
    "        self.y = dataframe['label']\n",
    "    \n",
    "    def __len__(self):\n",
    "        return len(self.X)\n",
    "    \n",
    "    def __getitem__(self, idx):\n",
    "        return self.X[idx], self.y[idx]"
   ],
   "id": "f0910d9c3bd11321",
   "outputs": [],
   "execution_count": 34
  },
  {
   "metadata": {
    "ExecuteTime": {
     "end_time": "2024-06-25T11:35:21.180420Z",
     "start_time": "2024-06-25T11:35:21.166234Z"
    }
   },
   "cell_type": "code",
   "source": [
    "def collate_fn_with_dict(token_vocab, label_vocab, unique_train_labels):\n",
    "    def collate_fn(batch):\n",
    "        inputs, labels = zip(*batch)\n",
    "        \n",
    "        tokens_indices = []\n",
    "        labels_indices = []\n",
    "        for tokens, label in zip(inputs, labels):\n",
    "            if label not in unique_train_labels:\n",
    "                continue\n",
    "            label_indice = label_vocab[label]\n",
    "            \n",
    "            tokens_indices_aux = []\n",
    "            \n",
    "            for token in tokens:\n",
    "                if token in token_vocab:\n",
    "                    tokens_indices_aux.append(token_vocab[token])\n",
    "                else:\n",
    "                    tokens_indices_aux.append(token_vocab['<ukn>'])\n",
    "            \n",
    "            indices = torch.tensor(tokens_indices_aux, dtype=torch.long)\n",
    "            \n",
    "            tokens_indices.append(indices)\n",
    "            labels_indices.append(label_indice)\n",
    "            \n",
    "        tokens_indices = pad_sequence(tokens_indices, batch_first=True, padding_value=token_vocab['<pad>'])\n",
    "        labels_indices = torch.tensor(labels_indices)\n",
    "        \n",
    "        return tokens_indices, labels_indices\n",
    "    return collate_fn\n",
    "\n",
    "collate_fn = collate_fn_with_dict(train_tokens_to_indices_vocab, class_to_int, unique_train_labels)"
   ],
   "id": "30fde4f402472689",
   "outputs": [],
   "execution_count": 35
  },
  {
   "metadata": {
    "ExecuteTime": {
     "end_time": "2024-06-25T11:35:21.196111Z",
     "start_time": "2024-06-25T11:35:21.181423Z"
    }
   },
   "cell_type": "code",
   "source": [
    "train_dataset = InputTextDataset(train_df)\n",
    "train_dataloader = DataLoader(train_dataset, batch_size=32, shuffle=True, collate_fn=collate_fn)\n",
    "\n",
    "test_dataset = InputTextDataset(test_df)\n",
    "test_dataloader = DataLoader(test_dataset, batch_size=32, collate_fn=collate_fn)"
   ],
   "id": "b1f08c5a227a116d",
   "outputs": [],
   "execution_count": 36
  },
  {
   "metadata": {
    "ExecuteTime": {
     "end_time": "2024-06-25T11:35:21.211377Z",
     "start_time": "2024-06-25T11:35:21.197172Z"
    }
   },
   "cell_type": "code",
   "source": [
    "print(f\"Train dataset size: {train_dataset.X.shape}\")\n",
    "print(f\"Test dataset size: {test_dataset.X.shape}\")"
   ],
   "id": "9777e457099c348f",
   "outputs": [
    {
     "name": "stdout",
     "output_type": "stream",
     "text": [
      "Train dataset size: (1342,)\n",
      "Test dataset size: (448,)\n"
     ]
    }
   ],
   "execution_count": 37
  },
  {
   "metadata": {
    "ExecuteTime": {
     "end_time": "2024-06-25T11:35:21.226613Z",
     "start_time": "2024-06-25T11:35:21.212379Z"
    }
   },
   "cell_type": "code",
   "source": [
    "def test(model, test_loader, criterior, test_fn=False):\n",
    "    model.eval()\n",
    "    running_loss = 0.0\n",
    "    \n",
    "    all_labels = []\n",
    "    all_preds = []\n",
    "    \n",
    "    with torch.no_grad():\n",
    "        for inputs, labels in test_loader:\n",
    "            inputs, labels = inputs.to(device), labels.to(device)\n",
    "            \n",
    "            outputs = model(inputs)\n",
    "            loss = criterior(outputs, labels)\n",
    "            running_loss += loss.item()\n",
    "            \n",
    "            _, predicted = torch.max(outputs, 1)\n",
    "            \n",
    "            all_labels.extend(labels.cpu().numpy())\n",
    "            all_preds.extend(predicted.cpu().numpy())\n",
    "            \n",
    "    test_loss = running_loss / len(test_loader)\n",
    "    \n",
    "    if test_fn:\n",
    "        print(classification_report(all_labels, all_preds, zero_division=0))\n",
    "        test_accuracy = accuracy_score(all_labels, all_preds)\n",
    "        test_precision, test_recall, test_f1, _ = precision_recall_fscore_support(all_labels, all_preds, average='binary')\n",
    "\n",
    "        print(f\"Test Accuracy: {test_accuracy}\")\n",
    "        print(f\"Test Precision: {test_precision}\")\n",
    "        print(f\"Test Recall: {test_recall}\")\n",
    "        print(f\"Test F1: {test_f1}\")\n",
    "    \n",
    "    return test_loss"
   ],
   "id": "eddf761e40aba669",
   "outputs": [],
   "execution_count": 38
  },
  {
   "metadata": {
    "ExecuteTime": {
     "end_time": "2024-06-25T11:35:21.241858Z",
     "start_time": "2024-06-25T11:35:21.227614Z"
    }
   },
   "cell_type": "code",
   "source": [
    "def train(model, train_dataloader, test_dataloader, criterion, optimizer, num_epochs):\n",
    "    best_train_loss = float(\"inf\")\n",
    "    best_model = model\n",
    "    for epoch in tqdm.tqdm(range(num_epochs)):\n",
    "        model.train()\n",
    "        running_loss = 0.0\n",
    "        \n",
    "        for inputs, labels in train_dataloader:\n",
    "            inputs, labels = inputs.to(device), labels.to(device)\n",
    "            \n",
    "            optimizer.zero_grad()\n",
    "            outputs = model(inputs)\n",
    "            loss = criterion(outputs, labels)\n",
    "            loss.backward()\n",
    "            optimizer.step()\n",
    "            running_loss += loss.item()\n",
    "        \n",
    "        train_loss = running_loss / len(train_dataloader)\n",
    "        test_loss = test(model, test_dataloader, criterion)\n",
    "        \n",
    "        train_losses.append(train_loss)\n",
    "        test_losses.append(test_loss)\n",
    "        \n",
    "        print(f\"Epoch {epoch + 1}/{num_epochs},\"\n",
    "              f\"train_loss {train_loss:.4f},\"\n",
    "              f\"test_loss {test_loss:.4f}\")\n",
    "        \n",
    "        if train_loss < best_train_loss:\n",
    "            best_train_loss = train_loss\n",
    "            best_model = model\n",
    "            torch.save(best_model.state_dict(), \"./models/best_LSTM_model.pt\")\n",
    "            print(\"Best model saved\")\n",
    "            \n",
    "    print(\"Training finished\")"
   ],
   "id": "2e4d1d75263f5e75",
   "outputs": [],
   "execution_count": 39
  },
  {
   "metadata": {},
   "cell_type": "markdown",
   "source": "# LSTM",
   "id": "b54dbdde9fd7e5ef"
  },
  {
   "metadata": {
    "ExecuteTime": {
     "end_time": "2024-06-25T11:43:22.228957Z",
     "start_time": "2024-06-25T11:43:22.217824Z"
    }
   },
   "cell_type": "code",
   "source": [
    "class LSTMModel(nn.Module):\n",
    "    def __init__(self, vocab_size, embedding_dim, hidden_dim, output_dim, num_layers=1, bidirectional=False):\n",
    "        super(LSTMModel, self).__init__()\n",
    "        self.embedding = nn.Embedding(vocab_size, embedding_dim, padding_idx=train_tokens_to_indices_vocab['<pad>'])\n",
    "        self.lstm = nn.LSTM(embedding_dim, hidden_dim, num_layers=num_layers, bidirectional=bidirectional, batch_first=True)\n",
    "        self.fc = nn.Linear(hidden_dim * 2 if bidirectional else hidden_dim, output_dim)\n",
    "        self.dropout = nn.Dropout(0.4)\n",
    "    \n",
    "    def forward(self, x):\n",
    "        x = self.embedding(x)\n",
    "        x = self.dropout(x)\n",
    "        lstm_out, (ht, ct) = self.lstm(x)\n",
    "        x = self.fc(ht[-1])\n",
    "        return x\n",
    "        \n",
    "        # embedded = self.embedding(x)\n",
    "        # lstm_out, _ = self.lstm(embedded)\n",
    "        # lstm_out = lstm_out[:, -1, :]  # Taking the output of the last time step\n",
    "        # output = self.fc(lstm_out)\n",
    "        # return output"
   ],
   "id": "e8d9b30833e3c31",
   "outputs": [],
   "execution_count": 55
  },
  {
   "metadata": {
    "ExecuteTime": {
     "end_time": "2024-06-25T11:50:07.740782Z",
     "start_time": "2024-06-25T11:50:07.727634Z"
    }
   },
   "cell_type": "code",
   "source": [
    "train_losses = []\n",
    "test_losses = []\n",
    "\n",
    "vocab_size = len(train_tokens_to_indices_vocab)\n",
    "embedding_dim = 64\n",
    "hidden_dim = 64\n",
    "output_dim = 2\n",
    "num_epochs = 5\n",
    "learning_rate = 0.001\n",
    "\n",
    "model = LSTMModel(vocab_size, embedding_dim, hidden_dim, output_dim, num_layers=2, bidirectional=False)\n",
    "model.to(device)\n",
    "criterion = nn.CrossEntropyLoss()\n",
    "optimizer = torch.optim.Adam(model.parameters(), lr=learning_rate)"
   ],
   "id": "6d852b1e14f15569",
   "outputs": [],
   "execution_count": 65
  },
  {
   "metadata": {
    "ExecuteTime": {
     "end_time": "2024-06-25T11:50:22.854477Z",
     "start_time": "2024-06-25T11:50:07.977801Z"
    }
   },
   "cell_type": "code",
   "source": "train(model, train_dataloader, test_dataloader, criterion, optimizer, num_epochs)",
   "id": "5010abcd72187b9b",
   "outputs": [
    {
     "name": "stderr",
     "output_type": "stream",
     "text": [
      " 20%|██        | 1/5 [00:03<00:12,  3.07s/it]"
     ]
    },
    {
     "name": "stdout",
     "output_type": "stream",
     "text": [
      "Epoch 1/5,train_loss 0.6563,test_loss 0.6393\n",
      "Best model saved\n"
     ]
    },
    {
     "name": "stderr",
     "output_type": "stream",
     "text": [
      " 40%|████      | 2/5 [00:06<00:09,  3.03s/it]"
     ]
    },
    {
     "name": "stdout",
     "output_type": "stream",
     "text": [
      "Epoch 2/5,train_loss 0.6330,test_loss 0.6385\n",
      "Best model saved\n"
     ]
    },
    {
     "name": "stderr",
     "output_type": "stream",
     "text": [
      " 60%|██████    | 3/5 [00:09<00:05,  2.99s/it]"
     ]
    },
    {
     "name": "stdout",
     "output_type": "stream",
     "text": [
      "Epoch 3/5,train_loss 0.6345,test_loss 0.6389\n"
     ]
    },
    {
     "name": "stderr",
     "output_type": "stream",
     "text": [
      " 80%|████████  | 4/5 [00:11<00:02,  2.96s/it]"
     ]
    },
    {
     "name": "stdout",
     "output_type": "stream",
     "text": [
      "Epoch 4/5,train_loss 0.6326,test_loss 0.6397\n",
      "Best model saved\n"
     ]
    },
    {
     "name": "stderr",
     "output_type": "stream",
     "text": [
      "100%|██████████| 5/5 [00:14<00:00,  2.97s/it]"
     ]
    },
    {
     "name": "stdout",
     "output_type": "stream",
     "text": [
      "Epoch 5/5,train_loss 0.6323,test_loss 0.6428\n",
      "Best model saved\n",
      "Training finished\n"
     ]
    },
    {
     "name": "stderr",
     "output_type": "stream",
     "text": [
      "\n"
     ]
    }
   ],
   "execution_count": 66
  },
  {
   "metadata": {
    "ExecuteTime": {
     "end_time": "2024-06-25T11:50:23.394292Z",
     "start_time": "2024-06-25T11:50:22.856546Z"
    }
   },
   "cell_type": "code",
   "source": "test(model, test_dataloader, criterion, test_fn=True)",
   "id": "98ee9774969df500",
   "outputs": [
    {
     "name": "stdout",
     "output_type": "stream",
     "text": [
      "              precision    recall  f1-score   support\n",
      "\n",
      "           0       0.67      1.00      0.80       299\n",
      "           1       0.00      0.00      0.00       149\n",
      "\n",
      "    accuracy                           0.67       448\n",
      "   macro avg       0.33      0.50      0.40       448\n",
      "weighted avg       0.45      0.67      0.53       448\n",
      "\n",
      "Test Accuracy: 0.6674107142857143\n",
      "Test Precision: 0.0\n",
      "Test Recall: 0.0\n",
      "Test F1: 0.0\n"
     ]
    },
    {
     "name": "stderr",
     "output_type": "stream",
     "text": [
      "C:\\Users\\allex\\miniconda3\\envs\\CV\\lib\\site-packages\\sklearn\\metrics\\_classification.py:1509: UndefinedMetricWarning: Precision is ill-defined and being set to 0.0 due to no predicted samples. Use `zero_division` parameter to control this behavior.\n",
      "  _warn_prf(average, modifier, f\"{metric.capitalize()} is\", len(result))\n"
     ]
    },
    {
     "data": {
      "text/plain": [
       "0.6427759826183319"
      ]
     },
     "execution_count": 67,
     "metadata": {},
     "output_type": "execute_result"
    }
   ],
   "execution_count": 67
  },
  {
   "metadata": {
    "ExecuteTime": {
     "end_time": "2024-06-25T11:50:23.502741Z",
     "start_time": "2024-06-25T11:50:23.395294Z"
    }
   },
   "cell_type": "code",
   "source": [
    "def plot_losses(train_losses, test_losses):\n",
    "    epochs = range(1, len(train_losses) + 1)\n",
    "    plt.plot(epochs, train_losses, label='Training Loss', color='Red')\n",
    "    plt.plot(epochs, test_losses, label='Testing Loss', color='Blue')\n",
    "    plt.xlabel(\"Epochs\")\n",
    "    plt.ylabel(\"Loss\")\n",
    "    plt.title(\"Training and testing loss over epochs\")\n",
    "    plt.legend()\n",
    "    plt.grid()\n",
    "    plt.show()\n",
    "\n",
    "\n",
    "plot_losses(train_losses, test_losses)"
   ],
   "id": "75af7aeced0b6f4c",
   "outputs": [
    {
     "data": {
      "text/plain": [
       "<Figure size 640x480 with 1 Axes>"
      ],
      "image/png": "[encoded data removed]"
     },
     "metadata": {},
     "output_type": "display_data"
    }
   ],
   "execution_count": 68
  },
  {
   "metadata": {},
   "cell_type": "code",
   "outputs": [],
   "execution_count": null,
   "source": "",
   "id": "d2929158b20a5081"
  }
 ],
 "metadata": {
  "kernelspec": {
   "display_name": "Python 3",
   "language": "python",
   "name": "python3"
  },
  "language_info": {
   "codemirror_mode": {
    "name": "ipython",
    "version": 2
   },
   "file_extension": ".py",
   "mimetype": "text/x-python",
   "name": "python",
   "nbconvert_exporter": "python",
   "pygments_lexer": "ipython2",
   "version": "2.7.6"
  }
 },
 "nbformat": 4,
 "nbformat_minor": 5
}
