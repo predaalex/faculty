{
 "cells": [
  {
   "cell_type": "code",
   "id": "initial_id",
   "metadata": {
    "collapsed": true,
    "ExecuteTime": {
     "end_time": "2024-06-24T07:18:48.271610Z",
     "start_time": "2024-06-24T07:18:48.257413Z"
    }
   },
   "source": [
    "import re\n",
    "import warnings\n",
    "\n",
    "import pandas as pd\n",
    "\n",
    "from sklearn.feature_extraction.text import TfidfVectorizer\n",
    "from sklearn.metrics import accuracy_score, precision_score, recall_score, f1_score, classification_report\n",
    "from sklearn.linear_model import LogisticRegression\n",
    "from sklearn.svm import SVC\n",
    "from sklearn.neighbors import KNeighborsClassifier\n",
    "from sklearn.tree import DecisionTreeClassifier\n",
    "from sklearn.ensemble import RandomForestClassifier, GradientBoostingClassifier, AdaBoostClassifier\n",
    "from sklearn.naive_bayes import MultinomialNB\n",
    "from sklearn.discriminant_analysis import LinearDiscriminantAnalysis, QuadraticDiscriminantAnalysis"
   ],
   "outputs": [],
   "execution_count": 271
  },
  {
   "metadata": {
    "ExecuteTime": {
     "end_time": "2024-06-24T07:18:48.287361Z",
     "start_time": "2024-06-24T07:18:48.273174Z"
    }
   },
   "cell_type": "code",
   "source": "warnings.filterwarnings(\"ignore\", category=FutureWarning, module=\"sklearn\")",
   "id": "ef214b679193bbd9",
   "outputs": [],
   "execution_count": 272
  },
  {
   "metadata": {},
   "cell_type": "markdown",
   "source": "# Data loading + preprocessing + vectorization",
   "id": "38fe5ee29f2b375d"
  },
  {
   "metadata": {
    "ExecuteTime": {
     "end_time": "2024-06-24T07:18:48.349346Z",
     "start_time": "2024-06-24T07:18:48.288393Z"
    }
   },
   "cell_type": "code",
   "source": [
    "train_df = pd.read_csv(\"./dataset/train_health_content.csv\")\n",
    "test_df = pd.read_csv(\"./dataset/test_health_content.csv\")"
   ],
   "id": "a639ff74e92873c6",
   "outputs": [],
   "execution_count": 273
  },
  {
   "metadata": {
    "ExecuteTime": {
     "end_time": "2024-06-24T07:18:48.365111Z",
     "start_time": "2024-06-24T07:18:48.350400Z"
    }
   },
   "cell_type": "code",
   "source": [
    "train_df['input_text'] = train_df['title'] + \" \" + train_df['text']\n",
    "test_df['input_text'] = test_df['title'] + \" \" + test_df['text']"
   ],
   "id": "eaec62449adb0fa9",
   "outputs": [],
   "execution_count": 274
  },
  {
   "metadata": {
    "ExecuteTime": {
     "end_time": "2024-06-24T07:18:48.380456Z",
     "start_time": "2024-06-24T07:18:48.366218Z"
    }
   },
   "cell_type": "code",
   "source": [
    "def clean_text(text):\n",
    "    text = str(text)\n",
    "    text = text.lower()\n",
    "    text = re.sub(r'\\s+', ' ', text)  # Replace multiple spaces with a single space\n",
    "    text = re.sub(r'\\W', ' ', text)   # Remove special characters\n",
    "    text = re.sub(r'\\d+', '', text)   # Remove digits\n",
    "    text = text.strip()\n",
    "    return text"
   ],
   "id": "b1b762adb6021f46",
   "outputs": [],
   "execution_count": 275
  },
  {
   "metadata": {
    "ExecuteTime": {
     "end_time": "2024-06-24T07:18:48.857518Z",
     "start_time": "2024-06-24T07:18:48.381964Z"
    }
   },
   "cell_type": "code",
   "source": [
    "train_df['input_text'] = train_df['input_text'].apply(clean_text)\n",
    "test_df['input_text'] = test_df['input_text'].apply(clean_text)"
   ],
   "id": "c577ade4f5e1ee6e",
   "outputs": [],
   "execution_count": 276
  },
  {
   "metadata": {
    "ExecuteTime": {
     "end_time": "2024-06-24T07:18:49.273330Z",
     "start_time": "2024-06-24T07:18:48.858556Z"
    }
   },
   "cell_type": "code",
   "source": [
    "vectorizer = TfidfVectorizer(max_features=10000)\n",
    "X_train_tfidf = vectorizer.fit_transform(train_df['input_text'])\n",
    "X_test_tfidf = vectorizer.transform(test_df['input_text'])"
   ],
   "id": "1789ab97db243dc4",
   "outputs": [],
   "execution_count": 277
  },
  {
   "metadata": {
    "ExecuteTime": {
     "end_time": "2024-06-24T07:18:49.289011Z",
     "start_time": "2024-06-24T07:18:49.274358Z"
    }
   },
   "cell_type": "code",
   "source": [
    "y_train = train_df['label']\n",
    "y_test = test_df['label']"
   ],
   "id": "8c160dfb28e13b2d",
   "outputs": [],
   "execution_count": 278
  },
  {
   "metadata": {
    "ExecuteTime": {
     "end_time": "2024-06-24T07:19:04.784188Z",
     "start_time": "2024-06-24T07:18:49.290050Z"
    }
   },
   "cell_type": "code",
   "source": [
    "# List of models to train\n",
    "models = {\n",
    "    \"Logistic Regression\": LogisticRegression(),\n",
    "    \"Support Vector Machine\": SVC(),\n",
    "    \"K-Nearest Neighbors\": KNeighborsClassifier(),\n",
    "    \"Decision Tree\": DecisionTreeClassifier(),\n",
    "    \"Random Forest\": RandomForestClassifier(),\n",
    "    \"Gradient Boosting\": GradientBoostingClassifier(),\n",
    "    \"AdaBoost\": AdaBoostClassifier(),\n",
    "    \"Naive Bayes\": MultinomialNB(),\n",
    "}\n",
    "\n",
    "results = {}\n",
    "\n",
    "# Loop through models, train, and print evaluation metrics\n",
    "for model_name, model in models.items():\n",
    "    model.fit(X_train_tfidf, y_train)\n",
    "    y_pred = model.predict(X_test_tfidf)\n",
    "    \n",
    "    f1 = f1_score(y_test, y_pred)\n",
    "    print(f'Model: {model_name}')\n",
    "    print(classification_report(y_test, y_pred, zero_division=0))\n",
    "    print('\\n' + '='*60 + '\\n')"
   ],
   "id": "6a8bdae59c01afcf",
   "outputs": [
    {
     "name": "stdout",
     "output_type": "stream",
     "text": [
      "Model: Logistic Regression\n",
      "              precision    recall  f1-score   support\n",
      "\n",
      "           0       0.68      0.98      0.80       299\n",
      "           1       0.61      0.07      0.13       149\n",
      "\n",
      "    accuracy                           0.68       448\n",
      "   macro avg       0.65      0.53      0.47       448\n",
      "weighted avg       0.66      0.68      0.58       448\n",
      "\n",
      "\n",
      "============================================================\n",
      "\n",
      "Model: Support Vector Machine\n",
      "              precision    recall  f1-score   support\n",
      "\n",
      "           0       0.68      0.98      0.80       299\n",
      "           1       0.64      0.06      0.11       149\n",
      "\n",
      "    accuracy                           0.68       448\n",
      "   macro avg       0.66      0.52      0.46       448\n",
      "weighted avg       0.67      0.68      0.57       448\n",
      "\n",
      "\n",
      "============================================================\n",
      "\n",
      "Model: K-Nearest Neighbors\n",
      "              precision    recall  f1-score   support\n",
      "\n",
      "           0       0.70      0.90      0.79       299\n",
      "           1       0.52      0.21      0.30       149\n",
      "\n",
      "    accuracy                           0.67       448\n",
      "   macro avg       0.61      0.56      0.54       448\n",
      "weighted avg       0.64      0.67      0.63       448\n",
      "\n",
      "\n",
      "============================================================\n",
      "\n",
      "Model: Decision Tree\n",
      "              precision    recall  f1-score   support\n",
      "\n",
      "           0       0.70      0.74      0.72       299\n",
      "           1       0.42      0.38      0.40       149\n",
      "\n",
      "    accuracy                           0.62       448\n",
      "   macro avg       0.56      0.56      0.56       448\n",
      "weighted avg       0.61      0.62      0.61       448\n",
      "\n",
      "\n",
      "============================================================\n",
      "\n",
      "Model: Random Forest\n",
      "              precision    recall  f1-score   support\n",
      "\n",
      "           0       0.69      0.98      0.81       299\n",
      "           1       0.77      0.13      0.23       149\n",
      "\n",
      "    accuracy                           0.70       448\n",
      "   macro avg       0.73      0.56      0.52       448\n",
      "weighted avg       0.72      0.70      0.62       448\n",
      "\n",
      "\n",
      "============================================================\n",
      "\n",
      "Model: Gradient Boosting\n",
      "              precision    recall  f1-score   support\n",
      "\n",
      "           0       0.71      0.88      0.79       299\n",
      "           1       0.54      0.28      0.36       149\n",
      "\n",
      "    accuracy                           0.68       448\n",
      "   macro avg       0.62      0.58      0.58       448\n",
      "weighted avg       0.65      0.68      0.65       448\n",
      "\n",
      "\n",
      "============================================================\n",
      "\n",
      "Model: AdaBoost\n",
      "              precision    recall  f1-score   support\n",
      "\n",
      "           0       0.74      0.80      0.77       299\n",
      "           1       0.52      0.44      0.47       149\n",
      "\n",
      "    accuracy                           0.68       448\n",
      "   macro avg       0.63      0.62      0.62       448\n",
      "weighted avg       0.67      0.68      0.67       448\n",
      "\n",
      "\n",
      "============================================================\n",
      "\n",
      "Model: Naive Bayes\n",
      "              precision    recall  f1-score   support\n",
      "\n",
      "           0       0.67      1.00      0.80       299\n",
      "           1       0.00      0.00      0.00       149\n",
      "\n",
      "    accuracy                           0.67       448\n",
      "   macro avg       0.33      0.50      0.40       448\n",
      "weighted avg       0.45      0.67      0.53       448\n",
      "\n",
      "\n",
      "============================================================\n",
      "\n"
     ]
    }
   ],
   "execution_count": 279
  }
 ],
 "metadata": {
  "kernelspec": {
   "display_name": "Python 3",
   "language": "python",
   "name": "python3"
  },
  "language_info": {
   "codemirror_mode": {
    "name": "ipython",
    "version": 2
   },
   "file_extension": ".py",
   "mimetype": "text/x-python",
   "name": "python",
   "nbconvert_exporter": "python",
   "pygments_lexer": "ipython2",
   "version": "2.7.6"
  }
 },
 "nbformat": 4,
 "nbformat_minor": 5
}
