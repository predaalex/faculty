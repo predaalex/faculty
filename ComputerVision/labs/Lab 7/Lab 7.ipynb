{
 "cells": [
  {
   "cell_type": "markdown",
   "id": "63fbc8b6",
   "metadata": {},
   "source": [
    "# Lab 7: Extracting traffic information from surveillance cameras"
   ]
  },
  {
   "cell_type": "code",
   "execution_count": null,
   "id": "8b03dd87",
   "metadata": {},
   "outputs": [],
   "source": [
    "import os\n",
    "import supervision\n",
    "from supervision.video.source import get_video_frames_generator\n",
    "import cv2 as cv\n",
    "import numpy as np\n",
    "import pickle\n",
    "from scipy import interpolate\n",
    "import numpy as np\n",
    "import pandas as pd\n",
    "from scipy.spatial import distance as dist\n",
    "import matplotlib.pyplot as plt\n",
    "from sklearn.manifold import TSNE\n",
    "from sklearn.cluster import KMeans\n",
    "from scipy import cluster\n",
    "from sklearn.preprocessing import LabelEncoder\n",
    "import random\n",
    "import csv"
   ]
  },
  {
   "cell_type": "code",
   "execution_count": null,
   "id": "d61b7097",
   "metadata": {},
   "outputs": [],
   "source": [
    "SOURCE_VIDEO_PATH = \"video-traffic.mp4\"\n",
    "DETECTIONS_PATH = 'detections.csv'"
   ]
  },
  {
   "cell_type": "markdown",
   "id": "29f9428c",
   "metadata": {},
   "source": [
    "### Reading and displaying a video"
   ]
  },
  {
   "cell_type": "code",
   "execution_count": null,
   "id": "898abbf8",
   "metadata": {},
   "outputs": [],
   "source": [
    "path_video1 = os.path.join('',SOURCE_VIDEO_PATH)\n",
    "cap = cv.VideoCapture(path_video1) \n",
    "\n",
    "if cap.isOpened() == False: \n",
    "    print(\"Error opening video stream or file\") \n",
    "    \n",
    "frame_width = int(cap.get(cv.CAP_PROP_FRAME_WIDTH))\n",
    "print('frame_width = ' + str(frame_width))\n",
    "frame_height = int(cap.get(cv.CAP_PROP_FRAME_HEIGHT))\n",
    "print('frame_height = ' + str(frame_height))\n",
    "\n",
    "length = int(cap.get(cv.CAP_PROP_FRAME_COUNT))\n",
    "print(\"total number of frames = \" + str(length))\n",
    "\n",
    "fps = int(cap.get(cv.CAP_PROP_FPS))\n",
    "print(\"frames per second = \" + str(fps))\n",
    "\n",
    "cap.release()"
   ]
  },
  {
   "cell_type": "code",
   "execution_count": null,
   "id": "b69cace9",
   "metadata": {},
   "outputs": [],
   "source": [
    "def display_video(video_path: str, max_number_of_frame_to_run: int = None) -> None:\n",
    "    current_frame = 0 \n",
    "    \n",
    "    cap = cv.VideoCapture(path_video1)\n",
    "\n",
    "    while cap.isOpened(): \n",
    "\n",
    "        ret, frame = cap.read()\n",
    "        if ret is True:\n",
    "            current_frame = current_frame + 1 \n",
    "            cv.imshow(\"Frame\", frame)\n",
    "\n",
    "            if max_number_of_frame_to_run is not None and current_frame > max_number_of_frame_to_run:\n",
    "                break\n",
    "\n",
    "            if cv.waitKey(25) & 0xFF == ord('q'):\n",
    "                break\n",
    "        else:\n",
    "            break\n",
    "\n",
    "    cap.release()\n",
    "    cv.destroyAllWindows()"
   ]
  },
  {
   "cell_type": "code",
   "execution_count": null,
   "id": "d8218980",
   "metadata": {},
   "outputs": [],
   "source": [
    "display_video(video_path=SOURCE_VIDEO_PATH, max_number_of_frame_to_run=750)"
   ]
  },
  {
   "cell_type": "markdown",
   "id": "4c5151cd",
   "metadata": {},
   "source": [
    "### Writing a video"
   ]
  },
  {
   "cell_type": "code",
   "execution_count": null,
   "id": "bd5bee8b",
   "metadata": {},
   "outputs": [],
   "source": [
    "def read_frames(video_path):\n",
    "    \"\"\"\n",
    "    This function takes the video path and returns the a list of frames.\n",
    "    :param video_path: Path to the video\n",
    "    \"\"\"\n",
    "    frames = []\n",
    "    cap = cv.VideoCapture(video_path)  \n",
    "    if cap.isOpened() == False: \n",
    "        raise Exception(\"Error opening video stream or file\") \n",
    "        return frames\n",
    "    \n",
    "    while cap.isOpened():  \n",
    "        ret, frame = cap.read() # Read the frame\n",
    "        if ret is True:\n",
    "            frames.append(frame)\n",
    "        else:\n",
    "            break\n",
    "    cap.release()\n",
    "    return frames"
   ]
  },
  {
   "cell_type": "markdown",
   "id": "645b5214",
   "metadata": {},
   "source": [
    "### Writing frames in folder"
   ]
  },
  {
   "cell_type": "code",
   "execution_count": null,
   "id": "4b0f2964",
   "metadata": {},
   "outputs": [],
   "source": [
    "def write_frames_in_folder(video_path):\n",
    "    \n",
    "    def ensure_dir(directory):\n",
    "        if not os.path.exists(directory):\n",
    "            os.makedirs(directory)\n",
    "\n",
    "    video_file = SOURCE_VIDEO_PATH\n",
    "    cap = cv.VideoCapture(video_file)\n",
    "\n",
    "\n",
    "    output_dir = 'output_frames/'\n",
    "    ensure_dir(output_dir)\n",
    "\n",
    "    frame_index = 0\n",
    "\n",
    "    while cap.isOpened():\n",
    "        ret, frame = cap.read()\n",
    "        if not ret:\n",
    "            break\n",
    "\n",
    "\n",
    "        frame_filename = os.path.join(output_dir, f'frame_'+str(frame_index)+'.png')\n",
    "        cv.imwrite(frame_filename, frame)\n",
    "\n",
    "        frame_index += 1\n",
    "\n",
    "    cap.release()\n",
    "    cv.destroyAllWindows()"
   ]
  },
  {
   "cell_type": "code",
   "execution_count": null,
   "id": "041f9314",
   "metadata": {},
   "outputs": [],
   "source": [
    "write_frames_in_folder(SOURCE_VIDEO_PATH)"
   ]
  },
  {
   "cell_type": "markdown",
   "id": "d9c1345a",
   "metadata": {},
   "source": [
    "### Plot detections in video"
   ]
  },
  {
   "cell_type": "code",
   "execution_count": null,
   "id": "411b41d9",
   "metadata": {},
   "outputs": [],
   "source": [
    "def plot_bbox_in_video(video_path, csv_path):\n",
    "    def get_random_color():\n",
    "        return (random.randint(0, 255), random.randint(0, 255), random.randint(0, 255))\n",
    "    \n",
    "    data = pd.read_csv(csv_path)\n",
    "    cap = cv.VideoCapture(video_path)\n",
    "    \n",
    "    if not cap.isOpened():\n",
    "        print(\"Error: Could not open video.\")\n",
    "        return\n",
    "    \n",
    "    fps = cap.get(cv.CAP_PROP_FPS)\n",
    "    frame_delay = int(1000 / fps)\n",
    "    \n",
    "    track_colors = {}\n",
    "    frame_index = 0\n",
    "\n",
    "    while cap.isOpened():\n",
    "        ret, frame = cap.read()\n",
    "        if not ret:\n",
    "            break\n",
    "        \n",
    "        frame_data = data[data['frame'] == frame_index]\n",
    "       \n",
    "        for index, row in frame_data.iterrows():\n",
    "            track_id = row['track_id']\n",
    "\n",
    "            if track_id not in track_colors:\n",
    "                track_colors[track_id] = get_random_color()\n",
    "\n",
    "            color = track_colors[track_id]\n",
    "            x1, y1, x2, y2 = int(row['x1']), int(row['y1']), int(row['x2']), int(row['y2'])\n",
    "            cv.rectangle(frame, (x1, y1), (x2, y2), color, 2)\n",
    "\n",
    "        cv.imshow('Video with Bounding Boxes', frame)\n",
    "\n",
    "        if cv.waitKey(frame_delay) & 0xFF == ord('q'):\n",
    "            break\n",
    "\n",
    "        frame_index += 1\n",
    "        \n",
    "        if frame_index % 100 == 0:\n",
    "            print(f\"Processed {frame_index} frames\")\n",
    "        \n",
    "       \n",
    "        if frame_index % 500 == 0:\n",
    "            cv.waitKey(500)  \n",
    "\n",
    "    cap.release()\n",
    "    cv.destroyAllWindows()\n",
    "\n"
   ]
  },
  {
   "cell_type": "code",
   "execution_count": null,
   "id": "a05d4743",
   "metadata": {},
   "outputs": [],
   "source": [
    "plot_bbox_in_video(SOURCE_VIDEO_PATH,DETECTIONS_PATH)"
   ]
  },
  {
   "cell_type": "code",
   "execution_count": null,
   "id": "789331c9",
   "metadata": {},
   "outputs": [],
   "source": [
    "def plot_center_bbox_in_video(video_path, csv_path):\n",
    "    def get_random_color():\n",
    "        return (random.randint(0, 255), random.randint(0, 255), random.randint(0, 255))\n",
    "    \n",
    "    data = pd.read_csv(csv_path)\n",
    "    cap = cv.VideoCapture(video_path)\n",
    "    \n",
    "    if not cap.isOpened():\n",
    "        print(\"Error: Could not open video.\")\n",
    "        return\n",
    "    \n",
    "    fps = cap.get(cv.CAP_PROP_FPS)\n",
    "    frame_width = int(cap.get(cv.CAP_PROP_FRAME_WIDTH))\n",
    "    frame_height = int(cap.get(cv.CAP_PROP_FRAME_HEIGHT))\n",
    "    frame_delay = int(1000 / fps)  # Delay in milliseconds\n",
    "\n",
    "    track_colors = {}\n",
    "    track_centers = {}\n",
    "\n",
    "    frame_index = 0\n",
    "    \n",
    "    while cap.isOpened():\n",
    "        ret, frame = cap.read()\n",
    "        if not ret:\n",
    "            break\n",
    "\n",
    "        white_frame = 255 * np.ones(shape=[frame_height, frame_width, 3], dtype=np.uint8)\n",
    "\n",
    "        frame_data = data[data['frame'] == frame_index]\n",
    "\n",
    "        for index, row in frame_data.iterrows():\n",
    "            track_id = row['track_id']\n",
    "            \n",
    "            if track_id not in track_colors:\n",
    "                track_colors[track_id] = get_random_color()\n",
    "\n",
    "            color = track_colors[track_id]\n",
    "            x1, y1, x2, y2 = int(row['x1']), int(row['y1']), int(row['x2']), int(row['y2'])\n",
    "\n",
    "            center_x = (x1 + x2) // 2\n",
    "            center_y = (y1 + y2) // 2\n",
    "\n",
    "            if track_id not in track_centers:\n",
    "                track_centers[track_id] = []\n",
    "            track_centers[track_id].append((center_x, center_y))\n",
    "\n",
    "        for track_id, centers in track_centers.items():\n",
    "            color = track_colors[track_id]\n",
    "            for center in centers:\n",
    "                cv.circle(white_frame, center, radius=5, color=color, thickness=-1)\n",
    "\n",
    "        cv.imshow('Trajectories on White Background', white_frame)\n",
    "\n",
    "        if cv.waitKey(frame_delay) & 0xFF == ord('q'):\n",
    "            break\n",
    "\n",
    "        frame_index += 1\n",
    "\n",
    "    cap.release()\n",
    "    cv.destroyAllWindows()\n",
    "\n"
   ]
  },
  {
   "cell_type": "code",
   "execution_count": null,
   "id": "6eb6f1b6",
   "metadata": {},
   "outputs": [],
   "source": [
    "plot_center_bbox_in_video(SOURCE_VIDEO_PATH,DETECTIONS_PATH)"
   ]
  },
  {
   "cell_type": "markdown",
   "id": "692dc622",
   "metadata": {},
   "source": [
    "### Calculate and filter the trajectories"
   ]
  },
  {
   "cell_type": "code",
   "execution_count": null,
   "id": "5a182745",
   "metadata": {},
   "outputs": [],
   "source": [
    "def calculate_trajectories(csv_path):\n",
    "    centers_dict = {}\n",
    "    with open(csv_path, mode='r') as file:\n",
    "        reader = csv.DictReader(file)\n",
    "        for row in reader:\n",
    "            track_id = int(row[\"track_id\"])\n",
    "            cx = (float(row[\"x1\"]) + float(row[\"x2\"])) / 2\n",
    "            cy = (float(row[\"y1\"]) + float(row[\"y2\"])) / 2\n",
    "\n",
    "            if track_id not in centers_dict:\n",
    "                centers_dict[track_id] = []\n",
    "\n",
    "            centers_dict[track_id].append([cx, cy])\n",
    "\n",
    "    trajectories=[]\n",
    "    #TODO:\n",
    "            \n",
    "    return trajectories"
   ]
  },
  {
   "cell_type": "code",
   "execution_count": null,
   "id": "3751faca",
   "metadata": {},
   "outputs": [],
   "source": [
    "trajectories=calculate_trajectories(DETECTIONS_PATH)"
   ]
  },
  {
   "cell_type": "code",
   "execution_count": null,
   "id": "c9c21d4c",
   "metadata": {},
   "outputs": [],
   "source": [
    "print(f\"Number of trajectories: {len(trajectories)}\")\n",
    "\n",
    "lengths = []\n",
    "for trajectory in trajectories:\n",
    "    lengths.append(len(trajectory))\n",
    "median_length = np.median(lengths)\n",
    "print(f\"Median number of segments in a trajectory: {median_length}\")\n",
    "\n",
    "\n",
    "segment_length = []\n",
    "for trajectory in trajectories:\n",
    "    s = 0\n",
    "    for i in range(1, len(trajectory)):\n",
    "        s += np.linalg.norm(trajectory[i] - trajectory[i-1])\n",
    "    segment_length.append(s)\n",
    "\n",
    "median_segment_length = np.median(segment_length)\n",
    "print(f\"Median length of the trajectories: {median_segment_length}\")"
   ]
  },
  {
   "cell_type": "markdown",
   "id": "9edc5424",
   "metadata": {},
   "source": [
    "### Reduce trajectory to 150 points"
   ]
  },
  {
   "cell_type": "code",
   "execution_count": null,
   "id": "d9a9d5ad",
   "metadata": {},
   "outputs": [],
   "source": [
    "def reduce_trajectory(trajectory, num_points):\n",
    "    if not isinstance(trajectory, np.ndarray):\n",
    "        raise TypeError(\"Trajectory must be a numpy array\")\n",
    "    elif trajectory.shape[1] != 2:\n",
    "        raise ValueError(\"Trajectory must be a numpy array of shape (n, 2)\")\n",
    "    \n",
    "    if trajectory.shape[0] == num_points:\n",
    "        return trajectory\n",
    "    old_points = np.linspace(0, 1, len(trajectory))\n",
    "    \n",
    "    new_points = np.linspace(0, 1, num_points)\n",
    "\n",
    "    new_trajectory = []\n",
    "    for dimension in range(len(trajectory[0])):\n",
    "        old_values = [point[dimension] for point in trajectory]\n",
    "        interpolator = interpolate.PPoly.from_spline(interpolate.splrep(old_points, old_values))\n",
    "        new_values = interpolator(new_points)\n",
    "        new_trajectory.append(new_values)\n",
    "\n",
    "    return np.transpose(new_trajectory)\n"
   ]
  },
  {
   "cell_type": "code",
   "execution_count": null,
   "id": "9acd2d39",
   "metadata": {},
   "outputs": [],
   "source": [
    "def filter_length(trajectory, min_length=50):\n",
    "    length = 0\n",
    "    for i in range(1, len(trajectory)):\n",
    "        length += dist.euclidean(trajectory[i], trajectory[i-1])\n",
    "\n",
    "    return length >= min_length"
   ]
  },
  {
   "cell_type": "code",
   "execution_count": null,
   "id": "69e8e46d",
   "metadata": {},
   "outputs": [],
   "source": [
    "simplified_trajectories = [trajectory for trajectory in simplified_trajectories if filter_length(trajectory, min_length=200)]\n",
    "first_points = [trajectory[:10] for trajectory in simplified_trajectories]\n",
    "last_points = [trajectory[-10:] for trajectory in simplified_trajectories]"
   ]
  },
  {
   "cell_type": "code",
   "execution_count": null,
   "id": "4a63ddeb",
   "metadata": {},
   "outputs": [],
   "source": [
    "generator = get_video_frames_generator(SOURCE_VIDEO_PATH)"
   ]
  },
  {
   "cell_type": "code",
   "execution_count": null,
   "id": "b4b2314c",
   "metadata": {},
   "outputs": [],
   "source": [
    "for i, trajectory in enumerate(first_points):\n",
    "    plt.plot(trajectory[:, 0], trajectory[:, 1])\n",
    "\n",
    "frame = next(iter(generator))\n",
    "plt.imshow(cv.cvtColor(frame, cv.COLOR_BGR2RGB))\n",
    "plt.show()\n"
   ]
  },
  {
   "cell_type": "code",
   "execution_count": null,
   "id": "4bcccdcb",
   "metadata": {},
   "outputs": [],
   "source": [
    "#TODO Plot the last points"
   ]
  },
  {
   "cell_type": "markdown",
   "id": "adf2e3a7",
   "metadata": {},
   "source": [
    "### Apply TSNE "
   ]
  },
  {
   "cell_type": "code",
   "execution_count": null,
   "id": "33a11751",
   "metadata": {},
   "outputs": [],
   "source": [
    "np_trajectories = np.array(first_points)\n",
    "\n",
    "trajectories_flattened = np.array([traj.flatten() for traj in np_trajectories])\n",
    "n_samples = len(trajectories_flattened)\n",
    "print(f\"Number of samples: {n_samples}\")\n",
    "perplexity = n_samples //5\n",
    "tsne = TSNE(n_components=2, random_state=0, perplexity=perplexity, n_iter=1000, learning_rate=300)"
   ]
  },
  {
   "cell_type": "code",
   "execution_count": null,
   "id": "73d5a680",
   "metadata": {},
   "outputs": [],
   "source": [
    "trajectories_tsne_first = tsne.fit_transform(trajectories_flattened)\n",
    "plt.scatter(trajectories_tsne_first[:, 0], trajectories_tsne_first[:, 1])\n",
    "plt.show()"
   ]
  },
  {
   "cell_type": "code",
   "execution_count": null,
   "id": "d5a5dc4c",
   "metadata": {},
   "outputs": [],
   "source": [
    "np_trajectories = np.array(last_points)\n",
    "trajectories_flattened = np.array([traj.flatten() for traj in np_trajectories])\n",
    "\n",
    "trajectories_tsne_last = tsne.fit_transform(trajectories_flattened)\n",
    "\n",
    "plt.scatter(trajectories_tsne_last[:, 0], trajectories_tsne_last[:, 1])\n",
    "plt.show()\n"
   ]
  },
  {
   "cell_type": "code",
   "execution_count": null,
   "id": "dd381d78",
   "metadata": {},
   "outputs": [],
   "source": [
    "from sklearn.preprocessing import StandardScaler\n",
    "\n",
    "\n",
    "scaler = StandardScaler()\n",
    "trajectories_tsne_first_standardized = scaler.fit_transform(trajectories_tsne_first)\n",
    "trajectories_tsne_last_standardized = scaler.transform(trajectories_tsne_last)\n",
    "\n",
    "trajectories_tsne_first_standardized = (trajectories_tsne_first_standardized - np.min(trajectories_tsne_first_standardized)) / (np.max(trajectories_tsne_first_standardized) - np.min(trajectories_tsne_first_standardized))\n",
    "trajectories_tsne_last_standardized = (trajectories_tsne_last_standardized - np.min(trajectories_tsne_last_standardized)) / (np.max(trajectories_tsne_last_standardized) - np.min(trajectories_tsne_last_standardized))\n",
    "\n",
    "plt.scatter(trajectories_tsne_first_standardized[:, 0], trajectories_tsne_first_standardized[:, 1])\n",
    "plt.show()\n",
    "\n",
    "plt.scatter(trajectories_tsne_last_standardized[:, 0], trajectories_tsne_last_standardized[:, 1])\n",
    "plt.show()"
   ]
  },
  {
   "cell_type": "code",
   "execution_count": null,
   "id": "d19a730a",
   "metadata": {},
   "outputs": [],
   "source": [
    "cluster_model =KMeans(n_clusters=4)"
   ]
  },
  {
   "cell_type": "markdown",
   "id": "2d919554",
   "metadata": {},
   "source": [
    "### Clusterize the first points"
   ]
  },
  {
   "cell_type": "code",
   "execution_count": null,
   "id": "0bcb51c4",
   "metadata": {},
   "outputs": [],
   "source": [
    "cluster_assignments = cluster_model.fit_predict(trajectories_tsne_first_standardized)\n",
    "plt.scatter(trajectories_tsne_first_standardized[:, 0], trajectories_tsne_first_standardized[:, 1], c=cluster_assignments)\n",
    "\n",
    "\n",
    "for i in np.unique(cluster_assignments):\n",
    "    cluster_points = trajectories_tsne_first_standardized[cluster_assignments == i]\n",
    "    x = np.mean(cluster_points[:, 0])\n",
    "    y = np.mean(cluster_points[:, 1])\n",
    "    plt.text(x, y, str(i), fontsize=12, color='red')\n",
    "    plt.gca().add_artist(plt.Circle((x, y), 0.1, color='red', fill=False))\n",
    "\n",
    "plt.show()"
   ]
  },
  {
   "cell_type": "markdown",
   "id": "d9e9cd94",
   "metadata": {},
   "source": [
    "### Clusterize the last points"
   ]
  },
  {
   "cell_type": "code",
   "execution_count": null,
   "id": "a1b77277",
   "metadata": {},
   "outputs": [],
   "source": [
    "#TODO Clusterize the last points"
   ]
  },
  {
   "cell_type": "code",
   "execution_count": null,
   "id": "2d785256",
   "metadata": {},
   "outputs": [],
   "source": [
    "for cluster_id in np.unique(cluster_assignments):\n",
    "    cluster_indices = np.where(cluster_assignments == cluster_id)[0]\n",
    "    for i in cluster_indices:\n",
    "        traj = first_points[i]\n",
    "        plt.plot(traj[:, 0], traj[:, 1], color = plt.cm.tab20(cluster_id))\n",
    "generator = get_video_frames_generator(SOURCE_VIDEO_PATH)\n",
    "frame = next(iter(generator))\n",
    "\n",
    "\n",
    "for cluster_id in np.unique(cluster_assignments):\n",
    "    cluster_indices = np.where(cluster_assignments == cluster_id)[0]\n",
    "    plt.figure(figsize=(10, 6))\n",
    "    \n",
    "    for i in cluster_indices:\n",
    "        \n",
    "        traj = first_points[i]\n",
    "        \n",
    "        plt.plot(traj[:, 0], traj[:, 1], color = plt.cm.tab20(cluster_id))\n",
    "\n",
    "    plt.title(f\"Cluster {cluster_id}\")\n",
    "    plt.imshow(cv.cvtColor(frame, cv.COLOR_BGR2RGB))\n",
    "    plt.show()\n",
    "\n",
    "plt.figure(figsize=(10, 6))\n"
   ]
  },
  {
   "cell_type": "code",
   "execution_count": null,
   "id": "3bee3c7b",
   "metadata": {},
   "outputs": [],
   "source": [
    "for cluster_id in np.unique(cluster_assignments_last):\n",
    "    cluster_indices = np.where(cluster_assignments_last == cluster_id)[0]\n",
    "    plt.figure(figsize=(10, 6))\n",
    "\n",
    "    for i in cluster_indices:\n",
    "        traj = last_points[i]\n",
    "\n",
    "        plt.plot(traj[:, 0], traj[:, 1], color = plt.cm.tab20(cluster_id))\n",
    "\n",
    "    plt.title(f\"Cluster {cluster_id}\")\n",
    "    plt.imshow(cv.cvtColor(frame, cv.COLOR_BGR2RGB))\n",
    "    plt.show()\n",
    "\n",
    "plt.figure(figsize=(10, 6))\n",
    "\n"
   ]
  },
  {
   "cell_type": "code",
   "execution_count": null,
   "id": "5a1f12c0",
   "metadata": {},
   "outputs": [],
   "source": [
    "for cluster_id in np.unique(cluster_assignments):\n",
    "    cluster_indices = np.where(cluster_assignments == cluster_id)[0]\n",
    "\n",
    "    for i in cluster_indices:\n",
    "        traj = first_points[i]\n",
    "        plt.plot(traj[:, 0], traj[:, 1], color = plt.cm.tab20(cluster_id))\n",
    "\n",
    "for cluster_id in np.unique(cluster_assignments_last):\n",
    "    cluster_indices = np.where(cluster_assignments_last == cluster_id)[0]\n",
    "    \n",
    "    for i in cluster_indices:\n",
    "        traj = last_points[i]\n",
    "        plt.plot(traj[:, 0], traj[:, 1], color = plt.cm.tab20(cluster_id + 4))"
   ]
  },
  {
   "cell_type": "code",
   "execution_count": null,
   "id": "5ffcc4b9",
   "metadata": {},
   "outputs": [],
   "source": [
    "first_clusters = cluster_assignments\n",
    "last_clusters = cluster_assignments_last\n",
    "\n",
    "all_trajectory_clusters = {}\n",
    "\n",
    "\n",
    "#TODO plot directions \n",
    "\n",
    "\n",
    "for cluster in all_trajectory_clusters.keys():\n",
    "    print(f\"Cluster {cluster}: {len(all_trajectory_clusters[cluster])} trajectories\")\n",
    "    plt.figure(figsize=(10, 6))\n",
    "    for trajectory in all_trajectory_clusters[cluster]:\n",
    "        plt.plot(trajectory[:, 0], trajectory[:, 1])\n",
    "\n",
    "    plt.imshow(cv.cvtColor(frame, cv.COLOR_BGR2RGB))\n",
    "    plt.show()\n",
    "\n"
   ]
  },
  {
   "cell_type": "markdown",
   "id": "9e7fc1f3",
   "metadata": {},
   "source": [
    "### Average the trajectory"
   ]
  },
  {
   "cell_type": "code",
   "execution_count": null,
   "id": "f6cb3195",
   "metadata": {},
   "outputs": [],
   "source": [
    "for cluster in all_trajectory_clusters:\n",
    "    trajectories = all_trajectory_clusters[cluster]"
   ]
  },
  {
   "cell_type": "code",
   "execution_count": null,
   "id": "9ea7c48e",
   "metadata": {},
   "outputs": [],
   "source": [
    "def average_trajectory(trajectories):\n",
    "    return np.mean(trajectories, axis=0)\n",
    "\n",
    "average_trajectories = {}\n",
    "for cluster_key, trajectories in all_trajectory_clusters.items():\n",
    "    trajectory_stack = np.stack(trajectories)\n",
    "    average_trajectories[cluster_key] = average_trajectory(trajectory_stack)\n",
    "\n",
    "plt.figure(figsize=(10, 6))\n",
    "for cluster_key, avg_traj in average_trajectories.items():\n",
    "    plt.plot(avg_traj[:, 0], avg_traj[:, 1], label=f\"Cluster {cluster_key}\")\n",
    "plt.legend()\n",
    "plt.title(\"Average Trajectories for Each Cluster\")\n",
    "plt.xlabel(\"X Coordinate\")\n",
    "plt.ylabel(\"Y Coordinate\")\n",
    "plt.show()\n"
   ]
  },
  {
   "cell_type": "code",
   "execution_count": null,
   "id": "53e3a7df",
   "metadata": {},
   "outputs": [],
   "source": [
    "plt.figure(figsize=(10, 6))\n",
    "for cluster_key, avg_traj in average_trajectories.items():\n",
    "    plt.plot(avg_traj[:, 0], avg_traj[:, 1], label=f\"Cluster {cluster_key}\")\n",
    "plt.legend()\n",
    "plt.title(\"Average Trajectories for Each Cluster\")\n",
    "plt.xlabel(\"X Coordinate\")\n",
    "plt.ylabel(\"Y Coordinate\")\n",
    "plt.imshow(cv.cvtColor(frame, cv.COLOR_BGR2RGB))\n",
    "plt.show()"
   ]
  },
  {
   "cell_type": "code",
   "execution_count": null,
   "id": "51a16ee6",
   "metadata": {},
   "outputs": [],
   "source": []
  }
 ],
 "metadata": {
  "kernelspec": {
   "display_name": "Python 3 (ipykernel)",
   "language": "python",
   "name": "python3"
  },
  "language_info": {
   "codemirror_mode": {
    "name": "ipython",
    "version": 3
   },
   "file_extension": ".py",
   "mimetype": "text/x-python",
   "name": "python",
   "nbconvert_exporter": "python",
   "pygments_lexer": "ipython3",
   "version": "3.8.11"
  }
 },
 "nbformat": 4,
 "nbformat_minor": 5
}
