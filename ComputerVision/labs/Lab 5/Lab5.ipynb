{
 "cells": [
  {
   "cell_type": "markdown",
   "metadata": {},
   "source": [
    "# Image Morphing \n",
    "The goal of this exercise is to present a simple method for image morphing. We will work with pairs of images containing faces which are annotated with facial landmarks. The goal is to morph (transform) a face into another other face by creating a smooth transition between the source image and the destination image. The transition contains fake images obtained using geometric and photometric interpolation based on regions (triangles) selected from the two images. The method can be easily extended to other class of objects (different than faces).\n",
    "\n",
    "<img src=\"images\\final_result.gif\" width=100 />\n",
    "\n",
    "In achieving our goal, we will follow the next steps:\n",
    "1. compute the Delauney triangulation based on the facial landmarks in the source image, partinioning the face in triangles. We transfer this triangulation to the destination image for corresponding facial landmarks;\n",
    "2. compute the affine transformation between pairs of corresponding triangles from the two images;\n",
    "3. create fake triangles based on geometric and photometric interpolation of triangles selected  from the source and destination images\n",
    "\n",
    "<table width=\"950px\">\n",
    "<tr>\n",
    "<th><center>Source - real</center></th>\n",
    "<th><center>fake</center></th> \n",
    "<th><center>fake</center></th> \n",
    "<th><center>fake</center></th> \n",
    "<th><center>fake</center></th> \n",
    "<th><center>fake</center></th> \n",
    "<th><center>Destination - real</center></th> \n",
    "</tr>\n",
    "<tr>\n",
    "<td><img src=\"images\\img_0.jpg\" width=100 /></td>\n",
    "<td><img src=\"images\\img_10.jpg\" width=100 /></td>\n",
    "<td><img src=\"images\\img_20.jpg\" width=100 /></td>\n",
    "<td><img src=\"images\\img_30.jpg\" width=100 /></td>\n",
    "<td><img src=\"images\\img_40.jpg\" width=100 /></td>\n",
    "<td><img src=\"images\\img_50.jpg\" width=100 /></td>\n",
    "<td><img src=\"images\\img_60.jpg\" width=100 /></td> \n",
    "</tr>\n",
    "</table>   "
   ]
  },
  {
   "cell_type": "code",
   "execution_count": 2,
   "metadata": {},
   "outputs": [],
   "source": [
    "import numpy as np\n",
    "import cv2 as cv\n",
    "from scipy.spatial import Delaunay\n",
    "import scipy.io"
   ]
  },
  {
   "cell_type": "code",
   "execution_count": 3,
   "metadata": {},
   "outputs": [],
   "source": [
    "def show_image_points(img,points):    \n",
    "    img_ = img.copy()\n",
    "    for p in points:\n",
    "        cv.circle(img_, (p[0], p[1]), 3, (0, 255, 0), -1)    \n",
    "    cv.imshow(\"image\",img_)\n",
    "    cv.waitKey(0) # waits until a key is pressed\n",
    "    cv.destroyAllWindows() # destroys the window showing image\n",
    "    return img_"
   ]
  },
  {
   "cell_type": "code",
   "execution_count": 4,
   "metadata": {},
   "outputs": [],
   "source": [
    "#show the annotated facial landmarks on each image\n",
    "img1 = cv.imread('images/bogdan_crop.jpg'); #source image\n",
    "temp = scipy.io.loadmat('data/bogdan_points.mat')\n",
    "p1 = temp['points']\n",
    "p1 = np.uint64(p1)\n",
    "img1_ = show_image_points(img1, p1)\n",
    "\n",
    "img2 = cv.imread('images/clooney_crop.jpg');#destination image\n",
    "temp = scipy.io.loadmat('data/clooney_points.mat')\n",
    "p2 = temp['points']\n",
    "p2 = np.uint64(p2)\n",
    "img2_ = show_image_points(img2, p2)"
   ]
  },
  {
   "cell_type": "code",
   "execution_count": 5,
   "metadata": {},
   "outputs": [],
   "source": [
    "cv.imshow(\"img1_\",img1_)\n",
    "cv.imshow(\"img2_\",img2_)\n",
    "cv.waitKey(0)\n",
    "cv.destroyAllWindows()"
   ]
  },
  {
   "cell_type": "code",
   "execution_count": 6,
   "metadata": {},
   "outputs": [
    {
     "name": "stdout",
     "output_type": "stream",
     "text": [
      "We have obtained  70  triangles\n"
     ]
    }
   ],
   "source": [
    "#compute the Delauney triangulation based on the facial landmarks in the source image\n",
    "#the face is partitioned in triangles\n",
    "triangulation = Delaunay(p1)\n",
    "print(\"We have obtained \", str(triangulation.simplices.shape[0]), \" triangles\")\n",
    "#print(triangulation.simplices) #show for each triangle the index of each vertex"
   ]
  },
  {
   "cell_type": "code",
   "execution_count": 7,
   "metadata": {},
   "outputs": [],
   "source": [
    "#plot the triangles partitioning the face, each triangle with a different color\n",
    "def show_image_triangulated(img,points,triangulation):\n",
    "    img_t = img.copy()\n",
    "    colors = [[255,0,0],[0,255,0],[0,0,255],[255,255,0],[255,0,255],[0,255,255],[0,0,0],[128,255,255],[255,128,255],[255,255,128]]\n",
    "    number_colors = len(colors)    \n",
    "    \n",
    "    for idx,t in enumerate(triangulation.simplices):\n",
    "        point1 = points[t[0]]\n",
    "        #cv.circle(img, (point1[0], point1[1]), 3, (0, 255, 0), -1)\n",
    "        point2 = points[t[1]]\n",
    "        #cv.circle(img, (point2[0], point2[1]), 3, (0, 255, 0), -1)\n",
    "        point3 = points[t[2]]\n",
    "        #cv.circle(img, (point3[0], point3[1]), 3, (0, 255, 0), -1)\n",
    "        \n",
    "        cv.line(img_t, (point1[0],point1[1]), (point2[0],point2[1]), colors[idx % number_colors], 3)\n",
    "        cv.line(img_t, (point2[0],point2[1]), (point3[0],point3[1]), colors[idx % number_colors], 3)\n",
    "        cv.line(img_t, (point3[0],point3[1]), (point1[0],point1[1]), colors[idx % number_colors], 3)            \n",
    "        \n",
    "    cv.imshow(\"image with triangles\",img_t)\n",
    "    cv.waitKey(0) # waits until a key is pressed\n",
    "    cv.destroyAllWindows() # destroys the window showing image\n",
    "    return img_t\n",
    "\n",
    "img_t_1 = show_image_triangulated(img1,p1,triangulation)\n",
    "#transfer the triangulation to the destination image (we migh have triangles which overlap)\n",
    "img_t_2 = show_image_triangulated(img2,p2,triangulation)"
   ]
  },
  {
   "cell_type": "code",
   "execution_count": 8,
   "metadata": {},
   "outputs": [],
   "source": [
    "cv.imshow(\"image1\",img_t_1)\n",
    "cv.imshow(\"image2\",img_t_2)\n",
    "cv.waitKey(0)\n",
    "cv.destroyAllWindows()"
   ]
  },
  {
   "cell_type": "markdown",
   "metadata": {},
   "source": [
    "Compute the affine transformation T between two triangles ABC and DEF using the formula derived in lecture 9. We use the proxy triangle with vertices (0,1), (0,0) and (1,0) to get affine transformation T1 and T2. Then, we have that T = T2 * inv(T1)\n",
    "<table width=\"950px\">\n",
    "<tr>\n",
    "<td><img src=\"images\\affine_transformation_1.png\" width=450 /></td>\n",
    "<td><img src=\"images\\affine_transformation_2.png\" width=450 /></td>    \n",
    "</tr>\n",
    "</table>   "
   ]
  },
  {
   "cell_type": "code",
   "execution_count": 11,
   "metadata": {},
   "outputs": [],
   "source": [
    "def compute_affine_transformation(triangle_1, triangle_2):# \n",
    "# find the affine transformation matrix T that transforms vertices of triangle_1 in vertices of triangle_2\n",
    "# follow the lecture: compute first T1, T2, than T = T2 * inv(T1) \n",
    "    \n",
    "    ...\n",
    "    \n",
    "    T = T2 @ np.linalg.inv(T1)\n",
    "        \n",
    "    return T"
   ]
  },
  {
   "cell_type": "code",
   "execution_count": null,
   "metadata": {},
   "outputs": [],
   "source": [
    "#sanity check for the first triangle with vertices = points 18, 17, 19\n",
    "\n",
    "#take triangle ABC: A = p1[18], B = p1[17], C = p1[19]\n",
    "triangle_1 = np.float32([p1[18],p1[17],p1[19]])\n",
    "\n",
    "#take triangle DEF: D= p2[18], E = p2[17], F = p2[19]\n",
    "triangle_2 = np.float32([p2[18],p2[17],p2[19]])\n",
    "\n",
    "print(\"Triangle ABC: \", triangle_1,\"\\n\")\n",
    "print(\"Triangle DEF:\", triangle_2,\"\\n\")\n",
    "\n",
    "T = compute_affine_transformation(triangle_1,triangle_2)\n",
    "print(\"The affine transformation matrix T = \", T,\"\\n\")\n",
    "\n",
    "#verify that T transforms A in D\n",
    "print(\"Verifying that T trasforms A in D: A = \",p1[18], \" D = \", p2[18])\n",
    "print(\"Apply T to point A. We obtain \",T.dot([p1[18][0],p1[18][1],1]), \"\\n\")\n",
    "\n",
    "#verify that T transforms B in E\n",
    "print(\"Verifying that T transforms B in E: B = \",p1[17], \" E = \", p2[17])\n",
    "print(\"Apply T to point B. We obtain \",T.dot([p1[17][0],p1[17][1],1]),\"\\n\")\n",
    "\n",
    "#verify that T transforms C in F\n",
    "print(\"Verifying that T transforms C in F: C = \",p1[19], \" F = \", p2[19])\n",
    "print(\"Apply T to point C. We obtain \",T.dot([p1[19][0],p1[19][1],1]),\"\\n\")\n",
    "\n",
    "#verify that T transforms middle point of AB in middle point of DE\n",
    "mAB = 0.5*p1[17] + 0.5*p1[18]  \n",
    "mDE = 0.5*p2[17] + 0.5*p2[18]\n",
    "print(\"middle point of AB = \", mAB)\n",
    "print(\"middle points of DE = \", mDE)\n",
    "print(\"Verifying that T transforms middle point of AB in middle point of DE: mAB = \",mAB, \" mDE = \", mDE)\n",
    "print(\"Apply T to point mAB. We obtain \",T.dot([mAB[0],mAB[1],1]),\"\\n\")"
   ]
  },
  {
   "cell_type": "code",
   "execution_count": 9,
   "metadata": {},
   "outputs": [],
   "source": [
    "# Warps and alpha blends triangular regions from img1 and img2 to img\n",
    "def morph_triangles(img1, img2, img_morphed, t1, t2, alpha,show_images) :\n",
    "\n",
    "    #compute the coordinates of the triangle in the morphed image as average weighting\n",
    "    t = (1-alpha) * t1 + alpha * t2\n",
    "    \n",
    "    # Find bounding rectangle for each triangle\n",
    "    r1 = cv.boundingRect(np.float32([t1]))\n",
    "    r2 = cv.boundingRect(np.float32([t2]))\n",
    "    r = cv.boundingRect(np.float32([t]))\n",
    "\n",
    "    # Offset points by left top corner of the respective rectangles\n",
    "    t1_rect = []\n",
    "    t2_rect = []\n",
    "    t_rect = []\n",
    "\n",
    "    for i in range(0, 3):\n",
    "        t_rect.append(((t[i][0] - r[0]),(t[i][1] - r[1])))\n",
    "        t1_rect.append(((t1[i][0] - r1[0]),(t1[i][1] - r1[1])))\n",
    "        t2_rect.append(((t2[i][0] - r2[0]),(t2[i][1] - r2[1])))\n",
    "\n",
    "\n",
    "    # Get mask by filling triangle\n",
    "    mask = np.zeros((r[3], r[2], 3), dtype = np.float32)\n",
    "    cv.fillConvexPoly(mask, np.int32(t_rect), (1.0, 1.0, 1.0), 16, 0);\n",
    "\n",
    "    # Apply warpImage to small rectangular patches\n",
    "    img1_rect = img1[r1[1]:r1[1] + r1[3], r1[0]:r1[0] + r1[2]]\n",
    "    img2_rect = img2[r2[1]:r2[1] + r2[3], r2[0]:r2[0] + r2[2]]\n",
    "\n",
    "    size = (r[2], r[3])\n",
    "    \n",
    "    T = compute_affine_transformation(t1_rect, t_rect)        \n",
    "    warp_img1 = cv.warpAffine(img1_rect, T[:2], (size[0], size[1]), None, flags=cv.INTER_LINEAR, borderMode=cv.BORDER_REFLECT_101 )\n",
    "    \n",
    "    T = compute_affine_transformation(t2_rect, t_rect)    \n",
    "    warp_img2 = cv.warpAffine(img2_rect, T[:2], (size[0], size[1]), None, flags=cv.INTER_LINEAR, borderMode=cv.BORDER_REFLECT_101 )\n",
    "       \n",
    "\n",
    "    # Alpha blend rectangular patches\n",
    "    img_rect = np.uint8((1.0 - alpha) * warp_img1 + alpha * warp_img2)\n",
    "    \n",
    "    # Copy triangular region of the rectangular patch to the output image\n",
    "    img_morphed[r[1]:r[1]+r[3], r[0]:r[0]+r[2]] = img_morphed[r[1]:r[1]+r[3], r[0]:r[0]+r[2]] * ( 1 - mask ) + img_rect * mask\n",
    "    \n",
    "    if show_images:\n",
    "        cv.imshow(\"img1_Rect\",img1_rect)\n",
    "        cv.imshow(\"warped image 1\",warp_img1)\n",
    "        cv.imshow(\"img2_Rect\",img2_rect)\n",
    "        cv.imshow(\"warped image 2\",warp_img2)\n",
    "        cv.imshow(\"blend rectangular patches\",img_rect)\n",
    "        cv.imshow(\"mask\",mask)\n",
    "        cv.imshow(\"img_morphed\",img_morphed) \n",
    "        cv.waitKey(0)\n",
    "        cv.destroyAllWindows()\n",
    "                \n",
    "    return img_morphed"
   ]
  },
  {
   "cell_type": "code",
   "execution_count": null,
   "metadata": {},
   "outputs": [],
   "source": [
    "#do a demo for just one triangle\n",
    "#morph a triangle to the corresponding triangle\n",
    "#take the pairs of triangles from line 20, with vertices the landmarks: 31 33  7\n",
    "\n",
    "#take triangle ABC: A = p1[31], B = p1[33], C = p1[7]\n",
    "t1 = np.float32([p1[31],p1[33],p1[7]])\n",
    "\n",
    "#take triangle DEF: D= p2[31], E = p2[33], F = p2[7]\n",
    "t2 = np.float32([p2[31],p2[33],p2[7]])\n",
    "\n",
    "alpha = 0.5\n",
    "img_morphed = np.zeros(img1.shape, dtype = img1.dtype)\n",
    "img_morphed = morph_triangles(img1, img2, img_morphed, t1, t2, alpha,1)"
   ]
  },
  {
   "cell_type": "code",
   "execution_count": 28,
   "metadata": {},
   "outputs": [],
   "source": [
    "def morph_image(img1,img2,p1,p2,triangulation,alpha,show_images):\n",
    "    \n",
    "    img_morph = np.zeros(img1.shape, dtype = img1.dtype)\n",
    "    \n",
    "    ...\n",
    "        \n",
    "    return img_morph"
   ]
  },
  {
   "cell_type": "code",
   "execution_count": 29,
   "metadata": {},
   "outputs": [],
   "source": [
    "img1 = cv.imread('images/bogdan_crop.jpg'); #source image\n",
    "img2 = cv.imread('images/clooney_crop.jpg');#destination image\n",
    "\n",
    "temp = scipy.io.loadmat('data/bogdan_points.mat')\n",
    "p1 = temp['points']\n",
    "p1 = np.uint64(p1)\n",
    "\n",
    "temp = scipy.io.loadmat('data/clooney_points.mat')\n",
    "p2 = temp['points']\n",
    "p2 = np.uint64(p2)\n",
    "\n",
    "triangulation = Delaunay(p1)\n",
    "number_steps = 50\n",
    "\n",
    "for step in range(0,number_steps+1):\n",
    "    alpha = step/number_steps\n",
    "    \n",
    "    #print(\"alpha = \", alpha)\n",
    "    img_morph = morph_image(img1, img2, p1, p2, triangulation, alpha,0)\n",
    "    \n",
    "    # Display Result\n",
    "    cv.imwrite(\"gif/image_\" + str(step) +  \".png\",img_morph)\n",
    "    cv.imshow(\"Morphed Face\", np.uint8(img_morph))\n",
    "    cv.waitKey(500)\n",
    "    cv.destroyAllWindows()"
   ]
  },
  {
   "cell_type": "code",
   "execution_count": null,
   "metadata": {},
   "outputs": [],
   "source": [
    "#go to https://gifmaker.me/ for making a gif\n",
    "#could also install some libraries to make gif in opencv"
   ]
  }
 ],
 "metadata": {
  "kernelspec": {
   "display_name": "Python 3 (ipykernel)",
   "language": "python",
   "name": "python3"
  },
  "language_info": {
   "codemirror_mode": {
    "name": "ipython",
    "version": 3
   },
   "file_extension": ".py",
   "mimetype": "text/x-python",
   "name": "python",
   "nbconvert_exporter": "python",
   "pygments_lexer": "ipython3",
   "version": "3.9.16"
  }
 },
 "nbformat": 4,
 "nbformat_minor": 2
}
