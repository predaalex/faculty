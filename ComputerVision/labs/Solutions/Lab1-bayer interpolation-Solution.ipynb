{
 "cells": [
  {
   "cell_type": "markdown",
   "id": "ed8a9996",
   "metadata": {},
   "source": [
    "## Demosaicing\n",
    "\n",
    "In this assigment, we are going to 'demosaic' an image encoded with the Bayer Pattern. There are some cameras that use the Bayer Pattern in order to save an image. Using this encoding only 50% of green pixels, 25% of red pixels and 25% of blue pixels are kept. The Bayer encoding takes a RBG image and encodes it as in the bellow image. \n",
    "<img src=\"bayer_patterns.PNG\" alt=\"Drawing\" style=\"heigth: 300px;\"/>\n",
    "\n",
    "\n"
   ]
  },
  {
   "cell_type": "markdown",
   "id": "aeef6c39",
   "metadata": {},
   "source": [
    "In this lab, we are going to 'demosaic' an encoded image in the **RGGB** pattern.   \n",
    "<img src=\"bayer_rggb.PNG\" alt=\"Drawing\" style=\"width: 300px;\"/>\n",
    "\n"
   ]
  },
  {
   "cell_type": "markdown",
   "id": "c60d3e91",
   "metadata": {},
   "source": [
    "We will implement a very simple algorithm which, for each pixel, fills in the two missing channels by averaging the values of their nearest neighbors (1, 2 or 4) in the corresponding channel.  \n",
    "<img src=\"interpolation.PNG\" alt=\"Drawing\" style=\"width: 500px;\"/>\n"
   ]
  },
  {
   "cell_type": "markdown",
   "id": "6b8b7948",
   "metadata": {},
   "source": [
    "To complete this task, we have to do:\n",
    "- read the encoded image (crayons_mosaic.bmp)\n",
    "- recreate the green, red and blue channel by copying the values into the corresponding positons of each channel\n",
    "- interpolate the missing values in each channel"
   ]
  },
  {
   "cell_type": "code",
   "execution_count": null,
   "id": "5195cd63",
   "metadata": {},
   "outputs": [],
   "source": [
    "import numpy as np\n",
    "import matplotlib.pyplot as plt\n",
    "import cv2 as cv"
   ]
  },
  {
   "cell_type": "code",
   "execution_count": null,
   "id": "ac20390d",
   "metadata": {},
   "outputs": [],
   "source": [
    "# read encoded image\n",
    "encoded_image = plt.imread(\"crayons_mosaic.bmp\").astype(np.float32)\n",
    "plt.imshow(np.uint8(encoded_image), cmap='gray')\n",
    "print('encoded_image shape = {}'.format(encoded_image.shape))"
   ]
  },
  {
   "cell_type": "code",
   "execution_count": null,
   "id": "a98f82e7",
   "metadata": {},
   "outputs": [],
   "source": [
    "def split_r_b_g(encoded_image):\n",
    "    \"\"\"\n",
    "    This function takes the encoded image and returns \n",
    "    R, G and B channels with the corresponding values taken from the encoded image.\n",
    "    The image was encoded using the following pattern:\n",
    "    R G\n",
    "    G B\n",
    "    The encoded image looks like:\n",
    "    R G R G\n",
    "    G B G B\n",
    "    R G R G\n",
    "    G B G B\n",
    "    \"\"\"\n",
    "    height, width = encoded_image.shape\n",
    "    r_channel = np.zeros((height, width), np.float32)\n",
    "    g_channel = np.zeros((height, width), np.float32)\n",
    "    b_channel = np.zeros((height, width), np.float32)\n",
    "    # TODO: copy the corresponding pixels\n",
    "    r_channel[0::2,0::2]=encoded_image[0::2,0::2]\n",
    "    return r_channel, g_channel, b_channel"
   ]
  },
  {
   "cell_type": "code",
   "execution_count": null,
   "id": "20c3601a",
   "metadata": {},
   "outputs": [],
   "source": [
    "r_channel, g_channel, b_channel = split_r_b_g(encoded_image)\n",
    "color_image = np.stack((r_channel, g_channel, b_channel), axis=2)\n",
    "print(color_image.shape)\n",
    "plt.imshow(np.uint8(color_image))\n",
    "print(encoded_image[:5,:5])\n",
    "print(r_channel[:5,:5])"
   ]
  },
  {
   "cell_type": "code",
   "execution_count": null,
   "id": "319579ea",
   "metadata": {},
   "outputs": [],
   "source": [
    "# print some values for the red channel:\n",
    "print(r_channel[0:6, 0:6])"
   ]
  },
  {
   "cell_type": "code",
   "execution_count": null,
   "id": "222230cc",
   "metadata": {},
   "outputs": [],
   "source": [
    "# print some values for the green channel:\n",
    "print(g_channel[0:6, 0:6])"
   ]
  },
  {
   "cell_type": "code",
   "execution_count": null,
   "id": "f51b8543",
   "metadata": {},
   "outputs": [],
   "source": [
    "# print some values for the blue channel:\n",
    "print(b_channel[0:6, 0:6])"
   ]
  },
  {
   "cell_type": "code",
   "execution_count": null,
   "id": "266b98b5",
   "metadata": {},
   "outputs": [],
   "source": [
    "# define 4 types of interpolation based on the shape of neighboring pixels\n",
    "\n",
    "def interpolate_4_points_plus(channel, i, j):\n",
    "    # check boundaries\n",
    "    if i - 1 < 0 or j - 1 < 0 or i + 1 >= channel.shape[0] or j + 1 >= channel.shape[1]:\n",
    "        return    \n",
    "    channel[i, j] = np.mean([channel[i - 1, j], channel[i, j + 1], channel[i + 1, j], channel[i, j - 1]])\n",
    "    \n",
    "def interpolate_4_points_diag(channel, i, j):\n",
    "    # check boundaries\n",
    "    if i - 1 < 0 or j - 1 < 0 or i + 1 >= channel.shape[0] or j + 1 >= channel.shape[1]:\n",
    "        return    \n",
    "    channel[i, j] = np.mean([channel[i - 1, j - 1], channel[i - 1, j + 1], channel[i + 1, j + 1], channel[i + 1, j - 1]])\n",
    "    \n",
    "def interpolate_2_points_horizontal(channel, i, j):\n",
    "    if j - 1 < 0 or j + 1 >= channel.shape[1]:\n",
    "        return\n",
    "    channel[i, j] = np.mean([channel[i, j - 1], channel[i, j + 1]])\n",
    "        \n",
    "def interpolate_2_points_vertical(channel, i, j):\n",
    "    if i - 1 < 0 or i + 1 >= channel.shape[0]:\n",
    "        return\n",
    "    channel[i, j] = np.mean([channel[i - 1, j], channel[i + 1, j]])\n"
   ]
  },
  {
   "cell_type": "code",
   "execution_count": null,
   "id": "62dabb64",
   "metadata": {},
   "outputs": [],
   "source": [
    "def interpolate_red_channel(red_channel):\n",
    "    \"\"\"\n",
    "    The red channel looks like:\n",
    "    R 0 R 0 R 0 R 0\n",
    "    0 0 0 0 0 0 0 0\n",
    "    R 0 R 0 R 0 R 0\n",
    "    0 0 0 0 0 0 0 0\n",
    "    \"\"\"\n",
    "    interpolated_red_channel = red_channel.copy()\n",
    "    height, width = interpolated_red_channel.shape\n",
    "    # TODO: interpolate the points on diagonal\n",
    "    for i in range(1,height,2):\n",
    "        for j in range(1,width,2):\n",
    "            interpolate_4_points_diag(interpolated_red_channel, i, j)\n",
    "    \"\"\"\n",
    "    Now red channel looks like:\n",
    "    R 0 R 0 R 0 R 0\n",
    "    0 R 0 R 0 R 0 0\n",
    "    R 0 R 0 R 0 R 0\n",
    "    0 0 0 0 0 0 0 0\n",
    "    \"\"\"\n",
    "    # TODO: interpolate horizontal  \n",
    "    \n",
    "    # TODO: interpolate vertical  \n",
    "    \n",
    "    # 'interpolate' last line and last column\n",
    "    interpolated_red_channel[height - 1] = interpolated_red_channel[height - 2]\n",
    "    interpolated_red_channel[:, width - 1] = interpolated_red_channel[:, width - 2]\n",
    "    return interpolated_red_channel\n",
    "     "
   ]
  },
  {
   "cell_type": "code",
   "execution_count": null,
   "id": "9d304d93",
   "metadata": {},
   "outputs": [],
   "source": [
    "def interpolate_blue_channel(blue_channel):\n",
    "    \"\"\"\n",
    "    The blue channel looks like:\n",
    "    0 0 0 0 0 0 0 0\n",
    "    0 B 0 B 0 B 0 B\n",
    "    0 0 0 0 0 0 0 0\n",
    "    0 B 0 B 0 B 0 B\n",
    "    \"\"\"\n",
    "    interpolated_blue_channel = blue_channel.copy()\n",
    "    height, width = interpolated_blue_channel.shape\n",
    "    # TODO: interpolate the points on diagonal\n",
    "    \"\"\"\n",
    "    Now the blue channel looks like:\n",
    "    0 0 0 0 0 0 0 0\n",
    "    0 B 0 B 0 B 0 B\n",
    "    0 0 B 0 B 0 B 0\n",
    "    0 B 0 B 0 B 0 B\n",
    "    \"\"\"\n",
    "    # TODO: interpolate horizontal  \n",
    "    \n",
    "    # TODO: interpolate vertical  \n",
    "    \n",
    "    # 'interpolate' first line and first column\n",
    "    interpolated_blue_channel[0] = interpolated_blue_channel[1]\n",
    "    interpolated_blue_channel[:, 0] = interpolated_blue_channel[:, 1]\n",
    "    \n",
    "    return interpolated_blue_channel"
   ]
  },
  {
   "cell_type": "code",
   "execution_count": null,
   "id": "60dc420e",
   "metadata": {},
   "outputs": [],
   "source": [
    "def interpolate_green_channel(green_channel):\n",
    "    \"\"\"\n",
    "    The green channel looks like:\n",
    "    0 G 0 G 0 G 0 G\n",
    "    G 0 G 0 G 0 G 0\n",
    "    0 G 0 G 0 G 0 G\n",
    "    G 0 G 0 G 0 G 0\n",
    "    By now, we are going to ignore the margins.\n",
    "    \"\"\"\n",
    "    interpolated_green_channel = green_channel.copy()\n",
    "    height, width = interpolated_green_channel.shape\n",
    "    # TODO: interpolate the points on 'plus' \n",
    "    \n",
    "    # TODO: interpolate the points on 'plus' \n",
    "            \n",
    "    return interpolated_green_channel"
   ]
  },
  {
   "cell_type": "code",
   "execution_count": null,
   "id": "a5c345c6",
   "metadata": {},
   "outputs": [],
   "source": [
    "interpolated_red_channel=interpolate_red_channel(r_channel)\n",
    "print(interpolated_red_channel[:5,:5])"
   ]
  },
  {
   "cell_type": "code",
   "execution_count": null,
   "id": "24b64dd4",
   "metadata": {},
   "outputs": [],
   "source": [
    "cv.imwrite('color_image.png', color_image[:, :, [2, 1, 0]])\n",
    "print(color_image.dtype)"
   ]
  },
  {
   "cell_type": "code",
   "execution_count": null,
   "id": "31878603",
   "metadata": {},
   "outputs": [],
   "source": [
    "plt.imshow(np.uint8(color_image))"
   ]
  },
  {
   "cell_type": "code",
   "execution_count": null,
   "id": "c5de3f5a",
   "metadata": {},
   "outputs": [],
   "source": [
    "I=encoded_image.copy()\n",
    "m,n=I.shape\n",
    "I_padded=np.zeros((m+2,n+2))\n",
    "I_padded[1:m+1,1:n+1]=I.copy()\n",
    "I_padded[:,0]=I_padded[:,2]\n",
    "I_padded[:,n+1]=I_padded[:,n-1]\n",
    "I_padded[0,:]=I_padded[2,:]\n",
    "I_padded[m+1,:]=I_padded[m-1,:]\n",
    "print(I_padded[:10,:10])"
   ]
  },
  {
   "cell_type": "code",
   "execution_count": null,
   "id": "1ceafb2e",
   "metadata": {},
   "outputs": [],
   "source": [
    "#intrpolation for diagonal\n",
    "X=(I_padded[:-2,:-2]+I_padded[2:,:-2]+I_padded[:-2,2:]+I_padded[2:,2:])/4\n",
    "#interpolation for horizontal\n",
    "H=(I_padded[1:-1,:-2]+I_padded[1:-1,2:])/2\n",
    "#interpolation for vertical\n",
    "V=(I_padded[:-2,1:-1]+I_padded[2:,1:-1])/2\n",
    "#interpolation for plus\n",
    "P=(H+V)/2"
   ]
  },
  {
   "cell_type": "code",
   "execution_count": null,
   "id": "5081dfb1",
   "metadata": {},
   "outputs": [],
   "source": [
    "C=np.zeros((m,n,3))\n",
    "#copy red channel\n",
    "C[::2,::2,0]=I[::2,::2]\n",
    "#recover from horizontal\n",
    "C[0::2,1::2,0]=H[0::2,1::2]\n",
    "#recover from vertical\n",
    "C[1::2,::2,0]=V[1::2,::2]\n",
    "#recover from diagonal\n",
    "C[1::2,1::2,0]=X[1::2,1::2]\n",
    "#green channel\n",
    "C[1::2,0::2,1]=I[1::2,0::2]\n",
    "C[0::2,1::2,1]=I[0::2,1::2]\n",
    "#recover green from plus\n",
    "C[0::2,0::2,1]=P[0::2,0::2]\n",
    "C[1::2,1::2,1]=P[1::2,1::2]\n",
    "#blue channel\n",
    "C[1::2,1::2,2]=I[1::2,1::2]\n",
    "\n",
    "#recover from horizontal\n",
    "C[1::2,0::2,2]=H[1::2,0::2]\n",
    "#recover from vertical\n",
    "C[0::2,1::2,2]=V[0::2,1::2]\n",
    "#recover from diagonal\n",
    "C[0::2,0::2,2]=X[0::2,0::2]"
   ]
  },
  {
   "cell_type": "code",
   "execution_count": null,
   "id": "18a9c8b2",
   "metadata": {},
   "outputs": [],
   "source": [
    "cv.imwrite('result.png',C[:, :, [2, 1, 0]])"
   ]
  },
  {
   "cell_type": "code",
   "execution_count": null,
   "id": "84487c1f",
   "metadata": {},
   "outputs": [],
   "source": []
  }
 ],
 "metadata": {
  "kernelspec": {
   "display_name": "Python 3 (ipykernel)",
   "language": "python",
   "name": "python3"
  },
  "language_info": {
   "codemirror_mode": {
    "name": "ipython",
    "version": 3
   },
   "file_extension": ".py",
   "mimetype": "text/x-python",
   "name": "python",
   "nbconvert_exporter": "python",
   "pygments_lexer": "ipython3",
   "version": "3.8.11"
  }
 },
 "nbformat": 4,
 "nbformat_minor": 5
}
