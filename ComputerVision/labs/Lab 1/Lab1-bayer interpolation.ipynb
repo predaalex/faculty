{
 "cells": [
  {
   "cell_type": "markdown",
   "id": "ed8a9996",
   "metadata": {},
   "source": [
    "## Demosaicing\n",
    "\n",
    "In this assigment, we are going to 'demosaic' an image encoded with the Bayer Pattern. There are some cameras that use the Bayer Pattern in order to save an image. Using this encoding only 50% of green pixels, 25% of red pixels and 25% of blue pixels are kept. The Bayer encoding takes a RBG image and encodes it as in the bellow image. \n",
    "<img src=\"bayer_patterns.PNG\" alt=\"Drawing\" style=\"heigth: 300px;\"/>\n",
    "\n",
    "\n"
   ]
  },
  {
   "cell_type": "markdown",
   "id": "aeef6c39",
   "metadata": {},
   "source": [
    "In this lab, we are going to 'demosaic' an encoded image in the **RGGB** pattern.   \n",
    "<img src=\"bayer_rggb.PNG\" alt=\"Drawing\" style=\"width: 300px;\"/>\n",
    "\n"
   ]
  },
  {
   "cell_type": "markdown",
   "id": "c60d3e91",
   "metadata": {},
   "source": [
    "We will implement a very simple algorithm which, for each pixel, fills in the two missing channels by averaging the values of their nearest neighbors (1, 2 or 4) in the corresponding channel.  \n",
    "<img src=\"interpolation.PNG\" alt=\"Drawing\" style=\"width: 500px;\"/>\n"
   ]
  },
  {
   "cell_type": "markdown",
   "id": "6b8b7948",
   "metadata": {},
   "source": [
    "To complete this task, we have to do:\n",
    "- read the encoded image (crayons_mosaic.bmp)\n",
    "- recreate the green, red and blue channel by copying the values into the corresponding positons of each channel\n",
    "- interpolate the missing values in each channel"
   ]
  },
  {
   "cell_type": "code",
   "execution_count": 1,
   "id": "5195cd63",
   "metadata": {},
   "source": [
    "import numpy as np\n",
    "import matplotlib.pyplot as plt\n",
    "import cv2 as cv"
   ],
   "outputs": []
  },
  {
   "cell_type": "code",
   "execution_count": 2,
   "id": "ac20390d",
   "metadata": {},
   "source": [
    "# read encoded image\n",
    "encoded_image = plt.imread(\"crayons_mosaic.bmp\").astype(np.float32)\n",
    "plt.imshow(np.uint8(encoded_image), cmap='gray')\n",
    "print('encoded_image shape = {}'.format(encoded_image.shape))"
   ],
   "outputs": []
  },
  {
   "cell_type": "code",
   "execution_count": 3,
   "id": "a98f82e7",
   "metadata": {},
   "source": [
    "def split_r_b_g(encoded_image):\n",
    "    \"\"\"\n",
    "    This function takes the encoded image and returns \n",
    "    R, G and B channels with the corresponding values taken from the encoded image.\n",
    "    The image was encoded using the following pattern:\n",
    "    R G\n",
    "    G B\n",
    "    The encoded image looks like:\n",
    "    R G R G\n",
    "    G B G B\n",
    "    R G R G\n",
    "    G B G B\n",
    "    \"\"\"\n",
    "    height, width = encoded_image.shape\n",
    "    r_channel = np.zeros((height, width), np.float32)\n",
    "    g_channel = np.zeros((height, width), np.float32)\n",
    "    b_channel = np.zeros((height, width), np.float32)\n",
    "    # TODO: copy the corresponding pixels\n",
    "    \n",
    "    return r_channel, g_channel, b_channel"
   ],
   "outputs": []
  },
  {
   "cell_type": "code",
   "execution_count": 5,
   "id": "20c3601a",
   "metadata": {},
   "source": [
    "r_channel, g_channel, b_channel = split_r_b_g(encoded_image)\n",
    "color_image = np.stack((r_channel, g_channel, b_channel), axis=2)\n",
    "print(color_image.shape)\n",
    "plt.imshow(np.uint8(color_image))"
   ],
   "outputs": []
  },
  {
   "cell_type": "code",
   "execution_count": 6,
   "id": "319579ea",
   "metadata": {},
   "source": [
    "# print some values for the red channel:\n",
    "print(r_channel[0:6, 0:6])"
   ],
   "outputs": []
  },
  {
   "cell_type": "code",
   "execution_count": 7,
   "id": "222230cc",
   "metadata": {},
   "source": [
    "# print some values for the green channel:\n",
    "print(g_channel[0:6, 0:6])"
   ],
   "outputs": []
  },
  {
   "cell_type": "code",
   "execution_count": 8,
   "id": "f51b8543",
   "metadata": {},
   "source": [
    "# print some values for the blue channel:\n",
    "print(b_channel[0:6, 0:6])"
   ],
   "outputs": []
  },
  {
   "cell_type": "code",
   "execution_count": 9,
   "id": "266b98b5",
   "metadata": {},
   "source": [
    "# define 4 types of interpolation based on the shape of neighboring pixels\n",
    "\n",
    "def interpolate_4_points_plus(channel, i, j):\n",
    "    # check boundaries\n",
    "    if i - 1 < 0 or j - 1 < 0 or i + 1 >= channel.shape[0] or j + 1 >= channel.shape[1]:\n",
    "        return    \n",
    "    channel[i, j] = np.mean([channel[i - 1, j], channel[i, j + 1], channel[i + 1, j], channel[i, j - 1]])\n",
    "    \n",
    "def interpolate_4_points_diag(channel, i, j):\n",
    "    # check boundaries\n",
    "    if i - 1 < 0 or j - 1 < 0 or i + 1 >= channel.shape[0] or j + 1 >= channel.shape[1]:\n",
    "        return    \n",
    "    channel[i, j] = np.mean([channel[i - 1, j - 1], channel[i - 1, j + 1], channel[i + 1, j + 1], channel[i + 1, j - 1]])\n",
    "    \n",
    "def interpolate_2_points_horizontal(channel, i, j):\n",
    "    if j - 1 < 0 or j + 1 >= channel.shape[1]:\n",
    "        return\n",
    "    channel[i, j] = np.mean([channel[i, j - 1], channel[i, j + 1]])\n",
    "        \n",
    "def interpolate_2_points_vertical(channel, i, j):\n",
    "    if i - 1 < 0 or i + 1 >= channel.shape[0]:\n",
    "        return\n",
    "    channel[i, j] = np.mean([channel[i - 1, j], channel[i + 1, j]])\n"
   ],
   "outputs": []
  },
  {
   "cell_type": "code",
   "execution_count": 11,
   "id": "62dabb64",
   "metadata": {},
   "source": [
    "def interpolate_red_channel(red_channel):\n",
    "    \"\"\"\n",
    "    The red channel looks like:\n",
    "    R 0 R 0 R 0 R 0\n",
    "    0 0 0 0 0 0 0 0\n",
    "    R 0 R 0 R 0 R 0\n",
    "    0 0 0 0 0 0 0 0\n",
    "    \"\"\"\n",
    "    interpolated_red_channel = red_channel.copy()\n",
    "    height, width = interpolated_red_channel.shape\n",
    "    # TODO: interpolate the points on diagonal\n",
    "    \n",
    "    \"\"\"\n",
    "    Now red channel looks like:\n",
    "    R 0 R 0 R 0 R 0\n",
    "    0 R 0 R 0 R 0 0\n",
    "    R 0 R 0 R 0 R 0\n",
    "    0 0 0 0 0 0 0 0\n",
    "    \"\"\"\n",
    "    # TODO: interpolate horizontal  \n",
    "    \n",
    "    # TODO: interpolate vertical  \n",
    "    \n",
    "    # 'interpolate' last line and last column\n",
    "    interpolated_red_channel[height - 1] = interpolated_red_channel[height - 2]\n",
    "    interpolated_red_channel[:, width - 1] = interpolated_red_channel[:, width - 2]\n",
    "    return interpolated_red_channel\n",
    "     "
   ],
   "outputs": []
  },
  {
   "cell_type": "code",
   "execution_count": null,
   "id": "9d304d93",
   "metadata": {},
   "source": [
    "def interpolate_blue_channel(blue_channel):\n",
    "    \"\"\"\n",
    "    The blue channel looks like:\n",
    "    0 0 0 0 0 0 0 0\n",
    "    0 B 0 B 0 B 0 B\n",
    "    0 0 0 0 0 0 0 0\n",
    "    0 B 0 B 0 B 0 B\n",
    "    \"\"\"\n",
    "    interpolated_blue_channel = blue_channel.copy()\n",
    "    height, width = interpolated_blue_channel.shape\n",
    "    # TODO: interpolate the points on diagonal\n",
    "    \"\"\"\n",
    "    Now the blue channel looks like:\n",
    "    0 0 0 0 0 0 0 0\n",
    "    0 B 0 B 0 B 0 B\n",
    "    0 0 B 0 B 0 B 0\n",
    "    0 B 0 B 0 B 0 B\n",
    "    \"\"\"\n",
    "    # TODO: interpolate horizontal  \n",
    "    \n",
    "    # TODO: interpolate vertical  \n",
    "    \n",
    "    # 'interpolate' first line and first column\n",
    "    interpolated_blue_channel[0] = interpolated_blue_channel[1]\n",
    "    interpolated_blue_channel[:, 0] = interpolated_blue_channel[:, 1]\n",
    "    \n",
    "    return interpolated_blue_channel"
   ],
   "outputs": []
  },
  {
   "cell_type": "code",
   "execution_count": null,
   "id": "60dc420e",
   "metadata": {},
   "source": [
    "def interpolate_green_channel(green_channel):\n",
    "    \"\"\"\n",
    "    The green channel looks like:\n",
    "    0 G 0 G 0 G 0 G\n",
    "    G 0 G 0 G 0 G 0\n",
    "    0 G 0 G 0 G 0 G\n",
    "    G 0 G 0 G 0 G 0\n",
    "    By now, we are going to ignore the margins.\n",
    "    \"\"\"\n",
    "    interpolated_green_channel = green_channel.copy()\n",
    "    height, width = interpolated_green_channel.shape\n",
    "    # TODO: interpolate the points on 'plus' \n",
    "    \n",
    "    # TODO: interpolate the points on 'plus' \n",
    "            \n",
    "    return interpolated_green_channel"
   ],
   "outputs": []
  },
  {
   "cell_type": "code",
   "execution_count": null,
   "id": "ded233f9",
   "metadata": {},
   "source": [
    "color_image = ..."
   ],
   "outputs": []
  },
  {
   "cell_type": "code",
   "execution_count": 23,
   "id": "24b64dd4",
   "metadata": {},
   "source": [
    "cv.imwrite('color_image.png', color_image[:, :, [2, 1, 0]])\n",
    "print(color_image.dtype)"
   ],
   "outputs": []
  },
  {
   "cell_type": "code",
   "execution_count": 24,
   "id": "31878603",
   "metadata": {},
   "source": [
    "plt.imshow(np.uint8(color_image))"
   ],
   "outputs": []
  }
 ],
 "metadata": {
  "kernelspec": {
   "display_name": "Python 3 (ipykernel)",
   "language": "python",
   "name": "python3"
  },
  "language_info": {
   "codemirror_mode": {
    "name": "ipython",
    "version": 3
   },
   "file_extension": ".py",
   "mimetype": "text/x-python",
   "name": "python",
   "nbconvert_exporter": "python",
   "pygments_lexer": "ipython3",
   "version": "3.8.11"
  }
 },
 "nbformat": 4,
 "nbformat_minor": 5
}
