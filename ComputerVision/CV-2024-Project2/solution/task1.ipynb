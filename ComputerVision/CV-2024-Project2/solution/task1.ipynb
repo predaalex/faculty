{
 "cells": [
  {
   "metadata": {},
   "cell_type": "markdown",
   "source": "# Task 1",
   "id": "562cde097770a053"
  },
  {
   "cell_type": "code",
   "id": "initial_id",
   "metadata": {
    "collapsed": true,
    "ExecuteTime": {
     "end_time": "2024-06-11T18:50:35.427261Z",
     "start_time": "2024-06-11T18:50:35.421685Z"
    }
   },
   "source": [
    "import torch\n",
    "import cv2 as cv\n",
    "import numpy as np\n",
    "import pandas as pd\n",
    "import os\n",
    "\n",
    "import torchvision\n",
    "from sklearn.model_selection import train_test_split"
   ],
   "outputs": [],
   "execution_count": 40
  },
  {
   "metadata": {},
   "cell_type": "markdown",
   "source": "# Load data",
   "id": "dab294e327b11e68"
  },
  {
   "metadata": {
    "ExecuteTime": {
     "end_time": "2024-06-11T18:50:35.457752Z",
     "start_time": "2024-06-11T18:50:35.433393Z"
    }
   },
   "cell_type": "code",
   "source": [
    "car_image_names_path = './data/vehicles'\n",
    "car_image_names = [f\"{car_image_names_path}/{path}\" for path in os.listdir(car_image_names_path)]\n",
    "non_car_image_names_path = './data/non-vehicles'\n",
    "non_car_image_names = [f\"{non_car_image_names_path}/{path}\" for path in os.listdir(non_car_image_names_path)]\n",
    "car_image_names[:3], non_car_image_names[:3]"
   ],
   "id": "97d34314dc634b70",
   "outputs": [
    {
     "data": {
      "text/plain": [
       "(['./data/vehicles/1.png',\n",
       "  './data/vehicles/10.png',\n",
       "  './data/vehicles/1000.png'],\n",
       " ['./data/non-vehicles/extra1911.png',\n",
       "  './data/non-vehicles/extra1912.png',\n",
       "  './data/non-vehicles/extra1913.png'])"
      ]
     },
     "execution_count": 41,
     "metadata": {},
     "output_type": "execute_result"
    }
   ],
   "execution_count": 41
  },
  {
   "metadata": {
    "ExecuteTime": {
     "end_time": "2024-06-11T18:50:35.473458Z",
     "start_time": "2024-06-11T18:50:35.458776Z"
    }
   },
   "cell_type": "code",
   "source": [
    "images = []\n",
    "labels = []\n",
    "\n",
    "images.extend(car_image_names)\n",
    "labels.extend([1 for _ in range(len(car_image_names))])\n",
    "\n",
    "images.extend(non_car_image_names)\n",
    "labels.extend([0 for _ in range(len(non_car_image_names))])\n",
    "len(images), len(labels)"
   ],
   "id": "78f93572e8d272f",
   "outputs": [
    {
     "data": {
      "text/plain": [
       "(16987, 16987)"
      ]
     },
     "execution_count": 42,
     "metadata": {},
     "output_type": "execute_result"
    }
   ],
   "execution_count": 42
  },
  {
   "metadata": {
    "ExecuteTime": {
     "end_time": "2024-06-11T18:50:35.488803Z",
     "start_time": "2024-06-11T18:50:35.474506Z"
    }
   },
   "cell_type": "code",
   "source": "images[0]",
   "id": "fe08e6b2520d7664",
   "outputs": [
    {
     "data": {
      "text/plain": [
       "'./data/vehicles/1.png'"
      ]
     },
     "execution_count": 43,
     "metadata": {},
     "output_type": "execute_result"
    }
   ],
   "execution_count": 43
  },
  {
   "metadata": {
    "ExecuteTime": {
     "end_time": "2024-06-11T18:50:35.504085Z",
     "start_time": "2024-06-11T18:50:35.489810Z"
    }
   },
   "cell_type": "code",
   "source": [
    "x_train, x_test, y_train, y_test = train_test_split(images, labels, test_size=0.2, random_state=42)\n",
    "len(x_train), len(x_test)"
   ],
   "id": "a7e003544ea56456",
   "outputs": [
    {
     "data": {
      "text/plain": [
       "(13589, 3398)"
      ]
     },
     "execution_count": 44,
     "metadata": {},
     "output_type": "execute_result"
    }
   ],
   "execution_count": 44
  },
  {
   "metadata": {
    "ExecuteTime": {
     "end_time": "2024-06-11T18:50:35.519324Z",
     "start_time": "2024-06-11T18:50:35.505135Z"
    }
   },
   "cell_type": "code",
   "source": [
    "from torchvision.io import read_image\n",
    "from torch.utils.data import Dataset\n",
    "from PIL import Image\n",
    "\n",
    "class VehicleDataset(Dataset):\n",
    "    def __init__(self, images, labels, transform=None):\n",
    "        self.images = images\n",
    "        self.labels = labels\n",
    "        self.transform = transform\n",
    "    \n",
    "    def __len__(self):\n",
    "        return len(self.images)\n",
    "    \n",
    "    def __getitem__(self, idx):\n",
    "        image = Image.open(self.images[idx]).convert(\"RGB\")\n",
    "        label = self.labels[idx]\n",
    "\n",
    "        if self.transform:\n",
    "            image = self.transform(image)\n",
    "\n",
    "        return image, label"
   ],
   "id": "7b387a922f75c9a0",
   "outputs": [],
   "execution_count": 45
  },
  {
   "metadata": {
    "ExecuteTime": {
     "end_time": "2024-06-11T18:50:35.534668Z",
     "start_time": "2024-06-11T18:50:35.520374Z"
    }
   },
   "cell_type": "code",
   "source": [
    "from torchvision.transforms import transforms\n",
    "from torch.utils.data import DataLoader\n",
    "\n",
    "transformer = transforms.Compose([\n",
    "    transforms.Resize((64, 64)),  # Resize to match ResNet input size\n",
    "    transforms.ToTensor(),\n",
    "    transforms.Normalize(mean=[0.485, 0.456, 0.406], std=[0.229, 0.224, 0.225])\n",
    "])\n",
    "\n",
    "training_dataset = VehicleDataset(x_train, y_train, transform=transformer)\n",
    "training_dataloader = DataLoader(training_dataset, batch_size=64, shuffle=True)\n",
    "\n",
    "testing_dataset = VehicleDataset(x_test, y_test, transform=transformer)\n",
    "testing_dataloader = DataLoader(testing_dataset, batch_size=64, shuffle=True)"
   ],
   "id": "e3f2bc71088f13fe",
   "outputs": [],
   "execution_count": 46
  },
  {
   "metadata": {
    "ExecuteTime": {
     "end_time": "2024-06-11T18:50:35.703556Z",
     "start_time": "2024-06-11T18:50:35.535673Z"
    }
   },
   "cell_type": "code",
   "source": [
    "from torchvision import models\n",
    "\n",
    "model = models.resnet34(pretrained=True)"
   ],
   "id": "3bd70f80272fd880",
   "outputs": [],
   "execution_count": 47
  },
  {
   "metadata": {
    "ExecuteTime": {
     "end_time": "2024-06-11T18:50:35.719192Z",
     "start_time": "2024-06-11T18:50:35.704561Z"
    }
   },
   "cell_type": "code",
   "source": "model",
   "id": "c0842f7a2707a985",
   "outputs": [
    {
     "data": {
      "text/plain": [
       "ResNet(\n",
       "  (conv1): Conv2d(3, 64, kernel_size=(7, 7), stride=(2, 2), padding=(3, 3), bias=False)\n",
       "  (bn1): BatchNorm2d(64, eps=1e-05, momentum=0.1, affine=True, track_running_stats=True)\n",
       "  (relu): ReLU(inplace=True)\n",
       "  (maxpool): MaxPool2d(kernel_size=3, stride=2, padding=1, dilation=1, ceil_mode=False)\n",
       "  (layer1): Sequential(\n",
       "    (0): BasicBlock(\n",
       "      (conv1): Conv2d(64, 64, kernel_size=(3, 3), stride=(1, 1), padding=(1, 1), bias=False)\n",
       "      (bn1): BatchNorm2d(64, eps=1e-05, momentum=0.1, affine=True, track_running_stats=True)\n",
       "      (relu): ReLU(inplace=True)\n",
       "      (conv2): Conv2d(64, 64, kernel_size=(3, 3), stride=(1, 1), padding=(1, 1), bias=False)\n",
       "      (bn2): BatchNorm2d(64, eps=1e-05, momentum=0.1, affine=True, track_running_stats=True)\n",
       "    )\n",
       "    (1): BasicBlock(\n",
       "      (conv1): Conv2d(64, 64, kernel_size=(3, 3), stride=(1, 1), padding=(1, 1), bias=False)\n",
       "      (bn1): BatchNorm2d(64, eps=1e-05, momentum=0.1, affine=True, track_running_stats=True)\n",
       "      (relu): ReLU(inplace=True)\n",
       "      (conv2): Conv2d(64, 64, kernel_size=(3, 3), stride=(1, 1), padding=(1, 1), bias=False)\n",
       "      (bn2): BatchNorm2d(64, eps=1e-05, momentum=0.1, affine=True, track_running_stats=True)\n",
       "    )\n",
       "    (2): BasicBlock(\n",
       "      (conv1): Conv2d(64, 64, kernel_size=(3, 3), stride=(1, 1), padding=(1, 1), bias=False)\n",
       "      (bn1): BatchNorm2d(64, eps=1e-05, momentum=0.1, affine=True, track_running_stats=True)\n",
       "      (relu): ReLU(inplace=True)\n",
       "      (conv2): Conv2d(64, 64, kernel_size=(3, 3), stride=(1, 1), padding=(1, 1), bias=False)\n",
       "      (bn2): BatchNorm2d(64, eps=1e-05, momentum=0.1, affine=True, track_running_stats=True)\n",
       "    )\n",
       "  )\n",
       "  (layer2): Sequential(\n",
       "    (0): BasicBlock(\n",
       "      (conv1): Conv2d(64, 128, kernel_size=(3, 3), stride=(2, 2), padding=(1, 1), bias=False)\n",
       "      (bn1): BatchNorm2d(128, eps=1e-05, momentum=0.1, affine=True, track_running_stats=True)\n",
       "      (relu): ReLU(inplace=True)\n",
       "      (conv2): Conv2d(128, 128, kernel_size=(3, 3), stride=(1, 1), padding=(1, 1), bias=False)\n",
       "      (bn2): BatchNorm2d(128, eps=1e-05, momentum=0.1, affine=True, track_running_stats=True)\n",
       "      (downsample): Sequential(\n",
       "        (0): Conv2d(64, 128, kernel_size=(1, 1), stride=(2, 2), bias=False)\n",
       "        (1): BatchNorm2d(128, eps=1e-05, momentum=0.1, affine=True, track_running_stats=True)\n",
       "      )\n",
       "    )\n",
       "    (1): BasicBlock(\n",
       "      (conv1): Conv2d(128, 128, kernel_size=(3, 3), stride=(1, 1), padding=(1, 1), bias=False)\n",
       "      (bn1): BatchNorm2d(128, eps=1e-05, momentum=0.1, affine=True, track_running_stats=True)\n",
       "      (relu): ReLU(inplace=True)\n",
       "      (conv2): Conv2d(128, 128, kernel_size=(3, 3), stride=(1, 1), padding=(1, 1), bias=False)\n",
       "      (bn2): BatchNorm2d(128, eps=1e-05, momentum=0.1, affine=True, track_running_stats=True)\n",
       "    )\n",
       "    (2): BasicBlock(\n",
       "      (conv1): Conv2d(128, 128, kernel_size=(3, 3), stride=(1, 1), padding=(1, 1), bias=False)\n",
       "      (bn1): BatchNorm2d(128, eps=1e-05, momentum=0.1, affine=True, track_running_stats=True)\n",
       "      (relu): ReLU(inplace=True)\n",
       "      (conv2): Conv2d(128, 128, kernel_size=(3, 3), stride=(1, 1), padding=(1, 1), bias=False)\n",
       "      (bn2): BatchNorm2d(128, eps=1e-05, momentum=0.1, affine=True, track_running_stats=True)\n",
       "    )\n",
       "    (3): BasicBlock(\n",
       "      (conv1): Conv2d(128, 128, kernel_size=(3, 3), stride=(1, 1), padding=(1, 1), bias=False)\n",
       "      (bn1): BatchNorm2d(128, eps=1e-05, momentum=0.1, affine=True, track_running_stats=True)\n",
       "      (relu): ReLU(inplace=True)\n",
       "      (conv2): Conv2d(128, 128, kernel_size=(3, 3), stride=(1, 1), padding=(1, 1), bias=False)\n",
       "      (bn2): BatchNorm2d(128, eps=1e-05, momentum=0.1, affine=True, track_running_stats=True)\n",
       "    )\n",
       "  )\n",
       "  (layer3): Sequential(\n",
       "    (0): BasicBlock(\n",
       "      (conv1): Conv2d(128, 256, kernel_size=(3, 3), stride=(2, 2), padding=(1, 1), bias=False)\n",
       "      (bn1): BatchNorm2d(256, eps=1e-05, momentum=0.1, affine=True, track_running_stats=True)\n",
       "      (relu): ReLU(inplace=True)\n",
       "      (conv2): Conv2d(256, 256, kernel_size=(3, 3), stride=(1, 1), padding=(1, 1), bias=False)\n",
       "      (bn2): BatchNorm2d(256, eps=1e-05, momentum=0.1, affine=True, track_running_stats=True)\n",
       "      (downsample): Sequential(\n",
       "        (0): Conv2d(128, 256, kernel_size=(1, 1), stride=(2, 2), bias=False)\n",
       "        (1): BatchNorm2d(256, eps=1e-05, momentum=0.1, affine=True, track_running_stats=True)\n",
       "      )\n",
       "    )\n",
       "    (1): BasicBlock(\n",
       "      (conv1): Conv2d(256, 256, kernel_size=(3, 3), stride=(1, 1), padding=(1, 1), bias=False)\n",
       "      (bn1): BatchNorm2d(256, eps=1e-05, momentum=0.1, affine=True, track_running_stats=True)\n",
       "      (relu): ReLU(inplace=True)\n",
       "      (conv2): Conv2d(256, 256, kernel_size=(3, 3), stride=(1, 1), padding=(1, 1), bias=False)\n",
       "      (bn2): BatchNorm2d(256, eps=1e-05, momentum=0.1, affine=True, track_running_stats=True)\n",
       "    )\n",
       "    (2): BasicBlock(\n",
       "      (conv1): Conv2d(256, 256, kernel_size=(3, 3), stride=(1, 1), padding=(1, 1), bias=False)\n",
       "      (bn1): BatchNorm2d(256, eps=1e-05, momentum=0.1, affine=True, track_running_stats=True)\n",
       "      (relu): ReLU(inplace=True)\n",
       "      (conv2): Conv2d(256, 256, kernel_size=(3, 3), stride=(1, 1), padding=(1, 1), bias=False)\n",
       "      (bn2): BatchNorm2d(256, eps=1e-05, momentum=0.1, affine=True, track_running_stats=True)\n",
       "    )\n",
       "    (3): BasicBlock(\n",
       "      (conv1): Conv2d(256, 256, kernel_size=(3, 3), stride=(1, 1), padding=(1, 1), bias=False)\n",
       "      (bn1): BatchNorm2d(256, eps=1e-05, momentum=0.1, affine=True, track_running_stats=True)\n",
       "      (relu): ReLU(inplace=True)\n",
       "      (conv2): Conv2d(256, 256, kernel_size=(3, 3), stride=(1, 1), padding=(1, 1), bias=False)\n",
       "      (bn2): BatchNorm2d(256, eps=1e-05, momentum=0.1, affine=True, track_running_stats=True)\n",
       "    )\n",
       "    (4): BasicBlock(\n",
       "      (conv1): Conv2d(256, 256, kernel_size=(3, 3), stride=(1, 1), padding=(1, 1), bias=False)\n",
       "      (bn1): BatchNorm2d(256, eps=1e-05, momentum=0.1, affine=True, track_running_stats=True)\n",
       "      (relu): ReLU(inplace=True)\n",
       "      (conv2): Conv2d(256, 256, kernel_size=(3, 3), stride=(1, 1), padding=(1, 1), bias=False)\n",
       "      (bn2): BatchNorm2d(256, eps=1e-05, momentum=0.1, affine=True, track_running_stats=True)\n",
       "    )\n",
       "    (5): BasicBlock(\n",
       "      (conv1): Conv2d(256, 256, kernel_size=(3, 3), stride=(1, 1), padding=(1, 1), bias=False)\n",
       "      (bn1): BatchNorm2d(256, eps=1e-05, momentum=0.1, affine=True, track_running_stats=True)\n",
       "      (relu): ReLU(inplace=True)\n",
       "      (conv2): Conv2d(256, 256, kernel_size=(3, 3), stride=(1, 1), padding=(1, 1), bias=False)\n",
       "      (bn2): BatchNorm2d(256, eps=1e-05, momentum=0.1, affine=True, track_running_stats=True)\n",
       "    )\n",
       "  )\n",
       "  (layer4): Sequential(\n",
       "    (0): BasicBlock(\n",
       "      (conv1): Conv2d(256, 512, kernel_size=(3, 3), stride=(2, 2), padding=(1, 1), bias=False)\n",
       "      (bn1): BatchNorm2d(512, eps=1e-05, momentum=0.1, affine=True, track_running_stats=True)\n",
       "      (relu): ReLU(inplace=True)\n",
       "      (conv2): Conv2d(512, 512, kernel_size=(3, 3), stride=(1, 1), padding=(1, 1), bias=False)\n",
       "      (bn2): BatchNorm2d(512, eps=1e-05, momentum=0.1, affine=True, track_running_stats=True)\n",
       "      (downsample): Sequential(\n",
       "        (0): Conv2d(256, 512, kernel_size=(1, 1), stride=(2, 2), bias=False)\n",
       "        (1): BatchNorm2d(512, eps=1e-05, momentum=0.1, affine=True, track_running_stats=True)\n",
       "      )\n",
       "    )\n",
       "    (1): BasicBlock(\n",
       "      (conv1): Conv2d(512, 512, kernel_size=(3, 3), stride=(1, 1), padding=(1, 1), bias=False)\n",
       "      (bn1): BatchNorm2d(512, eps=1e-05, momentum=0.1, affine=True, track_running_stats=True)\n",
       "      (relu): ReLU(inplace=True)\n",
       "      (conv2): Conv2d(512, 512, kernel_size=(3, 3), stride=(1, 1), padding=(1, 1), bias=False)\n",
       "      (bn2): BatchNorm2d(512, eps=1e-05, momentum=0.1, affine=True, track_running_stats=True)\n",
       "    )\n",
       "    (2): BasicBlock(\n",
       "      (conv1): Conv2d(512, 512, kernel_size=(3, 3), stride=(1, 1), padding=(1, 1), bias=False)\n",
       "      (bn1): BatchNorm2d(512, eps=1e-05, momentum=0.1, affine=True, track_running_stats=True)\n",
       "      (relu): ReLU(inplace=True)\n",
       "      (conv2): Conv2d(512, 512, kernel_size=(3, 3), stride=(1, 1), padding=(1, 1), bias=False)\n",
       "      (bn2): BatchNorm2d(512, eps=1e-05, momentum=0.1, affine=True, track_running_stats=True)\n",
       "    )\n",
       "  )\n",
       "  (avgpool): AdaptiveAvgPool2d(output_size=(1, 1))\n",
       "  (fc): Linear(in_features=512, out_features=1000, bias=True)\n",
       ")"
      ]
     },
     "execution_count": 48,
     "metadata": {},
     "output_type": "execute_result"
    }
   ],
   "execution_count": 48
  },
  {
   "metadata": {
    "ExecuteTime": {
     "end_time": "2024-06-11T18:50:35.734472Z",
     "start_time": "2024-06-11T18:50:35.720240Z"
    }
   },
   "cell_type": "code",
   "source": [
    "from torch import nn\n",
    "\n",
    "num_classes = 1\n",
    "model.fc = nn.Sequential(\n",
    "    nn.Linear(model.fc.in_features, num_classes),\n",
    "    nn.Sigmoid()\n",
    ")"
   ],
   "id": "221f375bd02b9091",
   "outputs": [],
   "execution_count": 49
  },
  {
   "metadata": {
    "ExecuteTime": {
     "end_time": "2024-06-11T18:50:35.750149Z",
     "start_time": "2024-06-11T18:50:35.735476Z"
    }
   },
   "cell_type": "code",
   "source": "criterion = nn.BCELoss()",
   "id": "67d84632b8f0cae8",
   "outputs": [],
   "execution_count": 50
  },
  {
   "metadata": {
    "ExecuteTime": {
     "end_time": "2024-06-11T18:50:35.765310Z",
     "start_time": "2024-06-11T18:50:35.751662Z"
    }
   },
   "cell_type": "code",
   "source": [
    "freeze_layers = 2 # the number of last layers to be unfreezed\n",
    "final_layers_params = []\n",
    "rest_of_model_params = []\n",
    "\n",
    "nr_of_layers = 0\n",
    "for idx, param in enumerate(model.parameters()):\n",
    "    nr_of_layers += 1\n",
    "    \n",
    "for idx, param in enumerate(model.parameters()):\n",
    "    if idx >= nr_of_layers - freeze_layers:\n",
    "        print(idx)\n",
    "        final_layers_params.append(param)\n",
    "    else:\n",
    "        # param.requires_grad = False\n",
    "        rest_of_model_params.append(param)        "
   ],
   "id": "de6f0324687956fa",
   "outputs": [
    {
     "name": "stdout",
     "output_type": "stream",
     "text": [
      "108\n",
      "109\n"
     ]
    }
   ],
   "execution_count": 51
  },
  {
   "metadata": {
    "ExecuteTime": {
     "end_time": "2024-06-11T18:50:35.780579Z",
     "start_time": "2024-06-11T18:50:35.766361Z"
    }
   },
   "cell_type": "code",
   "source": [
    "# Separate the parameters for the final layer and the rest of the model\n",
    "final_layer_params = list(model.fc.parameters())\n",
    "\n",
    "# Define the optimizer\n",
    "optimizer = torch.optim.Adam([\n",
    "    {'params': rest_of_model_params, 'lr': 1e-5},\n",
    "    {'params': final_layer_params, 'lr': 0.001}\n",
    "])\n",
    "epochs = 3"
   ],
   "id": "53974fdd1a7985d6",
   "outputs": [],
   "execution_count": 52
  },
  {
   "metadata": {
    "ExecuteTime": {
     "end_time": "2024-06-11T18:50:35.796244Z",
     "start_time": "2024-06-11T18:50:35.781584Z"
    }
   },
   "cell_type": "code",
   "source": [
    "# from tqdm import tqdm\n",
    "# \n",
    "# num_training_steps = epochs * len(training_dataloader)\n",
    "# progress_bar = tqdm(range(num_training_steps))"
   ],
   "id": "9fe9a03d6514e9de",
   "outputs": [],
   "execution_count": 53
  },
  {
   "metadata": {
    "ExecuteTime": {
     "end_time": "2024-06-11T18:50:35.811427Z",
     "start_time": "2024-06-11T18:50:35.798298Z"
    }
   },
   "cell_type": "code",
   "source": [
    "score_threshold = 0.8\n",
    "def train_model(model, train_loader, val_loader, criterion, optimizer, num_epochs=25):\n",
    "    # Set the device to CUDA if available\n",
    "    device = torch.device(\"cuda\" if torch.cuda.is_available() else \"cpu\")\n",
    "    model = model.to(device)\n",
    "    \n",
    "    for epoch in range(num_epochs):\n",
    "        model.train()\n",
    "        running_loss = 0.0\n",
    "        train_corrects = 0\n",
    "        \n",
    "        for inputs, labels in train_loader:\n",
    "            inputs, labels = inputs.to(device), labels.to(device).float().unsqueeze(1)\n",
    "            \n",
    "            optimizer.zero_grad()\n",
    "            outputs = model(inputs)\n",
    "            loss = criterion(outputs, labels)\n",
    "            loss.backward()\n",
    "            optimizer.step()\n",
    "            \n",
    "            running_loss += loss.item() * inputs.size(0)\n",
    "            preds = (outputs >= score_threshold).float()\n",
    "            train_corrects += torch.sum(preds == labels.data)\n",
    "            # progress_bar.update(1)\n",
    "\n",
    "        epoch_loss = running_loss / len(train_loader.dataset)\n",
    "        train_acc = train_corrects.double() / len(train_loader.dataset)\n",
    "        print(f'Epoch {epoch + 1}/{num_epochs}, Train Loss: {epoch_loss:.4f}, Train Accuracy: {train_acc:.4f}')\n",
    "        \n",
    "        model.eval()\n",
    "        val_running_loss = 0.0\n",
    "        val_corrects = 0\n",
    "        \n",
    "        with torch.no_grad():\n",
    "            for inputs, labels in val_loader:\n",
    "                inputs, labels = inputs.to(device), labels.to(device).float().unsqueeze(1)\n",
    "                \n",
    "                outputs = model(inputs)\n",
    "                loss = criterion(outputs, labels)\n",
    "                \n",
    "                val_running_loss += loss.item() * inputs.size(0)\n",
    "                preds = (outputs >= score_threshold).float()\n",
    "                val_corrects += torch.sum(preds == labels.data)\n",
    "        \n",
    "        val_loss = val_running_loss / len(val_loader.dataset)\n",
    "        val_acc = val_corrects.double() / len(val_loader.dataset)\n",
    "        print(f'Validation Loss: {val_loss:.4f}, Validation Accuracy: {val_acc:.4f}')\n",
    "        print(\"--------------------------------------------------------------------\")\n",
    "    \n",
    "    return model"
   ],
   "id": "d878726843a50577",
   "outputs": [],
   "execution_count": 54
  },
  {
   "metadata": {
    "ExecuteTime": {
     "end_time": "2024-06-11T18:51:07.676200Z",
     "start_time": "2024-06-11T18:50:35.812484Z"
    }
   },
   "cell_type": "code",
   "source": "model = train_model(model, training_dataloader, testing_dataloader, criterion, optimizer, num_epochs=epochs)",
   "id": "4a8bb71a723cebc3",
   "outputs": [
    {
     "name": "stdout",
     "output_type": "stream",
     "text": [
      "Epoch 1/3, Train Loss: 0.0728, Train Accuracy: 0.9554\n",
      "Validation Loss: 0.0094, Validation Accuracy: 0.9935\n",
      "--------------------------------------------------------------------\n",
      "Epoch 2/3, Train Loss: 0.0070, Train Accuracy: 0.9968\n",
      "Validation Loss: 0.0042, Validation Accuracy: 0.9988\n",
      "--------------------------------------------------------------------\n",
      "Epoch 3/3, Train Loss: 0.0036, Train Accuracy: 0.9985\n",
      "Validation Loss: 0.0038, Validation Accuracy: 0.9976\n",
      "--------------------------------------------------------------------\n"
     ]
    }
   ],
   "execution_count": 55
  },
  {
   "metadata": {
    "ExecuteTime": {
     "end_time": "2024-06-11T18:51:07.752463Z",
     "start_time": "2024-06-11T18:51:07.677233Z"
    }
   },
   "cell_type": "code",
   "source": "torch.save(model.state_dict(), 'model.pth')",
   "id": "d4323c1a9eab324d",
   "outputs": [],
   "execution_count": 56
  },
  {
   "metadata": {},
   "cell_type": "markdown",
   "source": "# Let's fetch data from project training data",
   "id": "2894d4edf2a65083"
  },
  {
   "metadata": {
    "ExecuteTime": {
     "end_time": "2024-06-11T18:51:07.767610Z",
     "start_time": "2024-06-11T18:51:07.753488Z"
    }
   },
   "cell_type": "code",
   "source": [
    "project_path = \"../train/Task1\"\n",
    "\n",
    "images_paths = []\n",
    "query_paths = []\n",
    "gt_query_paths = os.listdir(project_path + \"/ground-truth\")\n",
    "\n",
    "file_paths = os.listdir(project_path)\n",
    "for file_path in file_paths:\n",
    "    if file_path.endswith(\".jpg\"):\n",
    "        images_paths.append(file_path)\n",
    "    elif file_path.endswith(\".txt\"):\n",
    "        query_paths.append(file_path)\n",
    "\n",
    "\n",
    "images_paths.sort()\n",
    "query_paths.sort()\n",
    "gt_query_paths.sort()\n",
    "\n",
    "print(images_paths, len(images_paths))\n",
    "print(query_paths, len(query_paths))\n",
    "print(gt_query_paths, len(gt_query_paths))"
   ],
   "id": "60a5827f9001e2c0",
   "outputs": [
    {
     "name": "stdout",
     "output_type": "stream",
     "text": [
      "['01_1.jpg', '01_2.jpg', '01_3.jpg', '02_1.jpg', '02_2.jpg', '02_3.jpg', '03_1.jpg', '03_2.jpg', '03_3.jpg', '04_1.jpg', '04_2.jpg', '04_3.jpg', '05_1.jpg', '05_2.jpg', '05_3.jpg', '06_1.jpg', '06_2.jpg', '06_3.jpg', '07_1.jpg', '07_2.jpg', '07_3.jpg', '08_1.jpg', '08_2.jpg', '08_3.jpg', '09_1.jpg', '09_2.jpg', '09_3.jpg', '10_1.jpg', '10_2.jpg', '10_3.jpg', '11_1.jpg', '11_2.jpg', '11_3.jpg', '11_4.jpg', '12_1.jpg', '12_2.jpg', '12_3.jpg', '12_4.jpg', '13_1.jpg', '13_2.jpg', '13_3.jpg', '13_4.jpg', '14_1.jpg', '14_2.jpg', '14_3.jpg', '14_4.jpg', '15_1.jpg', '15_2.jpg', '15_3.jpg', '15_4.jpg'] 50\n",
      "['01_1_query.txt', '01_2_query.txt', '01_3_query.txt', '02_1_query.txt', '02_2_query.txt', '02_3_query.txt', '03_1_query.txt', '03_2_query.txt', '03_3_query.txt', '04_1_query.txt', '04_2_query.txt', '04_3_query.txt', '05_1_query.txt', '05_2_query.txt', '05_3_query.txt', '06_1_query.txt', '06_2_query.txt', '06_3_query.txt', '07_1_query.txt', '07_2_query.txt', '07_3_query.txt', '08_1_query.txt', '08_2_query.txt', '08_3_query.txt', '09_1_query.txt', '09_2_query.txt', '09_3_query.txt', '10_1_query.txt', '10_2_query.txt', '10_3_query.txt', '11_1_query.txt', '11_2_query.txt', '11_3_query.txt', '11_4_query.txt', '12_1_query.txt', '12_2_query.txt', '12_3_query.txt', '12_4_query.txt', '13_1_query.txt', '13_2_query.txt', '13_3_query.txt', '13_4_query.txt', '14_1_query.txt', '14_2_query.txt', '14_3_query.txt', '14_4_query.txt', '15_1_query.txt', '15_2_query.txt', '15_3_query.txt', '15_4_query.txt'] 50\n",
      "['01_1_gt.txt', '01_2_gt.txt', '01_3_gt.txt', '02_1_gt.txt', '02_2_gt.txt', '02_3_gt.txt', '03_1_gt.txt', '03_2_gt.txt', '03_3_gt.txt', '04_1_gt.txt', '04_2_gt.txt', '04_3_gt.txt', '05_1_gt.txt', '05_2_gt.txt', '05_3_gt.txt', '06_1_gt.txt', '06_2_gt.txt', '06_3_gt.txt', '07_1_gt.txt', '07_2_gt.txt', '07_3_gt.txt', '08_1_gt.txt', '08_2_gt.txt', '08_3_gt.txt', '09_1_gt.txt', '09_2_gt.txt', '09_3_gt.txt', '10_1_gt.txt', '10_2_gt.txt', '10_3_gt.txt', '11_1_gt.txt', '11_2_gt.txt', '11_3_gt.txt', '11_4_gt.txt', '12_1_gt.txt', '12_2_gt.txt', '12_3_gt.txt', '12_4_gt.txt', '13_1_gt.txt', '13_2_gt.txt', '13_3_gt.txt', '13_4_gt.txt', '14_1_gt.txt', '14_2_gt.txt', '14_3_gt.txt', '14_4_gt.txt', '15_1_gt.txt', '15_2_gt.txt', '15_3_gt.txt', '15_4_gt.txt'] 50\n"
     ]
    }
   ],
   "execution_count": 57
  },
  {
   "metadata": {},
   "cell_type": "markdown",
   "source": "# Test image",
   "id": "d8851eec48e828d3"
  },
  {
   "metadata": {
    "ExecuteTime": {
     "end_time": "2024-06-11T18:52:40.723566Z",
     "start_time": "2024-06-11T18:52:40.703280Z"
    }
   },
   "cell_type": "code",
   "source": [
    "from PIL import Image\n",
    "import torchvision\n",
    "\n",
    "test_img_path = 'test.png'\n",
    "\n",
    "img = Image.open(test_img_path).convert('RGB')  # Ensure image is in RGB mode\n",
    "\n",
    "img = transformer(img)\n",
    "img = img.unsqueeze(0)\n",
    "\n",
    "device = torch.device(\"cuda\" if torch.cuda.is_available() else \"cpu\")\n",
    "img = img.to(device)\n",
    "model.to(device)\n",
    "\n",
    "with torch.no_grad():\n",
    "    outputs = model(img)\n",
    "    predicted_class = (outputs >= score_threshold).float().item()\n",
    "    print(outputs)\n",
    "\n",
    "print(f\"Predicted class: {predicted_class}\")"
   ],
   "id": "2e6fe4034f575c8",
   "outputs": [
    {
     "name": "stdout",
     "output_type": "stream",
     "text": [
      "tensor([[0.0003]], device='cuda:0')\n",
      "Predicted class: 0.0\n"
     ]
    }
   ],
   "execution_count": 67
  },
  {
   "metadata": {
    "ExecuteTime": {
     "end_time": "2024-06-11T18:51:31.018360Z",
     "start_time": "2024-06-11T18:51:31.011790Z"
    }
   },
   "cell_type": "code",
   "source": "",
   "id": "495f9b6a815d09a3",
   "outputs": [],
   "execution_count": 62
  }
 ],
 "metadata": {
  "kernelspec": {
   "display_name": "Python 3",
   "language": "python",
   "name": "python3"
  },
  "language_info": {
   "codemirror_mode": {
    "name": "ipython",
    "version": 2
   },
   "file_extension": ".py",
   "mimetype": "text/x-python",
   "name": "python",
   "nbconvert_exporter": "python",
   "pygments_lexer": "ipython2",
   "version": "2.7.6"
  }
 },
 "nbformat": 4,
 "nbformat_minor": 5
}
