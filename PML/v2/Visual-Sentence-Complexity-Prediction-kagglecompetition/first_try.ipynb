{
 "cells": [
  {
   "cell_type": "code",
   "id": "initial_id",
   "metadata": {
    "collapsed": true,
    "ExecuteTime": {
     "end_time": "2025-01-30T19:53:24.599143Z",
     "start_time": "2025-01-30T19:53:22.265153Z"
    }
   },
   "source": [
    "from itertools import product\n",
    "\n",
    "import numpy as np\n",
    "from sklearn import tree\n",
    "from sklearn.ensemble import RandomForestRegressor\n",
    "from sklearn.feature_extraction.text import TfidfVectorizer, CountVectorizer\n",
    "from sklearn.linear_model import LinearRegression\n",
    "from sklearn.preprocessing import StandardScaler\n",
    "import re\n",
    "import spacy.lang.ro.stop_words as stop_words\n",
    "from sklearn.tree import DecisionTreeRegressor\n",
    "from tqdm import tqdm\n",
    "import matplotlib.pyplot as plt\n",
    "from sklearn.decomposition import PCA\n",
    "import pandas as pd\n",
    "from sklearn.svm import SVR\n",
    "from sklearn.metrics import mean_squared_error, mean_absolute_error\n",
    "from scipy.stats import spearmanr, kendalltau\n",
    "import seaborn as sns\n",
    "import warnings\n",
    "\n",
    "# Disable all warnings\n",
    "warnings.filterwarnings(\"ignore\")\n",
    "\n",
    "tqdm.pandas()"
   ],
   "outputs": [],
   "execution_count": 1
  },
  {
   "metadata": {
    "ExecuteTime": {
     "end_time": "2025-01-30T19:53:24.612303Z",
     "start_time": "2025-01-30T19:53:24.600155Z"
    }
   },
   "cell_type": "code",
   "source": [
    "train_dataset = pd.read_csv(\"datasets/train.csv\")\n",
    "validation_dataset = pd.read_csv(\"datasets/val.csv\")\n",
    "test_dataset = pd.read_csv(\"datasets/test.csv\")"
   ],
   "id": "514fc153f95059f3",
   "outputs": [],
   "execution_count": 2
  },
  {
   "metadata": {
    "ExecuteTime": {
     "end_time": "2025-01-30T19:53:24.623473Z",
     "start_time": "2025-01-30T19:53:24.613820Z"
    }
   },
   "cell_type": "code",
   "source": "train_dataset",
   "id": "6fe9af26ce28f288",
   "outputs": [
    {
     "data": {
      "text/plain": [
       "          id                                               text     score\n",
       "0     196112  A sandwich and french bread sit on a cutting b... -0.666667\n",
       "1     514558  A baseball player is standing on the field whi...  0.000000\n",
       "2      54244  A casserole served at a restaurant in a brown ...  1.333333\n",
       "3       9420    OLD BLACK AND WHITE PHOTO OF AN ALL BOYS SCHOOL  1.666667\n",
       "4     531512    A woman is milking a cow in the animal stable.   0.250000\n",
       "...      ...                                                ...       ...\n",
       "7995  419064  A fire hydrant that is silver with a red top a...  1.200000\n",
       "7996  344521  A plate is filled with broccoli, apples, straw...  1.000000\n",
       "7997   33652  A homemade pizza is shown with cheese and chic...  1.444444\n",
       "7998  108123  The baseball player hits the ball with a stron... -0.125000\n",
       "7999  443784  A tennis player wears a red top and a white vi... -0.333333\n",
       "\n",
       "[8000 rows x 3 columns]"
      ],
      "text/html": [
       "<div>\n",
       "<style scoped>\n",
       "    .dataframe tbody tr th:only-of-type {\n",
       "        vertical-align: middle;\n",
       "    }\n",
       "\n",
       "    .dataframe tbody tr th {\n",
       "        vertical-align: top;\n",
       "    }\n",
       "\n",
       "    .dataframe thead th {\n",
       "        text-align: right;\n",
       "    }\n",
       "</style>\n",
       "<table border=\"1\" class=\"dataframe\">\n",
       "  <thead>\n",
       "    <tr style=\"text-align: right;\">\n",
       "      <th></th>\n",
       "      <th>id</th>\n",
       "      <th>text</th>\n",
       "      <th>score</th>\n",
       "    </tr>\n",
       "  </thead>\n",
       "  <tbody>\n",
       "    <tr>\n",
       "      <th>0</th>\n",
       "      <td>196112</td>\n",
       "      <td>A sandwich and french bread sit on a cutting b...</td>\n",
       "      <td>-0.666667</td>\n",
       "    </tr>\n",
       "    <tr>\n",
       "      <th>1</th>\n",
       "      <td>514558</td>\n",
       "      <td>A baseball player is standing on the field whi...</td>\n",
       "      <td>0.000000</td>\n",
       "    </tr>\n",
       "    <tr>\n",
       "      <th>2</th>\n",
       "      <td>54244</td>\n",
       "      <td>A casserole served at a restaurant in a brown ...</td>\n",
       "      <td>1.333333</td>\n",
       "    </tr>\n",
       "    <tr>\n",
       "      <th>3</th>\n",
       "      <td>9420</td>\n",
       "      <td>OLD BLACK AND WHITE PHOTO OF AN ALL BOYS SCHOOL</td>\n",
       "      <td>1.666667</td>\n",
       "    </tr>\n",
       "    <tr>\n",
       "      <th>4</th>\n",
       "      <td>531512</td>\n",
       "      <td>A woman is milking a cow in the animal stable.</td>\n",
       "      <td>0.250000</td>\n",
       "    </tr>\n",
       "    <tr>\n",
       "      <th>...</th>\n",
       "      <td>...</td>\n",
       "      <td>...</td>\n",
       "      <td>...</td>\n",
       "    </tr>\n",
       "    <tr>\n",
       "      <th>7995</th>\n",
       "      <td>419064</td>\n",
       "      <td>A fire hydrant that is silver with a red top a...</td>\n",
       "      <td>1.200000</td>\n",
       "    </tr>\n",
       "    <tr>\n",
       "      <th>7996</th>\n",
       "      <td>344521</td>\n",
       "      <td>A plate is filled with broccoli, apples, straw...</td>\n",
       "      <td>1.000000</td>\n",
       "    </tr>\n",
       "    <tr>\n",
       "      <th>7997</th>\n",
       "      <td>33652</td>\n",
       "      <td>A homemade pizza is shown with cheese and chic...</td>\n",
       "      <td>1.444444</td>\n",
       "    </tr>\n",
       "    <tr>\n",
       "      <th>7998</th>\n",
       "      <td>108123</td>\n",
       "      <td>The baseball player hits the ball with a stron...</td>\n",
       "      <td>-0.125000</td>\n",
       "    </tr>\n",
       "    <tr>\n",
       "      <th>7999</th>\n",
       "      <td>443784</td>\n",
       "      <td>A tennis player wears a red top and a white vi...</td>\n",
       "      <td>-0.333333</td>\n",
       "    </tr>\n",
       "  </tbody>\n",
       "</table>\n",
       "<p>8000 rows × 3 columns</p>\n",
       "</div>"
      ]
     },
     "execution_count": 3,
     "metadata": {},
     "output_type": "execute_result"
    }
   ],
   "execution_count": 3
  },
  {
   "metadata": {},
   "cell_type": "markdown",
   "source": "# Score distribution",
   "id": "ee1faa9eed310c02"
  },
  {
   "metadata": {
    "ExecuteTime": {
     "end_time": "2025-01-30T19:53:29.200755Z",
     "start_time": "2025-01-30T19:53:29.091115Z"
    }
   },
   "cell_type": "code",
   "source": [
    "plt.figure(figsize=(8, 6))\n",
    "plt.hist(train_dataset['score'], bins=20, edgecolor='black', alpha=1)\n",
    "plt.title('Distribution of Scores')\n",
    "plt.xlabel('Score')\n",
    "plt.ylabel('Frequency')\n",
    "plt.grid(axis='y', linestyle='--', alpha=0.7)\n",
    "plt.show()"
   ],
   "id": "8d92090dd115bb35",
   "outputs": [
    {
     "data": {
      "text/plain": [
       "<Figure size 800x600 with 1 Axes>"
      ],
      "image/png": "[encoded data removed]"
     },
     "metadata": {},
     "output_type": "display_data"
    }
   ],
   "execution_count": 4
  },
  {
   "metadata": {
    "ExecuteTime": {
     "end_time": "2025-01-30T19:53:31.983466Z",
     "start_time": "2025-01-30T19:53:31.978912Z"
    }
   },
   "cell_type": "code",
   "source": [
    "# nlp = spacy.load(\"en_core_web_sm\")\n",
    "\n",
    "# Compile the regular expression pattern\n",
    "pattern = re.compile(r\"[^a-z ]\")\n",
    "\n",
    "# Convert stop words list to a set for faster lookup\n",
    "sw_set = set(stop_words.STOP_WORDS)\n",
    "sw_lower = set(word.lower() for word in stop_words.STOP_WORDS)\n",
    "\n",
    "def text_preparetion(sentence):\n",
    "    # 1. Lowercase everything\n",
    "    sentence = sentence.lower()\n",
    "\n",
    "    # 2. Remove all symbols other than a-z@#.\n",
    "    # sentence = re.sub(pattern, \" \", sentence)\n",
    "\n",
    "    # Tokenize the preprocessed sentence\n",
    "    # tokenization = nlp(sentence)\n",
    "    # \n",
    "    # # 4. Remove stopwords and empty tokens, and perform stemming\n",
    "    # list_text_preprocessed = [\n",
    "    #     token.text for token in tokenization if \n",
    "    #     not token.is_stop and \n",
    "    #     token.pos_ != \"SPACE\"\n",
    "    # ]\n",
    "    # for token in tokenization:\n",
    "    #     print(\n",
    "    #         f\"Text: {token.text}, Lemma: {token.lemma_}, POS Tag: {token.pos_}, Dependency: {token.dep_}, \"\n",
    "    #         f\"Stop Word?: {token.is_stop}, Entity Type: {token.ent_type_}\"\n",
    "    #     )\n",
    "    # Join the stemmed tokens back into a sentence\n",
    "    # processed_text = ' '.join(list_text_preprocessed)\n",
    "\n",
    "    return sentence\n",
    "\n",
    "sentence1 = \"A World War II-era bomber flying out of formation\"\n",
    "text_preparetion(sentence1)"
   ],
   "id": "74331b1f57d37de7",
   "outputs": [
    {
     "data": {
      "text/plain": [
       "'a world war ii-era bomber flying out of formation'"
      ]
     },
     "execution_count": 5,
     "metadata": {},
     "output_type": "execute_result"
    }
   ],
   "execution_count": 5
  },
  {
   "metadata": {
    "ExecuteTime": {
     "end_time": "2025-01-30T19:53:33.535699Z",
     "start_time": "2025-01-30T19:53:33.523034Z"
    }
   },
   "cell_type": "code",
   "source": [
    "train_dataset['preprocessed_text'] = train_dataset['text'].progress_apply(text_preparetion)\n",
    "validation_dataset['preprocessed_text'] = validation_dataset['text'].progress_apply(text_preparetion)\n",
    "test_dataset['preprocessed_text'] = test_dataset['text'].progress_apply(text_preparetion)"
   ],
   "id": "4febc871ac175b89",
   "outputs": [
    {
     "name": "stderr",
     "output_type": "stream",
     "text": [
      "100%|██████████| 8000/8000 [00:00<00:00, 1960756.85it/s]\n",
      "100%|██████████| 500/500 [00:00<?, ?it/s]\n",
      "100%|██████████| 500/500 [00:00<?, ?it/s]\n"
     ]
    }
   ],
   "execution_count": 6
  },
  {
   "metadata": {
    "ExecuteTime": {
     "end_time": "2025-01-30T19:53:36.032665Z",
     "start_time": "2025-01-30T19:53:35.894334Z"
    }
   },
   "cell_type": "code",
   "source": [
    "vectorizer = TfidfVectorizer(\n",
    "    input=\"content\",          # Process raw text (default)\n",
    "    encoding=\"utf-8\",         # Ensure correct text encoding\n",
    "    decode_error=\"replace\",   # Replace encoding errors\n",
    "    strip_accents=\"unicode\",  # Remove accents for better token consistency\n",
    "    lowercase=True,           # Convert to lowercase\n",
    "    analyzer=\"word\",          # Analyze at the word level\n",
    "    token_pattern=r\"(?u)\\b\\w\\w+\\b\",  # Use default tokenization pattern\n",
    "    ngram_range=(1, 3),       # Include unigrams, bigrams, and trigrams for richer context\n",
    "    max_df=0.9,               # Ignore terms that appear in more than 90% of documents (common words)\n",
    "    min_df=3,                 # Include terms appearing in at least 3 documents (remove rare noise)\n",
    "    max_features=1000,        # Increase feature limit for more comprehensive representation\n",
    "    stop_words=\"english\",     # Remove common English stop words\n",
    "    binary=False,             # Use term frequency instead of binary counts\n",
    "    dtype=np.float32,         # Use float32 for memory efficiency\n",
    "    norm=\"l2\",                # Normalize TF-IDF vectors to unit length (L2 norm)\n",
    "    use_idf=True,             # Use inverse document frequency\n",
    "    smooth_idf=True,          # Smooth IDF weights to avoid division by zero\n",
    "    sublinear_tf=True         # Apply sublinear scaling (logarithmic) to term frequencies\n",
    ")\n",
    "\n",
    "X_train = vectorizer.fit_transform(train_dataset[\"text\"].values)\n",
    "# X = X.toarray()\n",
    "\n",
    "X_validation = vectorizer.transform(validation_dataset[\"text\"].values)\n",
    "X_test = vectorizer.transform(test_dataset[\"text\"].values)\n",
    "# X_validation = X_validation.toarray()\n",
    "\n",
    "y_train = train_dataset[\"score\"].values\n",
    "y_validation = validation_dataset[\"score\"].values"
   ],
   "id": "c88828f94bf41af0",
   "outputs": [],
   "execution_count": 7
  },
  {
   "metadata": {},
   "cell_type": "code",
   "source": [
    "# scaler = StandardScaler(with_mean=False)\n",
    "# \n",
    "# X_train = scaler.fit_transform(X_train)\n",
    "# \n",
    "# X_validation = scaler.transform(X_validation)\n",
    "# X_test = scaler.transform(X_test)"
   ],
   "id": "f3ec6d1c63add25c",
   "outputs": [],
   "execution_count": null
  },
  {
   "metadata": {},
   "cell_type": "markdown",
   "source": "# Sentences distribution",
   "id": "8c732151d14d2472"
  },
  {
   "metadata": {},
   "cell_type": "code",
   "source": [
    "pca = PCA(n_components=3)\n",
    "reduced_pca = pca.fit_transform(X_train)"
   ],
   "id": "5561cb2c80f7e731",
   "outputs": [],
   "execution_count": null
  },
  {
   "metadata": {},
   "cell_type": "code",
   "source": [
    "num_sentences = X_train.shape[0]\n",
    "colors = np.random.rand(num_sentences, 3)\n",
    "\n",
    "def plot_3d(data, title, color='blue'):\n",
    "    fig = plt.figure(dpi=200)\n",
    "    ax = fig.add_subplot(111, projection='3d')\n",
    "    ax.scatter(data[:, 0], data[:, 1], data[:, 2], alpha=0.7, c=colors)\n",
    "    ax.set_title(title)\n",
    "    ax.set_xlabel(\"Dimension 1\")\n",
    "    ax.set_ylabel(\"Dimension 2\")\n",
    "    ax.set_zlabel(\"Dimension 3\")\n",
    "    plt.show()\n",
    "\n",
    "# Plot PCA\n",
    "plot_3d(reduced_pca, \"PCA Reduction (3D)\")"
   ],
   "id": "42081f1e4cb473b0",
   "outputs": [],
   "execution_count": null
  },
  {
   "metadata": {},
   "cell_type": "code",
   "source": [
    "best_model = None\n",
    "results = []"
   ],
   "id": "9759c08b90c05c7c",
   "outputs": [],
   "execution_count": null
  },
  {
   "metadata": {},
   "cell_type": "markdown",
   "source": "# SVR",
   "id": "37ba8afadc4f7033"
  },
  {
   "metadata": {},
   "cell_type": "code",
   "source": [
    "# Calculate weights based on score frequency\n",
    "unique, counts = np.unique(y_train, return_counts=True)\n",
    "weights = 1 / counts\n",
    "weight_dict = dict(zip(unique, weights))\n",
    "sample_weights = np.array([weight_dict[score] for score in y_train])"
   ],
   "id": "20a2444704d78dca",
   "outputs": [],
   "execution_count": null
  },
  {
   "metadata": {},
   "cell_type": "code",
   "source": [
    "C_values = [0.1, 1, 10, 100]\n",
    "epsilon_values = [0.01, 0.1, 1]\n",
    "kernels = ['rbf']\n",
    "\n",
    "param_combination = list(product(C_values, epsilon_values, kernels))\n",
    "\n",
    "best_mse = 100.0\n",
    "for C, epsilon, kernel in tqdm(param_combination):\n",
    "    model = SVR(kernel=kernel, C=C, epsilon=epsilon)\n",
    "    model.fit(X_train, y_train, sample_weight=sample_weights)\n",
    "    \n",
    "    y_pred = model.predict(X_validation)\n",
    "    mse = mean_squared_error(y_validation, y_pred)\n",
    "    mae = mean_absolute_error(y_validation, y_pred)\n",
    "    spearman_corr, _ = spearmanr(y_validation, y_pred)\n",
    "    kendall_corr, _ = kendalltau(y_validation, y_pred)\n",
    "    \n",
    "    result = {\n",
    "        \"Model\": \"SVR\",\n",
    "        \"MAE\": float(round(mae, 2)),\n",
    "        \"MSE\": float(round(mse, 2)),\n",
    "        \"Spearman Correlation\": float(round(spearman_corr, 2)),\n",
    "        \"Kendall Correlation\": float(round(kendall_corr, 2)),\n",
    "        \"C\": C,\n",
    "        \"Epsilon\": epsilon,\n",
    "    }\n",
    "    \n",
    "    if mse < best_mse:\n",
    "        best_model = model\n",
    "        best_mse = mse\n",
    "\n",
    "    # print(result)\n",
    "    results.append(result)"
   ],
   "id": "84734c9a6e686751",
   "outputs": [],
   "execution_count": null
  },
  {
   "metadata": {},
   "cell_type": "markdown",
   "source": "# Linear Regresion",
   "id": "83e709e736cac02"
  },
  {
   "metadata": {},
   "cell_type": "code",
   "source": [
    "model = LinearRegression(n_jobs=8)\n",
    "model.fit(X_train, y_train, sample_weight=sample_weights)\n",
    "y_pred = model.predict(X_validation)\n",
    "mse = mean_squared_error(y_validation, y_pred)\n",
    "mae = mean_absolute_error(y_validation, y_pred)\n",
    "spearman_corr, _ = spearmanr(y_validation, y_pred)\n",
    "kendall_corr, _ = kendalltau(y_validation, y_pred)\n",
    "\n",
    "result = {\n",
    "    \"Model\": \"Linear Regression\",\n",
    "    \"MAE\": float(round(mae, 2)),\n",
    "    \"MSE\": float(round(mse, 2)),\n",
    "    \"Spearman Correlation\": float(round(spearman_corr, 2)),\n",
    "    \"Kendall Correlation\": float(round(kendall_corr, 2)),\n",
    "}\n",
    "\n",
    "if mse < best_mse:\n",
    "    best_model = model\n",
    "\n",
    "results.append(result)"
   ],
   "id": "71a058dd0a0e25f6",
   "outputs": [],
   "execution_count": null
  },
  {
   "metadata": {},
   "cell_type": "markdown",
   "source": "# Decision Tree Regressor",
   "id": "6d1fd6452d915d50"
  },
  {
   "metadata": {},
   "cell_type": "code",
   "source": [
    "max_depth_values = [3, 5, 10, None]\n",
    "min_samples_split_values = [2, 5, 10]\n",
    "min_samples_leaf_values = [1, 2, 5]\n",
    "\n",
    "param_combination = list(product(max_depth_values, min_samples_split_values, min_samples_leaf_values))\n",
    "\n",
    "for max_depth, min_samples_split, min_samples_leaf in tqdm(param_combination):\n",
    "    model = DecisionTreeRegressor(max_depth=max_depth, min_samples_split=min_samples_split, min_samples_leaf=min_samples_leaf)\n",
    "    model.fit(X_train, y_train, sample_weight=sample_weights)\n",
    "    \n",
    "    y_pred = model.predict(X_validation)\n",
    "    mse = mean_squared_error(y_validation, y_pred)\n",
    "    mae = mean_absolute_error(y_validation, y_pred)\n",
    "    spearman_corr, _ = spearmanr(y_validation, y_pred)\n",
    "    kendall_corr, _ = kendalltau(y_validation, y_pred)\n",
    "    \n",
    "    result = {\n",
    "        \"Model\": \"Decision Tree Regressor\",\n",
    "        \"MAE\": float(round(mae, 2)),\n",
    "        \"MSE\": float(round(mse, 2)),\n",
    "        \"Spearman Correlation\": float(round(spearman_corr, 2)),\n",
    "        \"Kendall Correlation\": float(round(kendall_corr, 2)),\n",
    "        \"Max Depth\": max_depth,\n",
    "        \"Min Samples Split\": min_samples_split,\n",
    "        \"Min Samples Leaf\": min_samples_leaf,\n",
    "    }\n",
    "    \n",
    "    if mse < best_mse:\n",
    "        best_model = model\n",
    "        best_mse = mse\n",
    "    \n",
    "    results.append(result)\n",
    "\n",
    "# # Visualizing the Decision Tree\n",
    "# plt.figure(figsize=(15, 10))\n",
    "# tree.plot_tree(model, filled=True, feature_names=X_train.columns.tolist() if hasattr(X_train, 'columns') else None, rounded=True,fontsize=10)\n",
    "# plt.title(\"Decision Tree Visualization\")\n",
    "# plt.show()\n",
    "# \n",
    "# # Feature Importance\n",
    "# feature_importances = pd.DataFrame({\n",
    "#     'Feature': X_train.columns.tolist() if hasattr(X_train, 'columns') else range(X_train.shape[1]),\n",
    "#     'Importance': model.feature_importances_\n",
    "# }).sort_values(by='Importance', ascending=False)\n",
    "# \n",
    "# plt.figure(figsize=(10, 6))\n",
    "# sns.barplot(x='Importance', y='Feature', data=feature_importances, palette='viridis')\n",
    "# plt.title(\"Feature Importance\")\n",
    "# plt.xlabel(\"Importance\")\n",
    "# plt.ylabel(\"Feature\")\n",
    "# plt.show()"
   ],
   "id": "ba83d19e4d099520",
   "outputs": [],
   "execution_count": null
  },
  {
   "metadata": {},
   "cell_type": "markdown",
   "source": "# Random Forest Regressor",
   "id": "51ef24c22ab02c1e"
  },
  {
   "metadata": {},
   "cell_type": "code",
   "source": [
    "n_estimators_values = [10, 50, 100]\n",
    "max_depth_values = [3, 5, 10, None]\n",
    "min_samples_split_values = [2, 5, 10]\n",
    "min_samples_leaf_values = [1, 2, 5]\n",
    "\n",
    "param_combination = list(product(n_estimators_values, max_depth_values, min_samples_split_values, min_samples_leaf_values))\n",
    "\n",
    "\n",
    "for n_estimators, max_depth, min_samples_split, min_samples_leaf in tqdm(param_combination):\n",
    "    model = RandomForestRegressor(\n",
    "        n_estimators=n_estimators,\n",
    "        max_depth=max_depth,\n",
    "        min_samples_split=min_samples_split,\n",
    "        min_samples_leaf=min_samples_leaf,\n",
    "        random_state=42\n",
    "    )\n",
    "    model.fit(X_train, y_train, sample_weight=sample_weights)\n",
    "\n",
    "    y_pred = model.predict(X_validation)\n",
    "    mse = mean_squared_error(y_validation, y_pred)\n",
    "    mae = mean_absolute_error(y_validation, y_pred)\n",
    "    spearman_corr, _ = spearmanr(y_validation, y_pred)\n",
    "    kendall_corr, _ = kendalltau(y_validation, y_pred)\n",
    "\n",
    "    result = {\n",
    "        \"Model\": \"Random Forrest Regressor\",\n",
    "        \"MAE\": float(round(mae, 2)),\n",
    "        \"MSE\": float(round(mse, 2)),\n",
    "        \"Spearman Correlation\": float(round(spearman_corr, 2)),\n",
    "        \"Kendall Correlation\": float(round(kendall_corr, 2)),\n",
    "        \"N Estimators\": n_estimators,\n",
    "        \"Max Depth\": max_depth,\n",
    "        \"Min Samples Split\": min_samples_split,\n",
    "        \"Min Samples Leaf\": min_samples_leaf,\n",
    "    }\n",
    "\n",
    "    if mse < best_mse:\n",
    "        best_model = model\n",
    "        best_mse = mse\n",
    "\n",
    "    results.append(result)"
   ],
   "id": "95f3a16a872100ed",
   "outputs": [],
   "execution_count": null
  },
  {
   "metadata": {},
   "cell_type": "markdown",
   "source": "# Results",
   "id": "971e28b727e94344"
  },
  {
   "metadata": {},
   "cell_type": "code",
   "source": [
    "results_df = pd.DataFrame(results)\n",
    "results_df.fillna(\"\", inplace=True)\n",
    "results_df.sort_values(by=\"MSE\", inplace=True)\n",
    "results_df"
   ],
   "id": "e0b004cd7d82598a",
   "outputs": [],
   "execution_count": null
  },
  {
   "metadata": {},
   "cell_type": "code",
   "source": [
    "# Pivot table for Spearman Correlation\n",
    "spearman_pivot = results_df[results_df['Model'] == \"SVR\"].pivot(index=\"C\", columns=\"Epsilon\", values=\"Spearman Correlation\")\n",
    "\n",
    "# Plot heatmap for Spearman Correlation\n",
    "sns.heatmap(spearman_pivot, annot=True, fmt=\".2f\", cmap=\"coolwarm\")\n",
    "plt.title(\"Spearman Correlation Heatmap\")\n",
    "plt.show()\n",
    "\n",
    "# Pivot table for MAE\n",
    "mae_pivot = results_df[results_df['Model'] == \"SVR\"].pivot(index=\"C\", columns=\"Epsilon\", values=\"MAE\")\n",
    "\n",
    "# Plot heatmap for MAE\n",
    "sns.heatmap(mae_pivot, annot=True, fmt=\".2f\", cmap=\"coolwarm\")\n",
    "plt.title(\"MAE Heatmap\")\n",
    "plt.show()\n",
    "\n",
    "# Pivot table for MSE\n",
    "mse_pivot = results_df[results_df['Model'] == \"SVR\"].pivot(index=\"C\", columns=\"Epsilon\", values=\"MSE\")\n",
    "\n",
    "# Plot heatmap for MSE\n",
    "sns.heatmap(mse_pivot, annot=True, fmt=\".2f\", cmap=\"coolwarm\")\n",
    "plt.title(\"MSE Heatmap\")\n",
    "plt.show()\n",
    "\n",
    "# Pivot table for Kendall Correlation\n",
    "kendall_pivot = results_df[results_df['Model'] == \"SVR\"].pivot(index=\"C\", columns=\"Epsilon\", values=\"Kendall Correlation\")\n",
    "\n",
    "# Plot heatmap for Kendall Correlation\n",
    "sns.heatmap(kendall_pivot, annot=True, fmt=\".2f\", cmap=\"coolwarm\")\n",
    "plt.title(\"Kendall Correlation Heatmap\")\n",
    "plt.show()\n"
   ],
   "id": "ede83364dc8822d0",
   "outputs": [],
   "execution_count": null
  },
  {
   "metadata": {},
   "cell_type": "markdown",
   "source": "# Test",
   "id": "896431dfe1306cdd"
  },
  {
   "metadata": {},
   "cell_type": "code",
   "source": "test_dataset[\"score\"] = best_model.predict(X_test)",
   "id": "896b9f564bce7097",
   "outputs": [],
   "execution_count": null
  },
  {
   "metadata": {},
   "cell_type": "code",
   "source": "test_dataset.drop([\"text\", \"preprocessed_text\"], axis=1, inplace=True)",
   "id": "a634cb395770eeba",
   "outputs": [],
   "execution_count": null
  },
  {
   "metadata": {},
   "cell_type": "code",
   "source": "test_dataset.to_csv(\"./submissions/submission.csv\", index=False)",
   "id": "b5fbdc310006318c",
   "outputs": [],
   "execution_count": null
  },
  {
   "metadata": {},
   "cell_type": "code",
   "source": "",
   "id": "35195e43615dd1b5",
   "outputs": [],
   "execution_count": null
  }
 ],
 "metadata": {
  "kernelspec": {
   "display_name": "Python 3",
   "language": "python",
   "name": "python3"
  },
  "language_info": {
   "codemirror_mode": {
    "name": "ipython",
    "version": 2
   },
   "file_extension": ".py",
   "mimetype": "text/x-python",
   "name": "python",
   "nbconvert_exporter": "python",
   "pygments_lexer": "ipython2",
   "version": "2.7.6"
  }
 },
 "nbformat": 4,
 "nbformat_minor": 5
}
