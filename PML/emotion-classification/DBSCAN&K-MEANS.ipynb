{
 "cells": [
  {
   "cell_type": "code",
   "id": "initial_id",
   "metadata": {
    "collapsed": true,
    "ExecuteTime": {
     "end_time": "2024-08-14T07:33:36.652555Z",
     "start_time": "2024-08-14T07:33:33.550144Z"
    }
   },
   "source": [
    "import warnings\n",
    "\n",
    "import pandas as pd\n",
    "import numpy as np\n",
    "import sklearn\n",
    "import nltk\n",
    "import spacy\n",
    "import re\n",
    "import wandb\n",
    "from datasets import load_dataset\n",
    "from tqdm import tqdm\n",
    "from sklearn.exceptions import ConvergenceWarning\n",
    "from sklearn.feature_extraction.text import TfidfVectorizer, CountVectorizer\n",
    "\n",
    "warnings.filterwarnings(\"ignore\", category=ConvergenceWarning)\n",
    "wandb.errors.term._show_warnings = False"
   ],
   "outputs": [],
   "execution_count": 1
  },
  {
   "metadata": {
    "ExecuteTime": {
     "end_time": "2024-08-14T07:33:38.244134Z",
     "start_time": "2024-08-14T07:33:36.652555Z"
    }
   },
   "cell_type": "code",
   "source": "wandb.login()",
   "id": "cdf31aa40066fff0",
   "outputs": [
    {
     "name": "stderr",
     "output_type": "stream",
     "text": [
      "wandb: Currently logged in as: alex-preda (lol-2). Use `wandb login --relogin` to force relogin\n"
     ]
    },
    {
     "data": {
      "text/plain": [
       "True"
      ]
     },
     "execution_count": 2,
     "metadata": {},
     "output_type": "execute_result"
    }
   ],
   "execution_count": 2
  },
  {
   "metadata": {
    "ExecuteTime": {
     "end_time": "2024-08-14T07:33:44.309649Z",
     "start_time": "2024-08-14T07:33:38.245136Z"
    }
   },
   "cell_type": "code",
   "source": [
    "splitted_ds = load_dataset(\"dair-ai/emotion\", \"split\")\n",
    "# unsplitted_ds = load_dataset(\"dair-ai/emotion\", \"unsplit\")\n",
    "\n",
    "# df_unsplit_train = unsplitted_ds['train'].to_pandas()\n",
    "df_train = splitted_ds['train'].to_pandas()\n",
    "df_test = splitted_ds['test'].to_pandas()\n",
    "df_validation = splitted_ds['validation'].to_pandas()"
   ],
   "id": "1c9631b3bcdcebf0",
   "outputs": [],
   "execution_count": 3
  },
  {
   "metadata": {
    "ExecuteTime": {
     "end_time": "2024-08-14T07:33:44.625518Z",
     "start_time": "2024-08-14T07:33:44.309649Z"
    }
   },
   "cell_type": "code",
   "source": [
    "import gensim.downloader as api\n",
    "\n",
    "list(api.info()['models'].keys())"
   ],
   "id": "d2a9e89248f8a380",
   "outputs": [
    {
     "data": {
      "text/plain": [
       "['fasttext-wiki-news-subwords-300',\n",
       " 'conceptnet-numberbatch-17-06-300',\n",
       " 'word2vec-ruscorpora-300',\n",
       " 'word2vec-google-news-300',\n",
       " 'glove-wiki-gigaword-50',\n",
       " 'glove-wiki-gigaword-100',\n",
       " 'glove-wiki-gigaword-200',\n",
       " 'glove-wiki-gigaword-300',\n",
       " 'glove-twitter-25',\n",
       " 'glove-twitter-50',\n",
       " 'glove-twitter-100',\n",
       " 'glove-twitter-200',\n",
       " '__testing_word2vec-matrix-synopsis']"
      ]
     },
     "execution_count": 4,
     "metadata": {},
     "output_type": "execute_result"
    }
   ],
   "execution_count": 4
  },
  {
   "metadata": {
    "ExecuteTime": {
     "end_time": "2024-08-14T07:34:05.600788Z",
     "start_time": "2024-08-14T07:33:44.626519Z"
    }
   },
   "cell_type": "code",
   "source": [
    "ss = nltk.stem.snowball.SnowballStemmer(\"english\")\n",
    "sw = nltk.corpus.stopwords.words('english')\n",
    "nlp = spacy.load('en_core_web_sm')  # english tokenizer trf -> accuracy | sm -> efficiency\n",
    "word2vec = api.load(\"word2vec-google-news-300\")  # Load the pretrained Word2Vec model\n",
    "print(\"models imported!\")"
   ],
   "id": "1e3c6d0214daa09a",
   "outputs": [
    {
     "name": "stdout",
     "output_type": "stream",
     "text": [
      "models imported!\n"
     ]
    }
   ],
   "execution_count": 5
  },
  {
   "metadata": {
    "ExecuteTime": {
     "end_time": "2024-08-14T07:35:07.796713Z",
     "start_time": "2024-08-14T07:34:05.600788Z"
    }
   },
   "cell_type": "code",
   "source": [
    "def text_preparetion(sentence, nlp):\n",
    "    # 1. Lowercase everything\n",
    "    sentence = sentence.lower()\n",
    "\n",
    "    # 2. Remove all symbols other than a-z@#.\n",
    "    sentence = re.sub(r\"[^a-zăâîșț@# ]\", \"\", sentence)\n",
    "\n",
    "    # # Tokenize the preprocessed sentence\n",
    "    tokenization = nlp(sentence)\n",
    "\n",
    "    # 4. Remove stopwords and empty tokens and split sentence into words\n",
    "    list_text_preprocessed = [\n",
    "        word.text for word in tokenization if word.text not in sw and word.pos_ != \"SPACE\"\n",
    "    ]\n",
    "    \n",
    "    return ' '.join(list_text_preprocessed)\n",
    "\n",
    "\n",
    "def text_vectorization_word2vec(sentence, model):\n",
    "    words = sentence.split()\n",
    "    words_embeddings = [model[word] for word in words if word in model]\n",
    "    \n",
    "    # if there are no words in the word2vec\n",
    "    if not words_embeddings:\n",
    "        return np.zeros(model.vector_size)\n",
    "    \n",
    "    # Average the word vectors to get a single sentece represenation\n",
    "    return np.mean(words_embeddings, axis=0)\n",
    "\n",
    "def text_vectorization_word2vec_weighted(sentence, model, train_tfidf_dict):\n",
    "    words = sentence.split()\n",
    "    words_embeddings = []\n",
    "    \n",
    "    for word in words:\n",
    "        weight = train_tfidf_dict.get(word, 1.0)\n",
    "        if word in model:\n",
    "            words_embeddings.append(weight * model[word])\n",
    "    \n",
    "    # if there are no words in the word2vec\n",
    "    if not words_embeddings:\n",
    "        return np.zeros(model.vector_size)\n",
    "    \n",
    "    # Average the word vectors to get a single sentece represenation\n",
    "    return np.mean(words_embeddings, axis=0)\n",
    "\n",
    "tqdm.pandas()\n",
    "\n",
    "# Preprocessing\n",
    "df_train['text'] = df_train['text'].progress_apply(lambda x: text_preparetion(x, nlp))\n",
    "df_test['text'] = df_test['text'].progress_apply(lambda x: text_preparetion(x, nlp))\n",
    "df_validation['text'] = df_validation['text'].progress_apply(lambda x: text_preparetion(x, nlp))\n",
    "print(\"PREPROCESSING!\")\n",
    "\n",
    "# TF-IDF\n",
    "vectorizer = TfidfVectorizer()\n",
    "# vectorizer = CountVectorizer()\n",
    "X_train_tfidf = vectorizer.fit_transform(df_train['text'])\n",
    "train_tfidf_dict = dict(zip(vectorizer.get_feature_names_out(), vectorizer.idf_))\n",
    "X_val_tfidf = vectorizer.transform(df_validation['text'])\n",
    "X_test_tfidf = vectorizer.transform(df_test['text'])\n",
    "print(\"TF-IDF!\")\n",
    "\n",
    "# word2vec\n",
    "df_train['embeddings'] = df_train['text'].progress_apply(lambda x: text_vectorization_word2vec(x, word2vec))\n",
    "df_test['embeddings'] = df_test['text'].progress_apply(lambda x: text_vectorization_word2vec(x, word2vec))\n",
    "df_validation['embeddings'] = df_validation['text'].progress_apply(lambda x: text_vectorization_word2vec(x, word2vec))\n",
    "print(\"WORD2VEC!\")\n",
    "\n",
    "# weighted word2vec\n",
    "df_train['weighted_embeddings'] = df_train['text'].progress_apply(lambda x: text_vectorization_word2vec_weighted(x, word2vec, train_tfidf_dict))\n",
    "df_test['weighted_embeddings'] = df_test['text'].progress_apply(lambda x: text_vectorization_word2vec_weighted(x, word2vec, train_tfidf_dict))\n",
    "df_validation['weighted_embeddings'] = df_validation['text'].progress_apply(lambda x: text_vectorization_word2vec_weighted(x, word2vec, train_tfidf_dict))\n",
    "print(\"WEIGHTED WORD2VEC!\")\n",
    "# df_unsplit_train['embeddings'] = df_unsplit_train['text'].progress_apply(lambda x: text_preparetion(x, word2vec))"
   ],
   "id": "c268226fae99bdca",
   "outputs": [
    {
     "name": "stderr",
     "output_type": "stream",
     "text": [
      "100%|██████████| 16000/16000 [00:49<00:00, 326.32it/s]\n",
      "100%|██████████| 2000/2000 [00:06<00:00, 315.60it/s]\n",
      "100%|██████████| 2000/2000 [00:05<00:00, 341.82it/s]\n"
     ]
    },
    {
     "name": "stdout",
     "output_type": "stream",
     "text": [
      "PREPROCESSING!\n",
      "TF-IDF!\n"
     ]
    },
    {
     "name": "stderr",
     "output_type": "stream",
     "text": [
      "100%|██████████| 16000/16000 [00:00<00:00, 61225.41it/s]\n",
      "100%|██████████| 2000/2000 [00:00<00:00, 60105.38it/s]\n",
      "100%|██████████| 2000/2000 [00:00<00:00, 66115.02it/s]\n"
     ]
    },
    {
     "name": "stdout",
     "output_type": "stream",
     "text": [
      "WORD2VEC!\n"
     ]
    },
    {
     "name": "stderr",
     "output_type": "stream",
     "text": [
      "100%|██████████| 16000/16000 [00:00<00:00, 39745.86it/s]\n",
      "100%|██████████| 2000/2000 [00:00<00:00, 41232.20it/s]\n",
      "100%|██████████| 2000/2000 [00:00<00:00, 41666.79it/s]\n"
     ]
    },
    {
     "name": "stdout",
     "output_type": "stream",
     "text": [
      "WEIGHTED WORD2VEC!\n"
     ]
    }
   ],
   "execution_count": 6
  },
  {
   "metadata": {
    "ExecuteTime": {
     "end_time": "2024-08-14T07:35:36.441672Z",
     "start_time": "2024-08-14T07:35:07.796713Z"
    }
   },
   "cell_type": "code",
   "source": [
    "# save preprocessed dataset\n",
    "df_train.to_csv(\"./data/split_train.csv\", index=False)\n",
    "df_test.to_csv(\"./data/test.csv\", index=False)\n",
    "df_validation.to_csv(\"./data/validation.csv\", index=False)\n",
    "# df_unsplit_train.to_csv(\"./data/unsplit_train.csv\", index=False)"
   ],
   "id": "53f77e6b716e00a9",
   "outputs": [],
   "execution_count": 7
  },
  {
   "metadata": {
    "ExecuteTime": {
     "end_time": "2024-08-14T07:35:36.456452Z",
     "start_time": "2024-08-14T07:35:36.441672Z"
    }
   },
   "cell_type": "code",
   "source": "df_train[:100]",
   "id": "f56c2be8bc6a6d57",
   "outputs": [
    {
     "data": {
      "text/plain": [
       "                                                 text  label  \\\n",
       "0                                  nt feel humiliated      0   \n",
       "1   go feeling hopeless damned hopeful around some...      0   \n",
       "2              grabbing minute post feel greedy wrong      3   \n",
       "3   ever feeling nostalgic fireplace know still pr...      2   \n",
       "4                                     feeling grouchy      3   \n",
       "..                                                ...    ...   \n",
       "95    feel like throwing away shitty piece shit paper      0   \n",
       "96  starting feel wryly amused banal comedy errors...      1   \n",
       "97  find every body beautiful want people feel vit...      1   \n",
       "98  hear owners feel victimized associations assoc...      0   \n",
       "99  say goodbye fam sad crying feel like heartless...      3   \n",
       "\n",
       "                                           embeddings  \\\n",
       "0   [-0.19498698, 0.1408081, 0.061035156, -0.08772...   \n",
       "1   [0.10611979, -0.01570638, 0.005818685, 0.07367...   \n",
       "2   [0.045369465, 0.06301626, -0.105163574, 0.0296...   \n",
       "3   [0.12252372, 0.025983538, 0.008736746, 0.06814...   \n",
       "4   [0.18334961, 0.21044922, -0.14233398, -0.03942...   \n",
       "..                                                ...   \n",
       "95  [0.092681885, 0.009773254, -0.048070908, 0.111...   \n",
       "96  [0.048014324, 0.08087158, 0.0011461047, 0.0941...   \n",
       "97  [0.025824653, -0.019510904, 0.05770535, 0.0679...   \n",
       "98  [-0.024902344, -0.024559868, 0.005533854, 0.00...   \n",
       "99  [0.037121, 0.038829986, -0.007452102, 0.102466...   \n",
       "\n",
       "                                  weighted_embeddings  \n",
       "0   [-0.7648797, 0.81191665, 0.64800817, -0.506402...  \n",
       "1   [0.6533486, -0.23902734, 0.17611901, 0.4855068...  \n",
       "2   [0.41217908, 0.46653095, -0.67341155, 0.289130...  \n",
       "3   [0.9110772, 0.13422604, 0.13133731, 0.53929806...  \n",
       "4   [1.0802882, 1.1289341, -0.57756287, 0.03978543...  \n",
       "..                                                ...  \n",
       "95  [0.69135594, 0.035815842, -0.21879485, 0.70745...  \n",
       "96  [0.506407, 0.5669559, 0.09637899, 0.76437205, ...  \n",
       "97  [0.063290104, -0.14269626, 0.4970071, 0.387071...  \n",
       "98  [-0.23187801, -0.25392118, 0.14278063, 0.09517...  \n",
       "99  [0.19839634, 0.22893402, -0.09233187, 0.675283...  \n",
       "\n",
       "[100 rows x 4 columns]"
      ],
      "text/html": [
       "<div>\n",
       "<style scoped>\n",
       "    .dataframe tbody tr th:only-of-type {\n",
       "        vertical-align: middle;\n",
       "    }\n",
       "\n",
       "    .dataframe tbody tr th {\n",
       "        vertical-align: top;\n",
       "    }\n",
       "\n",
       "    .dataframe thead th {\n",
       "        text-align: right;\n",
       "    }\n",
       "</style>\n",
       "<table border=\"1\" class=\"dataframe\">\n",
       "  <thead>\n",
       "    <tr style=\"text-align: right;\">\n",
       "      <th></th>\n",
       "      <th>text</th>\n",
       "      <th>label</th>\n",
       "      <th>embeddings</th>\n",
       "      <th>weighted_embeddings</th>\n",
       "    </tr>\n",
       "  </thead>\n",
       "  <tbody>\n",
       "    <tr>\n",
       "      <th>0</th>\n",
       "      <td>nt feel humiliated</td>\n",
       "      <td>0</td>\n",
       "      <td>[-0.19498698, 0.1408081, 0.061035156, -0.08772...</td>\n",
       "      <td>[-0.7648797, 0.81191665, 0.64800817, -0.506402...</td>\n",
       "    </tr>\n",
       "    <tr>\n",
       "      <th>1</th>\n",
       "      <td>go feeling hopeless damned hopeful around some...</td>\n",
       "      <td>0</td>\n",
       "      <td>[0.10611979, -0.01570638, 0.005818685, 0.07367...</td>\n",
       "      <td>[0.6533486, -0.23902734, 0.17611901, 0.4855068...</td>\n",
       "    </tr>\n",
       "    <tr>\n",
       "      <th>2</th>\n",
       "      <td>grabbing minute post feel greedy wrong</td>\n",
       "      <td>3</td>\n",
       "      <td>[0.045369465, 0.06301626, -0.105163574, 0.0296...</td>\n",
       "      <td>[0.41217908, 0.46653095, -0.67341155, 0.289130...</td>\n",
       "    </tr>\n",
       "    <tr>\n",
       "      <th>3</th>\n",
       "      <td>ever feeling nostalgic fireplace know still pr...</td>\n",
       "      <td>2</td>\n",
       "      <td>[0.12252372, 0.025983538, 0.008736746, 0.06814...</td>\n",
       "      <td>[0.9110772, 0.13422604, 0.13133731, 0.53929806...</td>\n",
       "    </tr>\n",
       "    <tr>\n",
       "      <th>4</th>\n",
       "      <td>feeling grouchy</td>\n",
       "      <td>3</td>\n",
       "      <td>[0.18334961, 0.21044922, -0.14233398, -0.03942...</td>\n",
       "      <td>[1.0802882, 1.1289341, -0.57756287, 0.03978543...</td>\n",
       "    </tr>\n",
       "    <tr>\n",
       "      <th>...</th>\n",
       "      <td>...</td>\n",
       "      <td>...</td>\n",
       "      <td>...</td>\n",
       "      <td>...</td>\n",
       "    </tr>\n",
       "    <tr>\n",
       "      <th>95</th>\n",
       "      <td>feel like throwing away shitty piece shit paper</td>\n",
       "      <td>0</td>\n",
       "      <td>[0.092681885, 0.009773254, -0.048070908, 0.111...</td>\n",
       "      <td>[0.69135594, 0.035815842, -0.21879485, 0.70745...</td>\n",
       "    </tr>\n",
       "    <tr>\n",
       "      <th>96</th>\n",
       "      <td>starting feel wryly amused banal comedy errors...</td>\n",
       "      <td>1</td>\n",
       "      <td>[0.048014324, 0.08087158, 0.0011461047, 0.0941...</td>\n",
       "      <td>[0.506407, 0.5669559, 0.09637899, 0.76437205, ...</td>\n",
       "    </tr>\n",
       "    <tr>\n",
       "      <th>97</th>\n",
       "      <td>find every body beautiful want people feel vit...</td>\n",
       "      <td>1</td>\n",
       "      <td>[0.025824653, -0.019510904, 0.05770535, 0.0679...</td>\n",
       "      <td>[0.063290104, -0.14269626, 0.4970071, 0.387071...</td>\n",
       "    </tr>\n",
       "    <tr>\n",
       "      <th>98</th>\n",
       "      <td>hear owners feel victimized associations assoc...</td>\n",
       "      <td>0</td>\n",
       "      <td>[-0.024902344, -0.024559868, 0.005533854, 0.00...</td>\n",
       "      <td>[-0.23187801, -0.25392118, 0.14278063, 0.09517...</td>\n",
       "    </tr>\n",
       "    <tr>\n",
       "      <th>99</th>\n",
       "      <td>say goodbye fam sad crying feel like heartless...</td>\n",
       "      <td>3</td>\n",
       "      <td>[0.037121, 0.038829986, -0.007452102, 0.102466...</td>\n",
       "      <td>[0.19839634, 0.22893402, -0.09233187, 0.675283...</td>\n",
       "    </tr>\n",
       "  </tbody>\n",
       "</table>\n",
       "<p>100 rows × 4 columns</p>\n",
       "</div>"
      ]
     },
     "execution_count": 8,
     "metadata": {},
     "output_type": "execute_result"
    }
   ],
   "execution_count": 8
  },
  {
   "metadata": {
    "ExecuteTime": {
     "end_time": "2024-08-14T08:58:25.049255Z",
     "start_time": "2024-08-14T08:58:25.017251Z"
    }
   },
   "cell_type": "code",
   "source": [
    "X_train = df_train['weighted_embeddings'].to_numpy()\n",
    "X_train = np.vstack(X_train)\n",
    "\n",
    "Y_train = df_train['label']\n",
    "\n",
    "X_val = df_validation['weighted_embeddings'].to_numpy()\n",
    "X_val = np.vstack(X_val)\n",
    "Y_val = df_validation['label']\n",
    "\n",
    "X_test = df_test['weighted_embeddings'].to_numpy()\n",
    "X_test = np.vstack(X_test)\n",
    "Y_test = df_test['label']"
   ],
   "id": "531c1b08a6d9ef6e",
   "outputs": [],
   "execution_count": 91
  },
  {
   "metadata": {
    "ExecuteTime": {
     "end_time": "2024-08-14T08:43:07.304557Z",
     "start_time": "2024-08-14T08:43:07.300098Z"
    }
   },
   "cell_type": "code",
   "source": [
    "from matplotlib import pyplot as plt\n",
    "from sklearn.metrics import silhouette_samples, silhouette_score\n",
    "\n",
    "\n",
    "def plot_silhuette(model, model_name):\n",
    "    global labels, silhouette_vals, n_clusters, fig, ax, y_lower, y_upper, yticks, i, cluster, cluster_silhouette_vals, color\n",
    "    labels = model.labels_\n",
    "    # Filter out the noise points\n",
    "    non_noise_mask = labels != -1\n",
    "    X_filtered = X_train_tfidf[non_noise_mask]\n",
    "    labels_filtered = labels[non_noise_mask]\n",
    "    # Calculate the silhouette scores for the non-noise points\n",
    "    silhouette_vals = silhouette_samples(X_filtered, labels_filtered)\n",
    "    # Create the silhouette plot\n",
    "    n_clusters = len(set(labels_filtered))  # Number of clusters\n",
    "    fig, ax = plt.subplots(figsize=(10, 6))\n",
    "    y_lower, y_upper = 0, 0\n",
    "    yticks = []\n",
    "    for i, cluster in enumerate(np.unique(labels_filtered)):\n",
    "        cluster_silhouette_vals = silhouette_vals[labels_filtered == cluster]\n",
    "        cluster_silhouette_vals.sort()\n",
    "        y_upper += len(cluster_silhouette_vals)\n",
    "        color = plt.cm.Spectral(float(i) / n_clusters)\n",
    "        ax.fill_betweenx(np.arange(y_lower, y_upper), 0, cluster_silhouette_vals,\n",
    "                         facecolor=color, edgecolor=color, alpha=0.7)\n",
    "        yticks.append((y_lower + y_upper) / 2)\n",
    "        y_lower = y_upper\n",
    "    ax.axvline(x=silhouette_score(X_filtered, labels_filtered), color=\"red\", linestyle=\"--\")\n",
    "    ax.set_yticks(yticks)\n",
    "    ax.set_yticklabels(np.unique(labels_filtered))\n",
    "    ax.set_xlabel(\"Silhouette Coefficient\")\n",
    "    ax.set_ylabel(\"Cluster\")\n",
    "    ax.set_title(f\"Silhouette Plot for {model_name} Clustering\")\n",
    "    plt.show()"
   ],
   "id": "f7108ce122edd01",
   "outputs": [],
   "execution_count": 82
  },
  {
   "metadata": {},
   "cell_type": "markdown",
   "source": "# DBSCAN",
   "id": "cef5e874b1862ea4"
  },
  {
   "metadata": {
    "ExecuteTime": {
     "end_time": "2024-08-14T08:58:33.362323Z",
     "start_time": "2024-08-14T08:58:28.449085Z"
    }
   },
   "cell_type": "code",
   "source": [
    "from sklearn.cluster import DBSCAN\n",
    "\n",
    "param_grid = {\n",
    "    'eps': [0.3, 0.5, 0.7],  # The maximum distance between two samples for them to be considered as in the same neighborhood\n",
    "    'min_samples': [5, 10, 15],  # The number of samples (or total weight) in a neighborhood for a point to be considered as a core point\n",
    "}\n",
    "\n",
    "def custom_silhouette_score(X, labels):\n",
    "    # Count the number of clusters excluding noise\n",
    "    num_unique_labels = len(set(labels)) - (1 if -1 in labels else 0)\n",
    "    \n",
    "    # Return a very low score if there are fewer than 2 clusters\n",
    "    if num_unique_labels <= 1:\n",
    "        return -1  # Or return 0, depending on your scoring preferences\n",
    "    \n",
    "    try:\n",
    "        score = silhouette_score(X, labels)\n",
    "    except ValueError:\n",
    "        # Handle the case where the silhouette score computation fails\n",
    "        return -1\n",
    "    \n",
    "    return score\n",
    "\n",
    "best_model = None\n",
    "best_score = -1\n",
    "best_labels = None\n",
    "for eps in param_grid['eps']:\n",
    "    for min_samples in param_grid['min_samples']:\n",
    "        dbscan = DBSCAN(eps=eps, min_samples=min_samples)\n",
    "        labels = dbscan.fit_predict(X_train)\n",
    "        \n",
    "        # Calculate the silhouette score\n",
    "        score = custom_silhouette_score(X_train, labels)\n",
    "        if score > best_score:\n",
    "            best_model = dbscan\n",
    "            best_score = score\n",
    "            best_labels = labels\n",
    "        print(f\"{eps=} - {min_samples=}\")\n",
    "        \n",
    "print(f\"Best Score: {best_score}\")"
   ],
   "id": "3d23350867f37b",
   "outputs": [
    {
     "name": "stdout",
     "output_type": "stream",
     "text": [
      "eps=0.3 - min_samples=5\n",
      "eps=0.3 - min_samples=10\n",
      "eps=0.3 - min_samples=15\n",
      "eps=0.5 - min_samples=5\n",
      "eps=0.5 - min_samples=10\n",
      "eps=0.5 - min_samples=15\n",
      "eps=0.7 - min_samples=5\n",
      "eps=0.7 - min_samples=10\n",
      "eps=0.7 - min_samples=15\n",
      "Best Score: -1\n"
     ]
    }
   ],
   "execution_count": 92
  },
  {
   "metadata": {
    "ExecuteTime": {
     "end_time": "2024-08-14T08:58:33.401278Z",
     "start_time": "2024-08-14T08:58:33.363907Z"
    }
   },
   "cell_type": "code",
   "source": "plot_silhuette(best_model, \"DBSCAN\")",
   "id": "98f3300c55c0fed5",
   "outputs": [
    {
     "ename": "AttributeError",
     "evalue": "'NoneType' object has no attribute 'labels_'",
     "output_type": "error",
     "traceback": [
      "\u001B[1;31m---------------------------------------------------------------------------\u001B[0m",
      "\u001B[1;31mAttributeError\u001B[0m                            Traceback (most recent call last)",
      "Cell \u001B[1;32mIn[93], line 1\u001B[0m\n\u001B[1;32m----> 1\u001B[0m plot_silhuette(best_model, \u001B[38;5;124m\"\u001B[39m\u001B[38;5;124mDBSCAN\u001B[39m\u001B[38;5;124m\"\u001B[39m)\n",
      "Cell \u001B[1;32mIn[82], line 7\u001B[0m, in \u001B[0;36mplot_silhuette\u001B[1;34m(model, model_name)\u001B[0m\n\u001B[0;32m      5\u001B[0m \u001B[38;5;28;01mdef\u001B[39;00m \u001B[38;5;21mplot_silhuette\u001B[39m(model, model_name):\n\u001B[0;32m      6\u001B[0m     \u001B[38;5;28;01mglobal\u001B[39;00m labels, silhouette_vals, n_clusters, fig, ax, y_lower, y_upper, yticks, i, cluster, cluster_silhouette_vals, color\n\u001B[1;32m----> 7\u001B[0m     labels \u001B[38;5;241m=\u001B[39m model\u001B[38;5;241m.\u001B[39mlabels_\n\u001B[0;32m      8\u001B[0m     \u001B[38;5;66;03m# Filter out the noise points\u001B[39;00m\n\u001B[0;32m      9\u001B[0m     non_noise_mask \u001B[38;5;241m=\u001B[39m labels \u001B[38;5;241m!=\u001B[39m \u001B[38;5;241m-\u001B[39m\u001B[38;5;241m1\u001B[39m\n",
      "\u001B[1;31mAttributeError\u001B[0m: 'NoneType' object has no attribute 'labels_'"
     ]
    }
   ],
   "execution_count": 93
  },
  {
   "metadata": {},
   "cell_type": "markdown",
   "source": "# K-MEANS",
   "id": "b059c82d9150cf9c"
  },
  {
   "metadata": {
    "ExecuteTime": {
     "end_time": "2024-08-14T09:06:17.368842Z",
     "start_time": "2024-08-14T09:04:07.397548Z"
    }
   },
   "cell_type": "code",
   "source": [
    "from sklearn.cluster import KMeans\n",
    "\n",
    "param_grid = {\n",
    "    'n_clusters': [2, 3, 4, 5, 6, 7, 8, 9, 10],  # The number of clusters to form\n",
    "    'n_init': [10, 20, 30],  # The number of time the k-means algorithm will be run with different centroid seeds\n",
    "}\n",
    "\n",
    "best_model = None\n",
    "best_score = -1\n",
    "best_labels = None\n",
    "for n_clusters in param_grid['n_clusters']:\n",
    "    for n_init in param_grid['n_init']:\n",
    "        kmeans = KMeans(n_clusters=n_clusters, n_init=n_init)\n",
    "        labels = kmeans.fit_predict(X_train)\n",
    "        \n",
    "        # Calculate the silhouette score\n",
    "        score = custom_silhouette_score(X_train, labels)\n",
    "        if score > best_score:\n",
    "            best_model = kmeans\n",
    "            best_score = score\n",
    "            best_labels = labels\n",
    "        print(f\"{n_clusters=} - {n_init=}\")\n",
    "print(f\"Best Score: {best_score}\")"
   ],
   "id": "fb29e924ca6756a2",
   "outputs": [
    {
     "name": "stdout",
     "output_type": "stream",
     "text": [
      "n_clusters=2 - n_init=10\n",
      "n_clusters=2 - n_init=20\n",
      "n_clusters=2 - n_init=30\n",
      "n_clusters=3 - n_init=10\n",
      "n_clusters=3 - n_init=20\n",
      "n_clusters=3 - n_init=30\n",
      "n_clusters=4 - n_init=10\n",
      "n_clusters=4 - n_init=20\n",
      "n_clusters=4 - n_init=30\n",
      "n_clusters=5 - n_init=10\n",
      "n_clusters=5 - n_init=20\n",
      "n_clusters=5 - n_init=30\n",
      "n_clusters=6 - n_init=10\n",
      "n_clusters=6 - n_init=20\n",
      "n_clusters=6 - n_init=30\n",
      "n_clusters=7 - n_init=10\n",
      "n_clusters=7 - n_init=20\n",
      "n_clusters=7 - n_init=30\n",
      "n_clusters=8 - n_init=10\n",
      "n_clusters=8 - n_init=20\n",
      "n_clusters=8 - n_init=30\n",
      "n_clusters=9 - n_init=10\n",
      "n_clusters=9 - n_init=20\n",
      "n_clusters=9 - n_init=30\n",
      "n_clusters=10 - n_init=10\n",
      "n_clusters=10 - n_init=20\n",
      "n_clusters=10 - n_init=30\n",
      "Best Score: 0.05487384647130966\n"
     ]
    }
   ],
   "execution_count": 94
  },
  {
   "metadata": {
    "ExecuteTime": {
     "end_time": "2024-08-14T09:06:23.231582Z",
     "start_time": "2024-08-14T09:06:17.369847Z"
    }
   },
   "cell_type": "code",
   "source": "plot_silhuette(best_model, \"KMeans\")",
   "id": "2ad1d40cc0066703",
   "outputs": [
    {
     "data": {
      "text/plain": [
       "<Figure size 1000x600 with 1 Axes>"
      ],
      "image/png": "[encoded data removed]"
     },
     "metadata": {},
     "output_type": "display_data"
    }
   ],
   "execution_count": 95
  },
  {
   "metadata": {},
   "cell_type": "code",
   "outputs": [],
   "execution_count": null,
   "source": "",
   "id": "93979754a08c32aa"
  }
 ],
 "metadata": {
  "kernelspec": {
   "display_name": "Python 3",
   "language": "python",
   "name": "python3"
  },
  "language_info": {
   "codemirror_mode": {
    "name": "ipython",
    "version": 2
   },
   "file_extension": ".py",
   "mimetype": "text/x-python",
   "name": "python",
   "nbconvert_exporter": "python",
   "pygments_lexer": "ipython2",
   "version": "2.7.6"
  }
 },
 "nbformat": 4,
 "nbformat_minor": 5
}
