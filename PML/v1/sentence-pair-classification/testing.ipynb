{
 "cells": [
  {
   "cell_type": "code",
   "execution_count": 9,
   "id": "initial_id",
   "metadata": {
    "collapsed": true,
    "ExecuteTime": {
     "end_time": "2023-11-24T08:41:18.158235400Z",
     "start_time": "2023-11-24T08:41:18.142721300Z"
    }
   },
   "outputs": [
    {
     "name": "stdout",
     "output_type": "stream",
     "text": []
    }
   ],
   "source": [
    "from sklearn.feature_extraction.text import CountVectorizer\n",
    "\n",
    "# Sample text corpus\n",
    "corpus = [\n",
    "    'This is the first document.',\n",
    "    'This document is the second document.',\n",
    "    'And this is the third one.',\n",
    "    'Is this the first document?',\n",
    "]\n",
    "\n",
    "# Initialize the CountVectorizer\n",
    "vectorizer = CountVectorizer()\n",
    "\n",
    "# Fit the vectorizer to the corpus and transform the text to a bag-of-words vector\n",
    "bow_matrix = vectorizer.fit(corpus)\n",
    "\n",
    "# Get the feature names (words)\n",
    "feature_names = vectorizer.get_feature_names_out()\n",
    "\n",
    "# Convert the bag-of-words matrix to a dense array for better readability\n",
    "# bow_matrix_dense = bow_matrix.toarray()\n",
    "\n",
    "# Display the bag-of-words matrix\n",
    "# print(\"Bag-of-Words Matrix:\")\n",
    "# print(bow_matrix_dense)\n",
    "\n",
    "# Display the feature names\n",
    "# print(\"\\nFeature Names:\")\n",
    "# print(feature_names)\n",
    "sentence1 = \"Conducerea navală japoneză în ajunul ostilităților era, în general, prudentă și chiar îngrijorată deoarece marina nu primise încă navele de război comandate în februarie 1893, în special navele de...\"\n",
    "sentence1_vectorized = vectorizer.transform([sentence1])\n",
    "print(sentence1_vectorized)"
   ]
  }
 ],
 "metadata": {
  "kernelspec": {
   "display_name": "Python 3",
   "language": "python",
   "name": "python3"
  },
  "language_info": {
   "codemirror_mode": {
    "name": "ipython",
    "version": 2
   },
   "file_extension": ".py",
   "mimetype": "text/x-python",
   "name": "python",
   "nbconvert_exporter": "python",
   "pygments_lexer": "ipython2",
   "version": "2.7.6"
  }
 },
 "nbformat": 4,
 "nbformat_minor": 5
}
