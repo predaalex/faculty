{
 "cells": [
  {
   "cell_type": "code",
   "execution_count": 1,
   "id": "initial_id",
   "metadata": {
    "collapsed": true,
    "ExecuteTime": {
     "end_time": "2023-11-20T16:34:15.828493700Z",
     "start_time": "2023-11-20T16:34:15.033360600Z"
    }
   },
   "outputs": [],
   "source": [
    "import pandas as pd\n",
    "import json\n",
    "from sklearn.model_selection import train_test_split\n",
    "from sklearn.feature_extraction.text import TfidfVectorizer\n",
    "from sklearn.svm import SVC\n",
    "from sklearn.metrics import accuracy_score"
   ]
  },
  {
   "cell_type": "code",
   "execution_count": 24,
   "outputs": [],
   "source": [
    "train_df = pd.read_json(\"./data/train.json\")\n",
    "test_df = pd.read_json(\"./data/test.json\")\n",
    "validation_df = pd.read_json(\"./data/validation.json\")"
   ],
   "metadata": {
    "collapsed": false,
    "ExecuteTime": {
     "end_time": "2023-11-20T18:09:38.345760800Z",
     "start_time": "2023-11-20T18:09:38.090545400Z"
    }
   },
   "id": "5187301e39b136c0"
  },
  {
   "cell_type": "code",
   "execution_count": 8,
   "outputs": [
    {
     "data": {
      "text/plain": "                                           sentence1  \\\n0  Primul taragotist român a fost Nicolae Luță Io...   \n1  Lupta revoluționarilor este condusă de Avram I...   \n2  Locuitorii liberi au devenit „''iobagiones cas...   \n3  În anul 2002 are loc lansarea în domeniul turi...   \n4  Zillich a mijlocit, prin revista ''Klingsor'',...   \n\n                                           sentence2  label  \\\n0  Colegiul de arhitectură, artă și planificare (...      3   \n1  Schiul nordic face parte din programul olimpic...      3   \n2  În anii 1960, ea a apărut în drame realizate l...      3   \n3  Se lansează primul hotel al grupului în otopen...      2   \n4  Au apărut lucrări ale lui ion luca caragiale, ...      2   \n\n                                   guid  \\\n0  7cec5ac4-c115-4976-8d2a-9badfe9b63b9   \n1  bc2fa29f-cf22-4a7c-8b55-9b1ed019f6ac   \n2  8547b1ef-7bfe-43a9-aedf-bad0c0fbc049   \n3  0ad1ce19-7aa9-4ddd-b8d6-822072a723b0   \n4  50c44ffa-b0c1-4d98-bc6c-3bbf95f50896   \n\n                                  combined_sentences  \n0  Primul taragotist român a fost Nicolae Luță Io...  \n1  Lupta revoluționarilor este condusă de Avram I...  \n2  Locuitorii liberi au devenit „''iobagiones cas...  \n3  În anul 2002 are loc lansarea în domeniul turi...  \n4  Zillich a mijlocit, prin revista ''Klingsor'',...  ",
      "text/html": "<div>\n<style scoped>\n    .dataframe tbody tr th:only-of-type {\n        vertical-align: middle;\n    }\n\n    .dataframe tbody tr th {\n        vertical-align: top;\n    }\n\n    .dataframe thead th {\n        text-align: right;\n    }\n</style>\n<table border=\"1\" class=\"dataframe\">\n  <thead>\n    <tr style=\"text-align: right;\">\n      <th></th>\n      <th>sentence1</th>\n      <th>sentence2</th>\n      <th>label</th>\n      <th>guid</th>\n      <th>combined_sentences</th>\n    </tr>\n  </thead>\n  <tbody>\n    <tr>\n      <th>0</th>\n      <td>Primul taragotist român a fost Nicolae Luță Io...</td>\n      <td>Colegiul de arhitectură, artă și planificare (...</td>\n      <td>3</td>\n      <td>7cec5ac4-c115-4976-8d2a-9badfe9b63b9</td>\n      <td>Primul taragotist român a fost Nicolae Luță Io...</td>\n    </tr>\n    <tr>\n      <th>1</th>\n      <td>Lupta revoluționarilor este condusă de Avram I...</td>\n      <td>Schiul nordic face parte din programul olimpic...</td>\n      <td>3</td>\n      <td>bc2fa29f-cf22-4a7c-8b55-9b1ed019f6ac</td>\n      <td>Lupta revoluționarilor este condusă de Avram I...</td>\n    </tr>\n    <tr>\n      <th>2</th>\n      <td>Locuitorii liberi au devenit „''iobagiones cas...</td>\n      <td>În anii 1960, ea a apărut în drame realizate l...</td>\n      <td>3</td>\n      <td>8547b1ef-7bfe-43a9-aedf-bad0c0fbc049</td>\n      <td>Locuitorii liberi au devenit „''iobagiones cas...</td>\n    </tr>\n    <tr>\n      <th>3</th>\n      <td>În anul 2002 are loc lansarea în domeniul turi...</td>\n      <td>Se lansează primul hotel al grupului în otopen...</td>\n      <td>2</td>\n      <td>0ad1ce19-7aa9-4ddd-b8d6-822072a723b0</td>\n      <td>În anul 2002 are loc lansarea în domeniul turi...</td>\n    </tr>\n    <tr>\n      <th>4</th>\n      <td>Zillich a mijlocit, prin revista ''Klingsor'',...</td>\n      <td>Au apărut lucrări ale lui ion luca caragiale, ...</td>\n      <td>2</td>\n      <td>50c44ffa-b0c1-4d98-bc6c-3bbf95f50896</td>\n      <td>Zillich a mijlocit, prin revista ''Klingsor'',...</td>\n    </tr>\n  </tbody>\n</table>\n</div>"
     },
     "execution_count": 8,
     "metadata": {},
     "output_type": "execute_result"
    }
   ],
   "source": [
    "train_df.head()"
   ],
   "metadata": {
    "collapsed": false,
    "ExecuteTime": {
     "end_time": "2023-11-20T16:34:33.026431300Z",
     "start_time": "2023-11-20T16:34:33.013361300Z"
    }
   },
   "id": "dfa31bf510168b84"
  },
  {
   "cell_type": "code",
   "execution_count": 25,
   "outputs": [],
   "source": [
    "train_df['combined_sentences'] = train_df['sentence1'] + ' ' + train_df['sentence2']\n",
    "test_df['combined_sentences'] = test_df['sentence1'] + ' ' + test_df['sentence2']\n",
    "validation_df['combined_sentences'] = validation_df['sentence1'] + ' ' + validation_df['sentence2']"
   ],
   "metadata": {
    "collapsed": false,
    "ExecuteTime": {
     "end_time": "2023-11-20T18:09:42.642704600Z",
     "start_time": "2023-11-20T18:09:42.607999300Z"
    }
   },
   "id": "6cdbd788c16f6a31"
  },
  {
   "cell_type": "code",
   "execution_count": 26,
   "outputs": [],
   "source": [
    "import re\n",
    "from nltk.corpus import stopwords\n",
    "\n",
    "sw = stopwords.words(\"romanian\")\n",
    "\n",
    "def text_preparetion(text):\n",
    "    list_text_tokens = [i for i in  # 5\n",
    "                          re.split(r\" +\",  # 3\n",
    "                                   re.sub(r\"[^a-zăâîșț@# ]\", \"\",  # 2\n",
    "                                          text.lower()))  # 1\n",
    "                          if (i not in sw) and len(i)]  # 4\n",
    "    list_text_tokens = ' '.join(list_text_tokens)\n",
    "    return list_text_tokens\n",
    "\n",
    "train_df['all_tokens'] = train_df['combined_sentences'].apply(text_preparetion)\n",
    "test_df['all_tokens'] = test_df['combined_sentences'].apply(text_preparetion)\n",
    "validation_df['all_tokens'] = validation_df['combined_sentences'].apply(text_preparetion)"
   ],
   "metadata": {
    "collapsed": false,
    "ExecuteTime": {
     "end_time": "2023-11-20T18:09:53.244642100Z",
     "start_time": "2023-11-20T18:09:46.504486600Z"
    }
   },
   "id": "4f91e10cf0480c16"
  },
  {
   "cell_type": "code",
   "execution_count": 27,
   "outputs": [],
   "source": [
    "X_train = train_df['all_tokens']\n",
    "y_train = train_df['label']"
   ],
   "metadata": {
    "collapsed": false,
    "ExecuteTime": {
     "end_time": "2023-11-20T18:09:54.072504300Z",
     "start_time": "2023-11-20T18:09:54.030437400Z"
    }
   },
   "id": "3d2db1694913a4b4"
  },
  {
   "cell_type": "code",
   "execution_count": 28,
   "outputs": [],
   "source": [
    "X_val = validation_df['all_tokens']\n",
    "y_val = validation_df['label']"
   ],
   "metadata": {
    "collapsed": false,
    "ExecuteTime": {
     "end_time": "2023-11-20T18:09:54.665588Z",
     "start_time": "2023-11-20T18:09:54.634059900Z"
    }
   },
   "id": "cc96f50e1e94a857"
  },
  {
   "cell_type": "code",
   "execution_count": 29,
   "outputs": [],
   "source": [
    "X_test = test_df['all_tokens']"
   ],
   "metadata": {
    "collapsed": false,
    "ExecuteTime": {
     "end_time": "2023-11-20T18:09:55.444920300Z",
     "start_time": "2023-11-20T18:09:55.416786500Z"
    }
   },
   "id": "e268babdd7f6162a"
  },
  {
   "cell_type": "code",
   "execution_count": 17,
   "outputs": [
    {
     "data": {
      "text/plain": "                                           sentence1  \\\n0  Primul taragotist român a fost Nicolae Luță Io...   \n1  Lupta revoluționarilor este condusă de Avram I...   \n2  Locuitorii liberi au devenit „''iobagiones cas...   \n3  În anul 2002 are loc lansarea în domeniul turi...   \n4  Zillich a mijlocit, prin revista ''Klingsor'',...   \n\n                                           sentence2  label  \\\n0  Colegiul de arhitectură, artă și planificare (...      3   \n1  Schiul nordic face parte din programul olimpic...      3   \n2  În anii 1960, ea a apărut în drame realizate l...      3   \n3  Se lansează primul hotel al grupului în otopen...      2   \n4  Au apărut lucrări ale lui ion luca caragiale, ...      2   \n\n                                   guid  \\\n0  7cec5ac4-c115-4976-8d2a-9badfe9b63b9   \n1  bc2fa29f-cf22-4a7c-8b55-9b1ed019f6ac   \n2  8547b1ef-7bfe-43a9-aedf-bad0c0fbc049   \n3  0ad1ce19-7aa9-4ddd-b8d6-822072a723b0   \n4  50c44ffa-b0c1-4d98-bc6c-3bbf95f50896   \n\n                                  combined_sentences  \\\n0  Primul taragotist român a fost Nicolae Luță Io...   \n1  Lupta revoluționarilor este condusă de Avram I...   \n2  Locuitorii liberi au devenit „''iobagiones cas...   \n3  În anul 2002 are loc lansarea în domeniul turi...   \n4  Zillich a mijlocit, prin revista ''Klingsor'',...   \n\n                                          all_tokens  \n0  taragotist român nicolae luță ioviță originar ...  \n1  lupta revoluționarilor condusă avram iancu ioa...  \n2  locuitorii liberi devenit iobagiones castri io...  \n3  anul loc lansarea domeniul turistichotelier la...  \n4  zillich mijlocit revista klingsor debutul mult...  ",
      "text/html": "<div>\n<style scoped>\n    .dataframe tbody tr th:only-of-type {\n        vertical-align: middle;\n    }\n\n    .dataframe tbody tr th {\n        vertical-align: top;\n    }\n\n    .dataframe thead th {\n        text-align: right;\n    }\n</style>\n<table border=\"1\" class=\"dataframe\">\n  <thead>\n    <tr style=\"text-align: right;\">\n      <th></th>\n      <th>sentence1</th>\n      <th>sentence2</th>\n      <th>label</th>\n      <th>guid</th>\n      <th>combined_sentences</th>\n      <th>all_tokens</th>\n    </tr>\n  </thead>\n  <tbody>\n    <tr>\n      <th>0</th>\n      <td>Primul taragotist român a fost Nicolae Luță Io...</td>\n      <td>Colegiul de arhitectură, artă și planificare (...</td>\n      <td>3</td>\n      <td>7cec5ac4-c115-4976-8d2a-9badfe9b63b9</td>\n      <td>Primul taragotist român a fost Nicolae Luță Io...</td>\n      <td>taragotist român nicolae luță ioviță originar ...</td>\n    </tr>\n    <tr>\n      <th>1</th>\n      <td>Lupta revoluționarilor este condusă de Avram I...</td>\n      <td>Schiul nordic face parte din programul olimpic...</td>\n      <td>3</td>\n      <td>bc2fa29f-cf22-4a7c-8b55-9b1ed019f6ac</td>\n      <td>Lupta revoluționarilor este condusă de Avram I...</td>\n      <td>lupta revoluționarilor condusă avram iancu ioa...</td>\n    </tr>\n    <tr>\n      <th>2</th>\n      <td>Locuitorii liberi au devenit „''iobagiones cas...</td>\n      <td>În anii 1960, ea a apărut în drame realizate l...</td>\n      <td>3</td>\n      <td>8547b1ef-7bfe-43a9-aedf-bad0c0fbc049</td>\n      <td>Locuitorii liberi au devenit „''iobagiones cas...</td>\n      <td>locuitorii liberi devenit iobagiones castri io...</td>\n    </tr>\n    <tr>\n      <th>3</th>\n      <td>În anul 2002 are loc lansarea în domeniul turi...</td>\n      <td>Se lansează primul hotel al grupului în otopen...</td>\n      <td>2</td>\n      <td>0ad1ce19-7aa9-4ddd-b8d6-822072a723b0</td>\n      <td>În anul 2002 are loc lansarea în domeniul turi...</td>\n      <td>anul loc lansarea domeniul turistichotelier la...</td>\n    </tr>\n    <tr>\n      <th>4</th>\n      <td>Zillich a mijlocit, prin revista ''Klingsor'',...</td>\n      <td>Au apărut lucrări ale lui ion luca caragiale, ...</td>\n      <td>2</td>\n      <td>50c44ffa-b0c1-4d98-bc6c-3bbf95f50896</td>\n      <td>Zillich a mijlocit, prin revista ''Klingsor'',...</td>\n      <td>zillich mijlocit revista klingsor debutul mult...</td>\n    </tr>\n  </tbody>\n</table>\n</div>"
     },
     "execution_count": 17,
     "metadata": {},
     "output_type": "execute_result"
    }
   ],
   "source": [
    "train_df.head()"
   ],
   "metadata": {
    "collapsed": false,
    "ExecuteTime": {
     "end_time": "2023-11-20T16:38:12.144411600Z",
     "start_time": "2023-11-20T16:38:12.118728900Z"
    }
   },
   "id": "5d47935cfded05f4"
  },
  {
   "cell_type": "code",
   "execution_count": 30,
   "outputs": [],
   "source": [
    "vectorizer = TfidfVectorizer()\n",
    "X_train_tfidf = vectorizer.fit_transform(X_train)\n",
    "X_val_tfidf = vectorizer.transform(X_val)"
   ],
   "metadata": {
    "collapsed": false,
    "ExecuteTime": {
     "end_time": "2023-11-20T18:10:12.559452300Z",
     "start_time": "2023-11-20T18:10:11.256865400Z"
    }
   },
   "id": "b4386e1884885fac"
  },
  {
   "cell_type": "code",
   "execution_count": 31,
   "outputs": [],
   "source": [
    "X_test_tfidf = vectorizer.transform(X_test)"
   ],
   "metadata": {
    "collapsed": false,
    "ExecuteTime": {
     "end_time": "2023-11-20T18:10:15.407533100Z",
     "start_time": "2023-11-20T18:10:15.392925400Z"
    }
   },
   "id": "cb312d5c745c5718"
  },
  {
   "cell_type": "code",
   "execution_count": 22,
   "outputs": [
    {
     "data": {
      "text/plain": "SVC(kernel='linear')",
      "text/html": "<style>#sk-container-id-1 {color: black;}#sk-container-id-1 pre{padding: 0;}#sk-container-id-1 div.sk-toggleable {background-color: white;}#sk-container-id-1 label.sk-toggleable__label {cursor: pointer;display: block;width: 100%;margin-bottom: 0;padding: 0.3em;box-sizing: border-box;text-align: center;}#sk-container-id-1 label.sk-toggleable__label-arrow:before {content: \"▸\";float: left;margin-right: 0.25em;color: #696969;}#sk-container-id-1 label.sk-toggleable__label-arrow:hover:before {color: black;}#sk-container-id-1 div.sk-estimator:hover label.sk-toggleable__label-arrow:before {color: black;}#sk-container-id-1 div.sk-toggleable__content {max-height: 0;max-width: 0;overflow: hidden;text-align: left;background-color: #f0f8ff;}#sk-container-id-1 div.sk-toggleable__content pre {margin: 0.2em;color: black;border-radius: 0.25em;background-color: #f0f8ff;}#sk-container-id-1 input.sk-toggleable__control:checked~div.sk-toggleable__content {max-height: 200px;max-width: 100%;overflow: auto;}#sk-container-id-1 input.sk-toggleable__control:checked~label.sk-toggleable__label-arrow:before {content: \"▾\";}#sk-container-id-1 div.sk-estimator input.sk-toggleable__control:checked~label.sk-toggleable__label {background-color: #d4ebff;}#sk-container-id-1 div.sk-label input.sk-toggleable__control:checked~label.sk-toggleable__label {background-color: #d4ebff;}#sk-container-id-1 input.sk-hidden--visually {border: 0;clip: rect(1px 1px 1px 1px);clip: rect(1px, 1px, 1px, 1px);height: 1px;margin: -1px;overflow: hidden;padding: 0;position: absolute;width: 1px;}#sk-container-id-1 div.sk-estimator {font-family: monospace;background-color: #f0f8ff;border: 1px dotted black;border-radius: 0.25em;box-sizing: border-box;margin-bottom: 0.5em;}#sk-container-id-1 div.sk-estimator:hover {background-color: #d4ebff;}#sk-container-id-1 div.sk-parallel-item::after {content: \"\";width: 100%;border-bottom: 1px solid gray;flex-grow: 1;}#sk-container-id-1 div.sk-label:hover label.sk-toggleable__label {background-color: #d4ebff;}#sk-container-id-1 div.sk-serial::before {content: \"\";position: absolute;border-left: 1px solid gray;box-sizing: border-box;top: 0;bottom: 0;left: 50%;z-index: 0;}#sk-container-id-1 div.sk-serial {display: flex;flex-direction: column;align-items: center;background-color: white;padding-right: 0.2em;padding-left: 0.2em;position: relative;}#sk-container-id-1 div.sk-item {position: relative;z-index: 1;}#sk-container-id-1 div.sk-parallel {display: flex;align-items: stretch;justify-content: center;background-color: white;position: relative;}#sk-container-id-1 div.sk-item::before, #sk-container-id-1 div.sk-parallel-item::before {content: \"\";position: absolute;border-left: 1px solid gray;box-sizing: border-box;top: 0;bottom: 0;left: 50%;z-index: -1;}#sk-container-id-1 div.sk-parallel-item {display: flex;flex-direction: column;z-index: 1;position: relative;background-color: white;}#sk-container-id-1 div.sk-parallel-item:first-child::after {align-self: flex-end;width: 50%;}#sk-container-id-1 div.sk-parallel-item:last-child::after {align-self: flex-start;width: 50%;}#sk-container-id-1 div.sk-parallel-item:only-child::after {width: 0;}#sk-container-id-1 div.sk-dashed-wrapped {border: 1px dashed gray;margin: 0 0.4em 0.5em 0.4em;box-sizing: border-box;padding-bottom: 0.4em;background-color: white;}#sk-container-id-1 div.sk-label label {font-family: monospace;font-weight: bold;display: inline-block;line-height: 1.2em;}#sk-container-id-1 div.sk-label-container {text-align: center;}#sk-container-id-1 div.sk-container {/* jupyter's `normalize.less` sets `[hidden] { display: none; }` but bootstrap.min.css set `[hidden] { display: none !important; }` so we also need the `!important` here to be able to override the default hidden behavior on the sphinx rendered scikit-learn.org. See: https://github.com/scikit-learn/scikit-learn/issues/21755 */display: inline-block !important;position: relative;}#sk-container-id-1 div.sk-text-repr-fallback {display: none;}</style><div id=\"sk-container-id-1\" class=\"sk-top-container\"><div class=\"sk-text-repr-fallback\"><pre>SVC(kernel=&#x27;linear&#x27;)</pre><b>In a Jupyter environment, please rerun this cell to show the HTML representation or trust the notebook. <br />On GitHub, the HTML representation is unable to render, please try loading this page with nbviewer.org.</b></div><div class=\"sk-container\" hidden><div class=\"sk-item\"><div class=\"sk-estimator sk-toggleable\"><input class=\"sk-toggleable__control sk-hidden--visually\" id=\"sk-estimator-id-1\" type=\"checkbox\" checked><label for=\"sk-estimator-id-1\" class=\"sk-toggleable__label sk-toggleable__label-arrow\">SVC</label><div class=\"sk-toggleable__content\"><pre>SVC(kernel=&#x27;linear&#x27;)</pre></div></div></div></div></div>"
     },
     "execution_count": 22,
     "metadata": {},
     "output_type": "execute_result"
    }
   ],
   "source": [
    "svm = SVC(kernel='linear')\n",
    "svm.fit(X_train_tfidf, y_train)"
   ],
   "metadata": {
    "collapsed": false,
    "ExecuteTime": {
     "end_time": "2023-11-20T17:08:42.607515200Z",
     "start_time": "2023-11-20T16:39:38.579502700Z"
    }
   },
   "id": "4ec28ef63e53eca9"
  },
  {
   "cell_type": "code",
   "execution_count": 23,
   "outputs": [
    {
     "data": {
      "text/plain": "['./models/svm_cu_tekenizare.pkl']"
     },
     "execution_count": 23,
     "metadata": {},
     "output_type": "execute_result"
    }
   ],
   "source": [
    "import joblib\n",
    "\n",
    "joblib.dump(svm, './models/svm_cu_tekenizare.pkl')"
   ],
   "metadata": {
    "collapsed": false,
    "ExecuteTime": {
     "end_time": "2023-11-20T18:09:24.943601800Z",
     "start_time": "2023-11-20T18:09:24.929095200Z"
    }
   },
   "id": "af5dae3593be8e3f"
  },
  {
   "cell_type": "code",
   "execution_count": 32,
   "outputs": [],
   "source": [
    "val_predictions = svm.predict(X_val_tfidf)"
   ],
   "metadata": {
    "collapsed": false,
    "ExecuteTime": {
     "end_time": "2023-11-20T18:10:43.680051Z",
     "start_time": "2023-11-20T18:10:19.528759100Z"
    }
   },
   "id": "369379ed32ce8e9a"
  },
  {
   "cell_type": "code",
   "execution_count": 33,
   "outputs": [
    {
     "name": "stdout",
     "output_type": "stream",
     "text": [
      "Validation Accuracy: 0.6433474991827395\n"
     ]
    }
   ],
   "source": [
    "accuracy = accuracy_score(y_val, val_predictions)\n",
    "print(f\"Validation Accuracy: {accuracy}\")"
   ],
   "metadata": {
    "collapsed": false,
    "ExecuteTime": {
     "end_time": "2023-11-20T18:11:22.643175200Z",
     "start_time": "2023-11-20T18:11:22.617511900Z"
    }
   },
   "id": "8021f97684a30e57"
  },
  {
   "cell_type": "code",
   "execution_count": 34,
   "outputs": [],
   "source": [
    "y_test = svm.predict(X_test_tfidf)"
   ],
   "metadata": {
    "collapsed": false,
    "ExecuteTime": {
     "end_time": "2023-11-20T18:12:07.080718200Z",
     "start_time": "2023-11-20T18:11:42.243128Z"
    }
   },
   "id": "d2c05569756b73ca"
  },
  {
   "cell_type": "code",
   "execution_count": 35,
   "outputs": [],
   "source": [
    "result_df = pd.DataFrame({\n",
    "    'guid': test_df['guid'],\n",
    "    'label': y_test\n",
    "})"
   ],
   "metadata": {
    "collapsed": false,
    "ExecuteTime": {
     "end_time": "2023-11-20T18:12:07.097731900Z",
     "start_time": "2023-11-20T18:12:07.082718300Z"
    }
   },
   "id": "4d1aaf1b838093ed"
  },
  {
   "cell_type": "code",
   "execution_count": 38,
   "outputs": [
    {
     "data": {
      "text/plain": "                                   guid  label\n0  831cf870-c8e8-47f9-9318-7954706f08e3      3\n1  4aabdcb9-9caa-4853-a0ec-d2767e365142      2\n2  db383040-957a-475c-b8f7-5de7a36282f2      3\n3  19d0dedc-04e1-4b7f-8061-2710f3bcbf86      2\n4  3d293138-1740-4260-bd7e-64ab18d71e8d      3",
      "text/html": "<div>\n<style scoped>\n    .dataframe tbody tr th:only-of-type {\n        vertical-align: middle;\n    }\n\n    .dataframe tbody tr th {\n        vertical-align: top;\n    }\n\n    .dataframe thead th {\n        text-align: right;\n    }\n</style>\n<table border=\"1\" class=\"dataframe\">\n  <thead>\n    <tr style=\"text-align: right;\">\n      <th></th>\n      <th>guid</th>\n      <th>label</th>\n    </tr>\n  </thead>\n  <tbody>\n    <tr>\n      <th>0</th>\n      <td>831cf870-c8e8-47f9-9318-7954706f08e3</td>\n      <td>3</td>\n    </tr>\n    <tr>\n      <th>1</th>\n      <td>4aabdcb9-9caa-4853-a0ec-d2767e365142</td>\n      <td>2</td>\n    </tr>\n    <tr>\n      <th>2</th>\n      <td>db383040-957a-475c-b8f7-5de7a36282f2</td>\n      <td>3</td>\n    </tr>\n    <tr>\n      <th>3</th>\n      <td>19d0dedc-04e1-4b7f-8061-2710f3bcbf86</td>\n      <td>2</td>\n    </tr>\n    <tr>\n      <th>4</th>\n      <td>3d293138-1740-4260-bd7e-64ab18d71e8d</td>\n      <td>3</td>\n    </tr>\n  </tbody>\n</table>\n</div>"
     },
     "execution_count": 38,
     "metadata": {},
     "output_type": "execute_result"
    }
   ],
   "source": [
    "result_df.head()"
   ],
   "metadata": {
    "collapsed": false,
    "ExecuteTime": {
     "end_time": "2023-11-19T18:29:22.471730Z",
     "start_time": "2023-11-19T18:29:22.463733600Z"
    }
   },
   "id": "40b83db57dbdbe58"
  },
  {
   "cell_type": "code",
   "execution_count": 36,
   "outputs": [],
   "source": [
    "result_df.to_csv(\"./data/submission3.csv\", index=False)"
   ],
   "metadata": {
    "collapsed": false,
    "ExecuteTime": {
     "end_time": "2023-11-20T18:12:07.115790900Z",
     "start_time": "2023-11-20T18:12:07.097731900Z"
    }
   },
   "id": "52f5d3515bfb68cd"
  },
  {
   "cell_type": "code",
   "execution_count": 37,
   "outputs": [
    {
     "data": {
      "text/plain": "15000"
     },
     "execution_count": 37,
     "metadata": {},
     "output_type": "execute_result"
    }
   ],
   "source": [
    "test_df.size"
   ],
   "metadata": {
    "collapsed": false,
    "ExecuteTime": {
     "end_time": "2023-11-20T18:12:39.465523300Z",
     "start_time": "2023-11-20T18:12:39.457019800Z"
    }
   },
   "id": "21cc9937bfc7c2dd"
  }
 ],
 "metadata": {
  "kernelspec": {
   "display_name": "Python 3",
   "language": "python",
   "name": "python3"
  },
  "language_info": {
   "codemirror_mode": {
    "name": "ipython",
    "version": 2
   },
   "file_extension": ".py",
   "mimetype": "text/x-python",
   "name": "python",
   "nbconvert_exporter": "python",
   "pygments_lexer": "ipython2",
   "version": "2.7.6"
  }
 },
 "nbformat": 4,
 "nbformat_minor": 5
}
