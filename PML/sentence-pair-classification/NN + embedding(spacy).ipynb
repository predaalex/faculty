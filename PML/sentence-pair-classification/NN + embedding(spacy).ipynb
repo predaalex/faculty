{
 "cells": [
  {
   "cell_type": "code",
   "execution_count": 144,
   "id": "initial_id",
   "metadata": {
    "collapsed": true,
    "ExecuteTime": {
     "end_time": "2023-11-22T20:18:10.415571700Z",
     "start_time": "2023-11-22T20:18:10.405480700Z"
    }
   },
   "outputs": [],
   "source": [
    "import torch\n",
    "import torch.nn as nn\n",
    "import torch.optim as optim\n",
    "from torch.optim.lr_scheduler import ExponentialLR\n",
    "from torch.utils.data import Dataset, DataLoader\n",
    "from sklearn.feature_extraction.text import TfidfVectorizer\n",
    "import pandas as pd\n",
    "import gensim"
   ]
  },
  {
   "cell_type": "code",
   "execution_count": 145,
   "outputs": [],
   "source": [
    "train_data = pd.read_json(\"./data/train.json\")\n",
    "test_data = pd.read_json(\"./data/test.json\")\n",
    "validation_data = pd.read_json(\"./data/validation.json\")"
   ],
   "metadata": {
    "collapsed": false,
    "ExecuteTime": {
     "end_time": "2023-11-22T20:18:11.437629600Z",
     "start_time": "2023-11-22T20:18:11.163008700Z"
    }
   },
   "id": "9ec2be6f5d234874"
  },
  {
   "cell_type": "code",
   "execution_count": 146,
   "outputs": [
    {
     "data": {
      "text/plain": "58114"
     },
     "execution_count": 146,
     "metadata": {},
     "output_type": "execute_result"
    }
   ],
   "source": [
    "# train_data = train_data.iloc[:len(train_data) // 5]\n",
    "len(train_data)"
   ],
   "metadata": {
    "collapsed": false,
    "ExecuteTime": {
     "end_time": "2023-11-22T20:18:12.479892500Z",
     "start_time": "2023-11-22T20:18:12.457845900Z"
    }
   },
   "id": "fd77336541c2f683"
  },
  {
   "cell_type": "code",
   "execution_count": 147,
   "outputs": [],
   "source": [
    "train_data['combined_sentences'] = train_data['sentence1'] + \" \" + train_data['sentence2']\n",
    "test_data['combined_sentences'] = test_data['sentence1'] + \" \" + test_data['sentence2']\n",
    "validation_data['combined_sentences'] = validation_data['sentence1'] + \" \" + validation_data['sentence2']"
   ],
   "metadata": {
    "collapsed": false,
    "ExecuteTime": {
     "end_time": "2023-11-22T20:18:13.368708100Z",
     "start_time": "2023-11-22T20:18:13.322112500Z"
    }
   },
   "id": "7446c3a5ebf08ae9"
  },
  {
   "cell_type": "code",
   "execution_count": 148,
   "outputs": [
    {
     "name": "stderr",
     "output_type": "stream",
     "text": [
      "[nltk_data] Downloading package stopwords to\n",
      "[nltk_data]     C:\\Users\\allex\\AppData\\Roaming\\nltk_data...\n",
      "[nltk_data]   Package stopwords is already up-to-date!\n"
     ]
    },
    {
     "data": {
      "text/plain": "True"
     },
     "execution_count": 148,
     "metadata": {},
     "output_type": "execute_result"
    }
   ],
   "source": [
    "import nltk\n",
    "\n",
    "nltk.download('stopwords')"
   ],
   "metadata": {
    "collapsed": false,
    "ExecuteTime": {
     "end_time": "2023-11-22T20:18:15.303434200Z",
     "start_time": "2023-11-22T20:18:15.291920200Z"
    }
   },
   "id": "76c190ced6ccfad9"
  },
  {
   "cell_type": "code",
   "execution_count": 149,
   "outputs": [],
   "source": [
    "import re\n",
    "from nltk.corpus import stopwords\n",
    "from nltk.stem.snowball import SnowballStemmer\n",
    "\n",
    "ss = SnowballStemmer(\"romanian\")\n",
    "sw = stopwords.words(\"romanian\")\n",
    "\n",
    "\n",
    "# 1.Lowercase everything\n",
    "# 2.Remove all symbols other than a-z@#.\n",
    "# 3.Split on spaces.\n",
    "# 4.Remove stopwords/empty tokens\n",
    "\n",
    "def text_preparetion(text):\n",
    "    text = [i for i in\n",
    "                re.split(r\" +\",  # 3\n",
    "                     re.sub(r\"[^a-zăâîșț@# ]\", \"\",  # 2\n",
    "                            text.lower()))]  # 1\n",
    "    list_text_preprocessed = [word for word in text if word not in sw]  # 4\n",
    "    list_text_preprocessed = ' '.join(list_text_preprocessed)\n",
    "    return list_text_preprocessed"
   ],
   "metadata": {
    "collapsed": false,
    "ExecuteTime": {
     "end_time": "2023-11-22T20:18:17.720607Z",
     "start_time": "2023-11-22T20:18:17.695084100Z"
    }
   },
   "id": "275565681379d9ca"
  },
  {
   "cell_type": "code",
   "execution_count": 150,
   "outputs": [],
   "source": [
    "train_data['preprocessed_sentences'] = train_data['combined_sentences'].apply(text_preparetion)\n",
    "test_data['preprocessed_sentences'] = test_data['combined_sentences'].apply(text_preparetion)\n",
    "validation_data['preprocessed_sentences'] = validation_data['combined_sentences'].apply(text_preparetion)"
   ],
   "metadata": {
    "collapsed": false,
    "ExecuteTime": {
     "end_time": "2023-11-22T20:18:26.854584500Z",
     "start_time": "2023-11-22T20:18:19.596557300Z"
    }
   },
   "id": "aff17bb9f09cd270"
  },
  {
   "cell_type": "code",
   "execution_count": 151,
   "outputs": [
    {
     "data": {
      "text/plain": "                                           sentence1  \\\n0  Primul taragotist român a fost Nicolae Luță Io...   \n1  Lupta revoluționarilor este condusă de Avram I...   \n2  Locuitorii liberi au devenit „''iobagiones cas...   \n3  În anul 2002 are loc lansarea în domeniul turi...   \n4  Zillich a mijlocit, prin revista ''Klingsor'',...   \n\n                                           sentence2  label  \\\n0  Colegiul de arhitectură, artă și planificare (...      3   \n1  Schiul nordic face parte din programul olimpic...      3   \n2  În anii 1960, ea a apărut în drame realizate l...      3   \n3  Se lansează primul hotel al grupului în otopen...      2   \n4  Au apărut lucrări ale lui ion luca caragiale, ...      2   \n\n                                   guid  \\\n0  7cec5ac4-c115-4976-8d2a-9badfe9b63b9   \n1  bc2fa29f-cf22-4a7c-8b55-9b1ed019f6ac   \n2  8547b1ef-7bfe-43a9-aedf-bad0c0fbc049   \n3  0ad1ce19-7aa9-4ddd-b8d6-822072a723b0   \n4  50c44ffa-b0c1-4d98-bc6c-3bbf95f50896   \n\n                                  combined_sentences  \\\n0  Primul taragotist român a fost Nicolae Luță Io...   \n1  Lupta revoluționarilor este condusă de Avram I...   \n2  Locuitorii liberi au devenit „''iobagiones cas...   \n3  În anul 2002 are loc lansarea în domeniul turi...   \n4  Zillich a mijlocit, prin revista ''Klingsor'',...   \n\n                              preprocessed_sentences  \n0  taragotist român nicolae luță ioviță originar ...  \n1  lupta revoluționarilor condusă avram iancu ioa...  \n2  locuitorii liberi devenit iobagiones castri io...  \n3  anul loc lansarea domeniul turistichotelier la...  \n4  zillich mijlocit revista klingsor debutul mult...  ",
      "text/html": "<div>\n<style scoped>\n    .dataframe tbody tr th:only-of-type {\n        vertical-align: middle;\n    }\n\n    .dataframe tbody tr th {\n        vertical-align: top;\n    }\n\n    .dataframe thead th {\n        text-align: right;\n    }\n</style>\n<table border=\"1\" class=\"dataframe\">\n  <thead>\n    <tr style=\"text-align: right;\">\n      <th></th>\n      <th>sentence1</th>\n      <th>sentence2</th>\n      <th>label</th>\n      <th>guid</th>\n      <th>combined_sentences</th>\n      <th>preprocessed_sentences</th>\n    </tr>\n  </thead>\n  <tbody>\n    <tr>\n      <th>0</th>\n      <td>Primul taragotist român a fost Nicolae Luță Io...</td>\n      <td>Colegiul de arhitectură, artă și planificare (...</td>\n      <td>3</td>\n      <td>7cec5ac4-c115-4976-8d2a-9badfe9b63b9</td>\n      <td>Primul taragotist român a fost Nicolae Luță Io...</td>\n      <td>taragotist român nicolae luță ioviță originar ...</td>\n    </tr>\n    <tr>\n      <th>1</th>\n      <td>Lupta revoluționarilor este condusă de Avram I...</td>\n      <td>Schiul nordic face parte din programul olimpic...</td>\n      <td>3</td>\n      <td>bc2fa29f-cf22-4a7c-8b55-9b1ed019f6ac</td>\n      <td>Lupta revoluționarilor este condusă de Avram I...</td>\n      <td>lupta revoluționarilor condusă avram iancu ioa...</td>\n    </tr>\n    <tr>\n      <th>2</th>\n      <td>Locuitorii liberi au devenit „''iobagiones cas...</td>\n      <td>În anii 1960, ea a apărut în drame realizate l...</td>\n      <td>3</td>\n      <td>8547b1ef-7bfe-43a9-aedf-bad0c0fbc049</td>\n      <td>Locuitorii liberi au devenit „''iobagiones cas...</td>\n      <td>locuitorii liberi devenit iobagiones castri io...</td>\n    </tr>\n    <tr>\n      <th>3</th>\n      <td>În anul 2002 are loc lansarea în domeniul turi...</td>\n      <td>Se lansează primul hotel al grupului în otopen...</td>\n      <td>2</td>\n      <td>0ad1ce19-7aa9-4ddd-b8d6-822072a723b0</td>\n      <td>În anul 2002 are loc lansarea în domeniul turi...</td>\n      <td>anul loc lansarea domeniul turistichotelier la...</td>\n    </tr>\n    <tr>\n      <th>4</th>\n      <td>Zillich a mijlocit, prin revista ''Klingsor'',...</td>\n      <td>Au apărut lucrări ale lui ion luca caragiale, ...</td>\n      <td>2</td>\n      <td>50c44ffa-b0c1-4d98-bc6c-3bbf95f50896</td>\n      <td>Zillich a mijlocit, prin revista ''Klingsor'',...</td>\n      <td>zillich mijlocit revista klingsor debutul mult...</td>\n    </tr>\n  </tbody>\n</table>\n</div>"
     },
     "execution_count": 151,
     "metadata": {},
     "output_type": "execute_result"
    }
   ],
   "source": [
    "train_data.head()"
   ],
   "metadata": {
    "collapsed": false,
    "ExecuteTime": {
     "end_time": "2023-11-22T20:18:26.871478700Z",
     "start_time": "2023-11-22T20:18:26.855584700Z"
    }
   },
   "id": "4c375504b9249583"
  },
  {
   "cell_type": "code",
   "execution_count": 164,
   "outputs": [
    {
     "name": "stdout",
     "output_type": "stream",
     "text": [
      "Aceasta\n",
      "este\n",
      "o\n",
      "propoziție\n",
      "de\n",
      "exemplu\n",
      ".\n",
      "Alta\n",
      "propoziție\n",
      "aici\n",
      ".\n"
     ]
    }
   ],
   "source": [
    "import spacy\n",
    "\n",
    "# Load the Romanian language model using its package name\n",
    "nlp = spacy.load(\"ro_core_news_sm\")\n",
    "\n",
    "# Example sentences\n",
    "sentences = [\"Aceasta este o propoziție de exemplu.\", \"Alta propoziție aici.\"]\n",
    "\n",
    "for sentence in sentences:\n",
    "    doc = nlp(sentence)\n",
    "    # print(doc.text)\n",
    "    for token in doc:\n",
    "        print(token.text, token.pos_, token.dep_)\n"
   ],
   "metadata": {
    "collapsed": false,
    "ExecuteTime": {
     "end_time": "2023-11-22T21:03:06.561791200Z",
     "start_time": "2023-11-22T21:03:06.285889100Z"
    }
   },
   "id": "7c5543687894ba71"
  },
  {
   "cell_type": "code",
   "execution_count": 152,
   "outputs": [
    {
     "name": "stderr",
     "output_type": "stream",
     "text": [
      "58114lines [00:00, 213956.29lines/s]\n"
     ]
    }
   ],
   "source": [
    "from torchtext.data.utils import get_tokenizer\n",
    "from torchtext.vocab import build_vocab_from_iterator\n",
    "\n",
    "tokenizer = get_tokenizer(tokenizer=\"spacy\", language='ro_core_news_sm')\n",
    "\n",
    "all_sentences = []\n",
    "all_sentences.extend(train_data['preprocessed_sentences'])\n",
    "all_sentences.extend(test_data['preprocessed_sentences'])\n",
    "all_sentences.extend(validation_data['preprocessed_sentences'])\n",
    "\n",
    "\n",
    "max_len = max(len(tokenizer(sentence)) for sentence in all_sentences)\n",
    "\n",
    "tokenized_sentences = [tokenizer(sentence) for sentence in train_data['preprocessed_sentences']]\n",
    "vocab = build_vocab_from_iterator(tokenized_sentences)\n",
    "\n",
    "\n",
    "def numericalize_sentence(sentence):\n",
    "    tokens = tokenizer(sentence)\n",
    "    return torch.tensor([vocab[token] for token in tokens], dtype=torch.float32)\n",
    "\n",
    "\n",
    "class CustomDataset(Dataset):\n",
    "    def __init__(self, data, train=True):\n",
    "        super().__init__()\n",
    "        self.train = train\n",
    "        self.data = data\n",
    "\n",
    "    def __len__(self):\n",
    "        return len(self.data)\n",
    "\n",
    "    def __getitem__(self, idx):\n",
    "        row = self.data.iloc[idx]\n",
    "        sentence = row['preprocessed_sentences']\n",
    "        numericalized = numericalize_sentence(sentence)\n",
    "        tensor_to_concat = torch.full((max_len - numericalized.size(0),), vocab['<pad>'], dtype=torch.float32)\n",
    "        numericalized = torch.cat((numericalized, tensor_to_concat), dim=0)\n",
    "        if self.train:\n",
    "            label = row['label']\n",
    "            return numericalized, torch.tensor(label, dtype=torch.long)\n",
    "        else:\n",
    "            return numericalized, row['guid']"
   ],
   "metadata": {
    "collapsed": false,
    "ExecuteTime": {
     "end_time": "2023-11-22T20:20:26.761457Z",
     "start_time": "2023-11-22T20:20:15.800963900Z"
    }
   },
   "id": "4d3ac75361966a42"
  },
  {
   "cell_type": "code",
   "execution_count": 158,
   "outputs": [
    {
     "name": "stdout",
     "output_type": "stream",
     "text": [
      "<unk>: 0\n",
      "<pad>: 1\n",
      "și: 2\n",
      "mare: 3\n",
      "fiind: 4\n",
      "între: 5\n",
      "timp: 6\n",
      "anul: 7\n",
      "ani: 8\n",
      " : 9\n",
      "când: 10\n",
      "parte: 11\n",
      "the: 12\n",
      "timpul: 13\n",
      "precum: 14\n",
      "erau: 15\n",
      "românia: 16\n",
      "conform: 17\n",
      "asemenea: 18\n",
      "loc: 19\n",
      "devenit: 20\n",
      "n: 21\n",
      "decât: 22\n",
      "întrun: 23\n",
      "întro: 24\n",
      "numele: 25\n",
      "există: 26\n",
      "of: 27\n",
      "început: 28\n",
      "își: 29\n",
      "partea: 30\n",
      "față: 31\n",
      "însă: 32\n",
      "război: 33\n",
      "#: 34\n",
      "bucurești: 35\n",
      "majoritatea: 36\n",
      "mari: 37\n",
      "perioada: 38\n",
      "cadrul: 39\n",
      "deoarece: 40\n",
      "deși: 41\n",
      "atât: 42\n",
      "comună: 43\n",
      "șia: 44\n",
      "trebuie: 45\n",
      "împotriva: 46\n",
      "puțin: 47\n",
      "făcut: 48\n",
      "regiunea: 49\n",
      "locul: 50\n",
      "iunie: 51\n",
      "anii: 52\n",
      "putea: 53\n",
      "exemplu: 54\n",
      "limba: 55\n",
      "același: 56\n",
      "general: 57\n",
      "martie: 58\n",
      "punct: 59\n",
      "ales: 60\n",
      "comuna: 61\n",
      "nord: 62\n",
      "diferite: 63\n",
      "stat: 64\n",
      "încă: 65\n",
      "urmare: 66\n",
      "vedere: 67\n",
      "împreună: 68\n",
      "urma: 69\n",
      "înainte: 70\n",
      "dea: 71\n",
      "află: 72\n",
      "mondial: 73\n",
      "locuitori: 74\n",
      "român: 75\n",
      "familia: 76\n",
      "august: 77\n",
      "având: 78\n",
      "octombrie: 79\n",
      "septembrie: 80\n",
      "datorită: 81\n",
      "d: 82\n",
      "anului: 83\n",
      "biserica: 84\n",
      "numărul: 85\n",
      "aproape: 86\n",
      "târziu: 87\n",
      "an: 88\n",
      "decembrie: 89\n",
      "aprilie: 90\n",
      "faptul: 91\n",
      "noiembrie: 92\n",
      "româniei: 93\n",
      "sat: 94\n",
      "cauza: 95\n",
      "număr: 96\n",
      "iulie: 97\n",
      "special: 98\n",
      "populației: 99\n"
     ]
    }
   ],
   "source": [
    "count = 0\n",
    "for token, index in vocab.stoi.items():\n",
    "    if count < 100:\n",
    "        print(f\"{token}: {index}\")\n",
    "        count += 1\n",
    "    else:\n",
    "        break\n"
   ],
   "metadata": {
    "collapsed": false,
    "ExecuteTime": {
     "end_time": "2023-11-22T20:33:26.226979100Z",
     "start_time": "2023-11-22T20:33:26.217467200Z"
    }
   },
   "id": "f30ba688d81a7176"
  },
  {
   "cell_type": "code",
   "execution_count": 124,
   "outputs": [],
   "source": [
    "train_dataset = CustomDataset(data=train_data)\n",
    "validation_dataset = CustomDataset(data=validation_data)\n",
    "test_dataset = CustomDataset(data=test_data, train=False)"
   ],
   "metadata": {
    "collapsed": false,
    "ExecuteTime": {
     "end_time": "2023-11-22T19:57:10.170845700Z",
     "start_time": "2023-11-22T19:57:10.153324900Z"
    }
   },
   "id": "81d8a9ed0754819e"
  },
  {
   "cell_type": "code",
   "execution_count": 125,
   "outputs": [],
   "source": [
    "train_loader = DataLoader(train_dataset, batch_size=1024, shuffle=True)\n",
    "test_loader = DataLoader(test_dataset, batch_size=1024, shuffle=False)\n",
    "validation_loader = DataLoader(validation_dataset, batch_size=128, shuffle=False)"
   ],
   "metadata": {
    "collapsed": false,
    "ExecuteTime": {
     "end_time": "2023-11-22T19:57:10.278074200Z",
     "start_time": "2023-11-22T19:57:10.168842400Z"
    }
   },
   "id": "aeaca0ad83e01fe9"
  },
  {
   "cell_type": "code",
   "execution_count": 126,
   "outputs": [],
   "source": [
    "class SentenceClassifier(nn.Module):\n",
    "    def __init__(self, input_dim, output_dim):\n",
    "        super(SentenceClassifier, self).__init__()\n",
    "        self.fc = nn.Linear(input_dim, 4)\n",
    "        # self.fc2 = nn.Linear(512, output_dim)\n",
    "        self.activation = nn.Softmax(dim=1)\n",
    "\n",
    "    def forward(self, x):\n",
    "        x = self.fc(x)\n",
    "        # x = self.fc2(x)\n",
    "        x = self.activation(x)\n",
    "        return x"
   ],
   "metadata": {
    "collapsed": false,
    "ExecuteTime": {
     "end_time": "2023-11-22T19:57:10.295162600Z",
     "start_time": "2023-11-22T19:57:10.279167100Z"
    }
   },
   "id": "57dddc9ee4240464"
  },
  {
   "cell_type": "code",
   "execution_count": 127,
   "outputs": [],
   "source": [
    "device = torch.device(\"cuda\" if torch.cuda.is_available() else \"cpu\")"
   ],
   "metadata": {
    "collapsed": false,
    "ExecuteTime": {
     "end_time": "2023-11-22T19:57:10.310878900Z",
     "start_time": "2023-11-22T19:57:10.293162900Z"
    }
   },
   "id": "81b1659a8dfc29b1"
  },
  {
   "cell_type": "code",
   "execution_count": 128,
   "outputs": [
    {
     "name": "stdout",
     "output_type": "stream",
     "text": [
      "1027\n"
     ]
    }
   ],
   "source": [
    "input_dim = max_len\n",
    "print(input_dim)\n",
    "output_dim = 4  # Number of output classes\n",
    "model = SentenceClassifier(input_dim, output_dim)\n",
    "model.to(device)\n",
    "criterion = nn.CrossEntropyLoss()\n",
    "optimizer = optim.Adam(model.parameters(), lr=0.001)\n",
    "scheduler = ExponentialLR(optimizer, gamma=0.9)"
   ],
   "metadata": {
    "collapsed": false,
    "ExecuteTime": {
     "end_time": "2023-11-22T19:57:10.335897700Z",
     "start_time": "2023-11-22T19:57:10.310878900Z"
    }
   },
   "id": "c40b1550293e08ad"
  },
  {
   "cell_type": "code",
   "execution_count": 129,
   "outputs": [
    {
     "name": "stdout",
     "output_type": "stream",
     "text": [
      "Epoch 1/15 - Loss: 1.3516 - Val Loss: 1.3739 - Time = 7.5s\n",
      "Epoch 2/15 - Loss: 1.3051 - Val Loss: 1.3707 - Time = 7.7s\n",
      "Epoch 3/15 - Loss: 1.3015 - Val Loss: 1.3642 - Time = 7.4s\n",
      "Epoch 4/15 - Loss: 1.2999 - Val Loss: 1.3639 - Time = 7.6s\n",
      "Epoch 5/15 - Loss: 1.3001 - Val Loss: 1.3662 - Time = 7.4s\n",
      "Epoch 6/15 - Loss: 1.2992 - Val Loss: 1.3554 - Time = 7.5s\n",
      "Epoch 7/15 - Loss: 1.2950 - Val Loss: 1.3393 - Time = 7.5s\n",
      "Epoch 8/15 - Loss: 1.2879 - Val Loss: 1.3163 - Time = 7.5s\n",
      "Epoch 9/15 - Loss: 1.2823 - Val Loss: 1.3374 - Time = 7.7s\n",
      "Epoch 10/15 - Loss: 1.2862 - Val Loss: 1.3332 - Time = 7.3s\n",
      "Epoch 11/15 - Loss: 1.2878 - Val Loss: 1.3380 - Time = 7.4s\n",
      "Epoch 12/15 - Loss: 1.2883 - Val Loss: 1.3368 - Time = 7.3s\n",
      "Epoch 13/15 - Loss: 1.2877 - Val Loss: 1.3341 - Time = 7.4s\n",
      "Epoch 14/15 - Loss: 1.2859 - Val Loss: 1.3335 - Time = 7.3s\n",
      "Epoch 15/15 - Loss: 1.2838 - Val Loss: 1.3312 - Time = 7.4s\n",
      "Training finished!\n"
     ]
    }
   ],
   "source": [
    "import time\n",
    "\n",
    "num_epochs = 15\n",
    "for epoch in range(num_epochs):\n",
    "    start = time.time()\n",
    "\n",
    "    ### TRAINING\n",
    "    model.train()\n",
    "    running_loss = 0.0\n",
    "    for idx, (inputs, labels) in enumerate(train_loader):\n",
    "        inputs, labels = inputs.to(device), labels.to(device)\n",
    "        optimizer.zero_grad()\n",
    "        output = model(inputs)\n",
    "        loss = criterion(output, labels)\n",
    "        loss.backward()\n",
    "        optimizer.step()\n",
    "        running_loss += loss.item()\n",
    "        # if idx % 5 == 0 and idx != 0:\n",
    "        #     print(f\"{idx}/{len(train_loader)} - Loss: {running_loss / idx}\")\n",
    "\n",
    "    ### VALIDATING\n",
    "    model.eval()\n",
    "    val_losses = 0.0\n",
    "    with torch.no_grad():\n",
    "        for inputs, labels in validation_loader:\n",
    "            inputs, labels = inputs.to(device), labels.to(device)\n",
    "            output = model(inputs)\n",
    "            val_loss = criterion(output, labels)\n",
    "            val_losses += val_loss.item()\n",
    "    end = time.time()\n",
    "    scheduler.step()\n",
    "\n",
    "    print(f\"Epoch {epoch + 1}/{num_epochs} - Loss: {running_loss / len(train_loader):.4f} - \"\n",
    "          f\"Val Loss: {val_losses / len(validation_loader):.4f} - \"\n",
    "          f\"Time = {end - start:.1f}s\")\n",
    "print('Training finished!')\n"
   ],
   "metadata": {
    "collapsed": false,
    "ExecuteTime": {
     "end_time": "2023-11-22T19:59:02.113285600Z",
     "start_time": "2023-11-22T19:57:10.327390300Z"
    }
   },
   "id": "80b0afa6cd0e08e8"
  },
  {
   "cell_type": "code",
   "execution_count": 130,
   "outputs": [
    {
     "name": "stdout",
     "output_type": "stream",
     "text": [
      "Validation Accuracy: 0.4129\n",
      "Macro-average F1 score: 0.1959\n"
     ]
    }
   ],
   "source": [
    "from sklearn.metrics import f1_score\n",
    "\n",
    "with torch.no_grad():\n",
    "    total = 0\n",
    "    correct = 0\n",
    "    true_labels = []\n",
    "    predicted_labels = []\n",
    "\n",
    "    for inputs, labels in validation_loader:\n",
    "        inputs, labels = inputs.to(device), labels.to(device)\n",
    "        output = model(inputs)\n",
    "\n",
    "        _, predicted = torch.max(output, 1)\n",
    "        predicted_labels.extend(predicted.cpu().tolist())\n",
    "        true_labels.extend(labels.cpu().tolist())\n",
    "        correct += (predicted == labels).sum().item()\n",
    "        total += labels.size(0)\n",
    "\n",
    "    accuracy = correct / total\n",
    "    print(f\"Validation Accuracy: {accuracy:.4f}\")\n",
    "\n",
    "    f1_macro = f1_score(true_labels, predicted_labels, average='macro')\n",
    "    print(f\"Macro-average F1 score: {f1_macro:.4f}\")"
   ],
   "metadata": {
    "collapsed": false,
    "ExecuteTime": {
     "end_time": "2023-11-22T19:59:02.542153300Z",
     "start_time": "2023-11-22T19:59:02.112285100Z"
    }
   },
   "id": "e0a0aa2552258027"
  },
  {
   "cell_type": "code",
   "execution_count": 143,
   "outputs": [
    {
     "name": "stdout",
     "output_type": "stream",
     "text": [
      "              precision    recall  f1-score   support\n",
      "\n",
      "           0       0.00      0.00      0.00        74\n",
      "           1       0.00      0.00      0.00        72\n",
      "           2       0.38      0.85      0.52      1135\n",
      "           3       0.61      0.17      0.26      1778\n",
      "\n",
      "    accuracy                           0.41      3059\n",
      "   macro avg       0.25      0.25      0.20      3059\n",
      "weighted avg       0.50      0.41      0.35      3059\n"
     ]
    }
   ],
   "source": [
    "from sklearn.metrics import classification_report\n",
    "\n",
    "report = classification_report(true_labels, predicted_labels, zero_division=0)\n",
    "print(report)"
   ],
   "metadata": {
    "collapsed": false,
    "ExecuteTime": {
     "end_time": "2023-11-22T20:03:09.771285700Z",
     "start_time": "2023-11-22T20:03:09.740848600Z"
    }
   },
   "id": "d41afd9a380ac454"
  },
  {
   "cell_type": "code",
   "execution_count": 132,
   "outputs": [
    {
     "data": {
      "text/plain": "<Figure size 800x600 with 2 Axes>",
      "image/png": "[encoded data removed]"
     },
     "metadata": {},
     "output_type": "display_data"
    }
   ],
   "source": [
    "import matplotlib.pyplot as plt\n",
    "import seaborn as sns\n",
    "from sklearn.metrics import confusion_matrix\n",
    "\n",
    "cm = confusion_matrix(true_labels, predicted_labels)\n",
    "\n",
    "class_labels = ['Class 0', 'Class 1', 'Class 2', 'Class 3']\n",
    "\n",
    "# Create a heatmap for the confusion matrix\n",
    "plt.figure(figsize=(8, 6))\n",
    "sns.heatmap(cm, annot=True, fmt='d', cmap='Blues', xticklabels=class_labels, yticklabels=class_labels)\n",
    "plt.xlabel('Predicted labels')\n",
    "plt.ylabel('True labels')\n",
    "plt.title('Confusion Matrix')\n",
    "plt.show()\n"
   ],
   "metadata": {
    "collapsed": false,
    "ExecuteTime": {
     "end_time": "2023-11-22T19:59:02.691586800Z",
     "start_time": "2023-11-22T19:59:02.547153500Z"
    }
   },
   "id": "e28cc822bf68bd52"
  },
  {
   "cell_type": "code",
   "execution_count": 133,
   "outputs": [],
   "source": [
    "with torch.no_grad():\n",
    "    all_outputs = []\n",
    "    all_guids = []\n",
    "    for inputs, batch_guids in test_loader:\n",
    "        inputs = inputs.to(device)\n",
    "        output = model(inputs)\n",
    "        _, output = torch.max(output, 1)\n",
    "        all_outputs.extend(output)\n",
    "        all_guids.extend(batch_guids)\n"
   ],
   "metadata": {
    "collapsed": false,
    "ExecuteTime": {
     "end_time": "2023-11-22T19:59:03.012734300Z",
     "start_time": "2023-11-22T19:59:02.687078200Z"
    }
   },
   "id": "66497d02e11a184e"
  },
  {
   "cell_type": "code",
   "execution_count": 134,
   "outputs": [
    {
     "name": "stdout",
     "output_type": "stream",
     "text": [
      "CSV file saved successfully.\n"
     ]
    }
   ],
   "source": [
    "# Convert lists to DataFrame\n",
    "all_outputs_cpu = [output.cpu().detach().numpy() for output in all_outputs]\n",
    "\n",
    "# Convert lists to DataFrame\n",
    "data = {'guid': all_guids, 'label': all_outputs_cpu}\n",
    "df = pd.DataFrame(data)\n",
    "\n",
    "# Save DataFrame to CSV\n",
    "df.to_csv('./data/output.csv', index=False)\n",
    "\n",
    "print(\"CSV file saved successfully.\")"
   ],
   "metadata": {
    "collapsed": false,
    "ExecuteTime": {
     "end_time": "2023-11-22T19:59:03.108115600Z",
     "start_time": "2023-11-22T19:59:03.014734300Z"
    }
   },
   "id": "52d42d118b277ddf"
  },
  {
   "cell_type": "code",
   "execution_count": 134,
   "outputs": [],
   "source": [],
   "metadata": {
    "collapsed": false,
    "ExecuteTime": {
     "end_time": "2023-11-22T19:59:03.108115600Z",
     "start_time": "2023-11-22T19:59:03.091055900Z"
    }
   },
   "id": "b98b812c5b231903"
  }
 ],
 "metadata": {
  "kernelspec": {
   "display_name": "Python 3",
   "language": "python",
   "name": "python3"
  },
  "language_info": {
   "codemirror_mode": {
    "name": "ipython",
    "version": 2
   },
   "file_extension": ".py",
   "mimetype": "text/x-python",
   "name": "python",
   "nbconvert_exporter": "python",
   "pygments_lexer": "ipython2",
   "version": "2.7.6"
  }
 },
 "nbformat": 4,
 "nbformat_minor": 5
}
