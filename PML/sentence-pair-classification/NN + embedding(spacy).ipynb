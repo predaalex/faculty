{
 "cells": [
  {
   "cell_type": "code",
   "execution_count": 1,
   "id": "initial_id",
   "metadata": {
    "collapsed": true,
    "ExecuteTime": {
     "end_time": "2023-11-24T10:29:28.743609200Z",
     "start_time": "2023-11-24T10:29:27.261040700Z"
    }
   },
   "outputs": [],
   "source": [
    "import torch\n",
    "import torch.nn as nn\n",
    "import torch.optim as optim\n",
    "from torch.optim.lr_scheduler import ExponentialLR\n",
    "from torch.utils.data import Dataset, DataLoader\n",
    "from sklearn.feature_extraction.text import TfidfVectorizer\n",
    "import pandas as pd\n",
    "import numpy as np\n",
    "import gensim"
   ]
  },
  {
   "cell_type": "code",
   "execution_count": 22,
   "outputs": [],
   "source": [
    "train_data = pd.read_json(\"./data/train.json\")\n",
    "validation_data = pd.read_json(\"./data/validation.json\")\n",
    "test_data = pd.read_json(\"./data/test.json\")"
   ],
   "metadata": {
    "collapsed": false,
    "ExecuteTime": {
     "end_time": "2023-11-24T10:47:25.759712600Z",
     "start_time": "2023-11-24T10:47:25.485297600Z"
    }
   },
   "id": "9ec2be6f5d234874"
  },
  {
   "cell_type": "markdown",
   "source": [
    "### combine train & validation and apply "
   ],
   "metadata": {
    "collapsed": false
   },
   "id": "57b24ce0c86f365a"
  },
  {
   "cell_type": "code",
   "execution_count": 23,
   "outputs": [],
   "source": [
    "# Combine the DataFrames\n",
    "combined_data = pd.concat([train_data, validation_data], ignore_index=True)\n",
    "\n",
    "# Determine the size for train and validation sets after combining\n",
    "train_size = int(len(combined_data) * 0.8)  # Assuming 80% for training and 20% for validation\n",
    "\n",
    "# Split the combined data back into train and validation DataFrames\n",
    "train_data = combined_data[:train_size]\n",
    "validation_data = combined_data[train_size:]\n",
    "\n",
    "# Resetting index for both DataFrames\n",
    "train_data.reset_index(drop=True, inplace=True)\n",
    "validation_data.reset_index(drop=True, inplace=True)"
   ],
   "metadata": {
    "collapsed": false,
    "ExecuteTime": {
     "end_time": "2023-11-24T10:47:27.105469600Z",
     "start_time": "2023-11-24T10:47:27.057434600Z"
    }
   },
   "id": "81de5d41dcb984b0"
  },
  {
   "cell_type": "code",
   "execution_count": 49,
   "outputs": [],
   "source": [
    "import pandas as pd\n",
    "from sklearn.model_selection import train_test_split\n",
    "\n",
    "def split_data_by_class(train_data, validation_data, samples_per_class=200):\n",
    "    combined_data = pd.concat([train_data, validation_data], ignore_index=True)\n",
    "    train_data = pd.DataFrame()\n",
    "    validation_data = pd.DataFrame()\n",
    "    \n",
    "    # Iterate through each label\n",
    "    for label in combined_data['label'].unique():\n",
    "        # Split data for each label\n",
    "        label_data = combined_data[combined_data['label'] == label]\n",
    "        train_label, validation_label = train_test_split(label_data, test_size=300,stratify=label_data['label'])\n",
    "        \n",
    "        # Append data to respective train and validation sets\n",
    "        train_data = pd.concat([train_data, train_label])\n",
    "        validation_data = pd.concat([validation_data, validation_label])\n",
    "    \n",
    "    # Shuffle the data\n",
    "    train_data = train_data.sample(frac=1).reset_index(drop=True)\n",
    "    validation_data = validation_data.sample(frac=1).reset_index(drop=True)\n",
    "    \n",
    "    return train_data, validation_data\n",
    "# Assuming you have train_data and validation_data DataFrames\n",
    "# train_data = pd.read_json(\"./data/train.json\")\n",
    "# validation_data = pd.read_json(\"./data/validation.json\")\n",
    "\n",
    "# Split the data by keeping 100 samples of each class in the validation set\n",
    "train_data, validation_data = split_data_by_class(train_data, validation_data)\n"
   ],
   "metadata": {
    "collapsed": false,
    "ExecuteTime": {
     "end_time": "2023-11-23T19:35:16.011020500Z",
     "start_time": "2023-11-23T19:35:15.945727400Z"
    }
   },
   "id": "6c7803b022730b82"
  },
  {
   "cell_type": "code",
   "execution_count": 24,
   "outputs": [
    {
     "name": "stdout",
     "output_type": "stream",
     "text": [
      "Train data: label\n",
      "3    24030\n",
      "2    21658\n",
      "0     2162\n",
      "1     1088\n",
      "Name: count, dtype: int64\n",
      "Validation data: label\n",
      "3    6248\n",
      "2    5199\n",
      "0     504\n",
      "1     284\n",
      "Name: count, dtype: int64\n"
     ]
    }
   ],
   "source": [
    "# Verify the shapes of train and validation data\n",
    "print(\"Train data:\", train_data['label'].value_counts())\n",
    "print(\"Validation data:\", validation_data['label'].value_counts())"
   ],
   "metadata": {
    "collapsed": false,
    "ExecuteTime": {
     "end_time": "2023-11-24T10:47:31.882450300Z",
     "start_time": "2023-11-24T10:47:31.868944500Z"
    }
   },
   "id": "6447e88980c55a78"
  },
  {
   "cell_type": "code",
   "execution_count": 25,
   "outputs": [
    {
     "name": "stderr",
     "output_type": "stream",
     "text": [
      "C:\\Users\\allex\\AppData\\Local\\Temp\\ipykernel_14424\\3168903924.py:1: SettingWithCopyWarning: \n",
      "A value is trying to be set on a copy of a slice from a DataFrame.\n",
      "Try using .loc[row_indexer,col_indexer] = value instead\n",
      "\n",
      "See the caveats in the documentation: https://pandas.pydata.org/pandas-docs/stable/user_guide/indexing.html#returning-a-view-versus-a-copy\n",
      "  train_data['combined_sentences'] = train_data['sentence1'] + \" \" + train_data['sentence2']\n",
      "C:\\Users\\allex\\AppData\\Local\\Temp\\ipykernel_14424\\3168903924.py:2: SettingWithCopyWarning: \n",
      "A value is trying to be set on a copy of a slice from a DataFrame.\n",
      "Try using .loc[row_indexer,col_indexer] = value instead\n",
      "\n",
      "See the caveats in the documentation: https://pandas.pydata.org/pandas-docs/stable/user_guide/indexing.html#returning-a-view-versus-a-copy\n",
      "  validation_data['combined_sentences'] = validation_data['sentence1'] + \" \" + validation_data['sentence2']\n"
     ]
    }
   ],
   "source": [
    "train_data['combined_sentences'] = train_data['sentence1'] + \" \" + train_data['sentence2']\n",
    "validation_data['combined_sentences'] = validation_data['sentence1'] + \" \" + validation_data['sentence2']\n",
    "test_data['combined_sentences'] = test_data['sentence1'] + \" \" + test_data['sentence2']"
   ],
   "metadata": {
    "collapsed": false,
    "ExecuteTime": {
     "end_time": "2023-11-24T10:47:34.916180200Z",
     "start_time": "2023-11-24T10:47:34.837505100Z"
    }
   },
   "id": "7446c3a5ebf08ae9"
  },
  {
   "cell_type": "markdown",
   "source": [
    "# Preprocessing sentences"
   ],
   "metadata": {
    "collapsed": false
   },
   "id": "2ea2b8ecf90db9ce"
  },
  {
   "cell_type": "code",
   "execution_count": 26,
   "outputs": [
    {
     "data": {
      "text/plain": "'conducere naval japonez ajun ostilitate general prudent îngrijorat marină primi încă navă război comanda februarie special navă'"
     },
     "execution_count": 26,
     "metadata": {},
     "output_type": "execute_result"
    }
   ],
   "source": [
    "import re\n",
    "import spacy\n",
    "import spacy.lang.ro.stop_words as stop_words\n",
    "\n",
    "nlp = spacy.load(\"ro_core_news_sm\")\n",
    "\n",
    "# Compile the regular expression pattern\n",
    "pattern = re.compile(r\"[^a-zăâîșț@# ]\")\n",
    "\n",
    "# Convert stop words list to a set for faster lookup\n",
    "sw_set = set(stop_words.STOP_WORDS)\n",
    "sw_lower = set(word.lower() for word in stop_words.STOP_WORDS)\n",
    "\n",
    "def text_preparetion(sentence):\n",
    "    # 1. Lowercase everything\n",
    "    sentence = sentence.lower()\n",
    "\n",
    "    # 2. Remove all symbols other than a-z@#.\n",
    "    sentence = re.sub(pattern, \"\", sentence)\n",
    "\n",
    "    # Tokenize the preprocessed sentence\n",
    "    tokenization = nlp(sentence)\n",
    "\n",
    "    # 4. Remove stopwords and empty tokens, and perform stemming\n",
    "    list_text_preprocessed = [\n",
    "        token.lemma_ for token in tokenization if \n",
    "        not token.is_stop and \n",
    "        token.pos_ != \"SPACE\"\n",
    "    ]\n",
    "    # for token in tokenization:\n",
    "    #     print(\n",
    "    #         f\"Text: {token.text}, Lemma: {token.lemma_}, POS Tag: {token.pos_}, Dependency: {token.dep_}, \"\n",
    "    #         f\"Stop Word?: {token.is_stop}, Entity Type: {token.ent_type_}\"\n",
    "    #     )\n",
    "    # Join the stemmed tokens back into a sentence\n",
    "    processed_text = ' '.join(list_text_preprocessed)\n",
    "\n",
    "    return processed_text\n",
    "\n",
    "# Test the function\n",
    "sentence1 = \"Conducerea navală japoneză în ajunul ostilităților era, în general, prudentă și chiar îngrijorată deoarece marina nu primise încă navele de război comandate în februarie 1893, în special navele de...\"\n",
    "text_preparetion(sentence1)\n",
    "# print(text_preparetion(sentence1))"
   ],
   "metadata": {
    "collapsed": false,
    "ExecuteTime": {
     "end_time": "2023-11-24T10:47:44.644244100Z",
     "start_time": "2023-11-24T10:47:43.410333700Z"
    }
   },
   "id": "275565681379d9ca"
  },
  {
   "cell_type": "code",
   "execution_count": 27,
   "outputs": [
    {
     "name": "stderr",
     "output_type": "stream",
     "text": [
      "C:\\Users\\allex\\AppData\\Local\\Temp\\ipykernel_14424\\1785291762.py:1: SettingWithCopyWarning: \n",
      "A value is trying to be set on a copy of a slice from a DataFrame.\n",
      "Try using .loc[row_indexer,col_indexer] = value instead\n",
      "\n",
      "See the caveats in the documentation: https://pandas.pydata.org/pandas-docs/stable/user_guide/indexing.html#returning-a-view-versus-a-copy\n",
      "  train_data.loc[:, 'preprocessed_sentences'] = train_data['combined_sentences'].apply(text_preparetion)\n",
      "C:\\Users\\allex\\AppData\\Local\\Temp\\ipykernel_14424\\1785291762.py:2: SettingWithCopyWarning: \n",
      "A value is trying to be set on a copy of a slice from a DataFrame.\n",
      "Try using .loc[row_indexer,col_indexer] = value instead\n",
      "\n",
      "See the caveats in the documentation: https://pandas.pydata.org/pandas-docs/stable/user_guide/indexing.html#returning-a-view-versus-a-copy\n",
      "  validation_data.loc[:, 'preprocessed_sentences'] = validation_data['combined_sentences'].apply(text_preparetion)\n"
     ]
    }
   ],
   "source": [
    "train_data.loc[:, 'preprocessed_sentences'] = train_data['combined_sentences'].apply(text_preparetion)\n",
    "validation_data.loc[:, 'preprocessed_sentences'] = validation_data['combined_sentences'].apply(text_preparetion)\n",
    "test_data.loc[:, 'preprocessed_sentences'] = test_data['combined_sentences'].apply(text_preparetion)"
   ],
   "metadata": {
    "collapsed": false,
    "ExecuteTime": {
     "end_time": "2023-11-24T10:53:52.668206400Z",
     "start_time": "2023-11-24T10:47:51.957539500Z"
    }
   },
   "id": "aff17bb9f09cd270"
  },
  {
   "cell_type": "markdown",
   "source": [
    "# Bag of Words"
   ],
   "metadata": {
    "collapsed": false
   },
   "id": "65f1906a54b432d6"
  },
  {
   "cell_type": "code",
   "execution_count": 42,
   "outputs": [
    {
     "name": "stderr",
     "output_type": "stream",
     "text": [
      "C:\\Users\\allex\\AppData\\Local\\Temp\\ipykernel_14424\\1737353430.py:14: SettingWithCopyWarning: \n",
      "A value is trying to be set on a copy of a slice from a DataFrame.\n",
      "Try using .loc[row_indexer,col_indexer] = value instead\n",
      "\n",
      "See the caveats in the documentation: https://pandas.pydata.org/pandas-docs/stable/user_guide/indexing.html#returning-a-view-versus-a-copy\n",
      "  train_data['vectorized_sentences'] = [row.toarray()[0].tolist() for row in train_vectorized]\n",
      "C:\\Users\\allex\\AppData\\Local\\Temp\\ipykernel_14424\\1737353430.py:15: SettingWithCopyWarning: \n",
      "A value is trying to be set on a copy of a slice from a DataFrame.\n",
      "Try using .loc[row_indexer,col_indexer] = value instead\n",
      "\n",
      "See the caveats in the documentation: https://pandas.pydata.org/pandas-docs/stable/user_guide/indexing.html#returning-a-view-versus-a-copy\n",
      "  validation_data['vectorized_sentences'] = [row.toarray()[0].tolist() for row in validation_vectorized]\n"
     ]
    }
   ],
   "source": [
    "from sklearn.feature_extraction.text import CountVectorizer\n",
    "\n",
    "#Samples\n",
    "train_sentences = train_data['preprocessed_sentences']\n",
    "validation_sentences = validation_data['preprocessed_sentences']\n",
    "test_sentences = test_data['preprocessed_sentences']\n",
    "\n",
    "vectorizer = CountVectorizer(min_df=20)\n",
    "\n",
    "train_vectorized = vectorizer.fit_transform(train_sentences)\n",
    "validation_vectorized = vectorizer.transform(validation_sentences)\n",
    "test_vectorized = vectorizer.transform(test_sentences)\n",
    "\n",
    "train_data['vectorized_sentences'] = [row.toarray()[0].tolist() for row in train_vectorized]\n",
    "validation_data['vectorized_sentences'] = [row.toarray()[0].tolist() for row in validation_vectorized]\n",
    "test_data['vectorized_sentences'] = [row.toarray()[0].tolist() for row in test_vectorized]\n"
   ],
   "metadata": {
    "collapsed": false,
    "ExecuteTime": {
     "end_time": "2023-11-24T11:06:01.681955400Z",
     "start_time": "2023-11-24T11:05:45.779291800Z"
    }
   },
   "id": "dfdd96989b5b7538"
  },
  {
   "cell_type": "markdown",
   "source": [
    "# SAVE PREPROCESSED DATAFRAMES"
   ],
   "metadata": {
    "collapsed": false
   },
   "id": "a0cb7b3707232373"
  },
  {
   "cell_type": "code",
   "execution_count": 6,
   "outputs": [],
   "source": [
    "train_data.to_csv('./data/dataframes/train_data_text.csv', index=False)\n",
    "validation_data.to_csv('./data/dataframes/validation_data_text.csv', index=False)\n",
    "test_data.to_csv('./data/dataframes/test_data_text.csv', index=False)"
   ],
   "metadata": {
    "collapsed": false,
    "ExecuteTime": {
     "end_time": "2023-11-24T10:32:14.032439400Z",
     "start_time": "2023-11-24T10:30:46.659414900Z"
    }
   },
   "id": "13595e3bbe4618c5"
  },
  {
   "cell_type": "markdown",
   "source": [
    "# LOAD PREPROCESSED DATAFRAMES"
   ],
   "metadata": {
    "collapsed": false
   },
   "id": "a172a28ea865051"
  },
  {
   "cell_type": "code",
   "execution_count": 2,
   "outputs": [],
   "source": [
    "# Load DataFrames from CSV files\n",
    "train_data = pd.read_csv('./data/dataframes/train_data_text.csv')\n",
    "validation_data = pd.read_csv('./data/dataframes/validation_data_text.csv')\n",
    "test_data = pd.read_csv('./data/dataframes/test_data_text.csv')"
   ],
   "metadata": {
    "collapsed": false,
    "ExecuteTime": {
     "end_time": "2023-11-24T10:29:33.141979900Z",
     "start_time": "2023-11-24T10:29:32.352985400Z"
    }
   },
   "id": "4b2cebcd9614a3c3"
  },
  {
   "cell_type": "code",
   "execution_count": 5,
   "outputs": [
    {
     "data": {
      "text/plain": "                                           sentence1  \\\n0  Primul taragotist român a fost Nicolae Luță Io...   \n1  Lupta revoluționarilor este condusă de Avram I...   \n2  Locuitorii liberi au devenit „''iobagiones cas...   \n3  În anul 2002 are loc lansarea în domeniul turi...   \n4  Zillich a mijlocit, prin revista ''Klingsor'',...   \n\n                                           sentence2  label  \\\n0  Colegiul de arhitectură, artă și planificare (...      3   \n1  Schiul nordic face parte din programul olimpic...      3   \n2  În anii 1960, ea a apărut în drame realizate l...      3   \n3  Se lansează primul hotel al grupului în otopen...      2   \n4  Au apărut lucrări ale lui ion luca caragiale, ...      2   \n\n                                   guid  \\\n0  7cec5ac4-c115-4976-8d2a-9badfe9b63b9   \n1  bc2fa29f-cf22-4a7c-8b55-9b1ed019f6ac   \n2  8547b1ef-7bfe-43a9-aedf-bad0c0fbc049   \n3  0ad1ce19-7aa9-4ddd-b8d6-822072a723b0   \n4  50c44ffa-b0c1-4d98-bc6c-3bbf95f50896   \n\n                                  combined_sentences  \\\n0  Primul taragotist român a fost Nicolae Luță Io...   \n1  Lupta revoluționarilor este condusă de Avram I...   \n2  Locuitorii liberi au devenit „''iobagiones cas...   \n3  În anul 2002 are loc lansarea în domeniul turi...   \n4  Zillich a mijlocit, prin revista ''Klingsor'',...   \n\n                              preprocessed_sentences  \\\n0  taragotist român nicolae luță ioviță originar ...   \n1  lupta revoluționarilor condusă avram iancu ioa...   \n2  locuitorii liberi devenit iobagiones castri io...   \n3  anul loc lansarea domeniul turistichotelier la...   \n4  zillich mijlocit revista klingsor debutul mult...   \n\n                                vectorized_sentences  \n0  [0, 0, 0, 0, 0, 0, 0, 0, 0, 0, 0, 0, 0, 0, 0, ...  \n1  [0, 0, 0, 0, 0, 0, 0, 0, 0, 0, 0, 0, 0, 0, 0, ...  \n2  [0, 0, 0, 0, 0, 0, 0, 0, 0, 0, 0, 0, 0, 0, 0, ...  \n3  [0, 0, 0, 0, 0, 0, 0, 0, 0, 0, 0, 0, 0, 0, 0, ...  \n4  [0, 0, 0, 0, 0, 0, 0, 0, 0, 0, 0, 0, 0, 0, 0, ...  ",
      "text/html": "<div>\n<style scoped>\n    .dataframe tbody tr th:only-of-type {\n        vertical-align: middle;\n    }\n\n    .dataframe tbody tr th {\n        vertical-align: top;\n    }\n\n    .dataframe thead th {\n        text-align: right;\n    }\n</style>\n<table border=\"1\" class=\"dataframe\">\n  <thead>\n    <tr style=\"text-align: right;\">\n      <th></th>\n      <th>sentence1</th>\n      <th>sentence2</th>\n      <th>label</th>\n      <th>guid</th>\n      <th>combined_sentences</th>\n      <th>preprocessed_sentences</th>\n      <th>vectorized_sentences</th>\n    </tr>\n  </thead>\n  <tbody>\n    <tr>\n      <th>0</th>\n      <td>Primul taragotist român a fost Nicolae Luță Io...</td>\n      <td>Colegiul de arhitectură, artă și planificare (...</td>\n      <td>3</td>\n      <td>7cec5ac4-c115-4976-8d2a-9badfe9b63b9</td>\n      <td>Primul taragotist român a fost Nicolae Luță Io...</td>\n      <td>taragotist român nicolae luță ioviță originar ...</td>\n      <td>[0, 0, 0, 0, 0, 0, 0, 0, 0, 0, 0, 0, 0, 0, 0, ...</td>\n    </tr>\n    <tr>\n      <th>1</th>\n      <td>Lupta revoluționarilor este condusă de Avram I...</td>\n      <td>Schiul nordic face parte din programul olimpic...</td>\n      <td>3</td>\n      <td>bc2fa29f-cf22-4a7c-8b55-9b1ed019f6ac</td>\n      <td>Lupta revoluționarilor este condusă de Avram I...</td>\n      <td>lupta revoluționarilor condusă avram iancu ioa...</td>\n      <td>[0, 0, 0, 0, 0, 0, 0, 0, 0, 0, 0, 0, 0, 0, 0, ...</td>\n    </tr>\n    <tr>\n      <th>2</th>\n      <td>Locuitorii liberi au devenit „''iobagiones cas...</td>\n      <td>În anii 1960, ea a apărut în drame realizate l...</td>\n      <td>3</td>\n      <td>8547b1ef-7bfe-43a9-aedf-bad0c0fbc049</td>\n      <td>Locuitorii liberi au devenit „''iobagiones cas...</td>\n      <td>locuitorii liberi devenit iobagiones castri io...</td>\n      <td>[0, 0, 0, 0, 0, 0, 0, 0, 0, 0, 0, 0, 0, 0, 0, ...</td>\n    </tr>\n    <tr>\n      <th>3</th>\n      <td>În anul 2002 are loc lansarea în domeniul turi...</td>\n      <td>Se lansează primul hotel al grupului în otopen...</td>\n      <td>2</td>\n      <td>0ad1ce19-7aa9-4ddd-b8d6-822072a723b0</td>\n      <td>În anul 2002 are loc lansarea în domeniul turi...</td>\n      <td>anul loc lansarea domeniul turistichotelier la...</td>\n      <td>[0, 0, 0, 0, 0, 0, 0, 0, 0, 0, 0, 0, 0, 0, 0, ...</td>\n    </tr>\n    <tr>\n      <th>4</th>\n      <td>Zillich a mijlocit, prin revista ''Klingsor'',...</td>\n      <td>Au apărut lucrări ale lui ion luca caragiale, ...</td>\n      <td>2</td>\n      <td>50c44ffa-b0c1-4d98-bc6c-3bbf95f50896</td>\n      <td>Zillich a mijlocit, prin revista ''Klingsor'',...</td>\n      <td>zillich mijlocit revista klingsor debutul mult...</td>\n      <td>[0, 0, 0, 0, 0, 0, 0, 0, 0, 0, 0, 0, 0, 0, 0, ...</td>\n    </tr>\n  </tbody>\n</table>\n</div>"
     },
     "execution_count": 5,
     "metadata": {},
     "output_type": "execute_result"
    }
   ],
   "source": [
    "train_data.head()"
   ],
   "metadata": {
    "collapsed": false,
    "ExecuteTime": {
     "end_time": "2023-11-24T10:30:35.594947800Z",
     "start_time": "2023-11-24T10:30:35.550909400Z"
    }
   },
   "id": "4c375504b9249583"
  },
  {
   "cell_type": "markdown",
   "source": [
    "# Bag of Words Dataset"
   ],
   "metadata": {
    "collapsed": false
   },
   "id": "7996bed5ba02e9fe"
  },
  {
   "cell_type": "code",
   "execution_count": 43,
   "outputs": [],
   "source": [
    "max_len = len(vectorizer.vocabulary_)\n",
    "\n",
    "class BagOfWordsDataset(Dataset):\n",
    "    def __init__(self, data, train=True):\n",
    "        super().__init__()\n",
    "        self.train = train\n",
    "        self.data = data\n",
    "    \n",
    "    def __len__(self):\n",
    "        return len(self.data)\n",
    "    \n",
    "    def __getitem__(self, idx):\n",
    "        row = self.data.iloc[idx]\n",
    "        sentence_vector = row['vectorized_sentences']\n",
    "        # sentence_vector = torch.tensor(sentence_vector, dtype=torch.float32) # for network1\n",
    "        sentence_vector = torch.tensor(sentence_vector, dtype=torch.long) # for network2\n",
    "        label = row['label']\n",
    "        label = torch.tensor(label, dtype=torch.long)\n",
    "        if self.train:\n",
    "            return sentence_vector, label\n",
    "        else:\n",
    "            return sentence_vector, row['guid']"
   ],
   "metadata": {
    "collapsed": false,
    "ExecuteTime": {
     "end_time": "2023-11-24T11:06:11.247082300Z",
     "start_time": "2023-11-24T11:06:11.231533200Z"
    }
   },
   "id": "cb3cf996c9dd865e"
  },
  {
   "cell_type": "code",
   "execution_count": 44,
   "outputs": [],
   "source": [
    "train_dataset =  BagOfWordsDataset(data=train_data)\n",
    "validation_dataset = BagOfWordsDataset(data=validation_data)\n",
    "test_dataset = BagOfWordsDataset(data=test_data, train=False)"
   ],
   "metadata": {
    "collapsed": false,
    "ExecuteTime": {
     "end_time": "2023-11-24T11:06:16.262515100Z",
     "start_time": "2023-11-24T11:06:16.248003Z"
    }
   },
   "id": "538bd193c6ed0503"
  },
  {
   "cell_type": "code",
   "execution_count": 45,
   "outputs": [],
   "source": [
    "train_loader = DataLoader(train_dataset, batch_size=16, shuffle=True)\n",
    "validation_loader = DataLoader(validation_dataset, batch_size=4, shuffle=False)\n",
    "test_loader = DataLoader(test_dataset, batch_size=4, shuffle=False)"
   ],
   "metadata": {
    "collapsed": false,
    "ExecuteTime": {
     "end_time": "2023-11-24T11:06:17.079913200Z",
     "start_time": "2023-11-24T11:06:17.030356900Z"
    }
   },
   "id": "7317d2e4158e7bbd"
  },
  {
   "cell_type": "markdown",
   "source": [
    "# Tokenizer Dataset"
   ],
   "metadata": {
    "collapsed": false
   },
   "id": "e0711a0bb7aba0b2"
  },
  {
   "cell_type": "code",
   "execution_count": 112,
   "outputs": [
    {
     "name": "stderr",
     "output_type": "stream",
     "text": [
      "48938lines [00:00, 370955.58lines/s]\n"
     ]
    }
   ],
   "source": [
    "from torchtext.data.utils import get_tokenizer\n",
    "from torchtext.vocab import build_vocab_from_iterator\n",
    "\n",
    "# tokenizer = get_tokenizer(tokenizer=\"spacy\", language='ro_core_news_sm')\n",
    "\n",
    "max_len = max(len(sentence.split(\" \")) for sentence in train_data['preprocessed_sentences'])\n",
    "tokenized_sentences = [sentence.split(\" \") for sentence in train_data['preprocessed_sentences']]\n",
    "vocab = build_vocab_from_iterator(tokenized_sentences)\n",
    "\n",
    "\n",
    "def numericalize_sentence(sentence):\n",
    "    tokens = sentence.split(\" \")\n",
    "    # return torch.tensor([vocab[token] for token in tokens], dtype=torch.float32) # for network 1\n",
    "    return torch.tensor([vocab[token] for token in tokens], dtype=torch.long) # for network 2\n",
    "\n",
    "\n",
    "class CustomDataset(Dataset):\n",
    "    def __init__(self, data, train=True):\n",
    "        super().__init__()\n",
    "        self.train = train\n",
    "        self.data = data\n",
    "\n",
    "    def __len__(self):\n",
    "        return len(self.data)\n",
    "\n",
    "    def __getitem__(self, idx):\n",
    "        row = self.data.iloc[idx]\n",
    "        sentence = row['preprocessed_sentences']\n",
    "        numericalized = numericalize_sentence(sentence)\n",
    "        \n",
    "        # Pad shorter sentences\n",
    "        if len(numericalized) < max_len:\n",
    "            padding_length = max_len - len(numericalized)\n",
    "            pad_tensor = torch.full((padding_length,), vocab['<pad>'], dtype=torch.long)\n",
    "            numericalized = torch.cat((numericalized, pad_tensor), dim=0)\n",
    "        \n",
    "        # Truncate longer sentences\n",
    "        elif len(numericalized) > max_len:\n",
    "            numericalized = numericalized[:max_len]\n",
    "            \n",
    "        if self.train:\n",
    "            label = row['label']\n",
    "            return numericalized, torch.tensor(label, dtype=torch.long)\n",
    "        else:\n",
    "            return numericalized, row['guid']"
   ],
   "metadata": {
    "collapsed": false,
    "ExecuteTime": {
     "end_time": "2023-11-23T21:29:03.649372700Z",
     "start_time": "2023-11-23T21:29:02.825018900Z"
    }
   },
   "id": "4d3ac75361966a42"
  },
  {
   "cell_type": "code",
   "execution_count": 113,
   "outputs": [],
   "source": [
    "train_dataset = CustomDataset(data=train_data)\n",
    "validation_dataset = CustomDataset(data=validation_data)\n",
    "test_dataset = CustomDataset(data=test_data, train=False)"
   ],
   "metadata": {
    "collapsed": false,
    "ExecuteTime": {
     "end_time": "2023-11-23T21:29:03.666511800Z",
     "start_time": "2023-11-23T21:29:03.650876800Z"
    }
   },
   "id": "81d8a9ed0754819e"
  },
  {
   "cell_type": "code",
   "execution_count": 114,
   "outputs": [],
   "source": [
    "train_loader = DataLoader(train_dataset, batch_size=256, shuffle=True)\n",
    "validation_loader = DataLoader(validation_dataset, batch_size=16, shuffle=False)\n",
    "test_loader = DataLoader(test_dataset, batch_size=16, shuffle=False)"
   ],
   "metadata": {
    "collapsed": false,
    "ExecuteTime": {
     "end_time": "2023-11-23T21:29:03.692073200Z",
     "start_time": "2023-11-23T21:29:03.668512400Z"
    }
   },
   "id": "aeaca0ad83e01fe9"
  },
  {
   "cell_type": "code",
   "execution_count": 36,
   "outputs": [],
   "source": [
    "device = torch.device(\"cuda\" if torch.cuda.is_available() else \"cpu\")"
   ],
   "metadata": {
    "collapsed": false,
    "ExecuteTime": {
     "end_time": "2023-11-24T10:54:24.565715100Z",
     "start_time": "2023-11-24T10:54:24.548273500Z"
    }
   },
   "id": "c709d0b0b176f0c1"
  },
  {
   "cell_type": "markdown",
   "source": [
    "### 1. SentenceClassifier - only 1 layer"
   ],
   "metadata": {
    "collapsed": false
   },
   "id": "d66ccbf7c9c7936d"
  },
  {
   "cell_type": "code",
   "execution_count": 95,
   "outputs": [],
   "source": [
    "class SentenceClassifier(nn.Module):\n",
    "    def __init__(self, input_dim, output_dim):\n",
    "        super(SentenceClassifier, self).__init__()\n",
    "        self.fc = nn.Linear(input_dim, output_dim)\n",
    "        self.softmax = nn.Softmax(dim=1)\n",
    "\n",
    "    def forward(self, x):\n",
    "        # print(x.shape)\n",
    "        x = self.fc(x)\n",
    "        x = self.softmax(x)\n",
    "        # print(x.shape)\n",
    "        return x"
   ],
   "metadata": {
    "collapsed": false,
    "ExecuteTime": {
     "end_time": "2023-11-24T10:15:32.663948300Z",
     "start_time": "2023-11-24T10:15:32.649294800Z"
    }
   },
   "id": "57dddc9ee4240464"
  },
  {
   "cell_type": "code",
   "execution_count": 46,
   "outputs": [
    {
     "name": "stdout",
     "output_type": "stream",
     "text": [
      "6951\n"
     ]
    },
    {
     "ename": "NameError",
     "evalue": "name 'SentenceClassifier' is not defined",
     "output_type": "error",
     "traceback": [
      "\u001B[1;31m---------------------------------------------------------------------------\u001B[0m",
      "\u001B[1;31mNameError\u001B[0m                                 Traceback (most recent call last)",
      "Cell \u001B[1;32mIn[46], line 4\u001B[0m\n\u001B[0;32m      2\u001B[0m \u001B[38;5;28mprint\u001B[39m(input_dim)\n\u001B[0;32m      3\u001B[0m output_dim \u001B[38;5;241m=\u001B[39m \u001B[38;5;241m4\u001B[39m  \u001B[38;5;66;03m# Number of output classes\u001B[39;00m\n\u001B[1;32m----> 4\u001B[0m model \u001B[38;5;241m=\u001B[39m \u001B[43mSentenceClassifier\u001B[49m(input_dim, output_dim)\n\u001B[0;32m      5\u001B[0m model\u001B[38;5;241m.\u001B[39mto(device)\n\u001B[0;32m      6\u001B[0m criterion \u001B[38;5;241m=\u001B[39m nn\u001B[38;5;241m.\u001B[39mCrossEntropyLoss()\n",
      "\u001B[1;31mNameError\u001B[0m: name 'SentenceClassifier' is not defined"
     ]
    }
   ],
   "source": [
    "input_dim = max_len\n",
    "print(input_dim)\n",
    "output_dim = 4  # Number of output classes\n",
    "model = SentenceClassifier(input_dim, output_dim)\n",
    "model.to(device)\n",
    "criterion = nn.CrossEntropyLoss()\n",
    "optimizer = optim.Adam(model.parameters(), lr=0.01)\n",
    "scheduler = ExponentialLR(optimizer, gamma=0.9)\n",
    "num_epochs = 5"
   ],
   "metadata": {
    "collapsed": false,
    "ExecuteTime": {
     "end_time": "2023-11-24T11:06:33.983202Z",
     "start_time": "2023-11-24T11:06:33.900612200Z"
    }
   },
   "id": "c40b1550293e08ad"
  },
  {
   "cell_type": "code",
   "execution_count": 99,
   "outputs": [
    {
     "name": "stdout",
     "output_type": "stream",
     "text": [
      "Epoch 1/5 - Loss: 1.1144 - Val Loss: 1.0818 - Time = 55.0s\n",
      "Epoch 2/5 - Loss: 1.0239 - Val Loss: 1.0800 - Time = 54.6s\n",
      "Epoch 3/5 - Loss: 0.9963 - Val Loss: 1.0817 - Time = 54.8s\n",
      "Epoch 4/5 - Loss: 0.9787 - Val Loss: 1.0836 - Time = 55.0s\n",
      "Epoch 5/5 - Loss: 0.9667 - Val Loss: 1.0848 - Time = 55.2s\n",
      "\n",
      "Training finished!\n"
     ]
    },
    {
     "data": {
      "text/plain": "<Figure size 1000x600 with 1 Axes>",
      "image/png": "[encoded data removed]"
     },
     "metadata": {},
     "output_type": "display_data"
    }
   ],
   "source": [
    "training_method(model, criterion, optimizer, scheduler, num_epochs)"
   ],
   "metadata": {
    "collapsed": false,
    "ExecuteTime": {
     "end_time": "2023-11-24T10:23:01.492575900Z",
     "start_time": "2023-11-24T10:18:26.647098100Z"
    }
   },
   "id": "be91b56ffeb03fbe"
  },
  {
   "cell_type": "markdown",
   "source": [
    "### 2. ImprovedSentenceClassifier - embedded - bidirectional LSTM - hidden - output"
   ],
   "metadata": {
    "collapsed": false
   },
   "id": "f9ec9ab6040d9cf6"
  },
  {
   "cell_type": "code",
   "execution_count": 47,
   "outputs": [],
   "source": [
    "import torch\n",
    "import torch.nn as nn\n",
    "\n",
    "class ImprovedSentenceClassifier(nn.Module):\n",
    "    def __init__(self, vocab_size, embedding_dim, hidden_dim, output_dim, dropout_prob=0.2):\n",
    "        super(ImprovedSentenceClassifier, self).__init__()\n",
    "        self.embedding = nn.Embedding(vocab_size, embedding_dim)\n",
    "        self.dropout = nn.Dropout(dropout_prob)\n",
    "        self.lstm = nn.LSTM(embedding_dim, hidden_dim, bidirectional=True, batch_first=True)\n",
    "        self.fc1 = nn.Linear(hidden_dim * 2, hidden_dim )  # Multiplying by 2 for bidirectional\n",
    "        self.relu = nn.ReLU()\n",
    "        self.fc2 = nn.Linear(hidden_dim , output_dim)\n",
    "        # self.fc_out = nn.Linear(hidden_dim , output_dim)\n",
    "        self.softmax = nn.Softmax(dim=1)\n",
    "\n",
    "    def forward(self, x):\n",
    "        x = self.embedding(x)\n",
    "        x, _ = self.lstm(x)\n",
    "        x = torch.mean(x, dim=1)  # Mean pooling\n",
    "        x = self.dropout(x)\n",
    "        x = self.fc1(x)\n",
    "        x = self.dropout(x)\n",
    "        # x = self.relu(x)\n",
    "        x = self.fc2(x)\n",
    "        # x = self.fc_out(x)\n",
    "        x = self.softmax(x)\n",
    "        return x\n"
   ],
   "metadata": {
    "collapsed": false,
    "ExecuteTime": {
     "end_time": "2023-11-24T11:06:37.673356900Z",
     "start_time": "2023-11-24T11:06:37.638832100Z"
    }
   },
   "id": "1a79340c6da7af9b"
  },
  {
   "cell_type": "code",
   "execution_count": 48,
   "outputs": [
    {
     "name": "stdout",
     "output_type": "stream",
     "text": [
      "Adjusting learning rate of group 0 to 1.0000e-02.\n"
     ]
    }
   ],
   "source": [
    "# vocab_size = len(vocab)\n",
    "vocab_size = max_len\n",
    "embedding_dim = 64  # embedding dimension\n",
    "hidden_dim = 32      # hidden layer dimension\n",
    "output_dim = 4       # number of classes\n",
    "droput_prob = 0.5    # dropout procentage\n",
    "model = ImprovedSentenceClassifier(vocab_size, embedding_dim, hidden_dim, output_dim, droput_prob)\n",
    "model.to(device)\n",
    "criterion = nn.CrossEntropyLoss()\n",
    "optimizer = optim.Adam(model.parameters(), lr=1e-2)\n",
    "scheduler = ExponentialLR(optimizer, gamma=0.9, verbose=True)\n",
    "num_epochs = 10"
   ],
   "metadata": {
    "collapsed": false,
    "ExecuteTime": {
     "end_time": "2023-11-24T11:06:39.947416800Z",
     "start_time": "2023-11-24T11:06:39.905372400Z"
    }
   },
   "id": "29b2f49807e0f26"
  },
  {
   "cell_type": "code",
   "execution_count": 50,
   "outputs": [
    {
     "name": "stdout",
     "output_type": "stream",
     "text": [
      "Adjusting learning rate of group 0 to 9.0000e-03.\n",
      "Epoch 1/10 - Loss: 1.2083 - Val Loss: 1.1956 - Time = 106.1s\n",
      "Adjusting learning rate of group 0 to 8.1000e-03.\n",
      "Epoch 2/10 - Loss: 1.2501 - Val Loss: 1.2330 - Time = 109.2s\n",
      "Adjusting learning rate of group 0 to 7.2900e-03.\n",
      "Epoch 3/10 - Loss: 1.2521 - Val Loss: 1.2330 - Time = 108.0s\n",
      "Adjusting learning rate of group 0 to 6.5610e-03.\n",
      "Epoch 4/10 - Loss: 1.2530 - Val Loss: 1.2330 - Time = 105.4s\n",
      "Adjusting learning rate of group 0 to 5.9049e-03.\n",
      "Epoch 5/10 - Loss: 1.2531 - Val Loss: 1.2330 - Time = 104.1s\n"
     ]
    },
    {
     "ename": "KeyboardInterrupt",
     "evalue": "",
     "output_type": "error",
     "traceback": [
      "\u001B[1;31m---------------------------------------------------------------------------\u001B[0m",
      "\u001B[1;31mKeyboardInterrupt\u001B[0m                         Traceback (most recent call last)",
      "Cell \u001B[1;32mIn[50], line 1\u001B[0m\n\u001B[1;32m----> 1\u001B[0m \u001B[43mtraining_method\u001B[49m\u001B[43m(\u001B[49m\u001B[43mmodel\u001B[49m\u001B[43m,\u001B[49m\u001B[43m \u001B[49m\u001B[43mcriterion\u001B[49m\u001B[43m,\u001B[49m\u001B[43m \u001B[49m\u001B[43moptimizer\u001B[49m\u001B[43m,\u001B[49m\u001B[43m \u001B[49m\u001B[43mscheduler\u001B[49m\u001B[43m,\u001B[49m\u001B[43m \u001B[49m\u001B[43mnum_epochs\u001B[49m\u001B[43m)\u001B[49m\n",
      "Cell \u001B[1;32mIn[49], line 17\u001B[0m, in \u001B[0;36mtraining_method\u001B[1;34m(model, criterion, optimizer, scheduler, num_epochs)\u001B[0m\n\u001B[0;32m     15\u001B[0m inputs, labels \u001B[38;5;241m=\u001B[39m inputs\u001B[38;5;241m.\u001B[39mto(device), labels\u001B[38;5;241m.\u001B[39mto(device)\n\u001B[0;32m     16\u001B[0m optimizer\u001B[38;5;241m.\u001B[39mzero_grad()\n\u001B[1;32m---> 17\u001B[0m output \u001B[38;5;241m=\u001B[39m \u001B[43mmodel\u001B[49m\u001B[43m(\u001B[49m\u001B[43minputs\u001B[49m\u001B[43m)\u001B[49m\n\u001B[0;32m     18\u001B[0m loss \u001B[38;5;241m=\u001B[39m criterion(output, labels)\n\u001B[0;32m     19\u001B[0m loss\u001B[38;5;241m.\u001B[39mbackward()\n",
      "File \u001B[1;32m~\\miniconda3\\envs\\PyTorch\\lib\\site-packages\\torch\\nn\\modules\\module.py:1518\u001B[0m, in \u001B[0;36mModule._wrapped_call_impl\u001B[1;34m(self, *args, **kwargs)\u001B[0m\n\u001B[0;32m   1516\u001B[0m     \u001B[38;5;28;01mreturn\u001B[39;00m \u001B[38;5;28mself\u001B[39m\u001B[38;5;241m.\u001B[39m_compiled_call_impl(\u001B[38;5;241m*\u001B[39margs, \u001B[38;5;241m*\u001B[39m\u001B[38;5;241m*\u001B[39mkwargs)  \u001B[38;5;66;03m# type: ignore[misc]\u001B[39;00m\n\u001B[0;32m   1517\u001B[0m \u001B[38;5;28;01melse\u001B[39;00m:\n\u001B[1;32m-> 1518\u001B[0m     \u001B[38;5;28;01mreturn\u001B[39;00m \u001B[38;5;28mself\u001B[39m\u001B[38;5;241m.\u001B[39m_call_impl(\u001B[38;5;241m*\u001B[39margs, \u001B[38;5;241m*\u001B[39m\u001B[38;5;241m*\u001B[39mkwargs)\n",
      "File \u001B[1;32m~\\miniconda3\\envs\\PyTorch\\lib\\site-packages\\torch\\nn\\modules\\module.py:1527\u001B[0m, in \u001B[0;36mModule._call_impl\u001B[1;34m(self, *args, **kwargs)\u001B[0m\n\u001B[0;32m   1522\u001B[0m \u001B[38;5;66;03m# If we don't have any hooks, we want to skip the rest of the logic in\u001B[39;00m\n\u001B[0;32m   1523\u001B[0m \u001B[38;5;66;03m# this function, and just call forward.\u001B[39;00m\n\u001B[0;32m   1524\u001B[0m \u001B[38;5;28;01mif\u001B[39;00m \u001B[38;5;129;01mnot\u001B[39;00m (\u001B[38;5;28mself\u001B[39m\u001B[38;5;241m.\u001B[39m_backward_hooks \u001B[38;5;129;01mor\u001B[39;00m \u001B[38;5;28mself\u001B[39m\u001B[38;5;241m.\u001B[39m_backward_pre_hooks \u001B[38;5;129;01mor\u001B[39;00m \u001B[38;5;28mself\u001B[39m\u001B[38;5;241m.\u001B[39m_forward_hooks \u001B[38;5;129;01mor\u001B[39;00m \u001B[38;5;28mself\u001B[39m\u001B[38;5;241m.\u001B[39m_forward_pre_hooks\n\u001B[0;32m   1525\u001B[0m         \u001B[38;5;129;01mor\u001B[39;00m _global_backward_pre_hooks \u001B[38;5;129;01mor\u001B[39;00m _global_backward_hooks\n\u001B[0;32m   1526\u001B[0m         \u001B[38;5;129;01mor\u001B[39;00m _global_forward_hooks \u001B[38;5;129;01mor\u001B[39;00m _global_forward_pre_hooks):\n\u001B[1;32m-> 1527\u001B[0m     \u001B[38;5;28;01mreturn\u001B[39;00m forward_call(\u001B[38;5;241m*\u001B[39margs, \u001B[38;5;241m*\u001B[39m\u001B[38;5;241m*\u001B[39mkwargs)\n\u001B[0;32m   1529\u001B[0m \u001B[38;5;28;01mtry\u001B[39;00m:\n\u001B[0;32m   1530\u001B[0m     result \u001B[38;5;241m=\u001B[39m \u001B[38;5;28;01mNone\u001B[39;00m\n",
      "Cell \u001B[1;32mIn[47], line 18\u001B[0m, in \u001B[0;36mImprovedSentenceClassifier.forward\u001B[1;34m(self, x)\u001B[0m\n\u001B[0;32m     16\u001B[0m \u001B[38;5;28;01mdef\u001B[39;00m \u001B[38;5;21mforward\u001B[39m(\u001B[38;5;28mself\u001B[39m, x):\n\u001B[0;32m     17\u001B[0m     x \u001B[38;5;241m=\u001B[39m \u001B[38;5;28mself\u001B[39m\u001B[38;5;241m.\u001B[39membedding(x)\n\u001B[1;32m---> 18\u001B[0m     x, _ \u001B[38;5;241m=\u001B[39m \u001B[38;5;28;43mself\u001B[39;49m\u001B[38;5;241;43m.\u001B[39;49m\u001B[43mlstm\u001B[49m\u001B[43m(\u001B[49m\u001B[43mx\u001B[49m\u001B[43m)\u001B[49m\n\u001B[0;32m     19\u001B[0m     x \u001B[38;5;241m=\u001B[39m torch\u001B[38;5;241m.\u001B[39mmean(x, dim\u001B[38;5;241m=\u001B[39m\u001B[38;5;241m1\u001B[39m)  \u001B[38;5;66;03m# Mean pooling\u001B[39;00m\n\u001B[0;32m     20\u001B[0m     x \u001B[38;5;241m=\u001B[39m \u001B[38;5;28mself\u001B[39m\u001B[38;5;241m.\u001B[39mdropout(x)\n",
      "File \u001B[1;32m~\\miniconda3\\envs\\PyTorch\\lib\\site-packages\\torch\\nn\\modules\\module.py:1518\u001B[0m, in \u001B[0;36mModule._wrapped_call_impl\u001B[1;34m(self, *args, **kwargs)\u001B[0m\n\u001B[0;32m   1516\u001B[0m     \u001B[38;5;28;01mreturn\u001B[39;00m \u001B[38;5;28mself\u001B[39m\u001B[38;5;241m.\u001B[39m_compiled_call_impl(\u001B[38;5;241m*\u001B[39margs, \u001B[38;5;241m*\u001B[39m\u001B[38;5;241m*\u001B[39mkwargs)  \u001B[38;5;66;03m# type: ignore[misc]\u001B[39;00m\n\u001B[0;32m   1517\u001B[0m \u001B[38;5;28;01melse\u001B[39;00m:\n\u001B[1;32m-> 1518\u001B[0m     \u001B[38;5;28;01mreturn\u001B[39;00m \u001B[38;5;28mself\u001B[39m\u001B[38;5;241m.\u001B[39m_call_impl(\u001B[38;5;241m*\u001B[39margs, \u001B[38;5;241m*\u001B[39m\u001B[38;5;241m*\u001B[39mkwargs)\n",
      "File \u001B[1;32m~\\miniconda3\\envs\\PyTorch\\lib\\site-packages\\torch\\nn\\modules\\module.py:1527\u001B[0m, in \u001B[0;36mModule._call_impl\u001B[1;34m(self, *args, **kwargs)\u001B[0m\n\u001B[0;32m   1522\u001B[0m \u001B[38;5;66;03m# If we don't have any hooks, we want to skip the rest of the logic in\u001B[39;00m\n\u001B[0;32m   1523\u001B[0m \u001B[38;5;66;03m# this function, and just call forward.\u001B[39;00m\n\u001B[0;32m   1524\u001B[0m \u001B[38;5;28;01mif\u001B[39;00m \u001B[38;5;129;01mnot\u001B[39;00m (\u001B[38;5;28mself\u001B[39m\u001B[38;5;241m.\u001B[39m_backward_hooks \u001B[38;5;129;01mor\u001B[39;00m \u001B[38;5;28mself\u001B[39m\u001B[38;5;241m.\u001B[39m_backward_pre_hooks \u001B[38;5;129;01mor\u001B[39;00m \u001B[38;5;28mself\u001B[39m\u001B[38;5;241m.\u001B[39m_forward_hooks \u001B[38;5;129;01mor\u001B[39;00m \u001B[38;5;28mself\u001B[39m\u001B[38;5;241m.\u001B[39m_forward_pre_hooks\n\u001B[0;32m   1525\u001B[0m         \u001B[38;5;129;01mor\u001B[39;00m _global_backward_pre_hooks \u001B[38;5;129;01mor\u001B[39;00m _global_backward_hooks\n\u001B[0;32m   1526\u001B[0m         \u001B[38;5;129;01mor\u001B[39;00m _global_forward_hooks \u001B[38;5;129;01mor\u001B[39;00m _global_forward_pre_hooks):\n\u001B[1;32m-> 1527\u001B[0m     \u001B[38;5;28;01mreturn\u001B[39;00m forward_call(\u001B[38;5;241m*\u001B[39margs, \u001B[38;5;241m*\u001B[39m\u001B[38;5;241m*\u001B[39mkwargs)\n\u001B[0;32m   1529\u001B[0m \u001B[38;5;28;01mtry\u001B[39;00m:\n\u001B[0;32m   1530\u001B[0m     result \u001B[38;5;241m=\u001B[39m \u001B[38;5;28;01mNone\u001B[39;00m\n",
      "File \u001B[1;32m~\\miniconda3\\envs\\PyTorch\\lib\\site-packages\\torch\\nn\\modules\\rnn.py:879\u001B[0m, in \u001B[0;36mLSTM.forward\u001B[1;34m(self, input, hx)\u001B[0m\n\u001B[0;32m    876\u001B[0m         hx \u001B[38;5;241m=\u001B[39m \u001B[38;5;28mself\u001B[39m\u001B[38;5;241m.\u001B[39mpermute_hidden(hx, sorted_indices)\n\u001B[0;32m    878\u001B[0m \u001B[38;5;28;01mif\u001B[39;00m batch_sizes \u001B[38;5;129;01mis\u001B[39;00m \u001B[38;5;28;01mNone\u001B[39;00m:\n\u001B[1;32m--> 879\u001B[0m     result \u001B[38;5;241m=\u001B[39m \u001B[43m_VF\u001B[49m\u001B[38;5;241;43m.\u001B[39;49m\u001B[43mlstm\u001B[49m\u001B[43m(\u001B[49m\u001B[38;5;28;43minput\u001B[39;49m\u001B[43m,\u001B[49m\u001B[43m \u001B[49m\u001B[43mhx\u001B[49m\u001B[43m,\u001B[49m\u001B[43m \u001B[49m\u001B[38;5;28;43mself\u001B[39;49m\u001B[38;5;241;43m.\u001B[39;49m\u001B[43m_flat_weights\u001B[49m\u001B[43m,\u001B[49m\u001B[43m \u001B[49m\u001B[38;5;28;43mself\u001B[39;49m\u001B[38;5;241;43m.\u001B[39;49m\u001B[43mbias\u001B[49m\u001B[43m,\u001B[49m\u001B[43m \u001B[49m\u001B[38;5;28;43mself\u001B[39;49m\u001B[38;5;241;43m.\u001B[39;49m\u001B[43mnum_layers\u001B[49m\u001B[43m,\u001B[49m\n\u001B[0;32m    880\u001B[0m \u001B[43m                      \u001B[49m\u001B[38;5;28;43mself\u001B[39;49m\u001B[38;5;241;43m.\u001B[39;49m\u001B[43mdropout\u001B[49m\u001B[43m,\u001B[49m\u001B[43m \u001B[49m\u001B[38;5;28;43mself\u001B[39;49m\u001B[38;5;241;43m.\u001B[39;49m\u001B[43mtraining\u001B[49m\u001B[43m,\u001B[49m\u001B[43m \u001B[49m\u001B[38;5;28;43mself\u001B[39;49m\u001B[38;5;241;43m.\u001B[39;49m\u001B[43mbidirectional\u001B[49m\u001B[43m,\u001B[49m\u001B[43m \u001B[49m\u001B[38;5;28;43mself\u001B[39;49m\u001B[38;5;241;43m.\u001B[39;49m\u001B[43mbatch_first\u001B[49m\u001B[43m)\u001B[49m\n\u001B[0;32m    881\u001B[0m \u001B[38;5;28;01melse\u001B[39;00m:\n\u001B[0;32m    882\u001B[0m     result \u001B[38;5;241m=\u001B[39m _VF\u001B[38;5;241m.\u001B[39mlstm(\u001B[38;5;28minput\u001B[39m, batch_sizes, hx, \u001B[38;5;28mself\u001B[39m\u001B[38;5;241m.\u001B[39m_flat_weights, \u001B[38;5;28mself\u001B[39m\u001B[38;5;241m.\u001B[39mbias,\n\u001B[0;32m    883\u001B[0m                       \u001B[38;5;28mself\u001B[39m\u001B[38;5;241m.\u001B[39mnum_layers, \u001B[38;5;28mself\u001B[39m\u001B[38;5;241m.\u001B[39mdropout, \u001B[38;5;28mself\u001B[39m\u001B[38;5;241m.\u001B[39mtraining, \u001B[38;5;28mself\u001B[39m\u001B[38;5;241m.\u001B[39mbidirectional)\n",
      "\u001B[1;31mKeyboardInterrupt\u001B[0m: "
     ]
    }
   ],
   "source": [
    "training_method(model, criterion, optimizer, scheduler, num_epochs)"
   ],
   "metadata": {
    "collapsed": false,
    "ExecuteTime": {
     "end_time": "2023-11-24T11:16:27.411741300Z",
     "start_time": "2023-11-24T11:06:44.138534100Z"
    }
   },
   "id": "4ab2f2c2eec8a2bf"
  },
  {
   "cell_type": "markdown",
   "source": [
    "### test models input/output"
   ],
   "metadata": {
    "collapsed": false
   },
   "id": "537883beba201c95"
  },
  {
   "cell_type": "code",
   "execution_count": 112,
   "outputs": [
    {
     "name": "stdout",
     "output_type": "stream",
     "text": [
      "torch.Size([256, 4])\n"
     ]
    }
   ],
   "source": [
    "# dummy_input = torch.randint(0, 10, (1024, max_len), dtype=torch.float32) # reteaua 1\n",
    "dummy_input = torch.randint(0, 10, (256, max_len), dtype=torch.long) # reteaua 2\n",
    "dummy_input = dummy_input.to(device)\n",
    "\n",
    "output = model(dummy_input)\n",
    "# torch.Size([1024, 4]) # reteaua 1\n",
    "# torch.Size([1024, 1026, 4]) # reteaua 2\n",
    "print(output.shape)"
   ],
   "metadata": {
    "collapsed": false,
    "ExecuteTime": {
     "end_time": "2023-11-24T10:28:08.953602700Z",
     "start_time": "2023-11-24T10:27:47.657924500Z"
    }
   },
   "id": "4c0dd93200131eec"
  },
  {
   "cell_type": "markdown",
   "source": [
    "# Training method"
   ],
   "metadata": {
    "collapsed": false
   },
   "id": "196245469a24af5"
  },
  {
   "cell_type": "code",
   "execution_count": 49,
   "outputs": [],
   "source": [
    "def training_method(model, criterion, optimizer, scheduler, num_epochs):\n",
    "    import time\n",
    "    import matplotlib.pyplot as plt\n",
    "    \n",
    "    train_losses = []  # List to store training losses\n",
    "    val_losses = []  # List to store validation losses\n",
    "    \n",
    "    for epoch in range(num_epochs):\n",
    "        start = time.time()\n",
    "\n",
    "        ### TRAINING\n",
    "        model.train()\n",
    "        training_loss = 0.0\n",
    "        for idx, (inputs, labels) in enumerate(train_loader):\n",
    "            inputs, labels = inputs.to(device), labels.to(device)\n",
    "            optimizer.zero_grad()\n",
    "            output = model(inputs)\n",
    "            loss = criterion(output, labels)\n",
    "            loss.backward()\n",
    "            optimizer.step()\n",
    "            training_loss += loss.item()\n",
    "            \n",
    "        train_loss = training_loss / len(train_loader)\n",
    "        train_losses.append(train_loss)\n",
    "        \n",
    "        ### VALIDATING\n",
    "        model.eval()\n",
    "        validation_loss = 0.0\n",
    "        with torch.no_grad():\n",
    "            for inputs, labels in validation_loader:\n",
    "                inputs, labels = inputs.to(device), labels.to(device)\n",
    "                output = model(inputs)\n",
    "                loss = criterion(output, labels)\n",
    "                validation_loss += loss.item()\n",
    "                \n",
    "        val_loss = validation_loss / len(validation_loader)\n",
    "        val_losses.append(val_loss)\n",
    "        \n",
    "        scheduler.step()\n",
    "        \n",
    "        end = time.time()\n",
    "\n",
    "        print(f\"Epoch {epoch + 1}/{num_epochs} - Loss: {train_loss:.4f} - \"\n",
    "              f\"Val Loss: {val_loss:.4f} - \"\n",
    "              f\"Time = {end - start:.1f}s\\n\")\n",
    "\n",
    "    print('Training finished!')\n",
    "\n",
    "    # Plotting the losses over epochs\n",
    "    plt.figure(figsize=(10, 6))\n",
    "    plt.plot(train_losses, label='Training Loss')\n",
    "    plt.plot(val_losses, label='Validation Loss')\n",
    "    plt.xlabel('Epochs')\n",
    "    plt.ylabel('Loss')\n",
    "    plt.title('Training and Validation Loss')\n",
    "    plt.legend()\n",
    "    plt.show()"
   ],
   "metadata": {
    "collapsed": false,
    "ExecuteTime": {
     "end_time": "2023-11-24T11:06:42.659385700Z",
     "start_time": "2023-11-24T11:06:42.633353500Z"
    }
   },
   "id": "80b0afa6cd0e08e8"
  },
  {
   "cell_type": "markdown",
   "source": [
    "# Testing"
   ],
   "metadata": {
    "collapsed": false
   },
   "id": "b8e615d98a98797f"
  },
  {
   "cell_type": "markdown",
   "source": [
    "#### compute predicted_labels"
   ],
   "metadata": {
    "collapsed": false
   },
   "id": "abf1a38ba4e9b6c4"
  },
  {
   "cell_type": "code",
   "execution_count": null,
   "outputs": [],
   "source": [
    "from sklearn.metrics import f1_score\n",
    "\n",
    "with torch.no_grad():\n",
    "    total = 0\n",
    "    correct = 0\n",
    "    true_labels = []\n",
    "    predicted_labels = []\n",
    "\n",
    "    for inputs, labels in validation_loader:\n",
    "        inputs, labels = inputs.to(device), labels.to(device)\n",
    "        output = model(inputs)\n",
    "\n",
    "        _, predicted = torch.max(output, 1)\n",
    "        predicted_labels.extend(predicted.cpu().tolist())\n",
    "        true_labels.extend(labels.cpu().tolist())\n",
    "        correct += (predicted == labels).sum().item()\n",
    "        total += labels.size(0)\n",
    "\n",
    "    accuracy = correct / total\n",
    "    print(f\"Validation Accuracy: {accuracy:.4f}\")\n",
    "\n",
    "    f1_macro = f1_score(true_labels, predicted_labels, average='macro')\n",
    "    print(f\"Macro-average F1 score: {f1_macro:.4f}\")"
   ],
   "metadata": {
    "collapsed": false,
    "is_executing": true,
    "ExecuteTime": {
     "start_time": "2023-11-24T11:16:56.411624700Z"
    }
   },
   "id": "e0a0aa2552258027"
  },
  {
   "cell_type": "markdown",
   "source": [
    "#### classification report"
   ],
   "metadata": {
    "collapsed": false
   },
   "id": "d9a397b5b50c903d"
  },
  {
   "cell_type": "code",
   "execution_count": null,
   "outputs": [],
   "source": [
    "from sklearn.metrics import classification_report\n",
    "\n",
    "report = classification_report(true_labels, predicted_labels, zero_division=0)\n",
    "print(report)"
   ],
   "metadata": {
    "collapsed": false,
    "is_executing": true
   },
   "id": "d41afd9a380ac454"
  },
  {
   "cell_type": "markdown",
   "source": [
    "#### heatmap"
   ],
   "metadata": {
    "collapsed": false
   },
   "id": "e168e697a73351c4"
  },
  {
   "cell_type": "code",
   "execution_count": null,
   "outputs": [],
   "source": [
    "import matplotlib.pyplot as plt\n",
    "import seaborn as sns\n",
    "from sklearn.metrics import confusion_matrix\n",
    "\n",
    "cm = confusion_matrix(true_labels, predicted_labels)\n",
    "\n",
    "class_labels = ['Class 0', 'Class 1', 'Class 2', 'Class 3']\n",
    "\n",
    "# Create a heatmap for the confusion matrix\n",
    "plt.figure(figsize=(8, 6))\n",
    "sns.heatmap(cm, annot=True, fmt='d', cmap='Blues', xticklabels=class_labels, yticklabels=class_labels)\n",
    "plt.xlabel('Predicted labels')\n",
    "plt.ylabel('True labels')\n",
    "plt.title('Confusion Matrix')\n",
    "plt.show()\n"
   ],
   "metadata": {
    "collapsed": false,
    "is_executing": true
   },
   "id": "e28cc822bf68bd52"
  },
  {
   "cell_type": "markdown",
   "source": [
    "# Generate submission"
   ],
   "metadata": {
    "collapsed": false
   },
   "id": "4fe328715fcca853"
  },
  {
   "cell_type": "code",
   "execution_count": 20,
   "outputs": [],
   "source": [
    "with torch.no_grad():\n",
    "    all_outputs = []\n",
    "    all_guids = []\n",
    "    for inputs, batch_guids in test_loader:\n",
    "        inputs = inputs.to(device)\n",
    "        output = model(inputs)\n",
    "        _, output = torch.max(output, 1)\n",
    "        all_outputs.extend(output)\n",
    "        all_guids.extend(batch_guids)\n"
   ],
   "metadata": {
    "collapsed": false,
    "ExecuteTime": {
     "end_time": "2023-11-23T17:14:33.839165400Z",
     "start_time": "2023-11-23T17:14:32.906333700Z"
    }
   },
   "id": "66497d02e11a184e"
  },
  {
   "cell_type": "code",
   "execution_count": 21,
   "outputs": [
    {
     "name": "stdout",
     "output_type": "stream",
     "text": [
      "CSV file saved successfully.\n"
     ]
    }
   ],
   "source": [
    "# Convert lists to DataFrame\n",
    "all_outputs_cpu = [output.cpu().detach().numpy() for output in all_outputs]\n",
    "\n",
    "# Convert lists to DataFrame\n",
    "data = {'guid': all_guids, 'label': all_outputs_cpu}\n",
    "df = pd.DataFrame(data)\n",
    "\n",
    "# Save DataFrame to CSV\n",
    "df.to_csv('./data/submissions/output.csv', index=False)\n",
    "\n",
    "print(\"CSV file saved successfully.\")"
   ],
   "metadata": {
    "collapsed": false,
    "ExecuteTime": {
     "end_time": "2023-11-23T17:14:33.908570400Z",
     "start_time": "2023-11-23T17:14:33.840166500Z"
    }
   },
   "id": "52d42d118b277ddf"
  }
 ],
 "metadata": {
  "kernelspec": {
   "display_name": "Python 3",
   "language": "python",
   "name": "python3"
  },
  "language_info": {
   "codemirror_mode": {
    "name": "ipython",
    "version": 2
   },
   "file_extension": ".py",
   "mimetype": "text/x-python",
   "name": "python",
   "nbconvert_exporter": "python",
   "pygments_lexer": "ipython2",
   "version": "2.7.6"
  }
 },
 "nbformat": 4,
 "nbformat_minor": 5
}
