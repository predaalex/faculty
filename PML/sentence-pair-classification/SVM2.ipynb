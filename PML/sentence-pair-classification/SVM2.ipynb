{
 "cells": [
  {
   "cell_type": "code",
   "execution_count": 1,
   "id": "initial_id",
   "metadata": {
    "collapsed": true,
    "ExecuteTime": {
     "end_time": "2023-11-24T10:29:21.011591200Z",
     "start_time": "2023-11-24T10:29:20.725945300Z"
    }
   },
   "outputs": [],
   "source": [
    "import pandas as pd\n",
    "import json\n",
    "from sklearn.model_selection import train_test_split\n",
    "from sklearn.feature_extraction.text import TfidfVectorizer\n",
    "from sklearn.svm import SVC\n",
    "from sklearn.metrics import accuracy_score"
   ]
  },
  {
   "cell_type": "code",
   "execution_count": 2,
   "outputs": [],
   "source": [
    "train_df = pd.read_json(\"./data/train.json\")\n",
    "validation_df = pd.read_json(\"./data/validation.json\")\n",
    "test_df = pd.read_json(\"./data/test.json\")"
   ],
   "metadata": {
    "collapsed": false,
    "ExecuteTime": {
     "end_time": "2023-11-24T10:29:21.260796600Z",
     "start_time": "2023-11-24T10:29:21.013591200Z"
    }
   },
   "id": "5187301e39b136c0"
  },
  {
   "cell_type": "code",
   "execution_count": 3,
   "outputs": [],
   "source": [
    "# Combine the DataFrames\n",
    "combined_data = pd.concat([train_df, validation_df], ignore_index=True)\n",
    "\n",
    "# Determine the size for train and validation sets after combining\n",
    "train_size = int(0.8 * len(combined_data))  # Assuming 80% for training and 20% for validation\n",
    "\n",
    "# Split the combined data back into train and validation DataFrames\n",
    "train_data = combined_data[:train_size]\n",
    "validation_data = combined_data[train_size:]\n",
    "\n",
    "# Resetting index for both DataFrames\n",
    "train_data.reset_index(drop=True, inplace=True)\n",
    "validation_data.reset_index(drop=True, inplace=True)"
   ],
   "metadata": {
    "collapsed": false,
    "ExecuteTime": {
     "end_time": "2023-11-24T10:29:21.278811800Z",
     "start_time": "2023-11-24T10:29:21.262795900Z"
    }
   },
   "id": "c3f9e3a4c14727c"
  },
  {
   "cell_type": "code",
   "execution_count": 4,
   "outputs": [
    {
     "name": "stdout",
     "output_type": "stream",
     "text": [
      "Train data: label\n",
      "3    24030\n",
      "2    21658\n",
      "0     2162\n",
      "1     1088\n",
      "Name: count, dtype: int64\n",
      "Validation data: label\n",
      "3    6248\n",
      "2    5199\n",
      "0     504\n",
      "1     284\n",
      "Name: count, dtype: int64\n"
     ]
    }
   ],
   "source": [
    "# Verify the shapes of train and validation data\n",
    "print(\"Train data:\", train_data['label'].value_counts())\n",
    "print(\"Validation data:\", validation_data['label'].value_counts())"
   ],
   "metadata": {
    "collapsed": false,
    "ExecuteTime": {
     "end_time": "2023-11-24T10:29:21.322593700Z",
     "start_time": "2023-11-24T10:29:21.276303700Z"
    }
   },
   "id": "c6999072390a38ec"
  },
  {
   "cell_type": "code",
   "execution_count": 5,
   "outputs": [],
   "source": [
    "train_df['combined_sentences'] = train_df['sentence1'] + ' ' + train_df['sentence2']\n",
    "test_df['combined_sentences'] = test_df['sentence1'] + ' ' + test_df['sentence2']\n",
    "validation_df['combined_sentences'] = validation_df['sentence1'] + ' ' + validation_df['sentence2']"
   ],
   "metadata": {
    "collapsed": false,
    "ExecuteTime": {
     "end_time": "2023-11-24T10:29:21.350668800Z",
     "start_time": "2023-11-24T10:29:21.294321100Z"
    }
   },
   "id": "6cdbd788c16f6a31"
  },
  {
   "cell_type": "code",
   "execution_count": 6,
   "outputs": [],
   "source": [
    "import re\n",
    "import spacy.lang.ro.stop_words as stop_words\n",
    "import spacy\n",
    "\n",
    "nlp = spacy.load(\"ro_core_news_sm\")\n",
    "pattern = re.compile(r\"[^a-zăâîșț@# ]\")\n",
    "\n",
    "# Convert stop words list to a set for faster lookup\n",
    "sw_set = set(stop_words.STOP_WORDS)\n",
    "sw_lower = set(word.lower() for word in stop_words.STOP_WORDS)\n",
    "\n",
    "def text_preparetion(sentence):\n",
    "    # 1. Lowercase everything\n",
    "    sentence = sentence.lower()\n",
    "\n",
    "    # 2. Remove all symbols other than a-z@#.\n",
    "    sentence = re.sub(pattern, \"\", sentence)\n",
    "\n",
    "    # Tokenize the preprocessed sentence\n",
    "    tokenization = nlp(sentence)\n",
    "\n",
    "    # 4. Remove stopwords and empty tokens, and perform stemming\n",
    "    list_text_preprocessed = [\n",
    "        token.lemma_ for token in tokenization if \n",
    "        # not token.is_stop and \n",
    "        token.pos_ != \"SPACE\"\n",
    "    ]\n",
    "    # for token in tokenization:\n",
    "    #     print(\n",
    "    #         f\"Text: {token.text}, Lemma: {token.lemma_}, POS Tag: {token.pos_}, Dependency: {token.dep_}, \"\n",
    "    #         f\"Stop Word?: {token.is_stop}, Entity Type: {token.ent_type_}\"\n",
    "    #     )\n",
    "    # Join the stemmed tokens back into a sentence\n",
    "    processed_text = ' '.join(list_text_preprocessed)\n",
    "\n",
    "    return processed_text\n",
    "\n",
    "\n",
    "train_df['all_tokens'] = train_df['combined_sentences'].apply(text_preparetion)\n",
    "test_df['all_tokens'] = test_df['combined_sentences'].apply(text_preparetion)\n",
    "validation_df['all_tokens'] = validation_df['combined_sentences'].apply(text_preparetion)"
   ],
   "metadata": {
    "collapsed": false,
    "ExecuteTime": {
     "end_time": "2023-11-24T10:34:58.945821700Z",
     "start_time": "2023-11-24T10:29:21.342611300Z"
    }
   },
   "id": "4f91e10cf0480c16"
  },
  {
   "cell_type": "code",
   "execution_count": 7,
   "outputs": [
    {
     "data": {
      "text/plain": "                                           sentence1  \\\n0  Primul taragotist român a fost Nicolae Luță Io...   \n1  Lupta revoluționarilor este condusă de Avram I...   \n2  Locuitorii liberi au devenit „''iobagiones cas...   \n3  În anul 2002 are loc lansarea în domeniul turi...   \n4  Zillich a mijlocit, prin revista ''Klingsor'',...   \n\n                                           sentence2  label  \\\n0  Colegiul de arhitectură, artă și planificare (...      3   \n1  Schiul nordic face parte din programul olimpic...      3   \n2  În anii 1960, ea a apărut în drame realizate l...      3   \n3  Se lansează primul hotel al grupului în otopen...      2   \n4  Au apărut lucrări ale lui ion luca caragiale, ...      2   \n\n                                   guid  \\\n0  7cec5ac4-c115-4976-8d2a-9badfe9b63b9   \n1  bc2fa29f-cf22-4a7c-8b55-9b1ed019f6ac   \n2  8547b1ef-7bfe-43a9-aedf-bad0c0fbc049   \n3  0ad1ce19-7aa9-4ddd-b8d6-822072a723b0   \n4  50c44ffa-b0c1-4d98-bc6c-3bbf95f50896   \n\n                                  combined_sentences  \\\n0  Primul taragotist român a fost Nicolae Luță Io...   \n1  Lupta revoluționarilor este condusă de Avram I...   \n2  Locuitorii liberi au devenit „''iobagiones cas...   \n3  În anul 2002 are loc lansarea în domeniul turi...   \n4  Zillich a mijlocit, prin revista ''Klingsor'',...   \n\n                                          all_tokens  \n0  prim taragotist român avea fi nicolae luț iovi...  \n1  luptă revoluționar fi conduce de avram iancu i...  \n2  locuitor liber avea deveni iobagiones castru i...  \n3  în an avea loc lansare în domeniu turistichote...  \n4  zillich avea mijloci prin revistă klingsor deb...  ",
      "text/html": "<div>\n<style scoped>\n    .dataframe tbody tr th:only-of-type {\n        vertical-align: middle;\n    }\n\n    .dataframe tbody tr th {\n        vertical-align: top;\n    }\n\n    .dataframe thead th {\n        text-align: right;\n    }\n</style>\n<table border=\"1\" class=\"dataframe\">\n  <thead>\n    <tr style=\"text-align: right;\">\n      <th></th>\n      <th>sentence1</th>\n      <th>sentence2</th>\n      <th>label</th>\n      <th>guid</th>\n      <th>combined_sentences</th>\n      <th>all_tokens</th>\n    </tr>\n  </thead>\n  <tbody>\n    <tr>\n      <th>0</th>\n      <td>Primul taragotist român a fost Nicolae Luță Io...</td>\n      <td>Colegiul de arhitectură, artă și planificare (...</td>\n      <td>3</td>\n      <td>7cec5ac4-c115-4976-8d2a-9badfe9b63b9</td>\n      <td>Primul taragotist român a fost Nicolae Luță Io...</td>\n      <td>prim taragotist român avea fi nicolae luț iovi...</td>\n    </tr>\n    <tr>\n      <th>1</th>\n      <td>Lupta revoluționarilor este condusă de Avram I...</td>\n      <td>Schiul nordic face parte din programul olimpic...</td>\n      <td>3</td>\n      <td>bc2fa29f-cf22-4a7c-8b55-9b1ed019f6ac</td>\n      <td>Lupta revoluționarilor este condusă de Avram I...</td>\n      <td>luptă revoluționar fi conduce de avram iancu i...</td>\n    </tr>\n    <tr>\n      <th>2</th>\n      <td>Locuitorii liberi au devenit „''iobagiones cas...</td>\n      <td>În anii 1960, ea a apărut în drame realizate l...</td>\n      <td>3</td>\n      <td>8547b1ef-7bfe-43a9-aedf-bad0c0fbc049</td>\n      <td>Locuitorii liberi au devenit „''iobagiones cas...</td>\n      <td>locuitor liber avea deveni iobagiones castru i...</td>\n    </tr>\n    <tr>\n      <th>3</th>\n      <td>În anul 2002 are loc lansarea în domeniul turi...</td>\n      <td>Se lansează primul hotel al grupului în otopen...</td>\n      <td>2</td>\n      <td>0ad1ce19-7aa9-4ddd-b8d6-822072a723b0</td>\n      <td>În anul 2002 are loc lansarea în domeniul turi...</td>\n      <td>în an avea loc lansare în domeniu turistichote...</td>\n    </tr>\n    <tr>\n      <th>4</th>\n      <td>Zillich a mijlocit, prin revista ''Klingsor'',...</td>\n      <td>Au apărut lucrări ale lui ion luca caragiale, ...</td>\n      <td>2</td>\n      <td>50c44ffa-b0c1-4d98-bc6c-3bbf95f50896</td>\n      <td>Zillich a mijlocit, prin revista ''Klingsor'',...</td>\n      <td>zillich avea mijloci prin revistă klingsor deb...</td>\n    </tr>\n  </tbody>\n</table>\n</div>"
     },
     "execution_count": 7,
     "metadata": {},
     "output_type": "execute_result"
    }
   ],
   "source": [
    "train_df.head()"
   ],
   "metadata": {
    "collapsed": false,
    "ExecuteTime": {
     "end_time": "2023-11-24T10:34:58.967867400Z",
     "start_time": "2023-11-24T10:34:58.951334600Z"
    }
   },
   "id": "62c4201222d78f86"
  },
  {
   "cell_type": "code",
   "execution_count": 8,
   "outputs": [],
   "source": [
    "X_train = train_df['all_tokens']\n",
    "y_train = train_df['label']"
   ],
   "metadata": {
    "collapsed": false,
    "ExecuteTime": {
     "end_time": "2023-11-24T10:34:58.994895600Z",
     "start_time": "2023-11-24T10:34:58.961361500Z"
    }
   },
   "id": "3d2db1694913a4b4"
  },
  {
   "cell_type": "code",
   "execution_count": 9,
   "outputs": [],
   "source": [
    "X_val = validation_df['all_tokens']\n",
    "y_val = validation_df['label']"
   ],
   "metadata": {
    "collapsed": false,
    "ExecuteTime": {
     "end_time": "2023-11-24T10:34:58.995893900Z",
     "start_time": "2023-11-24T10:34:58.977380500Z"
    }
   },
   "id": "cc96f50e1e94a857"
  },
  {
   "cell_type": "code",
   "execution_count": 10,
   "outputs": [],
   "source": [
    "X_test = test_df['all_tokens']"
   ],
   "metadata": {
    "collapsed": false,
    "ExecuteTime": {
     "end_time": "2023-11-24T10:34:59.083985200Z",
     "start_time": "2023-11-24T10:34:58.991894700Z"
    }
   },
   "id": "e268babdd7f6162a"
  },
  {
   "cell_type": "code",
   "execution_count": 11,
   "outputs": [],
   "source": [
    "from sklearn.feature_extraction.text import CountVectorizer\n",
    "\n",
    "vectorizer = CountVectorizer()\n",
    "X_train_bagofwords = vectorizer.fit_transform(X_train)\n",
    "X_val_bagofwords = vectorizer.transform(X_val)\n",
    "X_test_bagofwords = vectorizer.transform(X_test)"
   ],
   "metadata": {
    "collapsed": false,
    "ExecuteTime": {
     "end_time": "2023-11-24T10:35:00.565799100Z",
     "start_time": "2023-11-24T10:34:59.007912300Z"
    }
   },
   "id": "b4386e1884885fac"
  },
  {
   "cell_type": "code",
   "execution_count": null,
   "outputs": [],
   "source": [
    "svm = SVC(kernel='linear')\n",
    "svm.fit(X_train_bagofwords, y_train)"
   ],
   "metadata": {
    "collapsed": false,
    "is_executing": true,
    "ExecuteTime": {
     "start_time": "2023-11-24T10:35:00.567799500Z"
    }
   },
   "id": "4ec28ef63e53eca9"
  },
  {
   "cell_type": "code",
   "execution_count": null,
   "outputs": [],
   "source": [
    "import joblib\n",
    "\n",
    "joblib.dump(svm, './models/svm_cu_tokenizare_bagofwords.pkl')"
   ],
   "metadata": {
    "collapsed": false,
    "is_executing": true
   },
   "id": "af5dae3593be8e3f"
  },
  {
   "cell_type": "code",
   "execution_count": null,
   "outputs": [],
   "source": [
    "import joblib\n",
    "svm = joblib.load(\"./models/svm_cu_tekenizare.pkl\")"
   ],
   "metadata": {
    "collapsed": false,
    "is_executing": true
   },
   "id": "24ac78c85a1f70b3"
  },
  {
   "cell_type": "code",
   "execution_count": null,
   "outputs": [],
   "source": [
    "val_predictions = svm.predict(X_val_bagofwords)"
   ],
   "metadata": {
    "collapsed": false,
    "is_executing": true
   },
   "id": "369379ed32ce8e9a"
  },
  {
   "cell_type": "code",
   "execution_count": null,
   "outputs": [],
   "source": [
    "from sklearn.metrics import classification_report\n",
    "\n",
    "report = classification_report(y_val, val_predictions)\n",
    "print(report)"
   ],
   "metadata": {
    "collapsed": false,
    "is_executing": true
   },
   "id": "aea1e0af91aebeae"
  },
  {
   "cell_type": "code",
   "execution_count": null,
   "outputs": [],
   "source": [
    "y_test = svm.predict(X_test_bagofwords)"
   ],
   "metadata": {
    "collapsed": false,
    "is_executing": true
   },
   "id": "d2c05569756b73ca"
  },
  {
   "cell_type": "code",
   "execution_count": null,
   "outputs": [],
   "source": [
    "result_df = pd.DataFrame({\n",
    "    'guid': test_df['guid'],\n",
    "    'label': y_test\n",
    "})"
   ],
   "metadata": {
    "collapsed": false,
    "is_executing": true
   },
   "id": "4d1aaf1b838093ed"
  },
  {
   "cell_type": "code",
   "execution_count": null,
   "outputs": [],
   "source": [
    "result_df.head()"
   ],
   "metadata": {
    "collapsed": false,
    "is_executing": true
   },
   "id": "40b83db57dbdbe58"
  },
  {
   "cell_type": "code",
   "execution_count": null,
   "outputs": [],
   "source": [
    "result_df.to_csv(\"./data/submission3.csv\", index=False)"
   ],
   "metadata": {
    "collapsed": false,
    "is_executing": true
   },
   "id": "52f5d3515bfb68cd"
  },
  {
   "cell_type": "code",
   "execution_count": null,
   "outputs": [],
   "source": [
    "test_df.size"
   ],
   "metadata": {
    "collapsed": false,
    "is_executing": true
   },
   "id": "21cc9937bfc7c2dd"
  }
 ],
 "metadata": {
  "kernelspec": {
   "display_name": "Python 3",
   "language": "python",
   "name": "python3"
  },
  "language_info": {
   "codemirror_mode": {
    "name": "ipython",
    "version": 2
   },
   "file_extension": ".py",
   "mimetype": "text/x-python",
   "name": "python",
   "nbconvert_exporter": "python",
   "pygments_lexer": "ipython2",
   "version": "2.7.6"
  }
 },
 "nbformat": 4,
 "nbformat_minor": 5
}
