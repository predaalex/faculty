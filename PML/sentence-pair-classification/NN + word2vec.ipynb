{
 "cells": [
  {
   "cell_type": "code",
   "execution_count": 10,
   "id": "initial_id",
   "metadata": {
    "collapsed": true,
    "ExecuteTime": {
     "end_time": "2023-11-20T11:13:33.486642600Z",
     "start_time": "2023-11-20T11:13:33.459604600Z"
    }
   },
   "outputs": [],
   "source": [
    "import torch\n",
    "import torch.nn as nn\n",
    "import torch.optim as optim\n",
    "from torch.utils.data import Dataset, DataLoader\n",
    "from sklearn.feature_extraction.text import TfidfVectorizer\n",
    "import pandas as pd"
   ]
  },
  {
   "cell_type": "code",
   "execution_count": 11,
   "outputs": [],
   "source": [
    "class SentencePairDataset(Dataset):\n",
    "    def __init__(self, data, vectorizer, train=True):\n",
    "        super().__init__()\n",
    "        self.train = train\n",
    "        self.data = data\n",
    "        self.vectorizer = vectorizer\n",
    "    \n",
    "    def __len__(self):\n",
    "        return len(self.data)\n",
    "    \n",
    "    def __getitem__(self, idx):\n",
    "        sentence_pair = self.data.iloc[idx]\n",
    "        sentences = sentence_pair['combined_sentences']\n",
    "        sentences = self.vectorizer.transform([sentences]).toarray().flatten()\n",
    "        if self.train:\n",
    "            label = sentence_pair['label']\n",
    "            return sentences, label\n",
    "        else:\n",
    "            return sentences, self.data.iloc[idx]['guid']"
   ],
   "metadata": {
    "collapsed": false,
    "ExecuteTime": {
     "end_time": "2023-11-20T11:13:33.515180800Z",
     "start_time": "2023-11-20T11:13:33.477137700Z"
    }
   },
   "id": "a21ce2526c4ffffe"
  },
  {
   "cell_type": "code",
   "execution_count": 12,
   "outputs": [],
   "source": [
    "train_data = pd.read_json(\"./data/train.json\")\n",
    "test_data = pd.read_json(\"./data/test.json\")\n",
    "validation_data = pd.read_json(\"./data/validation.json\")"
   ],
   "metadata": {
    "collapsed": false,
    "ExecuteTime": {
     "end_time": "2023-11-20T11:13:33.738505300Z",
     "start_time": "2023-11-20T11:13:33.491649700Z"
    }
   },
   "id": "c8c94a719b721fc9"
  },
  {
   "cell_type": "code",
   "execution_count": 13,
   "outputs": [],
   "source": [
    "# train_data = train_data.iloc[:len(train_data) // 20]\n",
    "# len(train_data)"
   ],
   "metadata": {
    "collapsed": false,
    "ExecuteTime": {
     "end_time": "2023-11-20T11:13:33.754155200Z",
     "start_time": "2023-11-20T11:13:33.740505900Z"
    }
   },
   "id": "cd3b41aba73d8c55"
  },
  {
   "cell_type": "code",
   "execution_count": 14,
   "outputs": [],
   "source": [
    "train_data['combined_sentences'] = train_data['sentence1'] + \" \" + train_data['sentence2']\n",
    "test_data['combined_sentences'] = test_data['sentence1'] + \" \" + test_data['sentence2']\n",
    "validation_data['combined_sentences'] = validation_data['sentence1'] + \" \" + validation_data['sentence2']"
   ],
   "metadata": {
    "collapsed": false,
    "ExecuteTime": {
     "end_time": "2023-11-20T11:13:33.801274500Z",
     "start_time": "2023-11-20T11:13:33.756155600Z"
    }
   },
   "id": "49450a5d50349da6"
  },
  {
   "cell_type": "code",
   "execution_count": 15,
   "outputs": [
    {
     "data": {
      "text/plain": "0    Primul taragotist român a fost Nicolae Luță Io...\n1    Lupta revoluționarilor este condusă de Avram I...\n2    Locuitorii liberi au devenit „''iobagiones cas...\n3    În anul 2002 are loc lansarea în domeniul turi...\n4    Zillich a mijlocit, prin revista ''Klingsor'',...\nName: combined_sentences, dtype: object"
     },
     "execution_count": 15,
     "metadata": {},
     "output_type": "execute_result"
    }
   ],
   "source": [
    "vectorizer_input = train_data['combined_sentences']\n",
    "vectorizer_input.head()"
   ],
   "metadata": {
    "collapsed": false,
    "ExecuteTime": {
     "end_time": "2023-11-20T11:13:33.818292600Z",
     "start_time": "2023-11-20T11:13:33.802274400Z"
    }
   },
   "id": "11a650b5ec4ebb7e"
  },
  {
   "cell_type": "code",
   "execution_count": 16,
   "outputs": [
    {
     "data": {
      "text/plain": "TfidfVectorizer()",
      "text/html": "<style>#sk-container-id-2 {color: black;}#sk-container-id-2 pre{padding: 0;}#sk-container-id-2 div.sk-toggleable {background-color: white;}#sk-container-id-2 label.sk-toggleable__label {cursor: pointer;display: block;width: 100%;margin-bottom: 0;padding: 0.3em;box-sizing: border-box;text-align: center;}#sk-container-id-2 label.sk-toggleable__label-arrow:before {content: \"▸\";float: left;margin-right: 0.25em;color: #696969;}#sk-container-id-2 label.sk-toggleable__label-arrow:hover:before {color: black;}#sk-container-id-2 div.sk-estimator:hover label.sk-toggleable__label-arrow:before {color: black;}#sk-container-id-2 div.sk-toggleable__content {max-height: 0;max-width: 0;overflow: hidden;text-align: left;background-color: #f0f8ff;}#sk-container-id-2 div.sk-toggleable__content pre {margin: 0.2em;color: black;border-radius: 0.25em;background-color: #f0f8ff;}#sk-container-id-2 input.sk-toggleable__control:checked~div.sk-toggleable__content {max-height: 200px;max-width: 100%;overflow: auto;}#sk-container-id-2 input.sk-toggleable__control:checked~label.sk-toggleable__label-arrow:before {content: \"▾\";}#sk-container-id-2 div.sk-estimator input.sk-toggleable__control:checked~label.sk-toggleable__label {background-color: #d4ebff;}#sk-container-id-2 div.sk-label input.sk-toggleable__control:checked~label.sk-toggleable__label {background-color: #d4ebff;}#sk-container-id-2 input.sk-hidden--visually {border: 0;clip: rect(1px 1px 1px 1px);clip: rect(1px, 1px, 1px, 1px);height: 1px;margin: -1px;overflow: hidden;padding: 0;position: absolute;width: 1px;}#sk-container-id-2 div.sk-estimator {font-family: monospace;background-color: #f0f8ff;border: 1px dotted black;border-radius: 0.25em;box-sizing: border-box;margin-bottom: 0.5em;}#sk-container-id-2 div.sk-estimator:hover {background-color: #d4ebff;}#sk-container-id-2 div.sk-parallel-item::after {content: \"\";width: 100%;border-bottom: 1px solid gray;flex-grow: 1;}#sk-container-id-2 div.sk-label:hover label.sk-toggleable__label {background-color: #d4ebff;}#sk-container-id-2 div.sk-serial::before {content: \"\";position: absolute;border-left: 1px solid gray;box-sizing: border-box;top: 0;bottom: 0;left: 50%;z-index: 0;}#sk-container-id-2 div.sk-serial {display: flex;flex-direction: column;align-items: center;background-color: white;padding-right: 0.2em;padding-left: 0.2em;position: relative;}#sk-container-id-2 div.sk-item {position: relative;z-index: 1;}#sk-container-id-2 div.sk-parallel {display: flex;align-items: stretch;justify-content: center;background-color: white;position: relative;}#sk-container-id-2 div.sk-item::before, #sk-container-id-2 div.sk-parallel-item::before {content: \"\";position: absolute;border-left: 1px solid gray;box-sizing: border-box;top: 0;bottom: 0;left: 50%;z-index: -1;}#sk-container-id-2 div.sk-parallel-item {display: flex;flex-direction: column;z-index: 1;position: relative;background-color: white;}#sk-container-id-2 div.sk-parallel-item:first-child::after {align-self: flex-end;width: 50%;}#sk-container-id-2 div.sk-parallel-item:last-child::after {align-self: flex-start;width: 50%;}#sk-container-id-2 div.sk-parallel-item:only-child::after {width: 0;}#sk-container-id-2 div.sk-dashed-wrapped {border: 1px dashed gray;margin: 0 0.4em 0.5em 0.4em;box-sizing: border-box;padding-bottom: 0.4em;background-color: white;}#sk-container-id-2 div.sk-label label {font-family: monospace;font-weight: bold;display: inline-block;line-height: 1.2em;}#sk-container-id-2 div.sk-label-container {text-align: center;}#sk-container-id-2 div.sk-container {/* jupyter's `normalize.less` sets `[hidden] { display: none; }` but bootstrap.min.css set `[hidden] { display: none !important; }` so we also need the `!important` here to be able to override the default hidden behavior on the sphinx rendered scikit-learn.org. See: https://github.com/scikit-learn/scikit-learn/issues/21755 */display: inline-block !important;position: relative;}#sk-container-id-2 div.sk-text-repr-fallback {display: none;}</style><div id=\"sk-container-id-2\" class=\"sk-top-container\"><div class=\"sk-text-repr-fallback\"><pre>TfidfVectorizer()</pre><b>In a Jupyter environment, please rerun this cell to show the HTML representation or trust the notebook. <br />On GitHub, the HTML representation is unable to render, please try loading this page with nbviewer.org.</b></div><div class=\"sk-container\" hidden><div class=\"sk-item\"><div class=\"sk-estimator sk-toggleable\"><input class=\"sk-toggleable__control sk-hidden--visually\" id=\"sk-estimator-id-2\" type=\"checkbox\" checked><label for=\"sk-estimator-id-2\" class=\"sk-toggleable__label sk-toggleable__label-arrow\">TfidfVectorizer</label><div class=\"sk-toggleable__content\"><pre>TfidfVectorizer()</pre></div></div></div></div></div>"
     },
     "execution_count": 16,
     "metadata": {},
     "output_type": "execute_result"
    }
   ],
   "source": [
    "\n",
    "vectorizer = TfidfVectorizer()\n",
    "vectorizer.fit(vectorizer_input)"
   ],
   "metadata": {
    "collapsed": false,
    "ExecuteTime": {
     "end_time": "2023-11-20T11:13:35.443754300Z",
     "start_time": "2023-11-20T11:13:33.907705900Z"
    }
   },
   "id": "e12512891aaf75ce"
  },
  {
   "cell_type": "code",
   "execution_count": 17,
   "outputs": [
    {
     "data": {
      "text/plain": "'Primul taragotist român a fost Nicolae Luță Ioviță, originar din Banat. Colegiul de arhitectură, artă și planificare (College of Architecture, Art and Planning) are asigurate studiouri și spații pentru seminare pentru studenți și cadre didactice  pe strada West 17th, lângă Union Square.'"
     },
     "execution_count": 17,
     "metadata": {},
     "output_type": "execute_result"
    }
   ],
   "source": [
    "train_data['combined_sentences'][0]"
   ],
   "metadata": {
    "collapsed": false,
    "ExecuteTime": {
     "end_time": "2023-11-20T11:13:35.475323900Z",
     "start_time": "2023-11-20T11:13:35.444754100Z"
    }
   },
   "id": "bb539b3f1ad4286"
  },
  {
   "cell_type": "code",
   "execution_count": 18,
   "outputs": [
    {
     "data": {
      "text/plain": "183708"
     },
     "execution_count": 18,
     "metadata": {},
     "output_type": "execute_result"
    }
   ],
   "source": [
    "test = vectorizer.transform(train_data['combined_sentences'])\n",
    "vectorizer_size = test.shape[1]\n",
    "vectorizer_size"
   ],
   "metadata": {
    "collapsed": false,
    "ExecuteTime": {
     "end_time": "2023-11-20T11:13:36.860513900Z",
     "start_time": "2023-11-20T11:13:35.458817400Z"
    }
   },
   "id": "9e21684405be0f58"
  },
  {
   "cell_type": "code",
   "execution_count": 19,
   "outputs": [],
   "source": [
    "train_dataset = SentencePairDataset(train_data, vectorizer)\n",
    "test_dataset = SentencePairDataset(test_data, vectorizer, train=False)\n",
    "validation_dataset = SentencePairDataset(validation_data, vectorizer)"
   ],
   "metadata": {
    "collapsed": false,
    "ExecuteTime": {
     "end_time": "2023-11-20T11:13:36.890046500Z",
     "start_time": "2023-11-20T11:13:36.860513900Z"
    }
   },
   "id": "b61e890f2a2b3a28"
  },
  {
   "cell_type": "code",
   "execution_count": 20,
   "outputs": [],
   "source": [
    "train_loader = DataLoader(train_dataset, batch_size=32, shuffle=True)\n",
    "test_loader = DataLoader(test_dataset, batch_size=32, shuffle=False)\n",
    "validation_loader = DataLoader(validation_dataset, batch_size=16, shuffle=False)"
   ],
   "metadata": {
    "collapsed": false,
    "ExecuteTime": {
     "end_time": "2023-11-20T11:13:36.900172900Z",
     "start_time": "2023-11-20T11:13:36.876527800Z"
    }
   },
   "id": "5b9a0776f9b5bfc1"
  },
  {
   "cell_type": "code",
   "execution_count": 21,
   "outputs": [],
   "source": [
    "class NN(nn.Module):\n",
    "    def __init__(self, input_dim):\n",
    "        super(NN, self).__init__()\n",
    "        # self.fc1 = nn.Linear(input_dim, 1024)\n",
    "        # self.dropout1 = nn.Dropout(0.5)\n",
    "        # self.fc2 = nn.Linear(1024, 256)\n",
    "        # self.dropout2 = nn.Dropout(0.5)\n",
    "        self.fc3 = nn.Linear(input_dim, 4)\n",
    "        self.softmax = nn.Softmax()\n",
    "        \n",
    "    def forward(self, x):\n",
    "        # x = torch.relu(self.fc1(x))\n",
    "        # x = self.dropout1(x)\n",
    "        # x = torch.relu(self.fc2(x))\n",
    "        # x = self.dropout2(x)\n",
    "        x = self.fc3(x)\n",
    "        x = self.softmax(x)\n",
    "        return x"
   ],
   "metadata": {
    "collapsed": false,
    "ExecuteTime": {
     "end_time": "2023-11-20T11:13:36.914449200Z",
     "start_time": "2023-11-20T11:13:36.893045500Z"
    }
   },
   "id": "e3d27541c042d9ee"
  },
  {
   "cell_type": "code",
   "execution_count": 22,
   "outputs": [],
   "source": [
    "device = torch.device(\"cuda\" if torch.cuda.is_available() else \"cpu\")\n",
    "# device = torch.device(\"cpu\")"
   ],
   "metadata": {
    "collapsed": false,
    "ExecuteTime": {
     "end_time": "2023-11-20T11:13:36.937327300Z",
     "start_time": "2023-11-20T11:13:36.923692400Z"
    }
   },
   "id": "888fa72cb8d28dc"
  },
  {
   "cell_type": "code",
   "execution_count": null,
   "outputs": [
    {
     "name": "stderr",
     "output_type": "stream",
     "text": [
      "C:\\Users\\allex\\miniconda3\\envs\\PyTorch\\lib\\site-packages\\torch\\nn\\modules\\module.py:1518: UserWarning: Implicit dimension choice for softmax has been deprecated. Change the call to include dim=X as an argument.\n",
      "  return self._call_impl(*args, **kwargs)\n"
     ]
    }
   ],
   "source": [
    "import time\n",
    "\n",
    "model = NN(input_dim=vectorizer_size)\n",
    "model.to(device)\n",
    "criterion = nn.CrossEntropyLoss()\n",
    "optimizer = optim.Adam(model.parameters(), lr=0.001)\n",
    "optimizer.zero_grad()\n",
    "num_epochs = 5\n",
    "for epoch in range(num_epochs):\n",
    "    start = time.time()\n",
    "    model.train()\n",
    "    running_loss = 0.0\n",
    "    for inputs, labels in train_loader:\n",
    "        inputs, labels = inputs.to(device), labels.to(device)\n",
    "        optimizer.zero_grad()\n",
    "        output = model(inputs.float())\n",
    "        loss = criterion(output, labels)\n",
    "        loss.backward()\n",
    "        optimizer.step()\n",
    "        running_loss += loss.item()\n",
    "        \n",
    "    model.eval()\n",
    "    val_losses = 0.0\n",
    "    with torch.no_grad():\n",
    "        for inputs, labels in validation_loader:\n",
    "            inputs, labels = inputs.to(device), labels.to(device)\n",
    "            output = model(inputs.float())\n",
    "            val_loss = criterion(output, labels)\n",
    "            val_losses += val_loss.item()\n",
    "    end = time.time()\n",
    "    print(f\"Epoch {epoch+1}/{num_epochs} - Loss: {running_loss/len(train_loader):.4f} - \"\n",
    "          f\"Val Loss: {val_losses/len(validation_loader):.4f} - \"\n",
    "          f\"Time = {end-start:.1f}s\")"
   ],
   "metadata": {
    "collapsed": false,
    "is_executing": true,
    "ExecuteTime": {
     "start_time": "2023-11-20T11:13:36.942326800Z"
    }
   },
   "id": "3325c633a49084b4"
  },
  {
   "cell_type": "code",
   "execution_count": null,
   "outputs": [],
   "source": [
    "model.eval()\n",
    "model.cpu()\n",
    "val_correct = 0\n",
    "total_val = 0\n",
    "with torch.no_grad():\n",
    "    for inputs, labels in validation_loader:\n",
    "        # inputs, labels = inputs.to(device), labels.to(device)\n",
    "        outputs = model(inputs.float())\n",
    "        _, predicted = torch.max(outputs, 1)\n",
    "        val_correct += (predicted == labels).sum()\n",
    "        total_val += labels.size(0)\n",
    "        \n",
    "accuracy = val_correct / total_val\n",
    "print(f\"Validation Accuracy: {accuracy}\")"
   ],
   "metadata": {
    "collapsed": false,
    "is_executing": true
   },
   "id": "83bf79d61684eb8c"
  },
  {
   "cell_type": "code",
   "execution_count": null,
   "outputs": [],
   "source": [
    "torch.save(model.state_dict(), \"./models/nn2epochs\")"
   ],
   "metadata": {
    "collapsed": false,
    "is_executing": true
   },
   "id": "bef98f5a8fbf1fa"
  },
  {
   "cell_type": "code",
   "execution_count": null,
   "outputs": [],
   "source": [
    "# Loading the saved model\n",
    "loaded_model = NN(input_dim=vectorizer_size)  # Create an instance of the model\n",
    "loaded_model.load_state_dict(torch.load('./models/nn2epochs'))  # Load the model state dictionary\n",
    "loaded_model.eval()"
   ],
   "metadata": {
    "collapsed": false,
    "is_executing": true
   },
   "id": "6eb7da8e97034207"
  },
  {
   "cell_type": "code",
   "execution_count": null,
   "outputs": [],
   "source": [
    "model.eval()\n",
    "model.cpu()\n",
    "val_correct = 0\n",
    "total_val = 0\n",
    "df = pd.DataFrame(columns=[\"guid\", \"label\"])\n",
    "\n",
    "with torch.no_grad():\n",
    "    for inputs, guids in test_loader:\n",
    "        # inputs, labels = inputs.to(device), labels.to(device)\n",
    "        outputs = model(inputs.float())\n",
    "        _, predicted = torch.max(outputs, 1)\n",
    "        df_new = pd.DataFrame({'guid': guids, 'label': predicted.numpy()})\n",
    "        df = pd.concat([df, df_new], ignore_index=True)\n"
   ],
   "metadata": {
    "collapsed": false,
    "is_executing": true
   },
   "id": "3b6f0b4282130230"
  },
  {
   "cell_type": "code",
   "execution_count": null,
   "outputs": [],
   "source": [
    "df.to_csv(\"./data/submission2.csv\", index=False)"
   ],
   "metadata": {
    "collapsed": false,
    "is_executing": true
   },
   "id": "7f2d0e49d18ab544"
  }
 ],
 "metadata": {
  "kernelspec": {
   "display_name": "Python 3",
   "language": "python",
   "name": "python3"
  },
  "language_info": {
   "codemirror_mode": {
    "name": "ipython",
    "version": 2
   },
   "file_extension": ".py",
   "mimetype": "text/x-python",
   "name": "python",
   "nbconvert_exporter": "python",
   "pygments_lexer": "ipython2",
   "version": "2.7.6"
  }
 },
 "nbformat": 4,
 "nbformat_minor": 5
}
