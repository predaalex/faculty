{
 "cells": [
  {
   "cell_type": "code",
   "execution_count": 3,
   "id": "initial_id",
   "metadata": {
    "collapsed": true,
    "ExecuteTime": {
     "end_time": "2023-11-20T10:01:22.966761200Z",
     "start_time": "2023-11-20T10:01:22.938761300Z"
    }
   },
   "outputs": [],
   "source": [
    "import torch\n",
    "import torch.nn as nn\n",
    "import torch.optim as optim\n",
    "from torch.utils.data import Dataset, DataLoader\n",
    "from sklearn.feature_extraction.text import TfidfVectorizer\n",
    "import pandas as pd"
   ]
  },
  {
   "cell_type": "code",
   "execution_count": 4,
   "outputs": [],
   "source": [
    "class SentencePairDataset(Dataset):\n",
    "    def __init__(self, data, vectorizer, train=True):\n",
    "        super().__init__()\n",
    "        self.train = train\n",
    "        self.data = data\n",
    "        self.vectorizer = vectorizer\n",
    "    \n",
    "    def __len__(self):\n",
    "        return len(self.data)\n",
    "    \n",
    "    def __getitem__(self, idx):\n",
    "        sentence_pair = self.data.iloc[idx]\n",
    "        sentences = sentence_pair['combined_sentences']\n",
    "        sentences = self.vectorizer.transform([sentences]).toarray().flatten()\n",
    "        if self.train:\n",
    "            label = sentence_pair['label']\n",
    "            return sentences, label\n",
    "        else:\n",
    "            return sentences, self.data.iloc[idx]['guid']"
   ],
   "metadata": {
    "collapsed": false,
    "ExecuteTime": {
     "end_time": "2023-11-20T10:01:24.887760800Z",
     "start_time": "2023-11-20T10:01:24.860761100Z"
    }
   },
   "id": "a21ce2526c4ffffe"
  },
  {
   "cell_type": "code",
   "execution_count": 5,
   "outputs": [],
   "source": [
    "train_data = pd.read_json(\"./data/train.json\")\n",
    "test_data = pd.read_json(\"./data/test.json\")\n",
    "validation_data = pd.read_json(\"./data/validation.json\")"
   ],
   "metadata": {
    "collapsed": false,
    "ExecuteTime": {
     "end_time": "2023-11-20T10:01:25.958761300Z",
     "start_time": "2023-11-20T10:01:25.730761300Z"
    }
   },
   "id": "c8c94a719b721fc9"
  },
  {
   "cell_type": "code",
   "execution_count": 63,
   "outputs": [],
   "source": [
    "# train_data = train_data.iloc[:len(train_data) // 20]\n",
    "# len(train_data)"
   ],
   "metadata": {
    "collapsed": false,
    "ExecuteTime": {
     "end_time": "2023-11-19T22:05:42.314167100Z",
     "start_time": "2023-11-19T22:05:42.298114600Z"
    }
   },
   "id": "cd3b41aba73d8c55"
  },
  {
   "cell_type": "code",
   "execution_count": 6,
   "outputs": [],
   "source": [
    "train_data['combined_sentences'] = train_data['sentence1'] + \" \" + train_data['sentence2']\n",
    "test_data['combined_sentences'] = test_data['sentence1'] + \" \" + test_data['sentence2']\n",
    "validation_data['combined_sentences'] = validation_data['sentence1'] + \" \" + validation_data['sentence2']"
   ],
   "metadata": {
    "collapsed": false,
    "ExecuteTime": {
     "end_time": "2023-11-20T10:01:26.692761200Z",
     "start_time": "2023-11-20T10:01:26.643761900Z"
    }
   },
   "id": "49450a5d50349da6"
  },
  {
   "cell_type": "code",
   "execution_count": 16,
   "outputs": [
    {
     "data": {
      "text/plain": "0    Primul taragotist român a fost Nicolae Luță Io...\n1    Lupta revoluționarilor este condusă de Avram I...\n2    Locuitorii liberi au devenit „''iobagiones cas...\n3    În anul 2002 are loc lansarea în domeniul turi...\n4    Zillich a mijlocit, prin revista ''Klingsor'',...\nName: combined_sentences, dtype: object"
     },
     "execution_count": 16,
     "metadata": {},
     "output_type": "execute_result"
    }
   ],
   "source": [
    "vectorizer_input = train_data['combined_sentences']\n",
    "vectorizer_input.head()"
   ],
   "metadata": {
    "collapsed": false,
    "ExecuteTime": {
     "end_time": "2023-11-20T11:01:34.326056Z",
     "start_time": "2023-11-20T11:01:34.311549800Z"
    }
   },
   "id": "11a650b5ec4ebb7e"
  },
  {
   "cell_type": "code",
   "execution_count": 17,
   "outputs": [],
   "source": [
    "\n",
    "vectorizer = TfidfVectorizer()\n",
    "X_train_tfidf = vectorizer.fit(vectorizer_input)"
   ],
   "metadata": {
    "collapsed": false,
    "ExecuteTime": {
     "end_time": "2023-11-20T11:01:44.826309700Z",
     "start_time": "2023-11-20T11:01:43.190345Z"
    }
   },
   "id": "e12512891aaf75ce"
  },
  {
   "cell_type": "code",
   "execution_count": null,
   "outputs": [],
   "source": [
    "test = vectorizer.transform(train_data['combined_sentences'][0])\n",
    "vectorizer_size = test.shape[1]\n",
    "vectorizer_size"
   ],
   "metadata": {
    "collapsed": false
   },
   "id": "9e21684405be0f58"
  },
  {
   "cell_type": "code",
   "execution_count": 96,
   "outputs": [],
   "source": [
    "train_dataset = SentencePairDataset(train_data, vectorizer)\n",
    "test_dataset = SentencePairDataset(test_data, vectorizer, train=False)\n",
    "validation_dataset = SentencePairDataset(validation_data, vectorizer)"
   ],
   "metadata": {
    "collapsed": false,
    "ExecuteTime": {
     "start_time": "2023-11-19T22:16:40.654836700Z"
    }
   },
   "id": "b61e890f2a2b3a28"
  },
  {
   "cell_type": "code",
   "execution_count": 80,
   "outputs": [],
   "source": [
    "train_loader = DataLoader(train_dataset, batch_size=32, shuffle=True)\n",
    "test_loader = DataLoader(test_dataset, batch_size=32, shuffle=False)\n",
    "validation_loader = DataLoader(validation_dataset, batch_size=16, shuffle=False)"
   ],
   "metadata": {
    "collapsed": false,
    "ExecuteTime": {
     "end_time": "2023-11-19T22:11:31.498193100Z",
     "start_time": "2023-11-19T22:11:31.491189800Z"
    }
   },
   "id": "5b9a0776f9b5bfc1"
  },
  {
   "cell_type": "code",
   "execution_count": 41,
   "outputs": [],
   "source": [
    "class NN(nn.Module):\n",
    "    def __init__(self, input_dim):\n",
    "        super(NN, self).__init__()\n",
    "        # self.fc1 = nn.Linear(input_dim, 1024)\n",
    "        # self.dropout1 = nn.Dropout(0.5)\n",
    "        # self.fc2 = nn.Linear(1024, 256)\n",
    "        # self.dropout2 = nn.Dropout(0.5)\n",
    "        self.fc3 = nn.Linear(input_dim, 4)\n",
    "        self.softmax = nn.Softmax()\n",
    "        \n",
    "    def forward(self, x):\n",
    "        # x = torch.relu(self.fc1(x))\n",
    "        # x = self.dropout1(x)\n",
    "        # x = torch.relu(self.fc2(x))\n",
    "        # x = self.dropout2(x)\n",
    "        x = self.fc3(x)\n",
    "        x = self.softmax(x)\n",
    "        return x"
   ],
   "metadata": {
    "collapsed": false,
    "ExecuteTime": {
     "end_time": "2023-11-19T21:42:49.927690600Z",
     "start_time": "2023-11-19T21:42:49.910664600Z"
    }
   },
   "id": "e3d27541c042d9ee"
  },
  {
   "cell_type": "code",
   "execution_count": 42,
   "outputs": [],
   "source": [
    "device = torch.device(\"cuda\" if torch.cuda.is_available() else \"cpu\")\n",
    "# device = torch.device(\"cpu\")"
   ],
   "metadata": {
    "collapsed": false,
    "ExecuteTime": {
     "end_time": "2023-11-19T21:42:49.940914900Z",
     "start_time": "2023-11-19T21:42:49.925690800Z"
    }
   },
   "id": "888fa72cb8d28dc"
  },
  {
   "cell_type": "code",
   "execution_count": 43,
   "outputs": [
    {
     "name": "stderr",
     "output_type": "stream",
     "text": [
      "C:\\Users\\allex\\miniconda3\\envs\\PyTorch\\lib\\site-packages\\torch\\nn\\modules\\module.py:1518: UserWarning: Implicit dimension choice for softmax has been deprecated. Change the call to include dim=X as an argument.\n",
      "  return self._call_impl(*args, **kwargs)\n"
     ]
    },
    {
     "name": "stdout",
     "output_type": "stream",
     "text": [
      "Epoch 1/5 - Loss: 1.2133 - Val Loss: 1.1391 - Time = 186.7s\n",
      "Epoch 2/5 - Loss: 1.1132 - Val Loss: 1.1122 - Time = 189.7s\n",
      "Epoch 3/5 - Loss: 1.0764 - Val Loss: 1.0991 - Time = 206.4s\n",
      "Epoch 4/5 - Loss: 1.0528 - Val Loss: 1.0922 - Time = 204.4s\n",
      "Epoch 5/5 - Loss: 1.0349 - Val Loss: 1.0858 - Time = 204.6s\n"
     ]
    }
   ],
   "source": [
    "import time\n",
    "\n",
    "model = NN(input_dim=vectorizer_size)\n",
    "model.to(device)\n",
    "criterion = nn.CrossEntropyLoss()\n",
    "optimizer = optim.Adam(model.parameters(), lr=0.001)\n",
    "optimizer.zero_grad()\n",
    "num_epochs = 5\n",
    "for epoch in range(num_epochs):\n",
    "    start = time.time()\n",
    "    model.train()\n",
    "    running_loss = 0.0\n",
    "    for inputs, labels in train_loader:\n",
    "        inputs, labels = inputs.to(device), labels.to(device)\n",
    "        optimizer.zero_grad()\n",
    "        output = model(inputs.float())\n",
    "        loss = criterion(output, labels)\n",
    "        loss.backward()\n",
    "        optimizer.step()\n",
    "        running_loss += loss.item()\n",
    "        \n",
    "    model.eval()\n",
    "    val_losses = 0.0\n",
    "    with torch.no_grad():\n",
    "        for inputs, labels in validation_loader:\n",
    "            inputs, labels = inputs.to(device), labels.to(device)\n",
    "            output = model(inputs.float())\n",
    "            val_loss = criterion(output, labels)\n",
    "            val_losses += val_loss.item()\n",
    "    end = time.time()\n",
    "    print(f\"Epoch {epoch+1}/{num_epochs} - Loss: {running_loss/len(train_loader):.4f} - \"\n",
    "          f\"Val Loss: {val_losses/len(validation_loader):.4f} - \"\n",
    "          f\"Time = {end-start:.1f}s\")"
   ],
   "metadata": {
    "collapsed": false,
    "ExecuteTime": {
     "end_time": "2023-11-19T21:59:21.757177500Z",
     "start_time": "2023-11-19T21:42:49.941914800Z"
    }
   },
   "id": "3325c633a49084b4"
  },
  {
   "cell_type": "code",
   "execution_count": 121,
   "outputs": [
    {
     "name": "stderr",
     "output_type": "stream",
     "text": [
      "C:\\Users\\allex\\miniconda3\\envs\\PyTorch\\lib\\site-packages\\torch\\nn\\modules\\module.py:1518: UserWarning: Implicit dimension choice for softmax has been deprecated. Change the call to include dim=X as an argument.\n",
      "  return self._call_impl(*args, **kwargs)\n"
     ]
    },
    {
     "name": "stdout",
     "output_type": "stream",
     "text": [
      "Validation Accuracy: 0.6681922078132629\n"
     ]
    }
   ],
   "source": [
    "model.eval()\n",
    "model.cpu()\n",
    "val_correct = 0\n",
    "total_val = 0\n",
    "with torch.no_grad():\n",
    "    for inputs, labels in validation_loader:\n",
    "        # inputs, labels = inputs.to(device), labels.to(device)\n",
    "        outputs = model(inputs.float())\n",
    "        _, predicted = torch.max(outputs, 1)\n",
    "        val_correct += (predicted == labels).sum()\n",
    "        total_val += labels.size(0)\n",
    "        \n",
    "accuracy = val_correct / total_val\n",
    "print(f\"Validation Accuracy: {accuracy}\")"
   ],
   "metadata": {
    "collapsed": false,
    "ExecuteTime": {
     "end_time": "2023-11-19T22:33:19.059959700Z",
     "start_time": "2023-11-19T22:33:10.062088400Z"
    }
   },
   "id": "83bf79d61684eb8c"
  },
  {
   "cell_type": "code",
   "execution_count": 45,
   "outputs": [],
   "source": [
    "torch.save(model.state_dict(), \"./models/nn2epochs\")"
   ],
   "metadata": {
    "collapsed": false,
    "ExecuteTime": {
     "end_time": "2023-11-19T21:59:32.038922100Z",
     "start_time": "2023-11-19T21:59:31.993886Z"
    }
   },
   "id": "bef98f5a8fbf1fa"
  },
  {
   "cell_type": "code",
   "execution_count": 46,
   "outputs": [
    {
     "data": {
      "text/plain": "NN(\n  (fc3): Linear(in_features=183708, out_features=4, bias=True)\n  (softmax): Softmax(dim=None)\n)"
     },
     "execution_count": 46,
     "metadata": {},
     "output_type": "execute_result"
    }
   ],
   "source": [
    "# Loading the saved model\n",
    "loaded_model = NN(input_dim=vectorizer_size)  # Create an instance of the model\n",
    "loaded_model.load_state_dict(torch.load('./models/nn2epochs'))  # Load the model state dictionary\n",
    "loaded_model.eval()"
   ],
   "metadata": {
    "collapsed": false,
    "ExecuteTime": {
     "end_time": "2023-11-19T21:59:32.041974Z",
     "start_time": "2023-11-19T21:59:32.010900500Z"
    }
   },
   "id": "6eb7da8e97034207"
  },
  {
   "cell_type": "code",
   "execution_count": 114,
   "outputs": [
    {
     "name": "stderr",
     "output_type": "stream",
     "text": [
      "C:\\Users\\allex\\miniconda3\\envs\\PyTorch\\lib\\site-packages\\torch\\nn\\modules\\module.py:1518: UserWarning: Implicit dimension choice for softmax has been deprecated. Change the call to include dim=X as an argument.\n",
      "  return self._call_impl(*args, **kwargs)\n"
     ]
    },
    {
     "name": "stdout",
     "output_type": "stream",
     "text": [
      "                                      guid label\n",
      "0     831cf870-c8e8-47f9-9318-7954706f08e3     2\n",
      "1     4aabdcb9-9caa-4853-a0ec-d2767e365142     2\n",
      "2     db383040-957a-475c-b8f7-5de7a36282f2     3\n",
      "3     19d0dedc-04e1-4b7f-8061-2710f3bcbf86     2\n",
      "4     3d293138-1740-4260-bd7e-64ab18d71e8d     3\n",
      "...                                    ...   ...\n",
      "2995  74ca470e-d28a-42dc-bfcc-7f1e57ff042b     3\n",
      "2996  fc0b744e-c69c-4e8f-9ec8-1495e7a3725c     3\n",
      "2997  538041fd-c1b7-481a-8a40-272b851ff3c7     2\n",
      "2998  9b8dcd8c-fef9-4a2d-a170-b972461103d0     2\n",
      "2999  648141bd-447d-437f-8706-81a909b48337     2\n",
      "\n",
      "[3000 rows x 2 columns]\n"
     ]
    }
   ],
   "source": [
    "model.eval()\n",
    "model.cpu()\n",
    "val_correct = 0\n",
    "total_val = 0\n",
    "df = pd.DataFrame(columns=[\"guid\", \"label\"])\n",
    "\n",
    "with torch.no_grad():\n",
    "    for inputs, guids in test_loader:\n",
    "        # inputs, labels = inputs.to(device), labels.to(device)\n",
    "        outputs = model(inputs.float())\n",
    "        _, predicted = torch.max(outputs, 1)\n",
    "        df_new = pd.DataFrame({'guid': guids, 'label': predicted.numpy()})\n",
    "        df = pd.concat([df, df_new], ignore_index=True)\n"
   ],
   "metadata": {
    "collapsed": false,
    "ExecuteTime": {
     "end_time": "2023-11-19T22:28:43.799795300Z",
     "start_time": "2023-11-19T22:28:34.968095Z"
    }
   },
   "id": "3b6f0b4282130230"
  },
  {
   "cell_type": "code",
   "execution_count": 120,
   "outputs": [],
   "source": [
    "df.to_csv(\"./data/submission2.csv\", index=False)"
   ],
   "metadata": {
    "collapsed": false,
    "ExecuteTime": {
     "end_time": "2023-11-19T22:31:53.749813500Z",
     "start_time": "2023-11-19T22:31:53.728796500Z"
    }
   },
   "id": "7f2d0e49d18ab544"
  }
 ],
 "metadata": {
  "kernelspec": {
   "display_name": "Python 3",
   "language": "python",
   "name": "python3"
  },
  "language_info": {
   "codemirror_mode": {
    "name": "ipython",
    "version": 2
   },
   "file_extension": ".py",
   "mimetype": "text/x-python",
   "name": "python",
   "nbconvert_exporter": "python",
   "pygments_lexer": "ipython2",
   "version": "2.7.6"
  }
 },
 "nbformat": 4,
 "nbformat_minor": 5
}
