{
 "cells": [
  {
   "cell_type": "code",
   "execution_count": 516,
   "id": "initial_id",
   "metadata": {
    "collapsed": true,
    "ExecuteTime": {
     "end_time": "2023-10-18T08:40:25.207409200Z",
     "start_time": "2023-10-18T08:40:25.176234300Z"
    }
   },
   "outputs": [],
   "source": [
    "import torch.utils.data as data\n",
    "import torch.optim as optim\n",
    "from IPython.display import clear_output\n",
    "import time\n",
    "import glob\n",
    "import torch.nn as nn\n",
    "import torch\n",
    "import torch.nn.functional as F\n",
    "from PIL import Image\n",
    "import numpy as np\n",
    "from torch.utils.data import Dataset, DataLoader\n",
    "from torchvision.transforms.functional import to_tensor, normalize\n",
    "import random, os\n",
    "import matplotlib.pyplot as plt\n",
    "import torchvision.models as models\n",
    "from pytorch_model_summary import summary"
   ]
  },
  {
   "cell_type": "code",
   "execution_count": 517,
   "outputs": [],
   "source": [
    "if torch.cuda.is_available():\n",
    "    device = torch.device(\"cuda\")\n",
    "else:\n",
    "    device = torch.device(\"cpu\")"
   ],
   "metadata": {
    "collapsed": false,
    "ExecuteTime": {
     "end_time": "2023-10-18T08:40:25.219449900Z",
     "start_time": "2023-10-18T08:40:25.183150200Z"
    }
   },
   "id": "748cbadfe83e19b5"
  },
  {
   "cell_type": "code",
   "execution_count": 518,
   "outputs": [],
   "source": [
    "# random.seed(42)\n",
    "\n",
    "class CatsDogsDataset(Dataset):\n",
    "    def __init__(self, file_list, width=128, height=128, transform=None):\n",
    "        self.file_list = file_list\n",
    "        self.transform = transform\n",
    "        self.img_size = (width, height)\n",
    "\n",
    "    def __len__(self):\n",
    "        return len(self.file_list)\n",
    "\n",
    "    def __getitem__(self, idx):\n",
    "        img_path = self.file_list[idx]\n",
    "        img = Image.open(img_path)\n",
    "\n",
    "        original_width, original_height = self.img_size\n",
    "\n",
    "        img = img.resize(self.img_size)\n",
    "        img = np.array(img)\n",
    "\n",
    "        label = img_path.split('\\\\')[-1].split('.')[0]\n",
    "        if label == 'dog':\n",
    "            label = torch.tensor([1, 0], dtype=torch.float32)\n",
    "        elif label == 'cat':\n",
    "            label = torch.tensor([0, 1], dtype=torch.float32)\n",
    "        return to_tensor(img), label"
   ],
   "metadata": {
    "collapsed": false,
    "ExecuteTime": {
     "end_time": "2023-10-18T08:40:25.219449900Z",
     "start_time": "2023-10-18T08:40:25.201165400Z"
    }
   },
   "id": "83754766892510fa"
  },
  {
   "cell_type": "code",
   "execution_count": 519,
   "outputs": [
    {
     "name": "stdout",
     "output_type": "stream",
     "text": [
      "21250\n",
      "3750\n"
     ]
    }
   ],
   "source": [
    "samples = glob.glob(os.path.join('./dog-vs-cats/train', '*.jpg'))\n",
    "\n",
    "nr_samples = len(samples)\n",
    "samples = random.sample(samples, nr_samples)\n",
    "\n",
    "total_samples = len(samples)\n",
    "train_split = int(0.85 * total_samples)\n",
    "\n",
    "# Split the data into train, test, and validation sets\n",
    "train_samples = samples[:train_split]\n",
    "test_samples = samples[train_split:]\n",
    "\n",
    "print(len(train_samples))\n",
    "print(len(test_samples))\n",
    "\n",
    "cats_dogs_train = CatsDogsDataset(train_samples, width=224, height=224)\n",
    "cats_dogs_test = CatsDogsDataset(test_samples, width=224, height=224)\n",
    "\n",
    "train_loader_resnet18 = DataLoader(cats_dogs_train, batch_size=16, shuffle=True)\n",
    "test_loader_resnet18 = DataLoader(cats_dogs_test, batch_size=16, shuffle=False)\n",
    "\n",
    "# images, labels = next(iter(train_loader_resnet18))\n",
    "# print(images.shape)\n",
    "# print(labels)"
   ],
   "metadata": {
    "collapsed": false,
    "ExecuteTime": {
     "end_time": "2023-10-18T08:40:25.322099100Z",
     "start_time": "2023-10-18T08:40:25.215410Z"
    }
   },
   "id": "70fd36f9cf4ba69a"
  },
  {
   "cell_type": "code",
   "execution_count": 520,
   "outputs": [],
   "source": [
    "# for (imgs, label) in zip(images, labels):\n",
    "#     clear_output(wait=True)\n",
    "#     image = imgs.numpy().transpose(1, 2, 0)\n",
    "#     plt.imshow(image)\n",
    "#     # plt.text(5, 15, \"DOG\" if label else \"CAT\", fontsize='xx-large', color='red', fontweight='bold')\n",
    "#     plt.show()\n",
    "# \n",
    "#     # if i >= see_examples - 1:\n",
    "#     #     break\n",
    "#     time.sleep(1)"
   ],
   "metadata": {
    "collapsed": false,
    "ExecuteTime": {
     "end_time": "2023-10-18T08:40:25.366403300Z",
     "start_time": "2023-10-18T08:40:25.323100Z"
    }
   },
   "id": "54c2d63f42e1a4c"
  },
  {
   "cell_type": "code",
   "execution_count": 521,
   "outputs": [],
   "source": [
    "resnet18 = models.resnet18(pretrained=True)\n",
    "num_classes = 2\n",
    "resnet18.fc = nn.Sequential(\n",
    "    nn.Linear(resnet18.fc.in_features, num_classes),\n",
    "    nn.Softmax(dim=1)\n",
    ")\n",
    "# resnet18.fc = nn.Linear(resnet18.fc.in_features, num_classes)\n",
    "resnet18 = resnet18.to(device)"
   ],
   "metadata": {
    "collapsed": false,
    "ExecuteTime": {
     "end_time": "2023-10-18T08:40:25.460325400Z",
     "start_time": "2023-10-18T08:40:25.339350300Z"
    }
   },
   "id": "3d4b4eb9b47db963"
  },
  {
   "cell_type": "code",
   "execution_count": 522,
   "outputs": [],
   "source": [
    "# freeze all layers\n",
    "for param in resnet18.parameters():\n",
    "    param.requires_grad = False\n",
    "\n",
    "# unfreeze last 2 layers\n",
    "# for param in resnet18.layer2.parameters():\n",
    "#     param.requires_grad=True\n",
    "for param in resnet18.layer3.parameters():\n",
    "    param.requires_grad = True\n",
    "for param in resnet18.layer4.parameters():\n",
    "    param.requires_grad = True\n",
    "for param in resnet18.avgpool.parameters():\n",
    "    param.requires_grad = True\n",
    "for param in resnet18.fc.parameters():\n",
    "    param.requires_grad = True\n"
   ],
   "metadata": {
    "collapsed": false,
    "ExecuteTime": {
     "end_time": "2023-10-18T08:40:25.477507400Z",
     "start_time": "2023-10-18T08:40:25.460325400Z"
    }
   },
   "id": "62d65bda4ae622a2"
  },
  {
   "cell_type": "code",
   "execution_count": 523,
   "outputs": [
    {
     "name": "stdout",
     "output_type": "stream",
     "text": [
      "ResNet(\n",
      "  (conv1): Conv2d(3, 64, kernel_size=(7, 7), stride=(2, 2), padding=(3, 3), bias=False)\n",
      "  (bn1): BatchNorm2d(64, eps=1e-05, momentum=0.1, affine=True, track_running_stats=True)\n",
      "  (relu): ReLU(inplace=True)\n",
      "  (maxpool): MaxPool2d(kernel_size=3, stride=2, padding=1, dilation=1, ceil_mode=False)\n",
      "  (layer1): Sequential(\n",
      "    (0): BasicBlock(\n",
      "      (conv1): Conv2d(64, 64, kernel_size=(3, 3), stride=(1, 1), padding=(1, 1), bias=False)\n",
      "      (bn1): BatchNorm2d(64, eps=1e-05, momentum=0.1, affine=True, track_running_stats=True)\n",
      "      (relu): ReLU(inplace=True)\n",
      "      (conv2): Conv2d(64, 64, kernel_size=(3, 3), stride=(1, 1), padding=(1, 1), bias=False)\n",
      "      (bn2): BatchNorm2d(64, eps=1e-05, momentum=0.1, affine=True, track_running_stats=True)\n",
      "    )\n",
      "    (1): BasicBlock(\n",
      "      (conv1): Conv2d(64, 64, kernel_size=(3, 3), stride=(1, 1), padding=(1, 1), bias=False)\n",
      "      (bn1): BatchNorm2d(64, eps=1e-05, momentum=0.1, affine=True, track_running_stats=True)\n",
      "      (relu): ReLU(inplace=True)\n",
      "      (conv2): Conv2d(64, 64, kernel_size=(3, 3), stride=(1, 1), padding=(1, 1), bias=False)\n",
      "      (bn2): BatchNorm2d(64, eps=1e-05, momentum=0.1, affine=True, track_running_stats=True)\n",
      "    )\n",
      "  )\n",
      "  (layer2): Sequential(\n",
      "    (0): BasicBlock(\n",
      "      (conv1): Conv2d(64, 128, kernel_size=(3, 3), stride=(2, 2), padding=(1, 1), bias=False)\n",
      "      (bn1): BatchNorm2d(128, eps=1e-05, momentum=0.1, affine=True, track_running_stats=True)\n",
      "      (relu): ReLU(inplace=True)\n",
      "      (conv2): Conv2d(128, 128, kernel_size=(3, 3), stride=(1, 1), padding=(1, 1), bias=False)\n",
      "      (bn2): BatchNorm2d(128, eps=1e-05, momentum=0.1, affine=True, track_running_stats=True)\n",
      "      (downsample): Sequential(\n",
      "        (0): Conv2d(64, 128, kernel_size=(1, 1), stride=(2, 2), bias=False)\n",
      "        (1): BatchNorm2d(128, eps=1e-05, momentum=0.1, affine=True, track_running_stats=True)\n",
      "      )\n",
      "    )\n",
      "    (1): BasicBlock(\n",
      "      (conv1): Conv2d(128, 128, kernel_size=(3, 3), stride=(1, 1), padding=(1, 1), bias=False)\n",
      "      (bn1): BatchNorm2d(128, eps=1e-05, momentum=0.1, affine=True, track_running_stats=True)\n",
      "      (relu): ReLU(inplace=True)\n",
      "      (conv2): Conv2d(128, 128, kernel_size=(3, 3), stride=(1, 1), padding=(1, 1), bias=False)\n",
      "      (bn2): BatchNorm2d(128, eps=1e-05, momentum=0.1, affine=True, track_running_stats=True)\n",
      "    )\n",
      "  )\n",
      "  (layer3): Sequential(\n",
      "    (0): BasicBlock(\n",
      "      (conv1): Conv2d(128, 256, kernel_size=(3, 3), stride=(2, 2), padding=(1, 1), bias=False)\n",
      "      (bn1): BatchNorm2d(256, eps=1e-05, momentum=0.1, affine=True, track_running_stats=True)\n",
      "      (relu): ReLU(inplace=True)\n",
      "      (conv2): Conv2d(256, 256, kernel_size=(3, 3), stride=(1, 1), padding=(1, 1), bias=False)\n",
      "      (bn2): BatchNorm2d(256, eps=1e-05, momentum=0.1, affine=True, track_running_stats=True)\n",
      "      (downsample): Sequential(\n",
      "        (0): Conv2d(128, 256, kernel_size=(1, 1), stride=(2, 2), bias=False)\n",
      "        (1): BatchNorm2d(256, eps=1e-05, momentum=0.1, affine=True, track_running_stats=True)\n",
      "      )\n",
      "    )\n",
      "    (1): BasicBlock(\n",
      "      (conv1): Conv2d(256, 256, kernel_size=(3, 3), stride=(1, 1), padding=(1, 1), bias=False)\n",
      "      (bn1): BatchNorm2d(256, eps=1e-05, momentum=0.1, affine=True, track_running_stats=True)\n",
      "      (relu): ReLU(inplace=True)\n",
      "      (conv2): Conv2d(256, 256, kernel_size=(3, 3), stride=(1, 1), padding=(1, 1), bias=False)\n",
      "      (bn2): BatchNorm2d(256, eps=1e-05, momentum=0.1, affine=True, track_running_stats=True)\n",
      "    )\n",
      "  )\n",
      "  (layer4): Sequential(\n",
      "    (0): BasicBlock(\n",
      "      (conv1): Conv2d(256, 512, kernel_size=(3, 3), stride=(2, 2), padding=(1, 1), bias=False)\n",
      "      (bn1): BatchNorm2d(512, eps=1e-05, momentum=0.1, affine=True, track_running_stats=True)\n",
      "      (relu): ReLU(inplace=True)\n",
      "      (conv2): Conv2d(512, 512, kernel_size=(3, 3), stride=(1, 1), padding=(1, 1), bias=False)\n",
      "      (bn2): BatchNorm2d(512, eps=1e-05, momentum=0.1, affine=True, track_running_stats=True)\n",
      "      (downsample): Sequential(\n",
      "        (0): Conv2d(256, 512, kernel_size=(1, 1), stride=(2, 2), bias=False)\n",
      "        (1): BatchNorm2d(512, eps=1e-05, momentum=0.1, affine=True, track_running_stats=True)\n",
      "      )\n",
      "    )\n",
      "    (1): BasicBlock(\n",
      "      (conv1): Conv2d(512, 512, kernel_size=(3, 3), stride=(1, 1), padding=(1, 1), bias=False)\n",
      "      (bn1): BatchNorm2d(512, eps=1e-05, momentum=0.1, affine=True, track_running_stats=True)\n",
      "      (relu): ReLU(inplace=True)\n",
      "      (conv2): Conv2d(512, 512, kernel_size=(3, 3), stride=(1, 1), padding=(1, 1), bias=False)\n",
      "      (bn2): BatchNorm2d(512, eps=1e-05, momentum=0.1, affine=True, track_running_stats=True)\n",
      "    )\n",
      "  )\n",
      "  (avgpool): AdaptiveAvgPool2d(output_size=(1, 1))\n",
      "  (fc): Sequential(\n",
      "    (0): Linear(in_features=512, out_features=2, bias=True)\n",
      "    (1): Softmax(dim=1)\n",
      "  )\n",
      ")\n"
     ]
    }
   ],
   "source": [
    "print(resnet18)"
   ],
   "metadata": {
    "collapsed": false,
    "ExecuteTime": {
     "end_time": "2023-10-18T08:40:25.522234900Z",
     "start_time": "2023-10-18T08:40:25.478507700Z"
    }
   },
   "id": "78bc5b290087494a"
  },
  {
   "cell_type": "code",
   "execution_count": 524,
   "outputs": [
    {
     "name": "stdout",
     "output_type": "stream",
     "text": [
      "-------------------------------------------------------------------------------\n",
      "           Layer (type)            Input Shape         Param #     Tr. Param #\n",
      "===============================================================================\n",
      "               Conv2d-1      [16, 3, 224, 224]           9,408               0\n",
      "          BatchNorm2d-2     [16, 64, 112, 112]             128               0\n",
      "                 ReLU-3     [16, 64, 112, 112]               0               0\n",
      "            MaxPool2d-4     [16, 64, 112, 112]               0               0\n",
      "           BasicBlock-5       [16, 64, 56, 56]          73,984               0\n",
      "           BasicBlock-6       [16, 64, 56, 56]          73,984               0\n",
      "           BasicBlock-7       [16, 64, 56, 56]         230,144               0\n",
      "           BasicBlock-8      [16, 128, 28, 28]         295,424               0\n",
      "           BasicBlock-9      [16, 128, 28, 28]         919,040         919,040\n",
      "          BasicBlock-10      [16, 256, 14, 14]       1,180,672       1,180,672\n",
      "          BasicBlock-11      [16, 256, 14, 14]       3,673,088       3,673,088\n",
      "          BasicBlock-12        [16, 512, 7, 7]       4,720,640       4,720,640\n",
      "   AdaptiveAvgPool2d-13        [16, 512, 7, 7]               0               0\n",
      "              Linear-14              [16, 512]           1,026           1,026\n",
      "             Softmax-15                [16, 2]               0               0\n",
      "===============================================================================\n",
      "Total params: 11,177,538\n",
      "Trainable params: 10,494,466\n",
      "Non-trainable params: 683,072\n",
      "-------------------------------------------------------------------------------\n"
     ]
    }
   ],
   "source": [
    "print(summary(resnet18, torch.rand(size=(16, 3, 224, 224)).to(device), show_input=True))"
   ],
   "metadata": {
    "collapsed": false,
    "ExecuteTime": {
     "end_time": "2023-10-18T08:40:25.528308800Z",
     "start_time": "2023-10-18T08:40:25.493013100Z"
    }
   },
   "id": "953bd387f0bd7d26"
  },
  {
   "cell_type": "code",
   "execution_count": 525,
   "outputs": [
    {
     "name": "stdout",
     "output_type": "stream",
     "text": [
      "tensor(0., device='cuda:0')\n",
      "tensor(0., device='cuda:0')\n"
     ]
    }
   ],
   "source": [
    "dummy = torch.rand(size=(16, 3, 224, 224), dtype=torch.float32).to(device)\n",
    "train_accuracy = torch.tensor(0., device=device)\n",
    "out = resnet18(dummy)\n",
    "preds = [[0 ,1]]\n",
    "correct = (torch.argmax(out, dim=1) == 1).sum()\n",
    "# correct = torch.sum(correct).item()\n",
    "print(train_accuracy)\n",
    "train_accuracy += correct\n",
    "print(train_accuracy)"
   ],
   "metadata": {
    "collapsed": false,
    "ExecuteTime": {
     "end_time": "2023-10-18T08:40:25.601983900Z",
     "start_time": "2023-10-18T08:40:25.508730200Z"
    }
   },
   "id": "a82635fe07759dd8"
  },
  {
   "cell_type": "code",
   "execution_count": 526,
   "outputs": [],
   "source": [
    "\n",
    "def train_fn(epochs: int, train_loader: data.DataLoader, test_loader: data.DataLoader,\n",
    "             net: nn.Module, loss_fn: nn.Module, optimizer: optim.Optimizer):\n",
    "    train_accuracy_list = []\n",
    "    train_loss_list = []\n",
    "    valid_accuracy_list = []\n",
    "    valid_loss_list = []\n",
    "    \n",
    "    # Iteram prin numarul de epoci\n",
    "    for e in range(epochs):\n",
    "        print(f\"Epoch {e + 1}/{epochs}\")\n",
    "        net.train()\n",
    "        train_loss = torch.tensor(0., device=device)\n",
    "        train_accuracy = torch.tensor(0., device=device)\n",
    "\n",
    "        # Iteram prin fiecare exemplu din dataset\n",
    "        for images, labels in train_loader:\n",
    "            images, labels = images.to(device), labels.to(device)\n",
    "            # Aplicam reteaua neurala pe imaginile de intrare\n",
    "            out = net(images)\n",
    "            # Aplicam functia cost pe iesirea retelei neurale si pe adnotarile imaginilor \n",
    "            loss = loss_fn(out, labels)\n",
    "            # Aplicam algoritmul de back-propagation\n",
    "            loss.backward()\n",
    "            # Facem pasul de optimizare, pentru a aplica gradientii pe parametrii retelei\n",
    "            optimizer.step()\n",
    "            # Apelam functia zero_grad() pentru a uita gradientii de la iteratie curenta\n",
    "            optimizer.zero_grad()\n",
    "            # Update la train loss si accuratete\n",
    "            with torch.no_grad():\n",
    "                train_loss += loss * len(labels)\n",
    "                train_accuracy += (torch.argmax(out, dim=1) == torch.argmax(labels, dim=1)).sum()\n",
    "        \n",
    "        train_loss = train_loss / len(train_samples)\n",
    "        train_accuracy = 100 * train_accuracy / len(train_samples)\n",
    "        \n",
    "        print(f'Training loss: {train_loss:.2f}'.rjust(24))\n",
    "        print(f'Training accuracy: {train_accuracy:.2f}'.rjust(23))\n",
    "        \n",
    "        train_loss_list.append(train_loss.cpu())\n",
    "        train_accuracy_list.append(train_accuracy.cpu())\n",
    "\n",
    "        if test_loader is not None:\n",
    "            net.eval()\n",
    "\n",
    "            valid_loss = torch.tensor(0., device=device)\n",
    "            valid_accuracy = torch.tensor(0., device=device)\n",
    "\n",
    "            with torch.no_grad():\n",
    "                for test_images, test_labels in test_loader:\n",
    "                    test_images, test_labels = test_images.to(device), test_labels.to(device)\n",
    "\n",
    "                    predicted_labels = net(test_images)\n",
    "                    loss = loss_fn(predicted_labels, test_labels)\n",
    "                    \n",
    "                    valid_loss += loss * len(test_labels)\n",
    "                    valid_accuracy += (torch.argmax(predicted_labels, dim=1) == torch.argmax(test_labels, dim=1)).sum()\n",
    "            \n",
    "            valid_loss = valid_loss / len(test_samples) \n",
    "            valid_accuracy = 100 * valid_accuracy / len(test_samples)\n",
    "            \n",
    "            print(f'Valid loss: {valid_loss:.2f}'.rjust(24))\n",
    "            print(f'Valid accuracy: {valid_accuracy:.2f}\\n'.rjust(25))\n",
    "            \n",
    "            valid_loss_list.append(valid_loss.cpu())\n",
    "            valid_accuracy_list.append(valid_accuracy.cpu())\n",
    "        \n",
    "    \n",
    "    \n",
    "    epochs = [x for x in range(epochs)]\n",
    "    \n",
    "    # Create a figure with two subplots\n",
    "    fig, (ax1, ax2) = plt.subplots(1, 2, figsize=(12, 4))\n",
    "    \n",
    "    # Plot accuracy\n",
    "    ax1.plot(epochs, train_accuracy_list, label='Training Accuracy', linestyle='-', color='b')\n",
    "    ax1.plot(epochs, valid_accuracy_list, label='Validation Accuracy', linestyle='-', color='r')\n",
    "    ax1.set_xlabel('Epochs')\n",
    "    ax1.set_ylabel('Accuracy')\n",
    "    ax1.set_title('Training and Validation Accuracy')\n",
    "    ax1.legend()\n",
    "    \n",
    "    # Plot loss\n",
    "    ax2.plot(epochs, train_loss_list, label='Training Loss', linestyle='-', color='b')\n",
    "    ax2.plot(epochs, valid_loss_list, label='Validation Loss', linestyle='-', color='r')\n",
    "    ax2.set_xlabel('Epochs')\n",
    "    ax2.set_ylabel('Loss')\n",
    "    ax2.set_title('Training and Validation Loss')\n",
    "    ax2.legend()\n",
    "    \n",
    "    plt.tight_layout()\n",
    "    plt.show()"
   ],
   "metadata": {
    "collapsed": false,
    "ExecuteTime": {
     "end_time": "2023-10-18T08:40:25.631505500Z",
     "start_time": "2023-10-18T08:40:25.607490700Z"
    }
   },
   "id": "3ed68359bc12dc9d"
  },
  {
   "cell_type": "code",
   "execution_count": 527,
   "outputs": [],
   "source": [
    "# Definiti numarul de epoci\n",
    "epochs = 10\n",
    "\n",
    "# Definiti reteaua\n",
    "# network = resnet18.to(device)\n",
    "\n",
    "# Definiti optimizatorul\n",
    "optimizer = optim.SGD(resnet18.parameters(), lr=0.0001)\n",
    "\"\"\"\n",
    "Dupa definirea optimizatorului si dupa fiecare iteratie de antrenare, trebui`e \n",
    "apelata functia zero_grad() pentru a seta valoare tuturor gradientilor la zero.\n",
    "\"\"\"\n",
    "# Completati aici codul pentru seta valoare tuturor gradientilor la zero\n",
    "optimizer.zero_grad()\n",
    "\n",
    "# Definiti functia cost pentru clasificare Cross-Entropy\n",
    "# https://neptune.ai/blog/pytorch-loss-functions\n",
    "loss_fn = nn.BCEWithLogitsLoss()"
   ],
   "metadata": {
    "collapsed": false,
    "ExecuteTime": {
     "end_time": "2023-10-18T08:40:25.635506300Z",
     "start_time": "2023-10-18T08:40:25.618001200Z"
    }
   },
   "id": "7bfb97940ed7f2bd"
  },
  {
   "cell_type": "code",
   "execution_count": 528,
   "outputs": [
    {
     "name": "stdout",
     "output_type": "stream",
     "text": [
      "Epoch 1/10\n",
      "     Training loss: 0.70\n",
      "Training accuracy: 62.30\n",
      "        Valid loss: 0.65\n",
      "   Valid accuracy: 83.73\n",
      "\n",
      "Epoch 2/10\n",
      "     Training loss: 0.63\n",
      "Training accuracy: 87.37\n",
      "        Valid loss: 0.60\n",
      "   Valid accuracy: 92.19\n",
      "\n",
      "Epoch 3/10\n",
      "     Training loss: 0.60\n",
      "Training accuracy: 91.45\n",
      "        Valid loss: 0.58\n",
      "   Valid accuracy: 94.69\n",
      "\n",
      "Epoch 4/10\n",
      "     Training loss: 0.58\n",
      "Training accuracy: 93.04\n",
      "        Valid loss: 0.57\n",
      "   Valid accuracy: 95.25\n",
      "\n",
      "Epoch 5/10\n",
      "     Training loss: 0.57\n",
      "Training accuracy: 93.80\n",
      "        Valid loss: 0.56\n",
      "   Valid accuracy: 96.24\n",
      "\n",
      "Epoch 6/10\n",
      "     Training loss: 0.56\n",
      "Training accuracy: 94.17\n",
      "        Valid loss: 0.55\n",
      "   Valid accuracy: 96.08\n",
      "\n",
      "Epoch 7/10\n",
      "     Training loss: 0.56\n",
      "Training accuracy: 94.56\n",
      "        Valid loss: 0.55\n",
      "   Valid accuracy: 96.69\n",
      "\n",
      "Epoch 8/10\n",
      "     Training loss: 0.55\n",
      "Training accuracy: 94.66\n",
      "        Valid loss: 0.55\n",
      "   Valid accuracy: 96.08\n",
      "\n",
      "Epoch 9/10\n",
      "     Training loss: 0.55\n",
      "Training accuracy: 94.94\n",
      "        Valid loss: 0.54\n",
      "   Valid accuracy: 97.39\n",
      "\n",
      "Epoch 10/10\n",
      "     Training loss: 0.55\n",
      "Training accuracy: 95.21\n",
      "        Valid loss: 0.54\n",
      "   Valid accuracy: 97.44\n"
     ]
    },
    {
     "data": {
      "text/plain": "<Figure size 1200x400 with 2 Axes>",
      "image/png": "[encoded data removed]"
     },
     "metadata": {},
     "output_type": "display_data"
    }
   ],
   "source": [
    "train_fn(epochs, train_loader_resnet18, test_loader_resnet18, resnet18, loss_fn, optimizer)"
   ],
   "metadata": {
    "collapsed": false,
    "ExecuteTime": {
     "end_time": "2023-10-18T08:49:53.910563Z",
     "start_time": "2023-10-18T08:40:25.633506800Z"
    }
   },
   "id": "d65dbf1524a03f7b"
  }
 ],
 "metadata": {
  "kernelspec": {
   "display_name": "Python 3",
   "language": "python",
   "name": "python3"
  },
  "language_info": {
   "codemirror_mode": {
    "name": "ipython",
    "version": 2
   },
   "file_extension": ".py",
   "mimetype": "text/x-python",
   "name": "python",
   "nbconvert_exporter": "python",
   "pygments_lexer": "ipython2",
   "version": "2.7.6"
  }
 },
 "nbformat": 4,
 "nbformat_minor": 5
}
