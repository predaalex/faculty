{
 "nbformat": 4,
 "nbformat_minor": 0,
 "metadata": {
  "colab": {
   "provenance": [],
   "toc_visible": true
  },
  "kernelspec": {
   "name": "python3",
   "language": "python",
   "display_name": "Python 3 (ipykernel)"
  },
  "gpuClass": "standard"
 },
 "cells": [
  {
   "cell_type": "markdown",
   "metadata": {
    "id": "2u0yZqFCyVwy"
   },
   "source": [
    "#Laborator 5\n",
    "\n",
    "In cadrul acestui laborator vom implementa o solutie de detectie. Datasetul folosit se numeste [American Sign Language Letters Dataset](https://public.roboflow.com/object-detection/american-sign-language-letters/1/download/coco)."
   ]
  },
  {
   "cell_type": "code",
   "metadata": {
    "id": "czyIhYt5gmUQ",
    "ExecuteTime": {
     "end_time": "2023-10-18T12:34:23.158090600Z",
     "start_time": "2023-10-18T12:34:15.119545Z"
    }
   },
   "source": [
    "!curl -L \"https://public.roboflow.com/ds/KamceLFGGS?key=dqp8HADMki\" > roboflow.zip; unzip -q roboflow.zip; rm roboflow.zip"
   ],
   "execution_count": 1,
   "outputs": [
    {
     "name": "stderr",
     "output_type": "stream",
     "text": [
      "  % Total    % Received % Xferd  Average Speed   Time    Time     Time  Current\n",
      "                                 Dload  Upload   Total   Spent    Left  Speed\n",
      "\n",
      "  0     0    0     0    0     0      0      0 --:--:-- --:--:-- --:--:--     0\n",
      "  0     0    0     0    0     0      0      0 --:--:-- --:--:-- --:--:--     0\n",
      "100   892  100   892    0     0   2065      0 --:--:-- --:--:-- --:--:--  2064\n",
      "\n",
      "  0 22.8M    0 82971    0     0  69997      0  0:05:42  0:00:01  0:05:41 69997\n",
      " 60 22.8M   60 13.7M    0     0  6548k      0  0:00:03  0:00:02  0:00:01 14.1M\n",
      "100 22.8M  100 22.8M    0     0  9230k      0  0:00:02  0:00:02 --:--:-- 16.8M\n",
      "curl: (3) URL using bad/illegal format or missing URL\n",
      "  % Total    % Received % Xferd  Average Speed   Time    Time     Time  Current\n",
      "                                 Dload  Upload   Total   Spent    Left  Speed\n",
      "\n",
      "  0     0    0     0    0     0      0      0 --:--:-- --:--:-- --:--:--     0\n",
      "  0     0    0     0    0     0      0      0 --:--:-- --:--:-- --:--:--     0\n",
      "  0     0    0     0    0     0      0      0 --:--:--  0:00:01 --:--:--     0\n",
      "  0     0    0     0    0     0      0      0 --:--:--  0:00:02 --:--:--     0curl: (6) Could not resolve host: unzip\n",
      "curl: (3) URL using bad/illegal format or missing URL\n",
      "  % Total    % Received % Xferd  Average Speed   Time    Time     Time  Current\n",
      "                                 Dload  Upload   Total   Spent    Left  Speed\n",
      "\n",
      "  0     0    0     0    0     0      0      0 --:--:-- --:--:-- --:--:--     0\n",
      "  0     0    0     0    0     0      0      0 --:--:--  0:00:01 --:--:--     0\n",
      "  0     0    0     0    0     0      0      0 --:--:--  0:00:02 --:--:--     0curl: (6) Could not resolve host: rm\n",
      "  % Total    % Received % Xferd  Average Speed   Time    Time     Time  Current\n",
      "                                 Dload  Upload   Total   Spent    Left  Speed\n",
      "\n",
      "  0     0    0     0    0     0      0      0 --:--:-- --:--:-- --:--:--     0curl: (6) Could not resolve host: roboflow.zip\n"
     ]
    }
   ]
  },
  {
   "cell_type": "code",
   "metadata": {
    "id": "eA7YWXQ2Jp1I",
    "ExecuteTime": {
     "end_time": "2023-10-18T12:34:23.203215300Z",
     "start_time": "2023-10-18T12:34:23.159090300Z"
    }
   },
   "source": [
    "! ls"
   ],
   "execution_count": 2,
   "outputs": [
    {
     "name": "stderr",
     "output_type": "stream",
     "text": [
      "'ls' is not recognized as an internal or external command,\n",
      "operable program or batch file.\n"
     ]
    }
   ]
  },
  {
   "cell_type": "code",
   "metadata": {
    "id": "9BVgY9gr2sbr",
    "ExecuteTime": {
     "end_time": "2023-10-18T12:34:23.249057300Z",
     "start_time": "2023-10-18T12:34:23.203215300Z"
    }
   },
   "source": [
    "!ls train | grep \"json\""
   ],
   "execution_count": 3,
   "outputs": [
    {
     "name": "stderr",
     "output_type": "stream",
     "text": [
      "'ls' is not recognized as an internal or external command,\n",
      "operable program or batch file.\n"
     ]
    }
   ]
  },
  {
   "cell_type": "markdown",
   "metadata": {
    "id": "FOA4ted_hHdB"
   },
   "source": [
    "## Crearea Dataloader-ului\n",
    "\n",
    "In continuare, pentru a incarca date, folosim un obiect de tipul torch.utils.data.Dataset. Acesta are 3 metode importante:\n",
    "\n",
    "```\n",
    "__init__()\n",
    "__len__()\n",
    "__get_item__()\n",
    "```\n",
    "\n",
    "\n",
    "\n"
   ]
  },
  {
   "cell_type": "code",
   "metadata": {
    "id": "9Vhpi3uC55N6",
    "ExecuteTime": {
     "end_time": "2023-10-18T12:37:05.020530800Z",
     "start_time": "2023-10-18T12:37:05.009288100Z"
    }
   },
   "source": [
    "import torch\n",
    "from pytorch_model_summary import summary\n",
    "from torchvision.io.image import read_image\n",
    "from torchvision.models.detection import fasterrcnn_resnet50_fpn, FasterRCNN_ResNet50_FPN_Weights\n",
    "from torchvision.utils import draw_bounding_boxes\n",
    "from torchvision.transforms.functional import to_pil_image\n",
    "import matplotlib.patches as patches\n",
    "import matplotlib.pyplot as plt\n",
    "import torch as t\n",
    "import torch\n",
    "from PIL import Image\n",
    "import numpy as np\n",
    "from torch.utils.data import Dataset, DataLoader\n",
    "from torchvision.transforms.functional import to_tensor, normalize\n",
    "import random\n",
    "from pycocotools.coco import COCO\n",
    "import os\n",
    "import torchvision.models as models\n",
    "from torch import nn\n",
    "\n",
    "from torchvision.transforms.functional import to_tensor\n",
    "from IPython.display import clear_output\n",
    "import time\n",
    "\n",
    "random.seed(42)\n",
    "\n",
    "class HandsDataset(Dataset):\n",
    "  def __init__(self, coco_root, coco_annos, coco_imgs, img_size=(320, 320)):\n",
    "    \"\"\"\n",
    "    Args:\n",
    "        dataset_lines (array): array of strings of form \"{image_path}|{rectangle_coordinates}\".\n",
    "        width (int): target image width.\n",
    "        height (int): target image height.\n",
    "    \"\"\"\n",
    "    self.coco_root = coco_root\n",
    "    self.coco_annos = coco_annos\n",
    "    self.coco_imgs = coco_imgs\n",
    "\n",
    "    self.coco_anno_file = coco_annos\n",
    "    self.coco_imgs_dir = coco_imgs\n",
    "\n",
    "    self.coco = COCO(self.coco_anno_file)\n",
    "\n",
    "    self.img_size = img_size\n",
    "\n",
    "    self.init_dataset()\n",
    "\n",
    "  def init_dataset(self):\n",
    "    self.cat_ids = self.coco.getCatIds()\n",
    "\n",
    "    self.img_ids = self.coco.getImgIds()\n",
    "    self.ann_ids = self.coco.getAnnIds(self.img_ids)\n",
    "\n",
    "    print(\"Dataset size {}\".format(len(self.img_ids)))\n",
    "\n",
    "  def __len__(self):\n",
    "    return len(self.img_ids)\n",
    "\n",
    "  def __getitem__(self, idx):\n",
    "    img_meta = self.coco.loadImgs(self.img_ids[idx])[0]\n",
    "    img_path = os.path.join(self.coco_imgs_dir, img_meta['file_name'])\n",
    "    img = Image.open(img_path)\n",
    "    ann_id = self.coco.getAnnIds(self.img_ids[idx])\n",
    "    annos = self.coco.loadAnns(ann_id)[0]\n",
    "\n",
    "    original_width, original_height = img.size\n",
    "\n",
    "    img = img.resize(self.img_size)\n",
    "    img = np.array(img)\n",
    "\n",
    "    if len(img.shape) == 2:\n",
    "      img = np.expand_dims(img, axis=2)\n",
    "      img = np.repeat(img, 3, axis=2)\n",
    "\n",
    "    img = to_tensor(img)\n",
    "\n",
    "    bbox = annos['bbox']  # box is xywh\n",
    "    cat_id = annos['category_id']\n",
    "\n",
    "    x1, y1, w, h = bbox\n",
    "    x2, y2 = x1 + w, y1 + h\n",
    "\n",
    "    # x1 = x1 / original_width * self.img_size[0]\n",
    "    # x2 = x2 / original_width * self.img_size[0]\n",
    "    # y1 = y1 / original_height * self.img_size[1]\n",
    "    # y2 = y2 / original_height * self.img_size[1]\n",
    "\n",
    "    x1 = x1 / original_width\n",
    "    x2 = x2 / original_width\n",
    "    y1 = y1 / original_height\n",
    "    y2 = y2 / original_height\n",
    "\n",
    "    coordinates = np.array([x1, y1, x2, y2])\n",
    "    coordinates =  coordinates.astype(np.float32)\n",
    "\n",
    "    return img, coordinates, cat_id"
   ],
   "execution_count": 10,
   "outputs": []
  },
  {
   "cell_type": "markdown",
   "metadata": {
    "id": "RkijQD0uK85D"
   },
   "source": [
    "Construire Dataset si vizualizare date.\n",
    "\n"
   ]
  },
  {
   "cell_type": "code",
   "metadata": {
    "id": "uGHfd229hRyR",
    "ExecuteTime": {
     "end_time": "2023-10-18T12:34:25.070128700Z",
     "start_time": "2023-10-18T12:34:25.044654200Z"
    }
   },
   "source": [
    "from IPython.display import clear_output\n",
    "import time\n",
    "\n",
    "coco_root = \"american-sign-language-letters-coco/\"\n",
    "coco_anno_train = os.path.join(coco_root, \"train/_annotations.coco.json\")\n",
    "coco_imgs_train = os.path.join(coco_root, \"train\")\n",
    "\n",
    "coco_anno_valid = os.path.join(coco_root, \"valid/_annotations.coco.json\")\n",
    "coco_imgs_valid = os.path.join(coco_root, \"valid\")\n",
    "\n",
    "dataset_train = HandsDataset(coco_root, coco_anno_train, coco_imgs_train, img_size=(224, 224))\n",
    "train_loader = DataLoader(dataset_train, batch_size=16, shuffle=True)\n",
    "\n",
    "dataset_valid = HandsDataset(coco_root, coco_anno_valid, coco_imgs_valid, img_size=(224, 224))\n",
    "valid_loader = DataLoader(dataset_valid, batch_size=1, shuffle=False) # keep batch_size=1"
   ],
   "execution_count": 5,
   "outputs": [
    {
     "name": "stdout",
     "output_type": "stream",
     "text": [
      "loading annotations into memory...\n",
      "Done (t=0.01s)\n",
      "creating index...\n",
      "index created!\n",
      "Dataset size 1512\n",
      "loading annotations into memory...\n",
      "Done (t=0.00s)\n",
      "creating index...\n",
      "index created!\n",
      "Dataset size 144\n"
     ]
    }
   ]
  },
  {
   "cell_type": "code",
   "source": [
    "see_examples = 3\n",
    "for i, (imgs, coordinates, cat_id) in enumerate(train_loader):\n",
    "    clear_output(wait=True)\n",
    "    imgs = np.transpose(imgs, (0, 2, 3, 1))\n",
    "    print(imgs.shape)\n",
    "\n",
    "    plt.imshow(imgs[0])\n",
    "\n",
    "    x1, y1, x2, y2 = coordinates[0]\n",
    "    x1 = x1 * dataset_train.img_size[1]\n",
    "    y1 = y1 * dataset_train.img_size[0]\n",
    "    x2 = x2 * dataset_train.img_size[1]\n",
    "    y2 = y2 * dataset_train.img_size[0]\n",
    "    rect = patches.Rectangle((x1,y1),x2-x1+1,y2-y1+1,linewidth=1,edgecolor='r',facecolor='none')\n",
    "    plt.gca().add_patch(rect)\n",
    "    plt.text(5, 15, cat_id[0].item(), fontsize='xx-large', color='g', fontweight='bold')\n",
    "    plt.show()\n",
    "\n",
    "    if i >= see_examples - 1:\n",
    "      break\n",
    "    time.sleep(1)"
   ],
   "metadata": {
    "id": "UibCKTqfBfv8"
   },
   "execution_count": 6,
   "outputs": [
    {
     "name": "stdout",
     "output_type": "stream",
     "text": [
      "torch.Size([16, 224, 224, 3])\n"
     ]
    },
    {
     "data": {
      "text/plain": "<Figure size 640x480 with 1 Axes>",
      "image/png": "[encoded data removed]"
     },
     "metadata": {},
     "output_type": "display_data"
    }
   ]
  },
  {
   "cell_type": "markdown",
   "metadata": {
    "id": "cnV6PIC1kQMi"
   },
   "source": [
    "# Crearea unei retele neurale convolutionale\n",
    "\n",
    "### Cerinte\n",
    "* Creati o arhitectura de retea neuronala convolutionala pentru regresie pe cele 4 coordonate alte imaginilor din dataset.\n",
    "* Punctaj: 7 puncte pentru o retea cu rezultate *bune*.\n",
    "\n",
    "#### Hint\n",
    "\n",
    "\n",
    "  \n",
    "\n",
    "\n",
    "*   Numarul de exemple de antrenare este prea mic pentru a antrena o retea \"from scratch\". Folositi o retea prea-antrenata pe ImagetNet, care a invatat deja sa recunoasca trasaturi utile pentru detectia de obiecte. Arhitectura recomandata este ResNet18 din Pytorch. Alte arhitecturi pot fi incercate.\n",
    "*   La final trebuie utilizata o functie de activare care acopera [0,1]\n",
    "\n"
   ]
  },
  {
   "cell_type": "markdown",
   "metadata": {
    "id": "wK0Z9NeYTghv"
   },
   "source": [
    "### Definirea obiectelor folosite in timpul antrenarii\n",
    "  * Numarul de epoci\n",
    "  * Retea\n",
    "  * Optimizator\n",
    "  * Functie de loss\n",
    "\n",
    "Experimentati cu valorile hiper-parametrilor de mai sus astfel incat reteaua sa invete *bine*."
   ]
  },
  {
   "cell_type": "code",
   "execution_count": 70,
   "outputs": [],
   "source": [
    "resnet18 = models.resnet18(pretrained=True)\n",
    "num_classes = 4\n",
    "resnet18.fc = nn.Sequential(\n",
    "    nn.Linear(resnet18.fc.in_features, num_classes),\n",
    "    nn.Sigmoid()\n",
    ")\n",
    "# resnet18.fc = nn.Linear(resnet18.fc.in_features, num_classes)\n",
    "resnet18 = resnet18.cuda()"
   ],
   "metadata": {
    "collapsed": false,
    "ExecuteTime": {
     "end_time": "2023-10-18T13:07:34.827972900Z",
     "start_time": "2023-10-18T13:07:34.714069700Z"
    }
   }
  },
  {
   "cell_type": "code",
   "execution_count": 71,
   "outputs": [],
   "source": [
    "# freeze all layers\n",
    "for param in resnet18.parameters():\n",
    "    param.requires_grad = False\n",
    "\n",
    "# unfreeze last 2 layers\n",
    "# for param in resnet18.layer2.parameters():\n",
    "#     param.requires_grad=True\n",
    "for param in resnet18.layer3.parameters():\n",
    "    param.requires_grad = True\n",
    "for param in resnet18.layer4.parameters():\n",
    "    param.requires_grad = True\n",
    "for param in resnet18.avgpool.parameters():\n",
    "    param.requires_grad = True\n",
    "for param in resnet18.fc.parameters():\n",
    "    param.requires_grad = True\n"
   ],
   "metadata": {
    "collapsed": false,
    "ExecuteTime": {
     "end_time": "2023-10-18T13:07:35.632946400Z",
     "start_time": "2023-10-18T13:07:35.611364400Z"
    }
   }
  },
  {
   "cell_type": "code",
   "execution_count": 61,
   "outputs": [
    {
     "name": "stdout",
     "output_type": "stream",
     "text": [
      "ResNet(\n",
      "  (conv1): Conv2d(3, 64, kernel_size=(7, 7), stride=(2, 2), padding=(3, 3), bias=False)\n",
      "  (bn1): BatchNorm2d(64, eps=1e-05, momentum=0.1, affine=True, track_running_stats=True)\n",
      "  (relu): ReLU(inplace=True)\n",
      "  (maxpool): MaxPool2d(kernel_size=3, stride=2, padding=1, dilation=1, ceil_mode=False)\n",
      "  (layer1): Sequential(\n",
      "    (0): BasicBlock(\n",
      "      (conv1): Conv2d(64, 64, kernel_size=(3, 3), stride=(1, 1), padding=(1, 1), bias=False)\n",
      "      (bn1): BatchNorm2d(64, eps=1e-05, momentum=0.1, affine=True, track_running_stats=True)\n",
      "      (relu): ReLU(inplace=True)\n",
      "      (conv2): Conv2d(64, 64, kernel_size=(3, 3), stride=(1, 1), padding=(1, 1), bias=False)\n",
      "      (bn2): BatchNorm2d(64, eps=1e-05, momentum=0.1, affine=True, track_running_stats=True)\n",
      "    )\n",
      "    (1): BasicBlock(\n",
      "      (conv1): Conv2d(64, 64, kernel_size=(3, 3), stride=(1, 1), padding=(1, 1), bias=False)\n",
      "      (bn1): BatchNorm2d(64, eps=1e-05, momentum=0.1, affine=True, track_running_stats=True)\n",
      "      (relu): ReLU(inplace=True)\n",
      "      (conv2): Conv2d(64, 64, kernel_size=(3, 3), stride=(1, 1), padding=(1, 1), bias=False)\n",
      "      (bn2): BatchNorm2d(64, eps=1e-05, momentum=0.1, affine=True, track_running_stats=True)\n",
      "    )\n",
      "  )\n",
      "  (layer2): Sequential(\n",
      "    (0): BasicBlock(\n",
      "      (conv1): Conv2d(64, 128, kernel_size=(3, 3), stride=(2, 2), padding=(1, 1), bias=False)\n",
      "      (bn1): BatchNorm2d(128, eps=1e-05, momentum=0.1, affine=True, track_running_stats=True)\n",
      "      (relu): ReLU(inplace=True)\n",
      "      (conv2): Conv2d(128, 128, kernel_size=(3, 3), stride=(1, 1), padding=(1, 1), bias=False)\n",
      "      (bn2): BatchNorm2d(128, eps=1e-05, momentum=0.1, affine=True, track_running_stats=True)\n",
      "      (downsample): Sequential(\n",
      "        (0): Conv2d(64, 128, kernel_size=(1, 1), stride=(2, 2), bias=False)\n",
      "        (1): BatchNorm2d(128, eps=1e-05, momentum=0.1, affine=True, track_running_stats=True)\n",
      "      )\n",
      "    )\n",
      "    (1): BasicBlock(\n",
      "      (conv1): Conv2d(128, 128, kernel_size=(3, 3), stride=(1, 1), padding=(1, 1), bias=False)\n",
      "      (bn1): BatchNorm2d(128, eps=1e-05, momentum=0.1, affine=True, track_running_stats=True)\n",
      "      (relu): ReLU(inplace=True)\n",
      "      (conv2): Conv2d(128, 128, kernel_size=(3, 3), stride=(1, 1), padding=(1, 1), bias=False)\n",
      "      (bn2): BatchNorm2d(128, eps=1e-05, momentum=0.1, affine=True, track_running_stats=True)\n",
      "    )\n",
      "  )\n",
      "  (layer3): Sequential(\n",
      "    (0): BasicBlock(\n",
      "      (conv1): Conv2d(128, 256, kernel_size=(3, 3), stride=(2, 2), padding=(1, 1), bias=False)\n",
      "      (bn1): BatchNorm2d(256, eps=1e-05, momentum=0.1, affine=True, track_running_stats=True)\n",
      "      (relu): ReLU(inplace=True)\n",
      "      (conv2): Conv2d(256, 256, kernel_size=(3, 3), stride=(1, 1), padding=(1, 1), bias=False)\n",
      "      (bn2): BatchNorm2d(256, eps=1e-05, momentum=0.1, affine=True, track_running_stats=True)\n",
      "      (downsample): Sequential(\n",
      "        (0): Conv2d(128, 256, kernel_size=(1, 1), stride=(2, 2), bias=False)\n",
      "        (1): BatchNorm2d(256, eps=1e-05, momentum=0.1, affine=True, track_running_stats=True)\n",
      "      )\n",
      "    )\n",
      "    (1): BasicBlock(\n",
      "      (conv1): Conv2d(256, 256, kernel_size=(3, 3), stride=(1, 1), padding=(1, 1), bias=False)\n",
      "      (bn1): BatchNorm2d(256, eps=1e-05, momentum=0.1, affine=True, track_running_stats=True)\n",
      "      (relu): ReLU(inplace=True)\n",
      "      (conv2): Conv2d(256, 256, kernel_size=(3, 3), stride=(1, 1), padding=(1, 1), bias=False)\n",
      "      (bn2): BatchNorm2d(256, eps=1e-05, momentum=0.1, affine=True, track_running_stats=True)\n",
      "    )\n",
      "  )\n",
      "  (layer4): Sequential(\n",
      "    (0): BasicBlock(\n",
      "      (conv1): Conv2d(256, 512, kernel_size=(3, 3), stride=(2, 2), padding=(1, 1), bias=False)\n",
      "      (bn1): BatchNorm2d(512, eps=1e-05, momentum=0.1, affine=True, track_running_stats=True)\n",
      "      (relu): ReLU(inplace=True)\n",
      "      (conv2): Conv2d(512, 512, kernel_size=(3, 3), stride=(1, 1), padding=(1, 1), bias=False)\n",
      "      (bn2): BatchNorm2d(512, eps=1e-05, momentum=0.1, affine=True, track_running_stats=True)\n",
      "      (downsample): Sequential(\n",
      "        (0): Conv2d(256, 512, kernel_size=(1, 1), stride=(2, 2), bias=False)\n",
      "        (1): BatchNorm2d(512, eps=1e-05, momentum=0.1, affine=True, track_running_stats=True)\n",
      "      )\n",
      "    )\n",
      "    (1): BasicBlock(\n",
      "      (conv1): Conv2d(512, 512, kernel_size=(3, 3), stride=(1, 1), padding=(1, 1), bias=False)\n",
      "      (bn1): BatchNorm2d(512, eps=1e-05, momentum=0.1, affine=True, track_running_stats=True)\n",
      "      (relu): ReLU(inplace=True)\n",
      "      (conv2): Conv2d(512, 512, kernel_size=(3, 3), stride=(1, 1), padding=(1, 1), bias=False)\n",
      "      (bn2): BatchNorm2d(512, eps=1e-05, momentum=0.1, affine=True, track_running_stats=True)\n",
      "    )\n",
      "  )\n",
      "  (avgpool): AdaptiveAvgPool2d(output_size=(1, 1))\n",
      "  (fc): Sequential(\n",
      "    (0): Linear(in_features=512, out_features=4, bias=True)\n",
      "    (1): ReLU()\n",
      "  )\n",
      ")\n"
     ]
    }
   ],
   "source": [
    "print(resnet18)"
   ],
   "metadata": {
    "collapsed": false,
    "ExecuteTime": {
     "end_time": "2023-10-18T12:54:17.060615900Z",
     "start_time": "2023-10-18T12:54:17.015008200Z"
    }
   }
  },
  {
   "cell_type": "code",
   "execution_count": 72,
   "outputs": [
    {
     "name": "stdout",
     "output_type": "stream",
     "text": [
      "-------------------------------------------------------------------------------\n",
      "           Layer (type)            Input Shape         Param #     Tr. Param #\n",
      "===============================================================================\n",
      "               Conv2d-1      [16, 3, 224, 224]           9,408               0\n",
      "          BatchNorm2d-2     [16, 64, 112, 112]             128               0\n",
      "                 ReLU-3     [16, 64, 112, 112]               0               0\n",
      "            MaxPool2d-4     [16, 64, 112, 112]               0               0\n",
      "           BasicBlock-5       [16, 64, 56, 56]          73,984               0\n",
      "           BasicBlock-6       [16, 64, 56, 56]          73,984               0\n",
      "           BasicBlock-7       [16, 64, 56, 56]         230,144               0\n",
      "           BasicBlock-8      [16, 128, 28, 28]         295,424               0\n",
      "           BasicBlock-9      [16, 128, 28, 28]         919,040         919,040\n",
      "          BasicBlock-10      [16, 256, 14, 14]       1,180,672       1,180,672\n",
      "          BasicBlock-11      [16, 256, 14, 14]       3,673,088       3,673,088\n",
      "          BasicBlock-12        [16, 512, 7, 7]       4,720,640       4,720,640\n",
      "   AdaptiveAvgPool2d-13        [16, 512, 7, 7]               0               0\n",
      "              Linear-14              [16, 512]           2,052           2,052\n",
      "             Sigmoid-15                [16, 4]               0               0\n",
      "===============================================================================\n",
      "Total params: 11,178,564\n",
      "Trainable params: 10,495,492\n",
      "Non-trainable params: 683,072\n",
      "-------------------------------------------------------------------------------\n"
     ]
    }
   ],
   "source": [
    "print(summary(resnet18, torch.rand(size=(16, 3, 224, 224)).cuda(), show_input=True))"
   ],
   "metadata": {
    "collapsed": false,
    "ExecuteTime": {
     "end_time": "2023-10-18T13:07:38.189952700Z",
     "start_time": "2023-10-18T13:07:38.095621800Z"
    }
   }
  },
  {
   "cell_type": "code",
   "execution_count": 73,
   "outputs": [
    {
     "name": "stdout",
     "output_type": "stream",
     "text": [
      "tensor([[0.6740, 0.2763, 0.5567, 0.5709],\n",
      "        [0.6944, 0.3596, 0.6712, 0.5475],\n",
      "        [0.6476, 0.2667, 0.5314, 0.5832],\n",
      "        [0.6853, 0.2338, 0.5912, 0.4547],\n",
      "        [0.6647, 0.3347, 0.5357, 0.4277],\n",
      "        [0.6926, 0.2133, 0.6680, 0.5423],\n",
      "        [0.8070, 0.3899, 0.4444, 0.5943],\n",
      "        [0.6305, 0.2282, 0.6232, 0.4363],\n",
      "        [0.5865, 0.3302, 0.5256, 0.5483],\n",
      "        [0.6824, 0.3599, 0.7126, 0.4550],\n",
      "        [0.6073, 0.4006, 0.5161, 0.5734],\n",
      "        [0.7023, 0.3265, 0.4458, 0.5135],\n",
      "        [0.6623, 0.3388, 0.7434, 0.3850],\n",
      "        [0.5267, 0.3705, 0.5753, 0.4722],\n",
      "        [0.6900, 0.3340, 0.8016, 0.4728],\n",
      "        [0.5240, 0.2815, 0.5878, 0.5150]], device='cuda:0',\n",
      "       grad_fn=<SigmoidBackward0>)\n"
     ]
    }
   ],
   "source": [
    "dummy = torch.rand(size=(16, 3, 224, 224), dtype=torch.float32).cuda()\n",
    "\n",
    "out = resnet18(dummy)\n",
    "\n",
    "print(out)"
   ],
   "metadata": {
    "collapsed": false,
    "ExecuteTime": {
     "end_time": "2023-10-18T13:07:39.991270300Z",
     "start_time": "2023-10-18T13:07:39.896656800Z"
    }
   }
  },
  {
   "cell_type": "code",
   "metadata": {
    "id": "K9MTYanoMZ8H",
    "ExecuteTime": {
     "end_time": "2023-10-18T13:10:39.600984500Z",
     "start_time": "2023-10-18T13:10:39.533752Z"
    }
   },
   "source": [
    "def bb_intersection_over_union(boxA, boxB):\n",
    "\t# determine the (x, y)-coordinates of the intersection rectangle\n",
    "  # import pdb; pdb.set_trace()\n",
    "  xA = max(boxA[0], boxB[0])\n",
    "  yA = max(boxA[1], boxB[1])\n",
    "  xB = min(boxA[2], boxB[2])\n",
    "  yB = min(boxA[3], boxB[3])\n",
    "\t# compute the area of intersection rectangle\n",
    "  interArea = max(0, xB - xA + 1) * max(0, yB - yA + 1)\n",
    "  # compute the area of both the prediction and ground-truth\n",
    "  # rectangles\n",
    "  boxAArea = (boxA[2] - boxA[0] + 1) * (boxA[3] - boxA[1] + 1)\n",
    "  boxBArea = (boxB[2] - boxB[0] + 1) * (boxB[3] - boxB[1] + 1)\n",
    "  # compute the intersection over union by taking the intersection\n",
    "  # area and dividing it by the sum of prediction + ground-truth\n",
    "  # areas - the interesection area\n",
    "  iou = interArea / float(boxAArea + boxBArea - interArea)\n",
    "  # return the intersection over union value\n",
    "  return iou\n",
    "\n",
    "def train_fn(epochs: int, train_loader: DataLoader, test_loader: DataLoader, \n",
    "             net: torch.nn.Module, loss_fn: torch.nn.Module, optimizer: optim.Optimizer):\n",
    "  # Iteram prin numarul de epoci\n",
    "  for e in range(epochs):\n",
    "    train_loss = 0.0\n",
    "    valid_loss = 0.0\n",
    "\n",
    "    # Iteram prin fiecare exemplu din dataset\n",
    "    net.train()\n",
    "    for idx, (images, labels, _) in enumerate(train_loader):\n",
    "\n",
    "      images = images.cuda()\n",
    "      # Aplicam reteaua neurala pe imaginile de intrare\n",
    "      out = net(images)\n",
    "      # Aplicam functia cost pe iesirea retelei neurale si pe adnotarile imaginilor \n",
    "      loss = loss_fn(out, labels.cuda())\n",
    "      # Aplicam algoritmul de back-propagation\n",
    "      loss.backward()\n",
    "      # Facem pasul de optimizare, pentru a aplica gradientii pe parametrii retelei\n",
    "      optimizer.step()\n",
    "      # Apelam functia zero_grad() pentru a uita gradientii de la iteratie curenta\n",
    "      optimizer.zero_grad()\n",
    "\n",
    "      train_loss += loss.item()*images.size(0)\n",
    "\n",
    "    \n",
    "    # Caluculul acuratetii\n",
    "    count = len(test_loader)\n",
    "    IOU_list = []\n",
    "    net.eval()\n",
    "\n",
    "    for test_image, box_gt, _ in test_loader:\n",
    "      test_image = test_image.cuda()\n",
    "      bbox_pred = net(test_image)\n",
    "\n",
    "      loss = loss_fn(bbox_pred, box_gt.cuda())\n",
    "\n",
    "      bbox_pred = bbox_pred.detach().cpu().numpy()\n",
    "\n",
    "      IOU_list.append(bb_intersection_over_union(bbox_pred[0], box_gt[0]))\n",
    "\n",
    "      valid_loss += loss.item()*test_image.size(0)\n",
    "\n",
    "    train_loss = train_loss/len(train_loader.sampler)\n",
    "    valid_loss = valid_loss/len(valid_loader.sampler)\n",
    "\n",
    "    print(f\"Average train loss : {train_loss}\")\n",
    "    print(f\"Average valid loss : {valid_loss}\")\n",
    "\n",
    "    IOU_list = np.array(IOU_list)\n",
    "    IOU_list_50 = (IOU_list > 0.5).sum()\n",
    "    IOU_list_75 = (IOU_list > 0.75).sum()\n",
    "    IOU_list_90 = (IOU_list > 0.90).sum()\n",
    "\n",
    "    print(\"Acuratetea IOU 50% la finalul epocii {} este {:.2f}%\".format(e, (IOU_list_50 / count)))\n",
    "    print(\"Acuratetea IOU 75% la finalul epocii {} este {:.2f}%\".format(e, (IOU_list_75 / count)))\n",
    "    print(\"Acuratetea IOU 90% la finalul epocii {} este {:.2f}%\".format(e, (IOU_list_90 / count)))\n"
   ],
   "execution_count": 80,
   "outputs": []
  },
  {
   "cell_type": "code",
   "execution_count": null,
   "outputs": [],
   "source": [
    "import torch.optim as optim\n",
    "\n",
    "# Definiti numarul de epoci\n",
    "epochs = 50\n",
    "\n",
    "# Definiti reteaua\n",
    "# network = None\n",
    "\n",
    "# Definiti optimizatorul\n",
    "optimizer = optim.SGD(resnet18.parameters(), lr=0.001)\n",
    "\n",
    "# Dupa definirea optimizatorului si dupa fiecare iteratie trebuie apelata functia zero_grad().\n",
    "# Aceasta face toti gradientii zero.\n",
    "# Completati codul pentru a face gradientii zero aici\n",
    "optimizer.zero_grad()\n",
    "\n",
    "# Definiti functia cost pentru pentru regressie\n",
    "loss_fn = nn.MSELoss()\n",
    "## Definirea functiei de antrenare"
   ],
   "metadata": {
    "collapsed": false
   }
  },
  {
   "cell_type": "code",
   "metadata": {
    "id": "ZqUwOWmDMpqQ",
    "ExecuteTime": {
     "end_time": "2023-10-18T13:15:15.744769600Z",
     "start_time": "2023-10-18T13:10:39.544778600Z"
    }
   },
   "source": [
    "train_fn(epochs, train_loader, valid_loader, resnet18, loss_fn, optimizer)"
   ],
   "execution_count": 81,
   "outputs": [
    {
     "name": "stdout",
     "output_type": "stream",
     "text": [
      "Average train loss : 0.01064912666364637\n",
      "Average valid loss : 0.009706081839794933\n",
      "Acuratetea IOU 50% la finalul epocii 0 este 1.00%\n",
      "Acuratetea IOU 75% la finalul epocii 0 este 0.85%\n",
      "Acuratetea IOU 90% la finalul epocii 0 este 0.12%\n",
      "Average train loss : 0.010443224014822769\n",
      "Average valid loss : 0.009685368758154154\n",
      "Acuratetea IOU 50% la finalul epocii 1 este 1.00%\n",
      "Acuratetea IOU 75% la finalul epocii 1 este 0.85%\n",
      "Acuratetea IOU 90% la finalul epocii 1 este 0.12%\n",
      "Average train loss : 0.010605826190421505\n",
      "Average valid loss : 0.00992193608362868\n",
      "Acuratetea IOU 50% la finalul epocii 2 este 1.00%\n",
      "Acuratetea IOU 75% la finalul epocii 2 este 0.83%\n",
      "Acuratetea IOU 90% la finalul epocii 2 este 0.11%\n",
      "Average train loss : 0.010542856504716886\n",
      "Average valid loss : 0.009750800833292791\n",
      "Acuratetea IOU 50% la finalul epocii 3 este 1.00%\n",
      "Acuratetea IOU 75% la finalul epocii 3 este 0.83%\n",
      "Acuratetea IOU 90% la finalul epocii 3 este 0.11%\n",
      "Average train loss : 0.010458600470825793\n",
      "Average valid loss : 0.009814856547058702\n",
      "Acuratetea IOU 50% la finalul epocii 4 este 1.00%\n",
      "Acuratetea IOU 75% la finalul epocii 4 este 0.85%\n",
      "Acuratetea IOU 90% la finalul epocii 4 este 0.11%\n",
      "Average train loss : 0.010243387878059394\n",
      "Average valid loss : 0.009905397902710118\n",
      "Acuratetea IOU 50% la finalul epocii 5 este 1.00%\n",
      "Acuratetea IOU 75% la finalul epocii 5 este 0.83%\n",
      "Acuratetea IOU 90% la finalul epocii 5 este 0.14%\n",
      "Average train loss : 0.010290767770832179\n",
      "Average valid loss : 0.0095214526863856\n",
      "Acuratetea IOU 50% la finalul epocii 6 este 1.00%\n",
      "Acuratetea IOU 75% la finalul epocii 6 este 0.85%\n",
      "Acuratetea IOU 90% la finalul epocii 6 este 0.12%\n",
      "Average train loss : 0.010434089386195102\n",
      "Average valid loss : 0.009696854478736187\n",
      "Acuratetea IOU 50% la finalul epocii 7 este 1.00%\n",
      "Acuratetea IOU 75% la finalul epocii 7 este 0.84%\n",
      "Acuratetea IOU 90% la finalul epocii 7 este 0.12%\n",
      "Average train loss : 0.010204202682765388\n",
      "Average valid loss : 0.009513975985505062\n",
      "Acuratetea IOU 50% la finalul epocii 8 este 1.00%\n",
      "Acuratetea IOU 75% la finalul epocii 8 este 0.85%\n",
      "Acuratetea IOU 90% la finalul epocii 8 este 0.12%\n",
      "Average train loss : 0.01015484727741707\n",
      "Average valid loss : 0.009874567522577612\n",
      "Acuratetea IOU 50% la finalul epocii 9 este 1.00%\n",
      "Acuratetea IOU 75% la finalul epocii 9 este 0.83%\n",
      "Acuratetea IOU 90% la finalul epocii 9 este 0.12%\n",
      "Average train loss : 0.010269868059487885\n",
      "Average valid loss : 0.009728530487538793\n",
      "Acuratetea IOU 50% la finalul epocii 10 este 1.00%\n",
      "Acuratetea IOU 75% la finalul epocii 10 este 0.85%\n",
      "Acuratetea IOU 90% la finalul epocii 10 este 0.14%\n",
      "Average train loss : 0.010157314045404\n",
      "Average valid loss : 0.0095765730980525\n",
      "Acuratetea IOU 50% la finalul epocii 11 este 1.00%\n",
      "Acuratetea IOU 75% la finalul epocii 11 este 0.86%\n",
      "Acuratetea IOU 90% la finalul epocii 11 este 0.13%\n",
      "Average train loss : 0.010147355807324251\n",
      "Average valid loss : 0.009352122335460282\n",
      "Acuratetea IOU 50% la finalul epocii 12 este 1.00%\n",
      "Acuratetea IOU 75% la finalul epocii 12 este 0.85%\n",
      "Acuratetea IOU 90% la finalul epocii 12 este 0.14%\n",
      "Average train loss : 0.010100283418540601\n",
      "Average valid loss : 0.00965436306488401\n",
      "Acuratetea IOU 50% la finalul epocii 13 este 1.00%\n",
      "Acuratetea IOU 75% la finalul epocii 13 este 0.83%\n",
      "Acuratetea IOU 90% la finalul epocii 13 este 0.12%\n",
      "Average train loss : 0.010058225778044848\n",
      "Average valid loss : 0.009480308299923005\n",
      "Acuratetea IOU 50% la finalul epocii 14 este 1.00%\n",
      "Acuratetea IOU 75% la finalul epocii 14 este 0.85%\n",
      "Acuratetea IOU 90% la finalul epocii 14 este 0.10%\n",
      "Average train loss : 0.010016618927241002\n",
      "Average valid loss : 0.009613159105558426\n",
      "Acuratetea IOU 50% la finalul epocii 15 este 1.00%\n",
      "Acuratetea IOU 75% la finalul epocii 15 este 0.85%\n",
      "Acuratetea IOU 90% la finalul epocii 15 este 0.12%\n",
      "Average train loss : 0.009991658112359426\n",
      "Average valid loss : 0.009537102320993855\n",
      "Acuratetea IOU 50% la finalul epocii 16 este 1.00%\n",
      "Acuratetea IOU 75% la finalul epocii 16 este 0.85%\n",
      "Acuratetea IOU 90% la finalul epocii 16 este 0.12%\n",
      "Average train loss : 0.009978273095040725\n",
      "Average valid loss : 0.009406387036506203\n",
      "Acuratetea IOU 50% la finalul epocii 17 este 1.00%\n",
      "Acuratetea IOU 75% la finalul epocii 17 este 0.85%\n",
      "Acuratetea IOU 90% la finalul epocii 17 este 0.13%\n",
      "Average train loss : 0.0099690401157926\n",
      "Average valid loss : 0.009608199238047947\n",
      "Acuratetea IOU 50% la finalul epocii 18 este 1.00%\n",
      "Acuratetea IOU 75% la finalul epocii 18 este 0.85%\n",
      "Acuratetea IOU 90% la finalul epocii 18 este 0.12%\n",
      "Average train loss : 0.00997370699292453\n",
      "Average valid loss : 0.009223953153802237\n",
      "Acuratetea IOU 50% la finalul epocii 19 este 1.00%\n",
      "Acuratetea IOU 75% la finalul epocii 19 este 0.85%\n",
      "Acuratetea IOU 90% la finalul epocii 19 este 0.14%\n",
      "Average train loss : 0.009858047412264915\n",
      "Average valid loss : 0.009492335145195183\n",
      "Acuratetea IOU 50% la finalul epocii 20 este 1.00%\n",
      "Acuratetea IOU 75% la finalul epocii 20 este 0.85%\n",
      "Acuratetea IOU 90% la finalul epocii 20 este 0.12%\n",
      "Average train loss : 0.009637303290661996\n",
      "Average valid loss : 0.009454351895631893\n",
      "Acuratetea IOU 50% la finalul epocii 21 este 1.00%\n",
      "Acuratetea IOU 75% la finalul epocii 21 este 0.85%\n",
      "Acuratetea IOU 90% la finalul epocii 21 este 0.13%\n",
      "Average train loss : 0.009898367929198439\n",
      "Average valid loss : 0.009484657730354229\n",
      "Acuratetea IOU 50% la finalul epocii 22 este 1.00%\n",
      "Acuratetea IOU 75% la finalul epocii 22 este 0.86%\n",
      "Acuratetea IOU 90% la finalul epocii 22 este 0.11%\n",
      "Average train loss : 0.009796549467537453\n",
      "Average valid loss : 0.009449904929675136\n",
      "Acuratetea IOU 50% la finalul epocii 23 este 1.00%\n",
      "Acuratetea IOU 75% la finalul epocii 23 este 0.87%\n",
      "Acuratetea IOU 90% la finalul epocii 23 este 0.12%\n",
      "Average train loss : 0.009844823617231909\n",
      "Average valid loss : 0.009518647003763666\n",
      "Acuratetea IOU 50% la finalul epocii 24 este 1.00%\n",
      "Acuratetea IOU 75% la finalul epocii 24 este 0.85%\n",
      "Acuratetea IOU 90% la finalul epocii 24 este 0.12%\n",
      "Average train loss : 0.00970696552937466\n",
      "Average valid loss : 0.009199134385805033\n",
      "Acuratetea IOU 50% la finalul epocii 25 este 1.00%\n",
      "Acuratetea IOU 75% la finalul epocii 25 este 0.85%\n",
      "Acuratetea IOU 90% la finalul epocii 25 este 0.13%\n",
      "Average train loss : 0.009911168120288975\n",
      "Average valid loss : 0.009236521572145447\n",
      "Acuratetea IOU 50% la finalul epocii 26 este 1.00%\n",
      "Acuratetea IOU 75% la finalul epocii 26 este 0.85%\n",
      "Acuratetea IOU 90% la finalul epocii 26 este 0.12%\n",
      "Average train loss : 0.009630739511478515\n",
      "Average valid loss : 0.009161999918433139\n",
      "Acuratetea IOU 50% la finalul epocii 27 este 1.00%\n",
      "Acuratetea IOU 75% la finalul epocii 27 este 0.85%\n",
      "Acuratetea IOU 90% la finalul epocii 27 este 0.14%\n",
      "Average train loss : 0.009776988963562029\n",
      "Average valid loss : 0.009179564293946087\n",
      "Acuratetea IOU 50% la finalul epocii 28 este 1.00%\n",
      "Acuratetea IOU 75% la finalul epocii 28 este 0.85%\n",
      "Acuratetea IOU 90% la finalul epocii 28 este 0.12%\n",
      "Average train loss : 0.00968825475130447\n",
      "Average valid loss : 0.009262095782711791\n",
      "Acuratetea IOU 50% la finalul epocii 29 este 1.00%\n",
      "Acuratetea IOU 75% la finalul epocii 29 este 0.85%\n",
      "Acuratetea IOU 90% la finalul epocii 29 este 0.13%\n",
      "Average train loss : 0.009490380056261544\n",
      "Average valid loss : 0.009192575992933093\n",
      "Acuratetea IOU 50% la finalul epocii 30 este 1.00%\n",
      "Acuratetea IOU 75% la finalul epocii 30 este 0.85%\n",
      "Acuratetea IOU 90% la finalul epocii 30 este 0.14%\n",
      "Average train loss : 0.009591578860722837\n",
      "Average valid loss : 0.009235543312065097\n",
      "Acuratetea IOU 50% la finalul epocii 31 este 1.00%\n",
      "Acuratetea IOU 75% la finalul epocii 31 este 0.87%\n",
      "Acuratetea IOU 90% la finalul epocii 31 este 0.10%\n",
      "Average train loss : 0.009493139616790273\n",
      "Average valid loss : 0.009293689543331615\n",
      "Acuratetea IOU 50% la finalul epocii 32 este 1.00%\n",
      "Acuratetea IOU 75% la finalul epocii 32 este 0.85%\n",
      "Acuratetea IOU 90% la finalul epocii 32 este 0.14%\n",
      "Average train loss : 0.00948573826324372\n",
      "Average valid loss : 0.009209777823747977\n",
      "Acuratetea IOU 50% la finalul epocii 33 este 1.00%\n",
      "Acuratetea IOU 75% la finalul epocii 33 este 0.85%\n",
      "Acuratetea IOU 90% la finalul epocii 33 este 0.12%\n",
      "Average train loss : 0.009435206735457377\n",
      "Average valid loss : 0.009147580843192473\n",
      "Acuratetea IOU 50% la finalul epocii 34 este 1.00%\n",
      "Acuratetea IOU 75% la finalul epocii 34 este 0.88%\n",
      "Acuratetea IOU 90% la finalul epocii 34 este 0.13%\n",
      "Average train loss : 0.009425879416681786\n",
      "Average valid loss : 0.009107375486968926\n",
      "Acuratetea IOU 50% la finalul epocii 35 este 1.00%\n",
      "Acuratetea IOU 75% la finalul epocii 35 este 0.85%\n",
      "Acuratetea IOU 90% la finalul epocii 35 este 0.14%\n",
      "Average train loss : 0.00931783966601841\n",
      "Average valid loss : 0.009044033080297394\n",
      "Acuratetea IOU 50% la finalul epocii 36 este 1.00%\n",
      "Acuratetea IOU 75% la finalul epocii 36 este 0.85%\n",
      "Acuratetea IOU 90% la finalul epocii 36 este 0.14%\n",
      "Average train loss : 0.009385477455835494\n",
      "Average valid loss : 0.008988404335064438\n",
      "Acuratetea IOU 50% la finalul epocii 37 este 1.00%\n",
      "Acuratetea IOU 75% la finalul epocii 37 este 0.87%\n",
      "Acuratetea IOU 90% la finalul epocii 37 este 0.12%\n",
      "Average train loss : 0.009339336281218542\n",
      "Average valid loss : 0.009113025901367817\n",
      "Acuratetea IOU 50% la finalul epocii 38 este 1.00%\n",
      "Acuratetea IOU 75% la finalul epocii 38 este 0.86%\n",
      "Acuratetea IOU 90% la finalul epocii 38 este 0.16%\n",
      "Average train loss : 0.009231709195153108\n",
      "Average valid loss : 0.009121188912407282\n",
      "Acuratetea IOU 50% la finalul epocii 39 este 1.00%\n",
      "Acuratetea IOU 75% la finalul epocii 39 este 0.85%\n",
      "Acuratetea IOU 90% la finalul epocii 39 este 0.13%\n",
      "Average train loss : 0.009228031978838973\n",
      "Average valid loss : 0.009068100256020747\n",
      "Acuratetea IOU 50% la finalul epocii 40 este 1.00%\n",
      "Acuratetea IOU 75% la finalul epocii 40 este 0.86%\n",
      "Acuratetea IOU 90% la finalul epocii 40 este 0.14%\n",
      "Average train loss : 0.009389182227471518\n",
      "Average valid loss : 0.009042715808997551\n",
      "Acuratetea IOU 50% la finalul epocii 41 este 1.00%\n",
      "Acuratetea IOU 75% la finalul epocii 41 este 0.85%\n",
      "Acuratetea IOU 90% la finalul epocii 41 este 0.12%\n",
      "Average train loss : 0.009238294187795234\n",
      "Average valid loss : 0.009068191635985082\n",
      "Acuratetea IOU 50% la finalul epocii 42 este 1.00%\n",
      "Acuratetea IOU 75% la finalul epocii 42 este 0.87%\n",
      "Acuratetea IOU 90% la finalul epocii 42 este 0.13%\n",
      "Average train loss : 0.009283145524995037\n",
      "Average valid loss : 0.009009015612617886\n",
      "Acuratetea IOU 50% la finalul epocii 43 este 1.00%\n",
      "Acuratetea IOU 75% la finalul epocii 43 este 0.85%\n",
      "Acuratetea IOU 90% la finalul epocii 43 este 0.12%\n",
      "Average train loss : 0.009150479890642658\n",
      "Average valid loss : 0.008940535757877418\n",
      "Acuratetea IOU 50% la finalul epocii 44 este 1.00%\n",
      "Acuratetea IOU 75% la finalul epocii 44 este 0.86%\n",
      "Acuratetea IOU 90% la finalul epocii 44 este 0.14%\n",
      "Average train loss : 0.009273225833321847\n",
      "Average valid loss : 0.009039956078898589\n",
      "Acuratetea IOU 50% la finalul epocii 45 este 1.00%\n",
      "Acuratetea IOU 75% la finalul epocii 45 este 0.86%\n",
      "Acuratetea IOU 90% la finalul epocii 45 este 0.14%\n",
      "Average train loss : 0.0092491235672718\n",
      "Average valid loss : 0.008897317232670806\n",
      "Acuratetea IOU 50% la finalul epocii 46 este 1.00%\n",
      "Acuratetea IOU 75% la finalul epocii 46 este 0.87%\n",
      "Acuratetea IOU 90% la finalul epocii 46 este 0.12%\n",
      "Average train loss : 0.009080952353696659\n",
      "Average valid loss : 0.009017828839811651\n",
      "Acuratetea IOU 50% la finalul epocii 47 este 1.00%\n",
      "Acuratetea IOU 75% la finalul epocii 47 este 0.85%\n",
      "Acuratetea IOU 90% la finalul epocii 47 este 0.14%\n",
      "Average train loss : 0.009029632064676473\n",
      "Average valid loss : 0.008918959910867367\n",
      "Acuratetea IOU 50% la finalul epocii 48 este 1.00%\n",
      "Acuratetea IOU 75% la finalul epocii 48 este 0.88%\n",
      "Acuratetea IOU 90% la finalul epocii 48 este 0.14%\n",
      "Average train loss : 0.008985958416901883\n",
      "Average valid loss : 0.009096919348444822\n",
      "Acuratetea IOU 50% la finalul epocii 49 este 1.00%\n",
      "Acuratetea IOU 75% la finalul epocii 49 este 0.86%\n",
      "Acuratetea IOU 90% la finalul epocii 49 este 0.12%\n"
     ]
    }
   ]
  },
  {
   "cell_type": "markdown",
   "metadata": {
    "id": "PMOQhLY5Folz"
   },
   "source": [
    "## Augmentare date\n",
    "\n",
    "O metoda de imbunatatire a performantei modelului este augmentarea setului de date. Aceste augmentari trebuie sa tina cont de natura taskului si de natura etichetelor.\n",
    "\n",
    "### Cerinta\n",
    "\n",
    "(3p) Modificati Dataset-ul precedent astfel incat sa augmenteze datele de antrenare cu o probabilitate aleasa de voi. Cum afecteaza acest lucru performanta modelului?\n",
    "\n",
    "### Bonus\n",
    "(2p) Dataloaderul intoarce si clasa fiecarui obiect de detectat (litera corespunzatoare fiecarui semn din limbajul Sign Language). Creati o arhitectura care prezice si acesta clasa, pe langa regresia pe box. Antrenati reteaua. "
   ]
  },
  {
   "cell_type": "code",
   "metadata": {
    "id": "oLiuxyDZhVNG",
    "ExecuteTime": {
     "end_time": "2023-10-18T13:15:15.757793600Z",
     "start_time": "2023-10-18T13:15:15.738256Z"
    }
   },
   "source": [],
   "execution_count": 81,
   "outputs": []
  }
 ]
}
