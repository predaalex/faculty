{
 "cells": [
  {
   "cell_type": "code",
   "id": "initial_id",
   "metadata": {
    "collapsed": true,
    "ExecuteTime": {
     "end_time": "2025-01-29T09:44:00.770469Z",
     "start_time": "2025-01-29T09:44:00.478697Z"
    }
   },
   "source": [
    "import time\n",
    "\n",
    "import kagglehub\n",
    "\n",
    "# Download latest version\n",
    "path = kagglehub.dataset_download(\"melzohbi/metaphor-detection-vua-wsd-augmented\")\n",
    "\n",
    "print(\"Path to dataset files:\", path)"
   ],
   "outputs": [
    {
     "name": "stdout",
     "output_type": "stream",
     "text": [
      "Warning: Looks like you're using an outdated `kagglehub` version, please consider updating (latest version: 0.3.6)\n",
      "Path to dataset files: C:\\Users\\allex\\.cache\\kagglehub\\datasets\\melzohbi\\metaphor-detection-vua-wsd-augmented\\versions\\1\n"
     ]
    }
   ],
   "execution_count": 48
  },
  {
   "metadata": {
    "ExecuteTime": {
     "end_time": "2025-01-29T09:44:01.034592Z",
     "start_time": "2025-01-29T09:44:00.771471Z"
    }
   },
   "cell_type": "code",
   "source": [
    "import os\n",
    "import pandas as pd\n",
    "\n",
    "train_df = pd.read_csv(os.path.join(path, \"data/VUA20/train.tsv\"), sep='\\t')\n",
    "test_df = pd.read_csv(os.path.join(path, \"data/VUA20/test.tsv\"), sep='\\t')"
   ],
   "id": "9b476223ceb3b57b",
   "outputs": [],
   "execution_count": 49
  },
  {
   "metadata": {},
   "cell_type": "markdown",
   "source": "# get only 617 elements because testing would take too long with the whole dataset",
   "id": "e41b9a691407f6b"
  },
  {
   "metadata": {
    "ExecuteTime": {
     "end_time": "2025-01-29T09:44:01.037439Z",
     "start_time": "2025-01-29T09:44:01.034912Z"
    }
   },
   "cell_type": "code",
   "source": "tmp_train_df = train_df[:100]",
   "id": "9511859875a322f9",
   "outputs": [],
   "execution_count": 50
  },
  {
   "metadata": {
    "ExecuteTime": {
     "end_time": "2025-01-29T09:44:01.043908Z",
     "start_time": "2025-01-29T09:44:01.037439Z"
    }
   },
   "cell_type": "code",
   "source": "tmp_train_df",
   "id": "86fd0218c44a493b",
   "outputs": [
    {
     "data": {
      "text/plain": [
       "               index  label  \\\n",
       "0   a1e-fragment01 1      0   \n",
       "1   a1e-fragment01 1      0   \n",
       "2   a1e-fragment01 1      0   \n",
       "3   a1e-fragment01 1      1   \n",
       "4   a1e-fragment01 1      0   \n",
       "..               ...    ...   \n",
       "95  a1e-fragment01 5      0   \n",
       "96  a1e-fragment01 5      1   \n",
       "97  a1e-fragment01 5      0   \n",
       "98  a1e-fragment01 5      0   \n",
       "99  a1e-fragment01 5      0   \n",
       "\n",
       "                                             sentence    POS FGPOS  w_index  \\\n",
       "0   Latest corporate unbundler reveals laid-back a...    ADJ   JJS        0   \n",
       "1   Latest corporate unbundler reveals laid-back a...    ADJ    JJ        1   \n",
       "2   Latest corporate unbundler reveals laid-back a...  PROPN   NNP        2   \n",
       "3   Latest corporate unbundler reveals laid-back a...   VERB   VBZ        3   \n",
       "4   Latest corporate unbundler reveals laid-back a...   VERB   VBN        4   \n",
       "..                                                ...    ...   ...      ...   \n",
       "95  The 63-year-old head of Pembridge Investments ...    ADP    IN       31   \n",
       "96  The 63-year-old head of Pembridge Investments ...   NOUN    NN       32   \n",
       "97  The 63-year-old head of Pembridge Investments ...    DET    DT       34   \n",
       "98  The 63-year-old head of Pembridge Investments ...    ADJ   JJR       35   \n",
       "99  The 63-year-old head of Pembridge Investments ...    ADJ    JJ       36   \n",
       "\n",
       "          target                                         word_sense  \\\n",
       "0         Latest  up to the immediate present; most recent or mo...   \n",
       "1      corporate                   of or belonging to a corporation   \n",
       "2      unbundler                                          unbundler   \n",
       "3        reveals                                       make visible   \n",
       "4      laid-back                                          laid-back   \n",
       "..           ...                                                ...   \n",
       "95            at                                                 at   \n",
       "96  headquarters  (usually plural) the office that serves as the...   \n",
       "97           the                                                the   \n",
       "98          more  (comparative of `much' used with mass nouns) a...   \n",
       "99   inefficient            not producing desired results; wasteful   \n",
       "\n",
       "                                           definition  \n",
       "0                   Near the end of a period of time.  \n",
       "1                    Of or relating to a corporation.  \n",
       "2                                           unbundler  \n",
       "3   To uncover; to show and display that which was...  \n",
       "4                                           laid-back  \n",
       "..                                                ...  \n",
       "95                                                 at  \n",
       "96  The military installation from which troops ar...  \n",
       "97                                                the  \n",
       "98                                               more  \n",
       "99  Not efficient; not producing the effect intend...  \n",
       "\n",
       "[100 rows x 9 columns]"
      ],
      "text/html": [
       "<div>\n",
       "<style scoped>\n",
       "    .dataframe tbody tr th:only-of-type {\n",
       "        vertical-align: middle;\n",
       "    }\n",
       "\n",
       "    .dataframe tbody tr th {\n",
       "        vertical-align: top;\n",
       "    }\n",
       "\n",
       "    .dataframe thead th {\n",
       "        text-align: right;\n",
       "    }\n",
       "</style>\n",
       "<table border=\"1\" class=\"dataframe\">\n",
       "  <thead>\n",
       "    <tr style=\"text-align: right;\">\n",
       "      <th></th>\n",
       "      <th>index</th>\n",
       "      <th>label</th>\n",
       "      <th>sentence</th>\n",
       "      <th>POS</th>\n",
       "      <th>FGPOS</th>\n",
       "      <th>w_index</th>\n",
       "      <th>target</th>\n",
       "      <th>word_sense</th>\n",
       "      <th>definition</th>\n",
       "    </tr>\n",
       "  </thead>\n",
       "  <tbody>\n",
       "    <tr>\n",
       "      <th>0</th>\n",
       "      <td>a1e-fragment01 1</td>\n",
       "      <td>0</td>\n",
       "      <td>Latest corporate unbundler reveals laid-back a...</td>\n",
       "      <td>ADJ</td>\n",
       "      <td>JJS</td>\n",
       "      <td>0</td>\n",
       "      <td>Latest</td>\n",
       "      <td>up to the immediate present; most recent or mo...</td>\n",
       "      <td>Near the end of a period of time.</td>\n",
       "    </tr>\n",
       "    <tr>\n",
       "      <th>1</th>\n",
       "      <td>a1e-fragment01 1</td>\n",
       "      <td>0</td>\n",
       "      <td>Latest corporate unbundler reveals laid-back a...</td>\n",
       "      <td>ADJ</td>\n",
       "      <td>JJ</td>\n",
       "      <td>1</td>\n",
       "      <td>corporate</td>\n",
       "      <td>of or belonging to a corporation</td>\n",
       "      <td>Of or relating to a corporation.</td>\n",
       "    </tr>\n",
       "    <tr>\n",
       "      <th>2</th>\n",
       "      <td>a1e-fragment01 1</td>\n",
       "      <td>0</td>\n",
       "      <td>Latest corporate unbundler reveals laid-back a...</td>\n",
       "      <td>PROPN</td>\n",
       "      <td>NNP</td>\n",
       "      <td>2</td>\n",
       "      <td>unbundler</td>\n",
       "      <td>unbundler</td>\n",
       "      <td>unbundler</td>\n",
       "    </tr>\n",
       "    <tr>\n",
       "      <th>3</th>\n",
       "      <td>a1e-fragment01 1</td>\n",
       "      <td>1</td>\n",
       "      <td>Latest corporate unbundler reveals laid-back a...</td>\n",
       "      <td>VERB</td>\n",
       "      <td>VBZ</td>\n",
       "      <td>3</td>\n",
       "      <td>reveals</td>\n",
       "      <td>make visible</td>\n",
       "      <td>To uncover; to show and display that which was...</td>\n",
       "    </tr>\n",
       "    <tr>\n",
       "      <th>4</th>\n",
       "      <td>a1e-fragment01 1</td>\n",
       "      <td>0</td>\n",
       "      <td>Latest corporate unbundler reveals laid-back a...</td>\n",
       "      <td>VERB</td>\n",
       "      <td>VBN</td>\n",
       "      <td>4</td>\n",
       "      <td>laid-back</td>\n",
       "      <td>laid-back</td>\n",
       "      <td>laid-back</td>\n",
       "    </tr>\n",
       "    <tr>\n",
       "      <th>...</th>\n",
       "      <td>...</td>\n",
       "      <td>...</td>\n",
       "      <td>...</td>\n",
       "      <td>...</td>\n",
       "      <td>...</td>\n",
       "      <td>...</td>\n",
       "      <td>...</td>\n",
       "      <td>...</td>\n",
       "      <td>...</td>\n",
       "    </tr>\n",
       "    <tr>\n",
       "      <th>95</th>\n",
       "      <td>a1e-fragment01 5</td>\n",
       "      <td>0</td>\n",
       "      <td>The 63-year-old head of Pembridge Investments ...</td>\n",
       "      <td>ADP</td>\n",
       "      <td>IN</td>\n",
       "      <td>31</td>\n",
       "      <td>at</td>\n",
       "      <td>at</td>\n",
       "      <td>at</td>\n",
       "    </tr>\n",
       "    <tr>\n",
       "      <th>96</th>\n",
       "      <td>a1e-fragment01 5</td>\n",
       "      <td>1</td>\n",
       "      <td>The 63-year-old head of Pembridge Investments ...</td>\n",
       "      <td>NOUN</td>\n",
       "      <td>NN</td>\n",
       "      <td>32</td>\n",
       "      <td>headquarters</td>\n",
       "      <td>(usually plural) the office that serves as the...</td>\n",
       "      <td>The military installation from which troops ar...</td>\n",
       "    </tr>\n",
       "    <tr>\n",
       "      <th>97</th>\n",
       "      <td>a1e-fragment01 5</td>\n",
       "      <td>0</td>\n",
       "      <td>The 63-year-old head of Pembridge Investments ...</td>\n",
       "      <td>DET</td>\n",
       "      <td>DT</td>\n",
       "      <td>34</td>\n",
       "      <td>the</td>\n",
       "      <td>the</td>\n",
       "      <td>the</td>\n",
       "    </tr>\n",
       "    <tr>\n",
       "      <th>98</th>\n",
       "      <td>a1e-fragment01 5</td>\n",
       "      <td>0</td>\n",
       "      <td>The 63-year-old head of Pembridge Investments ...</td>\n",
       "      <td>ADJ</td>\n",
       "      <td>JJR</td>\n",
       "      <td>35</td>\n",
       "      <td>more</td>\n",
       "      <td>(comparative of `much' used with mass nouns) a...</td>\n",
       "      <td>more</td>\n",
       "    </tr>\n",
       "    <tr>\n",
       "      <th>99</th>\n",
       "      <td>a1e-fragment01 5</td>\n",
       "      <td>0</td>\n",
       "      <td>The 63-year-old head of Pembridge Investments ...</td>\n",
       "      <td>ADJ</td>\n",
       "      <td>JJ</td>\n",
       "      <td>36</td>\n",
       "      <td>inefficient</td>\n",
       "      <td>not producing desired results; wasteful</td>\n",
       "      <td>Not efficient; not producing the effect intend...</td>\n",
       "    </tr>\n",
       "  </tbody>\n",
       "</table>\n",
       "<p>100 rows × 9 columns</p>\n",
       "</div>"
      ]
     },
     "execution_count": 51,
     "metadata": {},
     "output_type": "execute_result"
    }
   ],
   "execution_count": 51
  },
  {
   "metadata": {},
   "cell_type": "markdown",
   "source": "# import the model using Ollama - I am using deepseek-r1 with 14B (using all VRAM resources)",
   "id": "1b7210a9f8d7cf03"
  },
  {
   "metadata": {},
   "cell_type": "markdown",
   "source": "# Create prompt for each row from dataset",
   "id": "a2cee03852a9b7c7"
  },
  {
   "metadata": {
    "ExecuteTime": {
     "end_time": "2025-01-29T09:44:01.048043Z",
     "start_time": "2025-01-29T09:44:01.043908Z"
    }
   },
   "cell_type": "code",
   "source": [
    "def create_prompt(row):\n",
    "    return (\n",
    "        f\"Sentence: {row['sentence']}\\n\"\n",
    "        f\"Target Word: {row['target']} (POS: {row['POS']}, Word Index: {row['w_index']}, Word Sense: {row['word_sense']}, definition: {row['definition']})\\n\"\n",
    "        \"Is the target word used metaphorically? Provide a yes or no answer without explanation.\"\n",
    "    )\n",
    "\n",
    "tmp_train_df.loc[:, 'prompt'] = tmp_train_df.apply(create_prompt, axis=1)"
   ],
   "id": "dd7ce3cfe063e745",
   "outputs": [
    {
     "name": "stderr",
     "output_type": "stream",
     "text": [
      "C:\\Users\\allex\\AppData\\Local\\Temp\\ipykernel_22960\\3510685946.py:8: SettingWithCopyWarning: \n",
      "A value is trying to be set on a copy of a slice from a DataFrame.\n",
      "Try using .loc[row_indexer,col_indexer] = value instead\n",
      "\n",
      "See the caveats in the documentation: https://pandas.pydata.org/pandas-docs/stable/user_guide/indexing.html#returning-a-view-versus-a-copy\n",
      "  tmp_train_df.loc[:, 'prompt'] = tmp_train_df.apply(create_prompt, axis=1)\n"
     ]
    }
   ],
   "execution_count": 52
  },
  {
   "metadata": {},
   "cell_type": "markdown",
   "source": "# Get predictions",
   "id": "ebc193720d30450a"
  },
  {
   "metadata": {
    "ExecuteTime": {
     "end_time": "2025-01-29T09:44:01.050678Z",
     "start_time": "2025-01-29T09:44:01.048043Z"
    }
   },
   "cell_type": "code",
   "source": "tmp_train_df['prediction'] = None",
   "id": "7cec507287219df0",
   "outputs": [
    {
     "name": "stderr",
     "output_type": "stream",
     "text": [
      "C:\\Users\\allex\\AppData\\Local\\Temp\\ipykernel_22960\\668391106.py:1: SettingWithCopyWarning: \n",
      "A value is trying to be set on a copy of a slice from a DataFrame.\n",
      "Try using .loc[row_indexer,col_indexer] = value instead\n",
      "\n",
      "See the caveats in the documentation: https://pandas.pydata.org/pandas-docs/stable/user_guide/indexing.html#returning-a-view-versus-a-copy\n",
      "  tmp_train_df['prediction'] = None\n"
     ]
    }
   ],
   "execution_count": 53
  },
  {
   "metadata": {
    "ExecuteTime": {
     "end_time": "2025-01-29T09:44:01.056828Z",
     "start_time": "2025-01-29T09:44:01.050678Z"
    }
   },
   "cell_type": "code",
   "source": "tmp_train_df",
   "id": "de4de409d8c61da0",
   "outputs": [
    {
     "data": {
      "text/plain": [
       "               index  label  \\\n",
       "0   a1e-fragment01 1      0   \n",
       "1   a1e-fragment01 1      0   \n",
       "2   a1e-fragment01 1      0   \n",
       "3   a1e-fragment01 1      1   \n",
       "4   a1e-fragment01 1      0   \n",
       "..               ...    ...   \n",
       "95  a1e-fragment01 5      0   \n",
       "96  a1e-fragment01 5      1   \n",
       "97  a1e-fragment01 5      0   \n",
       "98  a1e-fragment01 5      0   \n",
       "99  a1e-fragment01 5      0   \n",
       "\n",
       "                                             sentence    POS FGPOS  w_index  \\\n",
       "0   Latest corporate unbundler reveals laid-back a...    ADJ   JJS        0   \n",
       "1   Latest corporate unbundler reveals laid-back a...    ADJ    JJ        1   \n",
       "2   Latest corporate unbundler reveals laid-back a...  PROPN   NNP        2   \n",
       "3   Latest corporate unbundler reveals laid-back a...   VERB   VBZ        3   \n",
       "4   Latest corporate unbundler reveals laid-back a...   VERB   VBN        4   \n",
       "..                                                ...    ...   ...      ...   \n",
       "95  The 63-year-old head of Pembridge Investments ...    ADP    IN       31   \n",
       "96  The 63-year-old head of Pembridge Investments ...   NOUN    NN       32   \n",
       "97  The 63-year-old head of Pembridge Investments ...    DET    DT       34   \n",
       "98  The 63-year-old head of Pembridge Investments ...    ADJ   JJR       35   \n",
       "99  The 63-year-old head of Pembridge Investments ...    ADJ    JJ       36   \n",
       "\n",
       "          target                                         word_sense  \\\n",
       "0         Latest  up to the immediate present; most recent or mo...   \n",
       "1      corporate                   of or belonging to a corporation   \n",
       "2      unbundler                                          unbundler   \n",
       "3        reveals                                       make visible   \n",
       "4      laid-back                                          laid-back   \n",
       "..           ...                                                ...   \n",
       "95            at                                                 at   \n",
       "96  headquarters  (usually plural) the office that serves as the...   \n",
       "97           the                                                the   \n",
       "98          more  (comparative of `much' used with mass nouns) a...   \n",
       "99   inefficient            not producing desired results; wasteful   \n",
       "\n",
       "                                           definition  \\\n",
       "0                   Near the end of a period of time.   \n",
       "1                    Of or relating to a corporation.   \n",
       "2                                           unbundler   \n",
       "3   To uncover; to show and display that which was...   \n",
       "4                                           laid-back   \n",
       "..                                                ...   \n",
       "95                                                 at   \n",
       "96  The military installation from which troops ar...   \n",
       "97                                                the   \n",
       "98                                               more   \n",
       "99  Not efficient; not producing the effect intend...   \n",
       "\n",
       "                                               prompt prediction  \n",
       "0   Sentence: Latest corporate unbundler reveals l...       None  \n",
       "1   Sentence: Latest corporate unbundler reveals l...       None  \n",
       "2   Sentence: Latest corporate unbundler reveals l...       None  \n",
       "3   Sentence: Latest corporate unbundler reveals l...       None  \n",
       "4   Sentence: Latest corporate unbundler reveals l...       None  \n",
       "..                                                ...        ...  \n",
       "95  Sentence: The 63-year-old head of Pembridge In...       None  \n",
       "96  Sentence: The 63-year-old head of Pembridge In...       None  \n",
       "97  Sentence: The 63-year-old head of Pembridge In...       None  \n",
       "98  Sentence: The 63-year-old head of Pembridge In...       None  \n",
       "99  Sentence: The 63-year-old head of Pembridge In...       None  \n",
       "\n",
       "[100 rows x 11 columns]"
      ],
      "text/html": [
       "<div>\n",
       "<style scoped>\n",
       "    .dataframe tbody tr th:only-of-type {\n",
       "        vertical-align: middle;\n",
       "    }\n",
       "\n",
       "    .dataframe tbody tr th {\n",
       "        vertical-align: top;\n",
       "    }\n",
       "\n",
       "    .dataframe thead th {\n",
       "        text-align: right;\n",
       "    }\n",
       "</style>\n",
       "<table border=\"1\" class=\"dataframe\">\n",
       "  <thead>\n",
       "    <tr style=\"text-align: right;\">\n",
       "      <th></th>\n",
       "      <th>index</th>\n",
       "      <th>label</th>\n",
       "      <th>sentence</th>\n",
       "      <th>POS</th>\n",
       "      <th>FGPOS</th>\n",
       "      <th>w_index</th>\n",
       "      <th>target</th>\n",
       "      <th>word_sense</th>\n",
       "      <th>definition</th>\n",
       "      <th>prompt</th>\n",
       "      <th>prediction</th>\n",
       "    </tr>\n",
       "  </thead>\n",
       "  <tbody>\n",
       "    <tr>\n",
       "      <th>0</th>\n",
       "      <td>a1e-fragment01 1</td>\n",
       "      <td>0</td>\n",
       "      <td>Latest corporate unbundler reveals laid-back a...</td>\n",
       "      <td>ADJ</td>\n",
       "      <td>JJS</td>\n",
       "      <td>0</td>\n",
       "      <td>Latest</td>\n",
       "      <td>up to the immediate present; most recent or mo...</td>\n",
       "      <td>Near the end of a period of time.</td>\n",
       "      <td>Sentence: Latest corporate unbundler reveals l...</td>\n",
       "      <td>None</td>\n",
       "    </tr>\n",
       "    <tr>\n",
       "      <th>1</th>\n",
       "      <td>a1e-fragment01 1</td>\n",
       "      <td>0</td>\n",
       "      <td>Latest corporate unbundler reveals laid-back a...</td>\n",
       "      <td>ADJ</td>\n",
       "      <td>JJ</td>\n",
       "      <td>1</td>\n",
       "      <td>corporate</td>\n",
       "      <td>of or belonging to a corporation</td>\n",
       "      <td>Of or relating to a corporation.</td>\n",
       "      <td>Sentence: Latest corporate unbundler reveals l...</td>\n",
       "      <td>None</td>\n",
       "    </tr>\n",
       "    <tr>\n",
       "      <th>2</th>\n",
       "      <td>a1e-fragment01 1</td>\n",
       "      <td>0</td>\n",
       "      <td>Latest corporate unbundler reveals laid-back a...</td>\n",
       "      <td>PROPN</td>\n",
       "      <td>NNP</td>\n",
       "      <td>2</td>\n",
       "      <td>unbundler</td>\n",
       "      <td>unbundler</td>\n",
       "      <td>unbundler</td>\n",
       "      <td>Sentence: Latest corporate unbundler reveals l...</td>\n",
       "      <td>None</td>\n",
       "    </tr>\n",
       "    <tr>\n",
       "      <th>3</th>\n",
       "      <td>a1e-fragment01 1</td>\n",
       "      <td>1</td>\n",
       "      <td>Latest corporate unbundler reveals laid-back a...</td>\n",
       "      <td>VERB</td>\n",
       "      <td>VBZ</td>\n",
       "      <td>3</td>\n",
       "      <td>reveals</td>\n",
       "      <td>make visible</td>\n",
       "      <td>To uncover; to show and display that which was...</td>\n",
       "      <td>Sentence: Latest corporate unbundler reveals l...</td>\n",
       "      <td>None</td>\n",
       "    </tr>\n",
       "    <tr>\n",
       "      <th>4</th>\n",
       "      <td>a1e-fragment01 1</td>\n",
       "      <td>0</td>\n",
       "      <td>Latest corporate unbundler reveals laid-back a...</td>\n",
       "      <td>VERB</td>\n",
       "      <td>VBN</td>\n",
       "      <td>4</td>\n",
       "      <td>laid-back</td>\n",
       "      <td>laid-back</td>\n",
       "      <td>laid-back</td>\n",
       "      <td>Sentence: Latest corporate unbundler reveals l...</td>\n",
       "      <td>None</td>\n",
       "    </tr>\n",
       "    <tr>\n",
       "      <th>...</th>\n",
       "      <td>...</td>\n",
       "      <td>...</td>\n",
       "      <td>...</td>\n",
       "      <td>...</td>\n",
       "      <td>...</td>\n",
       "      <td>...</td>\n",
       "      <td>...</td>\n",
       "      <td>...</td>\n",
       "      <td>...</td>\n",
       "      <td>...</td>\n",
       "      <td>...</td>\n",
       "    </tr>\n",
       "    <tr>\n",
       "      <th>95</th>\n",
       "      <td>a1e-fragment01 5</td>\n",
       "      <td>0</td>\n",
       "      <td>The 63-year-old head of Pembridge Investments ...</td>\n",
       "      <td>ADP</td>\n",
       "      <td>IN</td>\n",
       "      <td>31</td>\n",
       "      <td>at</td>\n",
       "      <td>at</td>\n",
       "      <td>at</td>\n",
       "      <td>Sentence: The 63-year-old head of Pembridge In...</td>\n",
       "      <td>None</td>\n",
       "    </tr>\n",
       "    <tr>\n",
       "      <th>96</th>\n",
       "      <td>a1e-fragment01 5</td>\n",
       "      <td>1</td>\n",
       "      <td>The 63-year-old head of Pembridge Investments ...</td>\n",
       "      <td>NOUN</td>\n",
       "      <td>NN</td>\n",
       "      <td>32</td>\n",
       "      <td>headquarters</td>\n",
       "      <td>(usually plural) the office that serves as the...</td>\n",
       "      <td>The military installation from which troops ar...</td>\n",
       "      <td>Sentence: The 63-year-old head of Pembridge In...</td>\n",
       "      <td>None</td>\n",
       "    </tr>\n",
       "    <tr>\n",
       "      <th>97</th>\n",
       "      <td>a1e-fragment01 5</td>\n",
       "      <td>0</td>\n",
       "      <td>The 63-year-old head of Pembridge Investments ...</td>\n",
       "      <td>DET</td>\n",
       "      <td>DT</td>\n",
       "      <td>34</td>\n",
       "      <td>the</td>\n",
       "      <td>the</td>\n",
       "      <td>the</td>\n",
       "      <td>Sentence: The 63-year-old head of Pembridge In...</td>\n",
       "      <td>None</td>\n",
       "    </tr>\n",
       "    <tr>\n",
       "      <th>98</th>\n",
       "      <td>a1e-fragment01 5</td>\n",
       "      <td>0</td>\n",
       "      <td>The 63-year-old head of Pembridge Investments ...</td>\n",
       "      <td>ADJ</td>\n",
       "      <td>JJR</td>\n",
       "      <td>35</td>\n",
       "      <td>more</td>\n",
       "      <td>(comparative of `much' used with mass nouns) a...</td>\n",
       "      <td>more</td>\n",
       "      <td>Sentence: The 63-year-old head of Pembridge In...</td>\n",
       "      <td>None</td>\n",
       "    </tr>\n",
       "    <tr>\n",
       "      <th>99</th>\n",
       "      <td>a1e-fragment01 5</td>\n",
       "      <td>0</td>\n",
       "      <td>The 63-year-old head of Pembridge Investments ...</td>\n",
       "      <td>ADJ</td>\n",
       "      <td>JJ</td>\n",
       "      <td>36</td>\n",
       "      <td>inefficient</td>\n",
       "      <td>not producing desired results; wasteful</td>\n",
       "      <td>Not efficient; not producing the effect intend...</td>\n",
       "      <td>Sentence: The 63-year-old head of Pembridge In...</td>\n",
       "      <td>None</td>\n",
       "    </tr>\n",
       "  </tbody>\n",
       "</table>\n",
       "<p>100 rows × 11 columns</p>\n",
       "</div>"
      ]
     },
     "execution_count": 54,
     "metadata": {},
     "output_type": "execute_result"
    }
   ],
   "execution_count": 54
  },
  {
   "metadata": {
    "ExecuteTime": {
     "end_time": "2025-01-29T14:00:30.510772Z",
     "start_time": "2025-01-29T14:00:30.508530Z"
    }
   },
   "cell_type": "code",
   "source": [
    "model_name = \"deepseek-r1:14b\"\n",
    "# model_name = \"deepseek-r1:8b\"\n",
    "# model_name = \"deepseek-r1:7b\"\n",
    "# model_name = \"llama3.2:3b\""
   ],
   "id": "a00538c96ebd507f",
   "outputs": [],
   "execution_count": 81
  },
  {
   "metadata": {
    "ExecuteTime": {
     "end_time": "2025-01-29T14:00:30.696323Z",
     "start_time": "2025-01-29T14:00:30.693617Z"
    }
   },
   "cell_type": "code",
   "source": [
    "from ollama import chat\n",
    "\n",
    "def get_response_content(prompt):\n",
    "    stream = chat(\n",
    "        model= model_name,\n",
    "        messages = [\n",
    "            {\n",
    "                \"role\": \"system\",\n",
    "                \"content\": \"Act as a classification model. Answer the prompts with yes or no.\"\n",
    "            },\n",
    "            {\n",
    "                \"role\": \"user\",\n",
    "                \"content\": prompt\n",
    "            }\n",
    "        ],\n",
    "        stream = False,\n",
    "    )\n",
    "    # print(stream)\n",
    "    if \"llama\" in model_name:\n",
    "        return stream['message']['content'].strip()\n",
    "    return stream['message']['content'].split(\"</think>\")[1].strip()"
   ],
   "id": "fafa20b3d134791d",
   "outputs": [],
   "execution_count": 82
  },
  {
   "metadata": {
    "ExecuteTime": {
     "end_time": "2025-01-29T14:00:31.425137Z",
     "start_time": "2025-01-29T14:00:31.422392Z"
    }
   },
   "cell_type": "code",
   "source": [
    "prompt = tmp_train_df['prompt'][0]\n",
    "prompt"
   ],
   "id": "d854e526e9290a8a",
   "outputs": [
    {
     "data": {
      "text/plain": [
       "'Sentence: Latest corporate unbundler reveals laid-back approach : Roland Franklin , who is leading a 697m pound break-up bid for DRG , talks to Frank Kane\\nTarget Word: Latest (POS: ADJ, Word Index: 0, Word Sense: up to the immediate present; most recent or most up-to-date, definition: Near the end of a period of time.)\\nIs the target word used metaphorically? Provide a yes or no answer without explanation.'"
      ]
     },
     "execution_count": 83,
     "metadata": {},
     "output_type": "execute_result"
    }
   ],
   "execution_count": 83
  },
  {
   "metadata": {
    "ExecuteTime": {
     "end_time": "2025-01-29T14:03:18.660546Z",
     "start_time": "2025-01-29T14:03:03.725154Z"
    }
   },
   "cell_type": "code",
   "source": "get_response_content(prompt)",
   "id": "3a83d0c6dc7e86d5",
   "outputs": [
    {
     "data": {
      "text/plain": [
       "'No'"
      ]
     },
     "execution_count": 85,
     "metadata": {},
     "output_type": "execute_result"
    }
   ],
   "execution_count": 85
  },
  {
   "metadata": {
    "ExecuteTime": {
     "end_time": "2025-01-29T14:35:01.654225Z",
     "start_time": "2025-01-29T14:03:18.661057Z"
    }
   },
   "cell_type": "code",
   "source": [
    "from tqdm import tqdm\n",
    "import time  # Optional, for implementing a delay between retries if needed\n",
    "\n",
    "tqdm_progress_bar = tqdm(tmp_train_df.index[:])\n",
    "for row_idx in tqdm_progress_bar:\n",
    "    while True:  # Keep retrying until successful\n",
    "        try:\n",
    "            prompt = tmp_train_df.loc[row_idx, 'prompt']\n",
    "            prediction = get_response_content(prompt)\n",
    "            tmp_train_df.loc[row_idx, 'prediction'] = prediction\n",
    "            tqdm_progress_bar.update(1)\n",
    "            tqdm_progress_bar.set_description(prediction)\n",
    "            break  # Break out of the retry loop once successful\n",
    "        except Exception as e:\n",
    "            print(f\"Error processing row {row_idx}: {e}\")\n",
    "    \n",
    "    time.sleep(12)"
   ],
   "id": "96d30251655dbc7d",
   "outputs": [
    {
     "name": "stderr",
     "output_type": "stream",
     "text": [
      "No: 100%|██████████| 100/100 [31:42<00:00, 19.03s/it]\n"
     ]
    }
   ],
   "execution_count": 86
  },
  {
   "metadata": {},
   "cell_type": "markdown",
   "source": "# Convert Yes/No to labels",
   "id": "c072e6b240ff4252"
  },
  {
   "metadata": {
    "ExecuteTime": {
     "end_time": "2025-01-29T15:25:31.678647Z",
     "start_time": "2025-01-29T15:25:31.674552Z"
    }
   },
   "cell_type": "code",
   "source": "tmp_train_df['predictionIdx'] = None",
   "id": "6a395ed9a44f1f3d",
   "outputs": [
    {
     "name": "stderr",
     "output_type": "stream",
     "text": [
      "C:\\Users\\allex\\AppData\\Local\\Temp\\ipykernel_22960\\1122283481.py:1: SettingWithCopyWarning: \n",
      "A value is trying to be set on a copy of a slice from a DataFrame.\n",
      "Try using .loc[row_indexer,col_indexer] = value instead\n",
      "\n",
      "See the caveats in the documentation: https://pandas.pydata.org/pandas-docs/stable/user_guide/indexing.html#returning-a-view-versus-a-copy\n",
      "  tmp_train_df['predictionIdx'] = None\n"
     ]
    }
   ],
   "execution_count": 87
  },
  {
   "metadata": {
    "ExecuteTime": {
     "end_time": "2025-01-29T15:25:32.115746Z",
     "start_time": "2025-01-29T15:25:32.104146Z"
    }
   },
   "cell_type": "code",
   "source": [
    "for row_idx in tmp_train_df.index:\n",
    "    prediction = tmp_train_df.loc[row_idx, 'prediction']\n",
    "    \n",
    "    if prediction is None:\n",
    "        continue\n",
    "    # convert to 1 or 0\n",
    "    if \"yes\" in prediction.lower():\n",
    "        predictionIdx = 1\n",
    "    if \"no\" in prediction.lower():\n",
    "        predictionIdx = 0\n",
    "    tmp_train_df.loc[row_idx, 'predictionIdx'] = predictionIdx"
   ],
   "id": "1e49b1cd1501b166",
   "outputs": [],
   "execution_count": 88
  },
  {
   "metadata": {
    "ExecuteTime": {
     "end_time": "2025-01-29T15:25:32.266749Z",
     "start_time": "2025-01-29T15:25:32.258654Z"
    }
   },
   "cell_type": "code",
   "source": "tmp_train_df[['prompt', 'label', 'prediction']]",
   "id": "9acb10b795cb743",
   "outputs": [
    {
     "data": {
      "text/plain": [
       "                                               prompt  label prediction\n",
       "0   Sentence: Latest corporate unbundler reveals l...      0         No\n",
       "1   Sentence: Latest corporate unbundler reveals l...      0         No\n",
       "2   Sentence: Latest corporate unbundler reveals l...      0         No\n",
       "3   Sentence: Latest corporate unbundler reveals l...      1         No\n",
       "4   Sentence: Latest corporate unbundler reveals l...      0       Yes.\n",
       "..                                                ...    ...        ...\n",
       "95  Sentence: The 63-year-old head of Pembridge In...      0         No\n",
       "96  Sentence: The 63-year-old head of Pembridge In...      1         No\n",
       "97  Sentence: The 63-year-old head of Pembridge In...      0         no\n",
       "98  Sentence: The 63-year-old head of Pembridge In...      0         no\n",
       "99  Sentence: The 63-year-old head of Pembridge In...      0         No\n",
       "\n",
       "[100 rows x 3 columns]"
      ],
      "text/html": [
       "<div>\n",
       "<style scoped>\n",
       "    .dataframe tbody tr th:only-of-type {\n",
       "        vertical-align: middle;\n",
       "    }\n",
       "\n",
       "    .dataframe tbody tr th {\n",
       "        vertical-align: top;\n",
       "    }\n",
       "\n",
       "    .dataframe thead th {\n",
       "        text-align: right;\n",
       "    }\n",
       "</style>\n",
       "<table border=\"1\" class=\"dataframe\">\n",
       "  <thead>\n",
       "    <tr style=\"text-align: right;\">\n",
       "      <th></th>\n",
       "      <th>prompt</th>\n",
       "      <th>label</th>\n",
       "      <th>prediction</th>\n",
       "    </tr>\n",
       "  </thead>\n",
       "  <tbody>\n",
       "    <tr>\n",
       "      <th>0</th>\n",
       "      <td>Sentence: Latest corporate unbundler reveals l...</td>\n",
       "      <td>0</td>\n",
       "      <td>No</td>\n",
       "    </tr>\n",
       "    <tr>\n",
       "      <th>1</th>\n",
       "      <td>Sentence: Latest corporate unbundler reveals l...</td>\n",
       "      <td>0</td>\n",
       "      <td>No</td>\n",
       "    </tr>\n",
       "    <tr>\n",
       "      <th>2</th>\n",
       "      <td>Sentence: Latest corporate unbundler reveals l...</td>\n",
       "      <td>0</td>\n",
       "      <td>No</td>\n",
       "    </tr>\n",
       "    <tr>\n",
       "      <th>3</th>\n",
       "      <td>Sentence: Latest corporate unbundler reveals l...</td>\n",
       "      <td>1</td>\n",
       "      <td>No</td>\n",
       "    </tr>\n",
       "    <tr>\n",
       "      <th>4</th>\n",
       "      <td>Sentence: Latest corporate unbundler reveals l...</td>\n",
       "      <td>0</td>\n",
       "      <td>Yes.</td>\n",
       "    </tr>\n",
       "    <tr>\n",
       "      <th>...</th>\n",
       "      <td>...</td>\n",
       "      <td>...</td>\n",
       "      <td>...</td>\n",
       "    </tr>\n",
       "    <tr>\n",
       "      <th>95</th>\n",
       "      <td>Sentence: The 63-year-old head of Pembridge In...</td>\n",
       "      <td>0</td>\n",
       "      <td>No</td>\n",
       "    </tr>\n",
       "    <tr>\n",
       "      <th>96</th>\n",
       "      <td>Sentence: The 63-year-old head of Pembridge In...</td>\n",
       "      <td>1</td>\n",
       "      <td>No</td>\n",
       "    </tr>\n",
       "    <tr>\n",
       "      <th>97</th>\n",
       "      <td>Sentence: The 63-year-old head of Pembridge In...</td>\n",
       "      <td>0</td>\n",
       "      <td>no</td>\n",
       "    </tr>\n",
       "    <tr>\n",
       "      <th>98</th>\n",
       "      <td>Sentence: The 63-year-old head of Pembridge In...</td>\n",
       "      <td>0</td>\n",
       "      <td>no</td>\n",
       "    </tr>\n",
       "    <tr>\n",
       "      <th>99</th>\n",
       "      <td>Sentence: The 63-year-old head of Pembridge In...</td>\n",
       "      <td>0</td>\n",
       "      <td>No</td>\n",
       "    </tr>\n",
       "  </tbody>\n",
       "</table>\n",
       "<p>100 rows × 3 columns</p>\n",
       "</div>"
      ]
     },
     "execution_count": 89,
     "metadata": {},
     "output_type": "execute_result"
    }
   ],
   "execution_count": 89
  },
  {
   "metadata": {
    "ExecuteTime": {
     "end_time": "2025-01-29T15:25:32.595126Z",
     "start_time": "2025-01-29T15:25:32.459903Z"
    }
   },
   "cell_type": "code",
   "source": [
    "import numpy as np\n",
    "from matplotlib import pyplot as plt\n",
    "\n",
    "# Confusion matrix components\n",
    "TP = ((tmp_train_df['label'] == 1) & (tmp_train_df['predictionIdx'] == 1)).sum()\n",
    "TN = ((tmp_train_df['label'] == 0) & (tmp_train_df['predictionIdx'] == 0)).sum()\n",
    "FP = ((tmp_train_df['label'] == 0) & (tmp_train_df['predictionIdx'] == 1)).sum()\n",
    "FN = ((tmp_train_df['label'] == 1) & (tmp_train_df['predictionIdx'] == 0)).sum()\n",
    "\n",
    "# Confusion matrix\n",
    "conf_matrix = np.array([[TN, FP], [FN, TP]])\n",
    "\n",
    "# Calculate precision, recall, and F1-score\n",
    "precision = TP / (TP + FP) if (TP + FP) > 0 else 0\n",
    "recall = TP / (TP + FN) if (TP + FN) > 0 else 0\n",
    "f1_score = 2 * (precision * recall) / (precision + recall) if (precision + recall) > 0 else 0\n",
    "\n",
    "# Print scores\n",
    "print(f'Precision: {precision:.4f}')\n",
    "print(f'Recall: {recall:.4f}')\n",
    "print(f'F1 Score: {f1_score:.4f}')\n",
    "\n",
    "# Plot the confusion matrix\n",
    "fig, ax = plt.subplots(figsize=(6, 6))\n",
    "cax = ax.matshow(conf_matrix, cmap=\"Blues\")\n",
    "\n",
    "# Adding color bar\n",
    "plt.colorbar(cax)\n",
    "\n",
    "# Setting axis labels and ticks\n",
    "ax.set_xticklabels([''] + ['Predicted Negative', 'Predicted Positive'])\n",
    "ax.set_yticklabels([''] + ['Actual Negative', 'Actual Positive'])\n",
    "\n",
    "# Annotating the cells with counts\n",
    "for (i, j), val in np.ndenumerate(conf_matrix):\n",
    "    ax.text(j, i, f'{val}', ha='center', va='center', color='black')\n",
    "\n",
    "# Titles and grid\n",
    "plt.title('Confusion Matrix', pad=20)\n",
    "plt.xlabel('Predicted')\n",
    "plt.ylabel('Actual')\n",
    "plt.savefig(f\"{model_name.replace(\":\", \"-\")}.png\")\n",
    "plt.show()"
   ],
   "id": "6ddf473e46693aee",
   "outputs": [
    {
     "name": "stdout",
     "output_type": "stream",
     "text": [
      "Precision: 0.5714\n",
      "Recall: 0.2667\n",
      "F1 Score: 0.3636\n"
     ]
    },
    {
     "name": "stderr",
     "output_type": "stream",
     "text": [
      "C:\\Users\\allex\\AppData\\Local\\Temp\\ipykernel_22960\\1284382206.py:31: UserWarning: set_ticklabels() should only be used with a fixed number of ticks, i.e. after set_ticks() or using a FixedLocator.\n",
      "  ax.set_xticklabels([''] + ['Predicted Negative', 'Predicted Positive'])\n",
      "C:\\Users\\allex\\AppData\\Local\\Temp\\ipykernel_22960\\1284382206.py:32: UserWarning: set_ticklabels() should only be used with a fixed number of ticks, i.e. after set_ticks() or using a FixedLocator.\n",
      "  ax.set_yticklabels([''] + ['Actual Negative', 'Actual Positive'])\n"
     ]
    },
    {
     "data": {
      "text/plain": [
       "<Figure size 600x600 with 2 Axes>"
      ],
      "image/png": "[encoded data removed]"
     },
     "metadata": {},
     "output_type": "display_data"
    }
   ],
   "execution_count": 90
  },
  {
   "metadata": {
    "ExecuteTime": {
     "end_time": "2025-01-29T15:25:32.737735Z",
     "start_time": "2025-01-29T15:25:32.736226Z"
    }
   },
   "cell_type": "code",
   "source": "",
   "id": "5698d354bbabe6cd",
   "outputs": [],
   "execution_count": 90
  },
  {
   "metadata": {},
   "cell_type": "code",
   "outputs": [],
   "execution_count": null,
   "source": "",
   "id": "f7e170f06b648a74"
  }
 ],
 "metadata": {
  "kernelspec": {
   "display_name": "Python 3",
   "language": "python",
   "name": "python3"
  },
  "language_info": {
   "codemirror_mode": {
    "name": "ipython",
    "version": 2
   },
   "file_extension": ".py",
   "mimetype": "text/x-python",
   "name": "python",
   "nbconvert_exporter": "python",
   "pygments_lexer": "ipython2",
   "version": "2.7.6"
  }
 },
 "nbformat": 4,
 "nbformat_minor": 5
}
