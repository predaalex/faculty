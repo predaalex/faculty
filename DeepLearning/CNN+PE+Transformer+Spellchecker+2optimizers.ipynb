{
 "cells": [
  {
   "cell_type": "code",
   "id": "initial_id",
   "metadata": {
    "collapsed": true,
    "ExecuteTime": {
     "end_time": "2025-01-19T11:36:35.649850Z",
     "start_time": "2025-01-19T11:36:32.042484Z"
    }
   },
   "source": [
    "import gc\n",
    "import os\n",
    "import sys\n",
    "import time\n",
    "import math\n",
    "\n",
    "import cv2\n",
    "import numpy as np\n",
    "import torch.nn as nn\n",
    "\n",
    "import pandas as pd\n",
    "import torch\n",
    "from PIL import Image\n",
    "from torch import optim\n",
    "from torch.optim.lr_scheduler import ExponentialLR, StepLR\n",
    "from torchvision import transforms\n",
    "import re\n",
    "from torch.utils.data import Dataset, DataLoader\n",
    "from tqdm import tqdm\n",
    "import warnings\n",
    "import matplotlib.pyplot as plt\n",
    "from sklearn.metrics import accuracy_score, precision_score, recall_score, f1_score\n",
    "import torch.nn.functional as F\n",
    "from collections import defaultdict\n",
    "from itertools import product\n",
    "\n",
    "from spellchecker import SpellChecker\n",
    "\n",
    "warnings.filterwarnings(\"ignore\", category=UserWarning)  # Disable UserWarnings\n",
    "tqdm.pandas()"
   ],
   "outputs": [],
   "execution_count": 1
  },
  {
   "metadata": {
    "ExecuteTime": {
     "end_time": "2025-01-19T11:36:35.674271Z",
     "start_time": "2025-01-19T11:36:35.650358Z"
    }
   },
   "cell_type": "code",
   "source": [
    "train_df = pd.read_csv(\"./dataset/train.csv\")\n",
    "test_df = pd.read_csv(\"./dataset/test.csv\")\n",
    "validation_df = pd.read_csv(\"./dataset/val.csv\")"
   ],
   "id": "68a1a9efa01eeb80",
   "outputs": [],
   "execution_count": 2
  },
  {
   "metadata": {
    "ExecuteTime": {
     "end_time": "2025-01-19T11:36:37.573271Z",
     "start_time": "2025-01-19T11:36:35.674783Z"
    }
   },
   "cell_type": "code",
   "source": [
    "spell = SpellChecker()\n",
    "\n",
    "def text_preparation_with_spell_correction(sentence):\n",
    "    # 1. Lowercase everything\n",
    "    sentence = sentence.lower()\n",
    "\n",
    "    # 2. Remove all symbols other than a-z.\n",
    "    pattern = re.compile(r\"[^a-z ]\")\n",
    "    sentence = re.sub(pattern, \" \", sentence)\n",
    "\n",
    "    # 3. Correct spelling\n",
    "    words = sentence.split()\n",
    "    corrected_words = []\n",
    "    for word in words:\n",
    "        corrected_word = spell.correction(word)\n",
    "        if corrected_word is None:\n",
    "            corrected_word = '<unk>'  # Use '<unk>' if no correction found\n",
    "        corrected_words.append(corrected_word)\n",
    "    corrected_sentence = ' '.join(corrected_words)\n",
    "    \n",
    "    return corrected_sentence\n",
    "\n",
    "sentence_example = '\"A domesticated carnivvorous mzammal that typicbally hfaas a lons sfnout, an acxujte sense off osmell, noneetractaaln crlaws, anid xbarkring,y howlingu, or whining rvoiche.\"'\n",
    "print(text_preparation_with_spell_correction(sentence_example))"
   ],
   "id": "963056941ecf496",
   "outputs": [
    {
     "name": "stdout",
     "output_type": "stream",
     "text": [
      "a domesticated carnivorous mammal that typically haas a long snout an acute sense off smell <unk> claws and barking y howling or whining voice\n"
     ]
    }
   ],
   "execution_count": 3
  },
  {
   "metadata": {
    "ExecuteTime": {
     "end_time": "2025-01-19T11:36:37.600744Z",
     "start_time": "2025-01-19T11:36:37.573271Z"
    }
   },
   "cell_type": "code",
   "source": [
    "from Levenshtein import distance as levenshtein_distance\n",
    "\n",
    "# Assume 'vocabulary' is a predefined list of words expected in your domain\n",
    "vocabulary = ['example', 'list', 'of', 'words', 'in', 'your', 'vocabulary']\n",
    "\n",
    "\n",
    "def find_closest_word(word, vocabulary):\n",
    "    return min(vocabulary, key=lambda v: levenshtein_distance(word, v))\n",
    "\n",
    "\n",
    "def text_preparation_with_levenshtein(sentence):\n",
    "    # 1. Lowercase everything\n",
    "    sentence = sentence.lower()\n",
    "\n",
    "    # 2. Remove all symbols other than a-z.\n",
    "    pattern = re.compile(r\"[^a-z ]\")\n",
    "    sentence = re.sub(pattern, \" \", sentence)\n",
    "\n",
    "    # 3. Replace words with the closest in vocabulary\n",
    "    words = sentence.split()\n",
    "    closest_words = [find_closest_word(word, vocabulary) for word in words]\n",
    "    corrected_sentence = ' '.join(closest_words)\n",
    "    \n",
    "    return corrected_sentence"
   ],
   "id": "36c7625d793a331b",
   "outputs": [],
   "execution_count": 4
  },
  {
   "metadata": {
    "ExecuteTime": {
     "end_time": "2025-01-19T11:36:37.605837Z",
     "start_time": "2025-01-19T11:36:37.601255Z"
    }
   },
   "cell_type": "code",
   "source": [
    "# Compile the regular expression pattern\n",
    "pattern = re.compile(r\"[^a-z ]\")\n",
    "\n",
    "\n",
    "def text_preparetion_simple(sentence):\n",
    "    # 1. Lowercase everything\n",
    "    sentence = sentence.lower()\n",
    "\n",
    "    # 2. Remove all symbols other than a-z.\n",
    "    sentence = re.sub(pattern, \" \", sentence)\n",
    "\n",
    "    return sentence\n",
    "\n",
    "sentence1 = \"A World War II-era bomber flying out of formation\"\n",
    "text_preparetion_simple(sentence1)"
   ],
   "id": "f47e808e14e16d34",
   "outputs": [
    {
     "data": {
      "text/plain": [
       "'a world war ii era bomber flying out of formation'"
      ]
     },
     "execution_count": 5,
     "metadata": {},
     "output_type": "execute_result"
    }
   ],
   "execution_count": 5
  },
  {
   "metadata": {
    "ExecuteTime": {
     "end_time": "2025-01-19T11:36:37.643073Z",
     "start_time": "2025-01-19T11:36:37.606349Z"
    }
   },
   "cell_type": "code",
   "source": [
    "train_df['preprocessed_text'] = train_df['caption'].progress_apply(text_preparetion_simple)\n",
    "validation_df['preprocessed_text'] = validation_df['caption'].progress_apply(text_preparetion_simple)\n",
    "test_df['preprocessed_text'] = test_df['caption'].progress_apply(text_preparetion_simple)"
   ],
   "id": "decdaddece6dce3d",
   "outputs": [
    {
     "name": "stderr",
     "output_type": "stream",
     "text": [
      "100%|██████████| 10000/10000 [00:00<00:00, 594734.27it/s]\n",
      "100%|██████████| 3000/3000 [00:00<00:00, 538260.34it/s]\n",
      "100%|██████████| 2000/2000 [00:00<00:00, 352344.09it/s]\n"
     ]
    }
   ],
   "execution_count": 6
  },
  {
   "metadata": {
    "ExecuteTime": {
     "end_time": "2025-01-19T11:36:37.650713Z",
     "start_time": "2025-01-19T11:36:37.643584Z"
    }
   },
   "cell_type": "code",
   "source": "test_df",
   "id": "348bb7544ec995b7",
   "outputs": [
    {
     "data": {
      "text/plain": [
       "                                        id  \\\n",
       "0     c1d1b26f-9874-4d8d-96c9-46fea3b04bcc   \n",
       "1     7e4e47d2-79c2-4f9f-a111-bafc565b41ef   \n",
       "2     55325480-747f-4ed3-bd66-7eafaa7f5129   \n",
       "3     dc45f0c0-5b01-4103-bd04-6c7f1454686b   \n",
       "4     e49c3ed9-1f52-4e2b-b734-4ceb47c1d27f   \n",
       "...                                    ...   \n",
       "1995  bc29ffb9-20ac-4c5f-bafd-32b2f62dd5d8   \n",
       "1996  ff21696c-1221-45b7-bd48-99b698405940   \n",
       "1997  37de10e4-c292-43cc-a45a-828c2b071f4a   \n",
       "1998  efe646a3-8bec-45bf-9d17-8d84798f2cdc   \n",
       "1999  9e818afc-60d6-47bc-9b3e-5e672115b1d9   \n",
       "\n",
       "                                                caption  image_id  \\\n",
       "0                               Two cars on the street.    139551   \n",
       "1                               Two cars on the street.     81593   \n",
       "2                                One car on the street.    496031   \n",
       "3                                    A red colored car.    535526   \n",
       "4     A large motor vehicle carrying passengers by r...    251922   \n",
       "...                                                 ...       ...   \n",
       "1995                             One car on the street.    234197   \n",
       "1996                            A green colored banana.     11041   \n",
       "1997                            A green colored banana.    523818   \n",
       "1998                                 A red colored car.    170393   \n",
       "1999                            Two cars on the street.    524249   \n",
       "\n",
       "                                      preprocessed_text  \n",
       "0                               two cars on the street   \n",
       "1                               two cars on the street   \n",
       "2                                one car on the street   \n",
       "3                                    a red colored car   \n",
       "4     a large motor vehicle carrying passengers by r...  \n",
       "...                                                 ...  \n",
       "1995                             one car on the street   \n",
       "1996                            a green colored banana   \n",
       "1997                            a green colored banana   \n",
       "1998                                 a red colored car   \n",
       "1999                            two cars on the street   \n",
       "\n",
       "[2000 rows x 4 columns]"
      ],
      "text/html": [
       "<div>\n",
       "<style scoped>\n",
       "    .dataframe tbody tr th:only-of-type {\n",
       "        vertical-align: middle;\n",
       "    }\n",
       "\n",
       "    .dataframe tbody tr th {\n",
       "        vertical-align: top;\n",
       "    }\n",
       "\n",
       "    .dataframe thead th {\n",
       "        text-align: right;\n",
       "    }\n",
       "</style>\n",
       "<table border=\"1\" class=\"dataframe\">\n",
       "  <thead>\n",
       "    <tr style=\"text-align: right;\">\n",
       "      <th></th>\n",
       "      <th>id</th>\n",
       "      <th>caption</th>\n",
       "      <th>image_id</th>\n",
       "      <th>preprocessed_text</th>\n",
       "    </tr>\n",
       "  </thead>\n",
       "  <tbody>\n",
       "    <tr>\n",
       "      <th>0</th>\n",
       "      <td>c1d1b26f-9874-4d8d-96c9-46fea3b04bcc</td>\n",
       "      <td>Two cars on the street.</td>\n",
       "      <td>139551</td>\n",
       "      <td>two cars on the street</td>\n",
       "    </tr>\n",
       "    <tr>\n",
       "      <th>1</th>\n",
       "      <td>7e4e47d2-79c2-4f9f-a111-bafc565b41ef</td>\n",
       "      <td>Two cars on the street.</td>\n",
       "      <td>81593</td>\n",
       "      <td>two cars on the street</td>\n",
       "    </tr>\n",
       "    <tr>\n",
       "      <th>2</th>\n",
       "      <td>55325480-747f-4ed3-bd66-7eafaa7f5129</td>\n",
       "      <td>One car on the street.</td>\n",
       "      <td>496031</td>\n",
       "      <td>one car on the street</td>\n",
       "    </tr>\n",
       "    <tr>\n",
       "      <th>3</th>\n",
       "      <td>dc45f0c0-5b01-4103-bd04-6c7f1454686b</td>\n",
       "      <td>A red colored car.</td>\n",
       "      <td>535526</td>\n",
       "      <td>a red colored car</td>\n",
       "    </tr>\n",
       "    <tr>\n",
       "      <th>4</th>\n",
       "      <td>e49c3ed9-1f52-4e2b-b734-4ceb47c1d27f</td>\n",
       "      <td>A large motor vehicle carrying passengers by r...</td>\n",
       "      <td>251922</td>\n",
       "      <td>a large motor vehicle carrying passengers by r...</td>\n",
       "    </tr>\n",
       "    <tr>\n",
       "      <th>...</th>\n",
       "      <td>...</td>\n",
       "      <td>...</td>\n",
       "      <td>...</td>\n",
       "      <td>...</td>\n",
       "    </tr>\n",
       "    <tr>\n",
       "      <th>1995</th>\n",
       "      <td>bc29ffb9-20ac-4c5f-bafd-32b2f62dd5d8</td>\n",
       "      <td>One car on the street.</td>\n",
       "      <td>234197</td>\n",
       "      <td>one car on the street</td>\n",
       "    </tr>\n",
       "    <tr>\n",
       "      <th>1996</th>\n",
       "      <td>ff21696c-1221-45b7-bd48-99b698405940</td>\n",
       "      <td>A green colored banana.</td>\n",
       "      <td>11041</td>\n",
       "      <td>a green colored banana</td>\n",
       "    </tr>\n",
       "    <tr>\n",
       "      <th>1997</th>\n",
       "      <td>37de10e4-c292-43cc-a45a-828c2b071f4a</td>\n",
       "      <td>A green colored banana.</td>\n",
       "      <td>523818</td>\n",
       "      <td>a green colored banana</td>\n",
       "    </tr>\n",
       "    <tr>\n",
       "      <th>1998</th>\n",
       "      <td>efe646a3-8bec-45bf-9d17-8d84798f2cdc</td>\n",
       "      <td>A red colored car.</td>\n",
       "      <td>170393</td>\n",
       "      <td>a red colored car</td>\n",
       "    </tr>\n",
       "    <tr>\n",
       "      <th>1999</th>\n",
       "      <td>9e818afc-60d6-47bc-9b3e-5e672115b1d9</td>\n",
       "      <td>Two cars on the street.</td>\n",
       "      <td>524249</td>\n",
       "      <td>two cars on the street</td>\n",
       "    </tr>\n",
       "  </tbody>\n",
       "</table>\n",
       "<p>2000 rows × 4 columns</p>\n",
       "</div>"
      ]
     },
     "execution_count": 7,
     "metadata": {},
     "output_type": "execute_result"
    }
   ],
   "execution_count": 7
  },
  {
   "metadata": {
    "ExecuteTime": {
     "end_time": "2025-01-19T11:36:37.744421Z",
     "start_time": "2025-01-19T11:36:37.651227Z"
    }
   },
   "cell_type": "code",
   "source": [
    "def build_simple_vocab(sentences, special_tokens=None):\n",
    "    \"\"\"\n",
    "    Manually create a vocabulary from a list of tokenized sentences.\n",
    "    \n",
    "    Args:\n",
    "        sentences (list of str): List of sentences to build vocabulary from.\n",
    "        special_tokens (list of str): Special tokens like <pad>, <unk>.\n",
    "        \n",
    "    Returns:\n",
    "        dict: A vocabulary mapping tokens to indices.\n",
    "        dict: An inverse vocabulary mapping indices to tokens.\n",
    "    \"\"\"\n",
    "    special_tokens = special_tokens or ['<pad>', '<unk>']\n",
    "    vocab = defaultdict(lambda: len(vocab))  # Default index is the current vocab size\n",
    "    for token in special_tokens:\n",
    "        vocab[token]  # Add special tokens first\n",
    "    \n",
    "    # Add tokens from sentences\n",
    "    for sentence in sentences:\n",
    "        for token in sentence.split():\n",
    "            if token.strip():  # Exclude empty tokens\n",
    "                vocab[token]\n",
    "    \n",
    "    # Convert to a normal dict (no longer dynamic)\n",
    "    vocab = dict(vocab)\n",
    "    inverse_vocab = {index: token for token, index in vocab.items()}\n",
    "    return vocab, inverse_vocab\n",
    "\n",
    "\n",
    "# Vectorize a sentence\n",
    "def vectorize_sentence(sentence, vocab):\n",
    "    \"\"\"\n",
    "    Converts a sentence into a tensor of token indices using a given vocabulary,\n",
    "    ignoring empty tokens.\n",
    "    \n",
    "    Args:\n",
    "        sentence (str): Input sentence.\n",
    "        vocab (Vocab): Vocabulary to map tokens to indices.\n",
    "        \n",
    "    Returns:\n",
    "        torch.Tensor: Vectorized sentence as a tensor.\n",
    "    \"\"\"\n",
    "    # Ensure '<unk>' exists in the vocabulary\n",
    "    unk_idx = vocab.get('<unk>', -1)\n",
    "    if unk_idx == -1:\n",
    "        raise ValueError(\"The vocabulary must include '<unk>' for unknown tokens.\")\n",
    "    \n",
    "\n",
    "    # Split sentence into tokens and map them to indices\n",
    "    tokens = [token for token in sentence.split() if token.strip()]\n",
    "    return torch.tensor([vocab.get(token, unk_idx) for token in tokens], dtype=torch.long)\n",
    "\n",
    "\n",
    "class GaussianBlurTransform:\n",
    "    def __init__(self, kernel_size):\n",
    "        self.kernel_size = kernel_size\n",
    "\n",
    "    def __call__(self, img):\n",
    "        img = np.array(img)\n",
    "        img = cv2.GaussianBlur(img, (self.kernel_size, self.kernel_size), 0)\n",
    "        return Image.fromarray(img)\n",
    "\n",
    "\n",
    "# Custom Dataset Class\n",
    "class PreprocessingDataset(Dataset):\n",
    "    def __init__(self, dataframe, vocab, images_path, train=True, max_len=None):\n",
    "        \"\"\"\n",
    "        Dataset for preprocessing image-text pairs.\n",
    "\n",
    "        Args:\n",
    "            dataframe (pd.DataFrame): DataFrame containing 'image_id', 'sentence', and optionally 'label'.\n",
    "            vocab (Vocab): Vocabulary for text vectorization.\n",
    "            train (bool): Whether this is a training dataset.\n",
    "            max_len (int): Maximum length for sentences. If None, no truncation.\n",
    "        \"\"\"\n",
    "        super().__init__()\n",
    "        self.dataframe = dataframe\n",
    "        self.vocab = vocab\n",
    "        self.train = train\n",
    "        self.max_len = max_len\n",
    "        self.images_path = images_path\n",
    "\n",
    "        # Define image transformations\n",
    "        self.image_transform = transforms.Compose([\n",
    "            # transforms.RandomResizedCrop(100, scale=(0.8, 1.0)),\n",
    "            # transforms.RandomHorizontalFlip(),\n",
    "            GaussianBlurTransform(kernel_size=3),\n",
    "            # transforms.ColorJitter(brightness=0.2, contrast=0.2, saturation=0.2, hue=0.1),\n",
    "            transforms.ToTensor(),\n",
    "            # transforms.Normalize([0.485, 0.456, 0.406], [0.229, 0.224, 0.225])\n",
    "        ])\n",
    "\n",
    "    def __len__(self):\n",
    "        return len(self.dataframe)\n",
    "\n",
    "    def __getitem__(self, idx):\n",
    "        row = self.dataframe.iloc[idx]\n",
    "\n",
    "        # Process sentence\n",
    "        sentence = row['caption']\n",
    "        vectorized_sentence = vectorize_sentence(sentence, self.vocab)\n",
    "\n",
    "        # Pad or truncate the sentence\n",
    "        if len(vectorized_sentence) < self.max_len:\n",
    "            padding_length = self.max_len - len(vectorized_sentence)\n",
    "            pad_tensor = torch.full((padding_length,), self.vocab['<pad>'], dtype=torch.long)\n",
    "            vectorized_sentence = torch.cat((vectorized_sentence, pad_tensor), dim=0)\n",
    "        else:\n",
    "            vectorized_sentence = vectorized_sentence[:self.max_len]\n",
    "\n",
    "        # Process image\n",
    "        image_path = f\"{self.images_path}{row['image_id']}.jpg\"\n",
    "            \n",
    "        try:\n",
    "            image = Image.open(image_path).convert(\"RGB\")  # Convert to RGB\n",
    "            image = self.image_transform(image)\n",
    "        except FileNotFoundError:\n",
    "            raise FileNotFoundError(f\"Image not found at path: {image_path}\")\n",
    "\n",
    "        # Handle labels (for training)\n",
    "        if self.train:\n",
    "            label = row['label']\n",
    "            label = torch.tensor(label, dtype=torch.long)\n",
    "            return {\n",
    "                'images': image,\n",
    "                'captions': vectorized_sentence,\n",
    "                'labels': label\n",
    "            }\n",
    "        else:\n",
    "            return {\n",
    "                'images': image,\n",
    "                'captions': vectorized_sentence,\n",
    "                'id': row['id']\n",
    "            }"
   ],
   "id": "b120e5be81dc41aa",
   "outputs": [],
   "execution_count": 8
  },
  {
   "metadata": {
    "ExecuteTime": {
     "end_time": "2025-01-19T11:36:37.776523Z",
     "start_time": "2025-01-19T11:36:37.745445Z"
    }
   },
   "cell_type": "code",
   "source": [
    "tokenized_sentence = [sentence.split(\" \") for sentence in train_df['preprocessed_text']]\n",
    "max_len = max(len([token for token in sentence.split(\" \")]) for sentence in train_df['preprocessed_text'])\n",
    "print(max_len)\n",
    "vocab, inverse_vocab = build_simple_vocab(train_df['preprocessed_text'])"
   ],
   "id": "434eac424e669b66",
   "outputs": [
    {
     "name": "stdout",
     "output_type": "stream",
     "text": [
      "53\n"
     ]
    }
   ],
   "execution_count": 9
  },
  {
   "metadata": {
    "ExecuteTime": {
     "end_time": "2025-01-19T11:36:37.780178Z",
     "start_time": "2025-01-19T11:36:37.777029Z"
    }
   },
   "cell_type": "code",
   "source": [
    "train_dataset = PreprocessingDataset(train_df, vocab, train=True, max_len=max_len, images_path = \"./dataset/train_images/\")\n",
    "test_dataset = PreprocessingDataset(test_df, vocab, train=False, max_len=max_len, images_path = \"./dataset/test_images/\")\n",
    "val_dataset = PreprocessingDataset(validation_df, vocab, train=True, max_len=max_len, images_path = \"./dataset/val_images/\")"
   ],
   "id": "f6a9c5515a874c53",
   "outputs": [],
   "execution_count": 10
  },
  {
   "metadata": {
    "ExecuteTime": {
     "end_time": "2025-01-19T11:36:37.783222Z",
     "start_time": "2025-01-19T11:36:37.780178Z"
    }
   },
   "cell_type": "code",
   "source": [
    "train_dataloader = DataLoader(train_dataset, batch_size=64, shuffle=True )\n",
    "test_dataloader = DataLoader(test_dataset, batch_size=64, shuffle=False)\n",
    "val_dataloader = DataLoader(val_dataset, batch_size=64, shuffle=False)"
   ],
   "id": "ef7e8ef05ced1727",
   "outputs": [],
   "execution_count": 11
  },
  {
   "metadata": {
    "ExecuteTime": {
     "end_time": "2025-01-19T11:36:37.797949Z",
     "start_time": "2025-01-19T11:36:37.784239Z"
    }
   },
   "cell_type": "code",
   "source": "device = torch.device(\"cuda\" if torch.cuda.is_available() else \"cpu\")",
   "id": "51c0d07bf84fb724",
   "outputs": [],
   "execution_count": 12
  },
  {
   "metadata": {
    "ExecuteTime": {
     "end_time": "2025-01-19T11:36:37.802031Z",
     "start_time": "2025-01-19T11:36:37.798462Z"
    }
   },
   "cell_type": "code",
   "source": [
    "class CNN(nn.Module):\n",
    "    def __init__(self, cnn_dropout_value):\n",
    "        super(CNN, self).__init__()\n",
    "        self.layers = nn.Sequential(\n",
    "            nn.Conv2d(in_channels=3, out_channels=32, kernel_size=3, stride=1, padding=1),\n",
    "            nn.ReLU(),\n",
    "            nn.BatchNorm2d(32),\n",
    "            nn.Dropout(cnn_dropout_value),\n",
    "            nn.MaxPool2d(kernel_size=2, stride=2),\n",
    "\n",
    "            nn.Conv2d(in_channels=32, out_channels=64, kernel_size=3, stride=1, padding=1),\n",
    "            nn.ReLU(),\n",
    "            nn.BatchNorm2d(64),\n",
    "            nn.Dropout(cnn_dropout_value),\n",
    "            nn.MaxPool2d(kernel_size=2, stride=2),\n",
    "\n",
    "            nn.Conv2d(in_channels=64, out_channels=128, kernel_size=3, stride=1, padding=1),\n",
    "            nn.ReLU(),\n",
    "            nn.BatchNorm2d(128),\n",
    "            nn.Dropout(cnn_dropout_value),\n",
    "            nn.AdaptiveAvgPool2d((1, 1))\n",
    "        )\n",
    "        self.flatten = nn.Flatten()\n",
    "\n",
    "    def forward(self, images):\n",
    "        img_features = self.layers(images)  # (Batch, 128, 1, 1)\n",
    "        img_features = self.flatten(img_features)  # (Batch, 128)\n",
    "        return img_features\n"
   ],
   "id": "f0cf44b7b652262c",
   "outputs": [],
   "execution_count": 13
  },
  {
   "metadata": {
    "ExecuteTime": {
     "end_time": "2025-01-19T11:36:37.807088Z",
     "start_time": "2025-01-19T11:36:37.803557Z"
    }
   },
   "cell_type": "code",
   "source": [
    "class PositionalEncoding(nn.Module):\n",
    "    def __init__(self, embedding_dim, max_len):\n",
    "        super(PositionalEncoding, self).__init__()\n",
    "        # Create a matrix of shape (max_len, embedding_dim) for positional encodings\n",
    "        position = torch.arange(0, max_len).unsqueeze(1)  # Shape: (max_len, 1)\n",
    "        div_term = torch.exp(torch.arange(0, embedding_dim, 2) * (-math.log(float(max_len)) / embedding_dim))\n",
    "        \n",
    "        pe = torch.zeros(max_len, embedding_dim)  # Shape: (max_len, embedding_dim)\n",
    "        pe[:, 0::2] = torch.sin(position * div_term)  # Sin for even indices\n",
    "        pe[:, 1::2] = torch.cos(position * div_term)  # Cos for odd indices\n",
    "        \n",
    "        pe = pe.unsqueeze(0)  # Add batch dimension: (1, max_len, embedding_dim)\n",
    "        self.register_buffer('pe', pe)  # Register as non-learnable buffer\n",
    "\n",
    "    def forward(self, x):\n",
    "        \"\"\"\n",
    "        Add positional encoding to the input embeddings.\n",
    "        x: (Batch, SeqLen, EmbeddingDim)\n",
    "        \"\"\"\n",
    "        seq_len = x.size(1)\n",
    "        return x + self.pe[:, :seq_len, :].to(x.device)"
   ],
   "id": "94a9c21800d85e33",
   "outputs": [],
   "execution_count": 14
  },
  {
   "metadata": {
    "ExecuteTime": {
     "end_time": "2025-01-19T11:36:37.811693Z",
     "start_time": "2025-01-19T11:36:37.808119Z"
    }
   },
   "cell_type": "code",
   "source": [
    "class TextModule(nn.Module):\n",
    "    def __init__(self, vocab_size, embedding_dim, num_heads, transformer_hidden_dim, num_transformer_layers, seq_len, transformer_dropout_value):\n",
    "        super(TextModule, self).__init__()\n",
    "        self.embedding = nn.Embedding(num_embeddings=vocab_size, embedding_dim=embedding_dim, padding_idx=vocab[\"<pad>\"])\n",
    "        self.positional_encoding = PositionalEncoding(embedding_dim=embedding_dim, max_len=seq_len)\n",
    "        \n",
    "        self.transformer_encoder = nn.TransformerEncoder(\n",
    "            nn.TransformerEncoderLayer(\n",
    "                d_model=embedding_dim,\n",
    "                nhead=num_heads,\n",
    "                dim_feedforward=transformer_hidden_dim,\n",
    "                dropout=transformer_dropout_value,\n",
    "                activation='relu'\n",
    "            ),\n",
    "            num_layers=num_transformer_layers\n",
    "        )\n",
    "\n",
    "    def forward(self, captions):\n",
    "        embedded_captions = self.embedding(captions)  # (Batch, SeqLen, EmbeddingDim)\n",
    "        pos_encoded_captions = self.positional_encoding(embedded_captions)  # Apply positional encoding\n",
    "        \n",
    "        # Transformer expects input shape (SeqLen, Batch, EmbeddingDim)\n",
    "        transformer_input = pos_encoded_captions.permute(1, 0, 2)  # (SeqLen, Batch, EmbeddingDim)\n",
    "        transformer_output = self.transformer_encoder(transformer_input)  # (SeqLen, Batch, EmbeddingDim)\n",
    "        text_features = transformer_output.mean(dim=0)  # Mean pooling over SeqLen: (Batch, EmbeddingDim)\n",
    "        return text_features"
   ],
   "id": "e6ea631b4226a0d8",
   "outputs": [],
   "execution_count": 15
  },
  {
   "metadata": {
    "ExecuteTime": {
     "end_time": "2025-01-19T11:36:37.816261Z",
     "start_time": "2025-01-19T11:36:37.811693Z"
    }
   },
   "cell_type": "code",
   "source": [
    "class Head(nn.Module):\n",
    "    def __init__(self, image_feature_dim, text_feature_dim, transformer_dropout_value, num_classes):\n",
    "        super(Head, self).__init__()\n",
    "        self.fc1 = nn.Linear(image_feature_dim + text_feature_dim, 256)  # Combine image + text features\n",
    "        self.dropout = nn.Dropout(transformer_dropout_value)\n",
    "        self.fc2 = nn.Linear(256, num_classes)\n",
    "\n",
    "    def forward(self, img_features, text_features):\n",
    "        combined_features = torch.cat((img_features, text_features), dim=1)  # (Batch, 128 + EmbeddingDim)\n",
    "        x = F.relu(self.fc1(combined_features))  # (Batch, 256)\n",
    "        x = self.dropout(x)  # Apply dropout\n",
    "        x = self.fc2(x)  # (Batch, num_classes)\n",
    "        return x.squeeze(1)  # Logits (not probabilities)"
   ],
   "id": "5366b540a2446756",
   "outputs": [],
   "execution_count": 16
  },
  {
   "metadata": {
    "ExecuteTime": {
     "end_time": "2025-01-19T11:36:37.820288Z",
     "start_time": "2025-01-19T11:36:37.816261Z"
    }
   },
   "cell_type": "code",
   "source": [
    "class ImageTextClassifier(nn.Module):\n",
    "    def __init__(self, vocab_size, embedding_dim, num_heads, transformer_hidden_dim, num_transformer_layers, seq_len, cnn_dropout_value, transformer_dropout_value, num_classes=1):\n",
    "        super(ImageTextClassifier, self).__init__()\n",
    "        self.cnn = CNN(cnn_dropout_value)\n",
    "        self.text_module = TextModule(\n",
    "            vocab_size, embedding_dim, num_heads,\n",
    "            transformer_hidden_dim, num_transformer_layers,\n",
    "            seq_len, transformer_dropout_value\n",
    "        )\n",
    "        self.head = Head(image_feature_dim=128, text_feature_dim=embedding_dim, transformer_dropout_value=transformer_dropout_value, num_classes=num_classes)\n",
    "\n",
    "    def forward(self, images, captions):\n",
    "        img_features = self.cnn(images)  # Image feature extraction\n",
    "        text_features = self.text_module(captions)  # Text feature extraction\n",
    "        return self.head(img_features, text_features)  # Classification"
   ],
   "id": "7c2f52a2b797846b",
   "outputs": [],
   "execution_count": 17
  },
  {
   "metadata": {
    "ExecuteTime": {
     "end_time": "2025-01-19T11:36:37.824343Z",
     "start_time": "2025-01-19T11:36:37.820288Z"
    }
   },
   "cell_type": "code",
   "source": [
    "def initialize_weights(m):\n",
    "    if isinstance(m, nn.Linear):\n",
    "        nn.init.xavier_uniform_(m.weight)\n",
    "        if m.bias is not None:\n",
    "            nn.init.zeros_(m.bias)\n",
    "    elif isinstance(m, nn.Conv2d):\n",
    "        nn.init.kaiming_normal_(m.weight, nonlinearity='relu')\n",
    "        if m.bias is not None:\n",
    "            nn.init.zeros_(m.bias)\n",
    "    elif isinstance(m, nn.Embedding):\n",
    "        nn.init.xavier_uniform_(m.weight)\n",
    "    elif isinstance(m, nn.LayerNorm):\n",
    "        nn.init.ones_(m.weight)\n",
    "        nn.init.zeros_(m.bias)\n",
    "    elif isinstance(m, nn.TransformerEncoderLayer):\n",
    "        for name, param in m.named_parameters():\n",
    "            if \"weight\" in name:\n",
    "                if param.dim() > 1:\n",
    "                    nn.init.xavier_uniform_(param)\n",
    "                else:\n",
    "                    nn.init.ones_(param)\n",
    "            elif \"bias\" in name:\n",
    "                nn.init.zeros_(param)"
   ],
   "id": "340278a77ea962ef",
   "outputs": [],
   "execution_count": 18
  },
  {
   "metadata": {
    "ExecuteTime": {
     "end_time": "2025-01-19T11:36:38.007052Z",
     "start_time": "2025-01-19T11:36:37.824343Z"
    }
   },
   "cell_type": "code",
   "source": [
    "# # Test model code\n",
    "model = ImageTextClassifier(\n",
    "    vocab_size=10000,  # Example parameters\n",
    "    embedding_dim=128,\n",
    "    num_heads=8,\n",
    "    transformer_hidden_dim=512,\n",
    "    num_transformer_layers=6,\n",
    "    seq_len=max_len,\n",
    "    cnn_dropout_value=0.3,\n",
    "    transformer_dropout_value=0.3,\n",
    "    num_classes=1\n",
    ")\n",
    "\n",
    "# Apply weight initialization recursively\n",
    "model.apply(initialize_weights)\n",
    "\n",
    "# Dummy input data\n",
    "images = torch.randn(16, 3, 100, 100)  # Batch of 16 RGB images of size 224x224\n",
    "captions = torch.randint(0, len(vocab), (16, max_len))  # Batch of 16 captions with max_len tokens each\n",
    "\n",
    "output = model(images, captions)\n",
    "print(output.shape)  # Should be (16) "
   ],
   "id": "61d242071b2bf57d",
   "outputs": [
    {
     "name": "stdout",
     "output_type": "stream",
     "text": [
      "torch.Size([16])\n"
     ]
    }
   ],
   "execution_count": 19
  },
  {
   "metadata": {
    "ExecuteTime": {
     "end_time": "2025-01-19T11:36:38.162654Z",
     "start_time": "2025-01-19T11:36:38.007052Z"
    }
   },
   "cell_type": "code",
   "source": [
    "# Initialize the model\n",
    "model_config = {\n",
    "    \"vocab_size\": len(vocab),\n",
    "    \"embedding_dim\": 256,\n",
    "    \"num_heads\": 4,\n",
    "    \"transformer_hidden_dim\": 256,\n",
    "    \"num_transformer_layers\": 8,\n",
    "    \"seq_len\": max_len,\n",
    "    \"cnn_dropout_value\": 0.5,\n",
    "    \"transformer_dropout_value\": 0.5,\n",
    "}\n",
    "model = ImageTextClassifier(**model_config)\n",
    "model.to(device)\n",
    "model.apply(initialize_weights)"
   ],
   "id": "b8e49cebdfb0724c",
   "outputs": [
    {
     "data": {
      "text/plain": [
       "ImageTextClassifier(\n",
       "  (cnn): CNN(\n",
       "    (layers): Sequential(\n",
       "      (0): Conv2d(3, 32, kernel_size=(3, 3), stride=(1, 1), padding=(1, 1))\n",
       "      (1): ReLU()\n",
       "      (2): BatchNorm2d(32, eps=1e-05, momentum=0.1, affine=True, track_running_stats=True)\n",
       "      (3): Dropout(p=0.5, inplace=False)\n",
       "      (4): MaxPool2d(kernel_size=2, stride=2, padding=0, dilation=1, ceil_mode=False)\n",
       "      (5): Conv2d(32, 64, kernel_size=(3, 3), stride=(1, 1), padding=(1, 1))\n",
       "      (6): ReLU()\n",
       "      (7): BatchNorm2d(64, eps=1e-05, momentum=0.1, affine=True, track_running_stats=True)\n",
       "      (8): Dropout(p=0.5, inplace=False)\n",
       "      (9): MaxPool2d(kernel_size=2, stride=2, padding=0, dilation=1, ceil_mode=False)\n",
       "      (10): Conv2d(64, 128, kernel_size=(3, 3), stride=(1, 1), padding=(1, 1))\n",
       "      (11): ReLU()\n",
       "      (12): BatchNorm2d(128, eps=1e-05, momentum=0.1, affine=True, track_running_stats=True)\n",
       "      (13): Dropout(p=0.5, inplace=False)\n",
       "      (14): AdaptiveAvgPool2d(output_size=(1, 1))\n",
       "    )\n",
       "    (flatten): Flatten(start_dim=1, end_dim=-1)\n",
       "  )\n",
       "  (text_module): TextModule(\n",
       "    (embedding): Embedding(3733, 256, padding_idx=0)\n",
       "    (positional_encoding): PositionalEncoding()\n",
       "    (transformer_encoder): TransformerEncoder(\n",
       "      (layers): ModuleList(\n",
       "        (0-7): 8 x TransformerEncoderLayer(\n",
       "          (self_attn): MultiheadAttention(\n",
       "            (out_proj): NonDynamicallyQuantizableLinear(in_features=256, out_features=256, bias=True)\n",
       "          )\n",
       "          (linear1): Linear(in_features=256, out_features=256, bias=True)\n",
       "          (dropout): Dropout(p=0.5, inplace=False)\n",
       "          (linear2): Linear(in_features=256, out_features=256, bias=True)\n",
       "          (norm1): LayerNorm((256,), eps=1e-05, elementwise_affine=True)\n",
       "          (norm2): LayerNorm((256,), eps=1e-05, elementwise_affine=True)\n",
       "          (dropout1): Dropout(p=0.5, inplace=False)\n",
       "          (dropout2): Dropout(p=0.5, inplace=False)\n",
       "        )\n",
       "      )\n",
       "    )\n",
       "  )\n",
       "  (head): Head(\n",
       "    (fc1): Linear(in_features=384, out_features=256, bias=True)\n",
       "    (dropout): Dropout(p=0.5, inplace=False)\n",
       "    (fc2): Linear(in_features=256, out_features=1, bias=True)\n",
       "  )\n",
       ")"
      ]
     },
     "execution_count": 20,
     "metadata": {},
     "output_type": "execute_result"
    }
   ],
   "execution_count": 20
  },
  {
   "metadata": {
    "ExecuteTime": {
     "end_time": "2025-01-19T11:54:21.180420Z",
     "start_time": "2025-01-19T11:54:21.176374Z"
    }
   },
   "cell_type": "code",
   "source": [
    "cnn_params = model.cnn.parameters()  # Parameters of the CNN module\n",
    "text_params = model.text_module.parameters()  # Parameters of the text module\n",
    "head_params = model.head.parameters()\n",
    "\n",
    "cnn_optimizer = optim.AdamW(cnn_params, lr=1e-4, weight_decay=1e-4)\n",
    "text_optimizer = optim.AdamW(text_params, lr=1e-5, weight_decay=1e-5)\n",
    "head_optimizer = optim.AdamW(head_params, lr=5e-4, weight_decay=1e-4)\n",
    "\n",
    "criterion = nn.BCEWithLogitsLoss()  # Use logits directly\n"
   ],
   "id": "13ef31cc2a253c3c",
   "outputs": [],
   "execution_count": 25
  },
  {
   "metadata": {
    "ExecuteTime": {
     "end_time": "2025-01-19T11:54:21.562198Z",
     "start_time": "2025-01-19T11:54:21.558152Z"
    }
   },
   "cell_type": "code",
   "source": [
    "cnn_scheduler = torch.optim.lr_scheduler.CosineAnnealingWarmRestarts(\n",
    "    cnn_optimizer, \n",
    "    T_0=5,  # Number of epochs before the first restart\n",
    "    T_mult=2,  # Multiplicative factor for increasing restart period\n",
    "    eta_min=1e-5  # Minimum learning rate\n",
    ")\n",
    "\n",
    "text_scheduler = torch.optim.lr_scheduler.CosineAnnealingWarmRestarts(\n",
    "    text_optimizer,\n",
    "    T_0=5,  # Number of epochs before the first restart\n",
    "    T_mult=2,  # Multiplicative factor for increasing restart period\n",
    "    eta_min=1e-5  # Minimum learning rate\n",
    ")\n",
    "\n",
    "head_scheduler = torch.optim.lr_scheduler.CosineAnnealingWarmRestarts(\n",
    "    head_optimizer,\n",
    "    T_0=5,  # Number of epochs before the first restart\n",
    "    T_mult=2,  # Multiplicative factor for increasing restart period\n",
    "    eta_min=1e-4  # Minimum learning rate\n",
    ")"
   ],
   "id": "2fd4fe8235fc725d",
   "outputs": [],
   "execution_count": 26
  },
  {
   "metadata": {
    "ExecuteTime": {
     "end_time": "2025-01-19T11:54:22.295699Z",
     "start_time": "2025-01-19T11:54:22.287039Z"
    }
   },
   "cell_type": "code",
   "source": [
    "import copy\n",
    "\n",
    "def training_method(model, criterion, cnn_optimizer, text_optimizer, head_optimizer, cnn_scheduler, text_scheduler, head_scheduler, num_epochs, train_loader, val_loader, patience=50, delta = 0.2, loss_procentage_improvement=10):\n",
    "    train_losses = []  # List to store training losses\n",
    "    val_losses = []  # List to store validation losses\n",
    "    val_accuracies = []  # List to store validation accuracies\n",
    "    val_precisions = []  # List to store validation precisions\n",
    "    val_recalls = []  # List to store validation recalls\n",
    "    val_f1s = []  # List to store validation F1-scores\n",
    "    learning_rates = [] # List to store learning rate progression\n",
    "\n",
    "    best_val_loss = float('inf')  # Initialize the best validation loss\n",
    "    initial_loss = float('inf')\n",
    "    best_model = None  # Store the best model\n",
    "    epochs_without_improvement = 0  # Track epochs without improvement\n",
    "\n",
    "    for epoch in range(num_epochs):\n",
    "        start_time = time.time()\n",
    "        ### TRAINING\n",
    "        model.train()\n",
    "        training_loss = 0.0\n",
    "        \n",
    "        for batch in train_loader:\n",
    "            images = batch['images'].to(device)      # Images from batch\n",
    "            captions = batch['captions'].to(device)  # Captions from batch\n",
    "            labels = batch['labels'].to(device).float()  # Binary labels (0/1), converted to float\n",
    "            \n",
    "            cnn_optimizer.zero_grad()  # Reset gradients\n",
    "            text_optimizer.zero_grad()\n",
    "            head_optimizer.zero_grad()\n",
    "            \n",
    "            output = model(images, captions)  # Forward pass (logits)\n",
    "            loss = criterion(output, labels)  # Compute loss\n",
    "            loss.backward()  # Backpropagation\n",
    "            \n",
    "            cnn_optimizer.step()  # Update weights\n",
    "            text_optimizer.step()\n",
    "            head_optimizer.step()\n",
    "            \n",
    "            training_loss += loss.item()  # Accumulate loss\n",
    "            \n",
    "        train_loss = training_loss / len(train_loader)  # Average training loss\n",
    "        train_losses.append(train_loss)\n",
    "\n",
    "        ### VALIDATING\n",
    "        model.eval()\n",
    "        validation_loss = 0.0\n",
    "        all_labels = []  # Ground truth labels for validation\n",
    "        all_preds = []   # Predictions for validation\n",
    "        \n",
    "        with torch.no_grad():\n",
    "            for batch in val_loader:\n",
    "                images = batch['images'].to(device)\n",
    "                captions = batch['captions'].to(device)\n",
    "                labels = batch['labels'].to(device).float()\n",
    "                \n",
    "                output = model(images, captions)  # Forward pass (logits)\n",
    "                loss = criterion(output, labels)  # Compute validation loss\n",
    "                validation_loss += loss.item()\n",
    "                \n",
    "                # Convert logits to probabilities and apply threshold\n",
    "                preds = (torch.sigmoid(output) > 0.5).float()\n",
    "                \n",
    "                # Store for statistics\n",
    "                all_labels.extend(labels.cpu().numpy())\n",
    "                all_preds.extend(preds.cpu().numpy())\n",
    "                \n",
    "        val_loss = validation_loss / len(val_loader)  # Average validation loss\n",
    "        val_losses.append(val_loss)\n",
    "        \n",
    "        # Compute validation statistics\n",
    "        val_accuracy = accuracy_score(all_labels, all_preds)\n",
    "        val_precision = precision_score(all_labels, all_preds, zero_division=0)\n",
    "        val_recall = recall_score(all_labels, all_preds, zero_division=0)\n",
    "        val_f1 = f1_score(all_labels, all_preds, zero_division=0)\n",
    "        \n",
    "        val_accuracies.append(val_accuracy)\n",
    "        val_precisions.append(val_precision)\n",
    "        val_recalls.append(val_recall)\n",
    "        val_f1s.append(val_f1)\n",
    "        \n",
    "        if epoch == 1:\n",
    "            initial_loss = val_loss\n",
    "\n",
    "        if val_loss < best_val_loss:\n",
    "            best_val_loss = val_loss\n",
    "            best_model = copy.deepcopy(model)  # Save the best model\n",
    "            epochs_without_improvement = 0  # Reset counter\n",
    "            print(f\"New best model with Loss: {val_loss:.4f} at epoch {epoch + 1}\")\n",
    "        elif val_loss < best_val_loss + delta:\n",
    "            print(f\"Validation loss did not improve significantly\")            \n",
    "        else:\n",
    "            epochs_without_improvement += 1\n",
    "            print(f\"Validation loss did not improve for {epochs_without_improvement} epoch(s).\")\n",
    "            # Stop training if validation loss does not improve for 'patience' epochs\n",
    "            if epochs_without_improvement >= patience:\n",
    "                print(f\"Early stopping at epoch {epoch + 1}. Best Loss: {best_val_loss:.4f}\")\n",
    "                break  # Exit training loop\n",
    "\n",
    "\n",
    "        # Step the learning rate scheduler\n",
    "        cnn_scheduler.step()\n",
    "        text_scheduler.step()\n",
    "        head_scheduler.step()\n",
    "        \n",
    "        end_time = time.time()\n",
    "\n",
    "        print(f\"\\nEpoch {epoch + 1}/{num_epochs} - \"\n",
    "              f\"Training Loss: {train_loss:.4f} - \"\n",
    "              f\"Validation Loss: {val_loss:.4f} - \"\n",
    "              f\"Accuracy: {val_accuracy:.4f} - \"\n",
    "              f\"Precision: {val_precision:.4f} - \"\n",
    "              f\"Recall: {val_recall:.4f} - \"\n",
    "              f\"F1 Score: {val_f1:.4f} - \"\n",
    "              f\"Time: {end_time - start_time:.2f}\")\n",
    "\n",
    "    print('Training finished!')\n",
    "    \n",
    "    # save the model only if the best loss is lower than the first initial loss ( to see that the model actually improved with 10% loss )\n",
    "    if best_val_loss < (100 - loss_procentage_improvement) * initial_loss:\n",
    "        # Init plot&model save path\n",
    "        plt_save_path = \"models/\"\n",
    "        model_config['eval_loss'] = best_val_loss\n",
    "        for key, value in model_config.items():\n",
    "            plt_save_path += key + \"=\" + str(value) + \"+\"\n",
    "        plt_save_path = plt_save_path[:-1] + \".png\"\n",
    "        model_path = plt_save_path[:-4] + \".pt\"\n",
    "        \n",
    "        torch.save(best_model.state_dict(), model_path)\n",
    "        print(f\"Best model with Loss: {best_val_loss:.4f} saved.\")\n",
    "        print(f\"Model saved to {model_path}\")\n",
    "\n",
    "        # Plotting the losses and validation metrics over epochs\n",
    "        plt.figure(figsize=(12, 8))\n",
    "        plt.subplot(2, 1, 1)\n",
    "        plt.plot(train_losses, label='Training Loss')\n",
    "        plt.plot(val_losses, label='Validation Loss')\n",
    "        plt.xlabel('Epochs')\n",
    "        plt.ylabel('Loss')\n",
    "        plt.title('Training and Validation Loss')\n",
    "        plt.legend()\n",
    "        \n",
    "        plt.subplot(2, 1, 2)\n",
    "        plt.plot(val_accuracies, label='Accuracy')\n",
    "        plt.plot(val_precisions, label='Precision')\n",
    "        plt.plot(val_recalls, label='Recall')\n",
    "        plt.plot(val_f1s, label='F1 Score')\n",
    "        plt.xlabel('Epochs')\n",
    "        plt.ylabel('Metric')\n",
    "        plt.title('Validation Metrics')\n",
    "        plt.legend()\n",
    "\n",
    "    \n",
    "        plt.tight_layout()\n",
    "        plt.savefig(plt_save_path)\n",
    "        plt.show()\n",
    "    \n",
    "    else:\n",
    "        print(f\"Model wasn't saved because it didn't improve: {loss_procentage_improvement}%\")"
   ],
   "id": "6280acf86aa228a2",
   "outputs": [],
   "execution_count": 27
  },
  {
   "metadata": {
    "ExecuteTime": {
     "end_time": "2025-01-19T12:04:02.598242Z",
     "start_time": "2025-01-19T11:54:22.782051Z"
    }
   },
   "cell_type": "code",
   "source": "training_method(model, criterion, cnn_optimizer, text_optimizer, head_optimizer, cnn_scheduler, text_scheduler, head_scheduler, num_epochs=50, train_loader=train_dataloader, val_loader=val_dataloader)",
   "id": "ee2f8b5c78457e56",
   "outputs": [
    {
     "name": "stdout",
     "output_type": "stream",
     "text": [
      "New best model with Loss: 2.6736 at epoch 1\n",
      "\n",
      "Epoch 1/50 - Training Loss: 0.6226 - Validation Loss: 2.6736 - Accuracy: 0.5083 - Precision: 0.5046 - Recall: 0.9187 - F1 Score: 0.6514 - Time: 12.24\n",
      "New best model with Loss: 2.2962 at epoch 2\n",
      "\n",
      "Epoch 2/50 - Training Loss: 0.6117 - Validation Loss: 2.2962 - Accuracy: 0.5123 - Precision: 0.5088 - Recall: 0.7093 - F1 Score: 0.5926 - Time: 11.51\n",
      "Validation loss did not improve for 1 epoch(s).\n",
      "\n",
      "Epoch 3/50 - Training Loss: 0.6115 - Validation Loss: 2.9176 - Accuracy: 0.5103 - Precision: 0.5057 - Recall: 0.9200 - F1 Score: 0.6526 - Time: 11.41\n",
      "Validation loss did not improve for 2 epoch(s).\n",
      "\n",
      "Epoch 4/50 - Training Loss: 0.6093 - Validation Loss: 3.0635 - Accuracy: 0.5030 - Precision: 0.5016 - Recall: 0.9607 - F1 Score: 0.6590 - Time: 11.45\n",
      "Validation loss did not improve for 3 epoch(s).\n",
      "\n",
      "Epoch 5/50 - Training Loss: 0.6051 - Validation Loss: 2.9461 - Accuracy: 0.4997 - Precision: 0.4998 - Recall: 0.9693 - F1 Score: 0.6596 - Time: 11.75\n",
      "Validation loss did not improve for 4 epoch(s).\n",
      "\n",
      "Epoch 6/50 - Training Loss: 0.6060 - Validation Loss: 2.8643 - Accuracy: 0.5020 - Precision: 0.5010 - Recall: 0.9747 - F1 Score: 0.6618 - Time: 11.57\n",
      "Validation loss did not improve for 5 epoch(s).\n",
      "\n",
      "Epoch 7/50 - Training Loss: 0.6058 - Validation Loss: 2.7363 - Accuracy: 0.5020 - Precision: 0.5010 - Recall: 0.9667 - F1 Score: 0.6600 - Time: 11.52\n",
      "Validation loss did not improve for 6 epoch(s).\n",
      "\n",
      "Epoch 8/50 - Training Loss: 0.6036 - Validation Loss: 2.8177 - Accuracy: 0.5070 - Precision: 0.5038 - Recall: 0.9227 - F1 Score: 0.6518 - Time: 11.45\n",
      "Validation loss did not improve for 7 epoch(s).\n",
      "\n",
      "Epoch 9/50 - Training Loss: 0.6032 - Validation Loss: 2.6885 - Accuracy: 0.5047 - Precision: 0.5027 - Recall: 0.8673 - F1 Score: 0.6365 - Time: 11.48\n",
      "Validation loss did not improve for 8 epoch(s).\n",
      "\n",
      "Epoch 10/50 - Training Loss: 0.5978 - Validation Loss: 2.7506 - Accuracy: 0.5097 - Precision: 0.5059 - Recall: 0.8307 - F1 Score: 0.6288 - Time: 11.48\n",
      "Validation loss did not improve for 9 epoch(s).\n",
      "\n",
      "Epoch 11/50 - Training Loss: 0.6012 - Validation Loss: 3.2443 - Accuracy: 0.4997 - Precision: 0.4998 - Recall: 0.9420 - F1 Score: 0.6531 - Time: 11.46\n",
      "Validation loss did not improve for 10 epoch(s).\n",
      "\n",
      "Epoch 12/50 - Training Loss: 0.5943 - Validation Loss: 2.9342 - Accuracy: 0.4970 - Precision: 0.4984 - Recall: 0.9073 - F1 Score: 0.6433 - Time: 11.48\n",
      "Validation loss did not improve for 11 epoch(s).\n",
      "\n",
      "Epoch 13/50 - Training Loss: 0.5978 - Validation Loss: 3.7792 - Accuracy: 0.5003 - Precision: 0.5002 - Recall: 0.9767 - F1 Score: 0.6615 - Time: 11.48\n",
      "Validation loss did not improve for 12 epoch(s).\n",
      "\n",
      "Epoch 14/50 - Training Loss: 0.5928 - Validation Loss: 3.4095 - Accuracy: 0.4980 - Precision: 0.4990 - Recall: 0.9700 - F1 Score: 0.6590 - Time: 11.53\n",
      "Validation loss did not improve for 13 epoch(s).\n",
      "\n",
      "Epoch 15/50 - Training Loss: 0.5927 - Validation Loss: 3.5417 - Accuracy: 0.4993 - Precision: 0.4997 - Recall: 0.9727 - F1 Score: 0.6602 - Time: 11.44\n",
      "Validation loss did not improve for 14 epoch(s).\n",
      "\n",
      "Epoch 16/50 - Training Loss: 0.5920 - Validation Loss: 3.8462 - Accuracy: 0.4997 - Precision: 0.4998 - Recall: 0.9833 - F1 Score: 0.6628 - Time: 11.45\n",
      "Validation loss did not improve for 15 epoch(s).\n",
      "\n",
      "Epoch 17/50 - Training Loss: 0.6007 - Validation Loss: 3.3922 - Accuracy: 0.4973 - Precision: 0.4986 - Recall: 0.9733 - F1 Score: 0.6594 - Time: 11.48\n",
      "Validation loss did not improve for 16 epoch(s).\n",
      "\n",
      "Epoch 18/50 - Training Loss: 0.5904 - Validation Loss: 3.1299 - Accuracy: 0.5040 - Precision: 0.5021 - Recall: 0.9600 - F1 Score: 0.6593 - Time: 11.52\n",
      "Validation loss did not improve for 17 epoch(s).\n",
      "\n",
      "Epoch 19/50 - Training Loss: 0.5914 - Validation Loss: 2.7521 - Accuracy: 0.5057 - Precision: 0.5030 - Recall: 0.9600 - F1 Score: 0.6601 - Time: 11.48\n",
      "Validation loss did not improve for 18 epoch(s).\n",
      "\n",
      "Epoch 20/50 - Training Loss: 0.5924 - Validation Loss: 3.2773 - Accuracy: 0.5003 - Precision: 0.5002 - Recall: 0.9627 - F1 Score: 0.6583 - Time: 11.61\n",
      "Validation loss did not improve for 19 epoch(s).\n",
      "\n",
      "Epoch 21/50 - Training Loss: 0.5868 - Validation Loss: 3.2427 - Accuracy: 0.5023 - Precision: 0.5012 - Recall: 0.9580 - F1 Score: 0.6581 - Time: 11.52\n",
      "Validation loss did not improve for 20 epoch(s).\n",
      "\n",
      "Epoch 22/50 - Training Loss: 0.5845 - Validation Loss: 3.3095 - Accuracy: 0.5017 - Precision: 0.5009 - Recall: 0.9213 - F1 Score: 0.6490 - Time: 11.50\n",
      "Validation loss did not improve for 21 epoch(s).\n",
      "\n",
      "Epoch 23/50 - Training Loss: 0.5874 - Validation Loss: 3.6212 - Accuracy: 0.5040 - Precision: 0.5022 - Recall: 0.9300 - F1 Score: 0.6522 - Time: 11.51\n",
      "Validation loss did not improve for 22 epoch(s).\n",
      "\n",
      "Epoch 24/50 - Training Loss: 0.5837 - Validation Loss: 3.7712 - Accuracy: 0.5017 - Precision: 0.5009 - Recall: 0.9527 - F1 Score: 0.6566 - Time: 12.05\n",
      "Validation loss did not improve for 23 epoch(s).\n",
      "\n",
      "Epoch 25/50 - Training Loss: 0.5869 - Validation Loss: 3.8290 - Accuracy: 0.4970 - Precision: 0.4984 - Recall: 0.9427 - F1 Score: 0.6521 - Time: 12.00\n",
      "Validation loss did not improve for 24 epoch(s).\n",
      "\n",
      "Epoch 26/50 - Training Loss: 0.5786 - Validation Loss: 4.0611 - Accuracy: 0.5017 - Precision: 0.5009 - Recall: 0.9173 - F1 Score: 0.6480 - Time: 11.62\n",
      "Validation loss did not improve for 25 epoch(s).\n",
      "\n",
      "Epoch 27/50 - Training Loss: 0.5803 - Validation Loss: 3.8445 - Accuracy: 0.4993 - Precision: 0.4996 - Recall: 0.8820 - F1 Score: 0.6379 - Time: 12.24\n",
      "Validation loss did not improve for 26 epoch(s).\n",
      "\n",
      "Epoch 28/50 - Training Loss: 0.5775 - Validation Loss: 3.8413 - Accuracy: 0.4967 - Precision: 0.4982 - Recall: 0.9260 - F1 Score: 0.6479 - Time: 11.52\n",
      "Validation loss did not improve for 27 epoch(s).\n",
      "\n",
      "Epoch 29/50 - Training Loss: 0.5783 - Validation Loss: 3.9622 - Accuracy: 0.4960 - Precision: 0.4979 - Recall: 0.9267 - F1 Score: 0.6477 - Time: 11.93\n",
      "Validation loss did not improve for 28 epoch(s).\n",
      "\n",
      "Epoch 30/50 - Training Loss: 0.5810 - Validation Loss: 4.0001 - Accuracy: 0.4943 - Precision: 0.4968 - Recall: 0.8893 - F1 Score: 0.6375 - Time: 11.47\n",
      "Validation loss did not improve for 29 epoch(s).\n",
      "\n",
      "Epoch 31/50 - Training Loss: 0.5798 - Validation Loss: 4.3595 - Accuracy: 0.4973 - Precision: 0.4986 - Recall: 0.9573 - F1 Score: 0.6557 - Time: 11.41\n",
      "Validation loss did not improve for 30 epoch(s).\n",
      "\n",
      "Epoch 32/50 - Training Loss: 0.5760 - Validation Loss: 4.1358 - Accuracy: 0.4967 - Precision: 0.4982 - Recall: 0.9407 - F1 Score: 0.6514 - Time: 11.38\n",
      "Validation loss did not improve for 31 epoch(s).\n",
      "\n",
      "Epoch 33/50 - Training Loss: 0.5746 - Validation Loss: 4.2741 - Accuracy: 0.4977 - Precision: 0.4988 - Recall: 0.9447 - F1 Score: 0.6528 - Time: 11.35\n",
      "Validation loss did not improve for 32 epoch(s).\n",
      "\n",
      "Epoch 34/50 - Training Loss: 0.5697 - Validation Loss: 3.9498 - Accuracy: 0.4997 - Precision: 0.4998 - Recall: 0.9393 - F1 Score: 0.6525 - Time: 11.43\n",
      "Validation loss did not improve for 33 epoch(s).\n",
      "\n",
      "Epoch 35/50 - Training Loss: 0.5737 - Validation Loss: 3.7910 - Accuracy: 0.4987 - Precision: 0.4993 - Recall: 0.9460 - F1 Score: 0.6536 - Time: 11.38\n",
      "Validation loss did not improve for 34 epoch(s).\n",
      "\n",
      "Epoch 36/50 - Training Loss: 0.5775 - Validation Loss: 3.6170 - Accuracy: 0.4973 - Precision: 0.4985 - Recall: 0.9100 - F1 Score: 0.6442 - Time: 11.52\n",
      "Validation loss did not improve for 35 epoch(s).\n",
      "\n",
      "Epoch 37/50 - Training Loss: 0.5795 - Validation Loss: 4.3702 - Accuracy: 0.4987 - Precision: 0.4993 - Recall: 0.9213 - F1 Score: 0.6476 - Time: 11.35\n",
      "Validation loss did not improve for 36 epoch(s).\n",
      "\n",
      "Epoch 38/50 - Training Loss: 0.5776 - Validation Loss: 3.6946 - Accuracy: 0.4977 - Precision: 0.4987 - Recall: 0.9193 - F1 Score: 0.6467 - Time: 11.37\n",
      "Validation loss did not improve for 37 epoch(s).\n",
      "\n",
      "Epoch 39/50 - Training Loss: 0.5762 - Validation Loss: 4.0442 - Accuracy: 0.4920 - Precision: 0.4956 - Recall: 0.9107 - F1 Score: 0.6419 - Time: 11.44\n",
      "Validation loss did not improve for 38 epoch(s).\n",
      "\n",
      "Epoch 40/50 - Training Loss: 0.5773 - Validation Loss: 3.7147 - Accuracy: 0.5003 - Precision: 0.5002 - Recall: 0.8660 - F1 Score: 0.6341 - Time: 11.80\n",
      "Validation loss did not improve for 39 epoch(s).\n",
      "\n",
      "Epoch 41/50 - Training Loss: 0.5739 - Validation Loss: 3.9820 - Accuracy: 0.4973 - Precision: 0.4985 - Recall: 0.8653 - F1 Score: 0.6326 - Time: 11.86\n",
      "Validation loss did not improve for 40 epoch(s).\n",
      "\n",
      "Epoch 42/50 - Training Loss: 0.5730 - Validation Loss: 3.3867 - Accuracy: 0.4917 - Precision: 0.4952 - Recall: 0.8607 - F1 Score: 0.6287 - Time: 11.76\n",
      "Validation loss did not improve for 41 epoch(s).\n",
      "\n",
      "Epoch 43/50 - Training Loss: 0.5689 - Validation Loss: 3.5660 - Accuracy: 0.4993 - Precision: 0.4996 - Recall: 0.8113 - F1 Score: 0.6184 - Time: 11.66\n",
      "Validation loss did not improve for 42 epoch(s).\n",
      "\n",
      "Epoch 44/50 - Training Loss: 0.5654 - Validation Loss: 4.2767 - Accuracy: 0.4937 - Precision: 0.4966 - Recall: 0.9233 - F1 Score: 0.6458 - Time: 11.69\n",
      "Validation loss did not improve for 43 epoch(s).\n",
      "\n",
      "Epoch 45/50 - Training Loss: 0.5664 - Validation Loss: 4.7809 - Accuracy: 0.4953 - Precision: 0.4975 - Recall: 0.9293 - F1 Score: 0.6481 - Time: 11.67\n",
      "Validation loss did not improve for 44 epoch(s).\n",
      "\n",
      "Epoch 46/50 - Training Loss: 0.5650 - Validation Loss: 4.3122 - Accuracy: 0.4923 - Precision: 0.4955 - Recall: 0.8487 - F1 Score: 0.6257 - Time: 11.68\n",
      "Validation loss did not improve for 45 epoch(s).\n",
      "\n",
      "Epoch 47/50 - Training Loss: 0.5649 - Validation Loss: 3.6345 - Accuracy: 0.4917 - Precision: 0.4952 - Recall: 0.8680 - F1 Score: 0.6307 - Time: 11.77\n",
      "Validation loss did not improve for 46 epoch(s).\n",
      "\n",
      "Epoch 48/50 - Training Loss: 0.5712 - Validation Loss: 3.9300 - Accuracy: 0.4907 - Precision: 0.4945 - Recall: 0.8360 - F1 Score: 0.6214 - Time: 11.87\n",
      "Validation loss did not improve for 47 epoch(s).\n",
      "\n",
      "Epoch 49/50 - Training Loss: 0.5628 - Validation Loss: 3.3585 - Accuracy: 0.4980 - Precision: 0.4987 - Recall: 0.7433 - F1 Score: 0.5969 - Time: 11.49\n",
      "Validation loss did not improve for 48 epoch(s).\n",
      "\n",
      "Epoch 50/50 - Training Loss: 0.5653 - Validation Loss: 3.9242 - Accuracy: 0.4880 - Precision: 0.4931 - Recall: 0.8547 - F1 Score: 0.6254 - Time: 11.50\n",
      "Training finished!\n",
      "Best model with Loss: 2.2962 saved.\n",
      "Model saved to models/vocab_size=3733+embedding_dim=256+num_heads=4+transformer_hidden_dim=256+num_transformer_layers=8+seq_len=53+cnn_dropout_value=0.5+transformer_dropout_value=0.5+eval_loss=2.2962495874851307.pt\n"
     ]
    },
    {
     "data": {
      "text/plain": [
       "<Figure size 1200x800 with 2 Axes>"
      ],
      "image/png": "[encoded data removed]"
     },
     "metadata": {},
     "output_type": "display_data"
    }
   ],
   "execution_count": 28
  },
  {
   "metadata": {
    "ExecuteTime": {
     "end_time": "2024-12-23T18:17:08.325416Z",
     "start_time": "2024-12-23T18:17:08.321854Z"
    }
   },
   "cell_type": "code",
   "source": [
    "ids = []\n",
    "predictions = []\n",
    "\n",
    "def make_submission(model, test_loader):\n",
    "    model.eval()\n",
    "\n",
    "    with torch.no_grad():\n",
    "        for batch in tqdm(test_loader):\n",
    "            images = batch['images'].to(device)\n",
    "            captions = batch['captions'].to(device)\n",
    "            id = batch['id']\n",
    "            \n",
    "            output = model(images, captions)\n",
    "            preds = (torch.sigmoid(output) > 0.5).int()\n",
    "            \n",
    "            ids.extend(id)\n",
    "            predictions.extend(preds.cpu().tolist())\n",
    "    df = pd.DataFrame({'id': ids, 'label': predictions})\n",
    "    df.to_csv('submission2.csv', index=False)"
   ],
   "id": "95402ff5c7357c82",
   "outputs": [],
   "execution_count": 24
  },
  {
   "metadata": {
    "ExecuteTime": {
     "end_time": "2024-12-23T18:17:08.741801Z",
     "start_time": "2024-12-23T18:17:08.325925Z"
    }
   },
   "cell_type": "code",
   "source": [
    "# model_config = {\n",
    "#     \"vocab_size\": len(vocab),\n",
    "#     \"embedding_dim\": 128,\n",
    "#     \"num_heads\": 2,\n",
    "#     \"transformer_hidden_dim\": 256,\n",
    "#     \"num_transformer_layers\": 2,\n",
    "#     \"seq_len\": max_len,\n",
    "#     \"cnn_dropout_value\": 0.4,\n",
    "#     \"transformer_dropout_value\": 0.5,\n",
    "# }\n",
    "# model = ImageTextClassifier(**model_config)\n",
    "# model_path = \"models/vocab_size=3733+embedding_dim=128+num_filters=128+filter_sizes=[3, 4, 5, 6, 7, 8]+seq_len=53+cnn_text_drop_value=0.5+cnn_dropout_value=0.4+transformer_dropout_value=0.5+num_classes=1+eval_loss=0.6212541232717798.pt\"\n",
    "# model.load_state_dict(torch.load(model_path, weights_only=True))"
   ],
   "id": "dd19aec7fc0cdddc",
   "outputs": [
    {
     "ename": "RuntimeError",
     "evalue": "Error(s) in loading state_dict for ImageTextClassifier:\n\tMissing key(s) in state_dict: \"text_module.transformer_encoder.layers.0.self_attn.in_proj_weight\", \"text_module.transformer_encoder.layers.0.self_attn.in_proj_bias\", \"text_module.transformer_encoder.layers.0.self_attn.out_proj.weight\", \"text_module.transformer_encoder.layers.0.self_attn.out_proj.bias\", \"text_module.transformer_encoder.layers.0.linear1.weight\", \"text_module.transformer_encoder.layers.0.linear1.bias\", \"text_module.transformer_encoder.layers.0.linear2.weight\", \"text_module.transformer_encoder.layers.0.linear2.bias\", \"text_module.transformer_encoder.layers.0.norm1.weight\", \"text_module.transformer_encoder.layers.0.norm1.bias\", \"text_module.transformer_encoder.layers.0.norm2.weight\", \"text_module.transformer_encoder.layers.0.norm2.bias\", \"text_module.transformer_encoder.layers.1.self_attn.in_proj_weight\", \"text_module.transformer_encoder.layers.1.self_attn.in_proj_bias\", \"text_module.transformer_encoder.layers.1.self_attn.out_proj.weight\", \"text_module.transformer_encoder.layers.1.self_attn.out_proj.bias\", \"text_module.transformer_encoder.layers.1.linear1.weight\", \"text_module.transformer_encoder.layers.1.linear1.bias\", \"text_module.transformer_encoder.layers.1.linear2.weight\", \"text_module.transformer_encoder.layers.1.linear2.bias\", \"text_module.transformer_encoder.layers.1.norm1.weight\", \"text_module.transformer_encoder.layers.1.norm1.bias\", \"text_module.transformer_encoder.layers.1.norm2.weight\", \"text_module.transformer_encoder.layers.1.norm2.bias\". \n\tUnexpected key(s) in state_dict: \"text_module.conv_layers.0.weight\", \"text_module.conv_layers.0.bias\", \"text_module.conv_layers.1.weight\", \"text_module.conv_layers.1.bias\", \"text_module.conv_layers.2.weight\", \"text_module.conv_layers.2.bias\", \"text_module.conv_layers.3.weight\", \"text_module.conv_layers.3.bias\", \"text_module.conv_layers.4.weight\", \"text_module.conv_layers.4.bias\", \"text_module.conv_layers.5.weight\", \"text_module.conv_layers.5.bias\", \"text_module.conv_layers.6.weight\", \"text_module.conv_layers.6.bias\", \"text_module.fc.weight\", \"text_module.fc.bias\". \n\tsize mismatch for text_module.embedding.weight: copying a param with shape torch.Size([3733, 128]) from checkpoint, the shape in current model is torch.Size([3662, 128]).\n\tsize mismatch for text_module.positional_encoding.pe: copying a param with shape torch.Size([1, 53, 128]) from checkpoint, the shape in current model is torch.Size([1, 45, 128]).",
     "output_type": "error",
     "traceback": [
      "\u001B[1;31m---------------------------------------------------------------------------\u001B[0m",
      "\u001B[1;31mRuntimeError\u001B[0m                              Traceback (most recent call last)",
      "Cell \u001B[1;32mIn[25], line 13\u001B[0m\n\u001B[0;32m     11\u001B[0m model \u001B[38;5;241m=\u001B[39m ImageTextClassifier(\u001B[38;5;241m*\u001B[39m\u001B[38;5;241m*\u001B[39mmodel_config)\n\u001B[0;32m     12\u001B[0m model_path \u001B[38;5;241m=\u001B[39m \u001B[38;5;124m\"\u001B[39m\u001B[38;5;124mmodels/vocab_size=3733+embedding_dim=128+num_filters=128+filter_sizes=[3, 4, 5, 6, 7, 8]+seq_len=53+cnn_text_drop_value=0.5+cnn_dropout_value=0.4+transformer_dropout_value=0.5+num_classes=1+eval_loss=0.6212541232717798.pt\u001B[39m\u001B[38;5;124m\"\u001B[39m\n\u001B[1;32m---> 13\u001B[0m model\u001B[38;5;241m.\u001B[39mload_state_dict(torch\u001B[38;5;241m.\u001B[39mload(model_path, weights_only\u001B[38;5;241m=\u001B[39m\u001B[38;5;28;01mTrue\u001B[39;00m))\n",
      "File \u001B[1;32m~\\miniconda3\\envs\\AI\\Lib\\site-packages\\torch\\nn\\modules\\module.py:2584\u001B[0m, in \u001B[0;36mModule.load_state_dict\u001B[1;34m(self, state_dict, strict, assign)\u001B[0m\n\u001B[0;32m   2576\u001B[0m         error_msgs\u001B[38;5;241m.\u001B[39minsert(\n\u001B[0;32m   2577\u001B[0m             \u001B[38;5;241m0\u001B[39m,\n\u001B[0;32m   2578\u001B[0m             \u001B[38;5;124m\"\u001B[39m\u001B[38;5;124mMissing key(s) in state_dict: \u001B[39m\u001B[38;5;132;01m{}\u001B[39;00m\u001B[38;5;124m. \u001B[39m\u001B[38;5;124m\"\u001B[39m\u001B[38;5;241m.\u001B[39mformat(\n\u001B[0;32m   2579\u001B[0m                 \u001B[38;5;124m\"\u001B[39m\u001B[38;5;124m, \u001B[39m\u001B[38;5;124m\"\u001B[39m\u001B[38;5;241m.\u001B[39mjoin(\u001B[38;5;124mf\u001B[39m\u001B[38;5;124m'\u001B[39m\u001B[38;5;124m\"\u001B[39m\u001B[38;5;132;01m{\u001B[39;00mk\u001B[38;5;132;01m}\u001B[39;00m\u001B[38;5;124m\"\u001B[39m\u001B[38;5;124m'\u001B[39m \u001B[38;5;28;01mfor\u001B[39;00m k \u001B[38;5;129;01min\u001B[39;00m missing_keys)\n\u001B[0;32m   2580\u001B[0m             ),\n\u001B[0;32m   2581\u001B[0m         )\n\u001B[0;32m   2583\u001B[0m \u001B[38;5;28;01mif\u001B[39;00m \u001B[38;5;28mlen\u001B[39m(error_msgs) \u001B[38;5;241m>\u001B[39m \u001B[38;5;241m0\u001B[39m:\n\u001B[1;32m-> 2584\u001B[0m     \u001B[38;5;28;01mraise\u001B[39;00m \u001B[38;5;167;01mRuntimeError\u001B[39;00m(\n\u001B[0;32m   2585\u001B[0m         \u001B[38;5;124m\"\u001B[39m\u001B[38;5;124mError(s) in loading state_dict for \u001B[39m\u001B[38;5;132;01m{}\u001B[39;00m\u001B[38;5;124m:\u001B[39m\u001B[38;5;130;01m\\n\u001B[39;00m\u001B[38;5;130;01m\\t\u001B[39;00m\u001B[38;5;132;01m{}\u001B[39;00m\u001B[38;5;124m\"\u001B[39m\u001B[38;5;241m.\u001B[39mformat(\n\u001B[0;32m   2586\u001B[0m             \u001B[38;5;28mself\u001B[39m\u001B[38;5;241m.\u001B[39m\u001B[38;5;18m__class__\u001B[39m\u001B[38;5;241m.\u001B[39m\u001B[38;5;18m__name__\u001B[39m, \u001B[38;5;124m\"\u001B[39m\u001B[38;5;130;01m\\n\u001B[39;00m\u001B[38;5;130;01m\\t\u001B[39;00m\u001B[38;5;124m\"\u001B[39m\u001B[38;5;241m.\u001B[39mjoin(error_msgs)\n\u001B[0;32m   2587\u001B[0m         )\n\u001B[0;32m   2588\u001B[0m     )\n\u001B[0;32m   2589\u001B[0m \u001B[38;5;28;01mreturn\u001B[39;00m _IncompatibleKeys(missing_keys, unexpected_keys)\n",
      "\u001B[1;31mRuntimeError\u001B[0m: Error(s) in loading state_dict for ImageTextClassifier:\n\tMissing key(s) in state_dict: \"text_module.transformer_encoder.layers.0.self_attn.in_proj_weight\", \"text_module.transformer_encoder.layers.0.self_attn.in_proj_bias\", \"text_module.transformer_encoder.layers.0.self_attn.out_proj.weight\", \"text_module.transformer_encoder.layers.0.self_attn.out_proj.bias\", \"text_module.transformer_encoder.layers.0.linear1.weight\", \"text_module.transformer_encoder.layers.0.linear1.bias\", \"text_module.transformer_encoder.layers.0.linear2.weight\", \"text_module.transformer_encoder.layers.0.linear2.bias\", \"text_module.transformer_encoder.layers.0.norm1.weight\", \"text_module.transformer_encoder.layers.0.norm1.bias\", \"text_module.transformer_encoder.layers.0.norm2.weight\", \"text_module.transformer_encoder.layers.0.norm2.bias\", \"text_module.transformer_encoder.layers.1.self_attn.in_proj_weight\", \"text_module.transformer_encoder.layers.1.self_attn.in_proj_bias\", \"text_module.transformer_encoder.layers.1.self_attn.out_proj.weight\", \"text_module.transformer_encoder.layers.1.self_attn.out_proj.bias\", \"text_module.transformer_encoder.layers.1.linear1.weight\", \"text_module.transformer_encoder.layers.1.linear1.bias\", \"text_module.transformer_encoder.layers.1.linear2.weight\", \"text_module.transformer_encoder.layers.1.linear2.bias\", \"text_module.transformer_encoder.layers.1.norm1.weight\", \"text_module.transformer_encoder.layers.1.norm1.bias\", \"text_module.transformer_encoder.layers.1.norm2.weight\", \"text_module.transformer_encoder.layers.1.norm2.bias\". \n\tUnexpected key(s) in state_dict: \"text_module.conv_layers.0.weight\", \"text_module.conv_layers.0.bias\", \"text_module.conv_layers.1.weight\", \"text_module.conv_layers.1.bias\", \"text_module.conv_layers.2.weight\", \"text_module.conv_layers.2.bias\", \"text_module.conv_layers.3.weight\", \"text_module.conv_layers.3.bias\", \"text_module.conv_layers.4.weight\", \"text_module.conv_layers.4.bias\", \"text_module.conv_layers.5.weight\", \"text_module.conv_layers.5.bias\", \"text_module.conv_layers.6.weight\", \"text_module.conv_layers.6.bias\", \"text_module.fc.weight\", \"text_module.fc.bias\". \n\tsize mismatch for text_module.embedding.weight: copying a param with shape torch.Size([3733, 128]) from checkpoint, the shape in current model is torch.Size([3662, 128]).\n\tsize mismatch for text_module.positional_encoding.pe: copying a param with shape torch.Size([1, 53, 128]) from checkpoint, the shape in current model is torch.Size([1, 45, 128])."
     ]
    }
   ],
   "execution_count": 25
  },
  {
   "metadata": {},
   "cell_type": "code",
   "source": "# make_submission(model, test_dataloader)",
   "id": "6cc9a81e05125a1d",
   "outputs": [],
   "execution_count": null
  },
  {
   "metadata": {
    "ExecuteTime": {
     "end_time": "2024-12-23T18:17:37.242537Z",
     "start_time": "2024-12-23T18:17:37.237944Z"
    }
   },
   "cell_type": "code",
   "source": [
    "\n",
    "def hyperparameter_tuning(vocab_size, max_len, train_loader, val_loader, param_grid, training_method, num_epochs=100):\n",
    "\n",
    "    # Create all combinations of hyperparameters\n",
    "    keys, values = zip(*param_grid.items())\n",
    "    param_combinations = [dict(zip(keys, v)) for v in product(*values)]\n",
    "    \n",
    "    for params in tqdm(param_combinations):\n",
    "        print(f\"Testing configuration: {params}\")\n",
    "        \n",
    "        try:\n",
    "            # Update model configuration\n",
    "            model_config = {\n",
    "                \"vocab_size\": vocab_size,\n",
    "                \"embedding_dim\": params[\"embedding_dim\"],\n",
    "                \"num_heads\": params[\"num_heads\"],\n",
    "                \"transformer_hidden_dim\": params[\"transformer_hidden_dim\"],\n",
    "                \"num_transformer_layers\": params[\"num_transformer_layers\"],\n",
    "                \"seq_len\": max_len,\n",
    "                \"cnn_dropout_value\": params[\"cnn_dropout_value\"],\n",
    "                \"transformer_dropout_value\": params[\"transformer_dropout_value\"],\n",
    "            }\n",
    "            \n",
    "            # Initialize model\n",
    "            model = ImageTextClassifier(**model_config)\n",
    "            model.to(device)\n",
    "            model.apply(initialize_weights)\n",
    "            \n",
    "            # Define criterion, optimizer, and scheduler\n",
    "            criterion = nn.BCEWithLogitsLoss()\n",
    "            optimizer = optim.AdamW(\n",
    "                model.parameters(), \n",
    "                lr=params[\"lr\"], \n",
    "                weight_decay=params[\"weight_decay\"]\n",
    "            )\n",
    "            scheduler = torch.optim.lr_scheduler.CosineAnnealingWarmRestarts(\n",
    "                optimizer, \n",
    "                T_0=params[\"T_0\"]\n",
    "            )\n",
    "            \n",
    "            # Train the model\n",
    "            training_method(\n",
    "                model, criterion, optimizer, scheduler,\n",
    "                num_epochs=num_epochs,\n",
    "                train_loader=train_loader,\n",
    "                val_loader=val_loader\n",
    "            )\n",
    "            print(f\"Completed configuration: {params}\")\n",
    "        \n",
    "        except RuntimeError as e:\n",
    "            print(f\"Error with configuration: {params}\")\n",
    "            print(f\"Error message: {str(e)}\")\n",
    "        \n",
    "        finally:\n",
    "            # Reset GPU memory\n",
    "            print(\"Resetting GPU memory...\")\n",
    "            torch.cuda.empty_cache()\n",
    "            gc.collect()"
   ],
   "id": "cf6ef0fe03c73deb",
   "outputs": [],
   "execution_count": 26
  },
  {
   "metadata": {
    "ExecuteTime": {
     "end_time": "2024-12-23T18:17:37.817401Z",
     "start_time": "2024-12-23T18:17:37.813851Z"
    }
   },
   "cell_type": "code",
   "source": [
    "param_grid = {\n",
    "    \"embedding_dim\": [128],\n",
    "    \"num_heads\": [4],\n",
    "    \"transformer_hidden_dim\": [512],\n",
    "    \"num_transformer_layers\": [8],\n",
    "    \"cnn_dropout_value\": [0.5],\n",
    "    \"transformer_dropout_value\": [0.7],\n",
    "    \"lr\": [5e-4, 5e-5],\n",
    "    \"weight_decay\": [1e-3, 1e-4],\n",
    "    \"T_0\": [20],\n",
    "    \"T_mult\": [1],\n",
    "    \"eta_min\": [5e-6],\n",
    "}\n",
    "\n",
    "total_combinations = math.prod(len(values) for values in param_grid.values())\n",
    "print(f\"Total combinations: {total_combinations}\")\n",
    "\n",
    "time_per_epoch = 11  # seconds\n",
    "num_epochs = 100  # epochs per configuration\n",
    "total_time_seconds = total_combinations * time_per_epoch * num_epochs\n",
    "\n",
    "# Convert to hours\n",
    "total_time_hours = total_time_seconds / 3600\n",
    "print(f\"Total time to hyper tune: {total_time_hours} hours\")"
   ],
   "id": "b9f5a5e907d2c63",
   "outputs": [
    {
     "name": "stdout",
     "output_type": "stream",
     "text": [
      "Total combinations: 4\n",
      "Total time to hyper tune: 1.2222222222222223 hours\n"
     ]
    }
   ],
   "execution_count": 27
  },
  {
   "metadata": {
    "jupyter": {
     "is_executing": true
    },
    "ExecuteTime": {
     "start_time": "2024-12-23T18:17:38.393955Z"
    }
   },
   "cell_type": "code",
   "source": [
    "results = hyperparameter_tuning(\n",
    "    vocab_size=len(vocab),\n",
    "    max_len=max_len,\n",
    "    train_loader=train_dataloader,\n",
    "    val_loader=val_dataloader,\n",
    "    param_grid=param_grid,\n",
    "    training_method=training_method,\n",
    "    num_epochs=100\n",
    ")"
   ],
   "id": "2b980f756d58665b",
   "outputs": [
    {
     "name": "stderr",
     "output_type": "stream",
     "text": [
      "  0%|          | 0/4 [00:00<?, ?it/s]"
     ]
    },
    {
     "name": "stdout",
     "output_type": "stream",
     "text": [
      "Testing configuration: {'embedding_dim': 128, 'num_heads': 4, 'transformer_hidden_dim': 512, 'num_transformer_layers': 8, 'cnn_dropout_value': 0.5, 'transformer_dropout_value': 0.7, 'lr': 0.0005, 'weight_decay': 0.001, 'T_0': 20, 'T_mult': 1, 'eta_min': 5e-06}\n",
      "New best model with Loss: 0.6909 at epoch 1\n",
      "\n",
      "Epoch 1/100 - Training Loss: 0.7056 - Validation Loss: 0.6909 - Accuracy: 0.5247 - Precision: 0.5160 - Recall: 0.7947 - F1 Score: 0.6257 - Time: 12.18 - Lr: 4.97e-04\n",
      "Validation loss did not improve significantly\n",
      "\n",
      "Epoch 2/100 - Training Loss: 0.6942 - Validation Loss: 0.6956 - Accuracy: 0.5400 - Precision: 0.5826 - Recall: 0.2820 - F1 Score: 0.3801 - Time: 11.47 - Lr: 4.88e-04\n",
      "New best model with Loss: 0.6903 at epoch 3\n",
      "\n",
      "Epoch 3/100 - Training Loss: 0.6905 - Validation Loss: 0.6903 - Accuracy: 0.5293 - Precision: 0.5211 - Recall: 0.7247 - F1 Score: 0.6062 - Time: 11.55 - Lr: 4.73e-04\n",
      "New best model with Loss: 0.6895 at epoch 4\n",
      "\n",
      "Epoch 4/100 - Training Loss: 0.6896 - Validation Loss: 0.6895 - Accuracy: 0.5300 - Precision: 0.5203 - Recall: 0.7673 - F1 Score: 0.6202 - Time: 11.52 - Lr: 4.52e-04\n"
     ]
    }
   ],
   "execution_count": null
  },
  {
   "metadata": {
    "jupyter": {
     "is_executing": true
    }
   },
   "cell_type": "code",
   "source": "dir_models = os.listdir(\"./models\")",
   "id": "b13f77f45721bd1d",
   "outputs": [],
   "execution_count": null
  },
  {
   "metadata": {
    "jupyter": {
     "is_executing": true
    }
   },
   "cell_type": "code",
   "source": "best_models = [path[:-3] for path in dir_models if path.endswith(\".pt\")]",
   "id": "d4641d6ec9100cd2",
   "outputs": [],
   "execution_count": null
  },
  {
   "metadata": {
    "jupyter": {
     "is_executing": true
    }
   },
   "cell_type": "code",
   "source": "best_val_loss = [float(str(best_model.split(\"+\")[-1:]).split(\"=\")[1][:8]) for best_model in best_models]",
   "id": "b66b0b18ddd45eaf",
   "outputs": [],
   "execution_count": null
  },
  {
   "metadata": {
    "jupyter": {
     "is_executing": true
    }
   },
   "cell_type": "code",
   "source": [
    "best_val_loss.sort()\n",
    "best_val_loss[:100]"
   ],
   "id": "f8072a414588fe28",
   "outputs": [],
   "execution_count": null
  },
  {
   "metadata": {},
   "cell_type": "code",
   "source": "",
   "id": "db3c79d743aaea6a",
   "outputs": [],
   "execution_count": null
  }
 ],
 "metadata": {
  "kernelspec": {
   "display_name": "Python 3",
   "language": "python",
   "name": "python3"
  },
  "language_info": {
   "codemirror_mode": {
    "name": "ipython",
    "version": 2
   },
   "file_extension": ".py",
   "mimetype": "text/x-python",
   "name": "python",
   "nbconvert_exporter": "python",
   "pygments_lexer": "ipython2",
   "version": "2.7.6"
  }
 },
 "nbformat": 4,
 "nbformat_minor": 5
}
