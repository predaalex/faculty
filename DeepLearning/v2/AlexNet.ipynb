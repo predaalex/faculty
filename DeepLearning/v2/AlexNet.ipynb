{
 "cells": [
  {
   "metadata": {
    "ExecuteTime": {
     "end_time": "2025-02-04T18:07:07.160251Z",
     "start_time": "2025-02-04T18:07:02.438296Z"
    }
   },
   "cell_type": "code",
   "source": [
    "import random\n",
    "\n",
    "import numpy as np\n",
    "import torch\n",
    "from datasets import load_dataset\n",
    "from torch.utils.data import DataLoader, Dataset\n",
    "from torchvision import transforms\n",
    "from tqdm import tqdm"
   ],
   "id": "27658694a4fa71e5",
   "outputs": [],
   "execution_count": 2
  },
  {
   "metadata": {
    "ExecuteTime": {
     "end_time": "2025-02-04T18:07:11.273144Z",
     "start_time": "2025-02-04T18:07:07.160251Z"
    }
   },
   "cell_type": "code",
   "source": "ds = load_dataset(\"microsoft/cats_vs_dogs\")",
   "id": "d3fbbd48742b9673",
   "outputs": [],
   "execution_count": 3
  },
  {
   "metadata": {
    "ExecuteTime": {
     "end_time": "2025-02-04T18:07:11.305624Z",
     "start_time": "2025-02-04T18:07:11.273144Z"
    }
   },
   "cell_type": "code",
   "source": [
    "from datasets import DatasetDict\n",
    "\n",
    "train_test_split = ds[\"train\"].train_test_split(test_size=0.2, seed=42)\n",
    "test_valid_split = train_test_split[\"test\"].train_test_split(test_size=0.5, seed=42)\n",
    "\n",
    "# Create new dataset dictionary\n",
    "dataset = DatasetDict({\n",
    "    \"train\": train_test_split[\"train\"],\n",
    "    \"validation\": test_valid_split[\"train\"],\n",
    "    \"test\": test_valid_split[\"test\"]\n",
    "})"
   ],
   "id": "f948a780d7c59208",
   "outputs": [],
   "execution_count": 4
  },
  {
   "metadata": {
    "ExecuteTime": {
     "end_time": "2025-02-04T18:07:11.309541Z",
     "start_time": "2025-02-04T18:07:11.305624Z"
    }
   },
   "cell_type": "code",
   "source": [
    "class cats_vs_dogs(Dataset):\n",
    "    def __init__(self, dataset, transform, stage=\"train\"):\n",
    "        self.dataset = dataset\n",
    "        self.transform = transform\n",
    "        self.stage = stage\n",
    "    def __len__(self):\n",
    "        return len(self.dataset[self.stage])\n",
    "        \n",
    "    def __getitem__(self, idx):\n",
    "        image = self.dataset[self.stage][idx]['image'].convert(\"RGB\")\n",
    "        label = self.dataset[self.stage][idx]['labels']\n",
    "        \n",
    "        label = torch.tensor(label).float()\n",
    "        image = self.transform(image)\n",
    "        \n",
    "        return image, label"
   ],
   "id": "ad9aa0f641a2585d",
   "outputs": [],
   "execution_count": 5
  },
  {
   "metadata": {
    "ExecuteTime": {
     "end_time": "2025-02-04T18:07:11.312823Z",
     "start_time": "2025-02-04T18:07:11.309541Z"
    }
   },
   "cell_type": "code",
   "source": [
    "transform_config = {\n",
    "    'train': transforms.Compose([\n",
    "    transforms.Resize((224, 224)),\n",
    "    transforms.RandomHorizontalFlip(),\n",
    "    transforms.ColorJitter(brightness=0.2, contrast=0.1, saturation=0.1, hue=0.2),\n",
    "    transforms.RandomGrayscale(p=0.1),\n",
    "    transforms.RandomRotation(degrees=10),\n",
    "    transforms.ToTensor(),\n",
    "    transforms.Normalize(mean=[0.48145466, 0.4578275, 0.40821073],\n",
    "                         std=[0.26862954, 0.26130258, 0.27577711])\n",
    "]),\n",
    "    'test': transforms.Compose([\n",
    "        transforms.Resize((224, 224)),\n",
    "        transforms.ToTensor(),\n",
    "        transforms.Normalize(mean=[0.48145466, 0.4578275, 0.40821073],\n",
    "                             std=[0.26862954, 0.26130258, 0.27577711])\n",
    "    ])\n",
    "}"
   ],
   "id": "716bbe0a441cec71",
   "outputs": [],
   "execution_count": 6
  },
  {
   "metadata": {
    "ExecuteTime": {
     "end_time": "2025-02-04T18:07:11.315326Z",
     "start_time": "2025-02-04T18:07:11.312823Z"
    }
   },
   "cell_type": "code",
   "source": [
    "train_dataset = cats_vs_dogs(dataset, transform_config[\"train\"], stage=\"train\")\n",
    "test_dataset = cats_vs_dogs(dataset, transform_config[\"test\"], stage=\"test\")\n",
    "validation_dataset = cats_vs_dogs(dataset, transform_config[\"test\"], stage=\"validation\")"
   ],
   "id": "3199969c06f1ad56",
   "outputs": [],
   "execution_count": 7
  },
  {
   "metadata": {
    "ExecuteTime": {
     "end_time": "2025-02-04T18:07:11.317941Z",
     "start_time": "2025-02-04T18:07:11.315735Z"
    }
   },
   "cell_type": "code",
   "source": [
    "batch_size = 16\n",
    "train_dataloader = DataLoader(train_dataset, batch_size=batch_size, shuffle=True)\n",
    "test_dataloader = DataLoader(test_dataset, batch_size=batch_size, shuffle=False)\n",
    "validation_dataloader = DataLoader(validation_dataset, batch_size=batch_size, shuffle=False)"
   ],
   "id": "c729152b6f04d945",
   "outputs": [],
   "execution_count": 8
  },
  {
   "metadata": {
    "ExecuteTime": {
     "end_time": "2025-02-04T18:07:11.322017Z",
     "start_time": "2025-02-04T18:07:11.318134Z"
    }
   },
   "cell_type": "code",
   "source": [
    "from torch import nn\n",
    "\n",
    "\n",
    "class AlexNet(nn.Module):\n",
    "    def __init__(self, num_classes: int = 1000, dropout: float = 0.5) -> None:\n",
    "        super().__init__()\n",
    "        self.features = nn.Sequential(\n",
    "            nn.Conv2d(3, 64, kernel_size=11, stride=4, padding=2),\n",
    "            nn.ReLU(inplace=True),\n",
    "            nn.MaxPool2d(kernel_size=3, stride=2),\n",
    "            nn.Conv2d(64, 192, kernel_size=5, padding=2),\n",
    "            nn.ReLU(inplace=True),\n",
    "            nn.MaxPool2d(kernel_size=3, stride=2),\n",
    "            nn.Conv2d(192, 384, kernel_size=3, padding=1),\n",
    "            nn.ReLU(inplace=True),\n",
    "            nn.Conv2d(384, 256, kernel_size=3, padding=1),\n",
    "            nn.ReLU(inplace=True),\n",
    "            nn.Conv2d(256, 256, kernel_size=3, padding=1),\n",
    "            nn.ReLU(inplace=True),\n",
    "            nn.MaxPool2d(kernel_size=3, stride=2),\n",
    "        )\n",
    "        self.avgpool = nn.AdaptiveAvgPool2d((6, 6))\n",
    "        self.classifier = nn.Sequential(\n",
    "            nn.Dropout(p=dropout),\n",
    "            nn.Linear(256 * 6 * 6, 4096),\n",
    "            nn.ReLU(inplace=True),\n",
    "            nn.Dropout(p=dropout),\n",
    "            nn.Linear(4096, 4096),\n",
    "            nn.ReLU(inplace=True),\n",
    "            nn.Linear(4096, num_classes),\n",
    "        )\n",
    "\n",
    "    def forward(self, x: torch.Tensor) -> torch.Tensor:\n",
    "        x = self.features(x)\n",
    "        x = self.avgpool(x)\n",
    "        x = torch.flatten(x, 1)\n",
    "        x = self.classifier(x)\n",
    "        x = x.squeeze(1)\n",
    "        return x"
   ],
   "id": "acfc0dc2b3d1ce75",
   "outputs": [],
   "execution_count": 9
  },
  {
   "metadata": {
    "ExecuteTime": {
     "end_time": "2025-02-04T18:07:11.342141Z",
     "start_time": "2025-02-04T18:07:11.322017Z"
    }
   },
   "cell_type": "code",
   "source": "device = torch.device(\"cuda\" if torch.cuda.is_available() else \"cpu\")",
   "id": "41ad3e50e5c381eb",
   "outputs": [],
   "execution_count": 10
  },
  {
   "metadata": {
    "ExecuteTime": {
     "end_time": "2025-02-04T18:07:11.625965Z",
     "start_time": "2025-02-04T18:07:11.343143Z"
    }
   },
   "cell_type": "code",
   "source": [
    "model = AlexNet(num_classes=1)\n",
    "# Dummy input tensor of size (batch_size, channels, height, width)\n",
    "input_tensor = torch.randn(2, 3, 224, 224)\n",
    "output = model(input_tensor)\n",
    "print(output)"
   ],
   "id": "bd3d1b3e37626c18",
   "outputs": [
    {
     "name": "stdout",
     "output_type": "stream",
     "text": [
      "tensor([0.0136, 0.0045], grad_fn=<SqueezeBackward1>)\n"
     ]
    }
   ],
   "execution_count": 11
  },
  {
   "metadata": {
    "ExecuteTime": {
     "end_time": "2025-02-04T18:07:11.709298Z",
     "start_time": "2025-02-04T18:07:11.625965Z"
    }
   },
   "cell_type": "code",
   "source": "model.to(device)",
   "id": "eaa2e8e7fa7765b7",
   "outputs": [
    {
     "data": {
      "text/plain": [
       "AlexNet(\n",
       "  (features): Sequential(\n",
       "    (0): Conv2d(3, 64, kernel_size=(11, 11), stride=(4, 4), padding=(2, 2))\n",
       "    (1): ReLU(inplace=True)\n",
       "    (2): MaxPool2d(kernel_size=3, stride=2, padding=0, dilation=1, ceil_mode=False)\n",
       "    (3): Conv2d(64, 192, kernel_size=(5, 5), stride=(1, 1), padding=(2, 2))\n",
       "    (4): ReLU(inplace=True)\n",
       "    (5): MaxPool2d(kernel_size=3, stride=2, padding=0, dilation=1, ceil_mode=False)\n",
       "    (6): Conv2d(192, 384, kernel_size=(3, 3), stride=(1, 1), padding=(1, 1))\n",
       "    (7): ReLU(inplace=True)\n",
       "    (8): Conv2d(384, 256, kernel_size=(3, 3), stride=(1, 1), padding=(1, 1))\n",
       "    (9): ReLU(inplace=True)\n",
       "    (10): Conv2d(256, 256, kernel_size=(3, 3), stride=(1, 1), padding=(1, 1))\n",
       "    (11): ReLU(inplace=True)\n",
       "    (12): MaxPool2d(kernel_size=3, stride=2, padding=0, dilation=1, ceil_mode=False)\n",
       "  )\n",
       "  (avgpool): AdaptiveAvgPool2d(output_size=(6, 6))\n",
       "  (classifier): Sequential(\n",
       "    (0): Dropout(p=0.5, inplace=False)\n",
       "    (1): Linear(in_features=9216, out_features=4096, bias=True)\n",
       "    (2): ReLU(inplace=True)\n",
       "    (3): Dropout(p=0.5, inplace=False)\n",
       "    (4): Linear(in_features=4096, out_features=4096, bias=True)\n",
       "    (5): ReLU(inplace=True)\n",
       "    (6): Linear(in_features=4096, out_features=1, bias=True)\n",
       "  )\n",
       ")"
      ]
     },
     "execution_count": 12,
     "metadata": {},
     "output_type": "execute_result"
    }
   ],
   "execution_count": 12
  },
  {
   "metadata": {
    "ExecuteTime": {
     "end_time": "2025-02-04T18:07:11.712252Z",
     "start_time": "2025-02-04T18:07:11.709804Z"
    }
   },
   "cell_type": "code",
   "source": [
    "from torch.nn import BCEWithLogitsLoss\n",
    "\n",
    "criterion = BCEWithLogitsLoss()\n",
    "optimizer = torch.optim.SGD(model.parameters(), lr=1e-2, momentum=0.9, weight_decay=5e-4)\n",
    "scheduler = torch.optim.lr_scheduler.CosineAnnealingWarmRestarts(\n",
    "    optimizer,\n",
    "    T_0=5,\n",
    "    T_mult=1,\n",
    "    eta_min=1e-3,\n",
    ")"
   ],
   "id": "9aa9209bab579b7e",
   "outputs": [],
   "execution_count": 13
  },
  {
   "metadata": {
    "ExecuteTime": {
     "end_time": "2025-02-04T18:07:11.715882Z",
     "start_time": "2025-02-04T18:07:11.712252Z"
    }
   },
   "cell_type": "code",
   "source": [
    "def validation_method(criterion, model, val_loader):\n",
    "    ### VALIDATING\n",
    "    model.eval()\n",
    "    validation_loss = 0.0\n",
    "    all_labels = []  # Ground truth labels for validation\n",
    "    all_preds = []  # Predictions for validation\n",
    "    with torch.no_grad():\n",
    "        for batch in val_loader:\n",
    "            images, labels = batch\n",
    "            images, labels = images.to(device), labels.to(device)\n",
    "\n",
    "            output = model(images)  # Forward pass (logits)\n",
    "            loss = criterion(output, labels)  # Compute validation loss\n",
    "            validation_loss += loss.item()\n",
    "\n",
    "            # Convert logits to probabilities and apply threshold\n",
    "            probs = torch.sigmoid(output)\n",
    "            preds = (probs > 0.5).float()\n",
    "\n",
    "            # Store for statistics\n",
    "            all_labels.extend(labels.cpu().numpy())\n",
    "            all_preds.extend(preds.cpu().numpy())\n",
    "    val_loss = validation_loss / len(val_loader)  # Average validation loss\n",
    "    # Compute validation statistics\n",
    "    val_accuracy = accuracy_score(all_labels, all_preds)\n",
    "    val_precision = precision_score(all_labels, all_preds, zero_division=0)\n",
    "    val_recall = recall_score(all_labels, all_preds, zero_division=0)\n",
    "    val_f1 = f1_score(all_labels, all_preds, zero_division=0)\n",
    "    \n",
    "    return val_accuracy, val_f1, val_loss, val_precision, val_recall"
   ],
   "id": "7a6164c5f263d4ec",
   "outputs": [],
   "execution_count": 14
  },
  {
   "metadata": {
    "ExecuteTime": {
     "end_time": "2025-02-04T18:07:12.570429Z",
     "start_time": "2025-02-04T18:07:11.715882Z"
    }
   },
   "cell_type": "code",
   "source": [
    "from matplotlib import pyplot as plt\n",
    "import copy\n",
    "from sklearn.metrics import accuracy_score, precision_score, recall_score, f1_score\n",
    "import time\n",
    "\n",
    "\n",
    "def training_method(model, criterion, optimizer, scheduler, train_loader, val_loader, model_config, num_epochs=50, patience=5, delta = 0.02, loss_procentage_improvement=10, model_path = \"models/\" + \"first_try2\" + \".pt\"):\n",
    "    train_losses = []  # List to store training losses\n",
    "    val_losses = []  # List to store validation losses\n",
    "    val_accuracies = []  # List to store validation accuracies\n",
    "    val_precisions = []  # List to store validation precisions\n",
    "    val_recalls = []  # List to store validation recalls\n",
    "    val_f1s = []  # List to store validation F1-scores\n",
    "    learning_rates = [] # List to store learning rate progression\n",
    "\n",
    "    best_val_loss = float('inf')  # Initialize the best validation loss\n",
    "    initial_loss = float('inf')\n",
    "    best_model = None  # Store the best model\n",
    "    epochs_without_improvement = 0  # Track epochs without improvement\n",
    "\n",
    "    for epoch in range(num_epochs):\n",
    "        start_time = time.time()\n",
    "        ### TRAINING\n",
    "        model.train()\n",
    "        training_loss = 0.0\n",
    "        for batch_idx, batch in enumerate(train_loader):\n",
    "            images, labels = batch\n",
    "            images, labels = images.to(device), labels.to(device)\n",
    "\n",
    "            optimizer.zero_grad()  # Reset gradients\n",
    "            output = model(images)  # Forward pass (logits)\n",
    "            loss = criterion(output, labels)  # Compute loss\n",
    "            loss.backward()  # Backpropagation\n",
    "            \n",
    "            optimizer.step()  # Update weights\n",
    "            training_loss += loss.item()  # Accumulate loss\n",
    "            \n",
    "            if batch_idx % (len(train_loader) // 4) == 0 and batch_idx != 0:\n",
    "                print(f\"[{epoch}, {batch_idx}/{len(train_loader)}] Loss: {training_loss / batch_idx:.4f}\")\n",
    "        \n",
    "        train_loss = training_loss / len(train_loader)  # Average training loss\n",
    "        train_losses.append(train_loss)\n",
    "\n",
    "        val_accuracy, val_f1, val_loss, val_precision, val_recall = validation_method(criterion, model, val_loader)\n",
    "\n",
    "        val_losses.append(val_loss)\n",
    "        val_accuracies.append(val_accuracy)\n",
    "        val_precisions.append(val_precision)\n",
    "        val_recalls.append(val_recall)\n",
    "        val_f1s.append(val_f1)\n",
    "        \n",
    "        if epoch == 1:\n",
    "            initial_loss = val_loss\n",
    "\n",
    "        if val_loss < best_val_loss:\n",
    "            best_val_loss = val_loss\n",
    "            best_model = copy.deepcopy(model)  # Save the best model\n",
    "            epochs_without_improvement = 0  # Reset counter\n",
    "            print(f\"New best model with Loss: {val_loss:.4f} at epoch {epoch + 1}\")\n",
    "        elif val_loss < best_val_loss + delta:\n",
    "            print(f\"Validation loss did not improve significantly\")            \n",
    "        else:\n",
    "            epochs_without_improvement += 1\n",
    "            print(f\"Validation loss did not improve for {epochs_without_improvement} epoch(s).\")\n",
    "            # Stop training if validation loss does not improve for 'patience' epochs\n",
    "            if epochs_without_improvement >= patience:\n",
    "                print(f\"Early stopping at epoch {epoch + 1}. Best Loss: {best_val_loss:.4f}\")\n",
    "                break  # Exit training loop\n",
    "\n",
    "\n",
    "        # Step the learning rate scheduler\n",
    "        scheduler.step()\n",
    "        current_lr = optimizer.param_groups[0]['lr']  # Get the current learning rate\n",
    "        learning_rates.append(current_lr)\n",
    "        end_time = time.time()\n",
    "\n",
    "        print(f\"\\nEpoch {epoch + 1}/{num_epochs} - \"\n",
    "              f\"Training Loss: {train_loss:.4f} - \"\n",
    "              f\"Validation Loss: {val_loss:.4f} - \"\n",
    "              f\"Accuracy: {val_accuracy:.4f} - \"\n",
    "              f\"Precision: {val_precision:.4f} - \"\n",
    "              f\"Recall: {val_recall:.4f} - \"\n",
    "              f\"F1 Score: {val_f1:.4f} - \"\n",
    "              f\"Time: {end_time - start_time:.2f} - \"\n",
    "              f\"Lr: {current_lr:.2e}\")\n",
    "\n",
    "    print('Training finished!')\n",
    "    \n",
    "    # save the model only if the best loss is lower than the first initial loss ( to see that the model actually improved with 10% loss )\n",
    "    if best_val_loss < (100 - loss_procentage_improvement) * initial_loss:\n",
    "        # Init plot&model save path\n",
    "        plt_save_path = \"models/\"\n",
    "        for key, value in model_config.items():\n",
    "            plt_save_path += key + \"=\" + str(value) + \"+\"\n",
    "        plt_save_path = plt_save_path[:-1] + \".png\"\n",
    "        model_path = plt_save_path[:-4] + \".pt\"\n",
    "        torch.save(best_model.state_dict(), model_path)\n",
    "        print(f\"Best model with Loss: {best_val_loss:.4f} saved.\")\n",
    "        print(f\"Model saved to {model_path}\")\n",
    "\n",
    "        # Plotting the losses and validation metrics over epochs\n",
    "        plt.figure(figsize=(12, 8))\n",
    "        plt.subplot(3, 1, 1)\n",
    "        plt.plot(train_losses, label='Training Loss')\n",
    "        plt.plot(val_losses, label='Validation Loss')\n",
    "        plt.xlabel('Epochs')\n",
    "        plt.ylabel('Loss')\n",
    "        plt.title('Training and Validation Loss')\n",
    "        plt.legend()\n",
    "        \n",
    "        plt.subplot(3, 1, 2)\n",
    "        plt.plot(val_accuracies, label='Accuracy')\n",
    "        plt.plot(val_precisions, label='Precision')\n",
    "        plt.plot(val_recalls, label='Recall')\n",
    "        plt.plot(val_f1s, label='F1 Score')\n",
    "        plt.xlabel('Epochs')\n",
    "        plt.ylabel('Metric')\n",
    "        plt.title('Validation Metrics')\n",
    "        plt.legend()\n",
    "        \n",
    "        plt.subplot(3, 1, 3)\n",
    "        plt.plot(learning_rates, label='Learning Rate')\n",
    "        plt.xlabel(\"Epochs\")\n",
    "        plt.ylabel(\"Learning Rate\")\n",
    "        plt.title(\"Learning Rate Progression\")\n",
    "        plt.legend()\n",
    "    \n",
    "        plt.tight_layout()\n",
    "        plt.savefig(plt_save_path)\n",
    "        plt.show()\n",
    "    \n",
    "    else:\n",
    "        print(f\"Model wasn't saved because it didn't improve: {loss_procentage_improvement}%\")\n",
    "    \n",
    "    return best_model"
   ],
   "id": "95b35ed4c38dd994",
   "outputs": [],
   "execution_count": 15
  },
  {
   "metadata": {
    "ExecuteTime": {
     "end_time": "2025-02-04T18:07:12.573430Z",
     "start_time": "2025-02-04T18:07:12.570429Z"
    }
   },
   "cell_type": "code",
   "source": "# _ = training_method(model, criterion, optimizer, scheduler, train_dataloader, validation_dataloader)",
   "id": "3351f36eb117eb54",
   "outputs": [],
   "execution_count": 16
  },
  {
   "metadata": {},
   "cell_type": "markdown",
   "source": "# Hyperparameter tuning",
   "id": "4da32bba41d4b47c"
  },
  {
   "metadata": {
    "ExecuteTime": {
     "end_time": "2025-02-04T18:07:12.578355Z",
     "start_time": "2025-02-04T18:07:12.573932Z"
    }
   },
   "cell_type": "code",
   "source": [
    "import gc\n",
    "\n",
    "\n",
    "def hyperparameter_tuning(parameters_grid, epochs, train_dataloader, validation_dataloader):\n",
    "    results = []\n",
    "    best_model = None\n",
    "    best_val_loss = np.inf\n",
    "    for idx in tqdm(range(len(parameters_grid[\"lr\"]))):\n",
    "        # get params\n",
    "        lr = parameters_grid[\"lr\"][idx]\n",
    "        eta_min = parameters_grid[\"eta_min\"][idx]\n",
    "        weight_decay = random.choice(parameters_grid['weight_decay'])\n",
    "        model_config = {\n",
    "            \"lr\": lr,\n",
    "            \"eta_min\": eta_min,\n",
    "            \"weight_decay\": weight_decay,\n",
    "        }\n",
    "        print(f\"Learning rate {lr:.2e} - \"\n",
    "              f\"eta_min {eta_min:.2e} - \"\n",
    "              f\"weight_decay {weight_decay:.2e}\")\n",
    "        try:\n",
    "            model = AlexNet(num_classes=1)\n",
    "            model.to(device)\n",
    "            \n",
    "            criterion = BCEWithLogitsLoss()\n",
    "            optimizer = torch.optim.SGD(model.parameters(), lr=lr, momentum=0.9, weight_decay=weight_decay)\n",
    "            scheduler = torch.optim.lr_scheduler.CosineAnnealingWarmRestarts(\n",
    "                optimizer,\n",
    "                T_0=5,\n",
    "                T_mult=1,\n",
    "                eta_min=eta_min,\n",
    "            )\n",
    "            \n",
    "            best_model = training_method(model, criterion, optimizer, scheduler, train_dataloader, validation_dataloader, model_config, num_epochs=epochs)\n",
    "            \n",
    "            val_accuracy, val_f1, val_loss, val_precision, val_recall = validation_method(criterion, best_model, validation_dataloader)\n",
    "            \n",
    "            if val_loss < best_val_loss:\n",
    "                best_val_loss = val_loss\n",
    "                best_model = copy.deepcopy(model)\n",
    "            \n",
    "            result = {\n",
    "                \"lr\": lr,\n",
    "                \"eta_min\": eta_min,\n",
    "                \"weight_decay\": weight_decay,\n",
    "                \"val_loss\": val_loss,\n",
    "                \"val_accuracy\": val_accuracy,\n",
    "                \"val_precision\": val_precision,\n",
    "                \"val_recall\": val_recall,\n",
    "                \"val_f1\": val_f1,\n",
    "            }\n",
    "            results.append(result)\n",
    "            \n",
    "        except RuntimeError as e:\n",
    "            print(f\"Error with configuration: {lr=}, {eta_min=}, {weight_decay=}\")\n",
    "            print(f\"Error message: {str(e)}\")\n",
    "        \n",
    "        finally:\n",
    "            # Reset GPU memory\n",
    "            print(\"Resetting GPU memory...\")\n",
    "            torch.cuda.empty_cache()\n",
    "            gc.collect()\n",
    "    \n",
    "    return results, best_model"
   ],
   "id": "ea3c569b269bc4a2",
   "outputs": [],
   "execution_count": 17
  },
  {
   "metadata": {
    "ExecuteTime": {
     "end_time": "2025-02-04T18:07:12.582370Z",
     "start_time": "2025-02-04T18:07:12.578355Z"
    }
   },
   "cell_type": "code",
   "source": [
    "param_grid = {\n",
    "    \"lr\":       [1e-2, 5e-3, 1e-3, 5e-4, 1e-4],\n",
    "    \"eta_min\":  [1e-4, 1e-4, 5e-5, 5e-5, 1e-5],\n",
    "    \"weight_decay\": [5e-4, 1e-5, 5e-5]\n",
    "}\n",
    "\n",
    "\n",
    "total_combination = len(param_grid['lr'])\n",
    "epochs = 30\n",
    "time_per_epoch = 140 # approx\n",
    "\n",
    "print(f\"Total time to hyper tune: {total_combination * epochs * time_per_epoch / 3600:.2f} hours\")"
   ],
   "id": "617fc2a79789f39e",
   "outputs": [
    {
     "name": "stdout",
     "output_type": "stream",
     "text": [
      "Total time to hyper tune: 5.83 hours\n"
     ]
    }
   ],
   "execution_count": 18
  },
  {
   "metadata": {},
   "cell_type": "code",
   "source": "results, best_model = hyperparameter_tuning(param_grid, epochs, train_dataloader, validation_dataloader)",
   "id": "43114e93c5a39780",
   "outputs": [],
   "execution_count": null
  },
  {
   "metadata": {
    "jupyter": {
     "is_executing": true
    }
   },
   "cell_type": "code",
   "source": [
    "import pandas as pd\n",
    "\n",
    "results_df = pd.DataFrame(results)\n",
    "results_df.fillna(\"\", inplace=True)\n",
    "results_df.sort_values(by=\"val_loss\", inplace=True)\n",
    "results_df"
   ],
   "id": "2e04b9a995fa5128",
   "outputs": [],
   "execution_count": null
  }
 ],
 "metadata": {
  "kernelspec": {
   "display_name": "Python 3",
   "language": "python",
   "name": "python3"
  },
  "language_info": {
   "codemirror_mode": {
    "name": "ipython",
    "version": 2
   },
   "file_extension": ".py",
   "mimetype": "text/x-python",
   "name": "python",
   "nbconvert_exporter": "python",
   "pygments_lexer": "ipython2",
   "version": "2.7.6"
  }
 },
 "nbformat": 4,
 "nbformat_minor": 5
}
