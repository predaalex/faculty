{
 "cells": [
  {
   "cell_type": "code",
   "id": "initial_id",
   "metadata": {
    "collapsed": true,
    "ExecuteTime": {
     "end_time": "2025-01-14T10:16:28.459258Z",
     "start_time": "2025-01-14T10:16:25.439412Z"
    }
   },
   "source": [
    "import gc\n",
    "import os\n",
    "import sys\n",
    "import time\n",
    "import math\n",
    "import torch.nn as nn\n",
    "\n",
    "import pandas as pd\n",
    "import torch\n",
    "from PIL import Image\n",
    "from torch import optim\n",
    "from torch.optim.lr_scheduler import ExponentialLR, StepLR\n",
    "from torchvision import transforms\n",
    "import re\n",
    "from torch.utils.data import Dataset, DataLoader\n",
    "from tqdm import tqdm\n",
    "import warnings\n",
    "import matplotlib.pyplot as plt\n",
    "from sklearn.metrics import accuracy_score, precision_score, recall_score, f1_score\n",
    "import torch.nn.functional as F\n",
    "from collections import defaultdict\n",
    "from itertools import product\n",
    "\n",
    "\n",
    "warnings.filterwarnings(\"ignore\", category=UserWarning)  # Disable UserWarnings\n",
    "tqdm.pandas()"
   ],
   "outputs": [],
   "execution_count": 1
  },
  {
   "metadata": {
    "ExecuteTime": {
     "end_time": "2025-01-14T10:16:28.480407Z",
     "start_time": "2025-01-14T10:16:28.459762Z"
    }
   },
   "cell_type": "code",
   "source": [
    "train_df = pd.read_csv(\"./dataset/train.csv\")\n",
    "test_df = pd.read_csv(\"./dataset/test.csv\")\n",
    "val_df = pd.read_csv(\"./dataset/val.csv\")"
   ],
   "id": "68a1a9efa01eeb80",
   "outputs": [],
   "execution_count": 2
  },
  {
   "metadata": {
    "ExecuteTime": {
     "end_time": "2025-01-14T10:33:03.349203Z",
     "start_time": "2025-01-14T10:16:28.480407Z"
    }
   },
   "cell_type": "code",
   "source": [
    "import text_preprocessing\n",
    "train_df['preprocessed_text'] = train_df['caption'].progress_apply(text_preprocessing.text_preparation_with_spell_correction)\n",
    "val_df['preprocessed_text'] = val_df['caption'].progress_apply(text_preprocessing.text_preparation_with_spell_correction)\n",
    "test_df['preprocessed_text'] = test_df['caption'].progress_apply(text_preprocessing.text_preparation_with_spell_correction)"
   ],
   "id": "decdaddece6dce3d",
   "outputs": [
    {
     "name": "stderr",
     "output_type": "stream",
     "text": [
      "[nltk_data] Downloading package punkt to\n",
      "[nltk_data]     C:\\Users\\allex\\AppData\\Roaming\\nltk_data...\n",
      "[nltk_data]   Package punkt is already up-to-date!\n",
      "[nltk_data] Downloading package punkt_tab to\n",
      "[nltk_data]     C:\\Users\\allex\\AppData\\Roaming\\nltk_data...\n",
      "[nltk_data]   Package punkt_tab is already up-to-date!\n",
      "[nltk_data] Downloading package wordnet to\n",
      "[nltk_data]     C:\\Users\\allex\\AppData\\Roaming\\nltk_data...\n",
      "[nltk_data]   Package wordnet is already up-to-date!\n"
     ]
    },
    {
     "name": "stdout",
     "output_type": "stream",
     "text": [
      "a world war iiera bomber flying out of formation\n",
      "a domesticated carnivorous mammal that typically haas a long snout an acute sense off smell <unk> claws and barking y howling or whining voice\n"
     ]
    },
    {
     "name": "stderr",
     "output_type": "stream",
     "text": [
      "100%|██████████| 10000/10000 [00:20<00:00, 478.58it/s]\n",
      "100%|██████████| 3000/3000 [00:06<00:00, 474.01it/s]\n",
      "100%|██████████| 2000/2000 [16:05<00:00,  2.07it/s]\n"
     ]
    }
   ],
   "execution_count": 3
  },
  {
   "metadata": {
    "ExecuteTime": {
     "end_time": "2025-01-14T10:45:45.250420Z",
     "start_time": "2025-01-14T10:45:45.241865Z"
    }
   },
   "cell_type": "code",
   "source": "train_df",
   "id": "348bb7544ec995b7",
   "outputs": [
    {
     "data": {
      "text/plain": [
       "                                        id  \\\n",
       "0     417812c5-0ce4-499d-b97d-4d28827239bc   \n",
       "1     5ac91fa3-55f2-4cb3-8c8f-ad84f78e6b36   \n",
       "2     d2705b90-8347-4cab-a7a6-654540d9a489   \n",
       "3     a3b33fe7-3085-4433-9c18-8814803891b4   \n",
       "4     1514b0e4-0665-45bc-ab32-52fce326cc29   \n",
       "...                                    ...   \n",
       "9995  1d1df243-485d-4b29-82c8-7e34c0de1f5c   \n",
       "9996  f7dfa883-e524-4974-b5ba-6b3c3db49087   \n",
       "9997  602e83dc-6539-4c1a-8d19-c1481b5c24bf   \n",
       "9998  d9ce2e8c-0831-466a-8756-4c40d772b1ce   \n",
       "9999  b22cdca0-79b3-4b37-a173-5176a32096f6   \n",
       "\n",
       "                                                caption  image_id  label  \\\n",
       "0     Wet elephants shake water onto people bathing ...    394330      0   \n",
       "1          Two men holding tennis racquets on the court    130849      0   \n",
       "2     A bird on a tree limb with mountains in the ba...    514790      0   \n",
       "3     A kitchen and dining room are featured along w...    182096      0   \n",
       "4        A fruit stand has various fruits on the table.     68788      1   \n",
       "...                                                 ...       ...    ...   \n",
       "9995     Several people stand in a field flying a kite.    522702      0   \n",
       "9996       A batter hitting a pitch at a baseball game.    441874      1   \n",
       "9997  A person on white surfboard next to group in a...    166716      0   \n",
       "9998  A baseball player getting ready to swing at th...    517601      0   \n",
       "9999                    a black cat is laying in a sink    394115      1   \n",
       "\n",
       "                                      preprocessed_text  \n",
       "0     wet elephants shake water onto people bathing ...  \n",
       "1          two men holding tennis racquets on the court  \n",
       "2     a bird on a tree limb with mountains in the ba...  \n",
       "3     a kitchen and dining room are featured along w...  \n",
       "4         a fruit stand has various fruits on the table  \n",
       "...                                                 ...  \n",
       "9995      several people stand in a field flying a kite  \n",
       "9996        a batter hitting a pitch at a baseball game  \n",
       "9997  a person on white surfboard next to group in a...  \n",
       "9998  a baseball player getting ready to swing at th...  \n",
       "9999                    a black cat is laying in a sink  \n",
       "\n",
       "[10000 rows x 5 columns]"
      ],
      "text/html": [
       "<div>\n",
       "<style scoped>\n",
       "    .dataframe tbody tr th:only-of-type {\n",
       "        vertical-align: middle;\n",
       "    }\n",
       "\n",
       "    .dataframe tbody tr th {\n",
       "        vertical-align: top;\n",
       "    }\n",
       "\n",
       "    .dataframe thead th {\n",
       "        text-align: right;\n",
       "    }\n",
       "</style>\n",
       "<table border=\"1\" class=\"dataframe\">\n",
       "  <thead>\n",
       "    <tr style=\"text-align: right;\">\n",
       "      <th></th>\n",
       "      <th>id</th>\n",
       "      <th>caption</th>\n",
       "      <th>image_id</th>\n",
       "      <th>label</th>\n",
       "      <th>preprocessed_text</th>\n",
       "    </tr>\n",
       "  </thead>\n",
       "  <tbody>\n",
       "    <tr>\n",
       "      <th>0</th>\n",
       "      <td>417812c5-0ce4-499d-b97d-4d28827239bc</td>\n",
       "      <td>Wet elephants shake water onto people bathing ...</td>\n",
       "      <td>394330</td>\n",
       "      <td>0</td>\n",
       "      <td>wet elephants shake water onto people bathing ...</td>\n",
       "    </tr>\n",
       "    <tr>\n",
       "      <th>1</th>\n",
       "      <td>5ac91fa3-55f2-4cb3-8c8f-ad84f78e6b36</td>\n",
       "      <td>Two men holding tennis racquets on the court</td>\n",
       "      <td>130849</td>\n",
       "      <td>0</td>\n",
       "      <td>two men holding tennis racquets on the court</td>\n",
       "    </tr>\n",
       "    <tr>\n",
       "      <th>2</th>\n",
       "      <td>d2705b90-8347-4cab-a7a6-654540d9a489</td>\n",
       "      <td>A bird on a tree limb with mountains in the ba...</td>\n",
       "      <td>514790</td>\n",
       "      <td>0</td>\n",
       "      <td>a bird on a tree limb with mountains in the ba...</td>\n",
       "    </tr>\n",
       "    <tr>\n",
       "      <th>3</th>\n",
       "      <td>a3b33fe7-3085-4433-9c18-8814803891b4</td>\n",
       "      <td>A kitchen and dining room are featured along w...</td>\n",
       "      <td>182096</td>\n",
       "      <td>0</td>\n",
       "      <td>a kitchen and dining room are featured along w...</td>\n",
       "    </tr>\n",
       "    <tr>\n",
       "      <th>4</th>\n",
       "      <td>1514b0e4-0665-45bc-ab32-52fce326cc29</td>\n",
       "      <td>A fruit stand has various fruits on the table.</td>\n",
       "      <td>68788</td>\n",
       "      <td>1</td>\n",
       "      <td>a fruit stand has various fruits on the table</td>\n",
       "    </tr>\n",
       "    <tr>\n",
       "      <th>...</th>\n",
       "      <td>...</td>\n",
       "      <td>...</td>\n",
       "      <td>...</td>\n",
       "      <td>...</td>\n",
       "      <td>...</td>\n",
       "    </tr>\n",
       "    <tr>\n",
       "      <th>9995</th>\n",
       "      <td>1d1df243-485d-4b29-82c8-7e34c0de1f5c</td>\n",
       "      <td>Several people stand in a field flying a kite.</td>\n",
       "      <td>522702</td>\n",
       "      <td>0</td>\n",
       "      <td>several people stand in a field flying a kite</td>\n",
       "    </tr>\n",
       "    <tr>\n",
       "      <th>9996</th>\n",
       "      <td>f7dfa883-e524-4974-b5ba-6b3c3db49087</td>\n",
       "      <td>A batter hitting a pitch at a baseball game.</td>\n",
       "      <td>441874</td>\n",
       "      <td>1</td>\n",
       "      <td>a batter hitting a pitch at a baseball game</td>\n",
       "    </tr>\n",
       "    <tr>\n",
       "      <th>9997</th>\n",
       "      <td>602e83dc-6539-4c1a-8d19-c1481b5c24bf</td>\n",
       "      <td>A person on white surfboard next to group in a...</td>\n",
       "      <td>166716</td>\n",
       "      <td>0</td>\n",
       "      <td>a person on white surfboard next to group in a...</td>\n",
       "    </tr>\n",
       "    <tr>\n",
       "      <th>9998</th>\n",
       "      <td>d9ce2e8c-0831-466a-8756-4c40d772b1ce</td>\n",
       "      <td>A baseball player getting ready to swing at th...</td>\n",
       "      <td>517601</td>\n",
       "      <td>0</td>\n",
       "      <td>a baseball player getting ready to swing at th...</td>\n",
       "    </tr>\n",
       "    <tr>\n",
       "      <th>9999</th>\n",
       "      <td>b22cdca0-79b3-4b37-a173-5176a32096f6</td>\n",
       "      <td>a black cat is laying in a sink</td>\n",
       "      <td>394115</td>\n",
       "      <td>1</td>\n",
       "      <td>a black cat is laying in a sink</td>\n",
       "    </tr>\n",
       "  </tbody>\n",
       "</table>\n",
       "<p>10000 rows × 5 columns</p>\n",
       "</div>"
      ]
     },
     "execution_count": 4,
     "metadata": {},
     "output_type": "execute_result"
    }
   ],
   "execution_count": 4
  },
  {
   "metadata": {
    "ExecuteTime": {
     "end_time": "2025-01-14T10:45:45.758921Z",
     "start_time": "2025-01-14T10:45:45.752863Z"
    }
   },
   "cell_type": "code",
   "source": [
    "from collections import Counter\n",
    "\n",
    "\n",
    "def build_simple_vocab(sentences, special_tokens=None, min_freq=5, max_freq=2000):\n",
    "    \"\"\"\n",
    "    Create a vocabulary from a list of tokenized sentences with frequency filtering.\n",
    "    \n",
    "    Args:\n",
    "        sentences (list of str): List of sentences to build vocabulary from.\n",
    "        special_tokens (list of str): Special tokens like <pad>, <unk>.\n",
    "        min_freq (int): Minimum frequency for a token to be included in the vocabulary.\n",
    "        max_freq (int or None): Maximum frequency for a token to be included (None for no limit).\n",
    "        \n",
    "    Returns:\n",
    "        dict: A vocabulary mapping tokens to indices.\n",
    "        dict: An inverse vocabulary mapping indices to tokens.\n",
    "    \"\"\"\n",
    "    special_tokens = special_tokens or ['<pad>', '<unk>', '<|startoftext|>', '<|endoftext|>']\n",
    "    \n",
    "    # Count token frequencies\n",
    "    token_counter = Counter()\n",
    "    for sentence in sentences:\n",
    "        for token in sentence.split():\n",
    "            if token.strip():  # Exclude empty tokens\n",
    "                token_counter[token] += 1\n",
    "    \n",
    "    # Filter tokens based on frequency\n",
    "    filtered_tokens = {token for token, freq in token_counter.items() \n",
    "                       if freq >= min_freq and (max_freq is None or freq <= max_freq)}\n",
    "    \n",
    "    # Build vocabulary\n",
    "    vocab = defaultdict(lambda: len(vocab))  # Default index is the current vocab size\n",
    "    for token in special_tokens:\n",
    "        vocab[token]  # Add special tokens first\n",
    "    \n",
    "    # Add filtered tokens\n",
    "    for token in filtered_tokens:\n",
    "        vocab[token]\n",
    "    \n",
    "    # Convert to a normal dict (no longer dynamic)\n",
    "    vocab = dict(vocab)\n",
    "    inverse_vocab = {index: token for token, index in vocab.items()}\n",
    "    return vocab, inverse_vocab\n",
    "\n",
    "\n",
    "# Custom Dataset Class\n",
    "class PreprocessingDataset(Dataset):\n",
    "    def __init__(self, dataframe, vocab, images_path, image_transform, train=True, max_len=None):\n",
    "        \"\"\"\n",
    "        Dataset for preprocessing image-text pairs.\n",
    "\n",
    "        Args:\n",
    "            dataframe (pd.DataFrame): DataFrame containing 'image_id', 'sentence', and optionally 'label'.\n",
    "            vocab (Vocab): Vocabulary for text vectorization.\n",
    "            train (bool): Whether this is a training dataset.\n",
    "            max_len (int): Maximum length for sentences. If None, no truncation.\n",
    "        \"\"\"\n",
    "        super().__init__()\n",
    "        self.dataframe = dataframe\n",
    "        self.vocab = vocab\n",
    "        self.train = train\n",
    "        self.max_len = max_len\n",
    "        self.images_path = images_path\n",
    "\n",
    "        # Define image transformations\n",
    "        self.image_transform = image_transform\n",
    "\n",
    "    def __len__(self):\n",
    "        return len(self.dataframe)\n",
    "\n",
    "    def __getitem__(self, idx):\n",
    "        row = self.dataframe.iloc[idx]\n",
    "\n",
    "        # Process image\n",
    "        image_path = f\"{self.images_path}{row['image_id']}.jpg\"\n",
    "        image = self.get_image(image_path)\n",
    "        \n",
    "        # Process sentence\n",
    "        sentence = row['caption']\n",
    "        vectorized_sentence = self.vectorize(sentence, self.vocab)\n",
    "        \n",
    "        if self.train:\n",
    "            label = row['label']\n",
    "            label = torch.tensor(label, dtype=torch.long)\n",
    "            return {\n",
    "                'images': image,\n",
    "                'captions': vectorized_sentence,\n",
    "                'labels': label\n",
    "            }\n",
    "        else:\n",
    "            return {\n",
    "                'images': image,\n",
    "                'captions': vectorized_sentence,\n",
    "                'id': row['id']\n",
    "            }\n",
    "        \n",
    "        \n",
    "    def vectorize(self, sentence, vocab):\n",
    "        unk_idx = vocab.get('<unk>', -1)\n",
    "        if unk_idx == -1:\n",
    "            raise ValueError(\"The vocabulary must include '<unk>' for unknown tokens.\")\n",
    "    \n",
    "        # Split sentence into tokens and map them to indices\n",
    "        tokens = ['<|startoftext|>'] + [token for token in sentence.split() if token.strip()] + ['<|endoftext|>']\n",
    "        vectorized_sentence = torch.tensor([vocab.get(token, unk_idx) for token in tokens], dtype=torch.long)\n",
    "        \n",
    "        # Pad or truncate the sentence\n",
    "        if len(vectorized_sentence) < self.max_len:\n",
    "            padding_length = self.max_len - len(vectorized_sentence)\n",
    "            pad_tensor = torch.full((padding_length,), self.vocab['<pad>'], dtype=torch.long)\n",
    "            padded_sentence = torch.cat((vectorized_sentence, pad_tensor), dim=0)\n",
    "        else:\n",
    "            padded_sentence = vectorized_sentence[:self.max_len]\n",
    "        \n",
    "        return padded_sentence\n",
    "    \n",
    "    def get_image(self, image_path):\n",
    "        pil_image = Image.open(image_path).convert(\"RGB\")\n",
    "        transformed_image = self.image_transform(pil_image)\n",
    "        return transformed_image"
   ],
   "id": "b120e5be81dc41aa",
   "outputs": [],
   "execution_count": 5
  },
  {
   "metadata": {
    "ExecuteTime": {
     "end_time": "2025-01-14T10:45:46.770618Z",
     "start_time": "2025-01-14T10:45:46.746364Z"
    }
   },
   "cell_type": "code",
   "source": [
    "tokenized_sentence = [sentence.split(\" \") for sentence in train_df['preprocessed_text']]\n",
    "max_len = max(len([token for token in sentence.split(\" \")]) for sentence in train_df['preprocessed_text'])\n",
    "print(max_len)\n",
    "vocab, inverse_vocab = build_simple_vocab(train_df['preprocessed_text'])"
   ],
   "id": "434eac424e669b66",
   "outputs": [
    {
     "name": "stdout",
     "output_type": "stream",
     "text": [
      "45\n"
     ]
    }
   ],
   "execution_count": 6
  },
  {
   "metadata": {
    "ExecuteTime": {
     "end_time": "2025-01-14T10:45:48.611080Z",
     "start_time": "2025-01-14T10:45:48.607540Z"
    }
   },
   "cell_type": "code",
   "source": [
    "transform_config = {\n",
    "    'train': transforms.Compose([\n",
    "    transforms.RandomHorizontalFlip(),\n",
    "    transforms.ColorJitter(brightness=0.2, contrast=0.1, saturation=0.1, hue=0.2),\n",
    "    transforms.RandomGrayscale(p=0.1),\n",
    "    # transforms.RandomPerspective(),\n",
    "    transforms.RandomRotation(degrees=10),\n",
    "    transforms.ToTensor(),\n",
    "    transforms.Normalize(mean=[0.48145466, 0.4578275, 0.40821073],\n",
    "                         std=[0.26862954, 0.26130258, 0.27577711])\n",
    "]),\n",
    "    'test': transforms.Compose([\n",
    "        transforms.ToTensor(),\n",
    "        transforms.Normalize(mean=[0.48145466, 0.4578275, 0.40821073],\n",
    "                             std=[0.26862954, 0.26130258, 0.27577711])\n",
    "    ])\n",
    "}"
   ],
   "id": "6136818dc9745f2f",
   "outputs": [],
   "execution_count": 7
  },
  {
   "metadata": {
    "ExecuteTime": {
     "end_time": "2025-01-14T10:45:50.027213Z",
     "start_time": "2025-01-14T10:45:50.024185Z"
    }
   },
   "cell_type": "code",
   "source": [
    "train_dataset = PreprocessingDataset(train_df, vocab, train=True, max_len=max_len, images_path = \"./dataset/train_images/\", image_transform=transform_config['train'])\n",
    "val_dataset = PreprocessingDataset(val_df, vocab, train=True, max_len=max_len, images_path =\"./dataset/val_images/\", image_transform=transform_config['test'])\n",
    "test_dataset = PreprocessingDataset(test_df, vocab, train=False, max_len=max_len, images_path = \"./dataset/test_images/\", image_transform=transform_config['test'])"
   ],
   "id": "f6a9c5515a874c53",
   "outputs": [],
   "execution_count": 8
  },
  {
   "metadata": {
    "ExecuteTime": {
     "end_time": "2025-01-14T10:45:50.220192Z",
     "start_time": "2025-01-14T10:45:50.217162Z"
    }
   },
   "cell_type": "code",
   "source": [
    "batch_size = 32\n",
    "train_dataloader = DataLoader(train_dataset, batch_size=batch_size, shuffle=True )\n",
    "val_dataloader = DataLoader(val_dataset, batch_size=batch_size, shuffle=False)\n",
    "test_dataloader = DataLoader(test_dataset, batch_size=batch_size, shuffle=False)"
   ],
   "id": "ef7e8ef05ced1727",
   "outputs": [],
   "execution_count": 9
  },
  {
   "metadata": {
    "ExecuteTime": {
     "end_time": "2025-01-14T10:45:51.233708Z",
     "start_time": "2025-01-14T10:45:51.218087Z"
    }
   },
   "cell_type": "code",
   "source": "device = torch.device(\"cuda\" if torch.cuda.is_available() else \"cpu\")",
   "id": "51c0d07bf84fb724",
   "outputs": [],
   "execution_count": 10
  },
  {
   "metadata": {
    "ExecuteTime": {
     "end_time": "2025-01-14T17:44:47.105467Z",
     "start_time": "2025-01-14T17:44:47.097394Z"
    }
   },
   "cell_type": "code",
   "source": [
    "class VisionModule(nn.Module):\n",
    "    def __init__(self, in_channels=3, num_filters=[4, 8, 16], kernel_sizes=[3, 3, 3], pool_kernel_size=2):\n",
    "        super(VisionModule, self).__init__()\n",
    "        \n",
    "        layers = []\n",
    "        input_channels = in_channels\n",
    "        \n",
    "        # Create a sequence of Conv2D -> ReLU -> MaxPool layers\n",
    "        for i in range(len(num_filters)):\n",
    "            layers.append(nn.Conv2d(input_channels, num_filters[i], kernel_size=kernel_sizes[i], padding=1))\n",
    "            layers.append(nn.ReLU())\n",
    "            layers.append(nn.BatchNorm2d(num_filters[i]))\n",
    "            layers.append(nn.Dropout(0.25))\n",
    "            layers.append(nn.MaxPool2d(kernel_size=pool_kernel_size))\n",
    "            input_channels = num_filters[i]\n",
    "        \n",
    "        self.feature_extractor = nn.Sequential(*layers)\n",
    "\n",
    "    def forward(self, x):\n",
    "        x = self.feature_extractor(x)\n",
    "        x = x.view(x.size(0), -1)  # Flatten the features\n",
    "        return x"
   ],
   "id": "f0cf44b7b652262c",
   "outputs": [],
   "execution_count": 237
  },
  {
   "metadata": {
    "ExecuteTime": {
     "end_time": "2025-01-14T17:44:47.284283Z",
     "start_time": "2025-01-14T17:44:47.253980Z"
    }
   },
   "cell_type": "code",
   "source": [
    "model = VisionModule()\n",
    "input_tensor = torch.randn(32, 3, 100, 100)\n",
    "features = model(input_tensor)\n",
    "print(features.shape)"
   ],
   "id": "18f8c39ff7dc30ed",
   "outputs": [
    {
     "name": "stdout",
     "output_type": "stream",
     "text": [
      "torch.Size([32, 2304])\n"
     ]
    }
   ],
   "execution_count": 238
  },
  {
   "metadata": {
    "ExecuteTime": {
     "end_time": "2025-01-14T17:44:25.273585Z",
     "start_time": "2025-01-14T17:44:25.261024Z"
    }
   },
   "cell_type": "code",
   "source": [
    "class TextModule(nn.Module):\n",
    "    def __init__(self, vocab_size=len(vocab), embedding_dim=16, kernel_sizes=[3, 4, 5], num_filters=16, dropout=0.25):\n",
    "        super(TextModule, self).__init__()\n",
    "        self.embedding = nn.Embedding(vocab_size, embedding_dim)\n",
    "        self.convs = nn.ModuleList([nn.Conv1d(embedding_dim, num_filters, kernel_size) for kernel_size in kernel_sizes])\n",
    "        self.norms = nn.ModuleList([nn.BatchNorm1d(num_filters) for _ in kernel_sizes])  # Batch normalization for each conv layer\n",
    "        self.dropout = nn.Dropout(dropout)  # Dropout for regularization\n",
    "\n",
    "    def forward(self, x):\n",
    "        x = self.embedding(x)  # Convert token indices to embeddings\n",
    "        x = x.permute(0, 2, 1)  # Rearrange for Conv1d [batch_size, embedding_dim, seq_len]\n",
    "        \n",
    "        # Apply convolution, normalization, activation, and dropout\n",
    "        feature_maps = []\n",
    "        for conv, norm in zip(self.convs, self.norms):\n",
    "            conv_out = torch.relu(conv(x))  # Convolution + ReLU\n",
    "            conv_out = norm(conv_out)  # Apply normalization\n",
    "            conv_out = self.dropout(conv_out)  # Apply dropout\n",
    "            pooled_out = torch.max_pool1d(conv_out, conv_out.shape[2]).squeeze(2)  # Max pooling\n",
    "            feature_maps.append(pooled_out)\n",
    "        \n",
    "        x = torch.cat(feature_maps, dim=1)  # Concatenate all feature maps\n",
    "        return x  # Return the extracted features\n"
   ],
   "id": "d4eb3f544f7f06cd",
   "outputs": [],
   "execution_count": 235
  },
  {
   "metadata": {
    "ExecuteTime": {
     "end_time": "2025-01-14T17:44:25.656815Z",
     "start_time": "2025-01-14T17:44:25.630512Z"
    }
   },
   "cell_type": "code",
   "source": [
    "vocab_size = len(vocab)  # Example vocabulary size\n",
    "model = TextModule(vocab_size)\n",
    "input_tensor = torch.randint(0, vocab_size, (batch_size, max_len))  # Example input\n",
    "features = model(input_tensor)  # Extracted features\n",
    "print(features.shape)"
   ],
   "id": "2905a2aeb296e417",
   "outputs": [
    {
     "name": "stdout",
     "output_type": "stream",
     "text": [
      "torch.Size([32, 48])\n"
     ]
    }
   ],
   "execution_count": 236
  },
  {
   "metadata": {
    "ExecuteTime": {
     "end_time": "2025-01-14T17:45:08.909971Z",
     "start_time": "2025-01-14T17:45:08.902864Z"
    }
   },
   "cell_type": "code",
   "source": [
    "class Model(nn.Module):\n",
    "    def __init__(self):\n",
    "        super(Model, self).__init__()\n",
    "        \n",
    "        self.vision_model = VisionModule()\n",
    "        self.vision_features = nn.Linear(in_features=2304, out_features=128)\n",
    "        \n",
    "        self.text_model = TextModule()\n",
    "        # self.LSTM = nn.LSTM(input_size=64, hidden_size=32, batch_first=True, bidirectional=False)\n",
    "        self.text_features = nn.Linear(in_features=48, out_features=128)\n",
    "        \n",
    "        self.concatenated_features = nn.Linear(in_features=256, out_features=128)\n",
    "        \n",
    "        self.clasification_head = nn.Linear(in_features=128, out_features=1)\n",
    "        \n",
    "        self.activation = nn.ReLU()\n",
    "        self.text_dropout = nn.Dropout(.2)\n",
    "        self.vision_dropout = nn.Dropout(.2)\n",
    "        \n",
    "    def forward(self, images, captions):\n",
    "        im_features = self.vision_model(images)\n",
    "        im_features = self.vision_features(im_features)\n",
    "        im_features = self.vision_dropout(self.activation(im_features))\n",
    "        \n",
    "        # txt_features = self.text_model(captions)\n",
    "        # txt_features = txt_features.unsqueeze(1)  # (batch_size, seq_len=1, feature_dim)\n",
    "        # _, (txt_features, _) = self.LSTM(txt_features)\n",
    "        # txt_features = txt_features.squeeze(0)  # (batch_size, feature_dim)\n",
    "        # txt_features = self.text_dropout(self.activation(txt_features))\n",
    "        \n",
    "        txt_features = self.text_model(captions)\n",
    "        txt_features = self.text_features(txt_features)\n",
    "        txt_features = self.text_dropout(self.activation(txt_features))\n",
    "        \n",
    "        concatenated_features = torch.cat((im_features, txt_features), dim=1)\n",
    "        concatenated_features = self.concatenated_features(concatenated_features)\n",
    "        \n",
    "        logits = self.clasification_head(concatenated_features)\n",
    "        predictions = torch.sigmoid(logits).squeeze(1)\n",
    "        return predictions # probability"
   ],
   "id": "5366b540a2446756",
   "outputs": [],
   "execution_count": 239
  },
  {
   "metadata": {
    "ExecuteTime": {
     "end_time": "2025-01-14T17:45:09.669095Z",
     "start_time": "2025-01-14T17:45:09.663979Z"
    }
   },
   "cell_type": "code",
   "source": [
    "def initialize_weights(m):\n",
    "    if isinstance(m, nn.Linear):\n",
    "        nn.init.xavier_uniform_(m.weight)\n",
    "        if m.bias is not None:\n",
    "            nn.init.zeros_(m.bias)\n",
    "    elif isinstance(m, nn.Conv2d) or isinstance(m, nn.Conv1d):\n",
    "        nn.init.kaiming_normal_(m.weight, nonlinearity='relu')\n",
    "        if m.bias is not None:\n",
    "            nn.init.zeros_(m.bias)\n",
    "    elif isinstance(m, nn.LayerNorm):\n",
    "        nn.init.ones_(m.weight)\n",
    "        nn.init.zeros_(m.bias)\n",
    "    elif isinstance(m, nn.BatchNorm1d) or isinstance(m, nn.BatchNorm2d):\n",
    "        nn.init.ones_(m.weight)  # Initialize BatchNorm weight to 1\n",
    "        nn.init.zeros_(m.bias)  # Initialize BatchNorm bias to 0"
   ],
   "id": "340278a77ea962ef",
   "outputs": [],
   "execution_count": 240
  },
  {
   "metadata": {
    "ExecuteTime": {
     "end_time": "2025-01-14T17:45:10.144960Z",
     "start_time": "2025-01-14T17:45:10.105975Z"
    }
   },
   "cell_type": "code",
   "source": [
    "# Test model code\n",
    "#  , num_heads, transformer_hidden_dim, num_transformer_layers\n",
    "model = Model()\n",
    "\n",
    "# Apply weight initialization recursively\n",
    "model.apply(initialize_weights)\n",
    "\n",
    "# Dummy input data\n",
    "images = torch.randn(16, 3, 100, 100)  # Batch of 16 RGB images of size 224x224\n",
    "captions = torch.randint(0, len(vocab), (16, max_len))  # Batch of 16 captions with max_len tokens each\n",
    "\n",
    "output = model(images, captions)\n",
    "print(output)  # Should be (16) "
   ],
   "id": "61d242071b2bf57d",
   "outputs": [
    {
     "name": "stdout",
     "output_type": "stream",
     "text": [
      "tensor([0.0145, 0.0012, 0.0785, 0.0253, 0.0060, 0.0018, 0.0138, 0.0343, 0.1588,\n",
      "        0.0007, 0.0197, 0.0123, 0.0330, 0.0083, 0.0860, 0.0081],\n",
      "       grad_fn=<SqueezeBackward1>)\n"
     ]
    }
   ],
   "execution_count": 241
  },
  {
   "metadata": {
    "ExecuteTime": {
     "end_time": "2025-01-14T17:45:10.949850Z",
     "start_time": "2025-01-14T17:45:10.938190Z"
    }
   },
   "cell_type": "code",
   "source": [
    "# Initialize the model\n",
    "model_config = {\n",
    "    \n",
    "}\n",
    "model = Model()\n",
    "model.to(device)\n",
    "model.apply(initialize_weights)"
   ],
   "id": "b8e49cebdfb0724c",
   "outputs": [
    {
     "data": {
      "text/plain": [
       "Model(\n",
       "  (vision_model): VisionModule(\n",
       "    (feature_extractor): Sequential(\n",
       "      (0): Conv2d(3, 4, kernel_size=(3, 3), stride=(1, 1), padding=(1, 1))\n",
       "      (1): ReLU()\n",
       "      (2): BatchNorm2d(4, eps=1e-05, momentum=0.1, affine=True, track_running_stats=True)\n",
       "      (3): Dropout(p=0.25, inplace=False)\n",
       "      (4): MaxPool2d(kernel_size=2, stride=2, padding=0, dilation=1, ceil_mode=False)\n",
       "      (5): Conv2d(4, 8, kernel_size=(3, 3), stride=(1, 1), padding=(1, 1))\n",
       "      (6): ReLU()\n",
       "      (7): BatchNorm2d(8, eps=1e-05, momentum=0.1, affine=True, track_running_stats=True)\n",
       "      (8): Dropout(p=0.25, inplace=False)\n",
       "      (9): MaxPool2d(kernel_size=2, stride=2, padding=0, dilation=1, ceil_mode=False)\n",
       "      (10): Conv2d(8, 16, kernel_size=(3, 3), stride=(1, 1), padding=(1, 1))\n",
       "      (11): ReLU()\n",
       "      (12): BatchNorm2d(16, eps=1e-05, momentum=0.1, affine=True, track_running_stats=True)\n",
       "      (13): Dropout(p=0.25, inplace=False)\n",
       "      (14): MaxPool2d(kernel_size=2, stride=2, padding=0, dilation=1, ceil_mode=False)\n",
       "    )\n",
       "  )\n",
       "  (vision_features): Linear(in_features=2304, out_features=128, bias=True)\n",
       "  (text_model): TextModule(\n",
       "    (embedding): Embedding(3664, 16)\n",
       "    (convs): ModuleList(\n",
       "      (0): Conv1d(16, 16, kernel_size=(3,), stride=(1,))\n",
       "      (1): Conv1d(16, 16, kernel_size=(4,), stride=(1,))\n",
       "      (2): Conv1d(16, 16, kernel_size=(5,), stride=(1,))\n",
       "    )\n",
       "    (norms): ModuleList(\n",
       "      (0-2): 3 x BatchNorm1d(16, eps=1e-05, momentum=0.1, affine=True, track_running_stats=True)\n",
       "    )\n",
       "    (dropout): Dropout(p=0.25, inplace=False)\n",
       "  )\n",
       "  (text_features): Linear(in_features=48, out_features=128, bias=True)\n",
       "  (concatenated_features): Linear(in_features=256, out_features=128, bias=True)\n",
       "  (clasification_head): Linear(in_features=128, out_features=1, bias=True)\n",
       "  (activation): ReLU()\n",
       "  (text_dropout): Dropout(p=0.2, inplace=False)\n",
       "  (vision_dropout): Dropout(p=0.2, inplace=False)\n",
       ")"
      ]
     },
     "execution_count": 242,
     "metadata": {},
     "output_type": "execute_result"
    }
   ],
   "execution_count": 242
  },
  {
   "metadata": {
    "ExecuteTime": {
     "end_time": "2025-01-14T17:45:11.109983Z",
     "start_time": "2025-01-14T17:45:11.105945Z"
    }
   },
   "cell_type": "code",
   "source": [
    "import transformers\n",
    "\n",
    "criterion = nn.BCELoss()  # Use logits directly\n",
    "optimizer = optim.AdamW(model.parameters(), lr=5e-5, weight_decay=1e-5)\n",
    " # T_0 -> Number of iterations until the first restart\n",
    " # T_mult -> Double the cycle length after every restart\n",
    "# scheduler = torch.optim.lr_scheduler.MultiStepLR(optimizer, [10, 30, 45], gamma=0.2)\n",
    "epochs = 70\n",
    "# num_train_steps = int(len(train_dataloader) / batch_size) * epochs\n",
    "# num_warmup_steps = int(0.1 * num_train_steps)\n",
    "# scheduler = transformers.get_linear_schedule_with_warmup(optimizer, num_warmup_steps=num_warmup_steps, num_training_steps=num_train_steps)\n",
    "\n",
    "scheduler = torch.optim.lr_scheduler.CosineAnnealingWarmRestarts(\n",
    "    optimizer, \n",
    "    T_0=5,  # Number of epochs before the first restart\n",
    "    T_mult=1,  # Multiplicative factor for increasing restart period\n",
    "    eta_min=5e-6  # Minimum learning rate\n",
    ")"
   ],
   "id": "2fd4fe8235fc725d",
   "outputs": [],
   "execution_count": 243
  },
  {
   "metadata": {
    "ExecuteTime": {
     "end_time": "2025-01-14T17:45:11.312674Z",
     "start_time": "2025-01-14T17:45:11.288905Z"
    }
   },
   "cell_type": "code",
   "source": [
    "import copy\n",
    "\n",
    "def plot_gradients(model, layer_name):\n",
    "    # Find the layer with the specified name\n",
    "    for name, param in model.named_parameters():\n",
    "        if name == layer_name and param.grad is not None:\n",
    "            gradients = param.grad.cpu().detach().numpy()  # Convert gradients to a NumPy array\n",
    "\n",
    "            # Flatten the gradients for visualization\n",
    "            flattened_gradients = gradients.flatten()\n",
    "\n",
    "            # Plot the histogram of gradients\n",
    "            plt.figure(figsize=(10, 6))\n",
    "            plt.hist(flattened_gradients, bins=50, color='blue', alpha=0.7)\n",
    "            plt.title(f\"Gradient Distribution for Layer: {layer_name}\")\n",
    "            plt.xlabel(\"Gradient Value\")\n",
    "            plt.ylabel(\"Frequency\")\n",
    "            plt.grid(True)\n",
    "            plt.show()\n",
    "\n",
    "            # Plot the gradient values as a line plot\n",
    "            plt.figure(figsize=(10, 6))\n",
    "            plt.plot(flattened_gradients, color='red', alpha=0.7)\n",
    "            plt.title(f\"Gradient Values for Layer: {layer_name}\")\n",
    "            plt.xlabel(\"Parameter Index\")\n",
    "            plt.ylabel(\"Gradient Value\")\n",
    "            plt.grid(True)\n",
    "            plt.show()\n",
    "\n",
    "            return  # Exit after finding and plotting the layer's gradients\n",
    "\n",
    "    print(f\"Layer {layer_name} not found or has no gradients.\")\n",
    "\n",
    "\n",
    "def monitor_gradients(model):\n",
    "    grad_info = []\n",
    "    for name, param in model.named_parameters():\n",
    "        if param.grad is not None:\n",
    "            grad_norm = param.grad.norm().item()\n",
    "            grad_info.append((name, grad_norm))\n",
    "    return grad_info\n",
    "\n",
    "\n",
    "def training_method(model, criterion, optimizer, scheduler, num_epochs, train_loader, val_loader, patience=10, delta = 0.02, loss_procentage_improvement=10, gradient_clip=10.0):\n",
    "    train_losses = []  # List to store training losses\n",
    "    val_losses = []  # List to store validation losses\n",
    "    val_accuracies = []  # List to store validation accuracies\n",
    "    val_precisions = []  # List to store validation precisions\n",
    "    val_recalls = []  # List to store validation recalls\n",
    "    val_f1s = []  # List to store validation F1-scores\n",
    "    learning_rates = [] # List to store learning rate progression\n",
    "\n",
    "    best_val_loss = float('inf')  # Initialize the best validation loss\n",
    "    initial_loss = float('inf')\n",
    "    best_model = None  # Store the best model\n",
    "    epochs_without_improvement = 0  # Track epochs without improvement\n",
    "\n",
    "    for epoch in range(num_epochs):\n",
    "        start_time = time.time()\n",
    "        ### TRAINING\n",
    "        model.train()\n",
    "        training_loss = 0.0\n",
    "        for batch_idx, batch in enumerate(train_loader):\n",
    "            images = batch['images'].to(device)      # Images from batch\n",
    "            captions = batch['captions'].to(device)  # Captions from batch\n",
    "            labels = batch['labels'].to(device).float()  # Binary labels (0/1), converted to float\n",
    "            \n",
    "            optimizer.zero_grad()  # Reset gradients\n",
    "            output = model(images, captions)  # Forward pass (logits)\n",
    "            loss = criterion(output, labels)  # Compute loss\n",
    "            loss.backward()  # Backpropagation\n",
    "            \n",
    "            # Monitor gradient norms\n",
    "            grad_info = monitor_gradients(model)\n",
    "            for layer_name, grad_norm in grad_info:\n",
    "                if grad_norm > 20:\n",
    "                    print(f\"Warning: Exploding gradient detected in layer {layer_name} with norm {grad_norm:.2f} at batch {batch_idx}\")\n",
    "                    # plot_gradients(model, layer_name)\n",
    "\n",
    "                \n",
    "            torch.nn.utils.clip_grad_norm_(model.parameters(), max_norm=gradient_clip)\n",
    "            \n",
    "            optimizer.step()  # Update weights\n",
    "            training_loss += loss.item()  # Accumulate loss\n",
    "        \n",
    "        train_loss = training_loss / len(train_loader)  # Average training loss\n",
    "        train_losses.append(train_loss)\n",
    "\n",
    "        ### VALIDATING\n",
    "        model.eval()\n",
    "        validation_loss = 0.0\n",
    "        all_labels = []  # Ground truth labels for validation\n",
    "        all_preds = []   # Predictions for validation\n",
    "        \n",
    "        with torch.no_grad():\n",
    "            for batch in val_loader:\n",
    "                images = batch['images'].to(device)\n",
    "                captions = batch['captions'].to(device)\n",
    "                labels = batch['labels'].to(device).float()\n",
    "                output = model(images, captions)  # Forward pass (logits)\n",
    "                loss = criterion(output, labels)  # Compute validation loss\n",
    "                validation_loss += loss.item()\n",
    "                \n",
    "                # Convert logits to probabilities and apply threshold\n",
    "                preds = (output > 0.5).float()\n",
    "                \n",
    "                # Store for statistics\n",
    "                all_labels.extend(labels.cpu().numpy())\n",
    "                all_preds.extend(preds.cpu().numpy())\n",
    "                \n",
    "        val_loss = validation_loss / len(val_loader)  # Average validation loss\n",
    "        val_losses.append(val_loss)\n",
    "        print(f\"{sum(all_preds)=}\")\n",
    "        \n",
    "        # Compute validation statistics\n",
    "        val_accuracy = accuracy_score(all_labels, all_preds)\n",
    "        val_precision = precision_score(all_labels, all_preds, zero_division=0)\n",
    "        val_recall = recall_score(all_labels, all_preds, zero_division=0)\n",
    "        val_f1 = f1_score(all_labels, all_preds, zero_division=0)\n",
    "        \n",
    "        val_accuracies.append(val_accuracy)\n",
    "        val_precisions.append(val_precision)\n",
    "        val_recalls.append(val_recall)\n",
    "        val_f1s.append(val_f1)\n",
    "        \n",
    "        if epoch == 1:\n",
    "            initial_loss = val_loss\n",
    "\n",
    "        if val_loss < best_val_loss:\n",
    "            best_val_loss = val_loss\n",
    "            best_model = copy.deepcopy(model)  # Save the best model\n",
    "            epochs_without_improvement = 0  # Reset counter\n",
    "            print(f\"New best model with Loss: {val_loss:.4f} at epoch {epoch + 1}\")\n",
    "        elif val_loss < best_val_loss + delta:\n",
    "            print(f\"Validation loss did not improve significantly\")            \n",
    "        else:\n",
    "            epochs_without_improvement += 1\n",
    "            print(f\"Validation loss did not improve for {epochs_without_improvement} epoch(s).\")\n",
    "            # Stop training if validation loss does not improve for 'patience' epochs\n",
    "            if epochs_without_improvement >= patience:\n",
    "                print(f\"Early stopping at epoch {epoch + 1}. Best Loss: {best_val_loss:.4f}\")\n",
    "                break  # Exit training loop\n",
    "\n",
    "\n",
    "        # Step the learning rate scheduler\n",
    "        scheduler.step()\n",
    "        current_lr = optimizer.param_groups[0]['lr']  # Get the current learning rate\n",
    "        learning_rates.append(current_lr)\n",
    "        end_time = time.time()\n",
    "\n",
    "        print(f\"\\nEpoch {epoch + 1}/{num_epochs} - \"\n",
    "              f\"Training Loss: {train_loss:.4f} - \"\n",
    "              f\"Validation Loss: {val_loss:.4f} - \"\n",
    "              f\"Accuracy: {val_accuracy:.4f} - \"\n",
    "              f\"Precision: {val_precision:.4f} - \"\n",
    "              f\"Recall: {val_recall:.4f} - \"\n",
    "              f\"F1 Score: {val_f1:.4f} - \"\n",
    "              f\"Time: {end_time - start_time:.2f} - \"\n",
    "              f\"Lr: {current_lr:.2e}\")\n",
    "\n",
    "    print('Training finished!')\n",
    "    \n",
    "    # save the model only if the best loss is lower than the first initial loss ( to see that the model actually improved with 10% loss )\n",
    "    if best_val_loss < (100 - loss_procentage_improvement) * initial_loss:\n",
    "        # Init plot&model save path\n",
    "        plt_save_path = \"models/\"\n",
    "        model_config['eval_loss'] = best_val_loss\n",
    "        for key, value in model_config.items():\n",
    "            plt_save_path += key + \"=\" + str(value) + \"+\"\n",
    "        plt_save_path = plt_save_path[:-1] + \".png\"\n",
    "        model_path = plt_save_path[:-4] + \".pt\"\n",
    "        torch.save(best_model.state_dict(), model_path)\n",
    "        print(f\"Best model with Loss: {best_val_loss:.4f} saved.\")\n",
    "        print(f\"Model saved to {model_path}\")\n",
    "\n",
    "        # Plotting the losses and validation metrics over epochs\n",
    "        plt.figure(figsize=(12, 8))\n",
    "        plt.subplot(3, 1, 1)\n",
    "        plt.plot(train_losses, label='Training Loss')\n",
    "        plt.plot(val_losses, label='Validation Loss')\n",
    "        plt.xlabel('Epochs')\n",
    "        plt.ylabel('Loss')\n",
    "        plt.title('Training and Validation Loss')\n",
    "        plt.legend()\n",
    "        \n",
    "        plt.subplot(3, 1, 2)\n",
    "        plt.plot(val_accuracies, label='Accuracy')\n",
    "        plt.plot(val_precisions, label='Precision')\n",
    "        plt.plot(val_recalls, label='Recall')\n",
    "        plt.plot(val_f1s, label='F1 Score')\n",
    "        plt.xlabel('Epochs')\n",
    "        plt.ylabel('Metric')\n",
    "        plt.title('Validation Metrics')\n",
    "        plt.legend()\n",
    "        \n",
    "        plt.subplot(3, 1, 3)\n",
    "        plt.plot(learning_rates, label='Learning Rate')\n",
    "        plt.xlabel(\"Epochs\")\n",
    "        plt.ylabel(\"Learning Rate\")\n",
    "        plt.title(\"Learning Rate Progression\")\n",
    "        plt.legend()\n",
    "    \n",
    "        plt.tight_layout()\n",
    "        plt.savefig(plt_save_path)\n",
    "        plt.show()\n",
    "    \n",
    "    else:\n",
    "        print(f\"Model wasn't saved because it didn't improve: {loss_procentage_improvement}%\")"
   ],
   "id": "6280acf86aa228a2",
   "outputs": [],
   "execution_count": 244
  },
  {
   "metadata": {
    "ExecuteTime": {
     "end_time": "2025-01-14T17:58:46.314681Z",
     "start_time": "2025-01-14T17:45:12.170528Z"
    }
   },
   "cell_type": "code",
   "source": "training_method(model, criterion, optimizer, scheduler, num_epochs=epochs, train_loader=train_dataloader, val_loader=val_dataloader)",
   "id": "ee2f8b5c78457e56",
   "outputs": [
    {
     "name": "stdout",
     "output_type": "stream",
     "text": [
      "sum(all_preds)=1498.0\n",
      "New best model with Loss: 0.7119 at epoch 1\n",
      "\n",
      "Epoch 1/70 - Training Loss: 0.9694 - Validation Loss: 0.7119 - Accuracy: 0.5280 - Precision: 0.5280 - Recall: 0.5273 - F1 Score: 0.5277 - Time: 22.27 - Lr: 4.57e-05\n",
      "sum(all_preds)=1853.0\n",
      "New best model with Loss: 0.7042 at epoch 2\n",
      "\n",
      "Epoch 2/70 - Training Loss: 0.7622 - Validation Loss: 0.7042 - Accuracy: 0.5290 - Precision: 0.5235 - Recall: 0.6467 - F1 Score: 0.5786 - Time: 19.64 - Lr: 3.45e-05\n",
      "sum(all_preds)=2048.0\n",
      "New best model with Loss: 0.7017 at epoch 3\n",
      "\n",
      "Epoch 3/70 - Training Loss: 0.7228 - Validation Loss: 0.7017 - Accuracy: 0.5327 - Precision: 0.5239 - Recall: 0.7153 - F1 Score: 0.6048 - Time: 19.57 - Lr: 2.05e-05\n",
      "sum(all_preds)=2102.0\n",
      "New best model with Loss: 0.7007 at epoch 4\n",
      "\n",
      "Epoch 4/70 - Training Loss: 0.7046 - Validation Loss: 0.7007 - Accuracy: 0.5367 - Precision: 0.5262 - Recall: 0.7373 - F1 Score: 0.6141 - Time: 19.75 - Lr: 9.30e-06\n",
      "sum(all_preds)=1799.0\n",
      "New best model with Loss: 0.6960 at epoch 5\n",
      "\n",
      "Epoch 5/70 - Training Loss: 0.7027 - Validation Loss: 0.6960 - Accuracy: 0.5383 - Precision: 0.5320 - Recall: 0.6380 - F1 Score: 0.5802 - Time: 19.61 - Lr: 5.00e-05\n",
      "sum(all_preds)=1643.0\n",
      "New best model with Loss: 0.6918 at epoch 6\n",
      "\n",
      "Epoch 6/70 - Training Loss: 0.6977 - Validation Loss: 0.6918 - Accuracy: 0.5410 - Precision: 0.5374 - Recall: 0.5887 - F1 Score: 0.5619 - Time: 19.73 - Lr: 4.57e-05\n",
      "sum(all_preds)=1998.0\n",
      "Validation loss did not improve significantly\n",
      "\n",
      "Epoch 7/70 - Training Loss: 0.6912 - Validation Loss: 0.6942 - Accuracy: 0.5427 - Precision: 0.5320 - Recall: 0.7087 - F1 Score: 0.6078 - Time: 19.69 - Lr: 3.45e-05\n",
      "sum(all_preds)=1661.0\n",
      "New best model with Loss: 0.6906 at epoch 8\n",
      "\n",
      "Epoch 8/70 - Training Loss: 0.6857 - Validation Loss: 0.6906 - Accuracy: 0.5383 - Precision: 0.5346 - Recall: 0.5920 - F1 Score: 0.5618 - Time: 19.76 - Lr: 2.05e-05\n",
      "sum(all_preds)=1978.0\n",
      "Validation loss did not improve significantly\n",
      "\n",
      "Epoch 9/70 - Training Loss: 0.6864 - Validation Loss: 0.6932 - Accuracy: 0.5440 - Precision: 0.5334 - Recall: 0.7033 - F1 Score: 0.6067 - Time: 19.73 - Lr: 9.30e-06\n",
      "sum(all_preds)=1859.0\n",
      "Validation loss did not improve significantly\n",
      "\n",
      "Epoch 10/70 - Training Loss: 0.6817 - Validation Loss: 0.6920 - Accuracy: 0.5443 - Precision: 0.5358 - Recall: 0.6640 - F1 Score: 0.5930 - Time: 19.65 - Lr: 5.00e-05\n",
      "sum(all_preds)=2694.0\n",
      "Validation loss did not improve for 1 epoch(s).\n",
      "\n",
      "Epoch 11/70 - Training Loss: 0.6853 - Validation Loss: 0.7148 - Accuracy: 0.5173 - Precision: 0.5097 - Recall: 0.9153 - F1 Score: 0.6547 - Time: 19.70 - Lr: 4.57e-05\n",
      "sum(all_preds)=1399.0\n",
      "New best model with Loss: 0.6879 at epoch 12\n",
      "\n",
      "Epoch 12/70 - Training Loss: 0.6860 - Validation Loss: 0.6879 - Accuracy: 0.5530 - Precision: 0.5568 - Recall: 0.5193 - F1 Score: 0.5374 - Time: 19.77 - Lr: 3.45e-05\n",
      "sum(all_preds)=1558.0\n",
      "New best model with Loss: 0.6867 at epoch 13\n",
      "\n",
      "Epoch 13/70 - Training Loss: 0.6810 - Validation Loss: 0.6867 - Accuracy: 0.5560 - Precision: 0.5539 - Recall: 0.5753 - F1 Score: 0.5644 - Time: 19.63 - Lr: 2.05e-05\n",
      "sum(all_preds)=1730.0\n",
      "Validation loss did not improve significantly\n",
      "\n",
      "Epoch 14/70 - Training Loss: 0.6796 - Validation Loss: 0.6885 - Accuracy: 0.5560 - Precision: 0.5486 - Recall: 0.6327 - F1 Score: 0.5876 - Time: 19.63 - Lr: 9.30e-06\n",
      "sum(all_preds)=2014.0\n",
      "Validation loss did not improve significantly\n",
      "\n",
      "Epoch 15/70 - Training Loss: 0.6781 - Validation Loss: 0.6907 - Accuracy: 0.5527 - Precision: 0.5392 - Recall: 0.7240 - F1 Score: 0.6181 - Time: 19.81 - Lr: 5.00e-05\n",
      "sum(all_preds)=1540.0\n",
      "New best model with Loss: 0.6849 at epoch 16\n",
      "\n",
      "Epoch 16/70 - Training Loss: 0.6781 - Validation Loss: 0.6849 - Accuracy: 0.5553 - Precision: 0.5539 - Recall: 0.5687 - F1 Score: 0.5612 - Time: 19.74 - Lr: 4.57e-05\n",
      "sum(all_preds)=1877.0\n",
      "Validation loss did not improve significantly\n",
      "\n",
      "Epoch 17/70 - Training Loss: 0.6799 - Validation Loss: 0.6870 - Accuracy: 0.5557 - Precision: 0.5445 - Recall: 0.6813 - F1 Score: 0.6053 - Time: 19.78 - Lr: 3.45e-05\n",
      "sum(all_preds)=2034.0\n",
      "Validation loss did not improve significantly\n",
      "\n",
      "Epoch 18/70 - Training Loss: 0.6776 - Validation Loss: 0.6907 - Accuracy: 0.5587 - Precision: 0.5433 - Recall: 0.7367 - F1 Score: 0.6254 - Time: 19.69 - Lr: 2.05e-05\n",
      "sum(all_preds)=1883.0\n",
      "Validation loss did not improve significantly\n",
      "\n",
      "Epoch 19/70 - Training Loss: 0.6755 - Validation Loss: 0.6886 - Accuracy: 0.5637 - Precision: 0.5507 - Recall: 0.6913 - F1 Score: 0.6131 - Time: 19.57 - Lr: 9.30e-06\n",
      "sum(all_preds)=1997.0\n",
      "Validation loss did not improve significantly\n",
      "\n",
      "Epoch 20/70 - Training Loss: 0.6720 - Validation Loss: 0.6895 - Accuracy: 0.5630 - Precision: 0.5473 - Recall: 0.7287 - F1 Score: 0.6251 - Time: 19.59 - Lr: 5.00e-05\n",
      "sum(all_preds)=1610.0\n",
      "New best model with Loss: 0.6843 at epoch 21\n",
      "\n",
      "Epoch 21/70 - Training Loss: 0.6752 - Validation Loss: 0.6843 - Accuracy: 0.5687 - Precision: 0.5640 - Recall: 0.6053 - F1 Score: 0.5839 - Time: 19.47 - Lr: 4.57e-05\n",
      "sum(all_preds)=2101.0\n",
      "Validation loss did not improve significantly\n",
      "\n",
      "Epoch 22/70 - Training Loss: 0.6749 - Validation Loss: 0.6926 - Accuracy: 0.5683 - Precision: 0.5488 - Recall: 0.7687 - F1 Score: 0.6404 - Time: 19.62 - Lr: 3.45e-05\n",
      "sum(all_preds)=2143.0\n",
      "Validation loss did not improve significantly\n",
      "\n",
      "Epoch 23/70 - Training Loss: 0.6743 - Validation Loss: 0.6931 - Accuracy: 0.5577 - Precision: 0.5404 - Recall: 0.7720 - F1 Score: 0.6357 - Time: 19.56 - Lr: 2.05e-05\n",
      "sum(all_preds)=1869.0\n",
      "Validation loss did not improve significantly\n",
      "\n",
      "Epoch 24/70 - Training Loss: 0.6699 - Validation Loss: 0.6877 - Accuracy: 0.5677 - Precision: 0.5543 - Recall: 0.6907 - F1 Score: 0.6150 - Time: 19.64 - Lr: 9.30e-06\n",
      "sum(all_preds)=1986.0\n",
      "Validation loss did not improve significantly\n",
      "\n",
      "Epoch 25/70 - Training Loss: 0.6695 - Validation Loss: 0.6897 - Accuracy: 0.5667 - Precision: 0.5504 - Recall: 0.7287 - F1 Score: 0.6271 - Time: 19.70 - Lr: 5.00e-05\n",
      "sum(all_preds)=2209.0\n",
      "Validation loss did not improve significantly\n",
      "\n",
      "Epoch 26/70 - Training Loss: 0.6702 - Validation Loss: 0.6982 - Accuracy: 0.5617 - Precision: 0.5419 - Recall: 0.7980 - F1 Score: 0.6455 - Time: 20.09 - Lr: 4.57e-05\n",
      "sum(all_preds)=2044.0\n",
      "Validation loss did not improve significantly\n",
      "\n",
      "Epoch 27/70 - Training Loss: 0.6668 - Validation Loss: 0.6935 - Accuracy: 0.5647 - Precision: 0.5475 - Recall: 0.7460 - F1 Score: 0.6315 - Time: 19.96 - Lr: 3.45e-05\n",
      "sum(all_preds)=1908.0\n",
      "Validation loss did not improve significantly\n",
      "\n",
      "Epoch 28/70 - Training Loss: 0.6676 - Validation Loss: 0.6891 - Accuracy: 0.5787 - Precision: 0.5618 - Recall: 0.7147 - F1 Score: 0.6291 - Time: 19.72 - Lr: 2.05e-05\n",
      "sum(all_preds)=2312.0\n",
      "Validation loss did not improve for 1 epoch(s).\n",
      "\n",
      "Epoch 29/70 - Training Loss: 0.6661 - Validation Loss: 0.7068 - Accuracy: 0.5547 - Precision: 0.5355 - Recall: 0.8253 - F1 Score: 0.6495 - Time: 20.03 - Lr: 9.30e-06\n",
      "sum(all_preds)=2413.0\n",
      "Validation loss did not improve for 2 epoch(s).\n",
      "\n",
      "Epoch 30/70 - Training Loss: 0.6630 - Validation Loss: 0.7125 - Accuracy: 0.5483 - Precision: 0.5300 - Recall: 0.8527 - F1 Score: 0.6537 - Time: 19.92 - Lr: 5.00e-05\n",
      "sum(all_preds)=2077.0\n",
      "Validation loss did not improve significantly\n",
      "\n",
      "Epoch 31/70 - Training Loss: 0.6637 - Validation Loss: 0.7027 - Accuracy: 0.5697 - Precision: 0.5503 - Recall: 0.7620 - F1 Score: 0.6391 - Time: 19.77 - Lr: 4.57e-05\n",
      "sum(all_preds)=2172.0\n",
      "Validation loss did not improve significantly\n",
      "\n",
      "Epoch 32/70 - Training Loss: 0.6671 - Validation Loss: 0.6984 - Accuracy: 0.5680 - Precision: 0.5470 - Recall: 0.7920 - F1 Score: 0.6471 - Time: 19.75 - Lr: 3.45e-05\n",
      "sum(all_preds)=2293.0\n",
      "Validation loss did not improve for 3 epoch(s).\n",
      "\n",
      "Epoch 33/70 - Training Loss: 0.6635 - Validation Loss: 0.7083 - Accuracy: 0.5590 - Precision: 0.5386 - Recall: 0.8233 - F1 Score: 0.6512 - Time: 19.72 - Lr: 2.05e-05\n",
      "sum(all_preds)=2385.0\n",
      "Validation loss did not improve for 4 epoch(s).\n",
      "\n",
      "Epoch 34/70 - Training Loss: 0.6603 - Validation Loss: 0.7213 - Accuracy: 0.5517 - Precision: 0.5325 - Recall: 0.8467 - F1 Score: 0.6538 - Time: 19.75 - Lr: 9.30e-06\n",
      "sum(all_preds)=2318.0\n",
      "Validation loss did not improve for 5 epoch(s).\n",
      "\n",
      "Epoch 35/70 - Training Loss: 0.6576 - Validation Loss: 0.7171 - Accuracy: 0.5593 - Precision: 0.5384 - Recall: 0.8320 - F1 Score: 0.6537 - Time: 19.70 - Lr: 5.00e-05\n",
      "sum(all_preds)=2351.0\n",
      "Validation loss did not improve for 6 epoch(s).\n",
      "\n",
      "Epoch 36/70 - Training Loss: 0.6599 - Validation Loss: 0.7239 - Accuracy: 0.5550 - Precision: 0.5351 - Recall: 0.8387 - F1 Score: 0.6533 - Time: 19.68 - Lr: 4.57e-05\n",
      "sum(all_preds)=2266.0\n",
      "Validation loss did not improve for 7 epoch(s).\n",
      "\n",
      "Epoch 37/70 - Training Loss: 0.6618 - Validation Loss: 0.7143 - Accuracy: 0.5653 - Precision: 0.5432 - Recall: 0.8207 - F1 Score: 0.6537 - Time: 19.66 - Lr: 3.45e-05\n",
      "sum(all_preds)=2441.0\n",
      "Validation loss did not improve for 8 epoch(s).\n",
      "\n",
      "Epoch 38/70 - Training Loss: 0.6573 - Validation Loss: 0.7258 - Accuracy: 0.5503 - Precision: 0.5309 - Recall: 0.8640 - F1 Score: 0.6577 - Time: 20.21 - Lr: 2.05e-05\n",
      "sum(all_preds)=2128.0\n",
      "Validation loss did not improve significantly\n",
      "\n",
      "Epoch 39/70 - Training Loss: 0.6573 - Validation Loss: 0.7039 - Accuracy: 0.5840 - Precision: 0.5592 - Recall: 0.7933 - F1 Score: 0.6560 - Time: 20.36 - Lr: 9.30e-06\n",
      "sum(all_preds)=2342.0\n",
      "Validation loss did not improve for 9 epoch(s).\n",
      "\n",
      "Epoch 40/70 - Training Loss: 0.6557 - Validation Loss: 0.7186 - Accuracy: 0.5607 - Precision: 0.5389 - Recall: 0.8413 - F1 Score: 0.6569 - Time: 20.23 - Lr: 5.00e-05\n",
      "sum(all_preds)=2371.0\n",
      "Validation loss did not improve for 10 epoch(s).\n",
      "Early stopping at epoch 41. Best Loss: 0.6843\n",
      "Training finished!\n",
      "Best model with Loss: 0.6843 saved.\n",
      "Model saved to models/eval_loss=0.6843001138656697.pt\n"
     ]
    },
    {
     "data": {
      "text/plain": [
       "<Figure size 1200x800 with 3 Axes>"
      ],
      "image/png": "[encoded data removed]"
     },
     "metadata": {},
     "output_type": "display_data"
    }
   ],
   "execution_count": 245
  },
  {
   "metadata": {},
   "cell_type": "code",
   "source": [
    "ids = []\n",
    "predictions = []\n",
    "\n",
    "def make_submission(model, test_loader):\n",
    "    model.eval()\n",
    "\n",
    "    with torch.no_grad():\n",
    "        for batch in tqdm(test_loader):\n",
    "            images = batch['images'].to(device)\n",
    "            captions = batch['captions'].to(device)\n",
    "            id = batch['id']\n",
    "            \n",
    "            output = model(images, captions)\n",
    "            preds = (output > 0.5).int()\n",
    "            \n",
    "            ids.extend(id)\n",
    "            predictions.extend(preds.cpu().tolist())\n",
    "    df = pd.DataFrame({'id': ids, 'label': predictions})\n",
    "    df.to_csv('submission3.csv', index=False)"
   ],
   "id": "95402ff5c7357c82",
   "outputs": [],
   "execution_count": null
  },
  {
   "metadata": {
    "ExecuteTime": {
     "end_time": "2025-01-13T21:47:48.851231Z",
     "start_time": "2025-01-13T21:47:48.848526Z"
    }
   },
   "cell_type": "code",
   "source": [
    "# # LOAD MODEL FROM PATH\n",
    "# model_config = {\n",
    "#     \"vocab_size\": len(vocab),\n",
    "#     \"embedding_dim\": 128,\n",
    "#     \"num_filters\": 128,\n",
    "#     \"filter_sizes\": [3, 4, 5, 6, 7, 8],\n",
    "#     \"seq_len\": max_len,\n",
    "#     \"cnn_text_drop_value\": 0.5,\n",
    "#     \"cnn_dropout_value\": 0.4,\n",
    "#     \"head_dropout_value\": 0.5,\n",
    "#     \"num_classes\": 1,\n",
    "# }\n",
    "# model = ImageTextClassifier(**model_config)\n",
    "# model_path = \"vocab_size=3733+embedding_dim=128+num_filters=128+filter_sizes=[3, 4, 5, 6, 7, 8]+seq_len=53+cnn_text_drop_value=0.5+cnn_dropout_value=0.4+head_dropout_value=0.5+num_classes=1+eval_loss=0.6202353974606128.pt\"\n",
    "# model.load_state_dict(torch.load(model_path, weights_only=True))\n",
    "# model.to(device)"
   ],
   "id": "595baf65e18e78cd",
   "outputs": [],
   "execution_count": 78
  },
  {
   "metadata": {
    "ExecuteTime": {
     "end_time": "2025-01-13T21:47:50.651347Z",
     "start_time": "2025-01-13T21:47:48.851231Z"
    }
   },
   "cell_type": "code",
   "source": "make_submission(model, test_dataloader)",
   "id": "6cc9a81e05125a1d",
   "outputs": [
    {
     "name": "stderr",
     "output_type": "stream",
     "text": [
      "100%|██████████| 63/63 [00:01<00:00, 35.14it/s]\n"
     ]
    }
   ],
   "execution_count": 79
  },
  {
   "metadata": {
    "ExecuteTime": {
     "end_time": "2025-01-13T21:47:50.656284Z",
     "start_time": "2025-01-13T21:47:50.651855Z"
    }
   },
   "cell_type": "code",
   "source": [
    "\n",
    "def hyperparameter_tuning(vocab_size, max_len, train_loader, val_loader, param_grid, training_method, num_epochs=200):\n",
    "\n",
    "    # Create all combinations of hyperparameters\n",
    "    keys, values = zip(*param_grid.items())\n",
    "    param_combinations = [dict(zip(keys, v)) for v in product(*values)]\n",
    "    \n",
    "    for params in tqdm(param_combinations):\n",
    "        print(f\"Testing configuration: {params}\")\n",
    "        \n",
    "        try:\n",
    "            # Update model configuration\n",
    "            model_config = {\n",
    "                \"vocab_size\": vocab_size,\n",
    "                \"embedding_dim\": params[\"embedding_dim\"],\n",
    "                \"num_filters\": params[\"num_filters\"],\n",
    "                \"filter_sizes\": params[\"filter_sizes\"],\n",
    "                \"seq_len\": max_len,\n",
    "                \"cnn_text_drop_value\": params[\"cnn_text_drop_value\"],\n",
    "                \"cnn_dropout_value\": params[\"cnn_dropout_value\"],\n",
    "                \"head_dropout_value\": params[\"head_dropout_value\"],\n",
    "            }\n",
    "            \n",
    "            # Initialize model\n",
    "            model = ImageTextClassifier(**model_config)\n",
    "            model.to(device)\n",
    "            model.apply(initialize_weights)\n",
    "            \n",
    "            # Define criterion, optimizer, and scheduler\n",
    "            criterion = nn.BCEWithLogitsLoss()\n",
    "            optimizer = optim.AdamW(\n",
    "                model.parameters(), \n",
    "                lr=params[\"lr\"], \n",
    "                weight_decay=params[\"weight_decay\"]\n",
    "            )\n",
    "            scheduler = torch.optim.lr_scheduler.CosineAnnealingWarmRestarts(\n",
    "                optimizer, \n",
    "                T_0=params[\"T_0\"],\n",
    "                eta_min=params[\"eta_min\"],\n",
    "            )\n",
    "            \n",
    "            # Train the model\n",
    "            training_method(\n",
    "                model, criterion, optimizer, scheduler,\n",
    "                num_epochs=num_epochs,\n",
    "                train_loader=train_loader,\n",
    "                val_loader=val_loader\n",
    "            )\n",
    "            print(f\"Completed configuration: {params}\")\n",
    "        \n",
    "        except RuntimeError as e:\n",
    "            print(f\"Error with configuration: {params}\")\n",
    "            print(f\"Error message: {str(e)}\")\n",
    "        \n",
    "        finally:\n",
    "            # Reset GPU memory\n",
    "            print(\"Resetting GPU memory...\")\n",
    "            torch.cuda.empty_cache()\n",
    "            gc.collect()"
   ],
   "id": "cf6ef0fe03c73deb",
   "outputs": [],
   "execution_count": 80
  },
  {
   "metadata": {
    "ExecuteTime": {
     "end_time": "2025-01-13T21:47:50.660077Z",
     "start_time": "2025-01-13T21:47:50.656284Z"
    }
   },
   "cell_type": "code",
   "source": [
    "param_grid = {\n",
    "    \"embedding_dim\": [128],\n",
    "    \"num_filters\": [16],\n",
    "    \"filter_sizes\": [[3, 4, 5],[3, 4, 5, 6, 7, 8, 9]],\n",
    "    \"head_dropout_value\": [0.5],\n",
    "    \"cnn_text_drop_value\": [0.5],\n",
    "    \"cnn_dropout_value\": [0.5],\n",
    "    \"lr\": [1e-5, 1e-4, 5e-4, 1e-3, 5e-3],  # Learning rate candidates\n",
    "    \"weight_decay\": [1e-6, 1e-5, 1e-4, 1e-3],  # Weight decay candidates\n",
    "    \"T_0\": [10],  # Number of epochs for the first cycle\n",
    "    \"T_mult\": [1],  # Cycle multiplier\n",
    "    \"eta_min\": [1e-6, 1e-5, 1e-4],  # Minimum learning rate\n",
    "}\n",
    "\n",
    "total_combinations = math.prod(len(values) for values in param_grid.values())\n",
    "print(f\"Total combinations: {total_combinations}\")\n",
    "\n",
    "time_per_epoch = 23  # seconds\n",
    "num_epochs = 100  # epochs per configuration\n",
    "total_time_seconds = total_combinations * time_per_epoch * num_epochs\n",
    "\n",
    "# Convert to hours\n",
    "total_time_hours = total_time_seconds / 3600\n",
    "print(f\"Total time to hyper tune: {total_time_hours} hours\")"
   ],
   "id": "b9f5a5e907d2c63",
   "outputs": [
    {
     "name": "stdout",
     "output_type": "stream",
     "text": [
      "Total combinations: 120\n",
      "Total time to hyper tune: 76.66666666666667 hours\n"
     ]
    }
   ],
   "execution_count": 81
  },
  {
   "metadata": {
    "ExecuteTime": {
     "end_time": "2025-01-13T21:47:50.849635Z",
     "start_time": "2025-01-13T21:47:50.660077Z"
    }
   },
   "cell_type": "code",
   "source": [
    "results = hyperparameter_tuning(\n",
    "    vocab_size=len(vocab),\n",
    "    max_len=max_len,\n",
    "    train_loader=train_dataloader,\n",
    "    val_loader=val_dataloader,\n",
    "    param_grid=param_grid,\n",
    "    training_method=training_method,\n",
    "    num_epochs=100\n",
    ")"
   ],
   "id": "2b980f756d58665b",
   "outputs": [
    {
     "name": "stderr",
     "output_type": "stream",
     "text": [
      "  0%|          | 0/120 [00:00<?, ?it/s]"
     ]
    },
    {
     "name": "stdout",
     "output_type": "stream",
     "text": [
      "Testing configuration: {'embedding_dim': 128, 'num_filters': 16, 'filter_sizes': [3, 4, 5], 'head_dropout_value': 0.5, 'cnn_text_drop_value': 0.5, 'cnn_dropout_value': 0.5, 'lr': 1e-05, 'weight_decay': 1e-06, 'T_0': 10, 'T_mult': 1, 'eta_min': 1e-06}\n",
      "Resetting GPU memory...\n"
     ]
    },
    {
     "name": "stderr",
     "output_type": "stream",
     "text": [
      "\n"
     ]
    },
    {
     "ename": "NameError",
     "evalue": "name 'ImageTextClassifier' is not defined",
     "output_type": "error",
     "traceback": [
      "\u001B[1;31m---------------------------------------------------------------------------\u001B[0m",
      "\u001B[1;31mNameError\u001B[0m                                 Traceback (most recent call last)",
      "Cell \u001B[1;32mIn[82], line 1\u001B[0m\n\u001B[1;32m----> 1\u001B[0m results \u001B[38;5;241m=\u001B[39m hyperparameter_tuning(\n\u001B[0;32m      2\u001B[0m     vocab_size\u001B[38;5;241m=\u001B[39m\u001B[38;5;28mlen\u001B[39m(vocab),\n\u001B[0;32m      3\u001B[0m     max_len\u001B[38;5;241m=\u001B[39mmax_len,\n\u001B[0;32m      4\u001B[0m     train_loader\u001B[38;5;241m=\u001B[39mtrain_dataloader,\n\u001B[0;32m      5\u001B[0m     val_loader\u001B[38;5;241m=\u001B[39mval_dataloader,\n\u001B[0;32m      6\u001B[0m     param_grid\u001B[38;5;241m=\u001B[39mparam_grid,\n\u001B[0;32m      7\u001B[0m     training_method\u001B[38;5;241m=\u001B[39mtraining_method,\n\u001B[0;32m      8\u001B[0m     num_epochs\u001B[38;5;241m=\u001B[39m\u001B[38;5;241m100\u001B[39m\n\u001B[0;32m      9\u001B[0m )\n",
      "Cell \u001B[1;32mIn[80], line 24\u001B[0m, in \u001B[0;36mhyperparameter_tuning\u001B[1;34m(vocab_size, max_len, train_loader, val_loader, param_grid, training_method, num_epochs)\u001B[0m\n\u001B[0;32m     12\u001B[0m model_config \u001B[38;5;241m=\u001B[39m {\n\u001B[0;32m     13\u001B[0m     \u001B[38;5;124m\"\u001B[39m\u001B[38;5;124mvocab_size\u001B[39m\u001B[38;5;124m\"\u001B[39m: vocab_size,\n\u001B[0;32m     14\u001B[0m     \u001B[38;5;124m\"\u001B[39m\u001B[38;5;124membedding_dim\u001B[39m\u001B[38;5;124m\"\u001B[39m: params[\u001B[38;5;124m\"\u001B[39m\u001B[38;5;124membedding_dim\u001B[39m\u001B[38;5;124m\"\u001B[39m],\n\u001B[1;32m   (...)\u001B[0m\n\u001B[0;32m     20\u001B[0m     \u001B[38;5;124m\"\u001B[39m\u001B[38;5;124mhead_dropout_value\u001B[39m\u001B[38;5;124m\"\u001B[39m: params[\u001B[38;5;124m\"\u001B[39m\u001B[38;5;124mhead_dropout_value\u001B[39m\u001B[38;5;124m\"\u001B[39m],\n\u001B[0;32m     21\u001B[0m }\n\u001B[0;32m     23\u001B[0m \u001B[38;5;66;03m# Initialize model\u001B[39;00m\n\u001B[1;32m---> 24\u001B[0m model \u001B[38;5;241m=\u001B[39m ImageTextClassifier(\u001B[38;5;241m*\u001B[39m\u001B[38;5;241m*\u001B[39mmodel_config)\n\u001B[0;32m     25\u001B[0m model\u001B[38;5;241m.\u001B[39mto(device)\n\u001B[0;32m     26\u001B[0m model\u001B[38;5;241m.\u001B[39mapply(initialize_weights)\n",
      "\u001B[1;31mNameError\u001B[0m: name 'ImageTextClassifier' is not defined"
     ]
    }
   ],
   "execution_count": 82
  },
  {
   "metadata": {},
   "cell_type": "code",
   "source": "dir_models = os.listdir(\"./models\")",
   "id": "b13f77f45721bd1d",
   "outputs": [],
   "execution_count": null
  },
  {
   "metadata": {},
   "cell_type": "code",
   "source": "best_models = [path[:-3] for path in dir_models if path.endswith(\".pt\")]",
   "id": "d4641d6ec9100cd2",
   "outputs": [],
   "execution_count": null
  },
  {
   "metadata": {},
   "cell_type": "code",
   "source": "best_val_loss = [float(str(best_model.split(\"+\")[-1:]).split(\"=\")[1][:8]) for best_model in best_models]",
   "id": "b66b0b18ddd45eaf",
   "outputs": [],
   "execution_count": null
  },
  {
   "metadata": {},
   "cell_type": "code",
   "source": [
    "best_val_loss.sort()\n",
    "best_val_loss[:100]"
   ],
   "id": "f8072a414588fe28",
   "outputs": [],
   "execution_count": null
  },
  {
   "metadata": {},
   "cell_type": "code",
   "source": "",
   "id": "db3c79d743aaea6a",
   "outputs": [],
   "execution_count": null
  }
 ],
 "metadata": {
  "kernelspec": {
   "display_name": "Python 3",
   "language": "python",
   "name": "python3"
  },
  "language_info": {
   "codemirror_mode": {
    "name": "ipython",
    "version": 2
   },
   "file_extension": ".py",
   "mimetype": "text/x-python",
   "name": "python",
   "nbconvert_exporter": "python",
   "pygments_lexer": "ipython2",
   "version": "2.7.6"
  }
 },
 "nbformat": 4,
 "nbformat_minor": 5
}
