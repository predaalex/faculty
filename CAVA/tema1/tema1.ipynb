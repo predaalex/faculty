{
 "cells": [
  {
   "cell_type": "markdown",
   "source": [
    "### Imports"
   ],
   "metadata": {
    "collapsed": false
   }
  },
  {
   "cell_type": "code",
   "execution_count": 2,
   "metadata": {
    "collapsed": true
   },
   "outputs": [],
   "source": [
    "import cv2 as cv\n",
    "import numpy as np\n",
    "import os"
   ]
  },
  {
   "cell_type": "code",
   "execution_count": 3,
   "outputs": [],
   "source": [
    "def show_image(title, image):\n",
    "    image = cv.resize(image, (0, 0), fx=0.2, fy=0.2)\n",
    "    cv.imshow(title, image)\n",
    "    cv.waitKey(0)\n",
    "    cv.destroyAllWindows()"
   ],
   "metadata": {
    "collapsed": false
   }
  },
  {
   "cell_type": "markdown",
   "source": [
    "### Functia de detectie a conturului"
   ],
   "metadata": {
    "collapsed": false
   }
  },
  {
   "cell_type": "code",
   "execution_count": 3,
   "outputs": [],
   "source": [],
   "metadata": {
    "collapsed": false
   }
  },
  {
   "cell_type": "markdown",
   "source": [
    "### Functia de modificare a imaginii initiale cu operatii morfologice"
   ],
   "metadata": {
    "collapsed": false
   }
  },
  {
   "cell_type": "code",
   "execution_count": 4,
   "outputs": [],
   "source": [
    "### fereastra de proprietati custom\n",
    "def empty(a):\n",
    "    pass\n",
    "\n",
    "\n",
    "def createGUI():\n",
    "    cv.namedWindow(\"trackBars\", cv.WINDOW_NORMAL)\n",
    "    # cv.resizeWindow(\"trackBarks\", 640, 240)\n",
    "    cv.createTrackbar(\"Hue Min\", \"trackBars\", 20, 179, empty)\n",
    "    cv.createTrackbar(\"Hue Max\", \"trackBars\", 140, 179, empty)\n",
    "    cv.createTrackbar(\"Saturation Min\", \"trackBars\", 43, 255, empty)\n",
    "    cv.createTrackbar(\"Saturation Max\", \"trackBars\", 149, 255, empty)\n",
    "    cv.createTrackbar(\"Val Min\", \"trackBars\", 0, 255, empty)\n",
    "    cv.createTrackbar(\"Val Max\", \"trackBars\", 255, 255, empty)\n",
    "    cv.createTrackbar(\"MedianBlur\", \"trackBars\", 1, 21, empty)\n",
    "    cv.createTrackbar(\"GaussianBlur\", \"trackBars\", 1, 21, empty)\n",
    "    cv.createTrackbar(\"Sharpen alpha\", \"trackBars\", 1, 20, empty)\n",
    "    cv.createTrackbar(\"Sharpen beta\", \"trackBars\", 0, 20, empty)\n",
    "    cv.createTrackbar(\"Sharpen gama\", \"trackBars\", 0, 20, empty)\n",
    "    cv.createTrackbar(\"tresholdmin\", \"trackBars\", 0, 255, empty)\n",
    "    cv.createTrackbar(\"tresholdmax\", \"trackBars\", 255, 255, empty)\n",
    "    cv.createTrackbar(\"cannymin\", \"trackBars\", 0, 500, empty)\n",
    "    cv.createTrackbar(\"cannymax\", \"trackBars\", 0, 500, empty)\n"
   ],
   "metadata": {
    "collapsed": false
   }
  },
  {
   "cell_type": "code",
   "execution_count": 5,
   "outputs": [],
   "source": [
    "def imgModify(imgOriginala):\n",
    "    h, w, _ = imgOriginala.shape\n",
    "    # print(h, w)\n",
    "    img = cv.resize(imgOriginala, (0, 0), fx=0.2, fy=0.2)\n",
    "\n",
    "    imgHSV = cv.cvtColor(img, cv.COLOR_BGR2HSV)\n",
    "\n",
    "    createGUI()\n",
    "    while True:\n",
    "        h_min = cv.getTrackbarPos(\"Hue Min\", \"trackBars\")\n",
    "        h_max = cv.getTrackbarPos(\"Hue Max\", \"trackBars\")\n",
    "        s_min = cv.getTrackbarPos(\"Saturation Min\", \"trackBars\")\n",
    "        s_max = cv.getTrackbarPos(\"Saturation Max\", \"trackBars\")\n",
    "        v_min = cv.getTrackbarPos(\"Val Min\", \"trackBars\")\n",
    "        v_max = cv.getTrackbarPos(\"Val Max\", \"trackBars\")\n",
    "        median = cv.getTrackbarPos(\"MedianBlur\", \"trackBars\")\n",
    "        gaussian = cv.getTrackbarPos(\"GaussianBlur\", \"trackBars\")\n",
    "        alpha = cv.getTrackbarPos(\"Sharpen alpha\", \"trackBars\")\n",
    "        beta = cv.getTrackbarPos(\"Sharpen beta\", \"trackBars\")\n",
    "        gama = cv.getTrackbarPos(\"Sharpen gama\", \"trackBars\")\n",
    "        canny_min = cv.getTrackbarPos(\"cannymin\", \"trackBars\")\n",
    "        canny_max = cv.getTrackbarPos(\"cannymax\", \"trackBars\")\n",
    "        treshold_min = cv.getTrackbarPos(\"tresholdmin\", \"trackBars\")\n",
    "        treshold_max = cv.getTrackbarPos(\"tresholdmax\", \"trackBars\")\n",
    "\n",
    "        lower = np.array([h_min, s_min, v_min])\n",
    "        upper = np.array([h_max, s_max, v_max])\n",
    "        mask = cv.inRange(imgHSV, lower, upper)\n",
    "\n",
    "        imgResult = cv.bitwise_and(img, img, mask=mask)\n",
    "\n",
    "        ###HSV to GRAY\n",
    "        h, s, v = cv.split(imgResult)\n",
    "        imgResult = v\n",
    "\n",
    "        img_m_blur = cv.medianBlur(imgResult, median)\n",
    "        img_g_blur = cv.GaussianBlur(imgResult, (5, 5), gaussian)\n",
    "        img_sharpened = cv.addWeighted(img_m_blur, alpha, img_g_blur, beta, gama)\n",
    "        _, thresh = cv.threshold(img_sharpened, treshold_min, treshold_max, cv.THRESH_BINARY)\n",
    "\n",
    "        edges = cv.Canny(thresh, canny_min, canny_max)\n",
    "\n",
    "        contours, _ = cv.findContours(edges, cv.RETR_EXTERNAL, cv.CHAIN_APPROX_SIMPLE)\n",
    "\n",
    "        img_final = img.copy()\n",
    "        print(len(contours))\n",
    "        max_area = 0\n",
    "        for cont in contours:\n",
    "            area = cv.contourArea(cont)\n",
    "            if area > 500:\n",
    "                peri = cv.arcLength(cont, True)\n",
    "                cv.drawContours(img_final, cont, -1, (255, 0, 0), 3)\n",
    "                aprox = cv.approxPolyDP(cont, 0.02 * peri, True)\n",
    "                x, y, w, h = cv.boundingRect(aprox)\n",
    "                cv.rectangle(img_final, (x, y), (x + w, y + h), (255, 255, 0), 2)\n",
    "\n",
    "\n",
    "        cv.imshow(\"Thresh\", thresh)\n",
    "        cv.imshow(\"Edges\", edges)\n",
    "        cv.imshow(\"Original\", img)\n",
    "        cv.imshow(\"Blur\", img_g_blur)\n",
    "        cv.imshow(\"Result\", img_sharpened)\n",
    "        cv.imshow(\"AFISARE PATRAT\", img_final)\n",
    "        cv.waitKey(0)"
   ],
   "metadata": {
    "collapsed": false
   }
  },
  {
   "cell_type": "code",
   "execution_count": 6,
   "outputs": [
    {
     "name": "stdout",
     "output_type": "stream",
     "text": [
      "2227\n",
      "754\n",
      "2227\n",
      "2227\n",
      "2227\n",
      "2227\n",
      "2227\n",
      "581\n",
      "581\n",
      "0\n",
      "581\n",
      "785\n",
      "869\n",
      "1144\n",
      "1547\n",
      "1704\n",
      "1699\n",
      "1778\n",
      "1835\n",
      "1875\n",
      "1875\n",
      "1749\n",
      "1357\n",
      "0\n",
      "1175\n",
      "0\n",
      "0\n",
      "1089\n",
      "1372\n",
      "1747\n",
      "1883\n",
      "1800\n",
      "1720\n",
      "1620\n",
      "1174\n",
      "675\n",
      "581\n",
      "581\n",
      "581\n",
      "581\n",
      "581\n",
      "581\n",
      "581\n",
      "581\n",
      "581\n",
      "581\n",
      "581\n",
      "581\n",
      "581\n",
      "782\n",
      "801\n",
      "956\n",
      "1144\n",
      "1284\n",
      "1496\n",
      "1519\n",
      "1705\n",
      "1699\n",
      "1739\n",
      "1794\n",
      "1800\n",
      "1829\n",
      "1844\n",
      "1795\n",
      "1750\n",
      "1706\n",
      "1720\n",
      "1608\n",
      "1561\n",
      "1456\n",
      "1019\n",
      "774\n",
      "717\n",
      "581\n",
      "581\n",
      "581\n",
      "1611\n",
      "1618\n",
      "380\n",
      "17\n",
      "17\n"
     ]
    },
    {
     "ename": "error",
     "evalue": "OpenCV(4.6.0) D:\\a\\opencv-python\\opencv-python\\opencv\\modules\\imgproc\\src\\median_blur.dispatch.cpp:285: error: (-215:Assertion failed) (ksize % 2 == 1) && (_src0.dims() <= 2 ) in function 'cv::medianBlur'\n",
     "output_type": "error",
     "traceback": [
      "\u001B[1;31m---------------------------------------------------------------------------\u001B[0m",
      "\u001B[1;31merror\u001B[0m                                     Traceback (most recent call last)",
      "Cell \u001B[1;32mIn [6], line 4\u001B[0m\n\u001B[0;32m      1\u001B[0m path \u001B[38;5;241m=\u001B[39m \u001B[38;5;124m'\u001B[39m\u001B[38;5;124mantrenare/1_01.jpg\u001B[39m\u001B[38;5;124m'\u001B[39m\n\u001B[0;32m      2\u001B[0m img \u001B[38;5;241m=\u001B[39m cv\u001B[38;5;241m.\u001B[39mimread(path)\n\u001B[1;32m----> 4\u001B[0m \u001B[43mimgModify\u001B[49m\u001B[43m(\u001B[49m\u001B[43mimg\u001B[49m\u001B[43m)\u001B[49m\n",
      "Cell \u001B[1;32mIn [5], line 36\u001B[0m, in \u001B[0;36mimgModify\u001B[1;34m(imgOriginala)\u001B[0m\n\u001B[0;32m     33\u001B[0m h, s, v \u001B[38;5;241m=\u001B[39m cv\u001B[38;5;241m.\u001B[39msplit(imgResult)\n\u001B[0;32m     34\u001B[0m imgResult \u001B[38;5;241m=\u001B[39m v\n\u001B[1;32m---> 36\u001B[0m img_m_blur \u001B[38;5;241m=\u001B[39m \u001B[43mcv\u001B[49m\u001B[38;5;241;43m.\u001B[39;49m\u001B[43mmedianBlur\u001B[49m\u001B[43m(\u001B[49m\u001B[43mimgResult\u001B[49m\u001B[43m,\u001B[49m\u001B[43m \u001B[49m\u001B[43mmedian\u001B[49m\u001B[43m)\u001B[49m\n\u001B[0;32m     37\u001B[0m img_g_blur \u001B[38;5;241m=\u001B[39m cv\u001B[38;5;241m.\u001B[39mGaussianBlur(imgResult, (\u001B[38;5;241m5\u001B[39m, \u001B[38;5;241m5\u001B[39m), gaussian)\n\u001B[0;32m     38\u001B[0m img_sharpened \u001B[38;5;241m=\u001B[39m cv\u001B[38;5;241m.\u001B[39maddWeighted(img_m_blur, alpha, img_g_blur, beta, gama)\n",
      "\u001B[1;31merror\u001B[0m: OpenCV(4.6.0) D:\\a\\opencv-python\\opencv-python\\opencv\\modules\\imgproc\\src\\median_blur.dispatch.cpp:285: error: (-215:Assertion failed) (ksize % 2 == 1) && (_src0.dims() <= 2 ) in function 'cv::medianBlur'\n"
     ]
    }
   ],
   "source": [
    "path = 'antrenare/1_01.jpg'\n",
    "img = cv.imread(path)\n",
    "\n",
    "imgModify(img)\n",
    "\n",
    "# show_image('test', img)"
   ],
   "metadata": {
    "collapsed": false
   }
  }
 ],
 "metadata": {
  "kernelspec": {
   "display_name": "Python 3",
   "language": "python",
   "name": "python3"
  },
  "language_info": {
   "codemirror_mode": {
    "name": "ipython",
    "version": 2
   },
   "file_extension": ".py",
   "mimetype": "text/x-python",
   "name": "python",
   "nbconvert_exporter": "python",
   "pygments_lexer": "ipython2",
   "version": "2.7.6"
  }
 },
 "nbformat": 4,
 "nbformat_minor": 0
}
