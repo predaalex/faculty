{
 "cells": [
  {
   "cell_type": "markdown",
   "source": [
    "### Imports"
   ],
   "metadata": {
    "collapsed": false
   }
  },
  {
   "cell_type": "code",
   "execution_count": 1,
   "metadata": {
    "collapsed": true
   },
   "outputs": [],
   "source": [
    "import cv2 as cv\n",
    "import numpy as np\n",
    "import os"
   ]
  },
  {
   "cell_type": "code",
   "execution_count": 2,
   "outputs": [],
   "source": [
    "def show_image(title, image):\n",
    "    image = cv.resize(image, (0, 0), fx=0.2, fy=0.2)\n",
    "    cv.imshow(title, image)\n",
    "    cv.waitKey(0)\n",
    "    cv.destroyAllWindows()"
   ],
   "metadata": {
    "collapsed": false
   }
  },
  {
   "cell_type": "markdown",
   "source": [
    "### Functia de detectie a conturului"
   ],
   "metadata": {
    "collapsed": false
   }
  },
  {
   "cell_type": "code",
   "execution_count": 2,
   "outputs": [],
   "source": [],
   "metadata": {
    "collapsed": false
   }
  },
  {
   "cell_type": "markdown",
   "source": [
    "### Functia de modificare a imaginii initiale cu operatii morfologice"
   ],
   "metadata": {
    "collapsed": false
   }
  },
  {
   "cell_type": "code",
   "execution_count": 3,
   "outputs": [],
   "source": [
    "### fereastra de proprietati custom\n",
    "def empty(a):\n",
    "    pass\n",
    "\n",
    "\n",
    "def createGUI():\n",
    "    cv.namedWindow(\"trackBars\", cv.WINDOW_NORMAL)\n",
    "    # cv.resizeWindow(\"trackBarks\", 640, 240)\n",
    "    cv.createTrackbar(\"Hue Min\", \"trackBars\", 0, 179, empty)\n",
    "    cv.createTrackbar(\"Hue Max\", \"trackBars\", 179, 179, empty)\n",
    "    cv.createTrackbar(\"Sat Min\", \"trackBars\", 100, 255, empty)\n",
    "    cv.createTrackbar(\"Sat Max\", \"trackBars\", 255, 255, empty)\n",
    "    cv.createTrackbar(\"Val Min\", \"trackBars\", 100, 255, empty)\n",
    "    cv.createTrackbar(\"Val Max\", \"trackBars\", 255, 255, empty)\n",
    "    cv.createTrackbar(\"MedBlur\", \"trackBars\", 1, 21, empty)\n",
    "    cv.createTrackbar(\"GausBlur\", \"trackBars\", 1, 21, empty)\n",
    "    cv.createTrackbar(\"Sharp alp\", \"trackBars\", 12, 20, empty)\n",
    "    cv.createTrackbar(\"Sharp bet\", \"trackBars\", 8, 20, empty)\n",
    "    cv.createTrackbar(\"Sharp gam\", \"trackBars\", 0, 20, empty)\n",
    "    cv.createTrackbar(\"tresmin\", \"trackBars\", 0, 255, empty)\n",
    "    cv.createTrackbar(\"tresmax\", \"trackBars\", 255, 255, empty)\n",
    "    cv.createTrackbar(\"cannymin\", \"trackBars\", 0, 500, empty)\n",
    "    cv.createTrackbar(\"cannymax\", \"trackBars\", 0, 500, empty)\n"
   ],
   "metadata": {
    "collapsed": false
   }
  },
  {
   "cell_type": "code",
   "execution_count": 4,
   "outputs": [],
   "source": [
    "def imgModify(imgOriginala):\n",
    "    h, w, _ = imgOriginala.shape\n",
    "    # print(h, w)\n",
    "    img = cv.resize(imgOriginala, (0, 0), fx=0.2, fy=0.2)\n",
    "\n",
    "    img_hsv = cv.cvtColor(img, cv.COLOR_BGR2HSV)\n",
    "\n",
    "    createGUI()\n",
    "    while True:\n",
    "        h_min = cv.getTrackbarPos(\"Hue Min\", \"trackBars\")\n",
    "        h_max = cv.getTrackbarPos(\"Hue Max\", \"trackBars\")\n",
    "        s_min = cv.getTrackbarPos(\"Sat Min\", \"trackBars\")\n",
    "        s_max = cv.getTrackbarPos(\"Sat Max\", \"trackBars\")\n",
    "        v_min = cv.getTrackbarPos(\"Val Min\", \"trackBars\")\n",
    "        v_max = cv.getTrackbarPos(\"Val Max\", \"trackBars\")\n",
    "        median = cv.getTrackbarPos(\"MedBlur\", \"trackBars\")\n",
    "        gaussian = cv.getTrackbarPos(\"GausBlur\", \"trackBars\")\n",
    "        alpha = cv.getTrackbarPos(\"Sharp alp\", \"trackBars\")\n",
    "        beta = cv.getTrackbarPos(\"Sharp bet\", \"trackBars\")\n",
    "        gama = cv.getTrackbarPos(\"Sharp gam\", \"trackBars\")\n",
    "        canny_min = cv.getTrackbarPos(\"cannymin\", \"trackBars\")\n",
    "        canny_max = cv.getTrackbarPos(\"cannymax\", \"trackBars\")\n",
    "        treshold_min = cv.getTrackbarPos(\"tresmin\", \"trackBars\")\n",
    "        treshold_max = cv.getTrackbarPos(\"tresmax\", \"trackBars\")\n",
    "\n",
    "        lower = np.array([h_min, s_min, v_min])\n",
    "        upper = np.array([h_max, s_max, v_max])\n",
    "        mask = cv.inRange(img_hsv, lower, upper)\n",
    "\n",
    "        img_result = cv.bitwise_and(img, img, mask=mask)\n",
    "\n",
    "        ###HSV to GRAY\n",
    "        h, s, v = cv.split(img_result)\n",
    "        img_result = v\n",
    "\n",
    "        img_m_blur = cv.medianBlur(img_result, median)\n",
    "        img_g_blur = cv.GaussianBlur(img_result, (7, 7), gaussian)\n",
    "        # img_sharpened = cv.addWeighted(img_m_blur, 1.2, img_g_blur, -0.8, gama)\n",
    "        img_sharpened = cv.addWeighted(img_m_blur, alpha / 10, img_g_blur, (-1) * beta / 10, gama)\n",
    "        _, thresh = cv.threshold(img_sharpened, treshold_min, treshold_max, cv.THRESH_BINARY)\n",
    "\n",
    "        edges = cv.Canny(thresh, canny_min, canny_max)\n",
    "\n",
    "        contours, _ = cv.findContours(edges, cv.RETR_EXTERNAL, cv.CHAIN_APPROX_SIMPLE)\n",
    "\n",
    "        img_final = img.copy()\n",
    "        print(len(contours))\n",
    "        max_area = 0\n",
    "        x, y, w, h = 0,0,0,0\n",
    "        for cont in contours:\n",
    "            area = cv.contourArea(cont)\n",
    "            if area > max_area:\n",
    "                max_area = area\n",
    "                peri = cv.arcLength(cont, True)\n",
    "                cv.drawContours(img_final, cont, -1, (255, 0, 0), 3)\n",
    "                aprox = cv.approxPolyDP(cont, 0.02 * peri, True)\n",
    "                x, y, w, h = cv.boundingRect(aprox)\n",
    "        cv.rectangle(img_final, (x, y), (x + w, y + h), (255, 255, 0), 2)\n",
    "\n",
    "\n",
    "        cv.imshow(\"Thresh\", thresh)\n",
    "        cv.imshow(\"Edges\", edges)\n",
    "        cv.imshow(\"Original\", img)\n",
    "        cv.imshow(\"BlurG\", img_g_blur)\n",
    "        cv.imshow(\"BlurM\", img_m_blur)\n",
    "        cv.imshow(\"sharpened\", img_sharpened)\n",
    "        cv.imshow(\"Result\", img_result)\n",
    "        cv.imshow(\"AFISARE PATRAT\", img_final)\n",
    "\n",
    "        if cv.waitKey(0) & 0xFF == ord('p'):\n",
    "            break\n",
    "\n",
    "    cv.destroyAllWindows()"
   ],
   "metadata": {
    "collapsed": false
   }
  },
  {
   "cell_type": "code",
   "execution_count": null,
   "outputs": [
    {
     "name": "stdout",
     "output_type": "stream",
     "text": [
      "['1_01.jpg', '1_01.txt', '1_02.jpg', '1_02.txt', '1_03.jpg', '1_03.txt', '1_04.jpg', '1_04.txt', '1_05.jpg', '1_05.txt', '1_06.jpg', '1_06.txt', '1_07.jpg', '1_07.txt', '1_08.jpg', '1_08.txt', '1_09.jpg', '1_09.txt', '1_10.jpg', '1_10.txt', '1_11.jpg', '1_11.txt', '1_12.jpg', '1_12.txt', '1_13.jpg', '1_13.txt', '1_14.jpg', '1_14.txt', '1_15.jpg', '1_15.txt', '1_16.jpg', '1_16.txt', '1_17.jpg', '1_17.txt', '1_18.jpg', '1_18.txt', '1_19.jpg', '1_19.txt', '1_20.jpg', '1_20.txt', '2_01.jpg', '2_01.txt', '2_02.jpg', '2_02.txt', '2_03.jpg', '2_03.txt', '2_04.jpg', '2_04.txt', '2_05.jpg', '2_05.txt', '2_06.jpg', '2_06.txt', '2_07.jpg', '2_07.txt', '2_08.jpg', '2_08.txt', '2_09.jpg', '2_09.txt', '2_10.jpg', '2_10.txt', '2_11.jpg', '2_11.txt', '2_12.jpg', '2_12.txt', '2_13.jpg', '2_13.txt', '2_14.jpg', '2_14.txt', '2_15.jpg', '2_15.txt', '2_16.jpg', '2_16.txt', '2_17.jpg', '2_17.txt', '2_18.jpg', '2_18.txt', '2_19.jpg', '2_19.txt', '2_20.jpg', '2_20.txt', '3_01.jpg', '3_01.txt', '3_02.jpg', '3_02.txt', '3_03.jpg', '3_03.txt', '3_04.jpg', '3_04.txt', '3_05.jpg', '3_05.txt', '3_06.jpg', '3_06.txt', '3_07.jpg', '3_07.txt', '3_08.jpg', '3_08.txt', '3_09.jpg', '3_09.txt', '3_10.jpg', '3_10.txt', '3_11.jpg', '3_11.txt', '3_12.jpg', '3_12.txt', '3_13.jpg', '3_13.txt', '3_14.jpg', '3_14.txt', '3_15.jpg', '3_15.txt', '3_16.jpg', '3_16.txt', '3_17.jpg', '3_17.txt', '3_18.jpg', '3_18.txt', '3_19.jpg', '3_19.txt', '3_20.jpg', '3_20.txt', '4_01.jpg', '4_01.txt', '4_02.jpg', '4_02.txt', '4_03.jpg', '4_03.txt', '4_04.jpg', '4_04.txt', '4_05.jpg', '4_05.txt', '4_06.jpg', '4_06.txt', '4_07.jpg', '4_07.txt', '4_08.jpg', '4_08.txt', '4_09.jpg', '4_09.txt', '4_10.jpg', '4_10.txt', '4_11.jpg', '4_11.txt', '4_12.jpg', '4_12.txt', '4_13.jpg', '4_13.txt', '4_14.jpg', '4_14.txt', '4_15.jpg', '4_15.txt', '4_16.jpg', '4_16.txt', '4_17.jpg', '4_17.txt', '4_18.jpg', '4_18.txt', '4_19.jpg', '4_19.txt', '4_20.jpg', '4_20.txt', '5_01.jpg', '5_01.txt', '5_02.jpg', '5_02.txt', '5_03.jpg', '5_03.txt', '5_04.jpg', '5_04.txt', '5_05.jpg', '5_05.txt', '5_06.jpg', '5_06.txt', '5_07.jpg', '5_07.txt', '5_08.jpg', '5_08.txt', '5_09.jpg', '5_09.txt', '5_10.jpg', '5_10.txt', '5_11.jpg', '5_11.txt', '5_12.jpg', '5_12.txt', '5_13.jpg', '5_13.txt', '5_14.jpg', '5_14.txt', '5_15.jpg', '5_15.txt', '5_16.jpg', '5_16.txt', '5_17.jpg', '5_17.txt', '5_18.jpg', '5_18.txt', '5_19.jpg', '5_19.txt', '5_20.jpg', '5_20.txt']\n",
      "1092\n",
      "1092\n",
      "1116\n",
      "1135\n",
      "1149\n",
      "1180\n",
      "1189\n",
      "1296\n",
      "1324\n",
      "1342\n",
      "1429\n",
      "6710\n",
      "2998\n",
      "8682\n",
      "8982\n",
      "9178\n",
      "2303\n",
      "8288\n",
      "9086\n",
      "9306\n",
      "9533\n",
      "1057\n",
      "1068\n",
      "1196\n",
      "1173\n",
      "1231\n",
      "1285\n",
      "1294\n",
      "1355\n",
      "4234\n",
      "4054\n",
      "3817\n",
      "4253\n",
      "4393\n",
      "4102\n",
      "4010\n",
      "4320\n",
      "3700\n",
      "3445\n",
      "4602\n",
      "6689\n",
      "984\n",
      "1053\n",
      "1092\n",
      "1088\n",
      "1221\n"
     ]
    }
   ],
   "source": [
    "path = 'antrenare/'\n",
    "img = cv.imread(path + \"/1_01.jpg\")\n",
    "\n",
    "# imgModify(img)\n",
    "files = os.listdir(path)\n",
    "print(files)\n",
    "for file in files:\n",
    "    if file[len(file) - 3:len(file)] == \"jpg\":\n",
    "        img = cv.imread(path + file)\n",
    "        imgModify(img)\n",
    "# show_image('test', img)"
   ],
   "metadata": {
    "collapsed": false,
    "pycharm": {
     "is_executing": true
    }
   }
  }
 ],
 "metadata": {
  "kernelspec": {
   "display_name": "Python 3",
   "language": "python",
   "name": "python3"
  },
  "language_info": {
   "codemirror_mode": {
    "name": "ipython",
    "version": 2
   },
   "file_extension": ".py",
   "mimetype": "text/x-python",
   "name": "python",
   "nbconvert_exporter": "python",
   "pygments_lexer": "ipython2",
   "version": "2.7.6"
  }
 },
 "nbformat": 4,
 "nbformat_minor": 0
}
