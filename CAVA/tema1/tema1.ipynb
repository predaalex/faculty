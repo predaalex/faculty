{
 "cells": [
  {
   "cell_type": "markdown",
   "source": [
    "### Imports"
   ],
   "metadata": {
    "collapsed": false
   }
  },
  {
   "cell_type": "code",
   "execution_count": 75,
   "metadata": {
    "collapsed": true
   },
   "outputs": [],
   "source": [
    "from scipy import ndimage\n",
    "import cv2 as cv\n",
    "import numpy as np\n",
    "import os\n",
    "import time"
   ]
  },
  {
   "cell_type": "code",
   "execution_count": 76,
   "outputs": [],
   "source": [
    "def show_image(title, image):\n",
    "    image = cv.resize(image, (0, 0), fx=0.2, fy=0.2)\n",
    "    cv.imshow(title, image)\n",
    "    cv.waitKey(0)\n",
    "    cv.destroyAllWindows()"
   ],
   "metadata": {
    "collapsed": false
   }
  },
  {
   "cell_type": "markdown",
   "source": [
    "### Functia de detectie a colturilor patratului mare din tabla"
   ],
   "metadata": {
    "collapsed": false
   }
  },
  {
   "cell_type": "code",
   "execution_count": 77,
   "outputs": [],
   "source": [
    "def detectare_colturi(contours, img_final):\n",
    "    top_left = None\n",
    "    top_right = None\n",
    "    bottom_right = None\n",
    "    bottom_left = None\n",
    "\n",
    "    gasit = False\n",
    "        # print(s_min)\n",
    "    for cont in contours:\n",
    "        area = cv.contourArea(cont)\n",
    "\n",
    "        # print(area)\n",
    "        if 160000 < area < 170000:\n",
    "\n",
    "            top_left = None\n",
    "            bottom_right = None\n",
    "            for point in cont.squeeze():\n",
    "                if top_left is None or point[0] + point[1] < top_left[0] + top_left[1]:\n",
    "                    top_left = point\n",
    "\n",
    "                if bottom_right is None or point[0] + point[1] > bottom_right[0] + bottom_right[1] :\n",
    "                    bottom_right = point\n",
    "\n",
    "            diff = np.diff(cont.squeeze(), axis = 1)\n",
    "            top_right = cont.squeeze()[np.argmin(diff)]\n",
    "            bottom_left = cont.squeeze()[np.argmax(diff)]\n",
    "\n",
    "            gasit = True\n",
    "            # peri = cv.arcLength(cont, True)\n",
    "            # cv.drawContours(img_final, cont, -1, (0, 100, 0), 3)\n",
    "            # aprox = cv.approxPolyDP(cont, 0.01 * peri, True)\n",
    "            # x, y, w, h = cv.boundingRect(aprox)\n",
    "    # cv.imshow(\"colturi\", img_final)\n",
    "    if top_left is None or top_right is None or bottom_left is None or bottom_right is None:\n",
    "        return False, 0, 0, 0, 0, img_final\n",
    "\n",
    "    return gasit, top_left, top_right, bottom_left, bottom_right, img_final"
   ],
   "metadata": {
    "collapsed": false
   }
  },
  {
   "cell_type": "markdown",
   "source": [
    "### Functia de cropare a patratului"
   ],
   "metadata": {
    "collapsed": false
   }
  },
  {
   "cell_type": "code",
   "execution_count": 78,
   "outputs": [],
   "source": [
    "def crop_img(img_final, top_left, top_right, bottom_left, bottom_right):\n",
    "\n",
    "    # 15 * w, h imagini piese cropate\n",
    "    width = 1800\n",
    "    height = 1950\n",
    "\n",
    "    pts1 = np.float32([top_left, top_right, bottom_left, bottom_right])\n",
    "    pts2 = np.float32([[0, 0], [width, 0], [0, height], [width, height]])\n",
    "    matrix = cv.getPerspectiveTransform(pts1, pts2)\n",
    "\n",
    "    img_crop = cv.warpPerspective(img_final, matrix, (width, height))\n",
    "    img_result = img_crop.copy()\n",
    "\n",
    "    linii_verticale=[]\n",
    "    for i in range(0,height + 1,120):\n",
    "        l= [(i, 0), (i, height - 1)]\n",
    "        linii_verticale.append(l)\n",
    "\n",
    "    linii_orizontale=[]\n",
    "    for i in range(0,height + 1,130):\n",
    "        l= [(0, i), (width - 1, i)]\n",
    "        linii_orizontale.append(l)\n",
    "\n",
    "    ###Vizionarea patratului cropat, si impartit pe linii/col\n",
    "    # for line in  linii_verticale :\n",
    "    #     cv.line(img_crop, line[0], line[1], (0, 255, 0), 5)\n",
    "    # for line in  linii_orizontale :\n",
    "    #     cv.line(img_crop, line[0], line[1], (0, 0, 255), 5)\n",
    "    # img_crop = cv.resize(img_crop, (0, 0), fx=0.4, fy=0.4)\n",
    "    # cv.imshow(\"img cropata si impartita in linii\", img_crop)\n",
    "\n",
    "    return img_result"
   ],
   "metadata": {
    "collapsed": false
   }
  },
  {
   "cell_type": "markdown",
   "source": [
    "### Functii de modificare a imaginii initiale cu operatii morfologice"
   ],
   "metadata": {
    "collapsed": false
   }
  },
  {
   "cell_type": "code",
   "execution_count": 79,
   "outputs": [],
   "source": [
    "### fereastra de proprietati custom\n",
    "def empty(a):\n",
    "    pass\n",
    "\n",
    "\n",
    "def createGUI():\n",
    "    cv.namedWindow(\"trackBars\", cv.WINDOW_NORMAL)\n",
    "    # cv.resizeWindow(\"trackBarks\", 640, 240)\n",
    "    cv.createTrackbar(\"Hue Min\", \"trackBars\", 68, 179, empty)\n",
    "    cv.createTrackbar(\"Hue Max\", \"trackBars\", 123, 179, empty)\n",
    "    cv.createTrackbar(\"Sat Min\", \"trackBars\", 0, 255, empty)\n",
    "    # intre 110 si 140\n",
    "    cv.createTrackbar(\"Sat Max\", \"trackBars\", 161, 255, empty)\n",
    "    cv.createTrackbar(\"Val Min\", \"trackBars\", 165, 255, empty)\n",
    "    cv.createTrackbar(\"Val Max\", \"trackBars\", 255, 255, empty)\n",
    "    cv.createTrackbar(\"MedBlur\", \"trackBars\", 1, 21, empty)\n",
    "    cv.createTrackbar(\"GausBlur\", \"trackBars\", 1, 21, empty)\n",
    "    cv.createTrackbar(\"Sharp alp\", \"trackBars\", 12, 20, empty)\n",
    "    cv.createTrackbar(\"Sharp bet\", \"trackBars\", 8, 20, empty)\n",
    "    cv.createTrackbar(\"Sharp gam\", \"trackBars\", 0, 20, empty)\n",
    "    cv.createTrackbar(\"tresmin\", \"trackBars\", 5, 255, empty)\n",
    "    cv.createTrackbar(\"tresmax\", \"trackBars\", 255, 255, empty)\n",
    "    cv.createTrackbar(\"cannymin\", \"trackBars\", 0, 500, empty)\n",
    "    cv.createTrackbar(\"cannymax\", \"trackBars\", 0, 500, empty)\n",
    "    cv.createTrackbar(\"erode\", \"trackBars\", 3, 5, empty)\n",
    "\n",
    "\n",
    "def track_bar_values():\n",
    "    h_min = cv.getTrackbarPos(\"Hue Min\", \"trackBars\")\n",
    "    h_max = cv.getTrackbarPos(\"Hue Max\", \"trackBars\")\n",
    "    s_min = cv.getTrackbarPos(\"Sat Min\", \"trackBars\")\n",
    "    s_max = cv.getTrackbarPos(\"Sat Max\", \"trackBars\")\n",
    "    v_min = cv.getTrackbarPos(\"Val Min\", \"trackBars\")\n",
    "    v_max = cv.getTrackbarPos(\"Val Max\", \"trackBars\")\n",
    "    median = cv.getTrackbarPos(\"MedBlur\", \"trackBars\")\n",
    "    gaussian = cv.getTrackbarPos(\"GausBlur\", \"trackBars\")\n",
    "    alpha = cv.getTrackbarPos(\"Sharp alp\", \"trackBars\")\n",
    "    beta = cv.getTrackbarPos(\"Sharp bet\", \"trackBars\")\n",
    "    gama = cv.getTrackbarPos(\"Sharp gam\", \"trackBars\")\n",
    "    canny_min = cv.getTrackbarPos(\"cannymin\", \"trackBars\")\n",
    "    canny_max = cv.getTrackbarPos(\"cannymax\", \"trackBars\")\n",
    "    treshold_min = cv.getTrackbarPos(\"tresmin\", \"trackBars\")\n",
    "    treshold_max = cv.getTrackbarPos(\"tresmax\", \"trackBars\")\n",
    "    erode = cv.getTrackbarPos(\"erode\", \"trackBars\")\n",
    "\n",
    "    return h_min, h_max, s_min, s_max, v_min, v_max, median, gaussian, alpha, beta, gama, canny_min, canny_max, treshold_min, treshold_max, erode\n"
   ],
   "metadata": {
    "collapsed": false
   }
  },
  {
   "cell_type": "code",
   "execution_count": 80,
   "outputs": [],
   "source": [
    "def extrage_tabla(img_originala):\n",
    "\n",
    "    img = cv.resize(img_originala, (0, 0), fx=0.2, fy=0.2)\n",
    "    img_hsv = cv.cvtColor(img, cv.COLOR_BGR2HSV)\n",
    "\n",
    "    # createGUI()\n",
    "    # h_min, h_max, s_min, s_max, v_min, v_max, median, gaussian, alpha, beta, gama, canny_min, canny_max, treshold_min, treshold_max, erode = track_bar_values()\n",
    "\n",
    "    h_min = 0\n",
    "    h_max = 179\n",
    "    s_min = 110\n",
    "    s_max = 255\n",
    "    v_min = 0\n",
    "    v_max = 255\n",
    "    median = 1\n",
    "    gaussian = 1\n",
    "    alpha = 12\n",
    "    beta = 8\n",
    "    gama = 0\n",
    "    treshold_min = 5\n",
    "    treshold_max = 255\n",
    "    canny_min = 0\n",
    "    canny_max = 0\n",
    "    erode = 3\n",
    "\n",
    "    while True:\n",
    "        # filtrare HSV\n",
    "        lower = np.array([h_min, s_min, v_min])\n",
    "        upper = np.array([h_max, s_max, v_max])\n",
    "        mask = cv.inRange(img_hsv, lower, upper)\n",
    "        img_result = cv.bitwise_and(img, img, mask=mask)\n",
    "\n",
    "        # HSV to GRAY\n",
    "        h, s, v = cv.split(img_result)\n",
    "        img_result = v\n",
    "\n",
    "        # filtre morfologice\n",
    "        img_m_blur = cv.medianBlur(img_result, median)\n",
    "        img_g_blur = cv.GaussianBlur(img_result, (7, 7), gaussian)\n",
    "        img_sharpened = cv.addWeighted(img_m_blur, alpha / 10, img_g_blur, (-1) * beta / 10, gama)\n",
    "        _, thresh = cv.threshold(img_sharpened, treshold_min, treshold_max, cv.THRESH_BINARY)\n",
    "        kernel = np.ones((erode, erode), np.uint8)\n",
    "        thresh = cv.erode(thresh, kernel)\n",
    "        edges = cv.Canny(thresh, canny_min, canny_max)\n",
    "\n",
    "        # functia de detectare a contururilor\n",
    "        contours, _ = cv.findContours(edges, cv.RETR_EXTERNAL, cv.CHAIN_APPROX_SIMPLE)\n",
    "\n",
    "        # print(len(contours))\n",
    "\n",
    "        gasit, top_left, top_right, bottom_left, bottom_right, img = detectare_colturi(contours, img)\n",
    "\n",
    "        # Daca gasim aria unui contur care se potriveste cu tabla noastra, se opreste din cautat, daca nu, marim saturatia pentru a rezolva problemele cu lumina\n",
    "        if gasit:\n",
    "            # cv.rectangle(img_final, tuple(top_left), tuple(bottom_right), (255, 255, 0), 2)\n",
    "            pass\n",
    "        else:\n",
    "            s_min += 2\n",
    "            if s_min > 150:\n",
    "                break\n",
    "            continue\n",
    "\n",
    "        ### imagini cu rezultatul fiecarei operatii\n",
    "        # cv.imshow(\"Thresh\", thresh)\n",
    "        # cv.imshow(\"Edges\", edges)\n",
    "        # cv.imshow(\"Original\", img)\n",
    "        # cv.imshow(\"BlurG\", img_g_blur)\n",
    "        # cv.imshow(\"BlurM\", img_m_blur)\n",
    "        # cv.imshow(\"sharpened\", img_sharpened)\n",
    "        # cv.imshow(\"Result\", img_result)\n",
    "        ### rezultatul cu patratul final\n",
    "        # cv.circle(img_final,tuple(top_left),10,(0,0,255),-1)\n",
    "        # cv.circle(img_final,tuple(top_right),10,(0,0,255),-1)\n",
    "        # cv.circle(img_final,tuple(bottom_left),10,(0,0,255),-1)\n",
    "        # cv.circle(img_final,tuple(bottom_right),10,(0,0,255),-1)\n",
    "\n",
    "        img_cropata = crop_img(img, top_left, top_right, bottom_left, bottom_right)\n",
    "\n",
    "        # cv.imshow(\"AFISARE TABLA\", img_cropata)\n",
    "        return img_cropata\n"
   ],
   "metadata": {
    "collapsed": false
   }
  },
  {
   "cell_type": "markdown",
   "source": [
    "### Functia de detectie a pieselor"
   ],
   "metadata": {
    "collapsed": false
   }
  },
  {
   "cell_type": "code",
   "execution_count": 81,
   "outputs": [],
   "source": [
    "def pozitii_piese(img_cropata):\n",
    "    matrice_piese = np.full(shape=(15, 15), fill_value=False)\n",
    "\n",
    "    img = cv.resize(img_cropata, (0, 0), fx=0.4, fy=0.4)\n",
    "    img_hsv = cv.cvtColor(img, cv.COLOR_BGR2HSV)\n",
    "\n",
    "    h_min = 68\n",
    "    h_max = 123\n",
    "    s_min = 0\n",
    "    s_max = 161\n",
    "    v_min = 165\n",
    "    v_max = 255\n",
    "    treshold_min = 5\n",
    "    treshold_max = 255\n",
    "\n",
    "\n",
    "    lower = np.array([h_min, s_min, v_min])\n",
    "    upper = np.array([h_max, s_max, v_max])\n",
    "    mask = cv.inRange(img_hsv, lower, upper)\n",
    "    img_result = cv.bitwise_and(img, img, mask=mask)\n",
    "\n",
    "    # HSV to GRAY\n",
    "    h, s, v = cv.split(img_result)\n",
    "    img_result = v\n",
    "\n",
    "    # filtre morfologice\n",
    "    _, thresh = cv.threshold(img_result, treshold_min, treshold_max, cv.THRESH_BINARY)\n",
    "\n",
    "    ### imagini cu rezultatul fiecarei operatii\n",
    "    # cv.imshow(\"Thresh\", thresh)\n",
    "    # cv.imshow(\"Original\", img)\n",
    "    # cv.imshow(\"Result\", img_result)\n",
    "\n",
    "\n",
    "    ### vrem sa trecem prin fiecare patratel din imaginea binara si sa numaram pixelii albi, daca patratul contine mai mult de 30% pixeli albi, atunci contine o piesa\n",
    "    w, h = thresh.shape\n",
    "    w_patrat = w // 15\n",
    "    h_patrat = h // 15\n",
    "    border=5\n",
    "    nr_pixeli_patrat = (w_patrat - border) * (h_patrat - border)\n",
    "    for i in range(0, 15):\n",
    "        for j in range(0, 15):\n",
    "            patrat = thresh[i*w_patrat+border:(i+1)*w_patrat-border,\n",
    "                            j*h_patrat+border:(j+1)*h_patrat-border]\n",
    "            pixeli_pozitivi = np.sum(patrat)\n",
    "            if pixeli_pozitivi/255 >= nr_pixeli_patrat * 30 / 100:\n",
    "                matrice_piese[i][j] = True\n",
    "\n",
    "    return matrice_piese"
   ],
   "metadata": {
    "collapsed": false
   }
  },
  {
   "cell_type": "code",
   "execution_count": 82,
   "outputs": [],
   "source": [
    "def pozitii_mutari(matrice_pozitii_piese, matrice_pozitii_piese_mutare):\n",
    "    mutari = []\n",
    "    for i in range(15):\n",
    "        for j in range(15):\n",
    "            if matrice_pozitii_piese[i][j] != matrice_pozitii_piese_mutare[i][j]:\n",
    "                mutare = (i + 1, letters[j + 1])\n",
    "                mutari.append(mutare)\n",
    "    return mutari"
   ],
   "metadata": {
    "collapsed": false
   }
  },
  {
   "cell_type": "markdown",
   "source": [
    "### Functia de recunoastere a pieselor"
   ],
   "metadata": {
    "collapsed": false
   }
  },
  {
   "cell_type": "code",
   "execution_count": 83,
   "outputs": [],
   "source": [
    "def litere_mutari(mutari):\n",
    "    litere = []\n",
    "    for mutare in mutari:\n",
    "        i, j = mutare\n",
    "        j = ord(j) - ord('A')\n",
    "        i -= 1\n",
    "\n",
    "        patch = img_cropata[i*130:(i+1)*130, j*120:(j+1)*120]\n",
    "        piesa_string = \"\"\n",
    "        max = -np.inf\n",
    "\n",
    "        path_piese = \"imagini_piese/\"\n",
    "        img_piese = os.listdir(path_piese)\n",
    "        for piese in img_piese:\n",
    "            i = 0\n",
    "            swap = False\n",
    "            while i < 360:\n",
    "                piesa=cv.imread(path_piese + piese)\n",
    "                raza = 40\n",
    "                piesa_rotita = ndimage.rotate(piesa, i)\n",
    "                h_piesa_rotita, w_piesa_rotita = piesa_rotita.shape[:2]\n",
    "                y_centru_piesa_rotita, x_centru_piesa_rotita = h_piesa_rotita // 2, w_piesa_rotita // 2\n",
    "                result = piesa_rotita[y_centru_piesa_rotita-raza:y_centru_piesa_rotita+raza, x_centru_piesa_rotita-raza:x_centru_piesa_rotita+raza]\n",
    "                # cv.imshow(\"template\", result)\n",
    "                # cv.waitKey(0)\n",
    "\n",
    "                res = cv.matchTemplate(patch, result,  cv.TM_CCOEFF_NORMED)\n",
    "                min_val, max_val, min_loc, max_loc = cv.minMaxLoc(res)\n",
    "                if(max_val > max):\n",
    "                    max = max_val\n",
    "                    piesa_string = piese\n",
    "\n",
    "                # print(max)\n",
    "                if swap == False and i > 2:\n",
    "                    i += 360 - (2 * i)\n",
    "                    swap = True\n",
    "                else:\n",
    "                    i += 1\n",
    "                # if(max > 0.8):\n",
    "                #     break\n",
    "        # cv.imshow(\"patch\", patch)\n",
    "        # cv.waitKey(0)\n",
    "        print(max)\n",
    "        litere.append(piesa_string.split(\".\")[0])\n",
    "    return litere\n"
   ],
   "metadata": {
    "collapsed": false
   }
  },
  {
   "cell_type": "markdown",
   "source": [
    "### Functia de scriere in fisier a pozitiilor ocupate pentru fiecare mutare"
   ],
   "metadata": {
    "collapsed": false
   }
  },
  {
   "cell_type": "code",
   "execution_count": 84,
   "outputs": [
    {
     "name": "stdout",
     "output_type": "stream",
     "text": [
      "{1: 'A', 2: 'B', 3: 'C', 4: 'D', 5: 'E', 6: 'F', 7: 'G', 8: 'H', 9: 'I', 10: 'J', 11: 'K', 12: 'L', 13: 'M', 14: 'N', 15: 'O'}\n"
     ]
    }
   ],
   "source": [
    "letters = {i:chr(i+64) for i in range(1,16)}\n",
    "print(letters)"
   ],
   "metadata": {
    "collapsed": false
   }
  },
  {
   "cell_type": "code",
   "execution_count": 85,
   "outputs": [],
   "source": [
    "def scriere_fisier_mutari(file, mutari, litere):\n",
    "\n",
    "    nume_fisier = file.split(\".\")[0] + \".txt\"\n",
    "    path = \"txtbuilder/\"\n",
    "    nume_fisier = path + nume_fisier\n",
    "    f = open(nume_fisier, \"w\")\n",
    "    string = \"\"\n",
    "    for mutare, litera in zip(mutari, litere):\n",
    "        string += str(mutare[0])\n",
    "        string += mutare[1]\n",
    "        string += \" \"\n",
    "        if(litera != \"JOKER\"):\n",
    "            string += litera\n",
    "        else:\n",
    "            string += \"?\"\n",
    "        string += \"\\n\"\n",
    "    string += \"0\"\n",
    "    f.write(string)"
   ],
   "metadata": {
    "collapsed": false
   }
  },
  {
   "cell_type": "code",
   "execution_count": 86,
   "outputs": [
    {
     "name": "stdout",
     "output_type": "stream",
     "text": [
      "1_01.jpg -> 0 din 100\n",
      "0.8445053696632385\n",
      "0.8203157186508179\n",
      "0.8647813200950623\n",
      "0.83118736743927\n",
      "0.9216702580451965\n",
      "1_02.jpg -> 1 din 100\n",
      "0.8370753526687622\n",
      "0.8250788450241089\n",
      "0.8833590745925903\n",
      "1_03.jpg -> 2 din 100\n",
      "0.882527232170105\n",
      "0.9182311296463013\n",
      "0.8080915212631226\n",
      "0.8554588556289673\n",
      "1_04.jpg -> 3 din 100\n",
      "0.862316370010376\n",
      "0.8345812559127808\n",
      "0.8899924755096436\n",
      "0.9099043607711792\n",
      "1_05.jpg -> 4 din 100\n",
      "0.8718929290771484\n",
      "0.8052560687065125\n",
      "0.8231932520866394\n",
      "1_06.jpg -> 5 din 100\n",
      "0.8756888508796692\n",
      "0.8568264245986938\n",
      "0.8874143958091736\n",
      "1_07.jpg -> 6 din 100\n",
      "0.889275312423706\n",
      "0.823077380657196\n",
      "0.8544968366622925\n",
      "0.884412944316864\n",
      "1_08.jpg -> 7 din 100\n",
      "0.8474581241607666\n",
      "0.8184898495674133\n",
      "0.8289698362350464\n",
      "0.846998393535614\n",
      "0.8591763973236084\n",
      "1_09.jpg -> 8 din 100\n",
      "0.7668246030807495\n",
      "0.8021119236946106\n",
      "1_10.jpg -> 9 din 100\n",
      "0.8738959431648254\n",
      "0.8795337677001953\n",
      "0.8936765193939209\n",
      "1_11.jpg -> 10 din 100\n",
      "0.853090226650238\n",
      "0.839962899684906\n",
      "1_12.jpg -> 11 din 100\n",
      "0.8826544880867004\n",
      "1_13.jpg -> 12 din 100\n",
      "0.8051734566688538\n",
      "0.7877318263053894\n",
      "0.8708820939064026\n",
      "0.8858490586280823\n",
      "0.8839906454086304\n",
      "1_14.jpg -> 13 din 100\n",
      "0.8722630143165588\n",
      "0.8130810260772705\n",
      "0.9002143740653992\n",
      "1_15.jpg -> 14 din 100\n",
      "0.8559912443161011\n",
      "1_16.jpg -> 15 din 100\n",
      "0.8427879810333252\n",
      "0.8664045929908752\n",
      "1_17.jpg -> 16 din 100\n",
      "0.8497756719589233\n",
      "0.9164292216300964\n",
      "0.8948034644126892\n",
      "0.8469980955123901\n",
      "1_18.jpg -> 17 din 100\n",
      "0.8439795970916748\n",
      "0.9106996655464172\n",
      "1_19.jpg -> 18 din 100\n",
      "0.8267713785171509\n",
      "1_20.jpg -> 19 din 100\n",
      "0.8541561961174011\n",
      "0.846632182598114\n",
      "2_01.jpg -> 20 din 100\n",
      "0.8173050880432129\n",
      "0.8757885098457336\n",
      "0.5902973413467407\n",
      "0.898517906665802\n",
      "0.8550019860267639\n",
      "0.8351894021034241\n",
      "2_02.jpg -> 21 din 100\n",
      "0.8574673533439636\n",
      "0.8860793709754944\n",
      "2_03.jpg -> 22 din 100\n",
      "0.7855336666107178\n",
      "0.8903011679649353\n",
      "0.9252878427505493\n",
      "0.8776108622550964\n",
      "0.8538314700126648\n",
      "0.8673487901687622\n",
      "2_04.jpg -> 23 din 100\n",
      "0.8380233645439148\n",
      "0.839458703994751\n",
      "0.8659020066261292\n",
      "0.8745952248573303\n",
      "2_05.jpg -> 24 din 100\n",
      "0.7730354070663452\n",
      "0.8961120843887329\n",
      "0.9159465432167053\n",
      "0.915091335773468\n",
      "2_06.jpg -> 25 din 100\n",
      "0.8465583324432373\n",
      "0.8394728302955627\n",
      "2_07.jpg -> 26 din 100\n",
      "0.8785350918769836\n",
      "0.8037287592887878\n",
      "0.8609873652458191\n",
      "0.8604004383087158\n",
      "0.8849306106567383\n",
      "2_08.jpg -> 27 din 100\n",
      "0.8398417830467224\n",
      "0.8933826684951782\n",
      "0.8800408840179443\n",
      "2_09.jpg -> 28 din 100\n",
      "0.8178993463516235\n",
      "0.8814454674720764\n",
      "0.8525412082672119\n",
      "0.8487789630889893\n",
      "0.8816723227500916\n",
      "2_10.jpg -> 29 din 100\n",
      "0.8564562201499939\n",
      "0.8204675912857056\n",
      "0.8747753500938416\n",
      "2_11.jpg -> 30 din 100\n",
      "0.8957273960113525\n",
      "2_12.jpg -> 31 din 100\n",
      "0.8690051436424255\n",
      "0.8234294652938843\n",
      "2_13.jpg -> 32 din 100\n"
     ]
    },
    {
     "ename": "KeyboardInterrupt",
     "evalue": "",
     "output_type": "error",
     "traceback": [
      "\u001B[1;31m---------------------------------------------------------------------------\u001B[0m",
      "\u001B[1;31mKeyboardInterrupt\u001B[0m                         Traceback (most recent call last)",
      "Cell \u001B[1;32mIn [86], line 24\u001B[0m\n\u001B[0;32m     22\u001B[0m \u001B[38;5;66;03m# print(matrice_pozitii_piese)\u001B[39;00m\n\u001B[0;32m     23\u001B[0m mutari \u001B[38;5;241m=\u001B[39m pozitii_mutari(matrice_pozitii_piese, matrice_pozitii_piese_mutare)\n\u001B[1;32m---> 24\u001B[0m litere \u001B[38;5;241m=\u001B[39m \u001B[43mlitere_mutari\u001B[49m\u001B[43m(\u001B[49m\u001B[43mmutari\u001B[49m\u001B[43m)\u001B[49m\n\u001B[0;32m     26\u001B[0m scriere_fisier_mutari(file, mutari, litere)\n\u001B[0;32m     28\u001B[0m matrice_pozitii_piese \u001B[38;5;241m=\u001B[39m matrice_pozitii_piese_mutare\n",
      "Cell \u001B[1;32mIn [83], line 20\u001B[0m, in \u001B[0;36mlitere_mutari\u001B[1;34m(mutari)\u001B[0m\n\u001B[0;32m     18\u001B[0m piesa\u001B[38;5;241m=\u001B[39mcv\u001B[38;5;241m.\u001B[39mimread(path_piese \u001B[38;5;241m+\u001B[39m piese)\n\u001B[0;32m     19\u001B[0m raza \u001B[38;5;241m=\u001B[39m \u001B[38;5;241m40\u001B[39m\n\u001B[1;32m---> 20\u001B[0m piesa_rotita \u001B[38;5;241m=\u001B[39m \u001B[43mndimage\u001B[49m\u001B[38;5;241;43m.\u001B[39;49m\u001B[43mrotate\u001B[49m\u001B[43m(\u001B[49m\u001B[43mpiesa\u001B[49m\u001B[43m,\u001B[49m\u001B[43m \u001B[49m\u001B[43mi\u001B[49m\u001B[43m)\u001B[49m\n\u001B[0;32m     21\u001B[0m h_piesa_rotita, w_piesa_rotita \u001B[38;5;241m=\u001B[39m piesa_rotita\u001B[38;5;241m.\u001B[39mshape[:\u001B[38;5;241m2\u001B[39m]\n\u001B[0;32m     22\u001B[0m y_centru_piesa_rotita, x_centru_piesa_rotita \u001B[38;5;241m=\u001B[39m h_piesa_rotita \u001B[38;5;241m/\u001B[39m\u001B[38;5;241m/\u001B[39m \u001B[38;5;241m2\u001B[39m, w_piesa_rotita \u001B[38;5;241m/\u001B[39m\u001B[38;5;241m/\u001B[39m \u001B[38;5;241m2\u001B[39m\n",
      "File \u001B[1;32m~\\AppData\\Local\\Programs\\Python\\Python39\\lib\\site-packages\\scipy\\ndimage\\_interpolation.py:954\u001B[0m, in \u001B[0;36mrotate\u001B[1;34m(input, angle, axes, reshape, output, order, mode, cval, prefilter)\u001B[0m\n\u001B[0;32m    952\u001B[0m         ia \u001B[38;5;241m=\u001B[39m input_arr[coordinates]\n\u001B[0;32m    953\u001B[0m         oa \u001B[38;5;241m=\u001B[39m output[coordinates]\n\u001B[1;32m--> 954\u001B[0m         \u001B[43maffine_transform\u001B[49m\u001B[43m(\u001B[49m\u001B[43mia\u001B[49m\u001B[43m,\u001B[49m\u001B[43m \u001B[49m\u001B[43mrot_matrix\u001B[49m\u001B[43m,\u001B[49m\u001B[43m \u001B[49m\u001B[43moffset\u001B[49m\u001B[43m,\u001B[49m\u001B[43m \u001B[49m\u001B[43mout_plane_shape\u001B[49m\u001B[43m,\u001B[49m\n\u001B[0;32m    955\u001B[0m \u001B[43m                         \u001B[49m\u001B[43moa\u001B[49m\u001B[43m,\u001B[49m\u001B[43m \u001B[49m\u001B[43morder\u001B[49m\u001B[43m,\u001B[49m\u001B[43m \u001B[49m\u001B[43mmode\u001B[49m\u001B[43m,\u001B[49m\u001B[43m \u001B[49m\u001B[43mcval\u001B[49m\u001B[43m,\u001B[49m\u001B[43m \u001B[49m\u001B[43mprefilter\u001B[49m\u001B[43m)\u001B[49m\n\u001B[0;32m    957\u001B[0m \u001B[38;5;28;01mreturn\u001B[39;00m output\n",
      "File \u001B[1;32m~\\AppData\\Local\\Programs\\Python\\Python39\\lib\\site-packages\\scipy\\ndimage\\_interpolation.py:611\u001B[0m, in \u001B[0;36maffine_transform\u001B[1;34m(input, matrix, offset, output_shape, output, order, mode, cval, prefilter)\u001B[0m\n\u001B[0;32m    608\u001B[0m     _nd_image\u001B[38;5;241m.\u001B[39mzoom_shift(filtered, matrix, offset\u001B[38;5;241m/\u001B[39mmatrix, output, order,\n\u001B[0;32m    609\u001B[0m                          mode, cval, npad, \u001B[38;5;28;01mFalse\u001B[39;00m)\n\u001B[0;32m    610\u001B[0m \u001B[38;5;28;01melse\u001B[39;00m:\n\u001B[1;32m--> 611\u001B[0m     \u001B[43m_nd_image\u001B[49m\u001B[38;5;241;43m.\u001B[39;49m\u001B[43mgeometric_transform\u001B[49m\u001B[43m(\u001B[49m\u001B[43mfiltered\u001B[49m\u001B[43m,\u001B[49m\u001B[43m \u001B[49m\u001B[38;5;28;43;01mNone\u001B[39;49;00m\u001B[43m,\u001B[49m\u001B[43m \u001B[49m\u001B[38;5;28;43;01mNone\u001B[39;49;00m\u001B[43m,\u001B[49m\u001B[43m \u001B[49m\u001B[43mmatrix\u001B[49m\u001B[43m,\u001B[49m\u001B[43m \u001B[49m\u001B[43moffset\u001B[49m\u001B[43m,\u001B[49m\n\u001B[0;32m    612\u001B[0m \u001B[43m                                  \u001B[49m\u001B[43moutput\u001B[49m\u001B[43m,\u001B[49m\u001B[43m \u001B[49m\u001B[43morder\u001B[49m\u001B[43m,\u001B[49m\u001B[43m \u001B[49m\u001B[43mmode\u001B[49m\u001B[43m,\u001B[49m\u001B[43m \u001B[49m\u001B[43mcval\u001B[49m\u001B[43m,\u001B[49m\u001B[43m \u001B[49m\u001B[43mnpad\u001B[49m\u001B[43m,\u001B[49m\u001B[43m \u001B[49m\u001B[38;5;28;43;01mNone\u001B[39;49;00m\u001B[43m,\u001B[49m\n\u001B[0;32m    613\u001B[0m \u001B[43m                                  \u001B[49m\u001B[38;5;28;43;01mNone\u001B[39;49;00m\u001B[43m)\u001B[49m\n\u001B[0;32m    614\u001B[0m \u001B[38;5;28;01mreturn\u001B[39;00m output\n",
      "\u001B[1;31mKeyboardInterrupt\u001B[0m: "
     ]
    }
   ],
   "source": [
    "path = 'antrenare/'\n",
    "\n",
    "files = os.listdir(path)\n",
    "matrice_pozitii_piese = np.full(shape=(15, 15), fill_value=False)\n",
    "counter = 0\n",
    "\n",
    "for file in files:\n",
    "\n",
    "    # cream matrice de pozitii noua pentru fiecare joc\n",
    "    if \"_01.jpg\" in file:\n",
    "        matrice_pozitii_piese = np.full(shape=(15, 15), fill_value=False)\n",
    "\n",
    "    # verificam ca fisierul sa fie de tip jpg\n",
    "    if file[len(file) - 3:len(file)] == \"jpg\":\n",
    "        print(f\"{file} -> {counter} din {len(files)//2}\")\n",
    "        counter += 1\n",
    "        img = cv.imread(path + file)\n",
    "        img_cropata = extrage_tabla(img)\n",
    "        # cv.imshow(\"imagine cropata\", img_cropata)\n",
    "\n",
    "        matrice_pozitii_piese_mutare = pozitii_piese(img_cropata)\n",
    "        # print(matrice_pozitii_piese)\n",
    "        mutari = pozitii_mutari(matrice_pozitii_piese, matrice_pozitii_piese_mutare)\n",
    "        litere = litere_mutari(mutari)\n",
    "\n",
    "        scriere_fisier_mutari(file, mutari, litere)\n",
    "\n",
    "        matrice_pozitii_piese = matrice_pozitii_piese_mutare\n",
    "\n",
    "        # img_show = cv.resize(img_cropata, (0, 0), fx=0.3, fy=0.3)\n",
    "        # cv.imshow(\"img\", img_show)\n",
    "        # cv.waitKey(0)\n",
    "\n",
    "        # apasa p pentru a trece la urmatoarea poza\n",
    "        # if cv.waitKey(0) & 0xFF == ord('p'):\n",
    "        #     break\n",
    "\n",
    "        # trece automat la urmatoarea poza dupa 0.3s\n",
    "        # cv.waitKey(1)\n",
    "        # time.sleep(0.3)\n",
    "        # break\n",
    "\n",
    "    cv.destroyAllWindows()"
   ],
   "metadata": {
    "collapsed": false
   }
  },
  {
   "cell_type": "markdown",
   "source": [
    "### Test"
   ],
   "metadata": {
    "collapsed": false
   }
  },
  {
   "cell_type": "code",
   "execution_count": 16,
   "outputs": [
    {
     "name": "stdout",
     "output_type": "stream",
     "text": [
      "A\n",
      "L\n",
      "E\n",
      "R\n"
     ]
    }
   ],
   "source": [
    "\n",
    "image = cv.imread(\"antrenare/1_03.jpg\")\n",
    "img_cropata = extrage_tabla(image)\n",
    "mutari = [(8, 'H'), (8, 'I'), (8, 'J'), (8, 'K'), (8, 'L')]\n",
    "mutari = [(4, 'L'), (5, 'L'), (6, 'L'), (7, 'L')]\n",
    "\n",
    "\n",
    "for mutare in mutari:\n",
    "    i, j = mutare\n",
    "    j = ord(j) - ord('A')\n",
    "    i -= 1\n",
    "\n",
    "    patch = img_cropata[i*130:(i+1)*130, j*120:(j+1)*120]\n",
    "    piesa_string = \"\"\n",
    "    max = -np.inf\n",
    "\n",
    "    path_piese = \"imagini_piese/\"\n",
    "    img_piese = os.listdir(path_piese)\n",
    "    for piese in img_piese:\n",
    "        i = 0\n",
    "        swap = False\n",
    "        while i < 360:\n",
    "            piesa=cv.imread(path_piese + piese)\n",
    "            raza = 40\n",
    "            piesa_rotita = ndimage.rotate(piesa, i)\n",
    "            h_piesa_rotita, w_piesa_rotita = piesa_rotita.shape[:2]\n",
    "            y_centru_piesa_rotita, x_centru_piesa_rotita = h_piesa_rotita // 2, w_piesa_rotita // 2\n",
    "            result = piesa_rotita[y_centru_piesa_rotita-raza:y_centru_piesa_rotita+raza, x_centru_piesa_rotita-raza:x_centru_piesa_rotita+raza]\n",
    "            # cv.imshow(\"template\", result)\n",
    "            # cv.waitKey(0)\n",
    "\n",
    "            res = cv.matchTemplate(patch, result,  cv.TM_CCOEFF_NORMED)\n",
    "            min_val, max_val, min_loc, max_loc = cv.minMaxLoc(res)\n",
    "            if(max_val > max):\n",
    "                max = max_val\n",
    "                piesa_string = piese\n",
    "            if swap == False and i > 30:\n",
    "                i += 360 - (2 * i)\n",
    "                swap = True\n",
    "            else:\n",
    "                i += 5\n",
    "    print(piesa_string[:1])\n",
    "    cv.imshow(\"patch\", patch)\n",
    "    cv.waitKey(0)\n",
    "\n",
    "cv.destroyAllWindows()"
   ],
   "metadata": {
    "collapsed": false
   }
  },
  {
   "cell_type": "code",
   "execution_count": null,
   "outputs": [],
   "source": [
    "piesa = cv.imread(\"imagini_piese/P.jpg\")\n",
    "raza = 40\n",
    "piesa_rotita = ndimage.rotate(piesa, 0)\n",
    "h_piesa_rotita, w_piesa_rotita = piesa_rotita.shape[:2]\n",
    "y_centru_piesa_rotita, x_centru_piesa_rotita = h_piesa_rotita // 2, w_piesa_rotita // 2\n",
    "result = piesa_rotita[y_centru_piesa_rotita-raza:y_centru_piesa_rotita+raza, x_centru_piesa_rotita-raza:x_centru_piesa_rotita+raza]\n",
    "cv.imshow(\"template\", result)"
   ],
   "metadata": {
    "collapsed": false
   }
  }
 ],
 "metadata": {
  "kernelspec": {
   "display_name": "Python 3",
   "language": "python",
   "name": "python3"
  },
  "language_info": {
   "codemirror_mode": {
    "name": "ipython",
    "version": 2
   },
   "file_extension": ".py",
   "mimetype": "text/x-python",
   "name": "python",
   "nbconvert_exporter": "python",
   "pygments_lexer": "ipython2",
   "version": "2.7.6"
  }
 },
 "nbformat": 4,
 "nbformat_minor": 0
}
