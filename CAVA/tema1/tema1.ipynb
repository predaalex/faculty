{
 "cells": [
  {
   "cell_type": "code",
   "execution_count": 84,
   "outputs": [],
   "source": [],
   "metadata": {
    "collapsed": false
   }
  },
  {
   "cell_type": "markdown",
   "source": [
    "### Imports"
   ],
   "metadata": {
    "collapsed": false
   }
  },
  {
   "cell_type": "code",
   "execution_count": 85,
   "metadata": {
    "collapsed": true
   },
   "outputs": [],
   "source": [
    "from scipy import ndimage\n",
    "import cv2 as cv\n",
    "import numpy as np\n",
    "import os\n",
    "import time"
   ]
  },
  {
   "cell_type": "code",
   "execution_count": 86,
   "outputs": [],
   "source": [
    "def show_image(title, image):\n",
    "    image = cv.resize(image, (0, 0), fx=0.2, fy=0.2)\n",
    "    cv.imshow(title, image)\n",
    "    cv.waitKey(0)\n",
    "    cv.destroyAllWindows()"
   ],
   "metadata": {
    "collapsed": false
   }
  },
  {
   "cell_type": "markdown",
   "source": [
    "### Functia de detectie a colturilor patratului mare din tabla"
   ],
   "metadata": {
    "collapsed": false
   }
  },
  {
   "cell_type": "code",
   "execution_count": 87,
   "outputs": [],
   "source": [
    "def detectare_colturi(contours):\n",
    "    top_left = None\n",
    "    top_right = None\n",
    "    bottom_right = None\n",
    "    bottom_left = None\n",
    "\n",
    "    gasit = False\n",
    "        # print(s_min)\n",
    "    for cont in contours:\n",
    "        area = cv.contourArea(cont)\n",
    "\n",
    "        # print(area)\n",
    "        if 160000 < area < 170000:\n",
    "\n",
    "            top_left = None\n",
    "            bottom_right = None\n",
    "            for point in cont.squeeze():\n",
    "                if top_left is None or point[0] + point[1] < top_left[0] + top_left[1]:\n",
    "                    top_left = point\n",
    "\n",
    "                if bottom_right is None or point[0] + point[1] > bottom_right[0] + bottom_right[1] :\n",
    "                    bottom_right = point\n",
    "\n",
    "            diff = np.diff(cont.squeeze(), axis = 1)\n",
    "            top_right = cont.squeeze()[np.argmin(diff)]\n",
    "            bottom_left = cont.squeeze()[np.argmax(diff)]\n",
    "\n",
    "            gasit = True\n",
    "            # peri = cv.arcLength(cont, True)\n",
    "            # cv.drawContours(img_final, cont, -1, (0, 100, 0), 3)\n",
    "            # aprox = cv.approxPolyDP(cont, 0.01 * peri, True)\n",
    "            # x, y, w, h = cv.boundingRect(aprox)\n",
    "    # cv.imshow(\"colturi\", img_final)\n",
    "    if top_left is None or top_right is None or bottom_left is None or bottom_right is None:\n",
    "        return False, 0, 0, 0, 0\n",
    "\n",
    "    return gasit, top_left, top_right, bottom_left, bottom_right"
   ],
   "metadata": {
    "collapsed": false
   }
  },
  {
   "cell_type": "markdown",
   "source": [
    "### Functia de cropare a patratului"
   ],
   "metadata": {
    "collapsed": false
   }
  },
  {
   "cell_type": "code",
   "execution_count": 88,
   "outputs": [],
   "source": [
    "def crop_img(img_final, top_left, top_right, bottom_left, bottom_right):\n",
    "\n",
    "    # 15 * w, h imagini piese cropate\n",
    "    width = 1800\n",
    "    height = 1950\n",
    "\n",
    "    pts1 = np.float32([top_left, top_right, bottom_left, bottom_right])\n",
    "    pts2 = np.float32([[0, 0], [width, 0], [0, height], [width, height]])\n",
    "    matrix = cv.getPerspectiveTransform(pts1, pts2)\n",
    "\n",
    "    img_crop = cv.warpPerspective(img_final, matrix, (width, height))\n",
    "    img_result = img_crop.copy()\n",
    "\n",
    "    linii_verticale=[]\n",
    "    for i in range(0,height + 1,120):\n",
    "        l= [(i, 0), (i, height - 1)]\n",
    "        linii_verticale.append(l)\n",
    "\n",
    "    linii_orizontale=[]\n",
    "    for i in range(0,height + 1,130):\n",
    "        l= [(0, i), (width - 1, i)]\n",
    "        linii_orizontale.append(l)\n",
    "\n",
    "    ###Vizionarea patratului cropat, si impartit pe linii/col\n",
    "    # for line in  linii_verticale :\n",
    "    #     cv.line(img_crop, line[0], line[1], (0, 255, 0), 5)\n",
    "    # for line in  linii_orizontale :\n",
    "    #     cv.line(img_crop, line[0], line[1], (0, 0, 255), 5)\n",
    "    # img_crop = cv.resize(img_crop, (0, 0), fx=0.4, fy=0.4)\n",
    "    # cv.imshow(\"img cropata si impartita in linii\", img_crop)\n",
    "\n",
    "    return img_result"
   ],
   "metadata": {
    "collapsed": false
   }
  },
  {
   "cell_type": "markdown",
   "source": [
    "### Functii de modificare a imaginii initiale cu operatii morfologice"
   ],
   "metadata": {
    "collapsed": false
   }
  },
  {
   "cell_type": "code",
   "execution_count": 89,
   "outputs": [],
   "source": [
    "### fereastra de proprietati custom\n",
    "def empty(a):\n",
    "    pass\n",
    "\n",
    "\n",
    "def createGUI():\n",
    "    cv.namedWindow(\"trackBars\", cv.WINDOW_NORMAL)\n",
    "    # cv.resizeWindow(\"trackBarks\", 640, 240)\n",
    "    cv.createTrackbar(\"Hue Min\", \"trackBars\", 0, 179, empty)\n",
    "    cv.createTrackbar(\"Hue Max\", \"trackBars\", 179, 179, empty)\n",
    "    cv.createTrackbar(\"Sat Min\", \"trackBars\", 0, 255, empty)\n",
    "    # intre 110 si 140\n",
    "    cv.createTrackbar(\"Sat Max\", \"trackBars\", 255, 255, empty)\n",
    "    cv.createTrackbar(\"Val Min\", \"trackBars\", 0, 255, empty)\n",
    "    cv.createTrackbar(\"Val Max\", \"trackBars\", 255, 255, empty)\n",
    "    cv.createTrackbar(\"MedBlur\", \"trackBars\", 5, 21, empty)\n",
    "    cv.createTrackbar(\"GausBlur\", \"trackBars\", 1, 21, empty)\n",
    "    cv.createTrackbar(\"Sharp alp\", \"trackBars\", 12, 20, empty)\n",
    "    cv.createTrackbar(\"Sharp bet\", \"trackBars\", 5, 20, empty)\n",
    "    cv.createTrackbar(\"Sharp gam\", \"trackBars\", 0, 20, empty)\n",
    "    cv.createTrackbar(\"tresmin\", \"trackBars\", 67, 255, empty)\n",
    "    cv.createTrackbar(\"tresmax\", \"trackBars\", 255, 255, empty)\n",
    "    cv.createTrackbar(\"cannymin\", \"trackBars\", 0, 500, empty)\n",
    "    cv.createTrackbar(\"cannymax\", \"trackBars\", 0, 500, empty)\n",
    "    cv.createTrackbar(\"erode\", \"trackBars\", 3, 5, empty)\n",
    "\n",
    "\n",
    "def track_bar_values():\n",
    "    h_min = cv.getTrackbarPos(\"Hue Min\", \"trackBars\")\n",
    "    h_max = cv.getTrackbarPos(\"Hue Max\", \"trackBars\")\n",
    "    s_min = cv.getTrackbarPos(\"Sat Min\", \"trackBars\")\n",
    "    s_max = cv.getTrackbarPos(\"Sat Max\", \"trackBars\")\n",
    "    v_min = cv.getTrackbarPos(\"Val Min\", \"trackBars\")\n",
    "    v_max = cv.getTrackbarPos(\"Val Max\", \"trackBars\")\n",
    "    median = cv.getTrackbarPos(\"MedBlur\", \"trackBars\")\n",
    "    gaussian = cv.getTrackbarPos(\"GausBlur\", \"trackBars\")\n",
    "    alpha = cv.getTrackbarPos(\"Sharp alp\", \"trackBars\")\n",
    "    beta = cv.getTrackbarPos(\"Sharp bet\", \"trackBars\")\n",
    "    gama = cv.getTrackbarPos(\"Sharp gam\", \"trackBars\")\n",
    "    canny_min = cv.getTrackbarPos(\"cannymin\", \"trackBars\")\n",
    "    canny_max = cv.getTrackbarPos(\"cannymax\", \"trackBars\")\n",
    "    treshold_min = cv.getTrackbarPos(\"tresmin\", \"trackBars\")\n",
    "    treshold_max = cv.getTrackbarPos(\"tresmax\", \"trackBars\")\n",
    "    erode = cv.getTrackbarPos(\"erode\", \"trackBars\")\n",
    "\n",
    "    return h_min, h_max, s_min, s_max, v_min, v_max, median, gaussian, alpha, beta, gama, canny_min, canny_max, treshold_min, treshold_max, erode"
   ],
   "metadata": {
    "collapsed": false
   }
  },
  {
   "cell_type": "code",
   "execution_count": 90,
   "outputs": [],
   "source": [
    "def extrage_tabla(img_originala):\n",
    "\n",
    "    img = cv.resize(img_originala, (0, 0), fx=0.2, fy=0.2)\n",
    "    # img = img_originala\n",
    "\n",
    "    # img = img_originala\n",
    "    img_hsv = cv.cvtColor(img, cv.COLOR_BGR2HSV)\n",
    "\n",
    "    # createGUI()\n",
    "    # h_min, h_max, s_min, s_max, v_min, v_max, median, gaussian, alpha, beta, gama, canny_min, canny_max, treshold_min, treshold_max, erode = track_bar_values()\n",
    "\n",
    "    h_min = 0\n",
    "    h_max = 179\n",
    "    s_min = 110\n",
    "    s_max = 255\n",
    "    v_min = 0\n",
    "    v_max = 255\n",
    "    median = 1\n",
    "    gaussian = 1\n",
    "    alpha = 12\n",
    "    beta = 8\n",
    "    gama = 0\n",
    "    treshold_min = 5\n",
    "    treshold_max = 255\n",
    "    canny_min = 0\n",
    "    canny_max = 0\n",
    "    erode = 3\n",
    "\n",
    "    while True:\n",
    "        # filtrare HSV\n",
    "        lower = np.array([h_min, s_min, v_min])\n",
    "        upper = np.array([h_max, s_max, v_max])\n",
    "        mask = cv.inRange(img_hsv, lower, upper)\n",
    "        img_result = cv.bitwise_and(img, img, mask=mask)\n",
    "\n",
    "        # HSV to GRAY\n",
    "        h, s, v = cv.split(img_result)\n",
    "        img_result = v\n",
    "\n",
    "        # filtre morfologice\n",
    "        img_m_blur = cv.medianBlur(img_result, median)\n",
    "        img_g_blur = cv.GaussianBlur(img_result, (7, 7), gaussian)\n",
    "        img_sharpened = cv.addWeighted(img_m_blur, alpha / 10, img_g_blur, (-1) * beta / 10, gama)\n",
    "        _, thresh = cv.threshold(img_sharpened, treshold_min, treshold_max, cv.THRESH_BINARY)\n",
    "        kernel = np.ones((erode, erode), np.uint8)\n",
    "        thresh = cv.erode(thresh, kernel)\n",
    "        edges = cv.Canny(thresh, canny_min, canny_max)\n",
    "\n",
    "        # functia de detectare a contururilor\n",
    "        contours, _ = cv.findContours(edges, cv.RETR_EXTERNAL, cv.CHAIN_APPROX_SIMPLE)\n",
    "\n",
    "        # print(len(contours))\n",
    "\n",
    "        gasit, top_left, top_right, bottom_left, bottom_right = detectare_colturi(contours)\n",
    "\n",
    "        # Daca gasim aria unui contur care se potriveste cu tabla noastra, se opreste din cautat, daca nu, marim saturatia pentru a rezolva problemele cu lumina\n",
    "        if gasit:\n",
    "            # cv.rectangle(img_final, tuple(top_left), tuple(bottom_right), (255, 255, 0), 2)\n",
    "            pass\n",
    "        else:\n",
    "            s_min += 2\n",
    "            if s_min > 150:\n",
    "                break\n",
    "            continue\n",
    "\n",
    "        ### imagini cu rezultatul fiecarei operatii\n",
    "        # cv.imshow(\"Thresh\", thresh)\n",
    "        # cv.imshow(\"Edges\", edges)\n",
    "        # cv.imshow(\"Original\", img)\n",
    "        # cv.imshow(\"BlurG\", img_g_blur)\n",
    "        # cv.imshow(\"BlurM\", img_m_blur)\n",
    "        # cv.imshow(\"sharpened\", img_sharpened)\n",
    "        # cv.imshow(\"Result\", img_result)\n",
    "        ### rezultatul cu patratul final\n",
    "        # cv.circle(img_final,tuple(top_left),10,(0,0,255),-1)\n",
    "        # cv.circle(img_final,tuple(top_right),10,(0,0,255),-1)\n",
    "        # cv.circle(img_final,tuple(bottom_left),10,(0,0,255),-1)\n",
    "        # cv.circle(img_final,tuple(bottom_right),10,(0,0,255),-1)\n",
    "\n",
    "        img_cropata = crop_img(img, top_left, top_right, bottom_left, bottom_right)\n",
    "        # cv.imshow(\"AFISARE TABLA\", img_cropata)\n",
    "        return img_cropata"
   ],
   "metadata": {
    "collapsed": false
   }
  },
  {
   "cell_type": "markdown",
   "source": [
    "### Functia de detectie a pieselor"
   ],
   "metadata": {
    "collapsed": false
   }
  },
  {
   "cell_type": "code",
   "execution_count": 91,
   "outputs": [],
   "source": [
    "def pozitii_piese(img_cropata):\n",
    "    matrice_piese = np.full(shape=(15, 15), fill_value=False)\n",
    "\n",
    "    img = cv.resize(img_cropata, (0, 0), fx=0.4, fy=0.4)\n",
    "    img_hsv = cv.cvtColor(img, cv.COLOR_BGR2HSV)\n",
    "\n",
    "    h_min = 68\n",
    "    h_max = 123\n",
    "    s_min = 0\n",
    "    s_max = 161\n",
    "    v_min = 165\n",
    "    v_max = 255\n",
    "    treshold_min = 5\n",
    "    treshold_max = 255\n",
    "\n",
    "\n",
    "    lower = np.array([h_min, s_min, v_min])\n",
    "    upper = np.array([h_max, s_max, v_max])\n",
    "    mask = cv.inRange(img_hsv, lower, upper)\n",
    "    img_result = cv.bitwise_and(img, img, mask=mask)\n",
    "\n",
    "    # HSV to GRAY\n",
    "    h, s, v = cv.split(img_result)\n",
    "    img_result = v\n",
    "\n",
    "    # filtre morfologice\n",
    "    _, thresh = cv.threshold(img_result, treshold_min, treshold_max, cv.THRESH_BINARY)\n",
    "\n",
    "    ### imagini cu rezultatul fiecarei operatii\n",
    "    # cv.imshow(\"Thresh\", thresh)\n",
    "    # cv.imshow(\"Original\", img)\n",
    "    # cv.imshow(\"Result\", img_result)\n",
    "\n",
    "\n",
    "    ### vrem sa trecem prin fiecare patratel din imaginea binara si sa numaram pixelii albi, daca patratul contine mai mult de 30% pixeli albi, atunci contine o piesa\n",
    "    w, h = thresh.shape\n",
    "    w_patrat = w // 15\n",
    "    h_patrat = h // 15\n",
    "    border=5\n",
    "    nr_pixeli_patrat = (w_patrat - border) * (h_patrat - border)\n",
    "    for i in range(0, 15):\n",
    "        for j in range(0, 15):\n",
    "            patrat = thresh[i*w_patrat+border:(i+1)*w_patrat-border,\n",
    "                            j*h_patrat+border:(j+1)*h_patrat-border]\n",
    "            pixeli_pozitivi = np.sum(patrat)\n",
    "            if pixeli_pozitivi/255 >= nr_pixeli_patrat * 30 / 100:\n",
    "                matrice_piese[i][j] = True\n",
    "\n",
    "    return matrice_piese"
   ],
   "metadata": {
    "collapsed": false
   }
  },
  {
   "cell_type": "code",
   "execution_count": 92,
   "outputs": [],
   "source": [
    "def pozitii_mutari(matrice_pozitii_piese, matrice_pozitii_piese_mutare):\n",
    "    mutari = []\n",
    "    for i in range(15):\n",
    "        for j in range(15):\n",
    "            if matrice_pozitii_piese[i][j] != matrice_pozitii_piese_mutare[i][j]:\n",
    "                mutare = (i + 1, letters[j + 1])\n",
    "                mutari.append(mutare)\n",
    "    return mutari"
   ],
   "metadata": {
    "collapsed": false
   }
  },
  {
   "cell_type": "markdown",
   "source": [
    "### Functia de recunoastere a pieselor"
   ],
   "metadata": {
    "collapsed": false
   }
  },
  {
   "cell_type": "code",
   "execution_count": 93,
   "outputs": [],
   "source": [
    "def litere_mutari(mutari_func, img_crop):\n",
    "    litere = []\n",
    "    for mutare in mutari_func:\n",
    "        i, j = mutare\n",
    "        j = ord(j) - ord('A')\n",
    "        i -= 1\n",
    "\n",
    "        patch = img_crop[i*130:(i+1)*130, j*120:(j+1)*120]\n",
    "        # cv.imshow(\"patch\", patch)\n",
    "        img = cv.cvtColor(patch, cv.COLOR_BGR2GRAY)\n",
    "        _, patchthresh = cv.threshold(img, 160, 255, cv.THRESH_BINARY)\n",
    "\n",
    "        # cv.namedWindow(\"tb\")\n",
    "        # cv.createTrackbar(\"th\", \"tb\", 0, 255, empty)\n",
    "        # while True:\n",
    "        #     thresh = cv.getTrackbarPos(\"th\", \"tb\")\n",
    "        #     _, patchthresh = cv.threshold(img, thresh, 255, cv.THRESH_BINARY)\n",
    "        #     cv.imshow(\"TRESH\", patchthresh)\n",
    "        #     if cv.waitKey(25) & 0xFF == ord('q'):\n",
    "        #         break\n",
    "\n",
    "        # cv.imshow(\"patchthresh\", patchthresh)\n",
    "\n",
    "        piesa_string = \"\"\n",
    "        max = -np.inf\n",
    "\n",
    "        path_piese = \"imagini_piese/\"\n",
    "        img_piese = os.listdir(path_piese)\n",
    "        for piese in img_piese:\n",
    "            i = 0\n",
    "            swap = False\n",
    "            piesa=cv.imread(path_piese + piese)\n",
    "\n",
    "            while i < 360:\n",
    "                raza = 40\n",
    "                piesa_rotita = ndimage.rotate(piesa, i)\n",
    "                h_piesa_rotita, w_piesa_rotita = piesa_rotita.shape[:2]\n",
    "                y_centru_piesa_rotita, x_centru_piesa_rotita = h_piesa_rotita // 2, w_piesa_rotita // 2\n",
    "                result = piesa_rotita[y_centru_piesa_rotita-raza:y_centru_piesa_rotita+raza, x_centru_piesa_rotita-raza:x_centru_piesa_rotita+raza]\n",
    "\n",
    "                result = cv.cvtColor(result, cv.COLOR_BGR2GRAY)\n",
    "                _, templatethresh = cv.threshold(result, 111, 255, cv.THRESH_BINARY)\n",
    "\n",
    "                # cv.imshow(\"templatethresh\", templatethresh)\n",
    "                # cv.waitKey(0)\n",
    "\n",
    "                res = cv.matchTemplate(patchthresh, templatethresh,  cv.TM_CCOEFF_NORMED)\n",
    "                min_val, max_val, min_loc, max_loc = cv.minMaxLoc(res)\n",
    "                if(max_val > max):\n",
    "                    max = max_val\n",
    "                    piesa_string = piese\n",
    "\n",
    "                # print(max)\n",
    "                if swap == False and i > 4:\n",
    "                    i += 360 - (2 * i)\n",
    "                    swap = True\n",
    "                else:\n",
    "                    i += 1\n",
    "                # if(max > 0.8):\n",
    "                #     break\n",
    "        # cv.imshow(\"patch\", patch)\n",
    "        # asd = piesa_string.split(\".\")[0]\n",
    "        # print(f\"{max} - > {asd}\")\n",
    "        litere.append(piesa_string.split(\".\")[0])\n",
    "        # cv.waitKey(1)\n",
    "        # time.sleep(0.2)\n",
    "    return litere"
   ],
   "metadata": {
    "collapsed": false
   }
  },
  {
   "cell_type": "markdown",
   "source": [
    "### Functia de scriere in fisier a pozitiilor ocupate pentru fiecare mutare"
   ],
   "metadata": {
    "collapsed": false
   }
  },
  {
   "cell_type": "code",
   "execution_count": 94,
   "outputs": [
    {
     "name": "stdout",
     "output_type": "stream",
     "text": [
      "{1: 'A', 2: 'B', 3: 'C', 4: 'D', 5: 'E', 6: 'F', 7: 'G', 8: 'H', 9: 'I', 10: 'J', 11: 'K', 12: 'L', 13: 'M', 14: 'N', 15: 'O'}\n"
     ]
    }
   ],
   "source": [
    "letters = {i:chr(i+64) for i in range(1,16)}\n",
    "print(letters)"
   ],
   "metadata": {
    "collapsed": false
   }
  },
  {
   "cell_type": "code",
   "execution_count": 95,
   "outputs": [],
   "source": [
    "def scriere_fisier_mutari(file, mutari, litere):\n",
    "\n",
    "    nume_fisier = file.split(\".\")[0] + \".txt\"\n",
    "    path = \"txtbuilder/\"\n",
    "    nume_fisier = path + nume_fisier\n",
    "    f = open(nume_fisier, \"w\")\n",
    "    string = \"\"\n",
    "    for mutare, litera in zip(mutari, litere):\n",
    "        string += str(mutare[0])\n",
    "        string += mutare[1]\n",
    "        string += \" \"\n",
    "        if(litera != \"JOKER\"):\n",
    "            string += litera\n",
    "        else:\n",
    "            string += \"?\"\n",
    "        string += \"\\n\"\n",
    "    string += \"0\"\n",
    "    f.write(string)"
   ],
   "metadata": {
    "collapsed": false
   }
  },
  {
   "cell_type": "code",
   "execution_count": 96,
   "outputs": [
    {
     "name": "stdout",
     "output_type": "stream",
     "text": [
      "1_01.jpg -> 0 din 100\n",
      "1_02.jpg -> 1 din 100\n",
      "1_03.jpg -> 2 din 100\n",
      "1_04.jpg -> 3 din 100\n",
      "1_05.jpg -> 4 din 100\n",
      "1_06.jpg -> 5 din 100\n",
      "1_07.jpg -> 6 din 100\n",
      "1_08.jpg -> 7 din 100\n",
      "1_09.jpg -> 8 din 100\n",
      "1_10.jpg -> 9 din 100\n",
      "1_11.jpg -> 10 din 100\n",
      "1_12.jpg -> 11 din 100\n",
      "1_13.jpg -> 12 din 100\n",
      "1_14.jpg -> 13 din 100\n",
      "1_15.jpg -> 14 din 100\n",
      "1_16.jpg -> 15 din 100\n",
      "1_17.jpg -> 16 din 100\n",
      "1_18.jpg -> 17 din 100\n",
      "1_19.jpg -> 18 din 100\n",
      "1_20.jpg -> 19 din 100\n",
      "2_01.jpg -> 20 din 100\n",
      "2_02.jpg -> 21 din 100\n",
      "2_03.jpg -> 22 din 100\n",
      "2_04.jpg -> 23 din 100\n",
      "2_05.jpg -> 24 din 100\n",
      "2_06.jpg -> 25 din 100\n",
      "2_07.jpg -> 26 din 100\n",
      "2_08.jpg -> 27 din 100\n",
      "2_09.jpg -> 28 din 100\n",
      "2_10.jpg -> 29 din 100\n",
      "2_11.jpg -> 30 din 100\n",
      "2_12.jpg -> 31 din 100\n",
      "2_13.jpg -> 32 din 100\n",
      "2_14.jpg -> 33 din 100\n",
      "2_15.jpg -> 34 din 100\n",
      "2_16.jpg -> 35 din 100\n",
      "2_17.jpg -> 36 din 100\n",
      "2_18.jpg -> 37 din 100\n",
      "2_19.jpg -> 38 din 100\n",
      "2_20.jpg -> 39 din 100\n",
      "3_01.jpg -> 40 din 100\n",
      "3_02.jpg -> 41 din 100\n",
      "3_03.jpg -> 42 din 100\n",
      "3_04.jpg -> 43 din 100\n",
      "3_05.jpg -> 44 din 100\n",
      "3_06.jpg -> 45 din 100\n",
      "3_07.jpg -> 46 din 100\n",
      "3_08.jpg -> 47 din 100\n",
      "3_09.jpg -> 48 din 100\n",
      "3_10.jpg -> 49 din 100\n",
      "3_11.jpg -> 50 din 100\n",
      "3_12.jpg -> 51 din 100\n",
      "3_13.jpg -> 52 din 100\n",
      "3_14.jpg -> 53 din 100\n",
      "3_15.jpg -> 54 din 100\n",
      "3_16.jpg -> 55 din 100\n",
      "3_17.jpg -> 56 din 100\n",
      "3_18.jpg -> 57 din 100\n",
      "3_19.jpg -> 58 din 100\n",
      "3_20.jpg -> 59 din 100\n",
      "4_01.jpg -> 60 din 100\n",
      "4_02.jpg -> 61 din 100\n",
      "4_03.jpg -> 62 din 100\n",
      "4_04.jpg -> 63 din 100\n",
      "4_05.jpg -> 64 din 100\n",
      "4_06.jpg -> 65 din 100\n",
      "4_07.jpg -> 66 din 100\n",
      "4_08.jpg -> 67 din 100\n",
      "4_09.jpg -> 68 din 100\n",
      "4_10.jpg -> 69 din 100\n",
      "4_11.jpg -> 70 din 100\n",
      "4_12.jpg -> 71 din 100\n",
      "4_13.jpg -> 72 din 100\n",
      "4_14.jpg -> 73 din 100\n",
      "4_15.jpg -> 74 din 100\n",
      "4_16.jpg -> 75 din 100\n",
      "4_17.jpg -> 76 din 100\n",
      "4_18.jpg -> 77 din 100\n",
      "4_19.jpg -> 78 din 100\n",
      "4_20.jpg -> 79 din 100\n",
      "5_01.jpg -> 80 din 100\n",
      "5_02.jpg -> 81 din 100\n",
      "5_03.jpg -> 82 din 100\n",
      "5_04.jpg -> 83 din 100\n",
      "5_05.jpg -> 84 din 100\n",
      "5_06.jpg -> 85 din 100\n",
      "5_07.jpg -> 86 din 100\n",
      "5_08.jpg -> 87 din 100\n",
      "5_09.jpg -> 88 din 100\n",
      "5_10.jpg -> 89 din 100\n",
      "5_11.jpg -> 90 din 100\n",
      "5_12.jpg -> 91 din 100\n",
      "5_13.jpg -> 92 din 100\n",
      "5_14.jpg -> 93 din 100\n",
      "5_15.jpg -> 94 din 100\n",
      "5_16.jpg -> 95 din 100\n",
      "5_17.jpg -> 96 din 100\n",
      "5_18.jpg -> 97 din 100\n",
      "5_19.jpg -> 98 din 100\n",
      "5_20.jpg -> 99 din 100\n",
      "Timpul de rulare al programului este:494.16663551330566 ms\n"
     ]
    }
   ],
   "source": [
    "time_start = time.time()\n",
    "path = 'antrenare/'\n",
    "\n",
    "files = os.listdir(path)\n",
    "# files = [\"3_09.jpg\", \"3_10.jpg\"]\n",
    "\n",
    "matrice_pozitii_piese = np.full(shape=(15, 15), fill_value=False)\n",
    "counter = 0\n",
    "\n",
    "for file in files:\n",
    "\n",
    "    # cream matrice de pozitii noua pentru fiecare joc\n",
    "    if \"_01.jpg\" in file:\n",
    "        matrice_pozitii_piese = np.full(shape=(15, 15), fill_value=False)\n",
    "\n",
    "    # verificam ca fisierul sa fie de tip jpg\n",
    "    if file[len(file) - 3:len(file)] == \"jpg\":\n",
    "        print(f\"{file} -> {counter} din {len(files)//2}\")\n",
    "        counter += 1\n",
    "        img = cv.imread(path + file)\n",
    "        img_cropata = extrage_tabla(img)\n",
    "\n",
    "        matrice_pozitii_piese_mutare = pozitii_piese(img_cropata)\n",
    "        mutari = pozitii_mutari(matrice_pozitii_piese, matrice_pozitii_piese_mutare)\n",
    "\n",
    "        litere_mutare = litere_mutari(mutari, img_cropata)\n",
    "        # cv.imshow(\"imagine cropata\", img_cropata)\n",
    "\n",
    "        scriere_fisier_mutari(file, mutari, litere_mutare)\n",
    "\n",
    "        matrice_pozitii_piese = matrice_pozitii_piese_mutare\n",
    "\n",
    "        # img_show = cv.resize(img_cropata, (0, 0), fx=0.3, fy=0.3)\n",
    "        # cv.imshow(\"img\", img_show)\n",
    "        # cv.waitKey(0)\n",
    "\n",
    "        # apasa p pentru a trece la urmatoarea poza\n",
    "        # if cv.waitKey(0) & 0xFF == ord('p'):\n",
    "        #     break\n",
    "\n",
    "        # trece automat la urmatoarea poza dupa 0.3s\n",
    "        # cv.waitKey(1)\n",
    "        # time.sleep(0.3)\n",
    "        # break\n",
    "\n",
    "    cv.destroyAllWindows()\n",
    "time_end = time.time()\n",
    "print(f\"Timpul de rulare al programului este:{time_end - time_start} s\")\n"
   ],
   "metadata": {
    "collapsed": false
   }
  },
  {
   "cell_type": "markdown",
   "source": [
    "### Test"
   ],
   "metadata": {
    "collapsed": false
   }
  },
  {
   "cell_type": "code",
   "execution_count": 96,
   "outputs": [],
   "source": [],
   "metadata": {
    "collapsed": false
   }
  }
 ],
 "metadata": {
  "kernelspec": {
   "display_name": "Python 3",
   "language": "python",
   "name": "python3"
  },
  "language_info": {
   "codemirror_mode": {
    "name": "ipython",
    "version": 2
   },
   "file_extension": ".py",
   "mimetype": "text/x-python",
   "name": "python",
   "nbconvert_exporter": "python",
   "pygments_lexer": "ipython2",
   "version": "2.7.6"
  }
 },
 "nbformat": 4,
 "nbformat_minor": 0
}
