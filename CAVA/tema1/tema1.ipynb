{
 "cells": [
  {
   "cell_type": "markdown",
   "source": [
    "### Imports"
   ],
   "metadata": {
    "collapsed": false
   }
  },
  {
   "cell_type": "code",
   "execution_count": 101,
   "metadata": {
    "collapsed": true
   },
   "outputs": [],
   "source": [
    "import cv2 as cv\n",
    "import numpy as np\n",
    "import os\n",
    "import time"
   ]
  },
  {
   "cell_type": "code",
   "execution_count": 102,
   "outputs": [],
   "source": [
    "def show_image(title, image):\n",
    "    image = cv.resize(image, (0, 0), fx=0.2, fy=0.2)\n",
    "    cv.imshow(title, image)\n",
    "    cv.waitKey(0)\n",
    "    cv.destroyAllWindows()"
   ],
   "metadata": {
    "collapsed": false
   }
  },
  {
   "cell_type": "markdown",
   "source": [
    "### Functia de detectie a colturilor patratului mare din tabla"
   ],
   "metadata": {
    "collapsed": false
   }
  },
  {
   "cell_type": "code",
   "execution_count": 103,
   "outputs": [],
   "source": [
    "def detectare_colturi(contours, img_final):\n",
    "    gasit = False\n",
    "        # print(s_min)\n",
    "    for cont in contours:\n",
    "        area = cv.contourArea(cont)\n",
    "\n",
    "        # print(area)\n",
    "        if 160000 < area < 170000:\n",
    "\n",
    "            top_left = None\n",
    "            bottom_right = None\n",
    "            for point in cont.squeeze():\n",
    "                if top_left is None or point[0] + point[1] < top_left[0] + top_left[1]:\n",
    "                    top_left = point\n",
    "\n",
    "                if bottom_right is None or point[0] + point[1] > bottom_right[0] + bottom_right[1] :\n",
    "                    bottom_right = point\n",
    "\n",
    "            diff = np.diff(cont.squeeze(), axis = 1)\n",
    "            top_right = cont.squeeze()[np.argmin(diff)]\n",
    "            bottom_left = cont.squeeze()[np.argmax(diff)]\n",
    "\n",
    "            gasit = True\n",
    "            # peri = cv.arcLength(cont, True)\n",
    "            # cv.drawContours(img_final, cont, -1, (0, 100, 0), 3)\n",
    "            # aprox = cv.approxPolyDP(cont, 0.01 * peri, True)\n",
    "            # x, y, w, h = cv.boundingRect(aprox)\n",
    "    # cv.imshow(\"colturi\", img_final)\n",
    "    return gasit, top_left, top_right, bottom_left, bottom_right, img_final\n"
   ],
   "metadata": {
    "collapsed": false
   }
  },
  {
   "cell_type": "markdown",
   "source": [
    "### Functia de cropare a patratului"
   ],
   "metadata": {
    "collapsed": false
   }
  },
  {
   "cell_type": "code",
   "execution_count": 104,
   "outputs": [],
   "source": [
    "def crop_img(img_final, top_left, top_right, bottom_left, bottom_right):\n",
    "    width = 1800\n",
    "    height = 1950\n",
    "\n",
    "    pts1 = np.float32([top_left, top_right, bottom_left, bottom_right])\n",
    "    pts2 = np.float32([[0, 0], [width, 0], [0, height], [width, height]])\n",
    "    matrix = cv.getPerspectiveTransform(pts1, pts2)\n",
    "\n",
    "    img_crop = cv.warpPerspective(img_final, matrix, (width, height))\n",
    "\n",
    "\n",
    "    linii_verticale=[]\n",
    "    for i in range(0,height + 1,120):\n",
    "        l=[]\n",
    "        l.append((i,0))\n",
    "        l.append((i,height - 1))\n",
    "        linii_verticale.append(l)\n",
    "\n",
    "    linii_orizontale=[]\n",
    "    for i in range(0,height + 1,130):\n",
    "        l=[]\n",
    "        l.append((0,i))\n",
    "        l.append((width - 1,i))\n",
    "        linii_orizontale.append(l)\n",
    "\n",
    "    for line in  linii_verticale :\n",
    "        cv.line(img_crop, line[0], line[1], (0, 255, 0), 5)\n",
    "    for line in  linii_orizontale :\n",
    "        cv.line(img_crop, line[0], line[1], (0, 0, 255), 5)\n",
    "    img_crop = cv.resize(img_crop, (0, 0), fx=0.4, fy=0.4)\n",
    "    cv.imshow(\"img cropata si impartita in linii\", img_crop)\n",
    "\n",
    "    return img_crop"
   ],
   "metadata": {
    "collapsed": false
   }
  },
  {
   "cell_type": "markdown",
   "source": [
    "### Functii de modificare a imaginii initiale cu operatii morfologice"
   ],
   "metadata": {
    "collapsed": false
   }
  },
  {
   "cell_type": "code",
   "execution_count": 105,
   "outputs": [],
   "source": [
    "### fereastra de proprietati custom\n",
    "def empty(a):\n",
    "    pass\n",
    "\n",
    "\n",
    "def createGUI():\n",
    "    cv.namedWindow(\"trackBars\", cv.WINDOW_NORMAL)\n",
    "    # cv.resizeWindow(\"trackBarks\", 640, 240)\n",
    "    cv.createTrackbar(\"Hue Min\", \"trackBars\", 0, 179, empty)\n",
    "    cv.createTrackbar(\"Hue Max\", \"trackBars\", 179, 179, empty)\n",
    "    cv.createTrackbar(\"Sat Min\", \"trackBars\", 110, 255, empty)\n",
    "    # intre 110 si 140\n",
    "    cv.createTrackbar(\"Sat Max\", \"trackBars\", 255, 255, empty)\n",
    "    cv.createTrackbar(\"Val Min\", \"trackBars\", 0, 255, empty)\n",
    "    cv.createTrackbar(\"Val Max\", \"trackBars\", 255, 255, empty)\n",
    "    cv.createTrackbar(\"MedBlur\", \"trackBars\", 1, 21, empty)\n",
    "    cv.createTrackbar(\"GausBlur\", \"trackBars\", 1, 21, empty)\n",
    "    cv.createTrackbar(\"Sharp alp\", \"trackBars\", 12, 20, empty)\n",
    "    cv.createTrackbar(\"Sharp bet\", \"trackBars\", 8, 20, empty)\n",
    "    cv.createTrackbar(\"Sharp gam\", \"trackBars\", 0, 20, empty)\n",
    "    cv.createTrackbar(\"tresmin\", \"trackBars\", 5, 255, empty)\n",
    "    cv.createTrackbar(\"tresmax\", \"trackBars\", 255, 255, empty)\n",
    "    cv.createTrackbar(\"cannymin\", \"trackBars\", 0, 500, empty)\n",
    "    cv.createTrackbar(\"cannymax\", \"trackBars\", 0, 500, empty)\n",
    "    cv.createTrackbar(\"erode\", \"trackBars\", 3, 5, empty)\n",
    "\n",
    "\n",
    "def track_bar_values():\n",
    "    h_min = cv.getTrackbarPos(\"Hue Min\", \"trackBars\")\n",
    "    h_max = cv.getTrackbarPos(\"Hue Max\", \"trackBars\")\n",
    "    s_min = cv.getTrackbarPos(\"Sat Min\", \"trackBars\")\n",
    "    s_max = cv.getTrackbarPos(\"Sat Max\", \"trackBars\")\n",
    "    v_min = cv.getTrackbarPos(\"Val Min\", \"trackBars\")\n",
    "    v_max = cv.getTrackbarPos(\"Val Max\", \"trackBars\")\n",
    "    median = cv.getTrackbarPos(\"MedBlur\", \"trackBars\")\n",
    "    gaussian = cv.getTrackbarPos(\"GausBlur\", \"trackBars\")\n",
    "    alpha = cv.getTrackbarPos(\"Sharp alp\", \"trackBars\")\n",
    "    beta = cv.getTrackbarPos(\"Sharp bet\", \"trackBars\")\n",
    "    gama = cv.getTrackbarPos(\"Sharp gam\", \"trackBars\")\n",
    "    canny_min = cv.getTrackbarPos(\"cannymin\", \"trackBars\")\n",
    "    canny_max = cv.getTrackbarPos(\"cannymax\", \"trackBars\")\n",
    "    treshold_min = cv.getTrackbarPos(\"tresmin\", \"trackBars\")\n",
    "    treshold_max = cv.getTrackbarPos(\"tresmax\", \"trackBars\")\n",
    "    erode = cv.getTrackbarPos(\"erode\", \"trackBars\")\n",
    "\n",
    "    return h_min, h_max, s_min, s_max, v_min, v_max, median, gaussian, alpha, beta, gama, canny_min, canny_max, treshold_min, treshold_max, erode\n"
   ],
   "metadata": {
    "collapsed": false
   }
  },
  {
   "cell_type": "code",
   "execution_count": 106,
   "outputs": [],
   "source": [
    "def extrage_tabla(imgOriginala):\n",
    "\n",
    "    h, w, _ = imgOriginala.shape\n",
    "    # print(h, w)\n",
    "    img = cv.resize(imgOriginala, (0, 0), fx=0.2, fy=0.2)\n",
    "\n",
    "    img_hsv = cv.cvtColor(img, cv.COLOR_BGR2HSV)\n",
    "\n",
    "    createGUI()\n",
    "    h_min, h_max, s_min, s_max, v_min, v_max, median, gaussian, alpha, beta, gama, canny_min, canny_max, treshold_min, treshold_max, erode = track_bar_values()\n",
    "\n",
    "    while True:\n",
    "        # filtrare HSV\n",
    "        lower = np.array([h_min, s_min, v_min])\n",
    "        upper = np.array([h_max, s_max, v_max])\n",
    "        mask = cv.inRange(img_hsv, lower, upper)\n",
    "        img_result = cv.bitwise_and(img, img, mask=mask)\n",
    "\n",
    "        # HSV to GRAY\n",
    "        h, s, v = cv.split(img_result)\n",
    "        img_result = v\n",
    "\n",
    "        # filtre morfologice\n",
    "        img_m_blur = cv.medianBlur(img_result, median)\n",
    "        img_g_blur = cv.GaussianBlur(img_result, (7, 7), gaussian)\n",
    "        img_sharpened = cv.addWeighted(img_m_blur, alpha / 10, img_g_blur, (-1) * beta / 10, gama)\n",
    "        _, thresh = cv.threshold(img_sharpened, treshold_min, treshold_max, cv.THRESH_BINARY)\n",
    "        kernel = np.ones((erode, erode), np.uint8)\n",
    "        thresh = cv.erode(thresh, kernel)\n",
    "        edges = cv.Canny(thresh, canny_min, canny_max)\n",
    "\n",
    "        # functia de detectare a contururilor\n",
    "        contours, _ = cv.findContours(edges, cv.RETR_EXTERNAL, cv.CHAIN_APPROX_SIMPLE)\n",
    "\n",
    "        img_final = img.copy()\n",
    "        # print(len(contours))\n",
    "\n",
    "        # x, y pozitia stanga sus\n",
    "        # w, h weight, height a patratului\n",
    "        gasit, top_left, top_right, bottom_left, bottom_right, img_final = detectare_colturi(contours, img_final)\n",
    "\n",
    "        # Daca gasim aria unui contur care se potriveste cu tabla noastra, se opreste din cautat, daca nu, marim saturatia pentru a rezolva problemele cu lumina\n",
    "        if gasit:\n",
    "            # cv.rectangle(img_final, tuple(top_left), tuple(bottom_right), (255, 255, 0), 2)\n",
    "            pass\n",
    "        else:\n",
    "            s_min += 2\n",
    "            if s_min > 150:\n",
    "                break\n",
    "            continue\n",
    "\n",
    "        ### imagini cu rezultatul fiecarei operatii\n",
    "        # cv.imshow(\"Thresh\", thresh)\n",
    "        # cv.imshow(\"Edges\", edges)\n",
    "        # cv.imshow(\"Original\", img)\n",
    "        # cv.imshow(\"BlurG\", img_g_blur)\n",
    "        # cv.imshow(\"BlurM\", img_m_blur)\n",
    "        # cv.imshow(\"sharpened\", img_sharpened)\n",
    "        # cv.imshow(\"Result\", img_result)\n",
    "        ### rezultatul cu patratul final\n",
    "        # cv.circle(img_final,tuple(top_left),10,(0,0,255),-1)\n",
    "        # cv.circle(img_final,tuple(top_right),10,(0,0,255),-1)\n",
    "        # cv.circle(img_final,tuple(bottom_left),10,(0,0,255),-1)\n",
    "        # cv.circle(img_final,tuple(bottom_right),10,(0,0,255),-1)\n",
    "        cv.imshow(\"AFISARE PATRAT\", img_final)\n",
    "\n",
    "\n",
    "\n",
    "\n",
    "        img_final = crop_img(img_final, top_left, top_right, bottom_left, bottom_right)\n",
    "\n",
    "\n",
    "\n",
    "\n",
    "        # apasa p pentru a trece la urmatoarea poza\n",
    "        if cv.waitKey(0) & 0xFF == ord('p'):\n",
    "            break\n",
    "\n",
    "        # trece automat la urmatoarea poza dupa 0.3s\n",
    "        # cv.waitKey(1)\n",
    "        # time.sleep(0.3)\n",
    "        # break\n",
    "\n",
    "    cv.destroyAllWindows()"
   ],
   "metadata": {
    "collapsed": false
   }
  },
  {
   "cell_type": "code",
   "execution_count": 107,
   "outputs": [
    {
     "name": "stdout",
     "output_type": "stream",
     "text": [
      "1_01.jpg\n"
     ]
    },
    {
     "ename": "KeyboardInterrupt",
     "evalue": "",
     "output_type": "error",
     "traceback": [
      "\u001B[1;31m---------------------------------------------------------------------------\u001B[0m",
      "\u001B[1;31mKeyboardInterrupt\u001B[0m                         Traceback (most recent call last)",
      "Cell \u001B[1;32mIn [107], line 12\u001B[0m\n\u001B[0;32m     10\u001B[0m \u001B[38;5;28mprint\u001B[39m(file)\n\u001B[0;32m     11\u001B[0m img \u001B[38;5;241m=\u001B[39m cv\u001B[38;5;241m.\u001B[39mimread(path \u001B[38;5;241m+\u001B[39m file)\n\u001B[1;32m---> 12\u001B[0m \u001B[43mextrage_tabla\u001B[49m\u001B[43m(\u001B[49m\u001B[43mimg\u001B[49m\u001B[43m)\u001B[49m\n",
      "Cell \u001B[1;32mIn [106], line 76\u001B[0m, in \u001B[0;36mextrage_tabla\u001B[1;34m(imgOriginala)\u001B[0m\n\u001B[0;32m     70\u001B[0m img_final \u001B[38;5;241m=\u001B[39m crop_img(img_final, top_left, top_right, bottom_left, bottom_right)\n\u001B[0;32m     75\u001B[0m \u001B[38;5;66;03m# apasa p pentru a trece la urmatoarea poza\u001B[39;00m\n\u001B[1;32m---> 76\u001B[0m \u001B[38;5;28;01mif\u001B[39;00m \u001B[43mcv\u001B[49m\u001B[38;5;241;43m.\u001B[39;49m\u001B[43mwaitKey\u001B[49m\u001B[43m(\u001B[49m\u001B[38;5;241;43m0\u001B[39;49m\u001B[43m)\u001B[49m \u001B[38;5;241m&\u001B[39m \u001B[38;5;241m0xFF\u001B[39m \u001B[38;5;241m==\u001B[39m \u001B[38;5;28mord\u001B[39m(\u001B[38;5;124m'\u001B[39m\u001B[38;5;124mp\u001B[39m\u001B[38;5;124m'\u001B[39m):\n\u001B[0;32m     77\u001B[0m     \u001B[38;5;28;01mbreak\u001B[39;00m\n\u001B[0;32m     79\u001B[0m \u001B[38;5;66;03m# trece automat la urmatoarea poza dupa 0.3s\u001B[39;00m\n\u001B[0;32m     80\u001B[0m \u001B[38;5;66;03m# cv.waitKey(1)\u001B[39;00m\n\u001B[0;32m     81\u001B[0m \u001B[38;5;66;03m# time.sleep(0.3)\u001B[39;00m\n\u001B[0;32m     82\u001B[0m \u001B[38;5;66;03m# break\u001B[39;00m\n",
      "\u001B[1;31mKeyboardInterrupt\u001B[0m: "
     ]
    }
   ],
   "source": [
    "### 15 H\n",
    "path = 'antrenare/'\n",
    "img = cv.imread(path + \"/1_01.jpg\")\n",
    "\n",
    "# imgModify(img)\n",
    "files = os.listdir(path)\n",
    "# print(files)\n",
    "for file in files:\n",
    "    if file[len(file) - 3:len(file)] == \"jpg\":\n",
    "        print(file)\n",
    "        img = cv.imread(path + file)\n",
    "        extrage_tabla(img)"
   ],
   "metadata": {
    "collapsed": false
   }
  }
 ],
 "metadata": {
  "kernelspec": {
   "display_name": "Python 3",
   "language": "python",
   "name": "python3"
  },
  "language_info": {
   "codemirror_mode": {
    "name": "ipython",
    "version": 2
   },
   "file_extension": ".py",
   "mimetype": "text/x-python",
   "name": "python",
   "nbconvert_exporter": "python",
   "pygments_lexer": "ipython2",
   "version": "2.7.6"
  }
 },
 "nbformat": 4,
 "nbformat_minor": 0
}
