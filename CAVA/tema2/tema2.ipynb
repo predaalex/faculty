{
 "cells": [
  {
   "cell_type": "markdown",
   "source": [
    "### Imports"
   ],
   "metadata": {
    "collapsed": false
   }
  },
  {
   "cell_type": "code",
   "execution_count": 34,
   "metadata": {
    "collapsed": true
   },
   "outputs": [],
   "source": [
    "import pickle\n",
    "from copy import deepcopy\n",
    "\n",
    "import cv2 as cv\n",
    "import numpy as np\n",
    "import os\n",
    "import time\n",
    "\n",
    "from matplotlib import pyplot as plt\n",
    "from skimage.feature import hog\n",
    "from sklearn.svm import LinearSVC"
   ]
  },
  {
   "cell_type": "code",
   "execution_count": 35,
   "outputs": [],
   "source": [
    "class Parameters:\n",
    "    def __init__(self):\n",
    "        self.dir_save_files = \"resources/salveazaFisiere\"\n",
    "        self.dim_hog_cell = 8\n",
    "        self.number_negative_examples = 0\n",
    "        self.number_positive_examples = 0"
   ],
   "metadata": {
    "collapsed": false
   }
  },
  {
   "cell_type": "markdown",
   "source": [
    "### Functii luate de la laborator"
   ],
   "metadata": {
    "collapsed": false
   }
  },
  {
   "cell_type": "code",
   "execution_count": 36,
   "outputs": [],
   "source": [
    "def intersection_over_union(bbox_a, bbox_b):\n",
    "    x_a = max(bbox_a[0], bbox_b[0])\n",
    "    y_a = max(bbox_a[1], bbox_b[1])\n",
    "    x_b = min(bbox_a[2], bbox_b[2])\n",
    "    y_b = min(bbox_a[3], bbox_b[3])\n",
    "\n",
    "    inter_area = max(0, x_b - x_a + 1) * max(0, y_b - y_a + 1)\n",
    "\n",
    "    box_a_area = (bbox_a[2] - bbox_a[0] + 1) * (bbox_a[3] - bbox_a[1] + 1)\n",
    "    box_b_area = (bbox_b[2] - bbox_b[0] + 1) * (bbox_b[3] - bbox_b[1] + 1)\n",
    "\n",
    "    iou = inter_area / float(box_a_area + box_b_area - inter_area)\n",
    "\n",
    "    return iou"
   ],
   "metadata": {
    "collapsed": false
   }
  },
  {
   "cell_type": "markdown",
   "source": [
    "### Redimensionez fetele din imaginile de antrenare la aceeasi dimensiune si le transform in tonuri gri pentru a putea antrena clasificatorul liniar"
   ],
   "metadata": {
    "collapsed": false
   }
  },
  {
   "cell_type": "code",
   "execution_count": 37,
   "outputs": [],
   "source": [
    "# ### Am cautat o medie de w si h in setul de date al lui louie pentru a sti la ce masura sa redimensionez fete fara sa pierd foarte mult continut si o sa iau dimensiunea unui patrat scalat la ratia 4:3\n",
    "#\n",
    "# path = \"resources/antrenare/louie/\"\n",
    "# f = open(\"resources/antrenare/louie_annotations.txt\")\n",
    "# lines = f.readlines()\n",
    "#\n",
    "# vector_w_fete = []\n",
    "# vector_h_fete = []\n",
    "#\n",
    "# for line in lines:\n",
    "#     info = line.split(\" \")\n",
    "#     nume_imagine = info[0]\n",
    "#     xmin = int(info[1])\n",
    "#     ymin = int(info[2])\n",
    "#     xmax = int(info[3])\n",
    "#     ymax = int(info[4])\n",
    "#     nume_personaj = info[5][:-1]\n",
    "#\n",
    "#     img = cv.imread(path + nume_imagine)\n",
    "#     if nume_personaj == \"louie\":\n",
    "#         w = xmax - xmin\n",
    "#         h = ymax - ymin\n",
    "#\n",
    "#         vector_w_fete.append(w)\n",
    "#         vector_h_fete.append(h)\n",
    "#\n",
    "# vector_w_fete = np.array(vector_w_fete)\n",
    "# print(f\"medie{vector_w_fete.mean()}\\n\"\n",
    "#       f\"min{vector_w_fete.min()}\\n\"\n",
    "#       f\"max{vector_w_fete.max()}\")\n",
    "#\n",
    "# vector_h_fete = np.array(vector_h_fete)\n",
    "# print(f\"medie{vector_h_fete.mean()}\\n\"\n",
    "#       f\"min{vector_h_fete.min()}\\n\"\n",
    "#       f\"max{vector_h_fete.max()}\")\n",
    "#\n",
    "#"
   ],
   "metadata": {
    "collapsed": false
   }
  },
  {
   "cell_type": "markdown",
   "source": [
    "### Calculez descriptorii pt imaginile pozitive"
   ],
   "metadata": {
    "collapsed": false
   }
  },
  {
   "cell_type": "code",
   "execution_count": 38,
   "outputs": [],
   "source": [
    "def line_info(line):\n",
    "    info = line.split(\" \")\n",
    "    nume_imagine = info[0]\n",
    "    xmin = int(info[1])\n",
    "    ymin = int(info[2])\n",
    "    xmax = int(info[3])\n",
    "    ymax = int(info[4])\n",
    "    nume_personaj = info[5][:-1]\n",
    "    return nume_imagine, xmin, ymin, xmax, ymax, nume_personaj"
   ],
   "metadata": {
    "collapsed": false
   }
  },
  {
   "cell_type": "code",
   "execution_count": 39,
   "outputs": [],
   "source": [
    "\n",
    "def get_descriptors_of_image(nume_imagine_anterioara, faces_of_image, path):\n",
    "    img = cv.imread(path + nume_imagine_anterioara, cv.IMREAD_GRAYSCALE)\n",
    "    pos_descriptors = []\n",
    "    neg_descriptors = []\n",
    "    pos_counter = 0\n",
    "    neg_counter = 0\n",
    "    # print(nume_imagine_anterioara)\n",
    "    # print(faces_of_image)\n",
    "    for y in range(0, img.shape[0] - ydim_face_img, 30):\n",
    "        for x in range(0, img.shape[1] - xdim_face_img, 30):\n",
    "\n",
    "            for face_box in faces_of_image:\n",
    "\n",
    "                iou = intersection_over_union(face_box, (x, y, x + xdim_face_img, y + ydim_face_img))\n",
    "                # print(iou)\n",
    "                crop_img = img[y:y + ydim_face_img, x:x + xdim_face_img]\n",
    "\n",
    "                features = hog(crop_img,\n",
    "                           pixels_per_cell=(dim_hog_cell, dim_hog_cell),\n",
    "                           cells_per_block=(2, 2),\n",
    "                           # visualize=True,\n",
    "                           feature_vector=True)\n",
    "                flip_features  = hog(np.fliplr(crop_img),\n",
    "                                     pixels_per_cell=(dim_hog_cell, dim_hog_cell),\n",
    "                                     cells_per_block=(2, 2),\n",
    "                                     feature_vector=True)\n",
    "                # print(len(features))\n",
    "                if iou > 0.3:\n",
    "                    # cv.imshow(\"imghog\", img_hog)\n",
    "                    # cv.imshow(\"original\", crop_img)\n",
    "                    # cv.waitKey(0)\n",
    "                    # cv.destroyAllWindows()\n",
    "                    pos_descriptors.append(features)\n",
    "                    pos_descriptors.append(flip_features)\n",
    "                    pos_counter += 2\n",
    "                else:\n",
    "                    # cv.imshow(\"original\", crop_img)\n",
    "                    # cv.waitKey(0)\n",
    "                    # cv.destroyAllWindows()\n",
    "                    neg_descriptors.append(features)\n",
    "                    neg_descriptors.append(flip_features)\n",
    "                    neg_counter += 2\n",
    "    return pos_descriptors, neg_descriptors, pos_counter, neg_counter"
   ],
   "metadata": {
    "collapsed": false
   }
  },
  {
   "cell_type": "code",
   "execution_count": 40,
   "outputs": [],
   "source": [
    "\n",
    "# folosind fereastra glisanta, trecem peste fiecare imagine de la stanga la dreapta de sus in jos si cu ajutorul iou, clasificam daca fereastra contine o fata sau nu asfel adaugam un descriptor pozitiv sau negativ\n",
    "# intai creez un vector cu pozitiile fetelor dintr-o imagine, iar in momentul in care o imagine nu mai are fete caut descriptorii\n",
    "def get_descriptors(nume_personaj):\n",
    "    number_positive_examples = 0\n",
    "    number_negative_examples = 0\n",
    "    positive_descriptors = []\n",
    "    negative_descriptors = []\n",
    "    path = \"resources/antrenare/\" + nume_personaj + \"/\"\n",
    "    f = open(\"resources/antrenare/\" + nume_personaj + \"_annotations.txt\")\n",
    "    lines = f.readlines()\n",
    "    nume_imagine_anterioara = lines[0].split(\" \")[0]\n",
    "    faces_of_image = []\n",
    "    time_start = time.time()\n",
    "    lines = lines[:10]\n",
    "    lines.append(\"end1 2 3 4 5 end6\\n\")\n",
    "    print(nume_imagine_anterioara)\n",
    "    for line in lines:\n",
    "        nume_imagine, xmin, ymin, xmax, ymax, nume_personaj = line_info(line)\n",
    "        if nume_imagine != nume_imagine_anterioara:\n",
    "\n",
    "            positive_descriptors_of_image, negative_descriptors_of_image, pos_counter, neg_counter = get_descriptors_of_image(nume_imagine_anterioara, faces_of_image, path)\n",
    "            positive_descriptors.extend(positive_descriptors_of_image)\n",
    "            negative_descriptors.extend(negative_descriptors_of_image)\n",
    "            number_positive_examples += pos_counter\n",
    "            number_negative_examples += neg_counter\n",
    "\n",
    "            print(f\"time for img{nume_imagine_anterioara} -> {time.time() - time_start}\")\n",
    "            time_start = time.time()\n",
    "\n",
    "            nume_imagine_anterioara = nume_imagine\n",
    "            faces_of_image = [[xmin, ymin, xmax, ymax]]\n",
    "        else:\n",
    "            faces_of_image.append((xmin, ymin, xmax, ymax))\n",
    "\n",
    "    positive_descriptors = np.array(positive_descriptors)\n",
    "    negative_descriptors = np.array(negative_descriptors)\n",
    "\n",
    "    return positive_descriptors, negative_descriptors, number_positive_examples, number_negative_examples\n"
   ],
   "metadata": {
    "collapsed": false
   }
  },
  {
   "cell_type": "code",
   "execution_count": 41,
   "outputs": [],
   "source": [
    "def train_classifier(params, training_examples, train_labels):\n",
    "    svm_file_name = os.path.join(params.dir_save_files, 'best_model_%d_%d_%d' %\n",
    "                                 (params.dim_hog_cell, params.number_negative_examples,\n",
    "                                  params.number_positive_examples))\n",
    "    if os.path.exists(svm_file_name):\n",
    "        best_model = pickle.load(open(svm_file_name, 'rb'))\n",
    "        return\n",
    "\n",
    "    best_accuracy = 0\n",
    "    best_c = 0\n",
    "    best_model = None\n",
    "    Cs = [10 ** -5, 10 ** -4,  10 ** -3,  10 ** -2, 10 ** -1, 10 ** 0]\n",
    "    for c in Cs:\n",
    "        print('Antrenam un clasificator pentru c=%f' % c)\n",
    "        model = LinearSVC(C=c)\n",
    "        model.fit(training_examples, train_labels)\n",
    "        acc = model.score(training_examples, train_labels)\n",
    "        print(acc)\n",
    "        if acc > best_accuracy:\n",
    "            best_accuracy = acc\n",
    "            best_c = c\n",
    "            best_model = deepcopy(model)\n",
    "\n",
    "    print('Performanta clasificatorului optim pt c = %f' % best_c)\n",
    "    # salveaza clasificatorul\n",
    "    pickle.dump(best_model, open(svm_file_name, 'wb'))\n",
    "\n",
    "    # vizualizeaza cat de bine sunt separate exemplele pozitive de cele negative dupa antrenare\n",
    "    # ideal ar fi ca exemplele pozitive sa primeasca scoruri > 0, iar exemplele negative sa primeasca scoruri < 0\n",
    "    scores = best_model.decision_function(training_examples)\n",
    "    best_model = best_model\n",
    "    positive_scores = scores[train_labels > 0]\n",
    "    negative_scores = scores[train_labels <= 0]\n",
    "\n",
    "\n",
    "    plt.plot(np.sort(positive_scores))\n",
    "    plt.plot(np.zeros(len(positive_scores)))\n",
    "    plt.plot(np.sort(negative_scores))\n",
    "    plt.xlabel('Nr example antrenare')\n",
    "    plt.ylabel('Scor clasificator')\n",
    "    plt.title('Distributia scorurilor clasificatorului pe exemplele de antrenare')\n",
    "    plt.legend(['Scoruri exemple pozitive', '0', 'Scoruri exemple negative'])\n",
    "    plt.show()"
   ],
   "metadata": {
    "collapsed": false
   }
  },
  {
   "cell_type": "code",
   "execution_count": 42,
   "outputs": [
    {
     "name": "stdout",
     "output_type": "stream",
     "text": [
      "Construim descriptorii pentru exemplele pozitive si negative:\n",
      "0001.jpg\n",
      "time for img0001.jpg -> 1.5618796348571777\n",
      "time for img0002.jpg -> 2.368030071258545\n",
      "time for img0003.jpg -> 1.2009727954864502\n",
      "time for img0004.jpg -> 1.2239997386932373\n",
      "time for img0005.jpg -> 1.5669851303100586\n",
      "time for img0006.jpg -> 1.328005075454712\n",
      "time for img0007.jpg -> 1.3249967098236084\n",
      "time for img0008.jpg -> 1.2310278415679932\n",
      "time for img0009.jpg -> 1.205970048904419\n",
      "Am salvat descriptorii pentru exemplele pozitive in fisierul resources\\salveazaFisiere\\descriptoriExemplePozitive_louie_8_.npy\n",
      "Am salvat descriptorii pentru exemplele negative in fisierul resources\\salveazaFisiere\\descriptoriExempleNegative_louie_8_.npy\n",
      "numarul de imagini pozitive -> 268\n",
      "numarul de imagini negative -> 1492\n",
      "len pos_desc = 268\n"
     ]
    }
   ],
   "source": [
    "# dimensiunea ferestrei\n",
    "params: Parameters = Parameters()\n",
    "xdim_face_img = 160 # exemplele pozitive (fetele de oameni cropate) cu 160x120 pixeli\n",
    "ydim_face_img = 120\n",
    "dim_hog_cell = 8 # dimensiunea celului\n",
    "\n",
    "# Pasul 1,2,3 -> Incarcam exemplele pozitive si exemplele negative\n",
    "# Verificam daca acestea sunt existente, daca nu for fi create\n",
    "# nume_personaje = [\"andy\", \"louie\", \"ora\", \"tommy\"]\n",
    "nume_personaje = [\"louie\"]\n",
    "for nume_personaj in nume_personaje:\n",
    "    dir_save_files = \"resources\\salveazaFisiere\"\n",
    "    positive_descriptors_path = os.path.join(dir_save_files, 'descriptoriExemplePozitive_' + nume_personaj +'_'+\n",
    "                                             str(dim_hog_cell) + '_' + '.npy')\n",
    "    negative_descriptors_path = os.path.join(dir_save_files, 'descriptoriExempleNegative_' + nume_personaj +'_'+\n",
    "                                             str(dim_hog_cell) + '_' + '.npy')\n",
    "\n",
    "    if os.path.exists(positive_descriptors_path) and os.path.exists(negative_descriptors_path):\n",
    "        positive_descriptors = np.load(positive_descriptors_path)\n",
    "        negative_descriptors = np.load(negative_descriptors_path)\n",
    "        print(f'Am incarcat descriptorii pentru exemplele pozitive si negative pentru {nume_personaj}')\n",
    "    else:\n",
    "        print('Construim descriptorii pentru exemplele pozitive si negative:')\n",
    "        positive_descriptors, negative_descriptors, number_positive_examples, number_negative_examples = get_descriptors(\"louie\")\n",
    "        # np.save(positive_descriptors_path, positive_descriptors)\n",
    "        # np.save(negative_descriptors_path, negative_descriptors)\n",
    "        print('Am salvat descriptorii pentru exemplele pozitive in fisierul %s' % positive_descriptors_path)\n",
    "        print('Am salvat descriptorii pentru exemplele negative in fisierul %s' % negative_descriptors_path)\n",
    "\n",
    "# Pasul 4 - > Invatam clasificatorul liniar\n",
    "print(f\"numarul de imagini pozitive -> {len(positive_descriptors)}\")\n",
    "print(f\"numarul de imagini negative -> {len(negative_descriptors)}\")\n",
    "print(f\"len pos_desc = {len(positive_descriptors)}\")\n",
    "number_positive_examples = len(positive_descriptors)\n",
    "number_negative_examples = len(negative_descriptors)\n",
    "training_examples = np.concatenate((np.squeeze(positive_descriptors), np.squeeze(negative_descriptors)), axis=0)\n",
    "train_labels = np.concatenate((np.ones(number_positive_examples), np.zeros(number_negative_examples)))\n",
    "train_classifier(params, training_examples, train_labels)"
   ],
   "metadata": {
    "collapsed": false
   }
  },
  {
   "cell_type": "markdown",
   "source": [
    "### TESTAREEEEEEEEEEEE"
   ],
   "metadata": {
    "collapsed": false
   }
  },
  {
   "cell_type": "code",
   "execution_count": 43,
   "outputs": [],
   "source": [
    "# img = cv.imread(\"resources/antrenare/louie/0001.jpg\", cv.IMREAD_GRAYSCALE)\n",
    "# features, hog_img  = hog(img,\n",
    "#                pixels_per_cell=(8, 8),\n",
    "#                cells_per_block=(2, 2),\n",
    "#                feature_vector=True,\n",
    "#                 visualize=True)\n",
    "# cv.imshow(\"imghog\", hog_img)\n",
    "# cv.waitKey(0)\n",
    "# cv.destroyAllWindows()\n"
   ],
   "metadata": {
    "collapsed": false
   }
  },
  {
   "cell_type": "code",
   "execution_count": 44,
   "outputs": [
    {
     "name": "stdout",
     "output_type": "stream",
     "text": [
      "[[7, 8, 9], [10, 11, 12]]\n"
     ]
    }
   ],
   "source": [
    "list2 = [[7, 8, 9], [10, 11, 12]]\n",
    "\n",
    "result = []\n",
    "result.extend(list2)\n",
    "\n",
    "print(result)"
   ],
   "metadata": {
    "collapsed": false
   }
  }
 ],
 "metadata": {
  "kernelspec": {
   "display_name": "Python 3",
   "language": "python",
   "name": "python3"
  },
  "language_info": {
   "codemirror_mode": {
    "name": "ipython",
    "version": 2
   },
   "file_extension": ".py",
   "mimetype": "text/x-python",
   "name": "python",
   "nbconvert_exporter": "python",
   "pygments_lexer": "ipython2",
   "version": "2.7.6"
  }
 },
 "nbformat": 4,
 "nbformat_minor": 0
}
