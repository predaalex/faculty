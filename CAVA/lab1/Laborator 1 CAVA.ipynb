{
 "cells": [
  {
   "cell_type": "markdown",
   "id": "d523ec23",
   "metadata": {
    "pycharm": {
     "name": "#%% md\n"
    }
   },
   "source": [
    "<h1><center>Laborator 1</center></h1>"
   ]
  },
  {
   "cell_type": "markdown",
   "id": "8dde2796",
   "metadata": {
    "pycharm": {
     "name": "#%% md\n"
    }
   },
   "source": [
    "### 1.1 + 1.2 Importuri necesare"
   ]
  },
  {
   "cell_type": "code",
   "execution_count": 2,
   "id": "09c67f7a",
   "metadata": {
    "pycharm": {
     "name": "#%%\n"
    }
   },
   "outputs": [],
   "source": [
    "import os\n",
    "\n",
    "import numpy as np\n",
    "import cv2 as cv\n",
    "import matplotlib.pyplot as plt"
   ]
  },
  {
   "cell_type": "markdown",
   "id": "2d521cad",
   "metadata": {
    "pycharm": {
     "name": "#%% md\n"
    }
   },
   "source": [
    "### 1.3 Citire si afisare imagine color"
   ]
  },
  {
   "cell_type": "code",
   "execution_count": 3,
   "id": "57cde877",
   "metadata": {
    "pycharm": {
     "name": "#%%\n"
    }
   },
   "outputs": [],
   "source": [
    "img = cv.imread(\"butterfly.jpeg\")\n",
    "cv.imshow(\"Fluture galben\",img)\n",
    "cv.waitKey(0)\n",
    "cv.destroyAllWindows()"
   ]
  },
  {
   "cell_type": "markdown",
   "id": "92cdf1b6",
   "metadata": {
    "pycharm": {
     "name": "#%% md\n"
    }
   },
   "source": [
    "### 1.4 Citire si afisare imagine gray"
   ]
  },
  {
   "cell_type": "code",
   "execution_count": 4,
   "id": "21fe8ed2",
   "metadata": {
    "pycharm": {
     "name": "#%%\n"
    }
   },
   "outputs": [],
   "source": [
    "img = cv.imread(\"butterfly.jpeg\",cv.IMREAD_GRAYSCALE)\n",
    "cv.imshow(\"Fluture gray\",img)\n",
    "cv.waitKey(0)\n",
    "cv.destroyAllWindows()"
   ]
  },
  {
   "cell_type": "markdown",
   "id": "392c574d",
   "metadata": {
    "pycharm": {
     "name": "#%% md\n"
    }
   },
   "source": [
    "### Dimensiune imagine"
   ]
  },
  {
   "cell_type": "code",
   "execution_count": 5,
   "id": "546107b3",
   "metadata": {
    "pycharm": {
     "name": "#%%\n"
    }
   },
   "outputs": [
    {
     "name": "stdout",
     "output_type": "stream",
     "text": [
      "670 626\n"
     ]
    }
   ],
   "source": [
    "H, W = img.shape\n",
    "print(H,W)"
   ]
  },
  {
   "cell_type": "markdown",
   "id": "0c5d6fc6",
   "metadata": {
    "pycharm": {
     "name": "#%% md\n"
    }
   },
   "source": [
    "### Redimensionare imagine"
   ]
  },
  {
   "cell_type": "code",
   "execution_count": 6,
   "id": "13623c8a",
   "metadata": {
    "pycharm": {
     "name": "#%%\n"
    }
   },
   "outputs": [
    {
     "name": "stdout",
     "output_type": "stream",
     "text": [
      "1000 1000\n"
     ]
    }
   ],
   "source": [
    "img = cv.resize(img,(1000, 1000))\n",
    "H, W = img.shape\n",
    "print(H,W)\n",
    "cv.imshow(\"Fluture gray redimensionat\",img)\n",
    "cv.waitKey(0)\n",
    "cv.destroyAllWindows()"
   ]
  },
  {
   "cell_type": "markdown",
   "source": [],
   "metadata": {
    "collapsed": false,
    "pycharm": {
     "name": "#%% md\n"
    }
   }
  },
  {
   "cell_type": "markdown",
   "source": [
    "### 1.6 a)"
   ],
   "metadata": {
    "collapsed": false,
    "pycharm": {
     "name": "#%% md\n"
    }
   }
  },
  {
   "cell_type": "code",
   "execution_count": 7,
   "outputs": [],
   "source": [
    "img = cv.resize(cv.cvtColor(cv.imread('football.jpg'), cv.COLOR_BGR2GRAY), (100, 100));"
   ],
   "metadata": {
    "collapsed": false,
    "pycharm": {
     "name": "#%%\n"
    }
   }
  },
  {
   "cell_type": "code",
   "execution_count": 8,
   "outputs": [
    {
     "name": "stdout",
     "output_type": "stream",
     "text": [
      "[ 19  19  20 ... 254 254 254]\n"
     ]
    },
    {
     "data": {
      "text/plain": "<Figure size 640x480 with 1 Axes>",
      "image/png": "[encoded data removed]"
     },
     "metadata": {},
     "output_type": "display_data"
    }
   ],
   "source": [
    "v = img.flatten()\n",
    "x = np.sort(v)\n",
    "print(x)\n",
    "\n",
    "plt.plot(np.arange(len(x)), x)\n",
    "plt.show()"
   ],
   "metadata": {
    "collapsed": false,
    "pycharm": {
     "name": "#%%\n"
    }
   }
  },
  {
   "cell_type": "markdown",
   "source": [
    "### 1.6 b)"
   ],
   "metadata": {
    "collapsed": false,
    "pycharm": {
     "name": "#%% md\n"
    }
   }
  },
  {
   "cell_type": "code",
   "execution_count": 9,
   "outputs": [
    {
     "name": "stdout",
     "output_type": "stream",
     "text": [
      "100 100\n"
     ]
    }
   ],
   "source": [
    "img = cv.resize(img, (100, 100))\n",
    "H, W = img.shape\n",
    "print(H, W)\n",
    "cv.imshow('Fluture gray redimensionat', img)\n",
    "cv.waitKey(0)\n",
    "cv.destroyAllWindows()"
   ],
   "metadata": {
    "collapsed": false,
    "pycharm": {
     "name": "#%%\n"
    }
   }
  },
  {
   "cell_type": "markdown",
   "source": [],
   "metadata": {
    "collapsed": false,
    "pycharm": {
     "name": "#%% md\n"
    }
   }
  },
  {
   "cell_type": "markdown",
   "source": [
    "### 1.6 c)"
   ],
   "metadata": {
    "collapsed": false,
    "pycharm": {
     "name": "#%% md\n"
    }
   }
  },
  {
   "cell_type": "code",
   "execution_count": 10,
   "outputs": [
    {
     "name": "stdout",
     "output_type": "stream",
     "text": [
      "65.0\n"
     ]
    }
   ],
   "source": [
    "t = np.median(x)\n",
    "print(t)"
   ],
   "metadata": {
    "collapsed": false,
    "pycharm": {
     "name": "#%%\n"
    }
   }
  },
  {
   "cell_type": "markdown",
   "source": [
    "### 1.6 d)"
   ],
   "metadata": {
    "collapsed": false,
    "pycharm": {
     "name": "#%% md\n"
    }
   }
  },
  {
   "cell_type": "code",
   "execution_count": 11,
   "outputs": [],
   "source": [
    "B = img.copy()\n",
    "B[B < t] = 0\n",
    "B[B >= t] = 255\n",
    "\n",
    "cv.imshow('test', B)\n",
    "cv.waitKey(0)\n",
    "cv.destroyAllWindows()"
   ],
   "metadata": {
    "collapsed": false,
    "pycharm": {
     "name": "#%%\n"
    }
   }
  },
  {
   "cell_type": "markdown",
   "source": [
    "### 1.6 e)"
   ],
   "metadata": {
    "collapsed": false,
    "pycharm": {
     "name": "#%% md\n"
    }
   }
  },
  {
   "cell_type": "code",
   "execution_count": 12,
   "outputs": [],
   "source": [
    "C = img.copy()\n",
    "eMediu = img.mean()\n",
    "C = img - eMediu\n",
    "C[C < 0] = 0\n",
    "C = np.uint8(C)\n",
    "\n",
    "cv.imshow('test', C)\n",
    "cv.waitKey(0)\n",
    "cv.destroyAllWindows()"
   ],
   "metadata": {
    "collapsed": false,
    "pycharm": {
     "name": "#%%\n"
    }
   }
  },
  {
   "cell_type": "markdown",
   "source": [
    "### 1.6 f)"
   ],
   "metadata": {
    "collapsed": false,
    "pycharm": {
     "name": "#%% md\n"
    }
   }
  },
  {
   "cell_type": "code",
   "execution_count": 13,
   "outputs": [
    {
     "name": "stdout",
     "output_type": "stream",
     "text": [
      "19\n",
      "[76 88] [68 50]\n"
     ]
    }
   ],
   "source": [
    "iMin = img.min()\n",
    "print(iMin)\n",
    "\n",
    "l, c = np.where(img == iMin)\n",
    "print(l, c)"
   ],
   "metadata": {
    "collapsed": false,
    "pycharm": {
     "name": "#%%\n"
    }
   }
  },
  {
   "cell_type": "markdown",
   "source": [
    "### 1.7 a) + b)"
   ],
   "metadata": {
    "collapsed": false,
    "pycharm": {
     "name": "#%% md\n"
    }
   }
  },
  {
   "cell_type": "code",
   "execution_count": 14,
   "outputs": [
    {
     "name": "stdout",
     "output_type": "stream",
     "text": [
      "['im01.jpg', 'im02.jpg', 'im03.jpg', 'im04.jpg', 'im05.jpg', 'im06.jpg', 'im07.jpg', 'im08.jpg', 'im09.jpg', 'im10.jpg', 'im11.jpg', 'im12.jpg', 'im13.jpg', 'im14.jpg', 'im15.jpg', 'im16.jpg', 'im17.jpg', 'im18.jpg', 'im19.jpg', 'im20.jpg', 'im21.jpg', 'im22.jpg', 'im23.jpg', 'im24.jpg', 'im25.jpg', 'im26.jpg', 'im27.jpg', 'im28.jpg', 'im29.jpg', 'im30.jpg', 'im31.jpg', 'im32.jpg', 'im33.jpg', 'im34.jpg', 'im35.jpg', 'im36.jpg', 'im37.jpg', 'im38.jpg', 'im39.jpg', 'im40.jpg', 'im41.jpg', 'im42.jpg', 'im43.jpg', 'im44.jpg', 'im45.jpg', 'im46.jpg', 'im47.jpg', 'im48.jpg', 'im49.jpg', 'im50.jpg', 'im51.jpg', 'im52.jpg', 'im53.jpg', 'im54.jpg', 'im55.jpg', 'im56.jpg', 'im57.jpg']\n"
     ]
    }
   ],
   "source": [
    "dir = 'colectiiImagini/set1/'\n",
    "\n",
    "files = os.listdir(dir)\n",
    "print(files)"
   ],
   "metadata": {
    "collapsed": false,
    "pycharm": {
     "name": "#%%\n"
    }
   }
  },
  {
   "cell_type": "code",
   "execution_count": 15,
   "outputs": [
    {
     "name": "stdout",
     "output_type": "stream",
     "text": [
      "[[165 165 164 ... 166 166 166]\n",
      " [164 169 168 ... 173 169 168]\n",
      " [163 170 168 ... 173 169 168]\n",
      " ...\n",
      " [129 133 129 ... 136 135 133]\n",
      " [129 133 131 ... 136 135 133]\n",
      " [131 131 128 ... 130 132 131]]\n"
     ]
    }
   ],
   "source": [
    "colorImg = []\n",
    "grayImg = []\n",
    "\n",
    "for file in files:\n",
    "    patch = dir + file\n",
    "    img = cv.imread(patch)\n",
    "    imgGray = cv.cvtColor(img, cv.COLOR_BGR2GRAY)\n",
    "    grayImg.append(imgGray)\n",
    "    colorImg.append(img)\n",
    "\n",
    "colorImg = np.array(colorImg)\n",
    "grayImg = np.array(grayImg)\n",
    "\n",
    "meanColorImg = np.uint8(np.mean(colorImg, axis = 0))\n",
    "meanGreyImg = np.uint8(np.mean(grayImg, axis = 0))\n",
    "\n",
    "# print(meanColorImg)\n",
    "print(meanGreyImg)"
   ],
   "metadata": {
    "collapsed": false,
    "pycharm": {
     "name": "#%%\n"
    }
   }
  },
  {
   "cell_type": "markdown",
   "source": [
    "### 1.7 c)"
   ],
   "metadata": {
    "collapsed": false,
    "pycharm": {
     "name": "#%% md\n"
    }
   }
  },
  {
   "cell_type": "code",
   "execution_count": 16,
   "outputs": [
    {
     "name": "stdout",
     "output_type": "stream",
     "text": [
      "[[69 68 67 ... 68 67 68]\n",
      " [70 64 64 ... 60 63 66]\n",
      " [70 64 63 ... 60 64 65]\n",
      " ...\n",
      " [78 74 71 ... 72 74 78]\n",
      " [78 74 72 ... 73 74 77]\n",
      " [79 77 76 ... 79 78 81]]\n"
     ]
    }
   ],
   "source": [
    "X = np.uint8(np.std(grayImg, axis=0))\n",
    "cv.imshow(\"img deviatie standard\", X)\n",
    "cv.waitKey(0)\n",
    "cv.destroyAllWindows()\n",
    "print(X)"
   ],
   "metadata": {
    "collapsed": false,
    "pycharm": {
     "name": "#%%\n"
    }
   }
  },
  {
   "cell_type": "markdown",
   "source": [
    "### 1.7 d)"
   ],
   "metadata": {
    "collapsed": false,
    "pycharm": {
     "name": "#%% md\n"
    }
   }
  },
  {
   "cell_type": "code",
   "execution_count": 17,
   "outputs": [],
   "source": [
    "cv.imshow(\"img medie colorata\", meanColorImg)\n",
    "cv.waitKey(0)\n",
    "cv.destroyAllWindows()\n",
    "\n",
    "cv.imshow(\"img medie gray\", meanGreyImg)\n",
    "cv.waitKey(0)\n",
    "cv.destroyAllWindows()\n",
    "\n",
    "cv.imshow(\"img deviatie standard\", X)\n",
    "cv.waitKey(0)\n",
    "cv.destroyAllWindows()"
   ],
   "metadata": {
    "collapsed": false,
    "pycharm": {
     "name": "#%%\n"
    }
   }
  },
  {
   "cell_type": "markdown",
   "source": [
    "### 1.8"
   ],
   "metadata": {
    "collapsed": false,
    "pycharm": {
     "name": "#%% md\n"
    }
   }
  },
  {
   "cell_type": "code",
   "execution_count": 18,
   "outputs": [
    {
     "name": "stdout",
     "output_type": "stream",
     "text": [
      "(670, 626, 3)\n",
      "(20, 20, 3)\n",
      "index = 207\n"
     ]
    }
   ],
   "source": [
    "img = cv.imread('butterfly.jpeg')\n",
    "dim = 20\n",
    "print(img.shape)\n",
    "H, W, channels = img.shape\n",
    "\n",
    "y = np.random.randint(0, H - dim, size=500)\n",
    "x = np.random.randint(0, W - dim, size=500)\n",
    "\n",
    "crop = img[250:250 + dim, 250:250 + dim, :].copy()\n",
    "print(crop.shape)\n",
    "dist = np.zeros(500)\n",
    "for i in range(0, 500):\n",
    "    patch = img[y[i]:y[i] + dim, x[i]:x[i] + dim, :].copy()\n",
    "    dist[i] = np.sqrt(np.sum((patch - crop)) ** 2)\n",
    "# print(dist)\n",
    "index = np.argmin(dist)\n",
    "print(\"index =\", str(index))\n",
    "\n",
    "imgNew = img.copy()\n",
    "imgNew[250:250 + dim, 250:250 + dim, :] = img[y[index]:y[index] + dim, x[index]:x[index] + dim, :]\n",
    "\n",
    "cv.imshow(\"img veche\", img)\n",
    "cv.imshow(\"img noua\", imgNew)\n",
    "cv.waitKey(0)\n",
    "cv.destroyAllWindows()"
   ],
   "metadata": {
    "collapsed": false,
    "pycharm": {
     "name": "#%%\n"
    }
   }
  }
 ],
 "metadata": {
  "kernelspec": {
   "display_name": "Python 3 (ipykernel)",
   "language": "python",
   "name": "python3"
  },
  "language_info": {
   "codemirror_mode": {
    "name": "ipython",
    "version": 3
   },
   "file_extension": ".py",
   "mimetype": "text/x-python",
   "name": "python",
   "nbconvert_exporter": "python",
   "pygments_lexer": "ipython3",
   "version": "3.8.11"
  }
 },
 "nbformat": 4,
 "nbformat_minor": 5
}