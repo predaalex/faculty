{
 "cells": [
  {
   "cell_type": "markdown",
   "id": "d523ec23",
   "metadata": {},
   "source": [
    "<h1><center>Laborator 1</center></h1>"
   ]
  },
  {
   "cell_type": "markdown",
   "id": "8dde2796",
   "metadata": {},
   "source": [
    "### Importuri necesare"
   ]
  },
  {
   "cell_type": "code",
   "execution_count": 2,
   "id": "09c67f7a",
   "metadata": {},
   "outputs": [],
   "source": [
    "import numpy as np\n",
    "import cv2 as cv\n",
    "import matplotlib.pyplot as plt"
   ]
  },
  {
   "cell_type": "markdown",
   "id": "2d521cad",
   "metadata": {},
   "source": [
    "### Citire si afisare imagine color"
   ]
  },
  {
   "cell_type": "code",
   "execution_count": 4,
   "id": "57cde877",
   "metadata": {},
   "outputs": [],
   "source": [
    "img = cv.imread(\"butterfly.jpeg\")\n",
    "cv.imshow(\"Fluture galben\",img)\n",
    "cv.waitKey(0)\n",
    "cv.destroyAllWindows()"
   ]
  },
  {
   "cell_type": "markdown",
   "id": "92cdf1b6",
   "metadata": {},
   "source": [
    "### Citire si afisare imagine gray"
   ]
  },
  {
   "cell_type": "code",
   "execution_count": 7,
   "id": "21fe8ed2",
   "metadata": {},
   "outputs": [],
   "source": [
    "img = cv.imread(\"butterfly.jpeg\",cv.IMREAD_GRAYSCALE)\n",
    "cv.imshow(\"Fluture gray\",img)\n",
    "cv.waitKey(0)\n",
    "cv.destroyAllWindows()"
   ]
  },
  {
   "cell_type": "markdown",
   "id": "392c574d",
   "metadata": {},
   "source": [
    "### Dimensiune imagine"
   ]
  },
  {
   "cell_type": "code",
   "execution_count": 9,
   "id": "546107b3",
   "metadata": {},
   "outputs": [
    {
     "name": "stdout",
     "output_type": "stream",
     "text": [
      "670 626\n"
     ]
    }
   ],
   "source": [
    "H, W = img.shape\n",
    "print(H,W)"
   ]
  },
  {
   "cell_type": "markdown",
   "id": "0c5d6fc6",
   "metadata": {},
   "source": [
    "### Redimensionare imagine"
   ]
  },
  {
   "cell_type": "code",
   "execution_count": 11,
   "id": "13623c8a",
   "metadata": {},
   "outputs": [
    {
     "name": "stdout",
     "output_type": "stream",
     "text": [
      "100 100\n"
     ]
    }
   ],
   "source": [
    "img = cv.resize(img,(100, 100))\n",
    "H, W = img.shape\n",
    "print(H,W)\n",
    "cv.imshow(\"Fluture gray redimensionat\",img)\n",
    "cv.waitKey(0)\n",
    "cv.destroyAllWindows()"
   ]
  }
 ],
 "metadata": {
  "kernelspec": {
   "display_name": "Python 3 (ipykernel)",
   "language": "python",
   "name": "python3"
  },
  "language_info": {
   "codemirror_mode": {
    "name": "ipython",
    "version": 3
   },
   "file_extension": ".py",
   "mimetype": "text/x-python",
   "name": "python",
   "nbconvert_exporter": "python",
   "pygments_lexer": "ipython3",
   "version": "3.8.11"
  }
 },
 "nbformat": 4,
 "nbformat_minor": 5
}
