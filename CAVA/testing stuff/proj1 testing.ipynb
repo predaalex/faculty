{
 "cells": [
  {
   "cell_type": "code",
   "execution_count": 1,
   "outputs": [],
   "source": [
    "import os\n",
    "\n",
    "import numpy as np\n",
    "import cv2 as cv\n",
    "import matplotlib.pyplot as plt"
   ],
   "metadata": {
    "collapsed": false,
    "pycharm": {
     "name": "#%%\n"
    }
   }
  },
  {
   "cell_type": "markdown",
   "source": [
    "### cum se creeaza o imagine goala pe 3 canale de culoare"
   ],
   "metadata": {
    "collapsed": false,
    "pycharm": {
     "name": "#%% md\n"
    }
   }
  },
  {
   "cell_type": "code",
   "execution_count": 2,
   "outputs": [
    {
     "name": "stdout",
     "output_type": "stream",
     "text": [
      "[[[0 0 0]\n",
      "  [0 0 0]\n",
      "  [0 0 0]\n",
      "  ...\n",
      "  [0 0 0]\n",
      "  [0 0 0]\n",
      "  [0 0 0]]\n",
      "\n",
      " [[0 0 0]\n",
      "  [0 0 0]\n",
      "  [0 0 0]\n",
      "  ...\n",
      "  [0 0 0]\n",
      "  [0 0 0]\n",
      "  [0 0 0]]\n",
      "\n",
      " [[0 0 0]\n",
      "  [0 0 0]\n",
      "  [0 0 0]\n",
      "  ...\n",
      "  [0 0 0]\n",
      "  [0 0 0]\n",
      "  [0 0 0]]\n",
      "\n",
      " ...\n",
      "\n",
      " [[0 0 0]\n",
      "  [0 0 0]\n",
      "  [0 0 0]\n",
      "  ...\n",
      "  [0 0 0]\n",
      "  [0 0 0]\n",
      "  [0 0 0]]\n",
      "\n",
      " [[0 0 0]\n",
      "  [0 0 0]\n",
      "  [0 0 0]\n",
      "  ...\n",
      "  [0 0 0]\n",
      "  [0 0 0]\n",
      "  [0 0 0]]\n",
      "\n",
      " [[0 0 0]\n",
      "  [0 0 0]\n",
      "  [0 0 0]\n",
      "  ...\n",
      "  [0 0 0]\n",
      "  [0 0 0]\n",
      "  [0 0 0]]]\n"
     ]
    }
   ],
   "source": [
    "img = np.zeros((100, 100, 3), np.uint8)\n",
    "\n",
    "print(img)\n",
    "\n",
    "cv.imshow(\"Test\", img)\n",
    "cv.waitKey(0)\n",
    "cv.destroyAllWindows()"
   ],
   "metadata": {
    "collapsed": false,
    "pycharm": {
     "name": "#%%\n"
    }
   }
  },
  {
   "cell_type": "markdown",
   "source": [
    "### am calculat media imaginilor din colectie si am inlocuit pachul cu imaginea cu media cea mai apropiata"
   ],
   "metadata": {
    "collapsed": false,
    "pycharm": {
     "name": "#%% md\n"
    }
   }
  },
  {
   "cell_type": "code",
   "execution_count": 16,
   "outputs": [],
   "source": [
    "imgRef = cv.imread('imagineReferinta.jpg')\n",
    "imgRef = cv.resize(imgRef, (1920, 1080))\n",
    "\n",
    "dir = 'colectiiImagini/'\n",
    "\n",
    "files = os.listdir(dir)\n",
    "\n",
    "nrFiles = len(files)\n",
    "\n",
    "medianPhotos = []\n",
    "photos = []\n",
    "\n",
    "for file in files:\n",
    "    img = cv.imread(dir + file)\n",
    "    img = cv.resize(img, (15, 10))\n",
    "    med = np.mean(img)\n",
    "    medianPhotos.append(med)\n",
    "    photos.append(img)\n",
    "\n",
    "\n",
    "sortedMedianPhotos = np.sort(medianPhotos)\n",
    "\n",
    "for i in range(0, 108):\n",
    "    for j in range(0, 128):\n",
    "        crop = imgRef[i * 10: (i + 1) * 10, j * 15: (j + 1) * 15, :].copy()\n",
    "        cropMedian = np.mean(crop)\n",
    "\n",
    "        closestMedianPhoto = 0\n",
    "\n",
    "        for k in sortedMedianPhotos:\n",
    "            if(cropMedian < k):\n",
    "                closestMedianPhoto = k\n",
    "                break\n",
    "\n",
    "        index = 0\n",
    "\n",
    "        for k in medianPhotos:\n",
    "            if(k == closestMedianPhoto):\n",
    "                break\n",
    "            index += 1\n",
    "\n",
    "        imgRef[i * 10: (i + 1) * 10, j * 15: (j + 1) * 15, :] = photos[index - 1]\n",
    "\n",
    "\n",
    "cv.imshow(\"img noua\", imgRef)\n",
    "cv.waitKey(0)\n",
    "cv.destroyAllWindows()\n",
    "\n"
   ],
   "metadata": {
    "collapsed": false,
    "pycharm": {
     "name": "#%%\n"
    }
   }
  }
 ],
 "metadata": {
  "kernelspec": {
   "display_name": "Python 3",
   "language": "python",
   "name": "python3"
  },
  "language_info": {
   "codemirror_mode": {
    "name": "ipython",
    "version": 2
   },
   "file_extension": ".py",
   "mimetype": "text/x-python",
   "name": "python",
   "nbconvert_exporter": "python",
   "pygments_lexer": "ipython2",
   "version": "2.7.6"
  }
 },
 "nbformat": 4,
 "nbformat_minor": 0
}