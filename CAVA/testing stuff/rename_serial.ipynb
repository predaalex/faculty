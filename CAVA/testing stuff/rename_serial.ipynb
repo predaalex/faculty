{
 "cells": [
  {
   "cell_type": "code",
   "execution_count": 4,
   "metadata": {
    "collapsed": true
   },
   "outputs": [
    {
     "name": "stdout",
     "output_type": "stream",
     "text": [
      "Young.Sheldon.S05E01.One.Bad.Night.and.Chaos.of.Selfish.Desires.1080p.AMZN.WEB-DL.DDP5.1.H.264-playWEB.mkv\n",
      "Young.Sheldon.S05E02.Snoopin.Around.and.the.Wonder.Twins.of.Atheism.1080p.AMZN.WEB-DL.DDP5.1.H.264-playWEB.mkv\n",
      "Young.Sheldon.S05E03.Potential.Energy.and.Hooch.on.a.Park.Bench.1080p.AMZN.WEB-DL.DDP5.1.H.264-playWEB.mkv\n",
      "Young.Sheldon.S05E04.Pish.Posh.and.a.Secret.Back.Room.1080p.AMZN.WEB-DL.DDP5.1.H.264-playWEB.mkv\n",
      "Young.Sheldon.S05E05.Stuffed.Animals.and.a.Sweet.Southern.Syzgy.1080p.AMZN.WEB-DL.DDP5.1.H.264-playWEB.mkv\n",
      "Young.Sheldon.S05E06.Money.Laundering.and.a.Cascade.of.Hormones.1080p.AMZN.WEB-DL.DDP5.1.H.264-playWEB.mkv\n",
      "Young.Sheldon.S05E07.An.Introduction.to.Engineering.and.a.Glob.of.Hair.Gel.1080p.AMZN.WEB-DL.DDP5.1.H.264-playWEB.mkv\n",
      "Young.Sheldon.S05E08.The.Grand.Chancellor.and.a.Den.of.Sin.1080p.AMZN.WEB-DL.DDP5.1.H.264-playWEB.mkv\n",
      "Young.Sheldon.S05E09.The.Yips.and.an.Oddly.Hypnotic.Bohemian.1080p.AMZN.WEB-DL.DDP5.1.H.264-playWEB.mkv\n",
      "Young.Sheldon.S05E10.An.Expensive.Glitch.and.a.Goof-Off.Room.1080p.AMZN.WEB-DL.DDP5.1.H.264-playWEB.mkv\n",
      "Young.Sheldon.S05E11.A.Lock-In.a.Weather.Girl.and.a.Disgusting.Habit.1080p.AMZN.WEB-DL.DDP5.1.H.264-playWEB.mkv\n",
      "Young.Sheldon.S05E12.A.Pink.Cadillac.and.a.Glorious.Tribal.Dance.1080p.AMZN.WEB-DL.DDP5.1.H.264-playWEB.mkv\n",
      "Young.Sheldon.S05E13.A.Lot.of.Band-Aids.and.the.Cooper.Surrender.1080p.AMZN.WEB-DL.DDP5.1.H.264-playWEB.mkv\n",
      "Young.Sheldon.S05E14.A.Free.Scratcher.and.Feminine.Wiles.1080p.AMZN.WEB-DL.DDP5.1.H.264-playWEB.mkv\n",
      "Young.Sheldon.S05E15.A.Lobster.an.Armadillo.and.a.Way.Bigger.Number.1080p.AMZN.WEB-DL.DDP5.1.H.264-playWEB.mkv\n",
      "Young.Sheldon.S05E16.A.Suitcase.Full.of.Cash.and.a.Yellow.Clown.Car.1080p.AMZN.WEB-DL.DDP5.1.H.264-playWEB.mkv\n",
      "Young.Sheldon.S05E17.A.Solo.Peanut.a.Social.Butterfly.and.the.Truth.1080p.AMZN.WEB-DL.DDP5.1.H.264-playWEB.mkv\n",
      "Young.Sheldon.S05E18.Babies.Lies.and.a.Resplendent.Cannoli.1080p.AMZN.WEB-DL.DDP5.1.H.264-playWEB.mkv\n",
      "Young.Sheldon.S05E19.A.God-Fearin.Baptist.and.a.Hot.Trophy.Husband.1080p.AMZN.WEB-DL.DDP5.1.H.264-playWEB.mkv\n",
      "Young.Sheldon.S05E20.Uncle.Sheldon.and.a.Hormonal.Firecracker.1080p.AMZN.WEB-DL.DDP5.1.H.264-playWEB.mkv\n",
      "Young.Sheldon.S05E21.White.Trash.Holy.Rollers.and.Punching.People.1080p.AMZN.WEB-DL.DDP5.1.H.264-playWEB.mkv\n",
      "Young.Sheldon.S05E22.A.Clogged.Pore.a.Little.Spanish.and.the.Future.1080p.WEB-DL.DDP5.1.H.264-playWEB.mkv\n"
     ]
    }
   ],
   "source": [
    "import os\n",
    "\n",
    "path = \"H://sheldon_s05\"\n",
    "\n",
    "files = os.listdir(path)\n",
    "\n",
    "for file in files:\n",
    "    print(file)\n",
    "# print(files)\n",
    "\n",
    "sub_extension = \".srt\"\n",
    "movie_extension = \".mkv\"\n",
    "\n",
    "\n",
    "for i in range(len(files)):\n",
    "    os.rename(path + \"/\" + files[i], path + \"/\" + str(i + 1) + movie_extension)\n"
   ]
  }
 ],
 "metadata": {
  "kernelspec": {
   "display_name": "Python 3",
   "language": "python",
   "name": "python3"
  },
  "language_info": {
   "codemirror_mode": {
    "name": "ipython",
    "version": 2
   },
   "file_extension": ".py",
   "mimetype": "text/x-python",
   "name": "python",
   "nbconvert_exporter": "python",
   "pygments_lexer": "ipython2",
   "version": "2.7.6"
  }
 },
 "nbformat": 4,
 "nbformat_minor": 0
}
