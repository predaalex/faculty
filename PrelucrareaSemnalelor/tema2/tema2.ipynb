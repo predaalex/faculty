{
 "cells": [
  {
   "cell_type": "markdown",
   "source": [
    "### Tema 2 - Preda Alexandru-Florin || Grupa 453"
   ],
   "metadata": {
    "collapsed": false
   }
  },
  {
   "cell_type": "code",
   "execution_count": 15,
   "outputs": [],
   "source": [
    "import sounddevice\n",
    "from scipy import misc, ndimage\n",
    "from scipy.ndimage import gaussian_filter\n",
    "import scipy\n",
    "import numpy as np\n",
    "\n",
    "import matplotlib.pyplot as plt\n",
    "import matplotlib\n",
    "matplotlib.use('TkAgg')\n",
    "\n",
    "pi = np.pi\n",
    "epsilon = np.finfo(float).eps\n",
    "N = 30"
   ],
   "metadata": {
    "collapsed": false
   }
  },
  {
   "cell_type": "markdown",
   "source": [
    "### Exercitiul 1 [8p]"
   ],
   "metadata": {
    "collapsed": false
   }
  },
  {
   "cell_type": "code",
   "execution_count": 2,
   "outputs": [],
   "source": [
    "# Functia 1\n",
    "def sin1(n1, n2):\n",
    "    return np.sin(2 * pi * n1 + 3 * pi * n2)\n",
    "\n",
    "matrix2 = np.zeros(shape=(N, N))\n",
    "\n",
    "for i in range(len(matrix2)):\n",
    "    for j in range(len(matrix2[0])):\n",
    "        matrix2[i][j] = sin1(i, j)\n",
    "\n",
    "\n",
    "Y2 = np.fft.fft2(matrix2)\n",
    "freq_Y1 = np.log10(abs(Y2))\n",
    "\n",
    "plt.imshow(freq_Y1)\n",
    "plt.colorbar()\n",
    "plt.show()"
   ],
   "metadata": {
    "collapsed": false
   }
  },
  {
   "cell_type": "code",
   "execution_count": 3,
   "outputs": [],
   "source": [
    "# Functia 2\n",
    "matrix2 = np.zeros(shape=(N, N))\n",
    "\n",
    "def sin2(n1, n2):\n",
    "    return np.sin(4 * pi * n1) + np.cos(6 * pi * n2)\n",
    "\n",
    "for i in range(len(matrix2)):\n",
    "    for j in range(len(matrix2[0])):\n",
    "        matrix2[i][j] = sin2(i, j)\n",
    "\n",
    "Y2 = np.fft.fft2(matrix2)\n",
    "freq_Y2 = 20 * np.log10(np.abs(Y2)+epsilon)\n",
    "\n",
    "plt.imshow(freq_Y2)\n",
    "plt.colorbar()\n",
    "plt.show()"
   ],
   "metadata": {
    "collapsed": false
   }
  },
  {
   "cell_type": "code",
   "execution_count": 4,
   "outputs": [],
   "source": [
    "# Functia 3\n",
    "matrix4 = np.zeros(shape=(N, N))\n",
    "\n",
    "matrix4[0][5] = 1\n",
    "matrix4[0][N - 5] = 1\n",
    "\n",
    "Y3 = np.fft.fft2(matrix4)\n",
    "\n",
    "freq_Y3 = 20 * np.log10(np.abs(Y3))\n",
    "\n",
    "plt.imshow(freq_Y3)\n",
    "plt.colorbar()\n",
    "plt.show()"
   ],
   "metadata": {
    "collapsed": false
   }
  },
  {
   "cell_type": "code",
   "execution_count": 6,
   "outputs": [],
   "source": [
    "# Functia 4\n",
    "matrix4 = np.zeros(shape=(N, N))\n",
    "\n",
    "matrix4[5][0] = 1\n",
    "matrix4[N - 5][0] = 1\n",
    "\n",
    "Y4 = np.fft.fft2(matrix4)\n",
    "\n",
    "freq_Y4 = 20 * np.log10(np.abs(Y4))\n",
    "\n",
    "plt.imshow(freq_Y4)\n",
    "plt.colorbar()\n",
    "plt.show()"
   ],
   "metadata": {
    "collapsed": false
   }
  },
  {
   "cell_type": "code",
   "execution_count": 5,
   "outputs": [],
   "source": [
    "# Functia 5\n",
    "matrix5 = np.zeros(shape=(N, N))\n",
    "\n",
    "matrix5[5][5] = 1\n",
    "matrix5[N - 5][N - 5] = 1\n",
    "\n",
    "Y5 = np.fft.fft2(matrix5)\n",
    "\n",
    "freq_Y5 = 20 * np.log10(np.abs(Y5))\n",
    "\n",
    "plt.imshow(freq_Y5)\n",
    "plt.colorbar()\n",
    "plt.show()"
   ],
   "metadata": {
    "collapsed": false
   }
  },
  {
   "cell_type": "markdown",
   "source": [
    "### Exercitiul 2 [4p]"
   ],
   "metadata": {
    "collapsed": false
   }
  },
  {
   "cell_type": "code",
   "execution_count": 84,
   "outputs": [],
   "source": [
    "def psnr(original, noisy):\n",
    "    mse = np.mean((original - noisy) ** 2)\n",
    "    if mse == 0:\n",
    "        return np.inf\n",
    "    max = np.max(original)\n",
    "    psnr = (max ** 2 ) / mse\n",
    "    psnr_db = 10 * np.log10(psnr)\n",
    "    return psnr_db\n",
    "\n",
    "\n",
    "def filtru_imagine(original, freq_cutoff):\n",
    "    Y = np.fft.fft2(original)\n",
    "    Y_freq_db = 20 * np.log10(np.abs(Y))\n",
    "    Y_cutoff = Y.copy()\n",
    "    Y_cutoff[Y_freq_db > freq_cutoff] = 0\n",
    "    X_cutoff = np.fft.ifft2(Y_cutoff)\n",
    "    X_cutoff = np.real(X_cutoff)\n",
    "    return X_cutoff\n",
    "\n",
    "fig, ax = plt.subplots(1, 3)\n",
    "plt.suptitle(\"Imaginea cu diferite frecvente de cutoff\")\n",
    "X = misc.face(gray=True)\n",
    "ax[0].imshow(X, cmap=plt.cm.gray)\n",
    "ax[0].set_title(f\"Original \\nPSNR = {np.inf}\")\n",
    "\n",
    "img1_filtrata = filtru_imagine(X, 120)\n",
    "ax[1].imshow(img1_filtrata, cmap=plt.cm.gray)\n",
    "ax[1].set_title(f\"120 cutoff \\nPSNR = {psnr(X, img1_filtrata):.4f}\")\n",
    "\n",
    "\n",
    "img2_filtrata = filtru_imagine(X, 110)\n",
    "ax[2].imshow(img2_filtrata, cmap=plt.cm.gray)\n",
    "ax[2].set_title(f\"120 cutoff \\nPSNR = {psnr(X, img2_filtrata):.4f}\")\n",
    "\n",
    "plt.show()"
   ],
   "metadata": {
    "collapsed": false
   }
  },
  {
   "cell_type": "markdown",
   "source": [
    "### Exercitiul 3[4p]"
   ],
   "metadata": {
    "collapsed": false
   }
  },
  {
   "cell_type": "code",
   "execution_count": 103,
   "outputs": [],
   "source": [
    "X = misc.face(gray=True)\n",
    "\n",
    "\n",
    "fig, ax = plt.subplots(1, 3)\n",
    "plt.suptitle(\"Eliminați zgomotul adăugat la imaginea cu ratonul produsă mai sus. Prezentați raportul SNR înainte și după.\")\n",
    "ax[0].imshow(X, cmap=plt.cm.gray)\n",
    "ax[0].set_title(f\"Original\")\n",
    "\n",
    "\n",
    "pixel_noise = 100\n",
    "noise = np.random.randint(-pixel_noise, high=pixel_noise+1, size=X.shape)\n",
    "X_noisy = X + noise\n",
    "ax[1].imshow(X_noisy, cmap=plt.cm.gray)\n",
    "ax[1].set_title(f\"Imagine cu noise\")\n",
    "\n",
    "\n",
    "im_filtrata = ndimage.gaussian_filter(X_noisy, sigma=3)\n",
    "ax[2].imshow(im_filtrata, cmap=plt.cm.gray)\n",
    "ax[2].set_title(f\"Imagine filtrata \\nPSNR = {psnr(noise, im_filtrata):.4f}\")\n",
    "\n",
    "plt.show()"
   ],
   "metadata": {
    "collapsed": false
   }
  },
  {
   "cell_type": "markdown",
   "source": [
    "### Exercitiul 4[4p]"
   ],
   "metadata": {
    "collapsed": false
   }
  },
  {
   "cell_type": "markdown",
   "source": [
    "<img src=\"fourrie.jpg\"\n",
    "     alt=\"Markdown Monster icon\" />"
   ],
   "metadata": {
    "collapsed": false
   }
  },
  {
   "cell_type": "code",
   "execution_count": 70,
   "outputs": [
    {
     "name": "stdout",
     "output_type": "stream",
     "text": [
      "(2054542, 2)\n"
     ]
    }
   ],
   "source": [
    "from scipy.io.wavfile import read\n",
    "import numpy as np\n",
    "import sounddevice\n",
    "\n",
    "samplerate, data = read(\"lab5.wav\")\n",
    "# data = data[:250000]\n",
    "print(data.shape)\n",
    "myarr = np.array(data[:])\n",
    "# sounddevice.play(myarr, samplerate)\n",
    "# status = sounddevice.wait()\n",
    "## -----------------------------\n",
    "\n",
    "Y = np.fft.rfft(myarr)\n",
    "\n",
    "Y[:2000] = 0\n",
    "\n",
    "X = np.fft.irfft(Y)\n",
    "\n",
    "sounddevice.play(X, samplerate)\n",
    "status = sounddevice.wait()"
   ],
   "metadata": {
    "collapsed": false
   }
  },
  {
   "cell_type": "code",
   "execution_count": 104,
   "outputs": [
    {
     "name": "stdout",
     "output_type": "stream",
     "text": [
      "(1804542, 2)\n",
      "(1804542, 2)\n",
      "(902271, 2)\n"
     ]
    }
   ],
   "source": [
    "samplerate, data = read(\"lab5.wav\")\n",
    "data = data[250000:]\n",
    "print(data.shape)\n",
    "x = np.array(data[:])\n",
    "N = len(x)\n",
    "X = np.fft.rfft(x)\n",
    "\n",
    "# print(x)\n",
    "\n",
    "X = abs(X / N)\n",
    "# print(X)\n",
    "\n",
    "N = int(np.floor(N / 2))\n",
    "print(X.shape)\n",
    "X = X[:N]\n",
    "print(X.shape)\n",
    "f = samplerate*np.linspace(0, N, N) / (N * 2)\n",
    "\n",
    "plt.title(\"exercitiul 2 d\")\n",
    "plt.plot(f, X)\n",
    "plt.show()"
   ],
   "metadata": {
    "collapsed": false
   }
  }
 ],
 "metadata": {
  "kernelspec": {
   "display_name": "Python 3",
   "language": "python",
   "name": "python3"
  },
  "language_info": {
   "codemirror_mode": {
    "name": "ipython",
    "version": 2
   },
   "file_extension": ".py",
   "mimetype": "text/x-python",
   "name": "python",
   "nbconvert_exporter": "python",
   "pygments_lexer": "ipython2",
   "version": "2.7.6"
  }
 },
 "nbformat": 4,
 "nbformat_minor": 0
}
