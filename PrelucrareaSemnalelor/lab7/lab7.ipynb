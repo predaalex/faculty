{
 "cells": [
  {
   "cell_type": "markdown",
   "source": [
    "### Laboratorul 7"
   ],
   "metadata": {
    "collapsed": false
   }
  },
  {
   "cell_type": "code",
   "execution_count": 6,
   "metadata": {
    "collapsed": true
   },
   "outputs": [],
   "source": [
    "# Improts\n",
    "import math\n",
    "\n",
    "import numpy as np\n",
    "from scipy.io.wavfile import read\n",
    "from scipy.io.wavfile import write\n",
    "import matplotlib\n",
    "import sounddevice as sounddevice\n",
    "matplotlib.use('TkAgg')\n",
    "import matplotlib.pyplot as plt\n",
    "\n",
    "pi = np.pi"
   ]
  },
  {
   "cell_type": "markdown",
   "source": [
    "### Exercitiul 1"
   ],
   "metadata": {
    "collapsed": false
   }
  },
  {
   "cell_type": "code",
   "execution_count": 11,
   "outputs": [],
   "source": [
    "# a\n",
    "# Amplitudinea semnalului este 2\n",
    "\n",
    "# b\n",
    "# valoarea maximma este atinsa in 0.01, iar valoarea minima esti atinsa in 0.02\n",
    "\n",
    "# c\n",
    "# Componenta continua este 5, acolo este centrat semnalul\n",
    "\n",
    "# d\n",
    "# Formula semnalului este\n",
    "def signal(t, x0, A, f0):\n",
    "    x = x0 + A * np.cos(2 * pi * f0 * t)\n",
    "    return x\n",
    "# unde f0 = 40Hz, A = 2, x0 = 5\n",
    "\n",
    "t = np.linspace(0, 0.2, 200)\n",
    "plt.title(\"Exercitiul 1\")\n",
    "plt.plot(t, signal(t, 5, 2, 40))\n",
    "plt.show()"
   ],
   "metadata": {
    "collapsed": false
   }
  },
  {
   "cell_type": "markdown",
   "source": [
    "### Exercitiul 2"
   ],
   "metadata": {
    "collapsed": false
   }
  },
  {
   "cell_type": "code",
   "execution_count": null,
   "outputs": [],
   "source": [
    "### a\n",
    "# Daca traficul a fost masurat din ora in ora atunci un esantion are o ora, deci frecventa de esantionare este 1 / 3600 Hz"
   ],
   "metadata": {
    "collapsed": false
   }
  },
  {
   "cell_type": "code",
   "execution_count": 13,
   "outputs": [
    {
     "name": "stdout",
     "output_type": "stream",
     "text": [
      "65840400.0\n"
     ]
    }
   ],
   "source": [
    "### b\n",
    "# Avans frecventa de esantionare 1 / 3600 Hz(esantion / timp)\n",
    "# Iar fisierul contine 18 289 esantionare,\n",
    "# Atunci intervalul de timp acoperit este :\n",
    "a = 1 / 3600 # Hz\n",
    "b = 18289 # esantioane\n",
    "timp = b / a # s\n",
    "print(timp)"
   ],
   "metadata": {
    "collapsed": false
   }
  },
  {
   "cell_type": "code",
   "execution_count": 14,
   "outputs": [
    {
     "name": "stdout",
     "output_type": "stream",
     "text": [
      "B trebuie sa fie mai mic decat fs / 2 = 0.0001388888888888889\n"
     ]
    }
   ],
   "source": [
    "### c\n",
    "fs = 1 / 3600\n",
    "# 2 * B < fs\n",
    "# B < fs / 2\n",
    "print(f\"B trebuie sa fie mai mic decat fs / 2 = {fs / 2}\")"
   ],
   "metadata": {
    "collapsed": false
   }
  },
  {
   "cell_type": "code",
   "execution_count": 48,
   "outputs": [
    {
     "name": "stdout",
     "output_type": "stream",
     "text": [
      "[138.95811461  66.85385766  35.21917298 ...  25.21991648  35.21917298\n",
      "  66.85385766]\n"
     ]
    }
   ],
   "source": [
    "### d\n",
    "x = np.genfromtxt('trafic.csv', delimiter=',')\n",
    "N = len(x)\n",
    "X = np.fft.fft(x)\n",
    "\n",
    "# print(x)\n",
    "\n",
    "X = abs(X / N)\n",
    "print(X)\n",
    "\n",
    "N = int(np.floor(N / 2))\n",
    "X = X[:N]\n",
    "f = fs*np.linspace(0, N, N) / (N * 2)\n",
    "\n",
    "plt.title(\"exercitiul 2 d\")\n",
    "plt.plot(f, X)\n",
    "plt.show()"
   ],
   "metadata": {
    "collapsed": false
   }
  },
  {
   "cell_type": "code",
   "execution_count": 47,
   "outputs": [
    {
     "name": "stdout",
     "output_type": "stream",
     "text": [
      "138.95811461067368\n"
     ]
    }
   ],
   "source": [
    "### e\n",
    "# Semnalul contine o componenta continua, iar aceasta se afla pe prima pozitie din transformata fourrie, si reprezinta mediana functiei\n",
    "\n",
    "med = np.median(X)\n",
    "print(f\"media = {med}\")\n",
    "\n",
    "print(1 / (1.15 * (10 ** -5)) / 3600)\n",
    "\n",
    "print(X[0])"
   ],
   "metadata": {
    "collapsed": false
   }
  },
  {
   "cell_type": "code",
   "execution_count": 50,
   "outputs": [
    {
     "name": "stdout",
     "output_type": "stream",
     "text": [
      "[0 1 2]\n"
     ]
    }
   ],
   "source": [
    "ind = X.argsort()[-3:][::-1]\n",
    "print(ind)\n"
   ],
   "metadata": {
    "collapsed": false
   }
  },
  {
   "cell_type": "code",
   "execution_count": null,
   "outputs": [],
   "source": [],
   "metadata": {
    "collapsed": false
   }
  }
 ],
 "metadata": {
  "kernelspec": {
   "display_name": "Python 3",
   "language": "python",
   "name": "python3"
  },
  "language_info": {
   "codemirror_mode": {
    "name": "ipython",
    "version": 2
   },
   "file_extension": ".py",
   "mimetype": "text/x-python",
   "name": "python",
   "nbconvert_exporter": "python",
   "pygments_lexer": "ipython2",
   "version": "2.7.6"
  }
 },
 "nbformat": 4,
 "nbformat_minor": 0
}
