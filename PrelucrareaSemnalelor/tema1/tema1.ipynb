{
 "cells": [
  {
   "cell_type": "markdown",
   "source": [
    "### Tema 1(note muzicale)"
   ],
   "metadata": {
    "collapsed": false
   }
  },
  {
   "cell_type": "code",
   "execution_count": 34,
   "metadata": {
    "collapsed": true
   },
   "outputs": [],
   "source": [
    "# imports\n",
    "import numpy as np\n",
    "import matplotlib\n",
    "\n",
    "matplotlib.use('TkAgg')\n",
    "import math\n",
    "import matplotlib.pyplot as plt\n",
    "import sounddevice\n",
    "from scipy import signal"
   ]
  },
  {
   "cell_type": "code",
   "execution_count": 35,
   "outputs": [],
   "source": [
    "rate = 44101\n",
    "amp = 10000\n",
    "fullNote = 2\n",
    "note = {}\n",
    "noteCantec = {}\n",
    "note['LA4'] = 440\n",
    "semiton = math.pow(2, 1 / 12)\n",
    "ton = math.pow(semiton, 2)"
   ],
   "metadata": {
    "collapsed": false
   }
  },
  {
   "cell_type": "code",
   "execution_count": 42,
   "outputs": [
    {
     "name": "stdout",
     "output_type": "stream",
     "text": [
      "{'LA4': 440, 'DO4': 261.6255653005986, 'DO#4': 277.1826309768721, 'RE4': 293.6647679174076, 'RE#4': 311.1269837220809, 'MI4': 329.62755691287, 'FA4': 349.22823143300394, 'FA#4': 369.99442271163446, 'SOL4': 391.9954359817494, 'SOL#4': 415.30469757994524, 'LA#4': 466.1637615180899, 'SI4': 493.8833012561241, 'LA5': 880, 'DO5': 523.2511306011972, 'DO#5': 554.3652619537442, 'RE5': 587.3295358348151, 'RE#5': 622.2539674441618, 'MI5': 659.25511382574, 'FA5': 698.4564628660079, 'FA#5': 739.9888454232689, 'SOL5': 783.9908719634988, 'SOL#5': 830.6093951598905, 'LA#5': 932.3275230361799, 'SI5': 987.7666025122483, 'LA6': 1760, 'DO6': 1046.5022612023945, 'DO#6': 1108.7305239074883, 'RE6': 1174.6590716696303, 'RE#6': 1244.5079348883237, 'MI6': 1318.51022765148, 'FA6': 1396.9129257320158, 'FA#6': 1479.9776908465378, 'SOL6': 1567.9817439269975, 'SOL#6': 1661.218790319781, 'LA#6': 1864.6550460723597, 'SI6': 1975.5332050244965, 'LA7': 3520, 'DO7': 2093.004522404789, 'DO#7': 2217.4610478149766, 'RE7': 2349.3181433392606, 'RE#7': 2489.0158697766474, 'MI7': 2637.02045530296, 'FA7': 2793.8258514640315, 'FA#7': 2959.9553816930757, 'SOL7': 3135.963487853995, 'SOL#7': 3322.437580639562, 'LA#7': 3729.3100921447194, 'SI7': 3951.066410048993, 'LA8': 7040, 'DO8': 4186.009044809578, 'DO#8': 4434.922095629953, 'RE8': 4698.636286678521, 'RE#8': 4978.031739553295, 'MI8': 5274.04091060592, 'FA8': 5587.651702928063, 'FA#8': 5919.910763386151, 'SOL8': 6271.92697570799, 'SOL#8': 6644.875161279124, 'LA#8': 7458.620184289439, 'SI8': 7902.132820097986, 'LA9': 14080, 'DO9': 8372.018089619156, 'DO#9': 8869.844191259906, 'RE9': 9397.272573357042, 'RE#9': 9956.06347910659, 'MI9': 10548.08182121184, 'FA9': 11175.303405856126, 'FA#9': 11839.821526772303, 'SOL9': 12543.85395141598, 'SOL#9': 13289.750322558248, 'LA#9': 14917.240368578878, 'SI9': 15804.265640195972, 'LA10': 28160, 'DO10': 16744.036179238312, 'DO#10': 17739.688382519813, 'RE10': 18794.545146714085, 'RE#10': 19912.12695821318, 'MI10': 21096.16364242368, 'FA10': 22350.606811712252, 'FA#10': 23679.643053544605, 'SOL10': 25087.70790283196, 'SOL#10': 26579.500645116495, 'LA#10': 29834.480737157755, 'SI10': 31608.531280391944, 'LA1': 27.5, 'DO1': 16.351597831287414, 'DO#1': 17.323914436054505, 'RE1': 18.354047994837973, 'RE#1': 19.445436482630058, 'MI1': 20.601722307054374, 'FA1': 21.826764464562746, 'FA#1': 23.124651419477154, 'SOL1': 24.499714748859336, 'SOL#1': 25.956543598746578, 'LA#1': 29.13523509488062, 'SI1': 30.867706328507758, 'LA2': 55.0, 'DO2': 32.70319566257483, 'DO#2': 34.64782887210901, 'RE2': 36.70809598967595, 'RE#2': 38.890872965260115, 'MI2': 41.20344461410875, 'FA2': 43.65352892912549, 'FA#2': 46.24930283895431, 'SOL2': 48.99942949771867, 'SOL#2': 51.913087197493155, 'LA#2': 58.27047018976124, 'SI2': 61.735412657015516, 'LA3': 110.0, 'DO3': 65.40639132514966, 'DO#3': 69.29565774421802, 'RE3': 73.4161919793519, 'RE#3': 77.78174593052023, 'MI3': 82.4068892282175, 'FA3': 87.30705785825099, 'FA#3': 92.49860567790861, 'SOL3': 97.99885899543735, 'SOL#3': 103.82617439498631, 'LA#3': 116.54094037952248, 'SI3': 123.47082531403103}\n"
     ]
    }
   ],
   "source": [
    "def generate_note(octava):\n",
    "    if (octava > 1 and octava != 4):\n",
    "        note['LA' + str(octava)] = note['LA' + str(octava - 1)] * 2\n",
    "    elif (octava == 1):\n",
    "        note['LA' + str(octava)] = note['LA4'] / math.pow(2, 4)\n",
    "    note['DO' + str(octava)] = note['LA' + str(octava)] / semiton / math.pow(ton, 4)\n",
    "    note['DO#' + str(octava)] = note['DO' + str(octava)] * semiton\n",
    "    note['RE' + str(octava)] = note['DO' + str(octava)] * ton\n",
    "    note['RE#' + str(octava)] = note['RE' + str(octava)] * semiton\n",
    "    note['MI' + str(octava)] = note['RE' + str(octava)] * ton\n",
    "    note['FA' + str(octava)] = note['MI' + str(octava)] * semiton\n",
    "    note['FA#' + str(octava)] = note['FA' + str(octava)] * semiton\n",
    "    note['SOL' + str(octava)] = note['FA' + str(octava)] * ton\n",
    "    note['SOL#' + str(octava)] = note['SOL' + str(octava)] * semiton\n",
    "    note['LA#' + str(octava)] = note['LA' + str(octava)] * semiton\n",
    "    note['SI' + str(octava)] = note['LA' + str(octava)] * ton\n",
    "\n",
    "\n",
    "for i in range(4, 11):\n",
    "    generate_note(i)\n",
    "for i in range(1, 4):\n",
    "    generate_note(i)\n",
    "print(note)"
   ],
   "metadata": {
    "collapsed": false
   }
  },
  {
   "cell_type": "code",
   "execution_count": 37,
   "outputs": [],
   "source": [
    "def sin(frecventa, timp):\n",
    "    return np.sin(frecventa * timp)"
   ],
   "metadata": {
    "collapsed": false
   }
  },
  {
   "cell_type": "code",
   "execution_count": 38,
   "outputs": [],
   "source": [
    "def generate_song(noteMelodie):\n",
    "    melodie = []\n",
    "    for (nota, durata) in noteMelodie:\n",
    "        t = np.linspace(0, fullNote * (1 / durata), int(fullNote * 1 / (durata * rate)))\n",
    "        melodie.append(amp * sin(note[nota], t))\n",
    "    return np.concatenate(melodie)"
   ],
   "metadata": {
    "collapsed": false
   }
  },
  {
   "cell_type": "code",
   "execution_count": 39,
   "outputs": [],
   "source": [
    "def play_song(melodie):\n",
    "    wav = np.array(melodie, dtype=np.int16)\n",
    "    sounddevice.play(wav, blocking=True)\n",
    "    sounddevice.stop()"
   ],
   "metadata": {
    "collapsed": false
   }
  },
  {
   "cell_type": "code",
   "execution_count": 40,
   "outputs": [],
   "source": [
    "noteCantec = [\n",
    "    ('FA#4', 2), ('MI4', 2),\n",
    "    ('RE4', 2), ('DO#4', 2),\n",
    "    ('SI3', 2), ('LA3', 2),\n",
    "    ('SI3', 2), ('DO#4', 2),\n",
    "    ('FA#4', 2), ('MI4', 2),\n",
    "    ('RE4', 2), ('DO#4', 2),\n",
    "    ('SI3', 2), ('LA3', 2),\n",
    "]\n",
    "\n",
    "play_song(generate_song(noteCantec))"
   ],
   "metadata": {
    "collapsed": false
   }
  }
 ],
 "metadata": {
  "kernelspec": {
   "display_name": "Python 3",
   "language": "python",
   "name": "python3"
  },
  "language_info": {
   "codemirror_mode": {
    "name": "ipython",
    "version": 2
   },
   "file_extension": ".py",
   "mimetype": "text/x-python",
   "name": "python",
   "nbconvert_exporter": "python",
   "pygments_lexer": "ipython2",
   "version": "2.7.6"
  }
 },
 "nbformat": 4,
 "nbformat_minor": 0
}
