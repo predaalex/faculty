{
 "cells": [
  {
   "cell_type": "raw",
   "source": [],
   "metadata": {
    "collapsed": false,
    "pycharm": {
     "name": ""
    }
   }
  },
  {
   "cell_type": "markdown",
   "source": [
    "### Imports"
   ],
   "metadata": {
    "collapsed": false
   }
  },
  {
   "cell_type": "code",
   "execution_count": 8,
   "outputs": [],
   "source": [
    "import numpy as np\n",
    "from scipy.io.wavfile import read\n",
    "from scipy.io.wavfile import write\n",
    "import matplotlib\n",
    "import sounddevice as sounddevice\n",
    "\n",
    "matplotlib.use('TkAgg')\n",
    "import matplotlib.pyplot as plt\n",
    "\n",
    "pi = np.pi"
   ],
   "metadata": {
    "collapsed": false
   }
  },
  {
   "cell_type": "markdown",
   "source": [
    "### Exercitiul 1"
   ],
   "metadata": {
    "collapsed": false
   }
  },
  {
   "cell_type": "code",
   "execution_count": 9,
   "metadata": {
    "collapsed": true
   },
   "outputs": [],
   "source": [
    "amplitudine = 1\n",
    "faza = 0\n",
    "\n",
    "def f(t, frecventa):\n",
    "    return amplitudine * np.sin(2 * pi * t * frecventa + faza)\n",
    "\n",
    "\n",
    "fix, axs = plt.subplots(4)\n",
    "fix.suptitle('Exercitiul 1')\n",
    "\n",
    "t = np.linspace(0, 4, 400)\n",
    "tMarkers = np.linspace(0, 4, 4)\n",
    "\n",
    "axs[0].plot(t, f(t, 1), color=\"purple\")\n",
    "\n",
    "axs[1].plot(t, f(t, 1), color=\"purple\")\n",
    "axs[1].plot(tMarkers, f(tMarkers, 1), \"o\", color=\"black\")\n",
    "\n",
    "axs[2].plot(t, f(t, 4), color=\"blue\")\n",
    "axs[2].plot(tMarkers, f(tMarkers, 1), \"o\", color=\"black\")\n",
    "\n",
    "axs[3].plot(t, f(t, 16), color=\"green\")\n",
    "axs[3].plot(tMarkers, f(tMarkers, 1), \"o\", color=\"black\")\n",
    "\n",
    "\n",
    "plt.show()"
   ]
  },
  {
   "cell_type": "markdown",
   "source": [
    "### Exercitiul 2"
   ],
   "metadata": {
    "collapsed": false
   }
  },
  {
   "cell_type": "code",
   "execution_count": 10,
   "outputs": [],
   "source": [
    "amplitudine = 1\n",
    "faza = 0\n",
    "\n",
    "def f(t, frecventa):\n",
    "    return amplitudine * np.sin(2 * pi * t * frecventa + faza)\n",
    "\n",
    "\n",
    "fix, axs = plt.subplots(4)\n",
    "fix.suptitle('Exercitiul 1')\n",
    "\n",
    "t = np.linspace(0, 4, 400)\n",
    "tMarkers = np.linspace(0, 4, 32)\n",
    "\n",
    "axs[0].plot(t, f(t, 1), color=\"purple\")\n",
    "\n",
    "axs[1].plot(t, f(t, 1), color=\"purple\")\n",
    "axs[1].plot(tMarkers, f(tMarkers, 1), \"o\", color=\"black\")\n",
    "\n",
    "axs[2].plot(t, f(t, 4), color=\"blue\")\n",
    "axs[2].plot(tMarkers, f(tMarkers, 1), \"o\", color=\"black\")\n",
    "\n",
    "axs[3].plot(t, f(t, 16), color=\"green\")\n",
    "axs[3].plot(tMarkers, f(tMarkers, 1), \"o\", color=\"black\")\n",
    "\n",
    "\n",
    "plt.show()"
   ],
   "metadata": {
    "collapsed": false
   }
  },
  {
   "cell_type": "markdown",
   "source": [
    "### Execitiul 3"
   ],
   "metadata": {
    "collapsed": false
   }
  },
  {
   "cell_type": "code",
   "execution_count": 11,
   "outputs": [
    {
     "name": "stdout",
     "output_type": "stream",
     "text": [
      "Frecventa minima cu care trebuie esantionat este: 400 Hz\n"
     ]
    }
   ],
   "source": [
    "minSignal = 40\n",
    "maxSignal = 200\n",
    "fs = maxSignal * 2\n",
    "# fs > maxSignal(B) * 2\n",
    "\n",
    "print(\"Frecventa minima cu care trebuie esantionat este:\",\n",
    "      fs,\n",
    "      \"Hz\")"
   ],
   "metadata": {
    "collapsed": false
   }
  },
  {
   "cell_type": "markdown",
   "source": [
    "### Exercitiul 4 a fost facut la laborator"
   ],
   "metadata": {
    "collapsed": false
   }
  },
  {
   "cell_type": "markdown",
   "source": [
    "### Exercitiul 5"
   ],
   "metadata": {
    "collapsed": false
   }
  },
  {
   "cell_type": "code",
   "execution_count": 12,
   "outputs": [
    {
     "name": "stdout",
     "output_type": "stream",
     "text": [
      "fs pentru m = 1:  95.0\n",
      "fs pentru m = 2:  63.333333333333336\n",
      "fs pentru m = 3:  47.5\n"
     ]
    }
   ],
   "source": [
    "B = 10\n",
    "fc = 90\n",
    "\n",
    "m = 1\n",
    "fs = (2 * fc + B) / ( m + 1)\n",
    "print(\"fs pentru m = 1: \", fs)\n",
    "\n",
    "\n",
    "m = 2\n",
    "fs = (2 * fc + B) / ( m + 1)\n",
    "print(\"fs pentru m = 2: \", fs)\n",
    "\n",
    "\n",
    "m = 3\n",
    "fs = (2 * fc + B) / ( m + 1)\n",
    "print(\"fs pentru m = 3: \", fs)"
   ],
   "metadata": {
    "collapsed": false
   }
  },
  {
   "cell_type": "markdown",
   "source": [
    "### Exercitul 6"
   ],
   "metadata": {
    "collapsed": false
   }
  },
  {
   "cell_type": "markdown",
   "source": [],
   "metadata": {
    "collapsed": false
   }
  },
  {
   "cell_type": "code",
   "execution_count": 13,
   "outputs": [
    {
     "name": "stdout",
     "output_type": "stream",
     "text": [
      "Puterea semnalului convertit este : 1000000  Watts\n",
      " SNR convertit este : 100000  watts\n",
      " Puterea zgomotului este Psemnal / SNR =  10  watts\n",
      "\n"
     ]
    }
   ],
   "source": [
    "def db_to_watts(dBm):\n",
    "    return pow(10,((dBm-30)/10))\n",
    "\n",
    "\n",
    "Psemnal =  int(db_to_watts(90))\n",
    "SNR =  int(db_to_watts(80))\n",
    "\n",
    "Pzgomot = int(Psemnal / SNR)\n",
    "\n",
    "print(\"Puterea semnalului convertit este :\", Psemnal, \" Watts\\n\",\n",
    "      \"SNR convertit este :\", SNR, \" watts\\n\",\n",
    "      \"Puterea zgomotului este Psemnal / SNR = \", Pzgomot, \" watts\\n\")"
   ],
   "metadata": {
    "collapsed": false
   }
  }
 ],
 "metadata": {
  "kernelspec": {
   "display_name": "Python 3",
   "language": "python",
   "name": "python3"
  },
  "language_info": {
   "codemirror_mode": {
    "name": "ipython",
    "version": 2
   },
   "file_extension": ".py",
   "mimetype": "text/x-python",
   "name": "python",
   "nbconvert_exporter": "python",
   "pygments_lexer": "ipython2",
   "version": "2.7.6"
  }
 },
 "nbformat": 4,
 "nbformat_minor": 0
}
