{
 "cells": [
  {
   "cell_type": "markdown",
   "source": [
    "# Lab8"
   ],
   "metadata": {
    "collapsed": false
   }
  },
  {
   "cell_type": "code",
   "execution_count": 20,
   "outputs": [],
   "source": [
    "### IMPORTS\n",
    "import numpy as np\n",
    "import matplotlib\n",
    "import scipy\n",
    "\n",
    "matplotlib.use(\"TkAgg\")\n",
    "import matplotlib.pyplot as plt"
   ],
   "metadata": {
    "collapsed": false
   }
  },
  {
   "cell_type": "markdown",
   "source": [
    "### Exercitiul 1"
   ],
   "metadata": {
    "collapsed": false
   }
  },
  {
   "cell_type": "code",
   "execution_count": 68,
   "metadata": {
    "collapsed": true
   },
   "outputs": [],
   "source": [
    "def sin(t):\n",
    "    return np.sin(2 * np.pi * 100 * t)\n",
    "Nw = 200\n",
    "\n",
    "def fereastraDreptunghiulara(n):\n",
    "    return 1\n",
    "\n",
    "def fereastraHanning(n):\n",
    "    return 0.5 * (1 - np.cos(2 * np.pi * n / Nw))\n",
    "\n",
    "plt.title(\"Ex 1 Functia sin\")\n",
    "t = np.linspace(0, 1, Nw)\n",
    "plt.plot(t, sin(t))\n",
    "plt.show()\n",
    "\n",
    "plt.title(\"Ex 1 Fereastra dreptunghiulara\")\n",
    "filtrareDreptunghi = fereastraDreptunghiulara(t) * sin(t)\n",
    "plt.plot(t, filtrareDreptunghi)\n",
    "plt.show()\n",
    "\n",
    "plt.title(\"Ex 1 Fereastra Hanning\")\n",
    "filtrareHanning = fereastraHanning(t) * sin(t)\n",
    "plt.plot(t, filtrareHanning)\n",
    "plt.show()"
   ]
  },
  {
   "cell_type": "markdown",
   "source": [
    "### Exercitiul 2"
   ],
   "metadata": {
    "collapsed": false
   }
  },
  {
   "cell_type": "code",
   "execution_count": 65,
   "outputs": [
    {
     "name": "stdout",
     "output_type": "stream",
     "text": [
      "x shape = (72,)\n"
     ]
    }
   ],
   "source": [
    "### a\n",
    "x = np.genfromtxt(\"trafic.csv\", delimiter = \",\")\n",
    "# print(x.shape)\n",
    "\n",
    "### 3 zile * 24 h\n",
    "size = 72\n",
    "x = x[:72]\n",
    "print(f\"x shape = {x.shape}\")\n",
    "\n",
    "\n",
    "### b\n",
    "ws = [5, 9, 13, 17]\n",
    "for w in ws:\n",
    "    x_b = np.convolve(x, np.ones(w), \"valid\") / w\n",
    "    # print(x)\n",
    "\n",
    "\n",
    "### d\n",
    "N = 5\n",
    "Wn = 0.6 # n am calculat exercitiul c\n",
    "butter_b, butter_a = scipy.signal.butter(N=N, Wn=Wn, btype=\"low\")\n",
    "cheby_b, cheby_a = scipy.signal.cheby1(N=N, rp=7, Wn=Wn, btype=\"low\")\n",
    "# print(butterworth)\n",
    "# print(cheby)\n",
    "\n",
    "\n",
    "\n",
    "### e\n",
    "butter_w = scipy.signal.filtfilt(butter_b, butter_a, x)\n",
    "cheby_w = scipy.signal.filtfilt(cheby_b, cheby_a, x)\n",
    "\n",
    "# print(len(butter_w))\n",
    "# ww, h = scipy.signal.freqz(x, butterworth)\n",
    "\n",
    "\n",
    "axa_x = np.linspace(0, 72, 72)\n",
    "plt.suptitle(\"lab8\")\n",
    "plt.plot(axa_x, x, color=\"blue\")\n",
    "# plt.plot(axa_x, butter_w, color=\"red\")\n",
    "plt.plot(axa_x, cheby_w, color=\"green\")\n",
    "\n",
    "plt.show()"
   ],
   "metadata": {
    "collapsed": false
   }
  }
 ],
 "metadata": {
  "kernelspec": {
   "display_name": "Python 3",
   "language": "python",
   "name": "python3"
  },
  "language_info": {
   "codemirror_mode": {
    "name": "ipython",
    "version": 2
   },
   "file_extension": ".py",
   "mimetype": "text/x-python",
   "name": "python",
   "nbconvert_exporter": "python",
   "pygments_lexer": "ipython2",
   "version": "2.7.6"
  }
 },
 "nbformat": 4,
 "nbformat_minor": 0
}
