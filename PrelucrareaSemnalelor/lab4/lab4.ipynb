{
 "cells": [
  {
   "cell_type": "markdown",
   "source": [
    "### IMPORTS"
   ],
   "metadata": {
    "collapsed": false
   }
  },
  {
   "cell_type": "code",
   "execution_count": 46,
   "outputs": [],
   "source": [
    "import numpy as np\n",
    "from scipy.io.wavfile import read\n",
    "from scipy.io.wavfile import write\n",
    "import matplotlib\n",
    "import sounddevice as sounddevice\n",
    "\n",
    "matplotlib.use('TkAgg')\n",
    "import matplotlib.pyplot as plt\n",
    "\n",
    "pi = np.pi"
   ],
   "metadata": {
    "collapsed": false
   }
  },
  {
   "cell_type": "markdown",
   "source": [
    "### Exercitiul 1 a\n",
    "\n",
    "Daca avem un escantion in 2 ore asta insemana ca frecventa de esantionare va fi\n",
    "\n",
    "    1 / (2 * 3600) Hz"
   ],
   "metadata": {
    "collapsed": false
   }
  },
  {
   "cell_type": "markdown",
   "source": [
    "### Exercitiul 1 b\n",
    "\n",
    "Perioada semnalului (cand revine functia din locul in care a plecat)\n",
    "\n",
    "    24 h = 24 * 3600 s\n",
    "\n",
    "Frecventa semnalului (1 / perioada semnalului) (frecventa de baza B)\n",
    "\n",
    "    1 / ( 24 * 3600 ) 1/s\n",
    "\n",
    "Daca frecventa de esantionare este (fs)\n",
    "\n",
    "    1 / (2 * 3600)\n",
    "\n",
    ", iar frecventa semnalului este\n",
    "\n",
    "    1 / (24 * 3600) 1/s\n",
    "\n",
    "atunci\n",
    "\n",
    "    1 / (2 * 3600) > 2 / (24 * 3600)\n",
    "    1 / (2 * 3600) > 1 / (12 * 3600)\n",
    "\n",
    "\n",
    ",deci esantionarea din subpunctul precentent este corect in sensul teoremei Nyquist\n",
    "\n",
    "Intervalul de timp minim de timp la care trebuie masurata tempreatura a.i. sa indeplineasca criteriul de esantionare Nyquist este 12 * 3600 s, adica 12 ore"
   ],
   "metadata": {
    "collapsed": false
   }
  },
  {
   "cell_type": "markdown",
   "source": [
    "### Exercitiul 1 c"
   ],
   "metadata": {
    "collapsed": false
   }
  },
  {
   "cell_type": "code",
   "execution_count": 45,
   "outputs": [],
   "source": [
    "def sinTemp(ampli, freq, phase, time):\n",
    "    return ampli * np.sin(2 * np.pi * freq * time + phase)\n",
    "zile = 7\n",
    "t = np.linspace(0,zile * 24,zile * 12)\n",
    "\n",
    "plt.suptitle(\"Exercitiul 1 c\")\n",
    "plt.plot(t, sinTemp(1, 1 / 24, 0, t), '-o')\n",
    "plt.show()"
   ],
   "metadata": {
    "collapsed": false
   }
  },
  {
   "cell_type": "markdown",
   "source": [
    "### Exercitiul 1 d\n",
    "\n",
    "Pentru a ajunge din noua la aceeasi valoare din primul esantion, trebuie sa gasim urmatorul multiplu comun intre perioada de esantionare si frecventa semnalului\n",
    "\n",
    "    5 * 24 = 120 ore ( peste 5 zile )"
   ],
   "metadata": {
    "collapsed": false
   }
  },
  {
   "cell_type": "markdown",
   "source": [
    "### Exercitiul 1 e + f"
   ],
   "metadata": {
    "collapsed": false
   }
  },
  {
   "cell_type": "code",
   "execution_count": 47,
   "outputs": [],
   "source": [
    "def sinTemp(ampli, freq, phase, time):\n",
    "    return ampli * np.sin(2 * np.pi * freq * time + phase)\n",
    "zile = 7\n",
    "# e) ca sa putem lua perioada de esantionare de 5 ore, ar trebuii ca perioada noastra sa se poata imparti la 5( daca ai o zi nu o poti imparti perfect la 5 ) asa ca am luat parte intreaga\n",
    "t = np.linspace(0,zile * 24,zile * 24 // 5)\n",
    "\n",
    "plt.suptitle(\"Exercitiul 1 e,f\")\n",
    "plt.plot(t, sinTemp(1, 1 / 24, 0, t), '-o')\n",
    "plt.show()\n",
    "\n",
    "# f) evident ca punand o perioada de esantionare mai mare decat cea initiala vom avea mai putin esantioane deci graficul nostru nu va mai fi la fel de \"smooth\" si e posibil, folosind partea intreaga, sa nu ne afiseze cum ar trebui si ultima parte din restul ultimului estantion"
   ],
   "metadata": {
    "collapsed": false
   }
  },
  {
   "cell_type": "markdown",
   "source": [
    "### Exercitiul 1 g"
   ],
   "metadata": {
    "collapsed": false
   }
  },
  {
   "cell_type": "code",
   "execution_count": 48,
   "outputs": [],
   "source": [
    "def sinTemp(ampli, freq, phase, time):\n",
    "    return ampli * np.sin(2 * np.pi * freq * time + phase)\n",
    "zile = 3\n",
    "# e) ca sa putem lua perioada de esantionare de 5 ore, ar trebuii ca perioada noastra sa se poata imparti la 5( daca ai o zi nu o poti imparti perfect la 5 ) asa ca am luat parte intreaga\n",
    "t = np.linspace(0,zile * 24,zile * 24 // 2)\n",
    "plt.suptitle(\"Exercitiul 1 g\")\n",
    "plt.plot(t, sinTemp(1, 1 / 24, 0, t), '-o', color=\"red\")\n",
    "t = np.linspace(0,zile * 24,zile * 24 // 5)\n",
    "plt.stem(t, sinTemp(1, 1 / 24, 0, t))\n",
    "plt.show()"
   ],
   "metadata": {
    "collapsed": false
   }
  },
  {
   "cell_type": "markdown",
   "source": [
    "### Exercitiul 2"
   ],
   "metadata": {
    "collapsed": false
   }
  },
  {
   "cell_type": "code",
   "execution_count": 49,
   "outputs": [],
   "source": [
    "def sin(ampli, freq, phase, time):\n",
    "    return ampli * np.sin(2 * np.pi * freq * time + phase)\n",
    "\n",
    "t = np.linspace(0, 1, 100)\n",
    "plt.suptitle(\"Exercitiul 2\")\n",
    "\n",
    "plt.plot(t, sin(2, 1, 0, t) + 5, color=\"red\")\n",
    "plt.show()"
   ],
   "metadata": {
    "collapsed": false
   }
  },
  {
   "cell_type": "markdown",
   "source": [
    "### Exercitiul 3"
   ],
   "metadata": {
    "collapsed": false
   }
  },
  {
   "cell_type": "code",
   "execution_count": 50,
   "outputs": [
    {
     "name": "stdout",
     "output_type": "stream",
     "text": [
      "fs pentru m = 1:  95.0\n",
      "fs pentru m = 2:  63.333333333333336\n",
      "fs pentru m = 3:  47.5\n"
     ]
    }
   ],
   "source": [
    "B = 10\n",
    "fc = 90\n",
    "\n",
    "m = 1\n",
    "fs = (2 * fc + B) / ( m + 1)\n",
    "print(\"fs pentru m = 1: \", fs)\n",
    "\n",
    "\n",
    "m = 2\n",
    "fs = (2 * fc + B) / ( m + 1)\n",
    "print(\"fs pentru m = 2: \", fs)\n",
    "\n",
    "\n",
    "m = 3\n",
    "fs = (2 * fc + B) / ( m + 1)\n",
    "print(\"fs pentru m = 3: \", fs)"
   ],
   "metadata": {
    "collapsed": false
   }
  },
  {
   "cell_type": "markdown",
   "source": [],
   "metadata": {
    "collapsed": false
   }
  }
 ],
 "metadata": {
  "kernelspec": {
   "display_name": "Python 3",
   "language": "python",
   "name": "python3"
  },
  "language_info": {
   "codemirror_mode": {
    "name": "ipython",
    "version": 2
   },
   "file_extension": ".py",
   "mimetype": "text/x-python",
   "name": "python",
   "nbconvert_exporter": "python",
   "pygments_lexer": "ipython2",
   "version": "2.7.6"
  }
 },
 "nbformat": 4,
 "nbformat_minor": 0
}
