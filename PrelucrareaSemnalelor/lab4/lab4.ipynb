{
 "cells": [
  {
   "cell_type": "markdown",
   "source": [
    "### IMPORTS"
   ],
   "metadata": {
    "collapsed": false
   }
  },
  {
   "cell_type": "code",
   "execution_count": 38,
   "outputs": [],
   "source": [
    "import numpy as np\n",
    "from scipy.io.wavfile import read\n",
    "from scipy.io.wavfile import write\n",
    "import matplotlib\n",
    "import sounddevice as sounddevice\n",
    "\n",
    "matplotlib.use('TkAgg')\n",
    "import matplotlib.pyplot as plt\n",
    "\n",
    "pi = np.pi"
   ],
   "metadata": {
    "collapsed": false
   }
  },
  {
   "cell_type": "markdown",
   "source": [
    "### Exercitiul 1 a\n",
    "\n",
    "Daca avem un escantion in 2 ore asta insemana ca frecventa de esantionare va fi\n",
    "\n",
    "    1 / (2 * 3600) Hz"
   ],
   "metadata": {
    "collapsed": false
   }
  },
  {
   "cell_type": "markdown",
   "source": [
    "### Exercitiul 1 b\n",
    "\n",
    "Perioada semnalului (cand revine functia din locul in care a plecat)\n",
    "\n",
    "    24 h = 24 * 3600 s\n",
    "\n",
    "Frecventa semnalului (1 / perioada semnalului) (frecventa de baza B)\n",
    "\n",
    "    1 / ( 24 * 3600 ) 1/s\n",
    "\n",
    "Daca frecventa de esantionare este (fs)\n",
    "\n",
    "    1 / (2 * 3600)\n",
    "\n",
    ", iar frecventa semnalului este\n",
    "\n",
    "    1 / (24 * 3600) 1/s\n",
    "\n",
    "atunci\n",
    "\n",
    "    1 / (2 * 3600) > 2 / (24 * 3600)\n",
    "    1 / (2 * 3600) > 1 / (12 * 3600)\n",
    "\n",
    "\n",
    ",deci esantionarea din subpunctul precentent este corect in sensul teoremei Nyquist\n",
    "\n",
    "Intervalul de timp minim de timp la care trebuie masurata tempreatura a.i. sa indeplineasca criteriul de esantionare Nyquist este 12 * 3600 s, adica 12 ore"
   ],
   "metadata": {
    "collapsed": false
   }
  },
  {
   "cell_type": "markdown",
   "source": [
    "### Exercitiul 1 c"
   ],
   "metadata": {
    "collapsed": false
   }
  },
  {
   "cell_type": "code",
   "execution_count": 59,
   "outputs": [],
   "source": [
    "def sinTemp(ampli, freq, phase, time):\n",
    "    return ampli * np.sin(2 * np.pi * freq * time + phase)\n",
    "zile = 7\n",
    "t = np.linspace(0,zile * 24,zile * 12)\n",
    "\n",
    "plt.suptitle(\"Exercitiul 1 c\")\n",
    "plt.plot(t, sinTemp(1, 1 / 24, 0, t), '-o')\n",
    "plt.show()"
   ],
   "metadata": {
    "collapsed": false
   }
  },
  {
   "cell_type": "markdown",
   "source": [
    "### Exercitiul 1 d\n",
    "\n",
    "Pentru a ajunge din noua la aceeasi valoare din primul esantion, trebuie sa gasim urmatorul multiplu comun intre perioada de esantionare si frecventa semnalului\n",
    "\n",
    "    5 * 24 = 120 ore ( peste 5 zile )"
   ],
   "metadata": {
    "collapsed": false
   }
  }
 ],
 "metadata": {
  "kernelspec": {
   "display_name": "Python 3",
   "language": "python",
   "name": "python3"
  },
  "language_info": {
   "codemirror_mode": {
    "name": "ipython",
    "version": 2
   },
   "file_extension": ".py",
   "mimetype": "text/x-python",
   "name": "python",
   "nbconvert_exporter": "python",
   "pygments_lexer": "ipython2",
   "version": "2.7.6"
  }
 },
 "nbformat": 4,
 "nbformat_minor": 0
}
