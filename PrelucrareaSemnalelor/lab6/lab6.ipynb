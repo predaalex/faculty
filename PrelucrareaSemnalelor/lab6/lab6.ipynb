{
 "cells": [
  {
   "cell_type": "markdown",
   "source": [
    "### Laboratorul 6"
   ],
   "metadata": {
    "collapsed": false
   }
  },
  {
   "cell_type": "markdown",
   "source": [
    "### Imports"
   ],
   "metadata": {
    "collapsed": false
   }
  },
  {
   "cell_type": "code",
   "execution_count": 6,
   "metadata": {
    "collapsed": true
   },
   "outputs": [],
   "source": [
    "import math\n",
    "\n",
    "import numpy as np\n",
    "from scipy.io.wavfile import read\n",
    "from scipy.io.wavfile import write\n",
    "import matplotlib\n",
    "import sounddevice as sounddevice\n",
    "matplotlib.use('TkAgg')\n",
    "import matplotlib.pyplot as plt\n",
    "\n",
    "pi = np.pi"
   ]
  },
  {
   "cell_type": "markdown",
   "source": [
    "### Exercitiul 1"
   ],
   "metadata": {
    "collapsed": false
   }
  },
  {
   "cell_type": "code",
   "execution_count": null,
   "outputs": [],
   "source": [
    "def circle(t, omega, frecventa):\n",
    "    return f(t, frecventa) * math.e  ** ( (-2) * pi * 1j * t * omega)\n",
    "\n",
    "omega = 3\n",
    "amplitudine = 1\n",
    "faza = 0\n",
    "\n",
    "def f(t, frecventa):\n",
    "    return amplitudine * np.sin(2 * pi * t * frecventa + faza)\n",
    "\n",
    "values = np.linspace(0, 1, 1000)\n",
    "\n",
    "plt.title(\"Exercitiul 1\")\n",
    "plt.plot(circle(values, omega, 8).real, circle(values, omega, 8).imag)\n",
    "plt.show()"
   ],
   "metadata": {
    "collapsed": false
   }
  },
  {
   "cell_type": "markdown",
   "source": [
    "### Execitiul 2"
   ],
   "metadata": {
    "collapsed": false
   }
  },
  {
   "cell_type": "code",
   "execution_count": 14,
   "outputs": [],
   "source": [
    "x = []\n",
    "for omega in range(10):\n",
    "    x.append(np.sum(circle(values, omega, 3)) + np.sum(2 * circle(values, omega, 5)) + np.sum(6 * circle(values, omega, 7)))\n",
    "plt.title(\"Exercitiul 2\")\n",
    "plt.plot([hz for hz in range(10)], [abs(y) for y in x])\n",
    "plt.show()"
   ],
   "metadata": {
    "collapsed": false
   }
  }
 ],
 "metadata": {
  "kernelspec": {
   "display_name": "Python 3",
   "language": "python",
   "name": "python3"
  },
  "language_info": {
   "codemirror_mode": {
    "name": "ipython",
    "version": 2
   },
   "file_extension": ".py",
   "mimetype": "text/x-python",
   "name": "python",
   "nbconvert_exporter": "python",
   "pygments_lexer": "ipython2",
   "version": "2.7.6"
  }
 },
 "nbformat": 4,
 "nbformat_minor": 0
}
