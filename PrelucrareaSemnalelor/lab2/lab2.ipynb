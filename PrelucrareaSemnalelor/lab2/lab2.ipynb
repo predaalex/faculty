{
 "cells": [
  {
   "cell_type": "markdown",
   "source": [
    "### Laboratorul 2"
   ],
   "metadata": {
    "collapsed": false
   }
  },
  {
   "cell_type": "code",
   "execution_count": 10,
   "outputs": [],
   "source": [
    "# imports\n",
    "import scipy\n",
    "import numpy as np\n",
    "import matplotlib\n",
    "import sounddevice as sounddevice\n",
    "\n",
    "matplotlib.use('TkAgg')\n",
    "import matplotlib.pyplot as plt"
   ],
   "metadata": {
    "collapsed": false
   }
  },
  {
   "cell_type": "markdown",
   "source": [
    "### Write wav file"
   ],
   "metadata": {
    "collapsed": false
   }
  },
  {
   "cell_type": "code",
   "execution_count": 9,
   "outputs": [],
   "source": [
    "from scipy.io.wavfile import write\n",
    "\n",
    "wav_fname = \"example.wav\"\n",
    "\n",
    "samplerate = 44100; fs = 100\n",
    "t = np.linspace(0., 1., samplerate)\n",
    "amplitude = np.iinfo(np.int16).max\n",
    "data = amplitude * np.sin(2. * np.pi * fs * t)\n",
    "write(wav_fname, samplerate, data.astype(np.int16))"
   ],
   "metadata": {
    "collapsed": false
   }
  },
  {
   "cell_type": "markdown",
   "source": [
    "### Read + listen wav file"
   ],
   "metadata": {
    "collapsed": false
   }
  },
  {
   "cell_type": "code",
   "execution_count": 11,
   "outputs": [
    {
     "name": "stdout",
     "output_type": "stream",
     "text": [
      "number of channels = (44100,)\n",
      "length = 1.0s\n"
     ]
    }
   ],
   "source": [
    "from scipy.io.wavfile import read\n",
    "\n",
    "samplerate, data = read(wav_fname)\n",
    "print(f\"number of channels = {data.shape}\")\n",
    "length = data.shape[0] / samplerate\n",
    "print(f\"length = {length}s\")\n",
    "\n",
    "\n",
    "# time = np.linspace(0., length, data.shape[0])\n",
    "# plt.plot(time, data[:], label=\"Left channel\")\n",
    "# plt.plot(time, data[:, 1], label=\"Right channel\")\n",
    "# plt.legend()\n",
    "# plt.xlabel(\"Time [s]\")\n",
    "# plt.ylabel(\"Amplitude\")\n",
    "# plt.show()\n",
    "\n",
    "myarray = np.array(data[:])\n",
    "fs = 99900\n",
    "\n",
    "sounddevice.play(myarray, fs)\n",
    "status = sounddevice.wait()  # Wait until file is done playing\n"
   ],
   "metadata": {
    "collapsed": false
   }
  },
  {
   "cell_type": "markdown",
   "source": [
    "### Exercitiul 1"
   ],
   "metadata": {
    "collapsed": false
   }
  },
  {
   "cell_type": "code",
   "execution_count": 12,
   "outputs": [],
   "source": [
    "pi = np.pi\n",
    "\n",
    "def a(t):\n",
    "    return np.sin(2 * pi * t * 1 + 0)\n",
    "\n",
    "\n",
    "def b(t):\n",
    "    return np.cos(2 * pi * 1 * t - pi /2)\n",
    "\n",
    "t = np.linspace(0, 4, 6000)\n",
    "\n",
    "fix, axs = plt.subplots(2)\n",
    "fix.suptitle(\"exercitiul 1\")\n",
    "\n",
    "axs[0].plot(t, a(t), color=\"red\")\n",
    "axs[1].plot(t, b(t), color=\"blue\")\n",
    "\n",
    "plt.show()"
   ],
   "metadata": {
    "collapsed": false
   }
  },
  {
   "cell_type": "markdown",
   "source": [
    "### Exercitiul 2"
   ],
   "metadata": {
    "collapsed": false
   }
  },
  {
   "cell_type": "code",
   "execution_count": 13,
   "outputs": [],
   "source": [
    "values = np.linspace(0, 3, 600)\n",
    "\n",
    "def a(t, teta):\n",
    "    return np.sin(2 * pi * t * 1 + teta)\n",
    "\n",
    "plt.title(\"exercitiul 2\")\n",
    "plt.plot(values, a(values, 0), color=\"red\")\n",
    "plt.plot(values, a(values, pi / 6), color='black')\n",
    "plt.plot(values, a(values, pi / 4), color='blue')\n",
    "plt.plot(values, a(values, pi / 2), color='brown')\n",
    "\n",
    "plt.show()\n"
   ],
   "metadata": {
    "collapsed": false
   }
  },
  {
   "cell_type": "markdown",
   "source": [
    "### Exercitiul 3"
   ],
   "metadata": {
    "collapsed": false
   }
  },
  {
   "cell_type": "code",
   "execution_count": 14,
   "outputs": [],
   "source": [
    "from scipy import signal\n",
    "\n",
    "samplerate = 44100\n",
    "\n",
    "### 2 a\n",
    "def a(t):\n",
    "    return np.sin(400 * pi * t + 0)\n",
    "\n",
    "t = np.linspace(0, 0.01, samplerate)\n",
    "\n",
    "sounddevice.play(a(t), samplerate)\n",
    "sounddevice.wait()\n",
    "write(\"2a.wav\", samplerate, a(t))\n",
    "\n",
    "### 2 b\n",
    "t = np.linspace(0, 1, samplerate)\n",
    "\n",
    "def b(t):\n",
    "    return np.sin(800 * pi * t + 0)\n",
    "\n",
    "sounddevice.play(b(t), samplerate)\n",
    "sounddevice.wait()\n",
    "write(\"2b.wav\", samplerate, b(t))\n",
    "\n",
    "### 2 c\n",
    "t = np.linspace(0, 1, samplerate)\n",
    "\n",
    "def c(t):\n",
    "    return signal.sawtooth(2 * pi * 5 * t)\n",
    "\n",
    "sounddevice.play(c(t), samplerate)\n",
    "sounddevice.wait()\n",
    "write(\"2c.wav\", samplerate, c(t))\n",
    "\n",
    "### 2 d\n",
    "t = np.linspace(0, 1, samplerate)\n",
    "\n",
    "def d(t):\n",
    "    return signal.square(2 * pi * 5 * t)\n",
    "\n",
    "sounddevice.play(d(t), samplerate)\n",
    "sounddevice.wait()\n",
    "write(\"2d.wav\", samplerate, d(t))"
   ],
   "metadata": {
    "collapsed": false
   }
  },
  {
   "cell_type": "markdown",
   "source": [
    "### Exercitiul 4"
   ],
   "metadata": {
    "collapsed": false
   }
  },
  {
   "cell_type": "code",
   "execution_count": 33,
   "outputs": [],
   "source": [
    "t = np.linspace(0, 1, 1000)\n",
    "\n",
    "def sinusoidal(t):\n",
    "    return np.sin(10 * pi * t + 0)\n",
    "\n",
    "def sawtooth(t):\n",
    "    return signal.sawtooth(10 * pi * t + 0)\n",
    "\n",
    "fix, axs = plt.subplots(3)\n",
    "fix.suptitle(\"Exercitiul 4\")\n",
    "\n",
    "axs[0].plot(t, sinusoidal(t))\n",
    "axs[1].plot(t, sawtooth(t))\n",
    "axs[2].plot(t, sawtooth(t) + sinusoidal(t))\n",
    "\n",
    "plt.show()"
   ],
   "metadata": {
    "collapsed": false
   }
  },
  {
   "cell_type": "markdown",
   "source": [
    "### Execitiul 5"
   ],
   "metadata": {
    "collapsed": false
   }
  },
  {
   "cell_type": "code",
   "execution_count": 69,
   "outputs": [],
   "source": [
    "t = np.linspace(0, 16, 100000)\n",
    "\n",
    "def x(t):\n",
    "    return np.sin(4 * pi * t + 0)\n",
    "\n",
    "def y(t):\n",
    "    return np.sin(4 * pi * 4 * t + 0)\n",
    "\n",
    "concatSignal = np.concatenate((x(t),y(t)))\n",
    "\n",
    "sounddevice.play(concatSignal, 44100)\n",
    "sounddevice.wait()"
   ],
   "metadata": {
    "collapsed": false
   }
  },
  {
   "cell_type": "markdown",
   "source": [
    "### Execitiul 6"
   ],
   "metadata": {
    "collapsed": false
   }
  },
  {
   "cell_type": "code",
   "execution_count": 17,
   "outputs": [],
   "source": [
    "def x(t):\n",
    "    return np.sin(2 * np.pi * 50 * t)\n",
    "\n",
    "\n",
    "def y(t):\n",
    "    return np.sin(2 * np.pi * 25 * t)\n",
    "\n",
    "\n",
    "def z(t):\n",
    "    return np.sin(2 * np.pi * 0 * t)\n",
    "\n",
    "values = np.linspace(0, 2, 200)\n",
    "\n",
    "fix, axs = plt.subplots(3)\n",
    "fix.suptitle(\"Exercitiul 6\")\n",
    "\n",
    "axs[0].plot(values, x(values))\n",
    "axs[1].plot(values, y(values))\n",
    "axs[2].plot(values, z(values))\n",
    "\n",
    "plt.show()"
   ],
   "metadata": {
    "collapsed": false
   }
  },
  {
   "cell_type": "markdown",
   "source": [
    "### Exercitiul 7"
   ],
   "metadata": {
    "collapsed": false
   }
  },
  {
   "cell_type": "code",
   "execution_count": 29,
   "outputs": [],
   "source": [
    "tInitial = np.linspace(0, 1, 1000)\n",
    "\n",
    "ta = []\n",
    "for i in range(tInitial.size):\n",
    "    if i % 4 == 3:\n",
    "        ta.append(tInitial[i])\n",
    "ta = np.array(ta)\n",
    "tb = []\n",
    "for i in range(0, tInitial.size):\n",
    "    if i % 4 == 1:\n",
    "        tb.append(tInitial[i])\n",
    "tb = np.array(tb)\n",
    "def f(t):\n",
    "    return np.sin(8 * pi * t + 0)\n",
    "\n",
    "fig, axs = plt.subplots(3)\n",
    "fig.suptitle(\"Exercitiul 7\")\n",
    "axs[0].plot(tInitial, f(tInitial))\n",
    "axs[1].plot(ta, f(ta))\n",
    "axs[2].plot(tb, f(tb))\n",
    "plt.show()"
   ],
   "metadata": {
    "collapsed": false
   }
  },
  {
   "cell_type": "markdown",
   "source": [
    "### Exercitiul 8"
   ],
   "metadata": {
    "collapsed": false
   }
  },
  {
   "cell_type": "code",
   "execution_count": null,
   "outputs": [],
   "source": [
    "\n",
    "values = np.linspace(-np.pi / 2, np.pi / 2, 6320)\n",
    "fix, axs = plt.subplots(2)\n",
    "fix.suptitle(\"Exercitiul 8\")\n",
    "axs[0].plot(values, np.sin(values))\n",
    "axs[1].plot(values, values)\n",
    "\n",
    "plt.show()"
   ],
   "metadata": {
    "collapsed": false
   }
  }
 ],
 "metadata": {
  "kernelspec": {
   "display_name": "Python 3",
   "language": "python",
   "name": "python3"
  },
  "language_info": {
   "codemirror_mode": {
    "name": "ipython",
    "version": 2
   },
   "file_extension": ".py",
   "mimetype": "text/x-python",
   "name": "python",
   "nbconvert_exporter": "python",
   "pygments_lexer": "ipython2",
   "version": "2.7.6"
  }
 },
 "nbformat": 4,
 "nbformat_minor": 0
}
