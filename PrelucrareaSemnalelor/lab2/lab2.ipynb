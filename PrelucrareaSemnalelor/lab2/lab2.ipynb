{
 "cells": [
  {
   "cell_type": "markdown",
   "source": [
    "### Laboratorul 2"
   ],
   "metadata": {
    "collapsed": false
   }
  },
  {
   "cell_type": "code",
   "execution_count": 26,
   "outputs": [],
   "source": [
    "# imports\n",
    "import scipy\n",
    "import numpy as np\n",
    "import matplotlib\n",
    "import sounddevice as sounddevice\n",
    "\n",
    "matplotlib.use('TkAgg')\n",
    "import matplotlib.pyplot as plt"
   ],
   "metadata": {
    "collapsed": false
   }
  },
  {
   "cell_type": "markdown",
   "source": [
    "### Write wav file"
   ],
   "metadata": {
    "collapsed": false
   }
  },
  {
   "cell_type": "code",
   "execution_count": 25,
   "outputs": [],
   "source": [
    "from scipy.io.wavfile import write\n",
    "\n",
    "wav_fname = \"example.wav\"\n",
    "\n",
    "samplerate = 44100; fs = 100\n",
    "t = np.linspace(0., 1., samplerate)\n",
    "amplitude = np.iinfo(np.int16).max\n",
    "data = amplitude * np.sin(2. * np.pi * fs * t)\n",
    "write(wav_fname, samplerate, data.astype(np.int16))"
   ],
   "metadata": {
    "collapsed": false
   }
  },
  {
   "cell_type": "markdown",
   "source": [
    "### Read + listen wav file"
   ],
   "metadata": {
    "collapsed": false
   }
  },
  {
   "cell_type": "code",
   "execution_count": 27,
   "outputs": [
    {
     "name": "stdout",
     "output_type": "stream",
     "text": [
      "number of channels = (44100,)\n",
      "length = 1.0s\n"
     ]
    }
   ],
   "source": [
    "from scipy.io.wavfile import read\n",
    "\n",
    "samplerate, data = read(wav_fname)\n",
    "print(f\"number of channels = {data.shape}\")\n",
    "length = data.shape[0] / samplerate\n",
    "print(f\"length = {length}s\")\n",
    "\n",
    "\n",
    "time = np.linspace(0., length, data.shape[0])\n",
    "# plt.plot(time, data[:], label=\"Left channel\")\n",
    "# # plt.plot(time, data[:, 1], label=\"Right channel\")\n",
    "# plt.legend()\n",
    "# plt.xlabel(\"Time [s]\")\n",
    "# plt.ylabel(\"Amplitude\")\n",
    "# plt.show()\n",
    "\n",
    "myarray = np.array(data[:])\n",
    "fs = 99900\n",
    "\n",
    "sounddevice.play(myarray, fs)\n",
    "status = sounddevice.wait()  # Wait until file is done playing\n"
   ],
   "metadata": {
    "collapsed": false
   }
  },
  {
   "cell_type": "markdown",
   "source": [
    "### Exercitiul 1"
   ],
   "metadata": {
    "collapsed": false
   }
  },
  {
   "cell_type": "code",
   "execution_count": 28,
   "outputs": [],
   "source": [
    "pi = np.pi\n",
    "\n",
    "def a(t):\n",
    "    return np.sin(2 * pi * t * 1 + 0)\n",
    "\n",
    "\n",
    "def b(t):\n",
    "    return np.cos(2 * pi * 1 * t - pi /2)\n",
    "\n",
    "t = np.linspace(0, 4, 6000)\n",
    "\n",
    "fix, axs = plt.subplots(2)\n",
    "fix.suptitle(\"exercitiul 1\")\n",
    "\n",
    "axs[0].plot(t, a(t), color=\"red\")\n",
    "axs[1].plot(t, b(t), color=\"blue\")\n",
    "\n",
    "plt.show()"
   ],
   "metadata": {
    "collapsed": false
   }
  },
  {
   "cell_type": "markdown",
   "source": [
    "### Exercitiul 2"
   ],
   "metadata": {
    "collapsed": false
   }
  },
  {
   "cell_type": "code",
   "execution_count": 32,
   "outputs": [],
   "source": [
    "values = np.linspace(0, 3, 600)\n",
    "\n",
    "def a(t, teta):\n",
    "    return np.sin(2 * pi * t * 1 + teta)\n",
    "\n",
    "plt.title(\"exercitiul 2\")\n",
    "plt.plot(values, a(values, 0), color=\"red\")\n",
    "plt.plot(values, a(values, pi / 6), color='black')\n",
    "plt.plot(values, a(values, pi / 4), color='blue')\n",
    "plt.plot(values, a(values, pi / 2), color='brown')\n",
    "\n",
    "plt.show()\n"
   ],
   "metadata": {
    "collapsed": false
   }
  },
  {
   "cell_type": "markdown",
   "source": [
    "### Exercitiul 3"
   ],
   "metadata": {
    "collapsed": false
   }
  },
  {
   "cell_type": "code",
   "execution_count": 45,
   "outputs": [],
   "source": [
    "### 2 a\n",
    "t = np.linspace(0, 4, 1600)\n",
    "\n",
    "def a(t):\n",
    "    return np.sin( 400 * 2 * pi * t + 0)\n",
    "\n",
    "samplerate = 44100\n",
    "### 2 a\n",
    "t = np.linspace(0, 0.01, samplerate)\n",
    "\n",
    "sounddevice.play(a(t), samplerate)\n",
    "\n"
   ],
   "metadata": {
    "collapsed": false
   }
  },
  {
   "cell_type": "markdown",
   "source": [],
   "metadata": {
    "collapsed": false
   }
  }
 ],
 "metadata": {
  "kernelspec": {
   "display_name": "Python 3",
   "language": "python",
   "name": "python3"
  },
  "language_info": {
   "codemirror_mode": {
    "name": "ipython",
    "version": 2
   },
   "file_extension": ".py",
   "mimetype": "text/x-python",
   "name": "python",
   "nbconvert_exporter": "python",
   "pygments_lexer": "ipython2",
   "version": "2.7.6"
  }
 },
 "nbformat": 4,
 "nbformat_minor": 0
}
